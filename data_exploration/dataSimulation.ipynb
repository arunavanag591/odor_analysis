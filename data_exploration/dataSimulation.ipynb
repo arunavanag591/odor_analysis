{
 "cells": [
  {
   "cell_type": "markdown",
   "metadata": {},
   "source": [
    "## Particle within radius or overlap calculations"
   ]
  },
  {
   "cell_type": "code",
   "execution_count": 6,
   "metadata": {},
   "outputs": [],
   "source": [
    "#dataframes\n",
    "import pandas as pd\n",
    "import h5py\n",
    "\n",
    "#suppress warnings\n",
    "import warnings\n",
    "warnings.simplefilter(action='ignore', category=FutureWarning)\n",
    "pd.TimeSeries = pd.Series \n",
    "\n",
    "#math\n",
    "import numpy as np\n",
    "import math as m\n",
    "from scipy.spatial.distance import cdist\n",
    "from scipy.stats import binned_statistic_2d as bsd\n",
    "\n",
    "#plots\n",
    "import pylab as plt\n",
    "import matplotlib.pyplot as plt\n",
    "from mpl_toolkits.axes_grid1 import make_axes_locatable # for colorbar\n",
    "import seaborn as sns\n",
    "import figurefirst\n",
    "sns.set()\n",
    "sns.set_style(\"whitegrid\", {'axes.grid' : False})\n",
    "\n",
    "#misc\n",
    "import time\n",
    "np.set_printoptions(suppress=True)"
   ]
  },
  {
   "cell_type": "code",
   "execution_count": 11,
   "metadata": {},
   "outputs": [],
   "source": [
    "def get_particle_statistics(x,y,wind_speed):\n",
    "    x,y= np.array([x,y]).astype(int)\n",
    "    if (wind_speed <= 3):\n",
    "        log_whiff = LW1[y][x]\n",
    "        ef = LW2[y][x]\n",
    "        ma = LW3[y][x]\n",
    "        return log_whiff, ef, ma\n",
    "    else:\n",
    "        log_whiff = HW1[y][x]\n",
    "        ef = HW2[y][x]\n",
    "        ma = HW3[y][x]\n",
    "        return log_whiff, ef, ma\n",
    "        "
   ]
  },
  {
   "cell_type": "code",
   "execution_count": 8,
   "metadata": {},
   "outputs": [],
   "source": [
    "def condition_plot(ax):\n",
    "    ax.spines['right'].set_visible(False)\n",
    "    ax.spines['top'].set_visible(False)\n",
    "    ax.xaxis.set_major_locator(plt.MaxNLocator(3))\n",
    "    ax.yaxis.set_major_locator(plt.MaxNLocator(3))\n",
    "def remove_tick_labels(ax):\n",
    "    ax.spines['left'].set_visible(False)\n",
    "    ax.tick_params(left=False, labelleft=False)"
   ]
  },
  {
   "cell_type": "code",
   "execution_count": 9,
   "metadata": {},
   "outputs": [],
   "source": [
    "dir = '~/Documents/Myfiles/DataAnalysis/data/Sprints/HighRes/'\n",
    "df = pd.read_hdf(dir+'NotWindy/HWStats.h5')"
   ]
  },
  {
   "cell_type": "code",
   "execution_count": 15,
   "metadata": {},
   "outputs": [],
   "source": [
    "x = np.linspace(0,40,41)\n",
    "y = np.linspace(0,25,26)\n",
    "\n",
    "## Whiff Duration\n",
    "LW1 , x1, y1, binno1 = bsd(df.avg_dist_from_source, df.avg_dist_from_streakline, df.log_whiff, \n",
    "                       statistic = 'mean', bins=(x,y), expand_binnumbers=True)\n",
    "## Encounter Frequency\n",
    "LW2 , x2, y2, binno2 = bsd(df.avg_dist_from_source, df.avg_dist_from_streakline, df.mean_encounter_frequency, \n",
    "                       statistic = 'mean', bins=(x,y), expand_binnumbers=True)\n",
    "## Moving Avg\n",
    "LW3 , x3, y3, binno3 = bsd(df.avg_dist_from_source, df.avg_dist_from_streakline, df.mean_ma, \n",
    "                       statistic = 'mean', bins=(x,y), expand_binnumbers=True)\n",
    "\n",
    "\n",
    "LW1 = LW1.T\n",
    "# LW1[np.isnan(LW1)] = 0\n",
    "LW2 = LW2.T\n",
    "# LW2[np.isnan(LW2)] = 0\n",
    "LW3 = LW3.T\n",
    "# LW3[np.isnan(LW3)] = 0"
   ]
  },
  {
   "cell_type": "code",
   "execution_count": 14,
   "metadata": {},
   "outputs": [
    {
     "data": {
      "text/plain": [
       "(-0.9772789057803518, 2.0433124578276765, 60.722254638716414)"
      ]
     },
     "execution_count": 14,
     "metadata": {},
     "output_type": "execute_result"
    }
   ],
   "source": [
    "get_particle_statistics(0,0,2)"
   ]
  },
  {
   "cell_type": "code",
   "execution_count": 123,
   "metadata": {},
   "outputs": [
    {
     "data": {
      "text/plain": [
       "-1.6854774437205198"
      ]
     },
     "execution_count": 123,
     "metadata": {},
     "output_type": "execute_result"
    }
   ],
   "source": [
    "## test\n",
    "# idx = np.where((df.avg_dist_from_source >=3)& (df.avg_dist_from_source<=4) & \n",
    "#               (df.avg_dist_from_streakline>=0) & (df.avg_dist_from_streakline <=1)) \n",
    "# np.mean(df.log_whiff.loc[idx])\n",
    "\n",
    "# x,y= np.array([3,0]).astype(int)\n",
    "# LW1[y][x]"
   ]
  },
  {
   "cell_type": "code",
   "execution_count": 16,
   "metadata": {
    "scrolled": true
   },
   "outputs": [
    {
     "data": {
      "image/png": "[encoded data removed]",
      "text/plain": [
       "<Figure size 1008x720 with 3 Axes>"
      ]
     },
     "metadata": {},
     "output_type": "display_data"
    }
   ],
   "source": [
    "f, (ax1,ax2,ax3) = plt.subplots(1,3, figsize =(14,10))\n",
    "extent=[x1[0], x1[-1], y1[0], y1[-1]]\n",
    "\n",
    "ax1.imshow(LW1, interpolation='nearest', origin='lower',cmap = 'cividis')\n",
    "ax2.imshow(LW2, interpolation='nearest', origin='lower',cmap = 'cividis')\n",
    "ax3.imshow(LW3, interpolation='nearest', origin='lower',cmap = 'cividis')\n",
    "\n",
    "ax1.set_ylabel('Distance from\\nStreakline (m)' , fontsize = 13, rotation = 0, color = 'blue')\n",
    "ax1.title.set_text('Whiff Duration')\n",
    "ax1.yaxis.set_label_coords(-0.3, 0.25)\n",
    "ax2.set_xlabel('Distance From Source (m)' , fontsize = 13, color='blue')\n",
    "ax2.title.set_text('Encounter Frequency')\n",
    "ax3.title.set_text('Moving Average')\n",
    "\n",
    "condition_plot(ax1)\n",
    "condition_plot(ax2)\n",
    "remove_tick_labels(ax2)\n",
    "condition_plot(ax3)\n",
    "remove_tick_labels(ax3)\n",
    "\n",
    "figurefirst.mpl_functions.set_fontsize(f, 16)\n",
    "f.tight_layout()\n",
    "\n",
    "f.savefig('../../Figure/OS_LW.jpeg') "
   ]
  },
  {
   "cell_type": "code",
   "execution_count": null,
   "metadata": {},
   "outputs": [],
   "source": []
  }
 ],
 "metadata": {
  "kernelspec": {
   "display_name": "Python 3",
   "language": "python",
   "name": "python3"
  },
  "language_info": {
   "codemirror_mode": {
    "name": "ipython",
    "version": 3
   },
   "file_extension": ".py",
   "mimetype": "text/x-python",
   "name": "python",
   "nbconvert_exporter": "python",
   "pygments_lexer": "ipython3",
   "version": "3.8.7"
  }
 },
 "nbformat": 4,
 "nbformat_minor": 4
}
