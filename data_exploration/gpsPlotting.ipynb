{
 "cells": [
  {
   "cell_type": "markdown",
   "metadata": {},
   "source": [
    "## GPS Data Plotting and Measurements"
   ]
  },
  {
   "cell_type": "code",
   "execution_count": 1,
   "metadata": {},
   "outputs": [],
   "source": [
    "import ipynb.fs.full.helper as hp\n",
    "# For reading the data\n",
    "import pandas as pd\n",
    "import os\n",
    "import numpy as np\n",
    "import math\n",
    "\n",
    "# General plotting commands\n",
    "from matplotlib.path import Path\n",
    "import matplotlib.pyplot as plt\n",
    "\n",
    "# pip install numpy --upgradea\n",
    "import cartopy.crs as ccrs\n",
    "from cartopy.io.img_tiles import Stamen\n",
    "from cartopy.io.img_tiles import GoogleTiles"
   ]
  },
  {
   "cell_type": "code",
   "execution_count": 2,
   "metadata": {},
   "outputs": [
    {
     "data": {
      "text/html": [
       "<div>\n",
       "<style scoped>\n",
       "    .dataframe tbody tr th:only-of-type {\n",
       "        vertical-align: middle;\n",
       "    }\n",
       "\n",
       "    .dataframe tbody tr th {\n",
       "        vertical-align: top;\n",
       "    }\n",
       "\n",
       "    .dataframe thead th {\n",
       "        text-align: right;\n",
       "    }\n",
       "</style>\n",
       "<table border=\"1\" class=\"dataframe\">\n",
       "  <thead>\n",
       "    <tr style=\"text-align: right;\">\n",
       "      <th></th>\n",
       "      <th>master_time</th>\n",
       "      <th>odor</th>\n",
       "      <th>trisonica_U</th>\n",
       "      <th>trisonica_V</th>\n",
       "      <th>lat</th>\n",
       "      <th>lon</th>\n",
       "    </tr>\n",
       "  </thead>\n",
       "  <tbody>\n",
       "    <tr>\n",
       "      <th>0</th>\n",
       "      <td>1.603221e+09</td>\n",
       "      <td>0.634854</td>\n",
       "      <td>0.280000</td>\n",
       "      <td>1.160000</td>\n",
       "      <td>40.793749</td>\n",
       "      <td>-119.157556</td>\n",
       "    </tr>\n",
       "    <tr>\n",
       "      <th>1</th>\n",
       "      <td>1.603221e+09</td>\n",
       "      <td>0.635494</td>\n",
       "      <td>0.289993</td>\n",
       "      <td>1.160000</td>\n",
       "      <td>40.793749</td>\n",
       "      <td>-119.157556</td>\n",
       "    </tr>\n",
       "    <tr>\n",
       "      <th>2</th>\n",
       "      <td>1.603221e+09</td>\n",
       "      <td>0.635827</td>\n",
       "      <td>0.299985</td>\n",
       "      <td>1.160000</td>\n",
       "      <td>40.793749</td>\n",
       "      <td>-119.157556</td>\n",
       "    </tr>\n",
       "    <tr>\n",
       "      <th>3</th>\n",
       "      <td>1.603221e+09</td>\n",
       "      <td>0.635718</td>\n",
       "      <td>0.309978</td>\n",
       "      <td>1.160000</td>\n",
       "      <td>40.793749</td>\n",
       "      <td>-119.157556</td>\n",
       "    </tr>\n",
       "    <tr>\n",
       "      <th>4</th>\n",
       "      <td>1.603221e+09</td>\n",
       "      <td>0.635305</td>\n",
       "      <td>0.319970</td>\n",
       "      <td>1.160000</td>\n",
       "      <td>40.793749</td>\n",
       "      <td>-119.157556</td>\n",
       "    </tr>\n",
       "    <tr>\n",
       "      <th>...</th>\n",
       "      <td>...</td>\n",
       "      <td>...</td>\n",
       "      <td>...</td>\n",
       "      <td>...</td>\n",
       "      <td>...</td>\n",
       "      <td>...</td>\n",
       "    </tr>\n",
       "    <tr>\n",
       "      <th>59757</th>\n",
       "      <td>1.603221e+09</td>\n",
       "      <td>0.591438</td>\n",
       "      <td>1.333149</td>\n",
       "      <td>-1.755375</td>\n",
       "      <td>40.793697</td>\n",
       "      <td>-119.157631</td>\n",
       "    </tr>\n",
       "    <tr>\n",
       "      <th>59758</th>\n",
       "      <td>1.603221e+09</td>\n",
       "      <td>0.589259</td>\n",
       "      <td>1.496149</td>\n",
       "      <td>-1.733239</td>\n",
       "      <td>40.793697</td>\n",
       "      <td>-119.157631</td>\n",
       "    </tr>\n",
       "    <tr>\n",
       "      <th>59759</th>\n",
       "      <td>1.603221e+09</td>\n",
       "      <td>0.589552</td>\n",
       "      <td>1.331477</td>\n",
       "      <td>-1.796238</td>\n",
       "      <td>40.793697</td>\n",
       "      <td>-119.157631</td>\n",
       "    </tr>\n",
       "    <tr>\n",
       "      <th>59760</th>\n",
       "      <td>1.603221e+09</td>\n",
       "      <td>0.590273</td>\n",
       "      <td>1.110641</td>\n",
       "      <td>-1.873829</td>\n",
       "      <td>40.793697</td>\n",
       "      <td>-119.157631</td>\n",
       "    </tr>\n",
       "    <tr>\n",
       "      <th>59761</th>\n",
       "      <td>1.603221e+09</td>\n",
       "      <td>0.590885</td>\n",
       "      <td>0.889804</td>\n",
       "      <td>-1.951420</td>\n",
       "      <td>40.793697</td>\n",
       "      <td>-119.157631</td>\n",
       "    </tr>\n",
       "  </tbody>\n",
       "</table>\n",
       "<p>59762 rows × 6 columns</p>\n",
       "</div>"
      ],
      "text/plain": [
       "        master_time      odor  trisonica_U  trisonica_V        lat         lon\n",
       "0      1.603221e+09  0.634854     0.280000     1.160000  40.793749 -119.157556\n",
       "1      1.603221e+09  0.635494     0.289993     1.160000  40.793749 -119.157556\n",
       "2      1.603221e+09  0.635827     0.299985     1.160000  40.793749 -119.157556\n",
       "3      1.603221e+09  0.635718     0.309978     1.160000  40.793749 -119.157556\n",
       "4      1.603221e+09  0.635305     0.319970     1.160000  40.793749 -119.157556\n",
       "...             ...       ...          ...          ...        ...         ...\n",
       "59757  1.603221e+09  0.591438     1.333149    -1.755375  40.793697 -119.157631\n",
       "59758  1.603221e+09  0.589259     1.496149    -1.733239  40.793697 -119.157631\n",
       "59759  1.603221e+09  0.589552     1.331477    -1.796238  40.793697 -119.157631\n",
       "59760  1.603221e+09  0.590273     1.110641    -1.873829  40.793697 -119.157631\n",
       "59761  1.603221e+09  0.590885     0.889804    -1.951420  40.793697 -119.157631\n",
       "\n",
       "[59762 rows x 6 columns]"
      ]
     },
     "execution_count": 2,
     "metadata": {},
     "output_type": "execute_result"
    }
   ],
   "source": [
    "df = pd.read_hdf(\"~/data/DesertDataOct/Run02/Interpolated_0.h5\") #load_GPS_directory_to_pandas('.')\n",
    "df\n"
   ]
  },
  {
   "cell_type": "code",
   "execution_count": 3,
   "metadata": {},
   "outputs": [
    {
     "data": {
      "text/plain": [
       "Text(0, 0.5, 'Latitude')"
      ]
     },
     "execution_count": 3,
     "metadata": {},
     "output_type": "execute_result"
    },
    {
     "data": {
      "image/png": "[encoded data removed]",
      "text/plain": [
       "<Figure size 432x288 with 1 Axes>"
      ]
     },
     "metadata": {
      "needs_background": "light"
     },
     "output_type": "display_data"
    }
   ],
   "source": [
    "fig = plt.figure()\n",
    "\n",
    "ax = fig.add_subplot(111)\n",
    "\n",
    "ax.plot(df.lon, df.lat)\n",
    "ax.set_xlabel('Longitude')\n",
    "ax.set_ylabel('Latitude')\n"
   ]
  },
  {
   "cell_type": "code",
   "execution_count": 4,
   "metadata": {},
   "outputs": [
    {
     "name": "stdout",
     "output_type": "stream",
     "text": [
      "meanLatitude:40.793729\n",
      "meanLongitude:-119.157649\n",
      "minvaluelong:-119.157830\n",
      "maxvaluelong:-119.157549\n",
      "minvaluelat:40.793620\n",
      "maxvaluelat:40.793792\n"
     ]
    }
   ],
   "source": [
    "mean_latitude = df.lat.mean()\n",
    "mean_longitude= df.lon.mean()\n",
    "minValueLong = df.lon.min()\n",
    "maxValueLong = df.lon.max()\n",
    "minValueLat = df.lat.min()\n",
    "maxValueLat = df.lat.max()\n",
    "print(\"meanLatitude:%.6f\" %mean_latitude)\n",
    "print(\"meanLongitude:%.6f\" %mean_longitude)\n",
    "print(\"minvaluelong:%.6f\" %minValueLong)\n",
    "print(\"maxvaluelong:%.6f\" %maxValueLong)\n",
    "print(\"minvaluelat:%.6f\" %minValueLat)\n",
    "print(\"maxvaluelat:%.6f\" %maxValueLat)"
   ]
  },
  {
   "cell_type": "code",
   "execution_count": null,
   "metadata": {},
   "outputs": [],
   "source": [
    "# Terrain Tiles from Stamen\n",
    "\n",
    "# Define image tiles\n",
    "tiler = Stamen('terrain')\n",
    "mercator = tiler.crs\n",
    "\n",
    "# Create figure\n",
    "fig = plt.figure(figsize=(10,10))\n",
    "ax = fig.add_subplot(1, 1, 1, projection=mercator)\n",
    "\n",
    "# Define the GPS window\n",
    "ax.set_extent([-119.1570, -119.1580, 40.7925, 40.7940],crs=ccrs.PlateCarree())\n",
    "\n",
    "# Download images with resolution\n",
    "resolution =12\n",
    "ax.add_image(tiler, resolution)\n",
    "\n",
    "# Plot the GPS tracks\n",
    "ax.scatter(df.lon, df.lat, c= df.lon, cmap='magma', transform=ccrs.PlateCarree())"
   ]
  },
  {
   "cell_type": "code",
   "execution_count": null,
   "metadata": {},
   "outputs": [
    {
     "data": {
      "text/plain": [
       "<matplotlib.collections.PathCollection at 0x7fb4b3150240>"
      ]
     },
     "execution_count": 6,
     "metadata": {},
     "output_type": "execute_result"
    }
   ],
   "source": [
    "# Satellite Tiles from Google\n",
    "\n",
    "# Define image tiles\n",
    "tiler = GoogleTiles(style='satellite')\n",
    "mercator = tiler.crs\n",
    "\n",
    "# Create figure\n",
    "fig = plt.figure(figsize=(10,10))\n",
    "ax = fig.add_subplot(1, 1, 1, projection=mercator)\n",
    "\n",
    "# Define the GPS window\n",
    "ax.set_extent([-119.8204, 39.6760, -119.8208, 39.6770],crs=ccrs.PlateCarree())\n",
    "\n",
    "# Download images with resolution\n",
    "resolution = 18\n",
    "ax.add_image(tiler, resolution)\n",
    "\n",
    "# Plot the GPS tracks\n",
    "ax.scatter(df[\"field.longitude\"], df[\"field.latitude\"], c=df[\"field.longitude\"], cmap='magma', transform=ccrs.PlateCarree())"
   ]
  },
  {
   "cell_type": "code",
   "execution_count": null,
   "metadata": {},
   "outputs": [],
   "source": [
    "# Street Tiles from Google\n",
    "\n",
    "# Define image tiles\n",
    "tiler = GoogleTiles(style='street')\n",
    "mercator = tiler.crs\n",
    "\n",
    "# Create figure\n",
    "fig = plt.figure(figsize=(10,10))\n",
    "ax = fig.add_subplot(1, 1, 1, projection=mercator)\n",
    "\n",
    "# Define the GPS window\n",
    "ax.set_extent([-119.82060, -119.8208, 39.67650, 39.67690], crs=ccrs.PlateCarree())\n",
    "\n",
    "# Download images with resolution\n",
    "resolution = 18\n",
    "ax.add_image(tiler, resolution)\n",
    "\n",
    "# Plot the GPS tracks\n",
    "ax.scatter(df[\"field.longitude\"], df[\"field.latitude\"], c=df[\"field.longitude\"], cmap='magma', transform=ccrs.PlateCarree())"
   ]
  },
  {
   "cell_type": "markdown",
   "metadata": {},
   "source": [
    "### Measuring Distance"
   ]
  },
  {
   "cell_type": "code",
   "execution_count": null,
   "metadata": {},
   "outputs": [],
   "source": [
    "def calculate_dst(origin, destination):\n",
    "    lat1, lon1 = origin\n",
    "    lat2, lon2 = destination\n",
    "    radius = 6371 * 1000 # meters\n",
    "\n",
    "    dlat = math.radians(lat2-lat1)\n",
    "    dlon = math.radians(lon2-lon1)\n",
    "    a = math.sin(dlat/2) **2 + math.cos(math.radians(lat1)) \\\n",
    "        * math.cos(math.radians(lat2)) * math.sin(dlon/2) **2\n",
    "    c = 2 * math.atan2(math.sqrt(a), math.sqrt(1-a))\n",
    "    d = radius * c\n",
    "\n",
    "    return d"
   ]
  },
  {
   "cell_type": "code",
   "execution_count": null,
   "metadata": {},
   "outputs": [],
   "source": [
    "#10cm\n",
    "lat1 = 39.5394048; lat2 = 39.5394114; long1 = -119.8130651; long2 = -119.8130529\n",
    "print( calculate_dst((lat1, long1), (lat2, long2)) )"
   ]
  },
  {
   "cell_type": "code",
   "execution_count": 6,
   "metadata": {},
   "outputs": [
    {
     "name": "stdout",
     "output_type": "stream",
     "text": [
      "0.042124771529315624\n"
     ]
    }
   ],
   "source": [
    "from geopy import distance\n",
    "\n",
    "coords_1 = (39.5396558, -119.8123645)\n",
    "coords_2 = (39.5396561,-119.8123642)\n",
    "\n",
    "print (distance.distance(coords_1, coords_2).m)"
   ]
  },
  {
   "cell_type": "code",
   "execution_count": null,
   "metadata": {},
   "outputs": [],
   "source": [
    "#5cm\n",
    "lat1 = 39.5394067; lat2 = 39.5394074; long1 = -119.8130486; long2 = -119.8130529\n",
    "print(calculate_dst((lat1, long1), (lat2, long2)) )"
   ]
  },
  {
   "cell_type": "code",
   "execution_count": null,
   "metadata": {},
   "outputs": [],
   "source": [
    "#2cm\n",
    "lat1 = 39.5394021; lat2 = 39.5394045; long1 = -119.813052; long2 = -119.8130529\n",
    "print( calculate_dst((lat1, long1), (lat2, long2)) )"
   ]
  },
  {
   "cell_type": "code",
   "execution_count": null,
   "metadata": {},
   "outputs": [],
   "source": [
    "#1cm\n",
    "lat1 = 39.5393945; lat2 = 39.539392; long1 = -119.8130723; long2 = -119.8130765\n",
    "print( calculate_dst((lat1, long1), (lat2, long2)) )"
   ]
  },
  {
   "cell_type": "code",
   "execution_count": null,
   "metadata": {},
   "outputs": [],
   "source": [
    "from geopy import distance\n",
    "\n",
    "coords_1 = (39.54644600, -119.81473767)\n",
    "coords_2 = (39.54646483, -119.81476417)\n",
    "\n",
    "print (distance.distance(coords_1, coords_2).m)"
   ]
  },
  {
   "cell_type": "code",
   "execution_count": null,
   "metadata": {},
   "outputs": [],
   "source": [
    "lat1 = 39.54644600; lat2 = 39.54646483; long1 = -119.81473767; long2 = -119.81476417\n",
    "print( calculate_dst((lat1, long1), (lat2, long2)) )"
   ]
  },
  {
   "cell_type": "markdown",
   "metadata": {},
   "source": [
    "The great-circle distance or orthodromic distance is the shortest distance between two points on the surface of a sphere, measured along the surface of the sphere (as opposed to a straight line through the sphere's interior). The distance between two points in Euclidean space is the length of a straight line between them, but on the sphere there are no straight lines. In spaces with curvature, straight lines are replaced by geodesics. Geodesics on the sphere are circles on the sphere whose centers coincide with the center of the sphere, and are called great circles : https://en.wikipedia.org/wiki/Great-circle_distance"
   ]
  },
  {
   "cell_type": "code",
   "execution_count": 5,
   "metadata": {},
   "outputs": [
    {
     "name": "stdout",
     "output_type": "stream",
     "text": [
      "0.042124771529315624\n"
     ]
    }
   ],
   "source": [
    "#12.7cm\n",
    "from geopy import distance\n",
    "coords_1 = (39.5396558, -119.8123645)\n",
    "coords_2 = (39.5396561,-119.8123642)\n",
    "\n",
    "print (distance.geodesic(coords_1, coords_2).meters)"
   ]
  },
  {
   "cell_type": "code",
   "execution_count": 7,
   "metadata": {},
   "outputs": [
    {
     "name": "stdout",
     "output_type": "stream",
     "text": [
      "0.03613379419579837\n"
     ]
    }
   ],
   "source": [
    "#2inches ; 5cm\n",
    "from geopy import distance\n",
    "coords_1 = (39.539656, -119.8123641)\n",
    "coords_2 = (39.5396561, -119.8123645)\n",
    "\n",
    "print (distance.geodesic(coords_1, coords_2).meters)"
   ]
  },
  {
   "cell_type": "code",
   "execution_count": 9,
   "metadata": {},
   "outputs": [
    {
     "name": "stdout",
     "output_type": "stream",
     "text": [
      "4.0932296542144\n"
     ]
    }
   ],
   "source": [
    "#1 feet ; 0.3048 meters ; 30.48cm\n",
    "\n",
    "from geopy import distance\n",
    "coords_1 = (39.5396559, -119.8123646)\n",
    "coords_2 = (39.5396561, -119.8123642)\n",
    "\n",
    "print (distance.geodesic(coords_1, coords_2).meters*100)"
   ]
  },
  {
   "cell_type": "code",
   "execution_count": 10,
   "metadata": {},
   "outputs": [
    {
     "name": "stdout",
     "output_type": "stream",
     "text": [
      "0.01719290415275028\n"
     ]
    }
   ],
   "source": [
    "#4 feet; 1.2192 meters ; 121.92\n",
    "from geopy import distance\n",
    "coords_1 = (39.5396561, -119.8123641)\n",
    "coords_2 = (39.5396561, -119.8123643)\n",
    "\n",
    "print (distance.geodesic(coords_1, coords_2).meters)"
   ]
  },
  {
   "cell_type": "code",
   "execution_count": null,
   "metadata": {},
   "outputs": [],
   "source": [
    "#3 inches ; 0.0762 meters; 7.62cm\n",
    "\n",
    "from geopy import distance\n",
    "coords_1 = (39.5471637, -119.8156282)\n",
    "coords_2 = (39.547164, -119.8156271)\n",
    "\n",
    "print (distance.geodesic(coords_1, coords_2).meters)"
   ]
  },
  {
   "cell_type": "code",
   "execution_count": null,
   "metadata": {},
   "outputs": [],
   "source": [
    "#5 inches; 0.127 meters; 12.7 cm\n",
    "\n",
    "from geopy import distance\n",
    "coords_1 = (39.547163, -119.8156307)\n",
    "coords_2 = (39.5471638, -119.8156288)\n",
    "\n",
    "print (distance.geodesic((39.547163, -119.8156307), coords_2).meters)"
   ]
  },
  {
   "cell_type": "code",
   "execution_count": null,
   "metadata": {},
   "outputs": [],
   "source": [
    "def haversine_distance(lat1, lon1, lat2, lon2):\n",
    "   r = 6371\n",
    "   phi1 = np.radians(lat1)\n",
    "   phi2 = np.radians(lat2)\n",
    "   delta_phi = np.radians(lat2 - lat1)\n",
    "   delta_lambda = np.radians(lon2 - lon1)\n",
    "   a = np.sin(delta_phi / 2)**2 + np.cos(phi1) * np.cos(phi2) *   np.sin(delta_lambda / 2)**2\n",
    "   res = r * (2 * np.arctan2(np.sqrt(a), np.sqrt(1- a)))\n",
    "   return res*1000"
   ]
  },
  {
   "cell_type": "code",
   "execution_count": null,
   "metadata": {},
   "outputs": [],
   "source": [
    "haversine_distance(39.547163, -119.8156307, 39.5471638, -119.8156288)"
   ]
  },
  {
   "cell_type": "code",
   "execution_count": null,
   "metadata": {},
   "outputs": [],
   "source": []
  }
 ],
 "metadata": {
  "kernelspec": {
   "display_name": "Python 3",
   "language": "python",
   "name": "python3"
  },
  "language_info": {
   "codemirror_mode": {
    "name": "ipython",
    "version": 3
   },
   "file_extension": ".py",
   "mimetype": "text/x-python",
   "name": "python",
   "nbconvert_exporter": "python",
   "pygments_lexer": "ipython3",
   "version": "3.6.9"
  }
 },
 "nbformat": 4,
 "nbformat_minor": 4
}
