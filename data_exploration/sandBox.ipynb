{
 "cells": [
  {
   "cell_type": "markdown",
   "metadata": {},
   "source": [
    "## Particle within radius or overlap calculations"
   ]
  },
  {
   "cell_type": "code",
   "execution_count": 1,
   "metadata": {},
   "outputs": [],
   "source": [
    "#user-defined\n",
    "# import ipynb.fs.full.helper as hp\n",
    "\n",
    "#dataframes\n",
    "import pandas as pd\n",
    "import h5py\n",
    "\n",
    "#speedup\n",
    "from pyspark.sql import SparkSession\n",
    "\n",
    "#suppress warnings\n",
    "import warnings\n",
    "warnings.simplefilter(action='ignore', category=FutureWarning)\n",
    "pd.TimeSeries = pd.Series \n",
    "\n",
    "#math\n",
    "import numpy as np\n",
    "import math as m\n",
    "from scipy.spatial.distance import cdist\n",
    "\n",
    "\n",
    "#plots\n",
    "import pylab as plt\n",
    "import matplotlib.pyplot as plt\n",
    "from mpl_toolkits.axes_grid1 import make_axes_locatable # for colorbar\n",
    "import seaborn as sns\n",
    "\n",
    "#misc\n",
    "import time\n",
    "np.set_printoptions(suppress=True)"
   ]
  },
  {
   "cell_type": "code",
   "execution_count": 17,
   "metadata": {},
   "outputs": [],
   "source": [
    "spark = SparkSession.builder \\\n",
    "    .master(\"local[4]\") \\\n",
    "    .appName(\"Test.com\") \\\n",
    "    .getOrCreate()"
   ]
  },
  {
   "cell_type": "code",
   "execution_count": 4,
   "metadata": {},
   "outputs": [],
   "source": [
    "dir_save = '../../data/Sprints/AN/test/'\n",
    "# dir ='~/Documents/MyFiles/DataAnalysis/data/Sprints/Run03/Set05/wind05Run03_InterpolatedX.hdf'\n",
    "# Total/Run03X.hdf'\n",
    "dir = '~/Documents/MyFiles/DataAnalysis/data/Sprints/LowRes/Run01_expected.h5'\n",
    "\n",
    "df = pd.read_hdf(dir)\n",
    "dt= df.master_time[1]-df.master_time[0]"
   ]
  },
  {
   "cell_type": "code",
   "execution_count": 18,
   "metadata": {},
   "outputs": [
    {
     "name": "stdout",
     "output_type": "stream",
     "text": [
      "+--------------------+-------------------+------------------+-------------------+------------------+-------------------+-------------------+------------------+---------------------+--------------------+--------------------+--------------------+--------------------+--------------------+--------------------+------------------+------------------+------------------+-----+----+-----+----+----+-------------------------+-----------------------+--------------------+-------------------+\n",
      "|         master_time|          sync_time|              xsrc|               ysrc|              odor|        trisonica_u|        trisonica_v|trisonica_pressure|trisonica_temperature|        gps_linear_x|        gps_linear_y|        gps_linear_z|       imu_angular_x|       imu_angular_y|       imu_angular_z|  imu_linear_acc_x|  imu_linear_acc_y|  imu_linear_acc_z|    U|   V|    D|  S2|mock|distance_along_streakline|nearest_from_streakline|distance_from_source|    relative_motion|\n",
      "+--------------------+-------------------+------------------+-------------------+------------------+-------------------+-------------------+------------------+---------------------+--------------------+--------------------+--------------------+--------------------+--------------------+--------------------+------------------+------------------+------------------+-----+----+-----+----+----+-------------------------+-----------------------+--------------------+-------------------+\n",
      "|1.6032196986008234E9|                0.0|0.9363675604690798|-0.7890336504206061| 0.673028684204447|-1.2982340408280177|-0.6617659388838283| 885.9000244140625|    7.394512756078127|0.001117492647768...| 0.03384779361539039|-0.00196261597570...| 0.07455646577837928|-0.11557946311979578|0.007691865849762147|-10.12599768086536|-10.12599768086536|-10.12599768086536|-0.59|0.97|148.0|1.14| 0.0|                      0.0|      1.224482874439199|   1.224482874439199|  -1.53779308583084|\n",
      "|1.6032196987008262E9|0.10000276565551758|0.9363675604690798|-0.7890336504206061|0.6723220257749034| -1.410287233197016|-0.4589772994732847|  885.800010834157|    7.477088197619139|0.023118095846630132|0.005347012198683694|0.005037575951200497|-0.07277914179719006|-0.09725828948119629|-0.09445332023940342|-9.496502288409943|-9.496502288409943|-9.496502288409943|-0.65|0.94|146.0|1.14| 0.0|                      0.0|      1.224482874439199|   1.224482874439199|-1.8713621681599253|\n",
      "+--------------------+-------------------+------------------+-------------------+------------------+-------------------+-------------------+------------------+---------------------+--------------------+--------------------+--------------------+--------------------+--------------------+--------------------+------------------+------------------+------------------+-----+----+-----+----+----+-------------------------+-----------------------+--------------------+-------------------+\n",
      "only showing top 2 rows\n",
      "\n"
     ]
    }
   ],
   "source": [
    "\n",
    "sparkDF=spark.createDataFrame(df) \n",
    "# sparkDF.printSchema()\n",
    "sparkDF.show(n=2)"
   ]
  },
  {
   "cell_type": "markdown",
   "metadata": {},
   "source": [
    "### Calculate Expected encounters"
   ]
  },
  {
   "cell_type": "code",
   "execution_count": 5,
   "metadata": {},
   "outputs": [],
   "source": [
    "sync_time = df.master_time-df.master_time[0]\n",
    "df.insert(1,'sync_time',sync_time)"
   ]
  },
  {
   "cell_type": "code",
   "execution_count": 6,
   "metadata": {},
   "outputs": [
    {
     "data": {
      "text/plain": [
       "Index(['master_time', 'sync_time', 'xsrc', 'ysrc', 'odor', 'trisonica_u',\n",
       "       'trisonica_v', 'trisonica_pressure', 'trisonica_temperature',\n",
       "       'gps_linear_x', 'gps_linear_y', 'gps_linear_z', 'imu_angular_x',\n",
       "       'imu_angular_y', 'imu_angular_z', 'imu_linear_acc_x',\n",
       "       'imu_linear_acc_y', 'imu_linear_acc_z', 'U', 'V', 'D', 'S2', 'mock',\n",
       "       'distance_along_streakline', 'nearest_from_streakline',\n",
       "       'distance_from_source', 'relative_motion'],\n",
       "      dtype='object')"
      ]
     },
     "execution_count": 6,
     "metadata": {},
     "output_type": "execute_result"
    }
   ],
   "source": [
    "df.keys()"
   ]
  },
  {
   "cell_type": "code",
   "execution_count": 8,
   "metadata": {},
   "outputs": [],
   "source": [
    "# storing the odor location in a numpy array to avoid reading pandas\n",
    "odor_position = np.array([[df.xsrc[i],df.ysrc[i]] for i in range (len(df.xsrc))]) \n",
    "# gps_location =  np.array([[df.gps_linear_x[i],df.gps_linear_y[i]] for i in range (len(df.gps_linear_x))]) \n",
    "source = np.array([[0,0]])\n",
    "distance_from_source = np.array([cdist(odor_position,source)]).flatten()"
   ]
  },
  {
   "cell_type": "markdown",
   "metadata": {},
   "source": [
    "# Is Encountered odor particle within the Calculated particle radius?\n",
    "\n",
    "The loop below computes locations of the eastwest and northsouth particles and compares with a radius (distance) to interpret if the encountered particle were close to calculated particle. The execution for the loop is 23.56 seconds for 59770 rows of data\n",
    "\n",
    "For stationery wind sensor: The loop below takes in ith eastwest and subtracts the ith U and V elements to get the i-1 state, as the eastwest is summation of all the wind positions. \n",
    "\n",
    "[3 + 2 + 1] = [6]\n",
    "\n",
    "hence ith _state = 6\n",
    "\n",
    "_state = _state-3\n",
    "\n",
    "_state = _state-2"
   ]
  },
  {
   "cell_type": "code",
   "execution_count": 104,
   "metadata": {},
   "outputs": [],
   "source": [
    "def wrapped_angular_diff(a, b):\n",
    "    return np.arctan2(np.sin(a-b), np.cos(a-b))"
   ]
  },
  {
   "cell_type": "code",
   "execution_count": 159,
   "metadata": {},
   "outputs": [],
   "source": [
    "def relative_motion_calculation(streakline, pos,i):\n",
    "    if(pos == 0):\n",
    "        x = streakline[pos:(pos+2),0]\n",
    "        y = streakline[pos:(pos+2),1]\n",
    "    else:\n",
    "        x = streakline[(pos-1):(pos+2),0]\n",
    "        y = streakline[(pos-1):(pos+2),1]\n",
    "\n",
    "    slope_streakline,intercept_streakline=np.polyfit(x,y,1)\n",
    "    slope_sensor = np.arctan2(df.gps_linear_y[i],df.gps_linear_x[i])\n",
    "    \n",
    "    relative_motion.append(wrapped_angular_diff(slope_streakline,slope_sensor))"
   ]
  },
  {
   "cell_type": "code",
   "execution_count": 202,
   "metadata": {},
   "outputs": [],
   "source": [
    "def compute_distance(streakline, odor_position,i):\n",
    "    source = np.array([[0,0]])\n",
    "    streakline = np.concatenate((streakline,source))\n",
    "    distance = cdist(odor_position,streakline).flatten()   # cdist compares distance for all the points in both arrays\n",
    "    pos = np.where(distance == np.amin(distance))\n",
    "    relative_motion_calculation(streakline, pos[0][0],i)\n",
    "    nearest_from_streakline.append(np.min(distance))\n",
    "    if (len(pos[0]) > 1):\n",
    "        length=(np.sqrt(np.sum(np.diff(np.array(streakline[int(pos[0][0]):]), axis=0)**2, axis=1)))\n",
    "    else:\n",
    "        length=(np.sqrt(np.sum(np.diff(np.array(streakline[int(pos[0]):]), axis=0)**2, axis=1)))\n",
    "        \n",
    "    distance_along_streakline.append(np.sum(length))"
   ]
  },
  {
   "cell_type": "code",
   "execution_count": 203,
   "metadata": {},
   "outputs": [],
   "source": [
    "def find_streakline():\n",
    "    eastwest = [np.sum(df.U[j:])*dt for j in range(0,len(df))]\n",
    "    northsouth = [np.sum(df.V[j:])*dt for j in range(0,len(df))]\n",
    "    return eastwest,northsouth"
   ]
  },
  {
   "cell_type": "code",
   "execution_count": 204,
   "metadata": {},
   "outputs": [],
   "source": [
    "eastwest,northsouth =find_streakline()"
   ]
  },
  {
   "cell_type": "code",
   "execution_count": 205,
   "metadata": {},
   "outputs": [],
   "source": [
    "nearest_from_streakline = []\n",
    "distance_along_streakline = []\n",
    "relative_motion=[]\n",
    "\n",
    "for i in range(len(eastwest)-1, 6000, -1):\n",
    "    odor_pos = [odor_position[i]] \n",
    "    eastwest = np.resize(np.array([eastwest-df.U[i]*dt]),(1,i)).flatten() # resize needed to avoid negative data\n",
    "    northsouth = np.resize(np.array([northsouth-df.V[i]*dt]),(1,i)).flatten()\n",
    "    wind_pos = np.vstack([eastwest[-6000:],northsouth[-6000:]]).T   \n",
    "    compute_distance(wind_pos,odor_pos,i)"
   ]
  },
  {
   "cell_type": "code",
   "execution_count": 206,
   "metadata": {},
   "outputs": [],
   "source": [
    "#for the section when only the length of the elements is equal to the window value\n",
    "for i in range((len(eastwest))-1, -1, -1):\n",
    "    \n",
    "    odor_pos = [odor_position[i]]  \n",
    "    if(i == 0):\n",
    "        radius = np.zeros(1)\n",
    "        wind_pos = np.array([[0,0]])\n",
    "        distance = cdist(odor_pos,wind_pos).flatten()\n",
    "        slope_sensor = np.arctan2(df.gps_linear_y[i],df.gps_linear_x[i])\n",
    "        #manual appending for source position \n",
    "        #to avoid zeroth error\n",
    "        relative_motion.append(wrapped_angular_diff(0,slope_sensor))\n",
    "        distance_along_streakline.append(0)\n",
    "        nearest_from_streakline.append(np.min(distance))\n",
    "        \n",
    "    else:\n",
    "        eastwest = np.resize(np.array([eastwest-df.U[i]*dt]),(1,i)).flatten() # resize needed to avoid negative data\n",
    "        northsouth = np.resize(np.array([northsouth-df.V[i]*dt]),(1,i)).flatten()\n",
    "        wind_pos = np.vstack([eastwest,northsouth]).T   \n",
    "        compute_distance(wind_pos,odor_pos,i)\n"
   ]
  },
  {
   "cell_type": "code",
   "execution_count": 209,
   "metadata": {},
   "outputs": [],
   "source": [
    "## flip containers because above iteration is done in reverse order\n",
    "df['mock'] = np.zeros(len(df)) \n",
    "# odor_presence = odor_presence[::-1]\n",
    "# max_radius = max_radius[::-1]\n",
    "\n",
    "## storing in the dataframe \n",
    "# df['odor_expected'] = odor_presence\n",
    "df['distance_along_streakline'] =  distance_along_streakline[::-1]\n",
    "df['nearest_from_streakline'] = nearest_from_streakline[::-1] #nearest_from_streakline\n",
    "df['relative_motion']=relative_motion[::-1]\n",
    "df['distance_from_source'] = distance_from_source"
   ]
  },
  {
   "cell_type": "code",
   "execution_count": 79,
   "metadata": {},
   "outputs": [
    {
     "name": "stderr",
     "output_type": "stream",
     "text": [
      "<ipython-input-79-d4bfa6ef7d6c>:13: RuntimeWarning: invalid value encountered in true_divide\n",
      "  Encounters = np.array(H1)/np.array(H2)\n"
     ]
    }
   ],
   "source": [
    "query = 'odor>=2'\n",
    "df_occurence = df.query(query)\n",
    "\n",
    "x = np.linspace(0,25,25)\n",
    "y = np.linspace(0,25,25)\n",
    "\n",
    "H1, x, y = np.histogram2d(df_occurence.distance_along_streakline, df_occurence.nearest_from_streakline, bins=(x, y), \n",
    "                          weights = df_occurence.odor)\n",
    "H1 = H1.T \n",
    "H2, x, y = np.histogram2d(df.distance_along_streakline, df.nearest_from_streakline, bins=(x, y), \n",
    "                          weights = df.odor)\n",
    "H2 = H2.T \n",
    "Encounters = np.array(H1)/np.array(H2)\n",
    "Encounters[Encounters == np.inf] = 0"
   ]
  },
  {
   "cell_type": "code",
   "execution_count": 80,
   "metadata": {},
   "outputs": [
    {
     "name": "stderr",
     "output_type": "stream",
     "text": [
      "<ipython-input-80-4e1cd30133a5>:10: RuntimeWarning: invalid value encountered in true_divide\n",
      "  Encounters = np.array(N_Encounter)/np.array(Total)\n"
     ]
    }
   ],
   "source": [
    "#filtering\n",
    "Total = H2\n",
    "N_Encounter = H1\n",
    "for i in range (len(Total)):\n",
    "    for j in range(len(Total[i])):\n",
    "        if Total[i][j]<400:\n",
    "            Total[i][j] =0\n",
    "            N_Encounter[i][j]=0\n",
    "\n",
    "Encounters = np.array(N_Encounter)/np.array(Total)\n",
    "Encounters[Encounters == np.inf] = 0"
   ]
  },
  {
   "cell_type": "code",
   "execution_count": 72,
   "metadata": {},
   "outputs": [
    {
     "data": {
      "image/png": "[encoded data removed]",
      "text/plain": [
       "<Figure size 576x864 with 4 Axes>"
      ]
     },
     "metadata": {
      "needs_background": "light"
     },
     "output_type": "display_data"
    }
   ],
   "source": [
    "f, (ax1,ax2) = plt.subplots(2,1, figsize =(8,12) , gridspec_kw={'height_ratios': [4,4]})\n",
    "\n",
    "#plot wind vs odor from source and each other\n",
    "f.suptitle('Odor Positions from Wind Particle', fontsize = 16)\n",
    "# ax1 = plt.axes(xlim =(0,35), ylim=(-5,28))\n",
    "ax1.axhline(0, color = 'red')\n",
    "ax1.plot(0,0,'o', markersize = 20)\n",
    "var = ax1.scatter(df_occurence.distance_along_streakline, df_occurence.nearest_from_streakline, cmap = 'viridis', \n",
    "                  c = df_occurence.odor,  s = 10)\n",
    "ax1.set_xlabel('Distance along Streakline(m)' , fontsize = 13)\n",
    "ax1.set_ylabel('Shotest Distance \\n Sensor from Streakline (m)' , fontsize = 13)\n",
    "\n",
    "\n",
    "divider = make_axes_locatable(ax1)\n",
    "cax = divider.append_axes('right', size='5%', pad=0.05)\n",
    "f.colorbar(var, cax=cax, orientation = 'vertical')\n",
    "\n",
    "# x = np.linspace(0,25,11)\n",
    "# y = np.linspace(0,10,25)\n",
    "ax2.set_xlabel('Distance along Streakline(m)', fontsize = 13)\n",
    "ax2.set_ylabel('Shotest Distance \\n Sensor from Streakline (m)', fontsize = 13)\n",
    "var2 = ax2.imshow(Encounters, interpolation='nearest', origin='lower',cmap = 'viridis', extent=[x[0], x[-1], y[0], y[-1]])\n",
    "start, end = ax2.get_xlim()\n",
    "\n",
    "divider = make_axes_locatable(ax2)\n",
    "cax = divider.append_axes('right', size='5%', pad=0.05)\n",
    "f.colorbar(var2, cax=cax, orientation = 'vertical')\n",
    "\n",
    "f.tight_layout()\n",
    "\n",
    "# f.savefig(dir_save+'Run03Set05_NewStreak_Filtered.jpeg')"
   ]
  }
 ],
 "metadata": {
  "kernelspec": {
   "display_name": "Python 3",
   "language": "python",
   "name": "python3"
  },
  "language_info": {
   "codemirror_mode": {
    "name": "ipython",
    "version": 3
   },
   "file_extension": ".py",
   "mimetype": "text/x-python",
   "name": "python",
   "nbconvert_exporter": "python",
   "pygments_lexer": "ipython3",
   "version": "3.8.7"
  }
 },
 "nbformat": 4,
 "nbformat_minor": 4
}
