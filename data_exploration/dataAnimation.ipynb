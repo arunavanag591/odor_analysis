{
 "cells": [
  {
   "cell_type": "markdown",
   "source": [
    "### Data Visualization - Ideal vs Encountered"
   ],
   "metadata": {}
  },
  {
   "cell_type": "code",
   "execution_count": 1,
   "source": [
    "#dataframes\n",
    "import pandas as pd\n",
    "import h5py\n",
    "\n",
    "\n",
    "#suppress warnings\n",
    "import warnings\n",
    "warnings.simplefilter(action='ignore', category=FutureWarning)\n",
    "\n",
    "#math\n",
    "import numpy as np\n",
    "import math as m\n",
    "\n",
    "from scipy.spatial.distance import cdist\n",
    "pd.TimeSeries = pd.Series \n",
    "\n",
    "#plots\n",
    "import matplotlib.pyplot as plt\n",
    "import figurefirst\n",
    "\n",
    "#performance\n",
    "import time "
   ],
   "outputs": [
    {
     "output_type": "error",
     "ename": "ModuleNotFoundError",
     "evalue": "No module named 'pandas'",
     "traceback": [
      "\u001b[0;31m---------------------------------------------------------------------------\u001b[0m",
      "\u001b[0;31mModuleNotFoundError\u001b[0m                       Traceback (most recent call last)",
      "\u001b[0;32m<ipython-input-1-781d767c41cf>\u001b[0m in \u001b[0;36m<module>\u001b[0;34m\u001b[0m\n\u001b[1;32m      1\u001b[0m \u001b[0;31m#dataframes\u001b[0m\u001b[0;34m\u001b[0m\u001b[0;34m\u001b[0m\u001b[0;34m\u001b[0m\u001b[0m\n\u001b[0;32m----> 2\u001b[0;31m \u001b[0;32mimport\u001b[0m \u001b[0mpandas\u001b[0m \u001b[0;32mas\u001b[0m \u001b[0mpd\u001b[0m\u001b[0;34m\u001b[0m\u001b[0;34m\u001b[0m\u001b[0m\n\u001b[0m\u001b[1;32m      3\u001b[0m \u001b[0;32mimport\u001b[0m \u001b[0mh5py\u001b[0m\u001b[0;34m\u001b[0m\u001b[0;34m\u001b[0m\u001b[0m\n\u001b[1;32m      4\u001b[0m \u001b[0;34m\u001b[0m\u001b[0m\n\u001b[1;32m      5\u001b[0m \u001b[0;34m\u001b[0m\u001b[0m\n",
      "\u001b[0;31mModuleNotFoundError\u001b[0m: No module named 'pandas'"
     ]
    }
   ],
   "metadata": {}
  },
  {
   "cell_type": "markdown",
   "source": [
    "### Load Data"
   ],
   "metadata": {}
  },
  {
   "cell_type": "code",
   "execution_count": null,
   "source": [
    "set_number = 1\n",
    "\n",
    "dir = '~/Documents/Myfiles/DataAnalysis/data/Sprints/LowRes/Run0'+str(set_number)+'_expected.h5'\n",
    "dir_save = '../../../Research/Images/container_odor/'\n",
    "df = pd.DataFrame()\n",
    "df = pd.read_hdf(dir)\n",
    "dt= df.master_time[1]-df.master_time[0]"
   ],
   "outputs": [],
   "metadata": {}
  },
  {
   "cell_type": "markdown",
   "source": [
    "### Prepare Data"
   ],
   "metadata": {}
  },
  {
   "cell_type": "code",
   "execution_count": 51,
   "source": [
    "def streakline_container(eastwest,northsouth):\n",
    "    ew = []\n",
    "    ns= []\n",
    "    for i in range((len(eastwest))-1,-1, -1): \n",
    "        ew.append(np.resize(np.array([eastwest-df.U[i]*dt]),(1,i)).flatten()) \n",
    "        ns.append(np.resize(np.array([northsouth-df.V[i]*dt]),(1,i)).flatten())  \n",
    "    return ew,ns\n",
    "\n",
    "def streakline_calculation(df):\n",
    "    et = [np.sum(df.U[j:])*dt for j in range(0,len(df))]\n",
    "    nt = [np.sum(df.V[j:])*dt for j in range(0,len(df))]\n",
    "    return et, nt"
   ],
   "outputs": [],
   "metadata": {}
  },
  {
   "cell_type": "code",
   "execution_count": 52,
   "source": [
    "et, nt = streakline_calculation(df)\n",
    "ew, ns = streakline_container(et,nt)"
   ],
   "outputs": [],
   "metadata": {}
  },
  {
   "cell_type": "code",
   "execution_count": 6,
   "source": [
    "dir_save = '../../../Research/Images/container_odor/'"
   ],
   "outputs": [],
   "metadata": {}
  },
  {
   "cell_type": "code",
   "execution_count": 48,
   "source": [
    "count = 0\n",
    "N=0\n",
    "#for(upper, lower, step)\n",
    "\n",
    "for i in range(0,10):   \n",
    "    f = plt.figure(figsize =(16,10))\n",
    "    ax = plt.axes (xlim=(-16,12), ylim=(-5,25))\n",
    "    ax.set_xlabel('Longitude(meters)')\n",
    "    ax.set_ylabel('Latitude(meters)')\n",
    "\n",
    "    area = (np.arange(start = len(ew[i]), stop = 0, step = -1)*0.01)**2*4*m.pi #area\n",
    "    ax.scatter(ew[i], ns[i], c='#FFA500', alpha = 0.3, s=np.sqrt(area), label=\"Expected Odor\")\n",
    "    \n",
    "    if (count>500):          \n",
    "        ax.scatter(df.xsrc[N:i],df.ysrc[N:i], c = df.odor[N:i], cmap = 'inferno', vmin =0 , vmax = 13, \n",
    "                   s =12, label=\"Encountered Odor\")\n",
    "        N+=N\n",
    "        \n",
    "    else:\n",
    "        ax.scatter(df.xsrc[:i],df.ysrc[:i], c = df.odor[:i],cmap = 'inferno', vmin =0 , vmax = 13, \n",
    "                   s =12, label=\"Encountered Odor\" )              \n",
    "    count+=1\n",
    "    f.tight_layout()\n",
    "    figurefirst.mpl_functions.set_fontsize(f, 15)\n",
    "    print(i)\n",
    "    f.savefig(dir_save + \"plot\" + str(i) + \".jpg\")\n",
    "    plt.close()"
   ],
   "outputs": [],
   "metadata": {}
  },
  {
   "cell_type": "markdown",
   "source": [
    "### Imagewise Animation Odor_Expected vs Time"
   ],
   "metadata": {}
  },
  {
   "cell_type": "code",
   "execution_count": 22,
   "source": [
    "dir_save = '../../../Research/Images/container_wind/'"
   ],
   "outputs": [],
   "metadata": {}
  },
  {
   "cell_type": "code",
   "execution_count": 23,
   "source": [
    "count = 0\n",
    "N=0\n",
    "for i in range(0,len(df)):\n",
    "    \n",
    "    f, ax = plt.subplots(1,1, figsize =(16,8))\n",
    "    ax.set_xlim(-1,25)\n",
    "    ax.set_ylim(-1,12)\n",
    "    ax.axhline(0, color = 'red')\n",
    "    ax.plot(0,0,'o', markersize = 20)\n",
    "    \n",
    "    if (count>500):          \n",
    "        ax.scatter(df.distance_from_source[N:i],df.nearest_from_streakline[N:i], c = df.odor[N:i], cmap = 'inferno', vmin =0 , vmax = 13, s =12)\n",
    "        N+=1\n",
    "    else:\n",
    "        ax.scatter(df.distance_from_source[:i],df.nearest_from_streakline[:i], c = df.odor[:i],cmap = 'inferno', vmin =0 , vmax = 13, s =12 )\n",
    "    \n",
    "    count+=1\n",
    "    ax.set_xlabel('Distance from source to sensor(m)' , fontsize = 15)\n",
    "    ax.set_ylabel('Shotest Distance \\n Sensor from Streakline (m)' , fontsize = 15)\n",
    "    figurefirst.mpl_functions.set_fontsize(f, 15)\n",
    "    f.savefig(dir_save + \"plot\" + str(i) + \".jpg\")\n",
    "    plt.close()"
   ],
   "outputs": [],
   "metadata": {}
  },
  {
   "cell_type": "code",
   "execution_count": 14,
   "source": [
    "# perform this locally using multiprocessing; does to work in Jupyter\n",
    "# def plot_ts(inputs):\n",
    "#     i, df = inputs\n",
    "#     fig = plt.figure()\n",
    "#     ax = plt.axes (xlim=(0,300), ylim=(0,2))\n",
    "#     ax.set_xlabel('Time')\n",
    "#     ax.set_ylabel('Odor Concentration')\n",
    "#     ax.plot(df.sync_time[:i],df.odor[:i])\n",
    "#     fig.savefig(dir_save + \"plot\" + str(i) + \".jpg\")\n",
    "#     plt.close()    "
   ],
   "outputs": [],
   "metadata": {}
  }
 ],
 "metadata": {
  "kernelspec": {
   "name": "python3",
   "display_name": "Python 3.8.7 64-bit ('3.8')"
  },
  "language_info": {
   "codemirror_mode": {
    "name": "ipython",
    "version": 3
   },
   "file_extension": ".py",
   "mimetype": "text/x-python",
   "name": "python",
   "nbconvert_exporter": "python",
   "pygments_lexer": "ipython3",
   "version": "3.8.7"
  },
  "interpreter": {
   "hash": "082e9a3bcad0a290d0001e938aa60b99250c6c2ef33a923c00b70f9826caf4b7"
  }
 },
 "nbformat": 4,
 "nbformat_minor": 4
}