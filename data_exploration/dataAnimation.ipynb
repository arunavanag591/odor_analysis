{
 "cells": [
  {
   "cell_type": "markdown",
   "metadata": {},
   "source": [
    "### Data Visualization - Ideal vs Encountered"
   ]
  },
  {
   "cell_type": "code",
   "execution_count": 1,
   "metadata": {},
   "outputs": [],
   "source": [
    "#dataframes\n",
    "import pandas as pd\n",
    "import h5py\n",
    "\n",
    "#suppress warnings\n",
    "import warnings\n",
    "warnings.simplefilter(action='ignore', category=FutureWarning)\n",
    "\n",
    "#math\n",
    "import numpy as np\n",
    "import math as m\n",
    "from scipy.spatial.distance import cdist\n",
    "pd.TimeSeries = pd.Series \n",
    "\n",
    "#plots\n",
    "import matplotlib.pyplot as plt\n",
    "import figurefirst\n",
    "from figurefirst import FigureLayout,mpl_functions\n",
    "from IPython.display import HTML\n",
    "from matplotlib.animation import FuncAnimation\n",
    "from matplotlib.animation import FFMpegWriter\n",
    "\n",
    "#performance\n",
    "import time "
   ]
  },
  {
   "cell_type": "markdown",
   "metadata": {},
   "source": [
    "### Load Data"
   ]
  },
  {
   "cell_type": "code",
   "execution_count": 2,
   "metadata": {},
   "outputs": [],
   "source": [
    "dir = '~/Documents/Myfiles/DataAnalysis/data/Sprints/HighRes/'\n",
    "# dir_save = '../../../Research/Images/container_odor/'\n",
    "df = pd.DataFrame()\n",
    "df = pd.read_hdf(dir+'NotWindy/NotWindyMA.h5')\n",
    "dt= df.master_time[1]-df.master_time[0]"
   ]
  },
  {
   "cell_type": "code",
   "execution_count": 3,
   "metadata": {},
   "outputs": [
    {
     "data": {
      "text/plain": [
       "Index(['master_time', 'xsrc', 'ysrc', 'odor', 'trisonica_u', 'trisonica_v',\n",
       "       'trisonica_pressure', 'trisonica_temperature', 'gps_linear_x',\n",
       "       'gps_linear_y', 'gps_linear_z', 'imu_angular_x', 'imu_angular_y',\n",
       "       'imu_angular_z', 'imu_linear_acc_x', 'imu_linear_acc_y',\n",
       "       'imu_linear_acc_z', 'U', 'V', 'D', 'S2', 'corrected_u', 'corrected_v',\n",
       "       'time', 'distance_from_source', 'nearest_from_streakline_',\n",
       "       'relative_parallel_comp', 'relative_perpendicular_comp', 'efreq',\n",
       "       'encounter_frequency', 'intermittency_fraction', 'intermittency_factor',\n",
       "       'ma_fraction', 'nfs', 'whiff_plot'],\n",
       "      dtype='object')"
      ]
     },
     "execution_count": 3,
     "metadata": {},
     "output_type": "execute_result"
    }
   ],
   "source": [
    "df.keys()"
   ]
  },
  {
   "cell_type": "code",
   "execution_count": 4,
   "metadata": {},
   "outputs": [],
   "source": [
    "df[\"distance_from_source_a\"]=np.sqrt(df.distance_from_source**2 - df.nearest_from_streakline_**2)"
   ]
  },
  {
   "cell_type": "code",
   "execution_count": 8,
   "metadata": {},
   "outputs": [
    {
     "data": {
      "image/png": "[encoded data removed]",
      "text/plain": [
       "<Figure size 576x432 with 1 Axes>"
      ]
     },
     "metadata": {
      "needs_background": "light"
     },
     "output_type": "display_data"
    }
   ],
   "source": [
    "f , ax = plt.subplots(1,1, figsize=(8,6)) \n",
    "\n",
    "N=0\n",
    "n=500\n",
    "def animate(i):\n",
    "    ax.cla()\n",
    "    i=20*i\n",
    "    if (i>500):          \n",
    "        ax.scatter(df.distance_from_source_a.iloc[(i-n):i],df.nfs.iloc[(i-n):i], \n",
    "                   c = df.odor.iloc[(i-n):i], \n",
    "                   cmap = 'viridis', vmin =0 , vmax = 10, s =12)\n",
    "#         N+=1\n",
    "    else:\n",
    "        ax.scatter(df.distance_from_source_a.iloc[:i],df.nfs.iloc[:i], c = df.odor.iloc[:i],\n",
    "                   cmap = 'viridis', vmin =0 , vmax = 10, s =12 )\n",
    "        \n",
    "    mpl_functions.adjust_spines(ax,['left', 'bottom'],spine_locations={},\n",
    "                            smart_bounds=True, xticks=[0,25,50],yticks=[-25,0,25],linewidth=1)\n",
    "\n",
    "#     ax.set(xlim=(0,5), ylim=(0, -2))\n",
    "    ax.set_xlabel(\"Distance Along Streakline\")\n",
    "    ax.set_ylabel(\"Nearest from Streakline\")\n",
    "    f.tight_layout(pad=1)\n",
    "    figurefirst.mpl_functions.set_fontsize(f, 22)\n",
    "    \n",
    "anim = FuncAnimation(f, animate, interval=10, frames=30000, blit=False)\n",
    "writervideo = FFMpegWriter(fps=500)\n",
    "anim.save('../../Figure/test.mp4', writer=writervideo)"
   ]
  },
  {
   "cell_type": "code",
   "execution_count": 95,
   "metadata": {},
   "outputs": [],
   "source": [
    "# HTML(anim.to_html5_video())"
   ]
  },
  {
   "cell_type": "markdown",
   "metadata": {},
   "source": [
    "### Prepare Data"
   ]
  },
  {
   "cell_type": "code",
   "execution_count": 7,
   "metadata": {},
   "outputs": [],
   "source": [
    "def streakline_container(eastwest,northsouth):\n",
    "    ew = []\n",
    "    ns= []\n",
    "    for i in range((len(eastwest))-1,-1, -1): \n",
    "        ew.append(np.resize(np.array([eastwest-df.U[i]*dt]),(1,i)).flatten()) \n",
    "        ns.append(np.resize(np.array([northsouth-df.V[i]*dt]),(1,i)).flatten())  \n",
    "    return ew,ns\n",
    "\n",
    "def streakline_calculation(df):\n",
    "    et = [np.sum(df.U[j:])*dt for j in range(0,len(df))]\n",
    "    nt = [np.sum(df.V[j:])*dt for j in range(0,len(df))]\n",
    "    return et, nt"
   ]
  },
  {
   "cell_type": "code",
   "execution_count": 52,
   "metadata": {},
   "outputs": [],
   "source": [
    "et, nt = streakline_calculation(df)\n",
    "ew, ns = streakline_container(et,nt)"
   ]
  },
  {
   "cell_type": "code",
   "execution_count": 6,
   "metadata": {},
   "outputs": [],
   "source": [
    "dir_save = '../../../Research/Images/container_odor/'"
   ]
  },
  {
   "cell_type": "code",
   "execution_count": 48,
   "metadata": {},
   "outputs": [],
   "source": [
    "count = 0\n",
    "N=0\n",
    "#for(upper, lower, step)\n",
    "\n",
    "for i in range(0,10):   \n",
    "    f = plt.figure(figsize =(16,10))\n",
    "    ax = plt.axes (xlim=(-16,12), ylim=(-5,25))\n",
    "    ax.set_xlabel('Longitude(meters)')\n",
    "    ax.set_ylabel('Latitude(meters)')\n",
    "\n",
    "    area = (np.arange(start = len(ew[i]), stop = 0, step = -1)*0.01)**2*4*m.pi #area\n",
    "    ax.scatter(ew[i], ns[i], c='#FFA500', alpha = 0.3, s=np.sqrt(area), label=\"Expected Odor\")\n",
    "    \n",
    "    if (count>500):          \n",
    "        ax.scatter(df.xsrc[N:i],df.ysrc[N:i], c = df.odor[N:i], cmap = 'inferno', vmin =0 , vmax = 13, \n",
    "                   s =12, label=\"Encountered Odor\")\n",
    "        N+=N\n",
    "        \n",
    "    else:\n",
    "        ax.scatter(df.xsrc[:i],df.ysrc[:i], c = df.odor[:i],cmap = 'inferno', vmin =0 , vmax = 13, \n",
    "                   s =12, label=\"Encountered Odor\" )              \n",
    "    count+=1\n",
    "    f.tight_layout()\n",
    "    figurefirst.mpl_functions.set_fontsize(f, 15)\n",
    "    print(i)\n",
    "    f.savefig(dir_save + \"plot\" + str(i) + \".jpg\")\n",
    "    plt.close()"
   ]
  },
  {
   "cell_type": "markdown",
   "metadata": {},
   "source": [
    "### Imagewise Animation Odor_Expected vs Time"
   ]
  },
  {
   "cell_type": "code",
   "execution_count": 22,
   "metadata": {},
   "outputs": [],
   "source": [
    "dir_save = '../../../Research/Images/container_wind/'"
   ]
  },
  {
   "cell_type": "code",
   "execution_count": 23,
   "metadata": {},
   "outputs": [],
   "source": [
    "count = 0\n",
    "N=0\n",
    "for i in range(0,len(df)):\n",
    "    \n",
    "    f, ax = plt.subplots(1,1, figsize =(16,8))\n",
    "    ax.set_xlim(-1,25)\n",
    "    ax.set_ylim(-1,12)\n",
    "    ax.axhline(0, color = 'red')\n",
    "    ax.plot(0,0,'o', markersize = 20)\n",
    "    \n",
    "    if (count>500):          \n",
    "        ax.scatter(df.distance_from_source[N:i],df.nearest_from_streakline[N:i], c = df.odor[N:i], cmap = 'inferno', vmin =0 , vmax = 13, s =12)\n",
    "        N+=1\n",
    "    else:\n",
    "        ax.scatter(df.distance_from_source[:i],df.nearest_from_streakline[:i], c = df.odor[:i],cmap = 'inferno', vmin =0 , vmax = 13, s =12 )\n",
    "    \n",
    "    count+=1\n",
    "    ax.set_xlabel('Distance from source to sensor(m)' , fontsize = 15)\n",
    "    ax.set_ylabel('Shotest Distance \\n Sensor from Streakline (m)' , fontsize = 15)\n",
    "    figurefirst.mpl_functions.set_fontsize(f, 15)\n",
    "    f.savefig(dir_save + \"plot\" + str(i) + \".jpg\")\n",
    "    plt.close()"
   ]
  },
  {
   "cell_type": "code",
   "execution_count": 14,
   "metadata": {},
   "outputs": [],
   "source": [
    "# perform this locally using multiprocessing; does to work in Jupyter\n",
    "# def plot_ts(inputs):\n",
    "#     i, df = inputs\n",
    "#     fig = plt.figure()\n",
    "#     ax = plt.axes (xlim=(0,300), ylim=(0,2))\n",
    "#     ax.set_xlabel('Time')\n",
    "#     ax.set_ylabel('Odor Concentration')\n",
    "#     ax.plot(df.sync_time[:i],df.odor[:i])\n",
    "#     fig.savefig(dir_save + \"plot\" + str(i) + \".jpg\")\n",
    "#     plt.close()    "
   ]
  }
 ],
 "metadata": {
  "interpreter": {
   "hash": "082e9a3bcad0a290d0001e938aa60b99250c6c2ef33a923c00b70f9826caf4b7"
  },
  "kernelspec": {
   "display_name": "Python 3",
   "language": "python",
   "name": "python3"
  },
  "language_info": {
   "codemirror_mode": {
    "name": "ipython",
    "version": 3
   },
   "file_extension": ".py",
   "mimetype": "text/x-python",
   "name": "python",
   "nbconvert_exporter": "python",
   "pygments_lexer": "ipython3",
   "version": "3.8.7"
  }
 },
 "nbformat": 4,
 "nbformat_minor": 4
}
