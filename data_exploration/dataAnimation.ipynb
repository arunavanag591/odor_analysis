{
 "cells": [
  {
   "cell_type": "markdown",
   "metadata": {},
   "source": [
    "### Data Visualization - Ideal vs Encountered"
   ]
  },
  {
   "cell_type": "code",
   "execution_count": 24,
   "metadata": {},
   "outputs": [],
   "source": [
    "#user-defined\n",
    "import ipynb.fs.full.helper as hp\n",
    "\n",
    "#dataframes\n",
    "import pandas as pd\n",
    "import h5py\n",
    "\n",
    "\n",
    "#suppress warnings\n",
    "import warnings\n",
    "warnings.simplefilter(action='ignore', category=FutureWarning)\n",
    "\n",
    "#math\n",
    "import numpy as np\n",
    "import math as m\n",
    "\n",
    "from scipy.spatial.distance import cdist\n",
    "pd.TimeSeries = pd.Series \n",
    "\n",
    "#plots\n",
    "import pylab as plt\n",
    "import matplotlib.pyplot as plt\n",
    "import matplotlib.animation as animation\n",
    "\n",
    "#performance\n",
    "import time \n",
    "import multiprocessing as mp"
   ]
  },
  {
   "cell_type": "markdown",
   "metadata": {},
   "source": [
    "### Load Data"
   ]
  },
  {
   "cell_type": "code",
   "execution_count": 25,
   "metadata": {},
   "outputs": [],
   "source": [
    "set_number = 5\n",
    "\n",
    "dir = '~/dataAnalysis/Sprints/Run03/Set0'+str(set_number)+'/'\n",
    "dir_save = '/home/ecc/dataAnalysis/Images/'\n",
    "\n",
    "wind_load= 'wind0'+str(set_number)+'Run03_Expected_Full.hdf'\n",
    "wind_load_small = 'wind0'+str(set_number)+'Run03_Expected_Small.hdf' ## bag saved from datavisoptimization \n",
    "                                                               ## with expected odor information\n",
    "\n",
    "windn = pd.read_hdf(dir+wind_load)\n",
    "windsm = pd.read_hdf(dir+wind_load_small)"
   ]
  },
  {
   "cell_type": "markdown",
   "metadata": {},
   "source": [
    "### Prepare Data"
   ]
  },
  {
   "cell_type": "code",
   "execution_count": 26,
   "metadata": {},
   "outputs": [],
   "source": [
    "df = pd.DataFrame()\n",
    "df = windsm\n",
    "dt= df.master_time[1]-df.master_time[0]"
   ]
  },
  {
   "cell_type": "code",
   "execution_count": 5,
   "metadata": {},
   "outputs": [],
   "source": [
    "# storing the odor location in a numpy array to avoid reading pandas\n",
    "odor_position = np.array([[df.xsrc[i],df.ysrc[i]] for i in range (len(df.xsrc))]) "
   ]
  },
  {
   "cell_type": "code",
   "execution_count": 17,
   "metadata": {},
   "outputs": [],
   "source": [
    "#summation till Nth particle\n",
    "eastwest = [np.sum(df.U[j:])*dt for j in range(0,len(df))]\n",
    "northsouth = [np.sum(df.V[j:])*dt for j in range(0,len(df))]"
   ]
  },
  {
   "cell_type": "markdown",
   "metadata": {},
   "source": [
    "### Imagewise Animation Odor_expected vs Odor_encountered (from sensor)"
   ]
  },
  {
   "cell_type": "code",
   "execution_count": 18,
   "metadata": {},
   "outputs": [],
   "source": [
    "\n",
    "count = 0\n",
    "N=2500\n",
    "\n",
    "#for(upper, lower, step)\n",
    "#avoiding the last particle\n",
    "for i in range((len(eastwest))-1,0, -1):   \n",
    "    fig = plt.figure()\n",
    "    fig.suptitle('Radius time**0.5*0.01 - Run03_Set05_Small', fontsize =14)\n",
    "    \n",
    "    ax = plt.axes (xlim=(-8,15), ylim=(-2,30))\n",
    "    ax.set_xlabel('Longitude (meters)')\n",
    "    ax.set_ylabel('Latitude(meters)')\n",
    "    \n",
    "    #TODO: Ignoring 0th point\n",
    "    \n",
    "    eastwest = np.resize(np.array([eastwest-df.U[i]*dt]),(1,i)).flatten() \n",
    "    northsouth = np.resize(np.array([northsouth-df.V[i]*dt]),(1,i)).flatten()\n",
    "\n",
    "    area = np.arange(start = i, stop = 0, step = -1)**2*0.04*m.pi #area\n",
    "    \n",
    "    ax.scatter(eastwest, northsouth, c='#FFA500', alpha = 0.3, s=(area/4))\n",
    "    \n",
    "    if (count<2499):          \n",
    "        ax.scatter(df.xsrc[N:i],df.ysrc[N:i], c = df.odor[N:i], cmap = 'inferno', vmin =0 , vmax = 13, s =12)\n",
    "        N=N-1\n",
    "        \n",
    "    else:\n",
    "        ax.scatter(df.xsrc[:i],df.ysrc[:i], c = df.odor[:i],cmap = 'inferno', vmin =0 , vmax = 13, s =12 )\n",
    "\n",
    "    count+=1\n",
    "    \n",
    "    fig.savefig(dir_save + \"plot\" + str(i) + \".jpg\")\n",
    "    plt.close()\n",
    "        "
   ]
  },
  {
   "cell_type": "markdown",
   "metadata": {},
   "source": [
    "### Imagewise Animation Odor_Expected vs Time"
   ]
  },
  {
   "cell_type": "code",
   "execution_count": 27,
   "metadata": {},
   "outputs": [],
   "source": [
    "def plot_ts(input):\n",
    "    i, df = input\n",
    "    fig = plt.figure()\n",
    "    ax = plt.axes (xlim=(0,300), ylim=(0,2))\n",
    "    ax.set_xlabel('Time')\n",
    "    ax.set_ylabel('Odor Concentration')\n",
    "    ax.plot(df.sync_time[:i],df.odor_expected[:i])\n",
    "    fig.savefig(dir_save + \"plot\" + str(i) + \".jpg\")\n",
    "    plt.close()"
   ]
  },
  {
   "cell_type": "code",
   "execution_count": null,
   "metadata": {},
   "outputs": [],
   "source": [
    "start = time.time()\n",
    "\n",
    "inputs = [[i, df] for i in range(len(df))]\n",
    "pool = mp.Pool(processes=(mp.cpu_count()-1))\n",
    "pool.map(plot_ts, inputs)\n",
    "pool.terminate()\n",
    "\n",
    "time.time()-start"
   ]
  },
  {
   "cell_type": "code",
   "execution_count": 17,
   "metadata": {},
   "outputs": [
    {
     "data": {
      "text/plain": [
       "15.51100778579712"
      ]
     },
     "execution_count": 17,
     "metadata": {},
     "output_type": "execute_result"
    }
   ],
   "source": [
    "# start = time.time()\n",
    "# for i in range(0,300):\n",
    "#     fig = plt.figure()\n",
    "#     #fig.suptitle('Odor Encounters')\n",
    "#     ax = plt.axes (xlim=(0,300), ylim=(0,2))\n",
    "#     ax.set_xlabel('Time')\n",
    "#     ax.set_ylabel('Odor Concentration')\n",
    "\n",
    "\n",
    "#     ax.plot(df.sync_time[:i],df.odor_expected[:i])\n",
    "#     fig.savefig(dir_save + \"plot\" + str(i) + \".jpg\")\n",
    "#     plt.close()\n",
    "    \n",
    "# time.time()-start"
   ]
  },
  {
   "cell_type": "markdown",
   "metadata": {},
   "source": [
    "NOTE: ANYTHING BELOW IS JUST FOR PERSONAL NOTE PURPOSE \n",
    "\n",
    "### Animation using Matplotlib Animation"
   ]
  },
  {
   "cell_type": "code",
   "execution_count": 40,
   "metadata": {},
   "outputs": [],
   "source": [
    "# fig = plt.figure()\n",
    "# ax = plt.axes(xlim=(-22,2), ylim=(-15,30))\n",
    "# ax.set_xlabel('Eastwest (meters)')\n",
    "# ax.set_ylabel('NorthSouth (meters)')\n",
    "# plt.close()\n",
    "# line, = ax.scatter([],[], 'o', lw=2)\n",
    "\n",
    "# def init():\n",
    "#     line.set_data([],[])\n",
    "#     return line,\n",
    "\n",
    "# # def get_data_x(i):\n",
    "# #     return we.loc[i]\n",
    "\n",
    "# def get_data_y(i):\n",
    "#     return generate_particle(i)\n",
    "\n",
    "# def update(i):\n",
    "#     #x = get_data_x(i)\n",
    "#     y = get_data_y(i)\n",
    "#     line.set_data(y)\n",
    "#     return line,\n",
    "\n",
    "# #an = animation.FuncAnimation(fig,update,frames = pd.Index.intersection(we.index,ns.index),\n",
    "#                               #interval = 5, blit=False)\n",
    "# #an.save('../../../Research/Images/Video/fast_flow.mp4', fps=100, extra_args=['-vcodec', 'libx264'])\n",
    "# # plt.show()"
   ]
  },
  {
   "cell_type": "markdown",
   "metadata": {},
   "source": [
    "#### 2D scatter plot for entire 300 seconds for ideal vs actual odor counters"
   ]
  },
  {
   "cell_type": "code",
   "execution_count": 57,
   "metadata": {},
   "outputs": [
    {
     "data": {
      "text/plain": [
       "[<matplotlib.lines.Line2D at 0x7fe0ddb6eee0>]"
      ]
     },
     "execution_count": 57,
     "metadata": {},
     "output_type": "execute_result"
    },
    {
     "data": {
      "image/png": "[encoded data removed]",
      "text/plain": [
       "<Figure size 576x288 with 1 Axes>"
      ]
     },
     "metadata": {
      "needs_background": "light"
     },
     "output_type": "display_data"
    }
   ],
   "source": [
    "fig, ax = plt.subplots(1, figsize=(8, 4))\n",
    "fig.suptitle('Odor Encounters')\n",
    "ax = plt.axes (xlim=(-9,4), ylim=(-2,9))\n",
    "# Plot the data\n",
    "ax.scatter(geodfsub.xsrc, geodfsub.ysrc, c=geodfsub.odor, cmap='magma', s= 0.8)\n",
    "ax.set_xlabel('Longitude (meters)')\n",
    "ax.set_ylabel('Latitude(meters)')\n",
    "plt.plot(0,0, marker='x', markersize=15)\n",
    "# Show the grid lines as dark grey lines\n",
    "ax.grid(b=True, which='major', color='#666666', linestyle='-')\n",
    "plt.plot(we.particle0,ns.particle0, c='b')\n"
   ]
  },
  {
   "cell_type": "markdown",
   "metadata": {},
   "source": [
    "#### 2D scatter plot for high odor concentration vs ideal wind particle"
   ]
  },
  {
   "cell_type": "code",
   "execution_count": 13,
   "metadata": {
    "scrolled": true
   },
   "outputs": [
    {
     "data": {
      "text/plain": [
       "(-16.0, 3.0)"
      ]
     },
     "execution_count": 13,
     "metadata": {},
     "output_type": "execute_result"
    },
    {
     "data": {
      "image/png": "[encoded data removed]",
      "text/plain": [
       "<Figure size 576x288 with 1 Axes>"
      ]
     },
     "metadata": {
      "needs_background": "light"
     },
     "output_type": "display_data"
    }
   ],
   "source": [
    "fig, ax = plt.subplots(1, figsize=(8, 4))\n",
    "fig.suptitle('Odor High Concentration Encounters')\n",
    "ax = plt.axes (xlim=(-9,4), ylim=(-2,9))\n",
    "# Plot the data\n",
    "ax.scatter(df_t.xsrc, df_t.ysrc, c=df_t.odor, cmap='magma', s= 15)\n",
    "ax.set_xlabel('Longitude (meters)')\n",
    "ax.set_ylabel('Latitude(meters)')\n",
    "plt.plot(0,0, marker='x', markersize=15)\n",
    "# Show the grid lines as dark grey lines\n",
    "ax.grid(b=True, which='major', color='#666666', linestyle='-')\n",
    "plt.plot(we.particle0,ns.particle0, markersize=20, c='b')\n"
   ]
  },
  {
   "cell_type": "markdown",
   "metadata": {},
   "source": [
    "#### ANIMATION 02 - Ideal vs Encountered Odor"
   ]
  },
  {
   "cell_type": "code",
   "execution_count": null,
   "metadata": {
    "scrolled": true
   },
   "outputs": [],
   "source": [
    "## Setting figure\n",
    "\n",
    "fig = plt.figure()\n",
    "ax = plt.axes(xlim=(-9,4), ylim=(-2,9))\n",
    "ax.set_xlabel('Eastwest (meters)')\n",
    "ax.set_ylabel('NorthSouth (meters)')\n",
    "plt.close()\n",
    "\n",
    "wind, = ax.plot([],[], 'o', color =\"b\", lw = 2)\n",
    "line, = ax.scatter([],[], c = geodfsub.odor, cmap='magma', s= 15)\n",
    "\n",
    "def init():\n",
    "    line.set_data([],[])  \n",
    "    wind.set_data([],[])\n",
    "    return wind,\n",
    "\n",
    "def get_data_we_(i):\n",
    "    return dfwe.loc[i]\n",
    "\n",
    "def get_data_ns_(i):\n",
    "    return dfns.loc[i]\n",
    "\n",
    "def get_data_x_(i):\n",
    "    return geodfsub.xsrc[i]\n",
    "\n",
    "def get_data_y_(i):\n",
    "    return geodfsub.ysrc[i]\n",
    "\n",
    "def update(i):\n",
    "#     wex = get_data_we_(i)\n",
    "#     nsy = get_data_ns_(i)\n",
    "#     wind.set_data(wex,nsy)\n",
    "    x = get_data_x_(i)\n",
    "    y = get_data_y_(i)\n",
    "    line.set_data(x,y)\n",
    "    \n",
    "    return line,\n",
    "\n",
    "\n"
   ]
  },
  {
   "cell_type": "code",
   "execution_count": 19,
   "metadata": {},
   "outputs": [],
   "source": [
    "# ani = animation.FuncAnimation(fig, update, init_func=init, frames = int(len(geodfsub.ysrc)/2), interval = 5, blit=False)\n",
    "ani = animation.FuncAnimation(fig, update, init_func=init, frames = 500, interval = 5, blit=False)\n",
    "\n",
    "\n",
    "#ani.save('../../../Research/Images/Video/test_ideal.mp4', fps=100, extra_args=['-vcodec', 'libx264'])\n",
    "#HTML(ani.to_html5_video())\n",
    "\n",
    "\n"
   ]
  }
 ],
 "metadata": {
  "kernelspec": {
   "display_name": "Python 3",
   "language": "python",
   "name": "python3"
  },
  "language_info": {
   "codemirror_mode": {
    "name": "ipython",
    "version": 3
   },
   "file_extension": ".py",
   "mimetype": "text/x-python",
   "name": "python",
   "nbconvert_exporter": "python",
   "pygments_lexer": "ipython3",
   "version": "3.6.9"
  }
 },
 "nbformat": 4,
 "nbformat_minor": 4
}
