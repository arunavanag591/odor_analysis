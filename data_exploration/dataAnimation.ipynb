{
 "cells": [
  {
   "cell_type": "markdown",
   "metadata": {},
   "source": [
    "### Data Visualization - Ideal vs Encountered"
   ]
  },
  {
   "cell_type": "code",
   "execution_count": 2,
   "metadata": {},
   "outputs": [],
   "source": [
    "#dataframes\n",
    "import pandas as pd\n",
    "import h5py\n",
    "\n",
    "#suppress warnings\n",
    "import warnings\n",
    "warnings.simplefilter(action='ignore', category=FutureWarning)\n",
    "\n",
    "#math\n",
    "import numpy as np\n",
    "import math as m\n",
    "from scipy.spatial.distance import cdist\n",
    "pd.TimeSeries = pd.Series \n",
    "\n",
    "#plots\n",
    "import matplotlib.pyplot as plt\n",
    "from mpl_toolkits.axes_grid1 import make_axes_locatable # for colorbar\n",
    "import figurefirst\n",
    "from figurefirst import FigureLayout,mpl_functions\n",
    "from IPython.display import HTML\n",
    "from matplotlib.animation import FuncAnimation\n",
    "from matplotlib.animation import FFMpegWriter\n",
    "\n",
    "#performance\n",
    "import time "
   ]
  },
  {
   "cell_type": "code",
   "execution_count": 3,
   "metadata": {},
   "outputs": [],
   "source": [
    "def calc(desired_amount):\n",
    "    return desired_amount/((100-5.5)/100)"
   ]
  },
  {
   "cell_type": "code",
   "execution_count": 7,
   "metadata": {},
   "outputs": [
    {
     "data": {
      "text/plain": [
       "0.05820105820105823"
      ]
     },
     "execution_count": 7,
     "metadata": {},
     "output_type": "execute_result"
    }
   ],
   "source": [
    "((calc(400))-400 )/400"
   ]
  },
  {
   "cell_type": "code",
   "execution_count": null,
   "metadata": {},
   "outputs": [],
   "source": []
  },
  {
   "cell_type": "markdown",
   "metadata": {},
   "source": [
    "### Load Data"
   ]
  },
  {
   "cell_type": "code",
   "execution_count": 2,
   "metadata": {},
   "outputs": [],
   "source": [
    "dir = '~/Documents/Myfiles/DataAnalysis/data/Sprints/LowRes/'\n",
    "# dir_save = '../../../Research/Images/container_odor/'\n",
    "df = pd.DataFrame()\n",
    "df = pd.read_hdf(dir+'NotWindy.h5')\n",
    "dt= df.master_time[1]-df.master_time[0]"
   ]
  },
  {
   "cell_type": "code",
   "execution_count": 3,
   "metadata": {},
   "outputs": [
    {
     "name": "stderr",
     "output_type": "stream",
     "text": [
      "<ipython-input-3-e1ce2d7d1d16>:5: SettingWithCopyWarning: \n",
      "A value is trying to be set on a copy of a slice from a DataFrame\n",
      "\n",
      "See the caveats in the documentation: https://pandas.pydata.org/pandas-docs/stable/user_guide/indexing.html#returning-a-view-versus-a-copy\n",
      "  df.nfs[i]=df.nfs[i]*-1\n"
     ]
    }
   ],
   "source": [
    "df[\"nfs\"]=df.nearest_from_streakline\n",
    "for i in range(len(df)):\n",
    "        \n",
    "    if(df.ysrc[i] < 0):\n",
    "        df.nfs[i]=df.nfs[i]*-1\n",
    "    "
   ]
  },
  {
   "cell_type": "code",
   "execution_count": 4,
   "metadata": {},
   "outputs": [],
   "source": [
    "df[\"distance_from_source_a\"]=np.sqrt(df.distance_from_source**2 - df.nearest_from_streakline**2)"
   ]
  },
  {
   "cell_type": "code",
   "execution_count": 5,
   "metadata": {},
   "outputs": [],
   "source": [
    "df = df[df['time'].between(100,300)]\n",
    "# df = df[df['time']>=2000]"
   ]
  },
  {
   "cell_type": "code",
   "execution_count": 6,
   "metadata": {},
   "outputs": [],
   "source": [
    "df.reset_index(inplace=True, drop=True) "
   ]
  },
  {
   "cell_type": "code",
   "execution_count": 7,
   "metadata": {},
   "outputs": [
    {
     "data": {
      "text/plain": [
       "1500"
      ]
     },
     "execution_count": 7,
     "metadata": {},
     "output_type": "execute_result"
    }
   ],
   "source": [
    "len(df)"
   ]
  },
  {
   "cell_type": "markdown",
   "metadata": {},
   "source": [
    "### Prepare Data"
   ]
  },
  {
   "cell_type": "code",
   "execution_count": 7,
   "metadata": {},
   "outputs": [],
   "source": [
    "def streakline_container(eastwest,northsouth):\n",
    "\n",
    "    for i in range((len(eastwest))-1,-1, -1): \n",
    "        eastwest = np.resize(np.array([eastwest-df.corrected_u[i]*dt]),(1,i)).flatten() \n",
    "        northsouth = np.resize(np.array([northsouth-df.corrected_v[i]*dt]),(1,i)).flatten()\n",
    "        x.loc[i]=np.pad(eastwest, ((len(df)-len(eastwest)),0),'constant', constant_values=(0))\n",
    "        y.loc[i]=np.pad(northsouth, ((len(df)-len(northsouth)),0),'constant', constant_values=(0))\n",
    "\n",
    "def streakline_calculation(df):\n",
    "    et = [np.sum(df.corrected_u[j:])*dt for j in range(0,len(df))]\n",
    "    nt = [np.sum(df.corrected_v[j:])*dt for j in range(0,len(df))]\n",
    "    return et, nt\n",
    "\n",
    "def prepare_df(df):\n",
    "    df.pop(df.columns[0])\n",
    "    strings=[]\n",
    "    for i in range(len(df)-1,0,-1):\n",
    "        strings.append(\"p\"+str(i))\n",
    "    df.columns=strings\n",
    "    df.reset_index(inplace=True, drop=True) \n",
    "    return df\n",
    "\n",
    "def c_bar(ax, var):\n",
    "    divider = make_axes_locatable(ax)\n",
    "    cax = divider.append_axes('right', size='5%', pad=0.08)\n",
    "    cbar=f.colorbar(var, cax=cax, orientation = 'vertical', ticks=[0, 10])\n",
    "    cbar.ax.set_yticklabels(['0', '10'])\n",
    "    cbar.ax.set_ylabel('Odor(V)', rotation=-90, labelpad=-5)"
   ]
  },
  {
   "cell_type": "code",
   "execution_count": 8,
   "metadata": {},
   "outputs": [],
   "source": [
    "et, nt = streakline_calculation(df)"
   ]
  },
  {
   "cell_type": "code",
   "execution_count": 9,
   "metadata": {},
   "outputs": [],
   "source": [
    "strings=[]\n",
    "for i in range(len(df)):\n",
    "    strings.append(\"p\"+str(i))\n",
    "\n",
    "x=pd.DataFrame(columns=strings,index=range(len(df)))\n",
    "y=pd.DataFrame(columns=strings,index=range(len(df)))\n",
    "streakline_container(et,nt)\n",
    "x=prepare_df(x)\n",
    "y=prepare_df(y)"
   ]
  },
  {
   "cell_type": "code",
   "execution_count": 10,
   "metadata": {},
   "outputs": [],
   "source": [
    "# dir ='~/Documents/MyFiles/DataAnalysis/data/Sprints/LowRes/'\n",
    "# x.to_hdf(dir+'LWsample.h5', key='x', mode='w')\n",
    "# y.to_hdf(dir+'Lwsample.h5', key='y', mode='w')\n",
    "\n",
    "# # x=pd.read_hdf(dir+'LWx4500-5000.h5')\n",
    "# # y=pd.read_hdf(dir+'Lwy4500-5000.h5')"
   ]
  },
  {
   "cell_type": "code",
   "execution_count": 10,
   "metadata": {},
   "outputs": [],
   "source": [
    "dir_save = '../../Figure/sampleDirectionChange/'"
   ]
  },
  {
   "cell_type": "code",
   "execution_count": 14,
   "metadata": {
    "scrolled": true
   },
   "outputs": [],
   "source": [
    "# count = 0\n",
    "tail=300\n",
    "\n",
    "for i in range(0,len(df)):   \n",
    "    f = plt.figure(figsize =(8,5))\n",
    "    ax = plt.axes (xlim=(-16,12), ylim=(-5,25))\n",
    "    ax.plot(0,0, 'x', label=\"Source\")\n",
    "    area = (np.arange(start = i, stop = 0 , step = -1))**2 #area\n",
    "    ax.scatter(x.loc[i][x.loc[i]!=0],y.loc[i][y.loc[i]!=0], \n",
    "               c='#FFA500', s=np.sqrt(area),\n",
    "               label=\"Streakline Derived\\nfrom Wind\", edgecolors='none',)\n",
    "    \n",
    "    ax.plot(df.xsrc[i],df.ysrc[i],marker='*', markersize=11, c='green', label='Sensor Current\\nPosition')\n",
    "    \n",
    "    if (i>tail):          \n",
    "        var = ax.scatter(df.xsrc[(i-tail):i],df.ysrc[(i-tail):i], c = df.odor[(i-tail):i], \n",
    "                   cmap = 'inferno_r', vmin =0 , vmax = 10, \n",
    "                   s =12)\n",
    "        c_bar(ax, var)\n",
    "    else:\n",
    "        var = ax.scatter(df.xsrc[:i],df.ysrc[:i], c = df.odor[:i],\n",
    "                         cmap = 'inferno_r', vmin =0 , vmax = 10, s =12 )       \n",
    "        c_bar(ax, var)\n",
    "   \n",
    "    ax.set_xlabel('Longitude, m')\n",
    "    ax.set_ylabel('Latitude, m')\n",
    "\n",
    "    ax.set_xticks([-15,0,15])\n",
    "    ax.set_yticks([-5,10,25])\n",
    "    \n",
    "    f.tight_layout(pad=1)\n",
    "    figurefirst.mpl_functions.set_fontsize(f, 22)\n",
    "    ax.text(-15.5, -4.2,\"time= \" + str('{:.4g}'.format(df.time[i]))+ \" secs\", \n",
    "             fontsize=12)\n",
    "    lgnd=ax.legend(edgecolor='black', framealpha=1, loc='upper right')\n",
    "    lgnd.legendHandles[1]._sizes = [15]\n",
    "    lgnd.legendHandles[2]._sizes = [35]\n",
    "    \n",
    "    f.savefig(dir_save + \"plot\" + str(i) + \".jpg\", dpi=300, bbox_inches = \"tight\")\n",
    "    plt.close()"
   ]
  },
  {
   "cell_type": "code",
   "execution_count": 196,
   "metadata": {},
   "outputs": [],
   "source": [
    "# tail=300\n",
    "# for i in range(1500,1510, 1):   \n",
    "#     f, (ax,ax1) = plt.subplots(2,1,figsize =(10,12))\n",
    "#     ax.set_xlim(-16,12)\n",
    "#     ax.set_ylim(-5,25)\n",
    "#     ax.plot(0,0, 'x', label=\"Source\")\n",
    "#     area = (np.arange(start = i, stop = 0 , step = -1))**3 #area\n",
    "#     ax.scatter(x.loc[i][x.loc[i]!=0],y.loc[i][y.loc[i]!=0], \n",
    "#                c='#FFA500', s=np.sqrt(area),\n",
    "#                label=\"Streakline Derived\\nfrom Wind\", edgecolors='none',)\n",
    "#     ax.plot(df.xsrc[i],df.ysrc[i],marker='*', markersize=11, c='green', label='Sensor Current\\nPosition')\n",
    "    \n",
    "#     if (i>tail):          \n",
    "#         var = ax.scatter(df.xsrc[(i-tail):i],df.ysrc[(i-tail):i], c = df.odor[(i-tail):i], \n",
    "#                    cmap = 'inferno', vmin =0 , vmax = 10, \n",
    "#                    s =12)\n",
    "#         c_bar(ax, var)\n",
    "    \n",
    "#     else:\n",
    "#         var = ax.scatter(df.xsrc[:i],df.ysrc[:i], c = df.odor[:i],\n",
    "#                          cmap = 'inferno', vmin =0 , vmax = 10, \n",
    "#                    s =12 )       \n",
    "#         c_bar(ax, var)\n",
    "   \n",
    "#     ax.set_xlabel('Longitude, m')\n",
    "#     ax.set_ylabel('Latitude, m')\n",
    "\n",
    "#     ax.set_xticks([-15,0,15])\n",
    "#     ax.set_yticks([-5,10,25])\n",
    "    \n",
    "#     f.tight_layout(pad=2)\n",
    "#     figurefirst.mpl_functions.set_fontsize(f, 22)\n",
    "#     ax.text(-15.5, -4.2,\"time= \" + str('{:.4g}'.format(df.time[i]))+ \" secs\", \n",
    "#              fontsize=12)\n",
    "#     lgnd=ax.legend(edgecolor='black', framealpha=1, bbox_to_anchor=(1,1))\n",
    "#     lgnd.legendHandles[]._sizes = [35]\n",
    "#     lgnd.legendHandles[]._sizes = [35]\n",
    "    \n",
    "#     f.savefig(dir_save + \"plot\" + str(i) + \".jpg\", dpi=300, bbox_inches = \"tight\")\n",
    "#     plt.close()"
   ]
  },
  {
   "cell_type": "code",
   "execution_count": 19,
   "metadata": {},
   "outputs": [],
   "source": [
    "# eastwest = [np.sum(df.corrected_u[j:])*dt for j in range(0,len(df))]\n",
    "# northsouth = [np.sum(df.corrected_v[j:])*dt for j in range(0,len(df))]"
   ]
  },
  {
   "cell_type": "code",
   "execution_count": 52,
   "metadata": {},
   "outputs": [],
   "source": [
    "# count = 0\n",
    "# N=2500\n",
    "\n",
    "# #avoiding the last particle\n",
    "# for i in range((len(eastwest))-1,0, -1):   \n",
    "#     fig = plt.figure()\n",
    "#     fig.suptitle('Radius time**0.5*0.01 - Run03_Set05_Small', fontsize =14)\n",
    "    \n",
    "#     ax = plt.axes (xlim=(-8,15), ylim=(-2,30))\n",
    "#     ax.set_xlabel('Longitude (meters)')\n",
    "#     ax.set_ylabel('Latitude(meters)')\n",
    "    \n",
    "#     #TODO: Ignoring 0th point\n",
    "    \n",
    "#     eastwest = np.resize(np.array([eastwest-df.corrected_u[i]*dt]),(1,i)).flatten() \n",
    "#     northsouth = np.resize(np.array([northsouth-df.corrected_v[i]*dt]),(1,i)).flatten()\n",
    "\n",
    "#     area = np.arange(start = i, stop = 0, step = -1)**2*0.04*m.pi #area\n",
    "    \n",
    "#     ax.scatter(eastwest, northsouth, c='#FFA500', alpha = 0.3, s=(area/4))\n",
    "    \n",
    "#     if (count<2499):          \n",
    "#         ax.scatter(df.xsrc[N:i],df.ysrc[N:i], c = df.odor[N:i], cmap = 'inferno', vmin =0 , vmax = 13, s =12)\n",
    "#         N=N-1\n",
    "        \n",
    "#     else:\n",
    "#         ax.scatter(df.xsrc[:i],df.ysrc[:i], c = df.odor[:i],cmap = 'inferno', vmin =0 , vmax = 13, s =12 )\n",
    "\n",
    "#     count+=1\n",
    "    \n",
    "#     fig.savefig(dir_save + \"plot\" + str(i) + \".jpg\")\n",
    "#     plt.close()"
   ]
  },
  {
   "cell_type": "markdown",
   "metadata": {},
   "source": [
    "### Imagewise Animation Odor_Expected vs Time"
   ]
  },
  {
   "cell_type": "code",
   "execution_count": 22,
   "metadata": {},
   "outputs": [],
   "source": [
    "dir_save = '../../../Research/Images/container_wind/'"
   ]
  },
  {
   "cell_type": "code",
   "execution_count": 23,
   "metadata": {},
   "outputs": [],
   "source": [
    "count = 0\n",
    "N=0\n",
    "for i in range(0,len(df)):\n",
    "    \n",
    "    f, ax = plt.subplots(1,1, figsize =(16,8))\n",
    "    ax.set_xlim(-1,25)\n",
    "    ax.set_ylim(-1,12)\n",
    "    ax.axhline(0, color = 'red')\n",
    "    ax.plot(0,0,'o', markersize = 20)\n",
    "    \n",
    "    if (count>500):          \n",
    "        ax.scatter(df.distance_from_source[N:i],df.nearest_from_streakline[N:i], c = df.odor[N:i], cmap = 'inferno', vmin =0 , vmax = 13, s =12)\n",
    "        N+=1\n",
    "    else:\n",
    "        ax.scatter(df.distance_from_source[:i],df.nearest_from_streakline[:i], c = df.odor[:i],cmap = 'inferno', vmin =0 , vmax = 13, s =12 )\n",
    "    \n",
    "    count+=1\n",
    "    ax.set_xlabel('Distance from source to sensor(m)' , fontsize = 15)\n",
    "    ax.set_ylabel('Shotest Distance \\n Sensor from Streakline (m)' , fontsize = 15)\n",
    "    figurefirst.mpl_functions.set_fontsize(f, 15)\n",
    "    f.savefig(dir_save + \"plot\" + str(i) + \".jpg\")\n",
    "    plt.close()"
   ]
  },
  {
   "cell_type": "markdown",
   "metadata": {},
   "source": [
    "### Animation using Matplotlib FuncAnimation"
   ]
  },
  {
   "cell_type": "code",
   "execution_count": null,
   "metadata": {},
   "outputs": [],
   "source": [
    "# f , (ax1,ax2) = plt.subplots(2,1, figsize=(8,12)) \n",
    "\n",
    "# n=500\n",
    "# def animate(i):\n",
    "#     ax1.cla()\n",
    "# #     ax2.cla()\n",
    "# #     i=20*i\n",
    "  \n",
    "# #     area = (np.arange(start = len(ew[i]), stop = 0, step = -1)*0.01)**2*4*m.pi #area\n",
    "# #     ax1.scatter(ew[i], ns[i], c='#FFA500', alpha = 0.3, s=np.sqrt(area), label=\"Expected Odor\")\n",
    "    \n",
    "# #     if (i>500):          \n",
    "# #         ax1.scatter(df.xsrc.iloc[(n):i],df.ysrc.iloc[(n):i], \n",
    "# #                     c = df.odor.iloc[(i-n):i], \n",
    "# #                     cmap = 'viridis', vmin =0 , vmax = 10, s =12)\n",
    "# #         n+=n\n",
    "# #     else:\n",
    "# #         ax1.scatter(df.xsrc[:i],df.ysrc[:i], \n",
    "# #                     c = df.odor.iloc[:i], \n",
    "# #                     cmap = 'viridis', vmin =0 , vmax = 10, s =12)\n",
    "\n",
    "\n",
    "#     if (i>500):          \n",
    "#         ax2.scatter(df.distance_from_source_a.iloc[(i-n):i],df.nfs.iloc[(i-n):i], \n",
    "#                    c = df.odor.iloc[(i-n):i], \n",
    "#                    cmap = 'viridis', vmin =0 , vmax = 10, s =12)\n",
    "# #         N+=1\n",
    "#     else:\n",
    "#         ax2.scatter(df.distance_from_source_a.iloc[:i],df.nfs.iloc[:i], c = df.odor.iloc[:i],\n",
    "#                    cmap = 'viridis', vmin =0 , vmax = 10, s =12 )\n",
    "        \n",
    "# #     mpl_functions.adjust_spines(ax1,['left','right','bottom','top'],spine_locations={},\n",
    "# #                             smart_bounds=True, xticks=[-15,0,10],yticks=[-5,10,20],linewidth=1)\n",
    "#     mpl_functions.adjust_spines(ax2,['left','right','bottom','top'],spine_locations={},\n",
    "#                             smart_bounds=True, xticks=[0,25,50],yticks=[-25,0,25],linewidth=1)\n",
    "\n",
    "# #     ax1.set_xlabel('Longitude(meters)')\n",
    "# #     ax1.set_ylabel('Latitude(meters)')\n",
    "# #     ax2.set_xlabel(\"Distance Along Streakline\")\n",
    "#     ax2.set_ylabel(\"Nearest from Streakline\")\n",
    "#     f.tight_layout(pad=1)\n",
    "#     figurefirst.mpl_functions.set_fontsize(f, 22)\n",
    "    \n",
    "# anim = FuncAnimation(f, animate, interval=10, frames=(len(df)-1), blit=False)\n",
    "# writervideo = FFMpegWriter(fps=500)\n",
    "# anim.save('../../Figure/test.mp4', writer=writervideo)\n",
    "# HTML(anim.to_html5_video())"
   ]
  }
 ],
 "metadata": {
  "interpreter": {
   "hash": "082e9a3bcad0a290d0001e938aa60b99250c6c2ef33a923c00b70f9826caf4b7"
  },
  "kernelspec": {
   "display_name": "Python 3",
   "language": "python",
   "name": "python3"
  },
  "language_info": {
   "codemirror_mode": {
    "name": "ipython",
    "version": 3
   },
   "file_extension": ".py",
   "mimetype": "text/x-python",
   "name": "python",
   "nbconvert_exporter": "python",
   "pygments_lexer": "ipython3",
   "version": "3.8.7"
  }
 },
 "nbformat": 4,
 "nbformat_minor": 4
}
