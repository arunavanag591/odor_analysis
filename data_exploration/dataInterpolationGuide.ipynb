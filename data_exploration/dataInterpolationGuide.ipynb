{
 "cells": [
  {
   "cell_type": "markdown",
   "metadata": {},
   "source": [
    "# How to Interpolate?"
   ]
  },
  {
   "cell_type": "code",
   "execution_count": 1,
   "metadata": {},
   "outputs": [],
   "source": [
    "#user-defined\n",
    "import ipynb.fs.full.helper as hp\n",
    "\n",
    "#dataframes\n",
    "import pandas as pd\n",
    "import h5py\n",
    "# import rosbag_pandas\n",
    "\n",
    "#math\n",
    "import numpy as np\n",
    "import math\n",
    "pd.TimeSeries = pd.Series \n",
    "\n",
    "#interpolation scipy\n",
    "import scipy\n",
    "from scipy import signal\n",
    "import scipy.interpolate as interpolate\n",
    "from scipy import integrate\n",
    "\n",
    "#gps\n",
    "from geopy import distance\n",
    "import geopandas as gpd\n",
    "import utm\n",
    "import datetime as dt\n",
    "\n",
    "#plots\n",
    "import pylab as plt\n",
    "import matplotlib.pyplot as plt\n",
    "import matplotlib.animation as animation  \n",
    "\n"
   ]
  },
  {
   "cell_type": "markdown",
   "metadata": {},
   "source": [
    "### Using Rosbag Pandas to import Bag"
   ]
  },
  {
   "cell_type": "code",
   "execution_count": 2,
   "metadata": {},
   "outputs": [],
   "source": [
    "def clean_df(df):\n",
    "    df.columns=df.columns.str.replace(r\"/\", \"_\")\n",
    "    df = df[df.columns.drop(list(df.filter(regex='covariance')))]\n",
    "    df = df[df.columns.drop(list(df.filter(regex='frame_id')))]\n",
    "    df = df[df.columns.drop(list(df.filter(regex='twist_twist_angular')))]\n",
    "    df = df[df.columns.drop(list(df.filter(regex='seq')))]\n",
    "    return df\n",
    "def rosbag_to_pandas(filename, topics):  \n",
    "    d = {name: pd.DataFrame() for name in topics}\n",
    "    data = []\n",
    "    for name,df in d.items():\n",
    "        df = rosbag_pandas.bag_to_dataframe(filename, include=[name])\n",
    "        df = clean_df(df)\n",
    "        data.append(df)\n",
    "    data=pd.concat(data)\n",
    "    return data"
   ]
  },
  {
   "cell_type": "code",
   "execution_count": null,
   "metadata": {},
   "outputs": [],
   "source": [
    "set_number = 5\n",
    "\n",
    "dir = '~/Documents/Myfiles/DataAnalysis/data/Sprints/Run05/Set0'+str(set_number)+'/'\n",
    "windbag = 'wind0'+str(set_number)+'Run05.hdf'\n",
    "odorbag = 'odor0'+str(set_number)+'Run05_Interpolated.hdf'\n",
    "wind=pd.read_hdf(dir+windbag)\n",
    "odor=pd.read_hdf(dir+odorbag)"
   ]
  },
  {
   "cell_type": "code",
   "execution_count": 18,
   "metadata": {},
   "outputs": [],
   "source": [
    "for i in range(0,15):\n",
    "    set_number = i\n",
    "    filename = '/home/ecc/data/BagsOctober/Run03/OctoberDesert1020_'+str(set_number)+'.bag'\n",
    "    topics = ('/trisonica','/analog_output','/ublox_gps/fix', '/ublox_gps/fix_velocity','/imu/data')\n",
    "    df= rosbag_to_pandas(filename, topics)\n",
    "    df = df.reset_index()\n",
    "    df = df.rename(columns={\"index\": \"master_time\"})\n",
    "    df.to_hdf('/home/ecc/data/DesertDataOct/Run03/Run03Set0'+str(set_number)+'.h5', key='df', mode='w')\n",
    "# df.keys()"
   ]
  },
  {
   "cell_type": "markdown",
   "metadata": {},
   "source": [
    "### Load Data"
   ]
  },
  {
   "cell_type": "code",
   "execution_count": 12,
   "metadata": {},
   "outputs": [
    {
     "data": {
      "text/plain": [
       "150000"
      ]
     },
     "execution_count": 12,
     "metadata": {},
     "output_type": "execute_result"
    }
   ],
   "source": [
    "sprint_number = 3\n",
    "set_number = 5\n",
    "fname = '/home/ecc/data/DesertDataOct/Run0'+str(sprint_number)+'/Run03Set0'+str(set_number)+'.h5'\n",
    "df = pd.read_hdf(fname)\n",
    "len(df)"
   ]
  },
  {
   "cell_type": "code",
   "execution_count": 73,
   "metadata": {},
   "outputs": [],
   "source": [
    "data = []\n",
    "for i in range(10,15):\n",
    "    set_number = i \n",
    "    f_name = '/home/ecc/data/DesertDataOct/Run03/Run03Set0'+str(set_number)+'.h5'    \n",
    "    df = pd.read_hdf(f_name)\n",
    "    data.append(df)\n",
    "df=pd.concat(data)    "
   ]
  },
  {
   "cell_type": "code",
   "execution_count": 2,
   "metadata": {},
   "outputs": [],
   "source": [
    "# set_number = 5\n",
    "\n",
    "# dir = '~/Documents/Myfiles/DataAnalysis/data/Sprints/Run05/Set0'+str(set_number)+'/'\n",
    "collection_number=1\n",
    "dir = '~/Documents/Myfiles/DataAnalysis/data/Sprints/Run05/Collections/'\n",
    "\n",
    "windbag = 'windColl0'+str(collection_number)+'Run05.hdf'\n",
    "sensor_load = 'Coll0'+str(collection_number)+'Run05_Interpolated.h5'\n",
    "# windbag = 'wind0'+str(set_number)+'Run03.hdf'\n",
    "# sensor_load = 'Run03Set0'+str(set_number)+'_Interpolated.h5'\n",
    "wind=pd.read_hdf(dir+windbag)\n",
    "odor = pd.read_hdf(dir+sensor_load)"
   ]
  },
  {
   "cell_type": "code",
   "execution_count": 28,
   "metadata": {},
   "outputs": [],
   "source": [
    "# df = df.reset_index()\n",
    "# df = df.rename(columns={\"index\": \"master_time\"}) \n",
    "# sync_time = df.master_time - df.master_time[0]\n",
    "# df.insert(1, 'time', sync_time)"
   ]
  },
  {
   "cell_type": "markdown",
   "metadata": {},
   "source": [
    "### Converting lat lon information to meters"
   ]
  },
  {
   "cell_type": "code",
   "execution_count": 3,
   "metadata": {},
   "outputs": [
    {
     "name": "stderr",
     "output_type": "stream",
     "text": [
      "/Users/an/Documents/MyFiles/DataAnalysis/FlyDataAnalysis/lib/python3.8/site-packages/pyproj/crs/crs.py:53: FutureWarning: '+init=<authority>:<code>' syntax is deprecated. '<authority>:<code>' is the preferred initialization method. When making the change, be mindful of axis order changes: https://pyproj4.github.io/pyproj/stable/gotchas.html#axis-order-changes-in-proj-6\n",
      "  return _prepare_from_string(\" \".join(pjargs))\n"
     ]
    }
   ],
   "source": [
    "from shapely.geometry import Point\n",
    "odor['geometry'] = odor.apply(lambda row: Point(row.lon, row.lat), axis=1)\n",
    "\n",
    "geodf = gpd.GeoDataFrame(odor)\n",
    "geodf.crs= {'init': 'epsg:4326'}\n",
    "# change the projection of geodf\n",
    "geodf = geodf.to_crs(\"+proj=utm +zone=11 +ellps=WGS84 +datum=WGS84 +units=m +no_def\")\n",
    "\n",
    "geodf[\"x\"] = geodf.geometry.apply(lambda row:row.x)\n",
    "geodf[\"y\"] = geodf.geometry.apply(lambda row:row.y)\n",
    "\n",
    "#source location to meters\n",
    "source = (40.79376709443614, -119.15757512132207)\n",
    "u =  utm.from_latlon(40.79376709443614, -119.15757512132207)\n",
    "xfromsrc= geodf.x-u[0]\n",
    "geodf.insert(9,'xsrc',xfromsrc) \n",
    "\n",
    "yfromsrc = geodf.y-u[1]\n",
    "geodf.insert(10,'ysrc', yfromsrc)"
   ]
  },
  {
   "cell_type": "markdown",
   "metadata": {},
   "source": [
    "### Interpolate"
   ]
  },
  {
   "cell_type": "code",
   "execution_count": 6,
   "metadata": {},
   "outputs": [
    {
     "name": "stdout",
     "output_type": "stream",
     "text": [
      "dt Odor:  0.005000114440917969\n",
      "dt Wind:  0.10000276565551758\n"
     ]
    }
   ],
   "source": [
    "df_odor_loc=pd.DataFrame({'odor_time': geodf.master_time,'xsrc': geodf.xsrc, 'ysrc':geodf.ysrc, \n",
    "                          'odor':geodf.odor,\n",
    "                          'trisonica_U':geodf.trisonica_U, 'trisonica_V':geodf.trisonica_V,\n",
    "                          'trisonica_temperature':geodf.trisonica_temperature,\n",
    "                          'trisonica_pressure':geodf.trisonica_pressure,\n",
    "                          'gps_linear_x':geodf.gps_linear_x,\n",
    "                          'gps_linear_y':geodf.gps_linear_y,\n",
    "                          'gps_linear_z':geodf.gps_linear_z,\n",
    "                          'imu_angular_x': geodf.imu_angular_x,\n",
    "                          'imu_angular_y': geodf.imu_angular_y,\n",
    "                          'imu_angular_z': geodf.imu_angular_z,\n",
    "                          'imu_linear_acc_x':geodf.imu_linear_acc_z,\n",
    "                          'imu_linear_acc_y':geodf.imu_linear_acc_z,\n",
    "                          'imu_linear_acc_z':geodf.imu_linear_acc_z\n",
    "                         })\n",
    "df_wind_loc=pd.DataFrame({'wind_time': wind.time_epoch,'U': wind.U,'V': wind.V, 'D':wind.D , 'S2':wind.S2})\n",
    "\n",
    "\n",
    "df_new = pd.concat([df_odor_loc,df_wind_loc], sort=True)\n",
    "combined_time = np.hstack([df_odor_loc.odor_time, df_wind_loc.wind_time])\n",
    "\n",
    "df_new['time'] = combined_time\n",
    "df_new=df_new.sort_values(by=['time'])\n",
    "\n",
    "dt_odor = np.median(np.diff(df_new.odor_time.dropna().values))\n",
    "print('dt Odor: ', dt_odor)\n",
    "dt_wind = np.median(np.diff(df_new.wind_time.dropna().values))\n",
    "print('dt Wind: ', dt_wind)\n",
    "\n",
    "first_time = np.max([df_new.odor_time.min(), df_new.wind_time.min()])\n",
    "last_time = np.min([df_new.odor_time.max(), df_new.wind_time.max()])\n",
    "############## SELECT THE RESOLUTION HERE ####################\n",
    "master_time = np.arange(first_time, last_time, dt_odor)\n",
    "\n",
    "# create interpolation function and inteprolate sensor 1\n",
    "df_odor_1= df_new[['odor_time', 'xsrc']].dropna()\n",
    "func_interp_sensor_1 = scipy.interpolate.interp1d(df_odor_1.odor_time, df_odor_1.xsrc)\n",
    "interp_odor_x = func_interp_sensor_1(master_time)\n",
    "\n",
    "df_odor_2= df_new[['odor_time', 'ysrc']].dropna()\n",
    "func_interp_sensor_1 = scipy.interpolate.interp1d(df_odor_2.odor_time, df_odor_2.ysrc)\n",
    "interp_odor_y = func_interp_sensor_1(master_time)\n",
    "\n",
    "df_odor_3= df_new[['odor_time', 'odor']].dropna()\n",
    "func_interp_sensor_1 = scipy.interpolate.interp1d(df_odor_3.odor_time, df_odor_3.odor)\n",
    "interp_odor = func_interp_sensor_1(master_time)\n",
    "\n",
    "df_gps_x= df_new[['odor_time', 'gps_linear_x']].dropna()\n",
    "func_interp_sensor_1 = scipy.interpolate.interp1d(df_gps_x.odor_time, df_gps_x.gps_linear_x)\n",
    "interp_gps_x = func_interp_sensor_1(master_time)\n",
    "\n",
    "df_gps_y= df_new[['odor_time', 'gps_linear_y']].dropna()\n",
    "func_interp_sensor_1 = scipy.interpolate.interp1d(df_gps_y.odor_time, df_gps_y.gps_linear_y)\n",
    "interp_gps_y = func_interp_sensor_1(master_time)\n",
    "\n",
    "df_gps_z= df_new[['odor_time', 'gps_linear_z']].dropna()\n",
    "func_interp_sensor_1 = scipy.interpolate.interp1d(df_gps_z.odor_time, df_gps_z.gps_linear_z)\n",
    "interp_gps_z = func_interp_sensor_1(master_time)\n",
    "\n",
    "\n",
    "\n",
    "df_wind_1x= df_new[['odor_time', 'trisonica_U']].dropna()\n",
    "func_interp_sensor_1 = scipy.interpolate.interp1d(df_wind_1x.odor_time, df_wind_1x.trisonica_U)\n",
    "interp_wind_Ux = func_interp_sensor_1(master_time)\n",
    "\n",
    "df_wind_2x= df_new[['odor_time', 'trisonica_V']].dropna()\n",
    "func_interp_sensor_1 = scipy.interpolate.interp1d(df_wind_2x.odor_time, df_wind_2x.trisonica_V)\n",
    "interp_wind_Vx = func_interp_sensor_1(master_time)\n",
    "\n",
    "df_wind_3x= df_new[['odor_time', 'trisonica_pressure']].dropna()\n",
    "func_interp_sensor_1 = scipy.interpolate.interp1d(df_wind_3x.odor_time, df_wind_3x.trisonica_pressure)\n",
    "interp_wind_px = func_interp_sensor_1(master_time)\n",
    "\n",
    "df_wind_4x= df_new[['odor_time', 'trisonica_temperature']].dropna()\n",
    "func_interp_sensor_1 = scipy.interpolate.interp1d(df_wind_4x.odor_time, df_wind_4x.trisonica_temperature)\n",
    "interp_wind_tx = func_interp_sensor_1(master_time)\n",
    "\n",
    "df_imu_x= df_new[['odor_time', 'imu_angular_x']].dropna()\n",
    "func_interp_sensor_1 = scipy.interpolate.interp1d(df_imu_x.odor_time, df_imu_x.imu_angular_x)\n",
    "interp_imu_x = func_interp_sensor_1(master_time)\n",
    "\n",
    "df_imu_y= df_new[['odor_time', 'imu_angular_y']].dropna()\n",
    "func_interp_sensor_1 = scipy.interpolate.interp1d(df_imu_y.odor_time, df_imu_y.imu_angular_y)\n",
    "interp_imu_y = func_interp_sensor_1(master_time)\n",
    "\n",
    "\n",
    "df_imu_z= df_new[['odor_time', 'imu_angular_z']].dropna()\n",
    "func_interp_sensor_1 = scipy.interpolate.interp1d(df_imu_z.odor_time, df_imu_z.imu_angular_z)\n",
    "interp_imu_z = func_interp_sensor_1(master_time)\n",
    "\n",
    "\n",
    "df_imu_linear_x= df_new[['odor_time', 'imu_linear_acc_x']].dropna()\n",
    "func_interp_sensor_1 = scipy.interpolate.interp1d(df_imu_linear_x.odor_time, df_imu_linear_x.imu_linear_acc_x)\n",
    "interp_imu_linear_acc_x = func_interp_sensor_1(master_time)\n",
    "\n",
    "df_imu_linear_y= df_new[['odor_time', 'imu_linear_acc_y']].dropna()\n",
    "func_interp_sensor_1 = scipy.interpolate.interp1d(df_imu_linear_y.odor_time, df_imu_linear_y.imu_linear_acc_y)\n",
    "interp_imu_linear_acc_y = func_interp_sensor_1(master_time)\n",
    "\n",
    "\n",
    "df_imu_linear_z= df_new[['odor_time', 'imu_linear_acc_z']].dropna()\n",
    "func_interp_sensor_1 = scipy.interpolate.interp1d(df_imu_linear_z.odor_time, df_imu_linear_z.imu_linear_acc_z)\n",
    "interp_imu_linear_acc_z = func_interp_sensor_1(master_time)\n",
    "\n",
    "\n",
    "\n",
    "\n",
    "df_wind_1= df_new[['wind_time', 'U']].dropna()\n",
    "func_interp_sensor_1 = scipy.interpolate.interp1d(df_wind_1.wind_time, df_wind_1.U)\n",
    "interp_wind_U = func_interp_sensor_1(master_time)\n",
    "\n",
    "df_wind_2= df_new[['wind_time', 'V']].dropna()\n",
    "func_interp_sensor_1 = scipy.interpolate.interp1d(df_wind_2.wind_time, df_wind_2.V)\n",
    "interp_wind_V = func_interp_sensor_1(master_time)\n",
    "\n",
    "df_wind_3= df_new[['wind_time', 'D']].dropna()\n",
    "func_interp_sensor_1 = scipy.interpolate.interp1d(df_wind_3.wind_time, df_wind_3.D)\n",
    "interp_wind_D = func_interp_sensor_1(master_time)\n",
    "\n",
    "df_wind_4= df_new[['wind_time', 'S2']].dropna()\n",
    "func_interp_sensor_1 = scipy.interpolate.interp1d(df_wind_4.wind_time, df_wind_4.S2)\n",
    "interp_wind_S2 = func_interp_sensor_1(master_time)\n",
    "\n",
    "\n",
    "\n",
    "windn = pd.DataFrame({'master_time': master_time,\n",
    "                            'xsrc': interp_odor_x,\n",
    "                            'ysrc': interp_odor_y,\n",
    "                            'odor': interp_odor,\n",
    "                            'trisonica_u': interp_wind_Ux,\n",
    "                            'trisonica_v': interp_wind_Vx,\n",
    "                            'trisonica_pressure':interp_wind_px,\n",
    "                            'trisonica_temperature':interp_wind_tx,\n",
    "                            'gps_linear_x': interp_gps_x,\n",
    "                            'gps_linear_y': interp_gps_y,\n",
    "                            'gps_linear_z': interp_gps_z,\n",
    "                            'imu_angular_x': interp_imu_x,\n",
    "                            'imu_angular_y': interp_imu_y,\n",
    "                            'imu_angular_z': interp_imu_z,\n",
    "                            'imu_linear_acc_x':interp_imu_linear_acc_x,\n",
    "                            'imu_linear_acc_y':interp_imu_linear_acc_y,\n",
    "                            'imu_linear_acc_z':interp_imu_linear_acc_z,\n",
    "                      \n",
    "                            'U': interp_wind_U,\n",
    "                            'V': interp_wind_V,\n",
    "                            'D':interp_wind_D,\n",
    "                            'S2':interp_wind_S2})\n",
    "\n",
    "windn.to_hdf(dir+'Run05Coll0'+str(collection_number)+'_InterpolatedX.hdf',  key='windn', mode='w')\n",
    "# windn.to_hdf(dir+'wind0'+str(set_number)+'Run03_InterpolatedX.hdf', key='windn', mode='w')\n",
    "# windn.to_hdf(dir+'wind0'+str(set_number)+'Run05_InterpolatedXs.hdf', key='windn', mode='w')"
   ]
  },
  {
   "cell_type": "code",
   "execution_count": 11,
   "metadata": {},
   "outputs": [
    {
     "data": {
      "text/plain": [
       "Index(['master_time', 'xsrc', 'ysrc', 'odor', 'trisonica_u', 'trisonica_v',\n",
       "       'trisonica_pressure', 'trisonica_temperature', 'gps_linear_x',\n",
       "       'gps_linear_y', 'gps_linear_z', 'imu_angular_x', 'imu_angular_y',\n",
       "       'imu_angular_z', 'imu_linear_acc_x', 'imu_linear_acc_y',\n",
       "       'imu_linear_acc_z', 'U', 'V', 'D', 'S2'],\n",
       "      dtype='object')"
      ]
     },
     "execution_count": 11,
     "metadata": {},
     "output_type": "execute_result"
    }
   ],
   "source": [
    "windn.keys()"
   ]
  },
  {
   "cell_type": "markdown",
   "metadata": {},
   "source": [
    "## Below is only an explanation stepwise of the above interpolation process >>>"
   ]
  },
  {
   "cell_type": "markdown",
   "metadata": {},
   "source": [
    "### Getting the GPS and WindSensor Time"
   ]
  },
  {
   "cell_type": "code",
   "execution_count": 7,
   "metadata": {},
   "outputs": [],
   "source": [
    "df =pd.DataFrame(odor)"
   ]
  },
  {
   "cell_type": "code",
   "execution_count": 8,
   "metadata": {},
   "outputs": [],
   "source": [
    "df[\"trisonica_time\"] = df._trisonica_header_stamp_secs + (df._trisonica_header_stamp_nsecs*1e-9)\n",
    "df[\"gps_time\"] = df._ublox_gps_fix_header_stamp_secs+(df._ublox_gps_fix_header_stamp_nsecs*1e-9)\n",
    "df[\"gps_vel_time\"] = df._ublox_gps_fix_velocity_header_stamp_secs+(df._ublox_gps_fix_velocity_header_stamp_nsecs*1e-9)\n",
    "df[\"imu_time\"] = df._imu_data_header_stamp_secs +(df._imu_data_header_stamp_nsecs*1e-9)"
   ]
  },
  {
   "cell_type": "markdown",
   "metadata": {},
   "source": [
    "### Separating ODOR, WIND, GPS in dataframes"
   ]
  },
  {
   "cell_type": "code",
   "execution_count": 9,
   "metadata": {},
   "outputs": [],
   "source": [
    "df_odor = pd.DataFrame({'odor_time': df.master_time,\n",
    "                        'odor': df._analog_output_data,})\n",
    "df_wind = pd.DataFrame({'wind_time': df.trisonica_time,'trisonica_U': df._trisonica_westeast,\n",
    "                        'trisonica_V': df._trisonica_northsouth,'trisonica_pressure': df._trisonica_pressure,\n",
    "                       'trisonica_temperature': df._trisonica_temperature})\n",
    "df_gps = pd.DataFrame({'gps_time': df.gps_time,'lat': df._ublox_gps_fix_latitude,\n",
    "                       'lon': df._ublox_gps_fix_longitude})\n",
    "df_gps_vel = pd.DataFrame({'gps_vel_time':df.gps_vel_time,\n",
    "                        'gps_linear_x':df._ublox_gps_fix_velocity_twist_twist_linear_x,\n",
    "                      'gps_linear_y':df._ublox_gps_fix_velocity_twist_twist_linear_y,\n",
    "                      'gps_linear_z':df._ublox_gps_fix_velocity_twist_twist_linear_z})\n",
    "df_imu = pd.DataFrame({'imu_time': df.imu_time,'imu_angular_x': df._imu_data_angular_velocity_x,\n",
    "                     'imu_angular_y': df._imu_data_angular_velocity_y, \n",
    "                     'imu_angular_z':df._imu_data_angular_velocity_z,\n",
    "                      'imu_linear_acc_x':df._imu_data_linear_acceleration_x,\n",
    "                      'imu_linear_acc_y':df._imu_data_linear_acceleration_y,\n",
    "                      'imu_linear_acc_z':df._imu_data_linear_acceleration_z})"
   ]
  },
  {
   "cell_type": "markdown",
   "metadata": {},
   "source": [
    "#### Creating time column for odor by dropping NaNs"
   ]
  },
  {
   "cell_type": "code",
   "execution_count": 10,
   "metadata": {
    "scrolled": true
   },
   "outputs": [],
   "source": [
    "df_odor = df_odor[df_odor.odor.notna()]"
   ]
  },
  {
   "cell_type": "markdown",
   "metadata": {},
   "source": [
    "### Combined time from three sensors and arrange based on time"
   ]
  },
  {
   "cell_type": "code",
   "execution_count": 11,
   "metadata": {},
   "outputs": [],
   "source": [
    "dfn = pd.concat([df_odor, df_wind, df_gps, df_gps_vel, df_imu], sort=True)\n",
    "combined_time = np.hstack([df_odor.odor_time, df.trisonica_time ,df.gps_time, df.gps_vel_time, df.imu_time])\n",
    "dfn['time'] = combined_time\n",
    "dfn = dfn.sort_values(by=['time'])"
   ]
  },
  {
   "cell_type": "code",
   "execution_count": 12,
   "metadata": {},
   "outputs": [
    {
     "data": {
      "text/plain": [
       "Index(['gps_linear_x', 'gps_linear_y', 'gps_linear_z', 'gps_time',\n",
       "       'gps_vel_time', 'imu_angular_x', 'imu_angular_y', 'imu_angular_z',\n",
       "       'imu_linear_acc_x', 'imu_linear_acc_y', 'imu_linear_acc_z', 'imu_time',\n",
       "       'lat', 'lon', 'odor', 'odor_time', 'trisonica_U', 'trisonica_V',\n",
       "       'trisonica_pressure', 'trisonica_temperature', 'wind_time', 'time'],\n",
       "      dtype='object')"
      ]
     },
     "execution_count": 12,
     "metadata": {},
     "output_type": "execute_result"
    }
   ],
   "source": [
    "dfn.keys()"
   ]
  },
  {
   "cell_type": "markdown",
   "metadata": {},
   "source": [
    "### Find Master Time "
   ]
  },
  {
   "cell_type": "code",
   "execution_count": 13,
   "metadata": {},
   "outputs": [
    {
     "name": "stdout",
     "output_type": "stream",
     "text": [
      "dt Odor:  0.004995822906494141\n",
      "dt Wind:  0.024992942810058594\n",
      "dt Gps:  0.20000004768371582\n",
      "dt Gps Vel:  0.20000004768371582\n",
      "dt Imu:  0.003999948501586914\n"
     ]
    }
   ],
   "source": [
    "dt_odor = np.median(np.diff(dfn.odor_time.dropna().values))\n",
    "print('dt Odor: ', dt_odor)\n",
    "dt_wind = np.median(np.diff(dfn.wind_time.dropna().values))\n",
    "print('dt Wind: ', dt_wind)\n",
    "dt_gps = np.median(np.diff(dfn.gps_time.dropna().values))\n",
    "print('dt Gps: ', dt_gps)\n",
    "dt_gps_vel = np.median(np.diff(dfn.gps_vel_time.dropna().values))\n",
    "print('dt Gps Vel: ', dt_gps_vel)\n",
    "dt_imu = np.median(np.diff(dfn.imu_time.dropna().values))\n",
    "print('dt Imu: ', dt_imu)\n",
    "first_time = np.max([dfn.odor_time.min(), dfn.wind_time.min(), dfn.gps_vel_time.min(),\n",
    "                     dfn.gps_time.min(), dfn.imu_time.min()])\n",
    "last_time = np.min([dfn.odor_time.max(), dfn.wind_time.max(), dfn.gps_time.max(),\n",
    "                    dfn.gps_vel_time.max(),dfn.imu_time.max()])\n",
    "# print(first_time,last_time)\n",
    "master_time = np.arange(first_time, last_time, dt_odor)"
   ]
  },
  {
   "cell_type": "code",
   "execution_count": 14,
   "metadata": {},
   "outputs": [
    {
     "data": {
      "text/plain": [
       "Index(['gps_linear_x', 'gps_linear_y', 'gps_linear_z', 'gps_time',\n",
       "       'gps_vel_time', 'imu_angular_x', 'imu_angular_y', 'imu_angular_z',\n",
       "       'imu_linear_acc_x', 'imu_linear_acc_y', 'imu_linear_acc_z', 'imu_time',\n",
       "       'lat', 'lon', 'odor', 'odor_time', 'trisonica_U', 'trisonica_V',\n",
       "       'trisonica_pressure', 'trisonica_temperature', 'wind_time', 'time'],\n",
       "      dtype='object')"
      ]
     },
     "execution_count": 14,
     "metadata": {},
     "output_type": "execute_result"
    }
   ],
   "source": [
    "dfn.keys()"
   ]
  },
  {
   "cell_type": "markdown",
   "metadata": {},
   "source": [
    "### Create Interpolation function"
   ]
  },
  {
   "cell_type": "code",
   "execution_count": 15,
   "metadata": {},
   "outputs": [],
   "source": [
    "# create interpolation function and inteprolate sensor 1\n",
    "df_odor_1= dfn[['odor_time', 'odor']].dropna()\n",
    "func_interp_sensor_1 = scipy.interpolate.interp1d(df_odor_1.odor_time, df_odor_1.odor)\n",
    "interp_odor = func_interp_sensor_1(master_time)\n",
    "\n",
    "df_wind_1= dfn[['wind_time', 'trisonica_U']].dropna()\n",
    "func_interp_sensor_1 = scipy.interpolate.interp1d(df_wind_1.wind_time, df_wind_1.trisonica_U)\n",
    "interp_wind_U = func_interp_sensor_1(master_time)\n",
    "\n",
    "df_wind_2= dfn[['wind_time', 'trisonica_V']].dropna()\n",
    "func_interp_sensor_1 = scipy.interpolate.interp1d(df_wind_2.wind_time, df_wind_2.trisonica_V)\n",
    "interp_wind_V = func_interp_sensor_1(master_time)\n",
    "\n",
    "df_wind_3= dfn[['wind_time', 'trisonica_pressure']].dropna()\n",
    "func_interp_sensor_1 = scipy.interpolate.interp1d(df_wind_3.wind_time, df_wind_3.trisonica_pressure)\n",
    "interp_wind_p = func_interp_sensor_1(master_time)\n",
    "\n",
    "df_wind_4= dfn[['wind_time', 'trisonica_temperature']].dropna()\n",
    "func_interp_sensor_1 = scipy.interpolate.interp1d(df_wind_4.wind_time, df_wind_4.trisonica_temperature)\n",
    "interp_wind_t = func_interp_sensor_1(master_time)\n",
    "\n",
    "\n",
    "df_gps_lat= dfn[['gps_time', 'lat']].dropna()\n",
    "func_interp_sensor_1 = scipy.interpolate.interp1d(df_gps_lat.gps_time, df_gps_lat.lat)\n",
    "interp_gps_lat = func_interp_sensor_1(master_time)\n",
    "\n",
    "df_gps_lon= dfn[['gps_time', 'lon']].dropna()\n",
    "func_interp_sensor_1 = scipy.interpolate.interp1d(df_gps_lon.gps_time, df_gps_lon.lon)\n",
    "interp_gps_lon = func_interp_sensor_1(master_time)\n",
    "\n",
    "df_gps_x= dfn[['gps_vel_time', 'gps_linear_x']].dropna()\n",
    "func_interp_sensor_1 = scipy.interpolate.interp1d(df_gps_x.gps_vel_time, df_gps_x.gps_linear_x)\n",
    "interp_gps_x = func_interp_sensor_1(master_time)\n",
    "\n",
    "df_gps_y= dfn[['gps_vel_time', 'gps_linear_y']].dropna()\n",
    "func_interp_sensor_1 = scipy.interpolate.interp1d(df_gps_y.gps_vel_time, df_gps_y.gps_linear_y)\n",
    "interp_gps_y = func_interp_sensor_1(master_time)\n",
    "\n",
    "df_gps_z= dfn[['gps_vel_time', 'gps_linear_z']].dropna()\n",
    "func_interp_sensor_1 = scipy.interpolate.interp1d(df_gps_z.gps_vel_time, df_gps_z.gps_linear_z)\n",
    "interp_gps_z = func_interp_sensor_1(master_time)\n",
    "\n",
    "\n",
    "df_imu_x= dfn[['imu_time', 'imu_angular_x']].dropna()\n",
    "func_interp_sensor_1 = scipy.interpolate.interp1d(df_imu_x.imu_time, df_imu_x.imu_angular_x)\n",
    "interp_imu_x = func_interp_sensor_1(master_time)\n",
    "\n",
    "df_imu_y= dfn[['imu_time', 'imu_angular_y']].dropna()\n",
    "func_interp_sensor_1 = scipy.interpolate.interp1d(df_imu_y.imu_time, df_imu_y.imu_angular_y)\n",
    "interp_imu_y = func_interp_sensor_1(master_time)\n",
    "\n",
    "\n",
    "df_imu_z= dfn[['imu_time', 'imu_angular_z']].dropna()\n",
    "func_interp_sensor_1 = scipy.interpolate.interp1d(df_imu_z.imu_time, df_imu_z.imu_angular_z)\n",
    "interp_imu_z = func_interp_sensor_1(master_time)\n",
    "\n",
    "\n",
    "df_imu_linear_x= dfn[['imu_time', 'imu_linear_acc_x']].dropna()\n",
    "func_interp_sensor_1 = scipy.interpolate.interp1d(df_imu_linear_x.imu_time, df_imu_linear_x.imu_linear_acc_x)\n",
    "interp_imu_linear_acc_x = func_interp_sensor_1(master_time)\n",
    "\n",
    "df_imu_linear_y= dfn[['imu_time', 'imu_linear_acc_y']].dropna()\n",
    "func_interp_sensor_1 = scipy.interpolate.interp1d(df_imu_linear_y.imu_time, df_imu_linear_y.imu_linear_acc_y)\n",
    "interp_imu_linear_acc_y = func_interp_sensor_1(master_time)\n",
    "\n",
    "\n",
    "df_imu_linear_z= dfn[['imu_time', 'imu_linear_acc_z']].dropna()\n",
    "func_interp_sensor_1 = scipy.interpolate.interp1d(df_imu_linear_z.imu_time, df_imu_linear_z.imu_linear_acc_z)\n",
    "interp_imu_linear_acc_z = func_interp_sensor_1(master_time)\n",
    "\n",
    "\n",
    "\n"
   ]
  },
  {
   "cell_type": "markdown",
   "metadata": {},
   "source": [
    "### New Interpolated Dataframe"
   ]
  },
  {
   "cell_type": "code",
   "execution_count": 16,
   "metadata": {},
   "outputs": [],
   "source": [
    "new_df = pd.DataFrame({'master_time': master_time,\n",
    "                        'odor': interp_odor,\n",
    "                        'trisonica_U': interp_wind_U,\n",
    "                        'trisonica_V': interp_wind_V,\n",
    "                        'lat': interp_gps_lat,\n",
    "                        'lon': interp_gps_lon,\n",
    "                        'gps_linear_x':interp_gps_x,\n",
    "                        'gps_linear_y':interp_gps_y,\n",
    "                        'gps_linear_z':interp_gps_z,\n",
    "                        'trisonica_pressure':interp_wind_p,\n",
    "                        'trisonica_temperature':interp_wind_t,\n",
    "                        'imu_angular_x': interp_imu_x,\n",
    "                        'imu_angular_y': interp_imu_y,\n",
    "                        'imu_angular_z': interp_imu_z,\n",
    "                        'imu_linear_acc_x':interp_imu_linear_acc_x,\n",
    "                        'imu_linear_acc_y':interp_imu_linear_acc_y,\n",
    "                        'imu_linear_acc_z':interp_imu_linear_acc_z})\n",
    "new_df.to_hdf(dir+'_Interpolated.h5', key='new_df', mode='w') \n",
    "# new_df.to_hdf('/home/ecc/data/DesertDataOct/Run03/Coll10_14Run03_Interpolated.h5', \n",
    "#               key='df', mode='w')"
   ]
  },
  {
   "cell_type": "code",
   "execution_count": 83,
   "metadata": {},
   "outputs": [
    {
     "data": {
      "text/plain": [
       "[<matplotlib.lines.Line2D at 0x7fbea7e542e8>]"
      ]
     },
     "execution_count": 83,
     "metadata": {},
     "output_type": "execute_result"
    },
    {
     "data": {
      "image/png": "[encoded data removed]",
      "text/plain": [
       "<Figure size 432x288 with 1 Axes>"
      ]
     },
     "metadata": {
      "needs_background": "light"
     },
     "output_type": "display_data"
    }
   ],
   "source": [
    "time = new_df.master_time-new_df.master_time[0]\n",
    "plt.plot(time,new_df.odor)"
   ]
  },
  {
   "cell_type": "markdown",
   "metadata": {},
   "source": [
    "### Saving Interpolated Bag"
   ]
  },
  {
   "cell_type": "code",
   "execution_count": 27,
   "metadata": {},
   "outputs": [],
   "source": [
    "new_df.to_hdf(dir+exter_save, key='new_df', mode='w')"
   ]
  },
  {
   "cell_type": "code",
   "execution_count": 28,
   "metadata": {},
   "outputs": [],
   "source": [
    "dfi= pd.read_hdf(dir+exter_save)"
   ]
  },
  {
   "cell_type": "code",
   "execution_count": 29,
   "metadata": {},
   "outputs": [],
   "source": [
    "time= dfi.master_time-dfi.master_time[0]\n",
    "dfi.insert(1,'sync_time',time) "
   ]
  },
  {
   "cell_type": "code",
   "execution_count": 30,
   "metadata": {},
   "outputs": [],
   "source": [
    "font = {'size'   : 15}\n",
    "plt.rc('font', **font)\n"
   ]
  },
  {
   "cell_type": "code",
   "execution_count": 31,
   "metadata": {},
   "outputs": [
    {
     "data": {
      "image/png": "[encoded data removed]",
      "text/plain": [
       "<Figure size 1440x504 with 2 Axes>"
      ]
     },
     "metadata": {
      "needs_background": "light"
     },
     "output_type": "display_data"
    }
   ],
   "source": [
    "f, (ax1,ax2) = plt.subplots(2, 1,figsize=(20,7))\n",
    "\n",
    "f.suptitle('Odor Concentration Before & After Interpolation')\n",
    "ax1.plot(df.sync_time,df._analog_output_data)\n",
    "#ax1.set_xlabel('Time (seconds)')\n",
    "#ax1.set_ylabel('Odor Concentration (v/g)')\n",
    "ax1.set_xlim(150,160)\n",
    "\n",
    "ax2.plot(dfi.sync_time,dfi.odor)\n",
    "ax2.set_xlim(150,160)\n",
    "#ax2.set_xlabel('Time (seconds)')\n",
    "#ax2.set_ylabel('Odor Concentration (v/g)')\n",
    "#plt.xlabel('Time (seconds)')\n",
    "#plt.ylabel('Odor Concentration (v/g)')\n",
    "f.text(0.5, 0.04, 'Time (seconds)', ha='center')\n",
    "f.text(0.04, 0.5, 'Odor Concentration (v/g)', va='center', rotation='vertical')\n",
    "dir = '../../../Research/Images/recurringplots/'\n",
    "#f.savefig('../../../figure/odor_b&a_interp.jpg')\n",
    "#f.tight_layout()"
   ]
  }
 ],
 "metadata": {
  "kernelspec": {
   "display_name": "Python 3",
   "language": "python",
   "name": "python3"
  },
  "language_info": {
   "codemirror_mode": {
    "name": "ipython",
    "version": 3
   },
   "file_extension": ".py",
   "mimetype": "text/x-python",
   "name": "python",
   "nbconvert_exporter": "python",
   "pygments_lexer": "ipython3",
   "version": "3.8.7"
  }
 },
 "nbformat": 4,
 "nbformat_minor": 4
}
