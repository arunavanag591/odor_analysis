{
 "cells": [
  {
   "cell_type": "markdown",
   "metadata": {},
   "source": [
    "## Particle within radius or overlap calculations"
   ]
  },
  {
   "cell_type": "code",
   "execution_count": 1,
   "metadata": {},
   "outputs": [],
   "source": [
    "#user-defined\n",
    "# import ipynb.fs.full.helper as hp\n",
    "\n",
    "#dataframes\n",
    "import pandas as pd\n",
    "import h5py\n",
    "\n",
    "#speedup\n",
    "import multiprocessing as mp\n",
    "\n",
    "#suppress warnings\n",
    "import warnings\n",
    "warnings.simplefilter(action='ignore', category=FutureWarning)\n",
    "pd.TimeSeries = pd.Series \n",
    "\n",
    "#math\n",
    "import numpy as np\n",
    "import math as m\n",
    "from scipy.spatial.distance import cdist\n",
    "\n",
    "\n",
    "#plots\n",
    "import pylab as plt\n",
    "import matplotlib.pyplot as plt\n",
    "from mpl_toolkits.axes_grid1 import make_axes_locatable # for colorbar\n",
    "import seaborn as sns\n",
    "\n",
    "#misc\n",
    "import time\n",
    "np.set_printoptions(suppress=True)"
   ]
  },
  {
   "cell_type": "code",
   "execution_count": 19,
   "metadata": {},
   "outputs": [],
   "source": [
    "dir_save = '../../data/Sprints/AN/'\n",
    "# dir ='~/Documents/MyFiles/DataAnalysis/data/Sprints/Run03/Set05/wind05Run03_InterpolatedX.hdf'\n",
    "dir1 = '~/Documents/MyFiles/DataAnalysis/data/Sprints/'\n",
    "run01='Run01/Run01_expected_full.hdf'\n",
    "run02='Run02/Run02_expected_full.hdf'\n",
    "# run03='Run03Coll03_expected_full.hdf'\n",
    "# run01='Run01.h5'\n",
    "df1=pd.read_hdf(dir1+run01)\n",
    "df2=pd.read_hdf(dir1+run02)\n",
    "# df3=pd.read_hdf(dir1+run03)"
   ]
  },
  {
   "cell_type": "markdown",
   "metadata": {},
   "source": [
    "### Calculate Expected encounters"
   ]
  },
  {
   "cell_type": "code",
   "execution_count": 50,
   "metadata": {},
   "outputs": [],
   "source": [
    "df = pd.DataFrame()\n",
    "df = pd.read_hdf(dir)\n",
    "dt= df.master_time[1]-df.master_time[0]"
   ]
  },
  {
   "cell_type": "code",
   "execution_count": 51,
   "metadata": {},
   "outputs": [],
   "source": [
    "# sync_time = df.master_time-df.master_time[0]\n",
    "# df.insert(1,'sync_time',sync_time)"
   ]
  },
  {
   "cell_type": "code",
   "execution_count": 52,
   "metadata": {},
   "outputs": [],
   "source": [
    "# storing the odor location in a numpy array to avoid reading pandas\n",
    "odor_position = np.array([[df.xsrc[i],df.ysrc[i]] for i in range (len(df.xsrc))]) \n",
    "source = np.array([[0,0]])\n",
    "distance_from_source = np.array([cdist(odor_position,source)]).flatten()"
   ]
  },
  {
   "cell_type": "markdown",
   "metadata": {},
   "source": [
    "### Finding Intersection area"
   ]
  },
  {
   "cell_type": "code",
   "execution_count": null,
   "metadata": {},
   "outputs": [],
   "source": [
    "t1 = 'sync_time>=0 & sync_time<60'\n",
    "d1=pd.DataFrame()\n",
    "d1 = df.query(t1)\n",
    "\n",
    "t2= 'sync_time>=60 & sync_time<120'\n",
    "d2=pd.DataFrame()\n",
    "d2 = df.query(t2)\n",
    "\n",
    "t3= 'sync_time>=120 & sync_time<180'\n",
    "d3=pd.DataFrame()\n",
    "d3 = df.query(t3)\n",
    "\n",
    "t4 = 'sync_time>=180 & sync_time<240'\n",
    "d4=pd.DataFrame()\n",
    "d4 = df.query(t4)\n",
    "\n",
    "t5 = 'sync_time>=240 & sync_time<300'\n",
    "d5=pd.DataFrame()\n",
    "d5 = df.query(t5)\n",
    "\n",
    "e1 = [np.sum(df.U[j:])*dt for j in range(d1.index[0],d1.index[-1])]\n",
    "n1 = [np.sum(df.V[j:])*dt for j in range(d1.index[0],d1.index[-1])]\n",
    "\n",
    "e2 = [np.sum(df.U[j:])*dt for j in range(d2.index[0],d2.index[-1])]\n",
    "n2 = [np.sum(df.V[j:])*dt for j in range(d2.index[0],d2.index[-1])]\n",
    "\n",
    "e3 = [np.sum(df.U[j:])*dt for j in range(d3.index[0],d3.index[-1])]\n",
    "n3 = [np.sum(df.V[j:])*dt for j in range(d3.index[0],d3.index[-1])]\n",
    "\n",
    "e4 = [np.sum(df.U[j:])*dt for j in range(d4.index[0],d4.index[-1])]\n",
    "n4 = [np.sum(df.V[j:])*dt for j in range(d4.index[0],d4.index[-1])]\n",
    "\n",
    "e5 = [np.sum(df.U[j:])*dt for j in range(d5.index[0],d5.index[-1])]\n",
    "n5 = [np.sum(df.V[j:])*dt for j in range(d5.index[0],d5.index[-1])]"
   ]
  },
  {
   "cell_type": "code",
   "execution_count": 78,
   "metadata": {},
   "outputs": [],
   "source": [
    "from scipy.spatial import cKDTree\n",
    "\n",
    "# Assuming a default tolerance value of 1 here\n",
    "def intersect_close(a, b, tol=0.05):\n",
    "    # Get closest distances for each pt in b\n",
    "    dist, index = cKDTree(a).query(b, k=1) # k=1 selects closest one neighbor\n",
    "\n",
    "    # Check the distances against the given tolerance value and \n",
    "    # thus filter out rows off b for the final output\n",
    "    return b[dist <= tol], index"
   ]
  },
  {
   "cell_type": "code",
   "execution_count": 80,
   "metadata": {},
   "outputs": [],
   "source": [
    "c1 = np.column_stack((e1, n1))\n",
    "c2 = np.column_stack((e2, n2))\n",
    "test,index = intersect_close(c1,c2)\n",
    "print(test)\n",
    "a,b=zip(*test)"
   ]
  },
  {
   "cell_type": "code",
   "execution_count": 83,
   "metadata": {},
   "outputs": [
    {
     "data": {
      "text/plain": [
       "array([[-182.85755155,  381.39412315],\n",
       "       [-182.85084279,  381.38545944],\n",
       "       [-182.84417644,  381.37677077]])"
      ]
     },
     "execution_count": 83,
     "metadata": {},
     "output_type": "execute_result"
    }
   ],
   "source": [
    "itemindex1 = np.where(np.isclose(e1, -182.85755155, atol=0.05))\n",
    "itemindex2 = np.where(np.isclose(e2, -182.84417644, atol=0.05))\n",
    "up1 = np.where(np.isclose(n1, 381.39412315, atol=0.05))\n",
    "up2 = np.where(np.isclose(n2, 381.37677077, atol=0.05))"
   ]
  },
  {
   "cell_type": "code",
   "execution_count": 155,
   "metadata": {},
   "outputs": [
    {
     "data": {
      "text/plain": [
       "[<matplotlib.lines.Line2D at 0x7fba042a90d0>]"
      ]
     },
     "execution_count": 155,
     "metadata": {},
     "output_type": "execute_result"
    },
    {
     "data": {
      "image/png": "[encoded data removed]",
      "text/plain": [
       "<Figure size 1008x576 with 1 Axes>"
      ]
     },
     "metadata": {
      "needs_background": "light"
     },
     "output_type": "display_data"
    }
   ],
   "source": [
    "f= plt.figure(figsize=(14,8))\n",
    "plt.xlim(-145,-130)\n",
    "plt.ylim(269,268)\n",
    "# n=-1\n",
    "plt.plot(e1,n1, color='red', linewidth=1)\n",
    "plt.plot(e2,n2, color='purple', linewidth=1)\n",
    "# plt.plot(a,b, marker='+', linewidth=1)\n",
    "plt.plot(e3,n3, color='blue',  linewidth=1)\n",
    "plt.plot(e4,n4, color='orange',  linewidth=1)\n",
    "plt.plot(e5,n5, color='green', linewidth=1)"
   ]
  },
  {
   "cell_type": "markdown",
   "metadata": {},
   "source": [
    "### Is Encountered odor particle within the Calculated particle radius?\n",
    "\n",
    "The loop below computes locations of the eastwest and northsouth particles and compares with a radius (distance) to interpret if the encountered particle were close to calculated particle. The execution for the loop is 23.56 seconds for 59770 rows of data\n",
    "\n",
    "For stationery wind sensor: The loop below takes in ith eastwest and subtracts the ith U and V elements to get the i-1 state, as the eastwest is summation of all the wind positions. \n",
    "\n",
    "[3 + 2 + 1] = [6]\n",
    "\n",
    "hence ith _state = 6\n",
    "\n",
    "_state = _state-3\n",
    "\n",
    "_state = _state-2"
   ]
  },
  {
   "cell_type": "code",
   "execution_count": 73,
   "metadata": {},
   "outputs": [
    {
     "data": {
      "text/plain": [
       "[<matplotlib.lines.Line2D at 0x7fcd088a3970>]"
      ]
     },
     "execution_count": 73,
     "metadata": {},
     "output_type": "execute_result"
    },
    {
     "data": {
      "image/png": "[encoded data removed]",
      "text/plain": [
       "<Figure size 432x288 with 1 Axes>"
      ]
     },
     "metadata": {
      "needs_background": "light"
     },
     "output_type": "display_data"
    }
   ],
   "source": [
    "plt.plot(df.xsrc, df.ysrc)\n",
    "plt.plot(eastwest[-6000:],northsouth[-6000:])\n",
    "plt.plot(14.26531238518209, 30.115240559630987, marker='o', linewidth=15)"
   ]
  },
  {
   "cell_type": "code",
   "execution_count": 74,
   "metadata": {},
   "outputs": [],
   "source": [
    "#summation till Nth particle\n",
    "eastwest = [np.sum(df.U[j:])*dt for j in range(0,5000) ]\n",
    "# northsouth = [np.sum(df.V[j:])*dt for j in range(0,len(df))]"
   ]
  },
  {
   "cell_type": "code",
   "execution_count": 7,
   "metadata": {},
   "outputs": [],
   "source": [
    "odor_presence=[]\n",
    "min_distance = []\n",
    "max_radius = []\n",
    "\n",
    "#for(upper, lower, step)\n",
    "for i in range((len(eastwest))-1, -1, -1):\n",
    "    \n",
    "    odor_pos = [odor_position[i]]  \n",
    "    if(i == 0):\n",
    "        radius = np.zeros(1)\n",
    "        wind_pos = np.array([[0,0]])\n",
    "        max_radius.append(0)\n",
    "    else:\n",
    "        eastwest = np.resize(np.array([eastwest-df.U[i]*dt]),(1,i)).flatten() # resize needed to avoid negative data\n",
    "        northsouth = np.resize(np.array([northsouth-df.V[i]*dt]),(1,i)).flatten()\n",
    "        wind_pos = np.vstack([eastwest,northsouth]).T   \n",
    "        radius = np.arange(start = i, stop = 0, step = -1)**0.5*0.01\n",
    "        max_radius.append(i**0.5*0.1)\n",
    "    #TODO: Model better radius\n",
    "    #max_radius= np.max(radius)\n",
    "    distance = cdist(odor_pos,wind_pos).flatten()   # cdist compares distance for all the points in both arrays\n",
    "    min_distance.append(np.min(distance))\n",
    "    #distance = distance[distance(distance<max_radius)]     #this step can reduce computation but arises issues \n",
    "                                                           #for different length arrays for distance and radius\n",
    "    \n",
    "    #TODO: Find a way to reduce distance array size and compare without increasing the overall execution time\n",
    "    \n",
    "    ## NOTE : COMPARING EVERY DISTANCE TO THE CORRESPONDING RADIUS TO SEE IF THE DISTANCE IS LESSER THAN \n",
    "    ## THE RADIUS WHICH WOULD MEAN THE PARTICLES MATCH. IF NOT THEN THEY DON'T MATCH FOR TIME T.\n",
    "    \n",
    "    ## comparing element to element, i.e. radius to corresponding distance\n",
    "    x = np.any(distance<=radius)             # generates a boolean values \n",
    "    if x==True:\n",
    "        odor_presence.append(1)\n",
    "    else:\n",
    "        odor_presence.append(0)"
   ]
  },
  {
   "cell_type": "code",
   "execution_count": 8,
   "metadata": {},
   "outputs": [],
   "source": [
    "## flip containers because above iteration is done in reverse order\n",
    "# _mock=np.zeros(len(df))\n",
    "df['mock'] = np.zeros(len(df))\n",
    "min_distance = np.array(np.flip(min_distance)) \n",
    "odor_presence = odor_presence[::-1]\n",
    "max_radius = max_radius[::-1]\n",
    "## storing in the dataframe \n",
    "df['odor_expected'] = odor_presence\n",
    "df['odor_from_wind'] = distance_from_source\n",
    "df['odor_from_source'] = min_distance\n",
    "df['radius'] = max_radius\n",
    "\n",
    "# sensor_direction = np.array(np.arctan2(df.gps_linear_y,df.gps_linear_x)* 180 / np.pi)\n",
    "# df['relative_motion']=sensor_direction - df.D"
   ]
  },
  {
   "cell_type": "markdown",
   "metadata": {},
   "source": [
    "## Visualization"
   ]
  },
  {
   "cell_type": "code",
   "execution_count": 11,
   "metadata": {},
   "outputs": [
    {
     "name": "stderr",
     "output_type": "stream",
     "text": [
      "<ipython-input-11-e6488ab4e57d>:20: RuntimeWarning: invalid value encountered in true_divide\n",
      "  Encounters = np.array(H2)/np.array(H1)\n"
     ]
    }
   ],
   "source": [
    "query = 'odor>=2'\n",
    "df_occurence = df.query(query)\n",
    "query1='odor<2'\n",
    "df_no_occurence = df.query(query1)\n",
    "\n",
    "\n",
    "x = np.linspace(0,35,12)\n",
    "y = np.linspace(0,18,10)\n",
    "H1, x, y = np.histogram2d(df.odor_from_source, df.odor_from_wind, bins=(x, y))\n",
    "H1 = H1.T \n",
    "# plt.imshow(H, interpolation='nearest', origin='lower',cmap = 'BuPu', extent=[x[0], x[-1], y[0], y[-1]])\n",
    "\n",
    "H2, x, y = np.histogram2d(df_occurence.odor_from_source, df_occurence.odor_from_wind, bins=(x, y))\n",
    "H2 = H2.T \n",
    "\n",
    "H3, x, y = np.histogram2d(df_no_occurence.odor_from_source, df_no_occurence.odor_from_wind, bins=(x, y))\n",
    "H3 = H3.T\n",
    "\n",
    "\n",
    "Encounters = np.array(H2)/np.array(H1)\n",
    "Encounters[Encounters == np.inf] = 0"
   ]
  },
  {
   "cell_type": "code",
   "execution_count": null,
   "metadata": {},
   "outputs": [],
   "source": [
    "\n",
    "query2 = 'odor>=2'\n",
    "df2_occurence = df2.query(query2)\n",
    "query3='odor<2'\n",
    "df2_no_occurence = df2.query(query3)\n",
    "\n",
    "\n",
    "x = np.linspace(0,35,12)\n",
    "y = np.linspace(0,18,10)\n",
    "H4, x, y = np.histogram2d(df2.odor_from_source, df2.odor_from_wind, bins=(x, y))\n",
    "H4 = H4.T \n",
    "# plt.imshow(H, interpolation='nearest', origin='lower',cmap = 'BuPu', extent=[x[0], x[-1], y[0], y[-1]])\n",
    "\n",
    "H5, x, y = np.histogram2d(df2_occurence.odor_from_source, df2_occurence.odor_from_wind, bins=(x, y))\n",
    "H5 = H5.T \n",
    "\n",
    "H6, x, y = np.histogram2d(df2_no_occurence.odor_from_source, df2_no_occurence.odor_from_wind, bins=(x, y))\n",
    "H6 = H6.T\n",
    "\n",
    "Encounters = np.array(H2+H5)/np.array(H1+H4)\n",
    "Encounters[Encounters == np.inf] = 0\n",
    "\n",
    "No_Encounters = np.array(H3+H6)/np.array(H1+H4)\n",
    "No_Encounters[No_Encounters == np.inf] = 0"
   ]
  },
  {
   "cell_type": "code",
   "execution_count": 40,
   "metadata": {},
   "outputs": [
    {
     "name": "stderr",
     "output_type": "stream",
     "text": [
      "<ipython-input-40-f85ea9a239bc>:12: RuntimeWarning: invalid value encountered in true_divide\n",
      "  E = np.array(N_Encounter)/np.array(Total)\n"
     ]
    }
   ],
   "source": [
    "Total = H1\n",
    "N_Encounter = H2\n",
    "\n",
    "## removing areas less than 1000 deno\n",
    "\n",
    "for i in range (len(Total)):\n",
    "    for j in range(len(Total[i])):\n",
    "        if Total[i][j]<4000:\n",
    "            Total[i][j] =0\n",
    "            N_Encounter[i][j]=0\n",
    "\n",
    "E = np.array(N_Encounter)/np.array(Total)\n",
    "E[E == np.inf] = 0"
   ]
  },
  {
   "cell_type": "code",
   "execution_count": 41,
   "metadata": {},
   "outputs": [
    {
     "data": {
      "image/png": "[encoded data removed]",
      "text/plain": [
       "<Figure size 720x720 with 4 Axes>"
      ]
     },
     "metadata": {
      "needs_background": "light"
     },
     "output_type": "display_data"
    }
   ],
   "source": [
    "f, (ax1,ax2) = plt.subplots(2,1, figsize =(10,10) , gridspec_kw={'height_ratios': [4,4]})\n",
    "f.suptitle('Wind Speed < 3 m/s', fontsize = 15)\n",
    "var = ax1.imshow(Encounters, interpolation='nearest', origin='lower',cmap = 'BuPu', extent=[x[0], x[-1], y[0], y[-1]])\n",
    "ax1.set_title('Not Filtered', fontsize = 15)\n",
    "start, end = ax1.get_xlim()\n",
    "divider = make_axes_locatable(ax1)\n",
    "cax0 = divider.append_axes('right', size='5%', pad=0.05)\n",
    "f.colorbar(var, cax=cax0, orientation = 'vertical')\n",
    "\n",
    "var2 = ax2.imshow(E, interpolation='nearest', origin='lower',cmap = 'BuPu', extent=[x[0], x[-1], y[0], y[-1]])\n",
    "ax2.set_title('Filtered', fontsize = 15)\n",
    "start, end = ax2.get_xlim()\n",
    "divider = make_axes_locatable(ax2)\n",
    "cax1 = divider.append_axes('right', size='5%', pad=0.05)\n",
    "f.colorbar(var2, cax=cax1, orientation = 'vertical')\n",
    "f.text(0.5, 0.08, 'Distance from Sensor', ha='center', fontsize = 15) \n",
    "f.text(0.1, 0.5, 'Distance from Streakline', fontsize = 15, va='center', rotation='vertical')\n",
    "\n",
    "# f.savefig(dir_save+'ProbDistNonWindyGlobal.jpeg')"
   ]
  }
 ],
 "metadata": {
  "kernelspec": {
   "display_name": "Python 3",
   "language": "python",
   "name": "python3"
  },
  "language_info": {
   "codemirror_mode": {
    "name": "ipython",
    "version": 3
   },
   "file_extension": ".py",
   "mimetype": "text/x-python",
   "name": "python",
   "nbconvert_exporter": "python",
   "pygments_lexer": "ipython3",
   "version": "3.8.7"
  }
 },
 "nbformat": 4,
 "nbformat_minor": 4
}
