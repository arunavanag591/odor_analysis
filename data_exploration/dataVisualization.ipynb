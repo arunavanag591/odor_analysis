{
 "cells": [
  {
   "cell_type": "code",
   "execution_count": 1,
   "id": "nonprofit-border",
   "metadata": {},
   "outputs": [],
   "source": [
    "#user-defined\n",
    "import ipynb.fs.full.helper as hp\n",
    "\n",
    "#dataframes\n",
    "import pandas as pd\n",
    "import h5py\n",
    "\n",
    "#speedup\n",
    "import multiprocessing as mp\n",
    "\n",
    "#suppress warnings\n",
    "import warnings\n",
    "warnings.simplefilter(action='ignore', category=FutureWarning)\n",
    "pd.TimeSeries = pd.Series \n",
    "\n",
    "#math\n",
    "import numpy as np\n",
    "import math as m\n",
    "from scipy.spatial.distance import cdist\n",
    "\n",
    "\n",
    "#plots\n",
    "import pylab as plt\n",
    "import matplotlib.pyplot as plt\n",
    "from mpl_toolkits.axes_grid1 import make_axes_locatable # for colorbar\n",
    "import seaborn as sns\n",
    "\n",
    "#misc\n",
    "import time\n",
    "np.set_printoptions(suppress=True)"
   ]
  },
  {
   "cell_type": "markdown",
   "id": "found-canyon",
   "metadata": {},
   "source": [
    "## Visualization"
   ]
  },
  {
   "cell_type": "markdown",
   "id": "delayed-carbon",
   "metadata": {},
   "source": [
    "### Heatmap Calculation"
   ]
  },
  {
   "cell_type": "code",
   "execution_count": null,
   "id": "novel-water",
   "metadata": {},
   "outputs": [],
   "source": [
    "bbdf1 = pd.read_hdf('~/Documents/Myfiles/DataAnalysis/data/Sprints/Run04/Run04CalculatedStats.hdf') \n",
    "df2 = pd.read_hdf('~/Documents/Myfiles/DataAnalysis/data/Sprints/Run05/Run05CalculatedStats.hdf') \n",
    "# df3 = pd.read_hdf('~/Documents/Myfiles/DataAnalysis/data/Sprints/Run03/Run03CalculatedStats.hdf') \n",
    "\n",
    "df = pd.concat([df1,df2])\n",
    "df.reset_index(inplace=True, drop=True)"
   ]
  },
  {
   "cell_type": "code",
   "execution_count": null,
   "id": "noticed-grave",
   "metadata": {},
   "outputs": [],
   "source": [
    "query = 'odor>=2'\n",
    "df_occurence = df1.query(query)\n",
    "query1='odor<2'\n",
    "df_no_occurence = df1.query(query1)\n",
    "\n",
    "x = np.linspace(0,25,14)\n",
    "y = np.linspace(0,15,15)\n",
    "H1, x, y = np.histogram2d(df_occurence.odor_from_source, df_occurence.odor_from_wind, bins=(x, y), \n",
    "                          weights = df_occurence.odor)\n",
    "H1 = H1.T \n",
    "# H2, x, y = np.histogram2d(df.odor_from_source, df.odor_from_wind, bins=(x, y), \n",
    "#                           weights = df.odor)\n",
    "# H2 = H2.T \n",
    "\n",
    "# Encounters = np.array(H1)/np.array(H2)\n",
    "# Encounters[Encounters == np.inf] = 0"
   ]
  },
  {
   "cell_type": "code",
   "execution_count": null,
   "id": "outer-attraction",
   "metadata": {},
   "outputs": [],
   "source": [
    "Total = H2\n",
    "N_Encounter = H1\n",
    "\n",
    "## removing areas less than 1000 deno\n",
    "\n",
    "for i in range (len(Total)):\n",
    "    for j in range(len(Total[i])):\n",
    "        if Total[i][j]<1000:\n",
    "            Total[i][j] =0\n",
    "            N_Encounter[i][j]=0\n",
    "\n",
    "Encounters = np.array(N_Encounter)/np.array(Total)\n",
    "Encounters[Encounters == np.inf] = 0"
   ]
  },
  {
   "cell_type": "code",
   "execution_count": null,
   "id": "informed-water",
   "metadata": {},
   "outputs": [],
   "source": [
    "x = np.linspace(0,25,35)\n",
    "y = np.linspace(0,12,15)\n",
    "H1, x, y = np.histogram2d(df.avg_dist_from_source, df.avg_dist_from_streakline, bins=(x, y), \n",
    "                          weights = df.length_of_encounter)\n",
    "H1 = H1.T \n",
    "Encounters = np.array(H1)\n",
    "Encounters[Encounters == np.inf] = 0\n",
    "\n",
    "\n",
    "\n",
    "f, ax = plt.subplots(1,1, figsize =(10,10))\n",
    "\n",
    "ax.set_xlabel('Distance between Sensor to Source (meters)' , fontsize = 13)\n",
    "ax.set_ylabel('Shotest Distance \\n Sensor from Streakline (meter)' , fontsize = 13)\n",
    "var2 = ax.imshow(Encounters, interpolation='nearest', origin='lower',cmap = 'viridis', extent=[x[0], x[-1], y[0], y[-1]])\n",
    "start, end = ax.get_xlim()\n",
    "\n",
    "divider = make_axes_locatable(ax)\n",
    "cax = divider.append_axes('right', size='5%', pad=0.05)\n",
    "f.colorbar(var2, cax=cax, orientation = 'vertical')\n",
    "\n",
    "f.tight_layout()\n",
    "# f.savefig(dir_save+'All_Windy_LOE.png')"
   ]
  },
  {
   "cell_type": "markdown",
   "id": "pretty-touch",
   "metadata": {},
   "source": [
    "### HeatMap for P(No-Encounters)"
   ]
  },
  {
   "cell_type": "code",
   "execution_count": null,
   "id": "configured-complexity",
   "metadata": {},
   "outputs": [],
   "source": [
    "f, (ax1,ax2) = plt.subplots(2,1, figsize =(10,12) , gridspec_kw={'height_ratios': [4,4]})\n",
    "\n",
    "#plot wind vs odor from source and each other\n",
    "f.suptitle('Odor Positions from Wind Particle', fontsize = 16)\n",
    "# ax1 = plt.axes(xlim =(0,35), ylim=(-5,28))\n",
    "ax1.axhline(0, color = 'red')\n",
    "ax1.plot(0,0,'o', markersize = 20)\n",
    "var = ax1.scatter(df_occurence.odor_from_source, df_occurence.odor_from_wind, cmap = 'viridis', c = df_occurence.odor,  s = 10)\n",
    "ax1.set_xlabel('Distance between Sensor to Source (meters)' , fontsize = 13)\n",
    "ax1.set_ylabel('Shotest Distance \\n Sensor from Streakline (meter)' , fontsize = 13)\n",
    "\n",
    "\n",
    "divider = make_axes_locatable(ax1)\n",
    "cax = divider.append_axes('right', size='5%', pad=0.05)\n",
    "f.colorbar(var, cax=cax, orientation = 'vertical')\n",
    "\n",
    "# x = np.linspace(0,25,11)\n",
    "# y = np.linspace(0,10,25)\n",
    "ax2.set_xlabel('Distance between Sensor to Source (meters)', fontsize = 13)\n",
    "ax2.set_ylabel('Shotest Distance \\n Sensor from Streakline (meter)', fontsize = 13)\n",
    "var2 = ax2.imshow(Encounters, interpolation='nearest', origin='lower',cmap = 'viridis', extent=[x[0], x[-1], y[0], y[-1]])\n",
    "start, end = ax2.get_xlim()\n",
    "\n",
    "divider = make_axes_locatable(ax2)\n",
    "cax = divider.append_axes('right', size='5%', pad=0.05)\n",
    "f.colorbar(var2, cax=cax, orientation = 'vertical')\n",
    "\n",
    "f.tight_layout()\n",
    "\n",
    "# f.savefig(dir_save+'Run01_LOE.jpeg')"
   ]
  },
  {
   "cell_type": "markdown",
   "id": "respected-praise",
   "metadata": {},
   "source": [
    "### Time Series Plot"
   ]
  },
  {
   "cell_type": "code",
   "execution_count": null,
   "id": "unlikely-healing",
   "metadata": {},
   "outputs": [],
   "source": [
    "f, (ax1,ax2) = plt.subplots(2, 1,figsize=(15,6))\n",
    "# ax1.set_prop_cycle('color',[plt.cm.OrRd(i) for i in df.odor])\n",
    "\n",
    "# ax1.set_facecolor('black')\n",
    "ax1.plot(df.sync_time, df.odor, color='Purple')\n",
    "ax1.set_ylabel('Odor \\n Concentration', fontsize=15)\n",
    "ax1.title.set_text('Encountered Particle')\n",
    "ax2.plot(df.sync_time,df.odor_expected, color='C1')\n",
    "ax2.set_xlabel('Time (secs)', fontsize=15)\n",
    "ax2.set_ylabel('Odor \\n Presence', fontsize=15)\n",
    "ax2.title.set_text('Calculated Particle')\n",
    "\n",
    "f.suptitle('Radius**0.5*.01', fontsize =20)\n",
    "f.tight_layout()\n",
    "# f.savefig(dir_save+'Run0'+str(run)+'_encounteredVsExpected.jpeg')"
   ]
  },
  {
   "cell_type": "markdown",
   "id": "robust-spotlight",
   "metadata": {},
   "source": [
    "### Summary Plot"
   ]
  },
  {
   "cell_type": "code",
   "execution_count": null,
   "id": "touched-ballet",
   "metadata": {},
   "outputs": [],
   "source": [
    "f, (ax1,ax2,ax3,ax4) = plt.subplots(4,1, figsize =(15,15) , gridspec_kw={'height_ratios': [8,3,3,3]})\n",
    "\n",
    "#plot wind vs odor from source and each other\n",
    "f.suptitle('Odor Positions from Wind Particle', fontsize = 16)\n",
    "# ax1 = plt.axes(xlim =(0,35), ylim=(-5,28))\n",
    "ax1.axhline(0, color = 'red')\n",
    "ax1.plot(0,0,'o', markersize = 20)\n",
    "# area = df.radius**2*0.4*m.pi #area\n",
    "# ax1.scatter(area[0:30]**2,df.mock[0:30])\n",
    "# ax1.scatter(df.sync_time[::300], df.mock[::300],  facecolors='none', edgecolors='b', s = area[::300])\n",
    "var = ax1.scatter(df.distance_along_streakline, df.nearest_particle, cmap = 'BuPu', c = df.odor,  s = 10)\n",
    "ax1.set_xlabel('Distance - Sensor to Source (meters)' , fontsize = 15)\n",
    "ax1.set_ylabel('Distance - Sensor to Streakline (meter)' , fontsize = 15)\n",
    "# ax1.xaxis.set_ticks(np.linspace(0, 30, 31).astype(int))\n",
    "# ax1.yaxis.set_ticks(np.linspace(0, 35, 10).astype(int))\n",
    "ax1.grid()\n",
    "\n",
    "divider = make_axes_locatable(ax1)\n",
    "cax = divider.append_axes('top', size='5%', pad=0.05)\n",
    "f.colorbar(var, cax=cax, orientation = 'horizontal')\n",
    "\n",
    "#plot concentration\n",
    "ax2.plot(df.sync_time,df.odor,color='Purple' , label=\"Encountered Odor\")\n",
    "ax2.fill_between(df.sync_time, df.odor.min(), 11, where=df.odor_expected>0 ,facecolor='C1', alpha=1, label=\"Expected Odor\")\n",
    "# ax2.plot(df.sync_time, df.odor_expected, label=\"Expected Odor\")\n",
    "ax2.set_xlabel('Time (seconds)' , fontsize = 15)\n",
    "ax2.set_ylabel('Odor \\n Comparison' , fontsize = 15)\n",
    "# ax2.set_facecolor('black')\n",
    "\n",
    "lgd=ax2.legend(loc='upper right',fancybox=True, shadow=True)\n",
    "\n",
    "## plot direction\n",
    "ax3.plot(df.sync_time,df.D, color = 'green', label=\"Wind Direction\")\n",
    "# ax3.plot(df.sync_time,sensor_direction, color = 'purple', label=\"Sensor Direction\")\n",
    "ax3.set_xlabel('Time (seconds)' , fontsize = 15)\n",
    "ax3.set_ylabel('Direction (degrees)' , fontsize = 15)\n",
    "# ax3.axhline(150, color = 'red')\n",
    "lgd=ax3.legend(loc='upper right',fancybox=True, shadow=True)\n",
    "\n",
    "\n",
    "\n",
    "## plot speed\n",
    "ax4.plot(df.sync_time,df.S2, color = 'green', label=\"Wind Speed\")\n",
    "ax4.set_xlabel('Time (seconds)' , fontsize = 15)\n",
    "ax4.set_ylabel('Wind Speed (m/s)' , fontsize = 15)\n",
    "lgd=ax4.legend(loc='upper right',fancybox=True, shadow=True)\n",
    "# ax4.axhline(1.0, color = 'red')\n",
    "\n",
    "f.tight_layout()\n",
    "\n",
    "# f.savefig(dir_save+'Run0'+str(run)+'_plot_summary.jpeg')"
   ]
  }
 ],
 "metadata": {
  "kernelspec": {
   "display_name": "Python 3",
   "language": "python",
   "name": "python3"
  },
  "language_info": {
   "codemirror_mode": {
    "name": "ipython",
    "version": 3
   },
   "file_extension": ".py",
   "mimetype": "text/x-python",
   "name": "python",
   "nbconvert_exporter": "python",
   "pygments_lexer": "ipython3",
   "version": "3.8.7"
  }
 },
 "nbformat": 4,
 "nbformat_minor": 5
}
