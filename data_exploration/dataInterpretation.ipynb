{
 "cells": [
  {
   "cell_type": "markdown",
   "metadata": {},
   "source": [
    "## Particle within radius or overlap calculations"
   ]
  },
  {
   "cell_type": "code",
   "execution_count": 59,
   "metadata": {},
   "outputs": [],
   "source": [
    "#dataframes\n",
    "import pandas as pd\n",
    "import h5py\n",
    "\n",
    "#speedup\n",
    "import multiprocessing as mp\n",
    "\n",
    "#suppress warnings\n",
    "import warnings\n",
    "warnings.simplefilter(action='ignore', category=FutureWarning)\n",
    "pd.TimeSeries = pd.Series \n",
    "\n",
    "#math\n",
    "import numpy as np\n",
    "import math as m\n",
    "from scipy.spatial.distance import cdist\n",
    "\n",
    "\n",
    "#plots\n",
    "import pylab as plt\n",
    "import matplotlib.pyplot as plt\n",
    "from mpl_toolkits.axes_grid1 import make_axes_locatable # for colorbar\n",
    "import seaborn as sns\n",
    "\n",
    "#misc\n",
    "import time\n",
    "np.set_printoptions(suppress=True)"
   ]
  },
  {
   "cell_type": "code",
   "execution_count": 69,
   "metadata": {},
   "outputs": [],
   "source": [
    "dir_save = '../../data/Sprints/AN/'\n",
    "dir ='~/Documents/MyFiles/DataAnalysis/data/Sprints/HighRes/'\n",
    "df = pd.read_hdf(dir+'NotWindy.h5')"
   ]
  },
  {
   "cell_type": "code",
   "execution_count": 4,
   "metadata": {},
   "outputs": [],
   "source": [
    "# df = df.drop(columns=['relative_perpendicular_comp','relative_parallel_comp',\n",
    "#                       'distance_from_source_',\n",
    "#                       'nearest_from_streakline_', 'corrected_u', 'corrected_v'\n",
    "#                       ])"
   ]
  },
  {
   "cell_type": "code",
   "execution_count": 7,
   "metadata": {},
   "outputs": [],
   "source": [
    "pi = np.pi/180\n",
    "x = np.abs(df.S2*np.sin(((df.D+13)*pi)))\n",
    "y = np.abs(df.S2*np.cos(((df.D+13)*pi)))\n",
    "\n",
    "x = x*np.sign(df.U)\n",
    "y = y*np.sign(df.V)\n",
    "\n",
    "df['corrected_u'] = x\n",
    "df['corrected_v'] = y"
   ]
  },
  {
   "cell_type": "code",
   "execution_count": 8,
   "metadata": {},
   "outputs": [],
   "source": [
    "df.reset_index(inplace=True, drop=True) "
   ]
  },
  {
   "cell_type": "markdown",
   "metadata": {},
   "source": [
    "### Calculate Expected encounters"
   ]
  },
  {
   "cell_type": "code",
   "execution_count": 9,
   "metadata": {},
   "outputs": [],
   "source": [
    "# df.drop(df.loc[(df['time'] > 6200)].index,inplace=True) "
   ]
  },
  {
   "cell_type": "code",
   "execution_count": 70,
   "metadata": {},
   "outputs": [],
   "source": [
    "# df = df.drop(columns=['time'])\n",
    "dt=df.master_time[1]-df.master_time[0]\n",
    "\n",
    "time = []\n",
    "time.append(0)\n",
    "for i in range(1,len(df)):\n",
    "    time.append(time[i-1]+dt)\n",
    "    \n",
    "# df['time'] = time"
   ]
  },
  {
   "cell_type": "code",
   "execution_count": 71,
   "metadata": {},
   "outputs": [],
   "source": [
    "# df.insert(1,'sync_time',sync_time)\n",
    "\n",
    "# storing the odor location in a numpy array to avoid reading pandas\n",
    "source = np.array([[0,0]])\n",
    "odor_position = np.array([[df.xsrc[i],df.ysrc[i]] for i in range (len(df.xsrc))]) \n",
    "\n",
    "# distance_from_source = np.array([cdist(odor_position,source)]).flatten()"
   ]
  },
  {
   "cell_type": "code",
   "execution_count": 12,
   "metadata": {},
   "outputs": [],
   "source": [
    "df['distance_from_source'] = distance_from_source"
   ]
  },
  {
   "cell_type": "markdown",
   "metadata": {},
   "source": [
    "### Relative Motion, and Distance Calculation"
   ]
  },
  {
   "cell_type": "code",
   "execution_count": 20,
   "metadata": {},
   "outputs": [],
   "source": [
    "def relative_components(streakline_slope,sensor_dir,wind_dir,wind_speed,sensor_speed):\n",
    "   \n",
    "    ## perpendicular component\n",
    "    wind_perpendicular_comp = np.sin(wrapped_angular_diff(streakline_slope,wind_dir))*wind_speed\n",
    "    sensor_perpendicular_comp = np.sin(wrapped_angular_diff(streakline_slope,sensor_dir))*sensor_speed\n",
    "    perp.append(wind_perpendicular_comp-sensor_perpendicular_comp)\n",
    "    \n",
    "    ## parallel component\n",
    "    wind_parallel_comp = np.cos(wrapped_angular_diff(streakline_slope,wind_dir))*wind_speed\n",
    "    sensor_parallel_comp = np.cos(wrapped_angular_diff(streakline_slope,sensor_dir))*sensor_speed\n",
    "    paral.append(wind_parallel_comp-sensor_parallel_comp)\n",
    "    "
   ]
  },
  {
   "cell_type": "code",
   "execution_count": 21,
   "metadata": {},
   "outputs": [],
   "source": [
    "def wrapped_angular_diff(a, b):\n",
    "    return np.arctan2(np.sin(a-b), np.cos(a-b))\n",
    "\n",
    "def tangent_slope_direction(slope, x): \n",
    "    if (x >= 0):\n",
    "        return slope\n",
    "    else:\n",
    "        if (slope > 0):\n",
    "            return(3.14159265359 - slope)            \n",
    "        else:\n",
    "            return(-3.14159265359-(slope))\n",
    "        \n",
    "def relative_magnitude_calculation(i):\n",
    "    wind_speed_magnitude = np.linalg.norm([df.corrected_u[i],df.corrected_v[i]])\n",
    "    sensor_speed_magnitude = np.linalg.norm([df.gps_linear_x[i],df.gps_linear_y[i]])\n",
    "    return wind_speed_magnitude, sensor_speed_magnitude"
   ]
  },
  {
   "cell_type": "code",
   "execution_count": 22,
   "metadata": {},
   "outputs": [],
   "source": [
    "def relative_direction_calculation(streakline, pos, i):\n",
    "    ## get the tangent from the nearest point\n",
    "    if(pos == 0):\n",
    "        x = streakline[pos:(pos+2),0]\n",
    "        y = streakline[pos:(pos+2),1]\n",
    "    else:\n",
    "        x = streakline[(pos-1):(pos+2),0]\n",
    "        y = streakline[(pos-1):(pos+2),1]\n",
    "    slope_streakline,intercept_streakline=np.polyfit(x,y,1)\n",
    "    \n",
    "    streakline_slope=tangent_slope_direction(np.arctan(slope_streakline),streakline[pos,0] )\n",
    "    \n",
    "    ## find direction - source location\n",
    "    sensor_dir = np.arctan2(df.gps_linear_y[i],df.gps_linear_x[i])\n",
    "    wind_dir = np.arctan2(df.corrected_v[i],df.corrected_u[i])\n",
    "    wind_speed, sensor_speed = relative_magnitude_calculation(i)\n",
    "    \n",
    "    relative_components(streakline_slope,sensor_dir,wind_dir,wind_speed,sensor_speed)    "
   ]
  },
  {
   "cell_type": "code",
   "execution_count": 38,
   "metadata": {},
   "outputs": [],
   "source": [
    "def compute_distance(streakline, odor_position,i):\n",
    "    source = np.array([[0,0]])\n",
    "    radius = np.arange(start = 6000, stop = 0, step = -1)**0.5*0.01\n",
    "    streakline = np.concatenate((streakline,source))\n",
    "    distance = cdist(odor_position,streakline).flatten()   # cdist compares distance for all the points in both arrays\n",
    "#     nearest_from_streakline.append(np.min(distance))\n",
    "    pos = np.where(distance == np.amin(distance))\n",
    "#     relative_direction_calculation(streakline, pos[0][0],i)\n",
    "    "
   ]
  },
  {
   "cell_type": "code",
   "execution_count": 23,
   "metadata": {},
   "outputs": [],
   "source": [
    "def find_streakline():\n",
    "    eastwest = [np.sum(df.corrected_u[j:])*dt for j in range(0,len(df))]\n",
    "    northsouth = [np.sum(df.corrected_v[j:])*dt for j in range(0,len(df))]\n",
    "    return eastwest,northsouth"
   ]
  },
  {
   "cell_type": "code",
   "execution_count": 24,
   "metadata": {},
   "outputs": [],
   "source": [
    "# eastwest,northsouth = find_streakline()"
   ]
  },
  {
   "cell_type": "code",
   "execution_count": 72,
   "metadata": {},
   "outputs": [],
   "source": [
    "st = pd.read_hdf(dir+'/Main/NotWindyStreaklineCorrected.h5')\n",
    "eastwest = st.eastwest\n",
    "northsouth= st.northsouth"
   ]
  },
  {
   "cell_type": "code",
   "execution_count": 74,
   "metadata": {},
   "outputs": [
    {
     "data": {
      "text/plain": [
       "1289622"
      ]
     },
     "execution_count": 74,
     "metadata": {},
     "output_type": "execute_result"
    }
   ],
   "source": [
    "len(eastwest)"
   ]
  },
  {
   "cell_type": "code",
   "execution_count": 87,
   "metadata": {
    "scrolled": true
   },
   "outputs": [],
   "source": [
    "# perp = []\n",
    "# paral = []\n",
    "# nearest_from_streakline = []\n",
    "# distance_along_streakline = []\n",
    "# odor_presence=[]\n",
    "\n",
    "for i in range(len(eastwest)-1, 6000, -1):\n",
    "    odor_pos = [odor_position[i]] \n",
    "    eastwest = np.resize(np.array([eastwest-df.corrected_u[i]*dt]),(1,i)).flatten() # resize needed to avoid negative data\n",
    "    northsouth = np.resize(np.array([northsouth-df.corrected_v[i]*dt]),(1,i)).flatten()\n",
    "    wind_pos = np.vstack([eastwest[-6000:],northsouth[-6000:]]).T   \n",
    "    radius = np.arange(start = 6000, stop = 0, step = -1)**0.5*0.01\n",
    "#     compute_distance(wind_pos,odor_pos,i)\n",
    "    distance = cdist(odor_pos,wind_pos).flatten()\n",
    "    x = np.any(distance<=radius)             # generates a boolean values \n",
    "    if x==True:\n",
    "        odor_presence.append(1)\n",
    "    else:\n",
    "        odor_presence.append(0)"
   ]
  },
  {
   "cell_type": "code",
   "execution_count": 88,
   "metadata": {},
   "outputs": [],
   "source": [
    "for i in range(len(eastwest)-1, -1, -1):\n",
    "    odor_pos = [odor_position[i]] \n",
    "    eastwest = np.resize(np.array([eastwest-df.corrected_u[i]*dt]),(1,i)).flatten() # resize needed to avoid negative data\n",
    "    northsouth = np.resize(np.array([northsouth-df.corrected_v[i]*dt]),(1,i)).flatten()\n",
    "    wind_pos = np.vstack([eastwest,northsouth]).T  \n",
    "    radius = np.arange(start = i, stop = 0, step = -1)**0.5*0.01\n",
    "#     compute_distance(wind_pos,odor_pos,i)\n",
    "    distance = cdist(odor_pos,wind_pos).flatten()\n",
    "    x = np.any(distance<=radius)             # generates a boolean values \n",
    "    if x==True:\n",
    "        odor_presence.append(1)\n",
    "    else:\n",
    "        odor_presence.append(0)\n",
    "    \n",
    "    \n",
    "#     compute_distance(wind_pos,odor_pos,i)"
   ]
  },
  {
   "cell_type": "code",
   "execution_count": 42,
   "metadata": {},
   "outputs": [],
   "source": [
    "#for the section when only the length of the elements is equal to the window value\n",
    "for i in range((len(eastwest))-1, -1, -1):\n",
    "    \n",
    "    odor_pos = [odor_position[i]]  \n",
    "    if(i == 0):\n",
    "        radius = np.zeros(1)\n",
    "        wind_pos = np.array([[0,0]])\n",
    "        distance = cdist(odor_pos,wind_pos).flatten()\n",
    "        paral.append(0)\n",
    "        perp.append(0)\n",
    "#         nearest_from_streakline.append(np.min(distance))\n",
    "        \n",
    "    else:\n",
    "        eastwest = np.resize(np.array([eastwest-df.corrected_u[i]*dt]),(1,i)).flatten() # resize needed to avoid negative data\n",
    "        northsouth = np.resize(np.array([northsouth-df.corrected_v[i]*dt]),(1,i)).flatten()\n",
    "        wind_pos = np.vstack([eastwest,northsouth]).T   \n",
    "        compute_distance(wind_pos,odor_pos,i)"
   ]
  },
  {
   "cell_type": "code",
   "execution_count": 90,
   "metadata": {},
   "outputs": [],
   "source": [
    "## flip containers because above iteration is done in reverse order\n",
    "\n",
    "# distance_along_streakline = np.array(np.flip(distance_along_streakline)) \n",
    "# nearest_from_streakline = np.array(np.flip(nearest_from_streakline)) \n",
    "\n",
    "df['odorsim'] = odor_presence[::-1]\n",
    "\n",
    "## storing in the dataframe \n",
    "# df['distance_along_streakline'] =  distance_along_streakline\n",
    "# df['nearest_from_streakline_'] = nearest_from_streakline\n",
    "# df['relative_parallel_comp']=paral[::-1]\n",
    "# df['relative_perpendicular_comp']=perp[::-1]"
   ]
  },
  {
   "cell_type": "code",
   "execution_count": 91,
   "metadata": {},
   "outputs": [],
   "source": [
    "dir ='~/Documents/MyFiles/DataAnalysis/data/Sprints/HighRes/'\n",
    "df.to_hdf(dir+'NotWindy_.h5', key='df', mode='w')"
   ]
  },
  {
   "cell_type": "code",
   "execution_count": 92,
   "metadata": {},
   "outputs": [
    {
     "data": {
      "text/plain": [
       "Index(['master_time', 'xsrc', 'ysrc', 'odor', 'trisonica_u', 'trisonica_v',\n",
       "       'trisonica_pressure', 'trisonica_temperature', 'gps_linear_x',\n",
       "       'gps_linear_y', 'gps_linear_z', 'imu_angular_x', 'imu_angular_y',\n",
       "       'imu_angular_z', 'imu_linear_acc_x', 'imu_linear_acc_y',\n",
       "       'imu_linear_acc_z', 'U', 'V', 'D', 'S2', 'corrected_u', 'corrected_v',\n",
       "       'time', 'distance_from_source', 'nearest_from_streakline_',\n",
       "       'relative_parallel_comp', 'relative_perpendicular_comp', 'odorsim'],\n",
       "      dtype='object')"
      ]
     },
     "execution_count": 92,
     "metadata": {},
     "output_type": "execute_result"
    }
   ],
   "source": [
    "df.keys()"
   ]
  },
  {
   "cell_type": "markdown",
   "metadata": {},
   "source": [
    "#### Extract Continuous Streakline"
   ]
  },
  {
   "cell_type": "code",
   "execution_count": 7,
   "metadata": {},
   "outputs": [],
   "source": [
    "dir ='~/Documents/MyFiles/DataAnalysis/data/Sprints/HighRes/'\n",
    "df = pd.read_hdf(dir+'Windy.h5')"
   ]
  },
  {
   "cell_type": "code",
   "execution_count": 8,
   "metadata": {},
   "outputs": [],
   "source": [
    "time_res=2002*5 ## 50 seconds for highres \n",
    "range_points = []\n",
    "start_angle=df.D[0]\n",
    "range_points.append(0)\n",
    "i = 0        \n",
    "while i < (len(df)):\n",
    "    diff = np.abs(df.D[i] - start_angle)\n",
    "    if diff >= 60:\n",
    "        range_points.append(i)\n",
    "        start_angle=df.D[i+time_res]\n",
    "        i+=time_res\n",
    "    else:\n",
    "        i+=1\n",
    "        continue"
   ]
  },
  {
   "cell_type": "code",
   "execution_count": 9,
   "metadata": {},
   "outputs": [],
   "source": [
    "cs=pd.DataFrame()\n",
    "j = 0\n",
    "while j < (len(range_points)):\n",
    "#     print(i)\n",
    "    if(j < len(range_points)-1):\n",
    "        cs = cs.append(df[range_points[j]:range_points[j+1]])        \n",
    "    else:\n",
    "        cs = cs.append(df[range_points[j]:])\n",
    "    j+=2\n",
    "cs.reset_index(inplace=True, drop=True) \n"
   ]
  },
  {
   "cell_type": "code",
   "execution_count": 10,
   "metadata": {},
   "outputs": [],
   "source": [
    "dt=df.time[1]-df.time[0]\n",
    "time = []\n",
    "time.append(0)\n",
    "for i in range(1,len(cs)):\n",
    "    time.append(time[i-1]+dt)\n",
    "\n",
    "cs = cs.drop(columns=['time'])\n",
    "cs['time']=time"
   ]
  },
  {
   "cell_type": "code",
   "execution_count": 11,
   "metadata": {},
   "outputs": [
    {
     "data": {
      "text/plain": [
       "347059"
      ]
     },
     "execution_count": 11,
     "metadata": {},
     "output_type": "execute_result"
    }
   ],
   "source": [
    "len(cs)"
   ]
  },
  {
   "cell_type": "code",
   "execution_count": 12,
   "metadata": {},
   "outputs": [],
   "source": [
    "cs.to_hdf(dir+'ContinuousWindy.h5', key='cs', mode='w')"
   ]
  },
  {
   "cell_type": "code",
   "execution_count": null,
   "metadata": {},
   "outputs": [],
   "source": []
  }
 ],
 "metadata": {
  "kernelspec": {
   "display_name": "Python 3",
   "language": "python",
   "name": "python3"
  },
  "language_info": {
   "codemirror_mode": {
    "name": "ipython",
    "version": 3
   },
   "file_extension": ".py",
   "mimetype": "text/x-python",
   "name": "python",
   "nbconvert_exporter": "python",
   "pygments_lexer": "ipython3",
   "version": "3.8.7"
  }
 },
 "nbformat": 4,
 "nbformat_minor": 4
}
