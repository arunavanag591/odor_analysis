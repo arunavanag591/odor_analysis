{
 "cells": [
  {
   "cell_type": "markdown",
   "metadata": {},
   "source": [
    "## Particle within radius or overlap calculations"
   ]
  },
  {
   "cell_type": "code",
   "execution_count": 22,
   "metadata": {},
   "outputs": [],
   "source": [
    "#user-defined\n",
    "import ipynb.fs.full.helper as hp\n",
    "\n",
    "#dataframes\n",
    "import pandas as pd\n",
    "import h5py\n",
    "\n",
    "#speedup\n",
    "import multiprocessing as mp\n",
    "\n",
    "#suppress warnings\n",
    "import warnings\n",
    "warnings.simplefilter(action='ignore', category=FutureWarning)\n",
    "pd.TimeSeries = pd.Series \n",
    "\n",
    "#math\n",
    "import numpy as np\n",
    "import math as m\n",
    "from scipy.spatial.distance import cdist\n",
    "\n",
    "\n",
    "#plots\n",
    "import pylab as plt\n",
    "import matplotlib.pyplot as plt\n",
    "from mpl_toolkits.axes_grid1 import make_axes_locatable # for colorbar\n",
    "import seaborn as sns\n",
    "\n",
    "#misc\n",
    "import time\n",
    "np.set_printoptions(suppress=True)"
   ]
  },
  {
   "cell_type": "code",
   "execution_count": 46,
   "metadata": {},
   "outputs": [],
   "source": [
    "# set_number = 5\n",
    "dir_save = '../../data/Sprints/AN/'\n",
    "dir ='~/Documents/MyFiles/DataAnalysis/data/Sprints/'\n",
    "df1 = pd.read_hdf(dir+'Run01/Run01.h5')\n",
    "df2 = pd.read_hdf(dir+'Run02/Run02.h5')"
   ]
  },
  {
   "cell_type": "code",
   "execution_count": 10,
   "metadata": {},
   "outputs": [],
   "source": [
    "dfx = pd.concat([df1,df2], ignore_index=True)"
   ]
  },
  {
   "cell_type": "code",
   "execution_count": 23,
   "metadata": {},
   "outputs": [],
   "source": [
    "df = pd.read_hdf(dir+'Run05/Run05_InterpolatedX.hdf')"
   ]
  },
  {
   "cell_type": "code",
   "execution_count": 53,
   "metadata": {},
   "outputs": [],
   "source": [
    "df.drop(index=df1.index[:6000], \n",
    "        axis=0, \n",
    "        inplace=True)"
   ]
  },
  {
   "cell_type": "code",
   "execution_count": 54,
   "metadata": {},
   "outputs": [],
   "source": [
    "df.reset_index(inplace=True, drop=True) "
   ]
  },
  {
   "cell_type": "markdown",
   "metadata": {},
   "source": [
    "### Calculate Expected encounters"
   ]
  },
  {
   "cell_type": "code",
   "execution_count": 24,
   "metadata": {},
   "outputs": [],
   "source": [
    "sync_time = df.master_time-df.master_time[0]\n",
    "dt=df.master_time[1]-df.master_time[0]\n",
    "df.insert(1,'sync_time',sync_time)\n",
    "\n",
    "# storing the odor location in a numpy array to avoid reading pandas\n",
    "source = np.array([[0,0]])\n",
    "odor_position = np.array([[df.xsrc[i],df.ysrc[i]] for i in range (len(df.xsrc))]) \n",
    "distance_from_source = np.array([cdist(odor_position,source)]).flatten()"
   ]
  },
  {
   "cell_type": "markdown",
   "metadata": {},
   "source": [
    "### Is Encountered odor particle within the Calculated particle radius?\n",
    "\n",
    "The loop below computes locations of the eastwest and northsouth particles and compares with a radius (distance) to interpret if the encountered particle were close to calculated particle. The execution for the loop is 23.56 seconds for 59770 rows of data\n",
    "\n",
    "For stationery wind sensor: The loop below takes in ith eastwest and subtracts the ith U and V elements to get the i-1 state, as the eastwest is summation of all the wind positions. \n",
    "\n",
    "[3 + 2 + 1] = [6]\n",
    "\n",
    "hence ith _state = 6\n",
    "\n",
    "_state = _state-3\n",
    "\n",
    "_state = _state-2\n",
    "\n",
    "\n"
   ]
  },
  {
   "cell_type": "code",
   "execution_count": 25,
   "metadata": {},
   "outputs": [],
   "source": [
    "#summation till Nth particle\n",
    "eastwest = [np.sum(df.U[j:])*dt for j in range(0,len(df))]\n",
    "northsouth = [np.sum(df.V[j:])*dt for j in range(0,len(df))]"
   ]
  },
  {
   "cell_type": "code",
   "execution_count": 26,
   "metadata": {},
   "outputs": [],
   "source": [
    "nearest_from_streakline = []\n",
    "distance_along_streakline = []"
   ]
  },
  {
   "cell_type": "code",
   "execution_count": 28,
   "metadata": {},
   "outputs": [],
   "source": [
    "def compute_distance(streakline, odor_position):\n",
    "    source = np.array([[0,0]])\n",
    "    streakline = np.concatenate((streakline,source))\n",
    "    distance = cdist(odor_position,streakline).flatten()   # cdist compares distance for all the points in both arrays\n",
    "    nearest_from_streakline.append(np.min(distance))\n",
    "    pos = np.where(distance == np.amin(distance))\n",
    "\n",
    "    if (len(pos[0]) > 1):\n",
    "        length=(np.sqrt(np.sum(np.diff(np.array(streakline[int(pos[0][0]):]), axis=0)**2, axis=1)))\n",
    "    else:\n",
    "        length=(np.sqrt(np.sum(np.diff(np.array(streakline[int(pos[0]):]), axis=0)**2, axis=1)))\n",
    "        \n",
    "    distance_along_streakline.append(np.sum(length))"
   ]
  },
  {
   "cell_type": "code",
   "execution_count": 37,
   "metadata": {},
   "outputs": [
    {
     "data": {
      "text/plain": [
       "6001"
      ]
     },
     "execution_count": 37,
     "metadata": {},
     "output_type": "execute_result"
    }
   ],
   "source": [
    "len(eastwest)"
   ]
  },
  {
   "cell_type": "code",
   "execution_count": 34,
   "metadata": {
    "scrolled": true
   },
   "outputs": [],
   "source": [
    "for i in range(len(eastwest)-1, 83496, -1):\n",
    "    odor_pos = [odor_position[i]] \n",
    "    eastwest = np.resize(np.array([eastwest-df.U[i]*dt]),(1,i)).flatten() # resize needed to avoid negative data\n",
    "    northsouth = np.resize(np.array([northsouth-df.V[i]*dt]),(1,i)).flatten()\n",
    "    wind_pos = np.vstack([eastwest[-6000:],northsouth[-6000:]]).T   \n",
    "    compute_distance(wind_pos,odor_pos)"
   ]
  },
  {
   "cell_type": "code",
   "execution_count": 36,
   "metadata": {},
   "outputs": [],
   "source": [
    "for i in range(len(eastwest)-1, 6000, -1):\n",
    "    odor_pos = [odor_position[i]] \n",
    "    eastwest = np.resize(np.array([eastwest-df.U[i]*dt]),(1,i)).flatten() # resize needed to avoid negative data\n",
    "    northsouth = np.resize(np.array([northsouth-df.V[i]*dt]),(1,i)).flatten()\n",
    "    wind_pos = np.vstack([eastwest[-6000:],northsouth[-6000:]]).T   \n",
    "    compute_distance(wind_pos,odor_pos)"
   ]
  },
  {
   "cell_type": "code",
   "execution_count": 38,
   "metadata": {},
   "outputs": [],
   "source": [
    "#for the section when only the length of the elements is equal to the window value\n",
    "for i in range((len(eastwest))-1, -1, -1):\n",
    "    \n",
    "    odor_pos = [odor_position[i]]  \n",
    "    if(i == 0):\n",
    "        radius = np.zeros(1)\n",
    "        wind_pos = np.array([[0,0]])\n",
    "    else:\n",
    "        eastwest = np.resize(np.array([eastwest-df.U[i]*dt]),(1,i)).flatten() # resize needed to avoid negative data\n",
    "        northsouth = np.resize(np.array([northsouth-df.V[i]*dt]),(1,i)).flatten()\n",
    "        wind_pos = np.vstack([eastwest,northsouth]).T   \n",
    "        \n",
    "    compute_distance(wind_pos,odor_pos)"
   ]
  },
  {
   "cell_type": "code",
   "execution_count": 41,
   "metadata": {},
   "outputs": [
    {
     "data": {
      "text/plain": [
       "[<matplotlib.lines.Line2D at 0x7ff7886a9970>]"
      ]
     },
     "execution_count": 41,
     "metadata": {},
     "output_type": "execute_result"
    },
    {
     "data": {
      "image/png": "[encoded data removed]",
      "text/plain": [
       "<Figure size 432x288 with 1 Axes>"
      ]
     },
     "metadata": {
      "needs_background": "light"
     },
     "output_type": "display_data"
    }
   ],
   "source": [
    "plt.plot(np.array(np.flip(distance_along_streakline)))\n",
    "plt.plot(distance_from_source)"
   ]
  },
  {
   "cell_type": "code",
   "execution_count": 43,
   "metadata": {},
   "outputs": [
    {
     "data": {
      "text/plain": [
       "[<matplotlib.lines.Line2D at 0x7ff7888c1790>]"
      ]
     },
     "execution_count": 43,
     "metadata": {},
     "output_type": "execute_result"
    },
    {
     "data": {
      "image/png": "[encoded data removed]",
      "text/plain": [
       "<Figure size 432x288 with 1 Axes>"
      ]
     },
     "metadata": {
      "needs_background": "light"
     },
     "output_type": "display_data"
    }
   ],
   "source": [
    "plt.plot(nearest_from_streakline)"
   ]
  },
  {
   "cell_type": "code",
   "execution_count": 44,
   "metadata": {},
   "outputs": [],
   "source": [
    "## flip containers because above iteration is done in reverse order\n",
    "df['mock'] = np.zeros(len(df))\n",
    "distance_along_streakline = np.array(np.flip(distance_along_streakline)) \n",
    "nearest_from_streakline = np.array(np.flip(nearest_from_streakline)) \n",
    "# odor_presence = odor_presence[::-1]\n",
    "\n",
    "## storing in the dataframe \n",
    "# df['odor_expected'] = odor_presence\n",
    "df['distance_along_streakline'] =  distance_along_streakline\n",
    "df['nearest_from_streakline'] = nearest_from_streakline\n",
    "df['distance_from_source'] = distance_from_source"
   ]
  },
  {
   "cell_type": "code",
   "execution_count": 3,
   "metadata": {},
   "outputs": [],
   "source": [
    "df1 = pd.read_hdf('~/Documents/Myfiles/DataAnalysis/data/Sprints/Run01/Run01_expected.h5') \n",
    "df2 = pd.read_hdf('~/Documents/Myfiles/DataAnalysis/data/Sprints/Run02/Run02_expected.h5') "
   ]
  },
  {
   "cell_type": "code",
   "execution_count": 5,
   "metadata": {},
   "outputs": [],
   "source": [
    "df = pd.concat([df1,df2[6000:]])\n",
    "df.reset_index(inplace=True, drop=True)"
   ]
  },
  {
   "cell_type": "code",
   "execution_count": 45,
   "metadata": {},
   "outputs": [],
   "source": [
    "df.to_hdf(dir+'Run05/Run05_expected.h5', key='df', mode='w')"
   ]
  },
  {
   "cell_type": "code",
   "execution_count": null,
   "metadata": {},
   "outputs": [],
   "source": []
  }
 ],
 "metadata": {
  "kernelspec": {
   "display_name": "Python 3",
   "language": "python",
   "name": "python3"
  },
  "language_info": {
   "codemirror_mode": {
    "name": "ipython",
    "version": 3
   },
   "file_extension": ".py",
   "mimetype": "text/x-python",
   "name": "python",
   "nbconvert_exporter": "python",
   "pygments_lexer": "ipython3",
   "version": "3.8.7"
  }
 },
 "nbformat": 4,
 "nbformat_minor": 4
}
