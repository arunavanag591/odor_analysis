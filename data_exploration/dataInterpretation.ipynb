{
 "cells": [
  {
   "cell_type": "markdown",
   "metadata": {},
   "source": [
    "## Particle within radius or overlap calculations"
   ]
  },
  {
   "cell_type": "code",
   "execution_count": 3,
   "metadata": {},
   "outputs": [],
   "source": [
    "#dataframes\n",
    "import pandas as pd\n",
    "import h5py\n",
    "\n",
    "#speedup\n",
    "import multiprocessing as mp\n",
    "\n",
    "#suppress warnings\n",
    "import warnings\n",
    "warnings.simplefilter(action='ignore', category=FutureWarning)\n",
    "pd.TimeSeries = pd.Series \n",
    "\n",
    "#math\n",
    "import numpy as np\n",
    "import math as m\n",
    "from scipy.spatial.distance import cdist\n",
    "\n",
    "\n",
    "#plots\n",
    "import pylab as plt\n",
    "import matplotlib.pyplot as plt\n",
    "from mpl_toolkits.axes_grid1 import make_axes_locatable # for colorbar\n",
    "import seaborn as sns\n",
    "\n",
    "#misc\n",
    "import time\n",
    "np.set_printoptions(suppress=True)"
   ]
  },
  {
   "cell_type": "code",
   "execution_count": 4,
   "metadata": {},
   "outputs": [],
   "source": [
    "# set_number = 5\n",
    "dir_save = '../../data/Sprints/AN/'\n",
    "dir ='~/Documents/MyFiles/DataAnalysis/data/Sprints/LowRes/'\n",
    "df = pd.read_hdf(dir+'NotWindy_ExpectedPP.h5')\n",
    "# df = pd.read_hdf(dir+'NotWindy_Expected.h5')"
   ]
  },
  {
   "cell_type": "code",
   "execution_count": 3,
   "metadata": {},
   "outputs": [],
   "source": [
    "# df = pd.concat([df1,df2[6001:],df3[6001:]], ignore_index=True)\n",
    "# df = pd.read_hdf(dir+'Run05/Run05_InterpolatedX.hdf')\n",
    "\n",
    "# df.reset_index(inplace=True, drop=True) "
   ]
  },
  {
   "cell_type": "code",
   "execution_count": 4,
   "metadata": {},
   "outputs": [],
   "source": [
    "df = df.drop(columns=['mock'])"
   ]
  },
  {
   "cell_type": "code",
   "execution_count": 5,
   "metadata": {},
   "outputs": [
    {
     "data": {
      "text/plain": [
       "Index(['master_time', 'xsrc', 'ysrc', 'odor', 'trisonica_u', 'trisonica_v',\n",
       "       'trisonica_pressure', 'trisonica_temperature', 'gps_linear_x',\n",
       "       'gps_linear_y', 'gps_linear_z', 'imu_angular_x', 'imu_angular_y',\n",
       "       'imu_angular_z', 'imu_linear_acc_x', 'imu_linear_acc_y',\n",
       "       'imu_linear_acc_z', 'U', 'V', 'D', 'S2', 'mock',\n",
       "       'distance_along_streakline', 'nearest_from_streakline',\n",
       "       'distance_from_source', 'relative_parallel_comp',\n",
       "       'relative_perpendicular_comp', 'time'],\n",
       "      dtype='object')"
      ]
     },
     "execution_count": 5,
     "metadata": {},
     "output_type": "execute_result"
    }
   ],
   "source": [
    "df.keys()"
   ]
  },
  {
   "cell_type": "code",
   "execution_count": 4,
   "metadata": {},
   "outputs": [],
   "source": [
    "df = df.drop(columns=['mock','sync_time', 'distance_along_streakline', 'nearest_from_streakline', 'distance_from_source', 'relative_motion'])"
   ]
  },
  {
   "cell_type": "code",
   "execution_count": 8,
   "metadata": {},
   "outputs": [
    {
     "data": {
      "text/plain": [
       "[<matplotlib.lines.Line2D at 0x7f88236086a0>]"
      ]
     },
     "execution_count": 8,
     "metadata": {},
     "output_type": "execute_result"
    },
    {
     "data": {
      "image/png": "[encoded data removed]",
      "text/plain": [
       "<Figure size 432x288 with 1 Axes>"
      ]
     },
     "metadata": {
      "needs_background": "light"
     },
     "output_type": "display_data"
    }
   ],
   "source": [
    "plt.plot(df.master_time, df.odor)"
   ]
  },
  {
   "cell_type": "markdown",
   "metadata": {},
   "source": [
    "### Calculate Expected encounters"
   ]
  },
  {
   "cell_type": "code",
   "execution_count": 19,
   "metadata": {},
   "outputs": [],
   "source": [
    "sync_time = df.time\n",
    "dt=df.master_time[1]-df.master_time[0]\n",
    "# df.insert(1,'sync_time',sync_time)\n",
    "\n",
    "# storing the odor location in a numpy array to avoid reading pandas\n",
    "source = np.array([[0,0]])\n",
    "odor_position = np.array([[df.xsrc[i],df.ysrc[i]] for i in range (len(df.xsrc))]) \n",
    "\n",
    "distance_from_source = np.array([cdist(odor_position,source)]).flatten()"
   ]
  },
  {
   "cell_type": "markdown",
   "metadata": {},
   "source": [
    "### Is Encountered odor particle within the Calculated particle radius?\n",
    "\n",
    "The loop below computes locations of the eastwest and northsouth particles and compares with a radius (distance) to interpret if the encountered particle were close to calculated particle. The execution for the loop is 23.56 seconds for 59770 rows of data\n",
    "\n",
    "For stationery wind sensor: The loop below takes in ith eastwest and subtracts the ith U and V elements to get the i-1 state, as the eastwest is summation of all the wind positions. \n",
    "\n",
    "[3 + 2 + 1] = [6]\n",
    "\n",
    "hence ith _state = 6\n",
    "\n",
    "_state = _state-3\n",
    "\n",
    "_state = _state-2\n",
    "\n",
    "\n"
   ]
  },
  {
   "cell_type": "code",
   "execution_count": 9,
   "metadata": {},
   "outputs": [],
   "source": [
    "perp = []\n",
    "paral = []\n",
    "def relative_components(streakline_slope,sensor_dir,wind_dir,wind_speed,sensor_speed):\n",
    "    ## perpendicular component\n",
    "    wind_perpendicular_comp = np.sin(wrapped_angular_diff(streakline_slope,wind_dir))*wind_speed\n",
    "    sensor_perpendicular_comp = np.sin(wrapped_angular_diff(streakline_slope,sensor_dir))*sensor_speed\n",
    "    perp.append(wind_perpendicular_comp-sensor_perpendicular_comp)\n",
    "    ## parallel component\n",
    "    wind_parallel_comp = np.cos(wrapped_angular_diff(streakline_slope,wind_dir))*wind_speed\n",
    "    sensor_parallel_comp = np.cos(wrapped_angular_diff(streakline_slope,sensor_dir))*sensor_speed\n",
    "    paral.append(wind_parallel_comp-sensor_parallel_comp)\n",
    "    "
   ]
  },
  {
   "cell_type": "code",
   "execution_count": 10,
   "metadata": {},
   "outputs": [],
   "source": [
    "def wrapped_angular_diff(a, b):\n",
    "    return np.arctan2(np.sin(a-b), np.cos(a-b))\n",
    "\n",
    "def tangent_slope_direction(slope, x): \n",
    "    if (x >= 0):\n",
    "        return slope\n",
    "    else:\n",
    "        if (slope > 0):\n",
    "            return(3.14159265359 - slope)            \n",
    "        else:\n",
    "            return(-3.14159265359-(slope))\n",
    "        \n",
    "def relative_magnitude_calculation(i):\n",
    "    wind_speed_magnitude = np.linalg.norm([df.U[i],df.V[i]])\n",
    "    sensor_speed_magnitude = np.linalg.norm([df.gps_linear_x[i],df.gps_linear_y[i]])\n",
    "#     relative_speed.append(wind_speed_magnitude - sensor_speed_magnitude)\n",
    "    return wind_speed_magnitude, sensor_speed_magnitude"
   ]
  },
  {
   "cell_type": "code",
   "execution_count": 11,
   "metadata": {},
   "outputs": [],
   "source": [
    "def relative_direction_calculation(streakline, pos, i):\n",
    "    ## get the tangent from the nearest point\n",
    "    if(pos == 0):\n",
    "        x = streakline[pos:(pos+2),0]\n",
    "        y = streakline[pos:(pos+2),1]\n",
    "    else:\n",
    "        x = streakline[(pos-1):(pos+2),0]\n",
    "        y = streakline[(pos-1):(pos+2),1]\n",
    "    slope_streakline,intercept_streakline=np.polyfit(x,y,1)\n",
    "    \n",
    "    streakline_slope=tangent_slope_direction(np.arctan(slope_streakline),streakline[pos,0] )\n",
    "    ## find direction - source location\n",
    "    sensor_dir = np.arctan2(df.gps_linear_y[i],df.gps_linear_x[i])\n",
    "    wind_dir = np.arctan2(df.V[i],df.U[i])\n",
    "    wind_speed, sensor_speed = relative_magnitude_calculation(i)\n",
    "    \n",
    "    relative_components(streakline_slope,sensor_dir,wind_dir,wind_speed,sensor_speed)\n",
    "    \n",
    "#     relative_direction.append(wrapped_angular_diff(wind_slope_direction,sensor_dir))\n",
    "    "
   ]
  },
  {
   "cell_type": "code",
   "execution_count": 12,
   "metadata": {},
   "outputs": [],
   "source": [
    "def compute_distance(streakline, odor_position,i):\n",
    "    source = np.array([[0,0]])\n",
    "    streakline = np.concatenate((streakline,source))\n",
    "    distance = cdist(odor_position,streakline).flatten()   # cdist compares distance for all the points in both arrays\n",
    "#     nearest_from_streakline.append(np.min(distance))\n",
    "    pos = np.where(distance == np.amin(distance))\n",
    "    relative_direction_calculation(streakline, pos[0][0],i)\n",
    "    \n",
    "#     if (len(pos[0]) > 1):\n",
    "#         length=(np.sqrt(np.sum(np.diff(np.array(streakline[int(pos[0][0]):]), axis=0)**2, axis=1)))\n",
    "#     else:\n",
    "#         length=(np.sqrt(np.sum(np.diff(np.array(streakline[int(pos[0]):]), axis=0)**2, axis=1)))\n",
    "        \n",
    "#     distance_along_streakline.append(np.sum(length))"
   ]
  },
  {
   "cell_type": "code",
   "execution_count": 13,
   "metadata": {},
   "outputs": [],
   "source": [
    "def find_streakline():\n",
    "    eastwest = [np.sum(df.U[j:])*dt for j in range(0,len(df))]\n",
    "    northsouth = [np.sum(df.V[j:])*dt for j in range(0,len(df))]\n",
    "    return eastwest,northsouth"
   ]
  },
  {
   "cell_type": "code",
   "execution_count": 15,
   "metadata": {},
   "outputs": [],
   "source": [
    "# dfx = pd.DataFrame()\n",
    "# dfx['eastwest']=eastwest\n",
    "# dfx['northsouth']=northsouth\n",
    "# dfx.to_hdf(dir+'/Run04Run05_Streakline.h5', key='df', mode='w')"
   ]
  },
  {
   "cell_type": "code",
   "execution_count": 20,
   "metadata": {},
   "outputs": [],
   "source": [
    "eastwest,northsouth = find_streakline()\n",
    "# dfx=pd.read_hdf(dir+'Run04Run05_Streakline.h5')\n",
    "# eastwest=dfx.eastwest\n",
    "# northsouth=dfx.northsouth"
   ]
  },
  {
   "cell_type": "code",
   "execution_count": 21,
   "metadata": {},
   "outputs": [
    {
     "data": {
      "text/plain": [
       "29708"
      ]
     },
     "execution_count": 21,
     "metadata": {},
     "output_type": "execute_result"
    }
   ],
   "source": [
    "len(eastwest)"
   ]
  },
  {
   "cell_type": "code",
   "execution_count": 22,
   "metadata": {
    "scrolled": true
   },
   "outputs": [],
   "source": [
    "# nearest_from_streakline = []\n",
    "# distance_along_streakline = []\n",
    "\n",
    "for i in range(len(eastwest)-1, 6000, -1):\n",
    "    odor_pos = [odor_position[i]] \n",
    "    eastwest = np.resize(np.array([eastwest-df.U[i]*dt]),(1,i)).flatten() # resize needed to avoid negative data\n",
    "    northsouth = np.resize(np.array([northsouth-df.V[i]*dt]),(1,i)).flatten()\n",
    "    wind_pos = np.vstack([eastwest[-6000:],northsouth[-6000:]]).T   \n",
    "    compute_distance(wind_pos,odor_pos,i)"
   ]
  },
  {
   "cell_type": "code",
   "execution_count": 23,
   "metadata": {},
   "outputs": [],
   "source": [
    "# for i in range(len(eastwest)-1, len(eastwest)-2000, -1):\n",
    "#     odor_pos = [odor_position[i]] \n",
    "#     eastwest = np.resize(np.array([eastwest-df.U[i]*dt]),(1,i)).flatten() # resize needed to avoid negative data\n",
    "#     northsouth = np.resize(np.array([northsouth-df.V[i]*dt]),(1,i)).flatten()\n",
    "#     wind_pos = np.vstack([eastwest[-6000:],northsouth[-6000:]]).T   \n",
    "#     compute_distance(wind_pos,odor_pos,i)"
   ]
  },
  {
   "cell_type": "code",
   "execution_count": 24,
   "metadata": {},
   "outputs": [],
   "source": [
    "#for the section when only the length of the elements is equal to the window value\n",
    "for i in range((len(eastwest))-1, -1, -1):\n",
    "    \n",
    "    odor_pos = [odor_position[i]]  \n",
    "    if(i == 0):\n",
    "        radius = np.zeros(1)\n",
    "        wind_pos = np.array([[0,0]])\n",
    "        distance = cdist(odor_pos,wind_pos).flatten()\n",
    "#         slope_sensor = np.arctan2(df.gps_linear_y[i],df.gps_linear_x[i])\n",
    "        #manual appending for source position \n",
    "        #to avoid zeroth error\n",
    "#         relative_direction.append(0)\n",
    "#         relative_speed.append(0)\n",
    "        paral.append(0)\n",
    "        perp.append(0)\n",
    "#         distance_along_streakline.append(0)\n",
    "#         nearest_from_streakline.append(np.min(distance))\n",
    "        \n",
    "    else:\n",
    "        eastwest = np.resize(np.array([eastwest-df.U[i]*dt]),(1,i)).flatten() # resize needed to avoid negative data\n",
    "        northsouth = np.resize(np.array([northsouth-df.V[i]*dt]),(1,i)).flatten()\n",
    "        wind_pos = np.vstack([eastwest,northsouth]).T   \n",
    "        compute_distance(wind_pos,odor_pos,i)\n",
    "\n"
   ]
  },
  {
   "cell_type": "code",
   "execution_count": 25,
   "metadata": {},
   "outputs": [],
   "source": [
    "## flip containers because above iteration is done in reverse order\n",
    "# df['mock'] = np.zeros(len(df))\n",
    "# distance_along_streakline = np.array(np.flip(distance_along_streakline)) \n",
    "# nearest_from_streakline = np.array(np.flip(nearest_from_streakline)) \n",
    "\n",
    "# odor_presence = odor_presence[::-1]\n",
    "\n",
    "## storing in the dataframe \n",
    "# df['odor_expected'] = odor_presence\n",
    "# df['distance_along_streakline'] =  distance_along_streakline\n",
    "# df['nearest_from_streakline'] = nearest_from_streakline\n",
    "# df['distance_from_source'] = distance_from_source\n",
    "df['relative_parallel_comp']=paral[::-1]\n",
    "df['relative_perpendicular_comp']=perp[::-1]"
   ]
  },
  {
   "cell_type": "code",
   "execution_count": 26,
   "metadata": {},
   "outputs": [],
   "source": [
    "dir ='~/Documents/MyFiles/DataAnalysis/data/Sprints/LowRes/'\n",
    "df.to_hdf(dir+'/Windy_ExpectedPP.h5', key='df', mode='w')"
   ]
  },
  {
   "cell_type": "markdown",
   "metadata": {},
   "source": [
    "#### Extract Continuous Streakline"
   ]
  },
  {
   "cell_type": "code",
   "execution_count": 18,
   "metadata": {},
   "outputs": [],
   "source": [
    "dir ='~/Documents/MyFiles/DataAnalysis/data/Sprints/HighRes/'\n",
    "df = pd.read_hdf(dir+'Run01Run02Run03_Filtered20hz.h5')"
   ]
  },
  {
   "cell_type": "code",
   "execution_count": 19,
   "metadata": {},
   "outputs": [
    {
     "data": {
      "text/plain": [
       "10.000682830810547"
      ]
     },
     "execution_count": 19,
     "metadata": {},
     "output_type": "execute_result"
    }
   ],
   "source": [
    "df.time[2002]"
   ]
  },
  {
   "cell_type": "code",
   "execution_count": 20,
   "metadata": {},
   "outputs": [],
   "source": [
    "time_res=2002*5 ## 50 seconds for highres \n",
    "range_points = []\n",
    "start_angle=df.D[0]\n",
    "range_points.append(0)\n",
    "i = 0        \n",
    "while i < (len(df)):\n",
    "    diff = np.abs(df.D[i] - start_angle)\n",
    "    if diff >= 60:\n",
    "        range_points.append(i)\n",
    "        start_angle=df.D[i+time_res]\n",
    "        i+=time_res\n",
    "    else:\n",
    "        i+=1\n",
    "        continue"
   ]
  },
  {
   "cell_type": "code",
   "execution_count": 21,
   "metadata": {},
   "outputs": [],
   "source": [
    "cs=pd.DataFrame()\n",
    "j = 0\n",
    "while j < (len(range_points)):\n",
    "#     print(i)\n",
    "    if(j < len(range_points)-1):\n",
    "        cs = cs.append(df[range_points[j]:range_points[j+1]])        \n",
    "    else:\n",
    "        cs = cs.append(df[range_points[j]:])\n",
    "    j+=2\n",
    "cs.reset_index(inplace=True, drop=True) \n"
   ]
  },
  {
   "cell_type": "code",
   "execution_count": 22,
   "metadata": {},
   "outputs": [],
   "source": [
    "dt=df.time[1]-df.time[0]\n",
    "time = []\n",
    "time.append(0)\n",
    "for i in range(1,len(cs)):\n",
    "    time.append(time[i-1]+dt)\n",
    "\n",
    "cs = cs.drop(columns=['time'])\n",
    "cs['time']=time"
   ]
  },
  {
   "cell_type": "code",
   "execution_count": 23,
   "metadata": {},
   "outputs": [
    {
     "data": {
      "text/plain": [
       "Index(['master_time', 'xsrc', 'ysrc', 'odor', 'trisonica_u', 'trisonica_v',\n",
       "       'trisonica_pressure', 'trisonica_temperature', 'gps_linear_x',\n",
       "       'gps_linear_y', 'gps_linear_z', 'imu_angular_x', 'imu_angular_y',\n",
       "       'imu_angular_z', 'imu_linear_acc_x', 'imu_linear_acc_y',\n",
       "       'imu_linear_acc_z', 'U', 'V', 'D', 'S2', 'distance_along_streakline',\n",
       "       'nearest_from_streakline', 'distance_from_source', 'filtered_odor',\n",
       "       'relative_parallel_comp', 'relative_perpendicular_comp', 'sync_time',\n",
       "       'time'],\n",
       "      dtype='object')"
      ]
     },
     "execution_count": 23,
     "metadata": {},
     "output_type": "execute_result"
    }
   ],
   "source": [
    "cs.keys()"
   ]
  },
  {
   "cell_type": "code",
   "execution_count": 24,
   "metadata": {},
   "outputs": [],
   "source": [
    "cs.to_hdf(dir+'ContinuousNotWindy_Expected20Hz.h5', key='cs', mode='w')"
   ]
  },
  {
   "cell_type": "code",
   "execution_count": null,
   "metadata": {},
   "outputs": [],
   "source": []
  }
 ],
 "metadata": {
  "kernelspec": {
   "display_name": "Python 3",
   "language": "python",
   "name": "python3"
  },
  "language_info": {
   "codemirror_mode": {
    "name": "ipython",
    "version": 3
   },
   "file_extension": ".py",
   "mimetype": "text/x-python",
   "name": "python",
   "nbconvert_exporter": "python",
   "pygments_lexer": "ipython3",
   "version": "3.8.7"
  }
 },
 "nbformat": 4,
 "nbformat_minor": 4
}
