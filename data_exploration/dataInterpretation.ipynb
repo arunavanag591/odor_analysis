{
 "cells": [
  {
   "cell_type": "markdown",
   "metadata": {},
   "source": [
    "## Particle within radius or overlap calculations"
   ]
  },
  {
   "cell_type": "code",
   "execution_count": 3,
   "metadata": {},
   "outputs": [],
   "source": [
    "#user-defined\n",
    "import ipynb.fs.full.helper as hp\n",
    "\n",
    "#dataframes\n",
    "import pandas as pd\n",
    "import h5py\n",
    "\n",
    "#speedup\n",
    "import multiprocessing as mp\n",
    "\n",
    "#suppress warnings\n",
    "import warnings\n",
    "warnings.simplefilter(action='ignore', category=FutureWarning)\n",
    "pd.TimeSeries = pd.Series \n",
    "\n",
    "#math\n",
    "import numpy as np\n",
    "import math as m\n",
    "from scipy.spatial.distance import cdist\n",
    "\n",
    "\n",
    "#plots\n",
    "import pylab as plt\n",
    "import matplotlib.pyplot as plt\n",
    "from mpl_toolkits.axes_grid1 import make_axes_locatable # for colorbar\n",
    "import seaborn as sns\n",
    "\n",
    "#misc\n",
    "import time\n",
    "np.set_printoptions(suppress=True)"
   ]
  },
  {
   "cell_type": "code",
   "execution_count": 71,
   "metadata": {},
   "outputs": [],
   "source": [
    "# set_number = 5\n",
    "dir_save = '../../data/Sprints/AN/'\n",
    "dir ='~/Documents/MyFiles/DataAnalysis/data/Sprints/Run03/Set05/'\n",
    "run = 'wind05Run03_InterpolatedX.hdf'\n",
    "\n",
    "df = pd.read_hdf(dir+run)\n",
    "# x=pd.read_hdf(dir+'Coll03_WindPath.h5')"
   ]
  },
  {
   "cell_type": "code",
   "execution_count": 41,
   "metadata": {},
   "outputs": [],
   "source": [
    "# df =pd.DataFrame()\n",
    "# df=dat[149942:]\n",
    "# df.reset_index(inplace=True, drop=True)"
   ]
  },
  {
   "cell_type": "markdown",
   "metadata": {},
   "source": [
    "### Calculate Expected encounters"
   ]
  },
  {
   "cell_type": "code",
   "execution_count": 72,
   "metadata": {},
   "outputs": [],
   "source": [
    "sync_time = df.master_time-df.master_time[0]\n",
    "dt=df.master_time[1]-df.master_time[0]\n",
    "df.insert(1,'sync_time',sync_time)\n",
    "# storing the odor location in a numpy array to avoid reading pandas\n",
    "odor_position = np.array([[df.xsrc[i],df.ysrc[i]] for i in range (len(df.xsrc))]) \n",
    "# source = np.array([[0,0]])\n",
    "# distance_from_source = np.array([cdist(odor_position,source)]).flatten()"
   ]
  },
  {
   "cell_type": "markdown",
   "metadata": {},
   "source": [
    "### Is Encountered odor particle within the Calculated particle radius?\n",
    "\n",
    "The loop below computes locations of the eastwest and northsouth particles and compares with a radius (distance) to interpret if the encountered particle were close to calculated particle. The execution for the loop is 23.56 seconds for 59770 rows of data\n",
    "\n",
    "For stationery wind sensor: The loop below takes in ith eastwest and subtracts the ith U and V elements to get the i-1 state, as the eastwest is summation of all the wind positions. \n",
    "\n",
    "[3 + 2 + 1] = [6]\n",
    "\n",
    "hence ith _state = 6\n",
    "\n",
    "_state = _state-3\n",
    "\n",
    "_state = _state-2\n",
    "\n",
    "\n"
   ]
  },
  {
   "cell_type": "code",
   "execution_count": 73,
   "metadata": {},
   "outputs": [],
   "source": [
    "#summation till Nth particle\n",
    "eastwest = [np.sum(df.U[j:])*dt for j in range(0,len(df))]\n",
    "northsouth = [np.sum(df.V[j:])*dt for j in range(0,len(df))]\n",
    "\n",
    "# container=pd.DataFrame()\n",
    "# container['eastwest']=eastwest\n",
    "# container['northsouth']=northsouth\n",
    "\n",
    "# container.to_hdf(dir+'Coll03_WindPath.h5', key='df', mode='w')"
   ]
  },
  {
   "cell_type": "code",
   "execution_count": 75,
   "metadata": {},
   "outputs": [
    {
     "data": {
      "text/plain": [
       "[<matplotlib.lines.Line2D at 0x7fc44cea3100>]"
      ]
     },
     "execution_count": 75,
     "metadata": {},
     "output_type": "execute_result"
    },
    {
     "data": {
      "image/png": "[encoded data removed]",
      "text/plain": [
       "<Figure size 432x288 with 1 Axes>"
      ]
     },
     "metadata": {
      "needs_background": "light"
     },
     "output_type": "display_data"
    }
   ],
   "source": [
    "plt.plot(eastwest[-4000:], northsouth[-4000:])\n",
    "plt.plot(df.xsrc, df.ysrc)"
   ]
  },
  {
   "cell_type": "code",
   "execution_count": 76,
   "metadata": {},
   "outputs": [],
   "source": [
    "#initialize list containers\n",
    "\n",
    "odor_presence=[]\n",
    "points_along_streakline = []\n",
    "nearest_particle= []\n",
    "\n",
    "window = 4000\n",
    "\n",
    "# eastwest = x.eastwest\n",
    "# northsouth = x.northsouth"
   ]
  },
  {
   "cell_type": "code",
   "execution_count": 48,
   "metadata": {
    "scrolled": true
   },
   "outputs": [
    {
     "data": {
      "text/plain": [
       "89943"
      ]
     },
     "execution_count": 48,
     "metadata": {},
     "output_type": "execute_result"
    }
   ],
   "source": [
    "len(eastwest)-60000"
   ]
  },
  {
   "cell_type": "code",
   "execution_count": 77,
   "metadata": {},
   "outputs": [],
   "source": [
    "#for(upper, lower, step)\n",
    "for i in range((len(eastwest))-1,window, -1):\n",
    "    \n",
    "    odor_pos = [odor_position[i]]  \n",
    "    eastwest = np.resize(np.array([eastwest-df.U[i]*dt]),(1,i)).flatten() # resize needed to avoid negative data\n",
    "    northsouth = np.resize(np.array([northsouth-df.V[i]*dt]),(1,i)).flatten()\n",
    "    wind_pos = np.vstack([eastwest[-window:],northsouth[-window:]]).T   \n",
    "    radius = np.arange(start = window, stop = 0, step = -1)**0.5*0.01\n",
    "    distance = cdist(odor_pos,wind_pos).flatten()   # cdist compares distance for all the points in both arrays\n",
    "    nearest_particle.append(np.min(distance))\n",
    "    pos = np.where(distance == np.amin(distance))\n",
    "\n",
    "    points_along_streakline.append(wind_pos[int(pos[0]):])\n",
    "    \n",
    "    x = np.any(distance<=radius)             # generates a boolean values \n",
    "    if x==True:\n",
    "        odor_presence.append(1)\n",
    "    else:\n",
    "        odor_presence.append(0)"
   ]
  },
  {
   "cell_type": "code",
   "execution_count": 51,
   "metadata": {},
   "outputs": [],
   "source": [
    "for i in range((len(eastwest))-1,window, -1):\n",
    "    \n",
    "    odor_pos = [odor_position[i]]  \n",
    "    eastwest = np.resize(np.array([eastwest-df.U[i]*dt]),(1,i)).flatten() # resize needed to avoid negative data\n",
    "    northsouth = np.resize(np.array([northsouth-df.V[i]*dt]),(1,i)).flatten()\n",
    "    wind_pos = np.vstack([eastwest[-window:],northsouth[-window:]]).T   \n",
    "    radius = np.arange(start = window, stop = 0, step = -1)**0.5*0.01\n",
    "    distance = cdist(odor_pos,wind_pos).flatten()   # cdist compares distance for all the points in both arrays\n",
    "    nearest_particle.append(np.min(distance))\n",
    "    pos = np.where(distance == np.amin(distance))\n",
    "\n",
    "    points_along_streakline.append(wind_pos[int(pos[0]):])\n",
    "    \n",
    "    x = np.any(distance<=radius)             # generates a boolean values \n",
    "    if x==True:\n",
    "        odor_presence.append(1)\n",
    "    else:\n",
    "        odor_presence.append(0)"
   ]
  },
  {
   "cell_type": "code",
   "execution_count": 78,
   "metadata": {},
   "outputs": [],
   "source": [
    "for i in range((len(eastwest))-1, -1, -1):\n",
    "    \n",
    "    odor_pos = [odor_position[i]]  \n",
    "    if(i == 0):\n",
    "        radius = np.zeros(1)\n",
    "        wind_pos = np.array([[0,0]])\n",
    "    else:\n",
    "        eastwest = np.resize(np.array([eastwest-df.U[i]*dt]),(1,i)).flatten() # resize needed to avoid negative data\n",
    "        northsouth = np.resize(np.array([northsouth-df.V[i]*dt]),(1,i)).flatten()\n",
    "        wind_pos = np.vstack([eastwest,northsouth]).T   \n",
    "        radius = np.arange(start = i, stop = 0, step = -1)**0.5*0.01\n",
    "    \n",
    "    distance = cdist(odor_pos,wind_pos).flatten()   # cdist compares distance for all the points in both arrays\n",
    "    nearest_particle.append(np.min(distance))\n",
    "    pos = np.where(distance == np.amin(distance))\n",
    "    points_along_streakline.append(wind_pos[int(pos[0]):])\n",
    "        \n",
    "    x = np.any(distance<=radius)             # generates a boolean values \n",
    "    if x==True:\n",
    "        odor_presence.append(1)\n",
    "    else:\n",
    "        odor_presence.append(0)"
   ]
  },
  {
   "cell_type": "code",
   "execution_count": 82,
   "metadata": {},
   "outputs": [
    {
     "data": {
      "text/plain": [
       "59770"
      ]
     },
     "execution_count": 82,
     "metadata": {},
     "output_type": "execute_result"
    }
   ],
   "source": [
    "len(points_along_streakline)"
   ]
  },
  {
   "cell_type": "code",
   "execution_count": 80,
   "metadata": {},
   "outputs": [],
   "source": [
    "distance_along_streakline=[]\n",
    "# for i in range(0,50000):\n",
    "#     lengths = np.sqrt(np.sum(np.diff(np.array(points_along_streakline[i]), axis=0)**2, axis=1)) # Length between corners\n",
    "#     distance_along_streakline.append(np.sum(lengths))"
   ]
  },
  {
   "cell_type": "code",
   "execution_count": 55,
   "metadata": {},
   "outputs": [],
   "source": [
    "for i in range(50000,100000):\n",
    "    lengths = np.sqrt(np.sum(np.diff(np.array(points_along_streakline[i]), axis=0)**2, axis=1)) # Length between corners\n",
    "    distance_along_streakline.append(np.sum(lengths))"
   ]
  },
  {
   "cell_type": "code",
   "execution_count": 81,
   "metadata": {},
   "outputs": [],
   "source": [
    "for i in range(0,len(points_along_streakline)):\n",
    "    lengths = np.sqrt(np.sum(np.diff(np.array(points_along_streakline[i]), axis=0)**2, axis=1)) # Length between corners\n",
    "    distance_along_streakline.append(np.sum(lengths))"
   ]
  },
  {
   "cell_type": "code",
   "execution_count": 83,
   "metadata": {},
   "outputs": [
    {
     "data": {
      "text/plain": [
       "59770"
      ]
     },
     "execution_count": 83,
     "metadata": {},
     "output_type": "execute_result"
    }
   ],
   "source": [
    "len(distance_along_streakline) "
   ]
  },
  {
   "cell_type": "code",
   "execution_count": 84,
   "metadata": {},
   "outputs": [],
   "source": [
    "## flip containers because above iteration is done in reverse order\n",
    "df['mock'] = np.zeros(len(df))\n",
    "distance_along_streakline = np.array(np.flip(distance_along_streakline)) \n",
    "odor_presence = odor_presence[::-1]\n",
    "# max_radius = max_radius[::-1]\n",
    "\n",
    "## storing in the dataframe \n",
    "df['odor_expected'] = odor_presence\n",
    "df['distance_along_streakline'] =  distance_along_streakline\n",
    "df['nearest_particle'] = nearest_particle\n",
    "# df['distance_from_source'] = distance_from_source"
   ]
  },
  {
   "cell_type": "code",
   "execution_count": 85,
   "metadata": {},
   "outputs": [],
   "source": [
    "df.to_hdf(dir+'Run03Set05_expected_full.h5', key='df', mode='w')\n"
   ]
  },
  {
   "cell_type": "code",
   "execution_count": 61,
   "metadata": {},
   "outputs": [],
   "source": [
    "df1 = pd.read_hdf('~/Documents/Myfiles/DataAnalysis/data/Sprints/Run03/Collections/Coll02_01_expected.h5') \n",
    "df2 = pd.read_hdf('~/Documents/Myfiles/DataAnalysis/data/Sprints/Run03/Collections/Coll02_02_expected.h5') \n",
    "df = pd.concat([df1,df2])\n",
    "df.reset_index(inplace=True, drop=True)"
   ]
  },
  {
   "cell_type": "code",
   "execution_count": 63,
   "metadata": {},
   "outputs": [],
   "source": [
    "df.to_hdf(dir+'Coll02_expected.h5', key='df', mode='w')\n",
    "\n"
   ]
  },
  {
   "cell_type": "code",
   "execution_count": null,
   "metadata": {},
   "outputs": [],
   "source": []
  }
 ],
 "metadata": {
  "kernelspec": {
   "display_name": "Python 3",
   "language": "python",
   "name": "python3"
  },
  "language_info": {
   "codemirror_mode": {
    "name": "ipython",
    "version": 3
   },
   "file_extension": ".py",
   "mimetype": "text/x-python",
   "name": "python",
   "nbconvert_exporter": "python",
   "pygments_lexer": "ipython3",
   "version": "3.8.7"
  }
 },
 "nbformat": 4,
 "nbformat_minor": 4
}
