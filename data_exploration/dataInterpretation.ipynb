{
 "cells": [
  {
   "cell_type": "markdown",
   "metadata": {},
   "source": [
    "## Particle within radius or overlap calculations"
   ]
  },
  {
   "cell_type": "code",
   "execution_count": 1,
   "metadata": {},
   "outputs": [],
   "source": [
    "#user-defined\n",
    "import ipynb.fs.full.helper as hp\n",
    "\n",
    "#dataframes\n",
    "import pandas as pd\n",
    "import h5py\n",
    "\n",
    "#speedup\n",
    "import multiprocessing as mp\n",
    "\n",
    "#suppress warnings\n",
    "import warnings\n",
    "warnings.simplefilter(action='ignore', category=FutureWarning)\n",
    "pd.TimeSeries = pd.Series \n",
    "\n",
    "#math\n",
    "import numpy as np\n",
    "import math as m\n",
    "from scipy.spatial.distance import cdist\n",
    "\n",
    "\n",
    "#plots\n",
    "import pylab as plt\n",
    "import matplotlib.pyplot as plt\n",
    "from mpl_toolkits.axes_grid1 import make_axes_locatable # for colorbar\n",
    "import seaborn as sns\n",
    "\n",
    "#misc\n",
    "import time\n",
    "np.set_printoptions(suppress=True)"
   ]
  },
  {
   "cell_type": "code",
   "execution_count": 2,
   "metadata": {},
   "outputs": [],
   "source": [
    "# set_number = 5\n",
    "dir_save = '../../data/Sprints/AN/'\n",
    "dir ='~/Documents/MyFiles/DataAnalysis/data/Sprints/LowRes/'\n",
    "# dir ='~/Documents/MyFiles/DataAnalysis/data/Sprints/Run01/'\n",
    "df1 = pd.read_hdf(dir+'Run01_low.h5')\n",
    "df2 = pd.read_hdf(dir+'Run02_low.h5')\n",
    "df3 = pd.read_hdf(dir+'Run03_low.h5')\n",
    "df4 = pd.read_hdf(dir+'Run04_low.h5')\n",
    "df5 = pd.read_hdf(dir+'Run05_low.h5')\n",
    "# df2 = pd.read_hdf(dir+'Run02/Run02Okay.h5')"
   ]
  },
  {
   "cell_type": "code",
   "execution_count": 3,
   "metadata": {},
   "outputs": [],
   "source": [
    "df = pd.concat([df1,df2,df3,df4,df5], ignore_index=True)\n",
    "# df = pd.read_hdf(dir+'Run05/Run05_InterpolatedX.hdf')\n",
    "# df.drop(index=df1.index[:6000], axis=0, inplace=True)\n",
    "df.reset_index(inplace=True, drop=True) "
   ]
  },
  {
   "cell_type": "markdown",
   "metadata": {},
   "source": [
    "### Calculate Expected encounters"
   ]
  },
  {
   "cell_type": "code",
   "execution_count": 4,
   "metadata": {},
   "outputs": [],
   "source": [
    "sync_time = df.master_time-df.master_time[0]\n",
    "dt=df.master_time[1]-df.master_time[0]\n",
    "df.insert(1,'sync_time',sync_time)\n",
    "\n",
    "# storing the odor location in a numpy array to avoid reading pandas\n",
    "source = np.array([[0,0]])\n",
    "odor_position = np.array([[df.xsrc[i],df.ysrc[i]] for i in range (len(df.xsrc))]) \n",
    "\n",
    "distance_from_source = np.array([cdist(odor_position,source)]).flatten()"
   ]
  },
  {
   "cell_type": "markdown",
   "metadata": {},
   "source": [
    "### Is Encountered odor particle within the Calculated particle radius?\n",
    "\n",
    "The loop below computes locations of the eastwest and northsouth particles and compares with a radius (distance) to interpret if the encountered particle were close to calculated particle. The execution for the loop is 23.56 seconds for 59770 rows of data\n",
    "\n",
    "For stationery wind sensor: The loop below takes in ith eastwest and subtracts the ith U and V elements to get the i-1 state, as the eastwest is summation of all the wind positions. \n",
    "\n",
    "[3 + 2 + 1] = [6]\n",
    "\n",
    "hence ith _state = 6\n",
    "\n",
    "_state = _state-3\n",
    "\n",
    "_state = _state-2\n",
    "\n",
    "\n"
   ]
  },
  {
   "cell_type": "code",
   "execution_count": 5,
   "metadata": {},
   "outputs": [],
   "source": [
    "def wrapped_angular_diff(a, b):\n",
    "    return np.arctan2(np.sin(a-b), np.cos(a-b))\n",
    "\n",
    "def relative_motion_calculation(streakline, pos,i):\n",
    "    if(pos == 0):\n",
    "        x = streakline[pos:(pos+2),0]\n",
    "        y = streakline[pos:(pos+2),1]\n",
    "    else:\n",
    "        x = streakline[(pos-1):(pos+2),0]\n",
    "        y = streakline[(pos-1):(pos+2),1]\n",
    "\n",
    "    slope_streakline,intercept_streakline=np.polyfit(x,y,1)\n",
    "    slope_sensor = np.arctan2(df.gps_linear_y[i],df.gps_linear_x[i])\n",
    "    \n",
    "    relative_motion.append(wrapped_angular_diff(slope_streakline,slope_sensor))"
   ]
  },
  {
   "cell_type": "code",
   "execution_count": 6,
   "metadata": {},
   "outputs": [],
   "source": [
    "def compute_distance(streakline, odor_position,i):\n",
    "    source = np.array([[0,0]])\n",
    "    streakline = np.concatenate((streakline,source))\n",
    "    distance = cdist(odor_position,streakline).flatten()   # cdist compares distance for all the points in both arrays\n",
    "    nearest_from_streakline.append(np.min(distance))\n",
    "    pos = np.where(distance == np.amin(distance))\n",
    "    relative_motion_calculation(streakline, pos[0][0],i)\n",
    "    \n",
    "    if (len(pos[0]) > 1):\n",
    "        length=(np.sqrt(np.sum(np.diff(np.array(streakline[int(pos[0][0]):]), axis=0)**2, axis=1)))\n",
    "    else:\n",
    "        length=(np.sqrt(np.sum(np.diff(np.array(streakline[int(pos[0]):]), axis=0)**2, axis=1)))\n",
    "        \n",
    "    distance_along_streakline.append(np.sum(length))"
   ]
  },
  {
   "cell_type": "code",
   "execution_count": 7,
   "metadata": {},
   "outputs": [],
   "source": [
    "def find_streakline():\n",
    "    eastwest = [np.sum(df.U[j:])*dt for j in range(0,len(df))]\n",
    "    northsouth = [np.sum(df.V[j:])*dt for j in range(0,len(df))]\n",
    "    return eastwest,northsouth"
   ]
  },
  {
   "cell_type": "code",
   "execution_count": 8,
   "metadata": {},
   "outputs": [],
   "source": [
    "eastwest,northsouth =find_streakline()"
   ]
  },
  {
   "cell_type": "code",
   "execution_count": 13,
   "metadata": {},
   "outputs": [
    {
     "data": {
      "text/plain": [
       "71708"
      ]
     },
     "execution_count": 13,
     "metadata": {},
     "output_type": "execute_result"
    }
   ],
   "source": [
    "len(eastwest)-30000"
   ]
  },
  {
   "cell_type": "code",
   "execution_count": 21,
   "metadata": {
    "scrolled": true
   },
   "outputs": [],
   "source": [
    "nearest_from_streakline = []\n",
    "distance_along_streakline = []\n",
    "relative_motion=[]\n",
    "\n",
    "for i in range(len(eastwest)-1, 50000, -1):\n",
    "    odor_pos = [odor_position[i]] \n",
    "    eastwest = np.resize(np.array([eastwest-df.U[i]*dt]),(1,i)).flatten() # resize needed to avoid negative data\n",
    "    northsouth = np.resize(np.array([northsouth-df.V[i]*dt]),(1,i)).flatten()\n",
    "    wind_pos = np.vstack([eastwest[-6000:],northsouth[-6000:]]).T   \n",
    "    compute_distance(wind_pos,odor_pos,i)"
   ]
  },
  {
   "cell_type": "code",
   "execution_count": 22,
   "metadata": {},
   "outputs": [],
   "source": [
    "for i in range(len(eastwest)-1, 6000, -1):\n",
    "    odor_pos = [odor_position[i]] \n",
    "    eastwest = np.resize(np.array([eastwest-df.U[i]*dt]),(1,i)).flatten() # resize needed to avoid negative data\n",
    "    northsouth = np.resize(np.array([northsouth-df.V[i]*dt]),(1,i)).flatten()\n",
    "    wind_pos = np.vstack([eastwest[-6000:],northsouth[-6000:]]).T   \n",
    "    compute_distance(wind_pos,odor_pos,i)"
   ]
  },
  {
   "cell_type": "code",
   "execution_count": 23,
   "metadata": {},
   "outputs": [],
   "source": [
    "#for the section when only the length of the elements is equal to the window value\n",
    "for i in range((len(eastwest))-1, -1, -1):\n",
    "    \n",
    "    odor_pos = [odor_position[i]]  \n",
    "    if(i == 0):\n",
    "        radius = np.zeros(1)\n",
    "        wind_pos = np.array([[0,0]])\n",
    "        distance = cdist(odor_pos,wind_pos).flatten()\n",
    "        slope_sensor = np.arctan2(df.gps_linear_y[i],df.gps_linear_x[i])\n",
    "        #manual appending for source position \n",
    "        #to avoid zeroth error\n",
    "        relative_motion.append(wrapped_angular_diff(0,slope_sensor))\n",
    "        distance_along_streakline.append(0)\n",
    "        nearest_from_streakline.append(np.min(distance))\n",
    "        \n",
    "    else:\n",
    "        eastwest = np.resize(np.array([eastwest-df.U[i]*dt]),(1,i)).flatten() # resize needed to avoid negative data\n",
    "        northsouth = np.resize(np.array([northsouth-df.V[i]*dt]),(1,i)).flatten()\n",
    "        wind_pos = np.vstack([eastwest,northsouth]).T   \n",
    "        compute_distance(wind_pos,odor_pos,i)\n",
    "\n"
   ]
  },
  {
   "cell_type": "code",
   "execution_count": 24,
   "metadata": {},
   "outputs": [],
   "source": [
    "## flip containers because above iteration is done in reverse order\n",
    "df['mock'] = np.zeros(len(df))\n",
    "distance_along_streakline = np.array(np.flip(distance_along_streakline)) \n",
    "nearest_from_streakline = np.array(np.flip(nearest_from_streakline)) \n",
    "\n",
    "# odor_presence = odor_presence[::-1]\n",
    "\n",
    "## storing in the dataframe \n",
    "# df['odor_expected'] = odor_presence\n",
    "df['distance_along_streakline'] =  distance_along_streakline\n",
    "df['nearest_from_streakline'] = nearest_from_streakline\n",
    "df['distance_from_source'] = distance_from_source\n",
    "df['relative_motion']=relative_motion[::-1]"
   ]
  },
  {
   "cell_type": "code",
   "execution_count": 25,
   "metadata": {},
   "outputs": [],
   "source": [
    "df.to_hdf(dir+'Data_expected.h5', key='df', mode='w')"
   ]
  }
 ],
 "metadata": {
  "kernelspec": {
   "display_name": "Python 3",
   "language": "python",
   "name": "python3"
  },
  "language_info": {
   "codemirror_mode": {
    "name": "ipython",
    "version": 3
   },
   "file_extension": ".py",
   "mimetype": "text/x-python",
   "name": "python",
   "nbconvert_exporter": "python",
   "pygments_lexer": "ipython3",
   "version": "3.8.7"
  }
 },
 "nbformat": 4,
 "nbformat_minor": 4
}
