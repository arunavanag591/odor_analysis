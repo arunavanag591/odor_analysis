{
 "cells": [
  {
   "cell_type": "markdown",
   "metadata": {},
   "source": [
    "## Particle within radius or overlap calculations"
   ]
  },
  {
   "cell_type": "code",
   "execution_count": 1,
   "metadata": {},
   "outputs": [],
   "source": [
    "#user-defined\n",
    "import ipynb.fs.full.helper as hp\n",
    "\n",
    "#dataframes\n",
    "import pandas as pd\n",
    "import h5py\n",
    "\n",
    "#speedup\n",
    "import multiprocessing as mp\n",
    "\n",
    "#suppress warnings\n",
    "import warnings\n",
    "warnings.simplefilter(action='ignore', category=FutureWarning)\n",
    "pd.TimeSeries = pd.Series \n",
    "\n",
    "#math\n",
    "import numpy as np\n",
    "import math as m\n",
    "from scipy.spatial.distance import cdist\n",
    "\n",
    "\n",
    "#plots\n",
    "import pylab as plt\n",
    "import matplotlib.pyplot as plt\n",
    "from mpl_toolkits.axes_grid1 import make_axes_locatable # for colorbar\n",
    "import seaborn as sns\n",
    "\n",
    "#misc\n",
    "import time\n",
    "np.set_printoptions(suppress=True)"
   ]
  },
  {
   "cell_type": "code",
   "execution_count": 2,
   "metadata": {},
   "outputs": [],
   "source": [
    "# set_number = 5\n",
    "dir_save = '../../data/Sprints/AN/'\n",
    "dir ='~/Documents/MyFiles/DataAnalysis/data/Sprints/Run02/'\n",
    "run = 'Run02.h5'"
   ]
  },
  {
   "cell_type": "markdown",
   "metadata": {},
   "source": [
    "### Calculate Expected encounters"
   ]
  },
  {
   "cell_type": "code",
   "execution_count": 3,
   "metadata": {},
   "outputs": [],
   "source": [
    "df = pd.read_hdf(dir+run)"
   ]
  },
  {
   "cell_type": "code",
   "execution_count": 4,
   "metadata": {},
   "outputs": [],
   "source": [
    "sync_time = df.master_time-df.master_time[0]\n",
    "df.insert(1,'sync_time',sync_time)"
   ]
  },
  {
   "cell_type": "code",
   "execution_count": 5,
   "metadata": {},
   "outputs": [],
   "source": [
    "# storing the odor location in a numpy array to avoid reading pandas\n",
    "odor_position = np.array([[df.xsrc[i],df.ysrc[i]] for i in range (len(df.xsrc))]) \n",
    "source = np.array([[0,0]])\n",
    "# distance_from_source = np.array([cdist(odor_position,source)]).flatten()"
   ]
  },
  {
   "cell_type": "markdown",
   "metadata": {},
   "source": [
    "### Is Encountered odor particle within the Calculated particle radius?\n",
    "\n",
    "The loop below computes locations of the eastwest and northsouth particles and compares with a radius (distance) to interpret if the encountered particle were close to calculated particle. The execution for the loop is 23.56 seconds for 59770 rows of data\n",
    "\n",
    "For stationery wind sensor: The loop below takes in ith eastwest and subtracts the ith U and V elements to get the i-1 state, as the eastwest is summation of all the wind positions. \n",
    "\n",
    "[3 + 2 + 1] = [6]\n",
    "\n",
    "hence ith _state = 6\n",
    "\n",
    "_state = _state-3\n",
    "\n",
    "_state = _state-2\n",
    "\n",
    "\n"
   ]
  },
  {
   "cell_type": "code",
   "execution_count": 6,
   "metadata": {},
   "outputs": [
    {
     "data": {
      "text/plain": [
       "Index(['master_time', 'sync_time', 'xsrc', 'ysrc', 'odor', 'trisonica_u',\n",
       "       'trisonica_v', 'trisonica_pressure', 'trisonica_temperature',\n",
       "       'gps_linear_x', 'gps_linear_y', 'gps_linear_z', 'imu_angular_x',\n",
       "       'imu_angular_y', 'imu_angular_z', 'imu_linear_acc_x',\n",
       "       'imu_linear_acc_y', 'imu_linear_acc_z', 'U', 'V', 'D', 'S2'],\n",
       "      dtype='object')"
      ]
     },
     "execution_count": 6,
     "metadata": {},
     "output_type": "execute_result"
    }
   ],
   "source": [
    "df.keys()"
   ]
  },
  {
   "cell_type": "code",
   "execution_count": 7,
   "metadata": {},
   "outputs": [],
   "source": [
    "#summation till Nth particle\n",
    "dt=df.master_time[1]-df.master_time[0]\n",
    "eastwest = [np.sum(df.U[j:])*dt for j in range(0,len(df))]\n",
    "northsouth = [np.sum(df.V[j:])*dt for j in range(0,len(df))]"
   ]
  },
  {
   "cell_type": "code",
   "execution_count": 8,
   "metadata": {},
   "outputs": [],
   "source": [
    "container=pd.DataFrame()\n",
    "container['eastwest']=eastwest\n",
    "container['northsouth']=northsouth\n",
    "\n",
    "container.to_hdf(dir+'Run02_WindPath.h5', key='df', mode='w')"
   ]
  },
  {
   "cell_type": "code",
   "execution_count": 10,
   "metadata": {},
   "outputs": [],
   "source": [
    "odor_presence=[]\n",
    "min_distance = []\n",
    "max_radius = []"
   ]
  },
  {
   "cell_type": "code",
   "execution_count": 11,
   "metadata": {},
   "outputs": [
    {
     "data": {
      "text/plain": [
       "342530"
      ]
     },
     "execution_count": 11,
     "metadata": {},
     "output_type": "execute_result"
    }
   ],
   "source": [
    "len(eastwest)"
   ]
  },
  {
   "cell_type": "code",
   "execution_count": 12,
   "metadata": {},
   "outputs": [
    {
     "data": {
      "text/plain": [
       "282530"
      ]
     },
     "execution_count": 12,
     "metadata": {},
     "output_type": "execute_result"
    }
   ],
   "source": [
    "len(eastwest)-60000"
   ]
  },
  {
   "cell_type": "code",
   "execution_count": 13,
   "metadata": {},
   "outputs": [],
   "source": [
    "odor_presence=[]\n",
    "points_along_streakline = []\n",
    "nearest_particle= []\n",
    "#for(upper, lower, step)\n",
    "for i in range((len(eastwest))-1,282530 , -1):\n",
    "    \n",
    "    odor_pos = [odor_position[i]]  \n",
    "    eastwest = np.resize(np.array([eastwest-df.U[i]*dt]),(1,i)).flatten() # resize needed to avoid negative data\n",
    "    northsouth = np.resize(np.array([northsouth-df.V[i]*dt]),(1,i)).flatten()\n",
    "    wind_pos = np.vstack([eastwest[-6000:],northsouth[-6000:]]).T   \n",
    "    radius = np.arange(start = 6000, stop = 0, step = -1)**0.5*0.01\n",
    "    distance = cdist(odor_pos,wind_pos).flatten()   # cdist compares distance for all the points in both arrays\n",
    "    nearest_particle.append(np.min(distance))\n",
    "    pos = np.where(distance == np.amin(distance))\n",
    "\n",
    "    points_along_streakline.append(wind_pos[int(pos[0]):])\n",
    "    \n",
    "    x = np.any(distance<=radius)             # generates a boolean values \n",
    "    if x==True:\n",
    "        odor_presence.append(1)\n",
    "    else:\n",
    "        odor_presence.append(0)"
   ]
  },
  {
   "cell_type": "code",
   "execution_count": 17,
   "metadata": {},
   "outputs": [],
   "source": [
    "for i in range((len(eastwest))-1,6000, -1):\n",
    "    \n",
    "    odor_pos = [odor_position[i]]  \n",
    "    eastwest = np.resize(np.array([eastwest-df.U[i]*dt]),(1,i)).flatten() # resize needed to avoid negative data\n",
    "    northsouth = np.resize(np.array([northsouth-df.V[i]*dt]),(1,i)).flatten()\n",
    "    wind_pos = np.vstack([eastwest[-6000:],northsouth[-6000:]]).T   \n",
    "    radius = np.arange(start = 6000, stop = 0, step = -1)**0.5*0.01\n",
    "    distance = cdist(odor_pos,wind_pos).flatten()   # cdist compares distance for all the points in both arrays\n",
    "    nearest_particle.append(np.min(distance))\n",
    "    pos = np.where(distance == np.amin(distance))\n",
    "\n",
    "    points_along_streakline.append(wind_pos[int(pos[0]):])\n",
    "    \n",
    "    x = np.any(distance<=radius)             # generates a boolean values \n",
    "    if x==True:\n",
    "        odor_presence.append(1)\n",
    "    else:\n",
    "        odor_presence.append(0)"
   ]
  },
  {
   "cell_type": "code",
   "execution_count": 18,
   "metadata": {},
   "outputs": [],
   "source": [
    "for i in range((len(eastwest))-1, -1, -1):\n",
    "    \n",
    "    odor_pos = [odor_position[i]]  \n",
    "    if(i == 0):\n",
    "        radius = np.zeros(1)\n",
    "        wind_pos = np.array([[0,0]])\n",
    "    else:\n",
    "        eastwest = np.resize(np.array([eastwest-df.U[i]*dt]),(1,i)).flatten() # resize needed to avoid negative data\n",
    "        northsouth = np.resize(np.array([northsouth-df.V[i]*dt]),(1,i)).flatten()\n",
    "        wind_pos = np.vstack([eastwest,northsouth]).T   \n",
    "        radius = np.arange(start = i, stop = 0, step = -1)**0.5*0.01\n",
    "    \n",
    "    distance = cdist(odor_pos,wind_pos).flatten()   # cdist compares distance for all the points in both arrays\n",
    "    nearest_particle.append(np.min(distance))\n",
    "    pos = np.where(distance == np.amin(distance))\n",
    "    points_along_streakline.append(wind_pos[int(pos[0]):])\n",
    "        \n",
    "    x = np.any(distance<=radius)             # generates a boolean values \n",
    "    if x==True:\n",
    "        odor_presence.append(1)\n",
    "    else:\n",
    "        odor_presence.append(0)"
   ]
  },
  {
   "cell_type": "code",
   "execution_count": 19,
   "metadata": {},
   "outputs": [
    {
     "data": {
      "text/plain": [
       "342530"
      ]
     },
     "execution_count": 19,
     "metadata": {},
     "output_type": "execute_result"
    }
   ],
   "source": [
    "len(points_along_streakline)"
   ]
  },
  {
   "cell_type": "code",
   "execution_count": 20,
   "metadata": {},
   "outputs": [],
   "source": [
    "distance_along_streakline=[]\n",
    "for i in range(0,100000):\n",
    "    lengths = np.sqrt(np.sum(np.diff(np.array(points_along_streakline[i]), axis=0)**2, axis=1)) # Length between corners\n",
    "    distance_along_streakline.append(np.sum(lengths))"
   ]
  },
  {
   "cell_type": "code",
   "execution_count": 21,
   "metadata": {},
   "outputs": [],
   "source": [
    "for i in range(100000,200000):\n",
    "    lengths = np.sqrt(np.sum(np.diff(np.array(points_along_streakline[i]), axis=0)**2, axis=1)) # Length between corners\n",
    "    distance_along_streakline.append(np.sum(lengths))"
   ]
  },
  {
   "cell_type": "code",
   "execution_count": 22,
   "metadata": {},
   "outputs": [],
   "source": [
    "for i in range(200000,len(points_along_streakline)):\n",
    "    lengths = np.sqrt(np.sum(np.diff(np.array(points_along_streakline[i]), axis=0)**2, axis=1)) # Length between corners\n",
    "    distance_along_streakline.append(np.sum(lengths))"
   ]
  },
  {
   "cell_type": "code",
   "execution_count": 23,
   "metadata": {},
   "outputs": [
    {
     "data": {
      "text/plain": [
       "342530"
      ]
     },
     "execution_count": 23,
     "metadata": {},
     "output_type": "execute_result"
    }
   ],
   "source": [
    "len(distance_along_streakline) "
   ]
  },
  {
   "cell_type": "code",
   "execution_count": 24,
   "metadata": {},
   "outputs": [],
   "source": [
    "## flip containers because above iteration is done in reverse order\n",
    "df['mock'] = np.zeros(len(df))\n",
    "distance_along_streakline = np.array(np.flip(distance_along_streakline)) \n",
    "odor_presence = odor_presence[::-1]\n",
    "# max_radius = max_radius[::-1]\n",
    "\n",
    "## storing in the dataframe \n",
    "df['odor_expected'] = odor_presence\n",
    "df['distance_along_streakline'] =  distance_along_streakline\n",
    "df['nearest_particle'] = nearest_particle\n",
    "# df['distance_from_source'] = distance_from_source"
   ]
  },
  {
   "cell_type": "code",
   "execution_count": 25,
   "metadata": {},
   "outputs": [],
   "source": [
    "df.to_hdf(dir+'Run02_expected.h5', key='df', mode='w')\n"
   ]
  }
 ],
 "metadata": {
  "kernelspec": {
   "display_name": "Python 3",
   "language": "python",
   "name": "python3"
  },
  "language_info": {
   "codemirror_mode": {
    "name": "ipython",
    "version": 3
   },
   "file_extension": ".py",
   "mimetype": "text/x-python",
   "name": "python",
   "nbconvert_exporter": "python",
   "pygments_lexer": "ipython3",
   "version": "3.8.7"
  }
 },
 "nbformat": 4,
 "nbformat_minor": 4
}
