{
 "cells": [
  {
   "cell_type": "code",
   "execution_count": 1,
   "id": "searching-killer",
   "metadata": {},
   "outputs": [],
   "source": [
    "# user defined functions\n",
    "import odor_statistics_lib as osm\n",
    "\n",
    "# dataframes\n",
    "import pandas as pd\n",
    "import h5py\n",
    "\n",
    "#suppress warnings\n",
    "import warnings\n",
    "warnings.simplefilter(action='ignore', category=FutureWarning)\n",
    "pd.TimeSeries = pd.Series \n",
    "\n",
    "#math\n",
    "import numpy as np\n",
    "import math\n",
    "import statsmodels.api as sm\n",
    "import statsmodels.formula.api as smf\n",
    "import scipy\n",
    "import scipy.stats as stats\n",
    "from scipy.stats import kurtosis\n",
    "\n",
    "#classification\n",
    "import networkx\n",
    "import community.community_louvain as community_louvain # pip install community\n",
    "\n",
    "#plots\n",
    "import string\n",
    "import figurefirst\n",
    "from figurefirst import FigureLayout,mpl_functions\n",
    "import matplotlib.ticker as mtick\n",
    "import pylab as plt\n",
    "import matplotlib.pyplot as plt\n",
    "from matplotlib.ticker import (MultipleLocator, FormatStrFormatter,\n",
    "                               AutoMinorLocator)\n",
    "from mpl_toolkits.axes_grid1 import make_axes_locatable # for colorbar\n",
    "import seaborn as sns\n",
    "# from sklearn.inspection import DecisionBoundaryDisplay\n",
    "from matplotlib.colors import ListedColormap\n",
    "sns.set_style(\"whitegrid\")\n",
    "pd.options.mode.chained_assignment = None\n",
    "dir = '~/Documents/Myfiles/DataAnalysis/data/Sprints/HighRes/'\n"
   ]
  },
  {
   "cell_type": "code",
   "execution_count": 11,
   "id": "polished-central",
   "metadata": {},
   "outputs": [],
   "source": [
    "import igraph as ig\n",
    "import leidenalg as la"
   ]
  },
  {
   "cell_type": "code",
   "execution_count": 41,
   "id": "wrapped-yemen",
   "metadata": {},
   "outputs": [],
   "source": [
    "traindf = pd.read_hdf(dir+'DesertPredictions.h5')"
   ]
  },
  {
   "cell_type": "markdown",
   "id": "regulation-gravity",
   "metadata": {},
   "source": [
    "## Louvain Community Detection"
   ]
  },
  {
   "cell_type": "code",
   "execution_count": 42,
   "id": "short-quality",
   "metadata": {},
   "outputs": [],
   "source": [
    "# Helper function\n",
    "def calculate_louvain_communities(assignment_matrix, node_order=None):\n",
    "    # Calculate louvain communities\n",
    "    G = networkx.to_networkx_graph(assignment_matrix, create_using=networkx.Graph())  \n",
    "    louvain_community_dict = community_louvain.best_partition(G)\n",
    "    # Convert community assignmet dict into list of communities\n",
    "    louvain_comms = {}\n",
    "    for node_index, comm_id in louvain_community_dict.items():\n",
    "        if comm_id in louvain_comms.keys():\n",
    "            louvain_comms[comm_id].append(node_index)\n",
    "        else:\n",
    "            louvain_comms.setdefault(comm_id, [node_index])\n",
    "    nodes_louvain_ordered = [node for comm in louvain_comms.values() for node in comm]\n",
    "    # reorder original matrix according to node order\n",
    "    adjacency_matrix = np.zeros_like(assignment_matrix)\n",
    "    for i in range(assignment_matrix.shape[0]):\n",
    "        for j in range(assignment_matrix.shape[0]):\n",
    "            r = nodes_louvain_ordered.index(i)\n",
    "            c = nodes_louvain_ordered.index(j)\n",
    "            adjacency_matrix[r,c] = assignment_matrix[i,j] \n",
    "    return G, louvain_community_dict, nodes_louvain_ordered, adjacency_matrix\n",
    "\n",
    "\n",
    "\n",
    "\n",
    "dataframe=traindf\n",
    "X=[dataframe.mc_min,dataframe.mc_max, dataframe.mc_mean, dataframe.mc_std_dev, dataframe.mc_k,\n",
    "     dataframe.wf_min, dataframe.wf_max, dataframe.wf_mean, dataframe.wf_std_dev, dataframe.wf_k,\n",
    "     dataframe.wd_min, dataframe.wd_max, dataframe.wd_mean, dataframe.wd_std_dev, dataframe.wd_k,\n",
    "     dataframe.ma_min, dataframe.ma_max, dataframe.ma_mean, dataframe.ma_std_dev, dataframe.ma_k,\n",
    "     dataframe.st_min, dataframe.st_max, dataframe.st_mean, dataframe.st_std_dev, dataframe.st_k]\n",
    "\n",
    "REMOVE_Y_CORR = True\n",
    "y=dataframe.distance\n",
    "\n"
   ]
  },
  {
   "cell_type": "code",
   "execution_count": 43,
   "id": "super-trace",
   "metadata": {},
   "outputs": [],
   "source": [
    "\n",
    "corr_mat = np.zeros([len(X), len(X)])\n",
    "for i in range(len(X)):\n",
    "    for j in range(len(X)):\n",
    "        \n",
    "        if not REMOVE_Y_CORR:\n",
    "            result = scipy.stats.linregress(X[i], X[j])\n",
    "        else:\n",
    "            result_iy = scipy.stats.linregress(y, X[i])\n",
    "            resid_i = X[i] - (y*result_iy.slope + result_iy.intercept)\n",
    "\n",
    "            result_jy = scipy.stats.linregress(y, X[j])\n",
    "            resid_j = X[j] - (y*result_jy.slope + result_jy.intercept)\n",
    "            \n",
    "            result = scipy.stats.linregress(resid_i, resid_j)\n",
    "            \n",
    "        corr_mat[i,j] = result.rvalue**2\n",
    "        \n",
    "G, louvain_community_dict, nodes_louvain_ordered, adjacency_matrix = calculate_louvain_communities(corr_mat)"
   ]
  },
  {
   "cell_type": "code",
   "execution_count": 44,
   "id": "chronic-objective",
   "metadata": {},
   "outputs": [],
   "source": [
    "### Plotting\n",
    "\n",
    "n = []\n",
    "for i in range(len(X)):\n",
    "    n.append(X[i].name)\n",
    "\n",
    "dicts = {}\n",
    "keys = range(len(X))\n",
    "values = n\n",
    "for i in keys:\n",
    "        dicts[i] = values[i]\n",
    "        \n",
    "new_list_label = sorted(dicts.items(), key=lambda pair: nodes_louvain_ordered.index(pair[0]))\n",
    "\n",
    "new_list = []\n",
    "for i in range(len(new_list_label)):\n",
    "    new_list.append(new_list_label[i][1])"
   ]
  },
  {
   "cell_type": "code",
   "execution_count": 9,
   "id": "german-gasoline",
   "metadata": {},
   "outputs": [],
   "source": [
    "# f,(ax) = plt.subplots(1,1,figsize=(10,10))\n",
    "# ax.matshow(adjacency_matrix,cmap='bone_r',  aspect='auto')\n",
    "\n",
    "\n",
    "# ax.grid(False)\n",
    "# ax.set_title('Adjacency Matrix')\n",
    "# ax.set_yticklabels(new_list)\n",
    "# ax.yaxis.set_major_locator(plt.MaxNLocator(25))\n",
    "\n",
    "# f.tight_layout(pad=1)\n",
    "# figurefirst.mpl_functions.set_fontsize(f, 16)"
   ]
  },
  {
   "cell_type": "markdown",
   "id": "adverse-sustainability",
   "metadata": {},
   "source": [
    "## Leiden Community Detection"
   ]
  },
  {
   "cell_type": "code",
   "execution_count": null,
   "id": "determined-brook",
   "metadata": {},
   "outputs": [],
   "source": []
  }
 ],
 "metadata": {
  "kernelspec": {
   "display_name": "Python 3",
   "language": "python",
   "name": "python3"
  },
  "language_info": {
   "codemirror_mode": {
    "name": "ipython",
    "version": 3
   },
   "file_extension": ".py",
   "mimetype": "text/x-python",
   "name": "python",
   "nbconvert_exporter": "python",
   "pygments_lexer": "ipython3",
   "version": "3.8.7"
  }
 },
 "nbformat": 4,
 "nbformat_minor": 5
}
