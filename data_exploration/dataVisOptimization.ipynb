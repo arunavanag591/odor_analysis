{
 "cells": [
  {
   "cell_type": "code",
   "execution_count": 1,
   "metadata": {},
   "outputs": [],
   "source": [
    "#user-defined\n",
    "import ipynb.fs.full.helper as hp\n",
    "\n",
    "#dataframes\n",
    "import pandas as pd\n",
    "import h5py\n",
    "\n",
    "\n",
    "#suppress warnings\n",
    "import warnings\n",
    "warnings.simplefilter(action='ignore', category=FutureWarning)\n",
    "\n",
    "#math\n",
    "import numpy as np\n",
    "import math as m\n",
    "import scipy\n",
    "import scipy.interpolate as interpolate\n",
    "from scipy.spatial.distance import cdist\n",
    "from scipy import integrate\n",
    "pd.TimeSeries = pd.Series \n",
    "\n",
    "#plots\n",
    "import pylab as plt\n",
    "import matplotlib.pyplot as plt\n",
    "import matplotlib.animation as animation\n",
    "import matplotlib.lines as mlines\n",
    "from IPython.display import HTML\n",
    "\n",
    "#misc\n",
    "import time"
   ]
  },
  {
   "cell_type": "code",
   "execution_count": 2,
   "metadata": {},
   "outputs": [],
   "source": [
    "set_number = 5\n",
    "\n",
    "dir = '~/Documents/Myfiles/DataAnalysis/data/Sprints/Run03/Set0'+str(set_number)+'/'\n",
    "\n",
    "wind_load= 'wind0'+str(set_number)+'Run03_Interpolated.hdf'\n",
    "wind_load_small = 'wind0'+str(set_number)+'Run03_Interpolatedsmall.hdf'\n",
    "\n",
    "windn = pd.read_hdf(dir+wind_load)\n",
    "windsm = pd.read_hdf(dir+wind_load_small)"
   ]
  },
  {
   "cell_type": "markdown",
   "metadata": {},
   "source": [
    "### Calculate Expected encounters"
   ]
  },
  {
   "cell_type": "code",
   "execution_count": 144,
   "metadata": {},
   "outputs": [],
   "source": [
    "df = pd.DataFrame()\n",
    "df = windn\n"
   ]
  },
  {
   "cell_type": "code",
   "execution_count": 145,
   "metadata": {},
   "outputs": [],
   "source": [
    "dt= df.master_time[1]-df.master_time[0]"
   ]
  },
  {
   "cell_type": "code",
   "execution_count": 146,
   "metadata": {},
   "outputs": [],
   "source": [
    "# storing the odor location in a numpy array to avoid reading pandas\n",
    "odor_position = np.array([[df.xsrc[i],df.ysrc[i]] for i in range (len(df.xsrc))]) "
   ]
  },
  {
   "cell_type": "code",
   "execution_count": 41,
   "metadata": {},
   "outputs": [],
   "source": [
    "def get_particle(radius):  \n",
    "    if radius == 0:\n",
    "        return np.array([[0,0]]) ,np.zeros(1)\n",
    "    else:       \n",
    "        radius = np.arange(start = t, stop = 0, step = 1)*0.01\n",
    "        radius = np.delete(radius,loc).flatten()        \n",
    "        return radius"
   ]
  },
  {
   "cell_type": "code",
   "execution_count": 50,
   "metadata": {},
   "outputs": [],
   "source": [
    "# iter =300\n",
    "# v = windsm.U\n",
    "# ew= []\n",
    "# dt= windsm.master_time[1]-windsm.master_time[0]\n",
    "# #v = np.arange(0,iter,1) # When your v is a constantly incrementing integers \n",
    "# for i in range (iter):\n",
    "#     ew.append([np.sum(v[j:i])*dt for j in range (0, iter)])\n",
    "# ew = np.array(ew)    \n",
    "# diff = []\n",
    "# for i in range(1,len(ew)):\n",
    "#     diff.append(ew[i] - ew[i-1]) #find different between the iterations\n",
    "    \n",
    "# result = [[e for e in lst if e!=0] for lst in diff] #remove zeros\n",
    "# res = [] \n",
    "# for i in range(1, len(result)):\n",
    "#     res.append(result[i][0]) #create a new list of just differences \n",
    "# #res\n",
    "# #ew"
   ]
  },
  {
   "cell_type": "code",
   "execution_count": 147,
   "metadata": {},
   "outputs": [],
   "source": [
    "eastwest = [np.sum(df.U[j:])*dt for j in range(0,len(df))]\n",
    "northsouth = [np.sum(df.V[j:])*dt for j in range(0,len(df))]"
   ]
  },
  {
   "cell_type": "code",
   "execution_count": 149,
   "metadata": {},
   "outputs": [
    {
     "data": {
      "text/plain": [
       "34.18040704727173"
      ]
     },
     "execution_count": 149,
     "metadata": {},
     "output_type": "execute_result"
    }
   ],
   "source": [
    "#%timeit pass\n",
    "start = time.time()\n",
    "odor_presence=[]\n",
    "l = len(df)\n",
    "for i in range((len(eastwest))-1, -1, -1):\n",
    "\n",
    "    odor_pos = [odor_position[i]]  \n",
    "    #radius = get_particle(i) \n",
    "    if(i == 0):\n",
    "        radius = np.zeros(1)\n",
    "        wind_pos = np.array([[0,0]])\n",
    "    else:\n",
    "        \n",
    "        eastwest = np.resize(np.array([eastwest-df.U[i]*dt]),(1,i))\n",
    "        #print(eastwest)\n",
    "        loc = np.argwhere(eastwest>=20)\n",
    "        eastwest = np.delete(eastwest,loc)\n",
    "        northsouth = np.resize(np.delete(np.array([northsouth-df.V[i]*dt]), loc), (1,i))\n",
    "        wind_pos = np.vstack([eastwest,northsouth]).T   \n",
    "        radius = np.arange(start = i, stop = 0, step = -1)*0.01\n",
    "        radius = np.delete(radius,loc).flatten()  \n",
    "    \n",
    "    #print('iteration ', i, '\\nwind_Position\\n', wind_pos, '\\nradius\\n ', radius , '\\n odor_Pos\\n',odor_pos )\n",
    "    distance = cdist(odor_pos,wind_pos).flatten()   \n",
    "    #print('distance', distance)\n",
    "    x = distance<=radius.any()\n",
    "    if (x.any() == True):\n",
    "        odor_presence.append(1)\n",
    "    else:\n",
    "        odor_presence.append(0)\n",
    "        \n",
    "time.time()-start"
   ]
  },
  {
   "cell_type": "code",
   "execution_count": 150,
   "metadata": {},
   "outputs": [],
   "source": [
    "odor_expected = []\n",
    "for i in range(len(odor_presence)):\n",
    "    if(odor_presence[i]==1):\n",
    "        odor_expected.append(df.odor[i])\n",
    "    else:\n",
    "        odor_expected.append(0)\n",
    "df['odor_expected'] = odor_expected"
   ]
  },
  {
   "cell_type": "code",
   "execution_count": 151,
   "metadata": {},
   "outputs": [
    {
     "data": {
      "text/plain": [
       "[<matplotlib.lines.Line2D at 0x7fb95b9bf2e0>]"
      ]
     },
     "execution_count": 151,
     "metadata": {},
     "output_type": "execute_result"
    },
    {
     "data": {
      "image/png": "[encoded data removed]",
      "text/plain": [
       "<Figure size 432x288 with 1 Axes>"
      ]
     },
     "metadata": {
      "needs_background": "light"
     },
     "output_type": "display_data"
    }
   ],
   "source": [
    "plt.plot(df.sync_time, df.odor)"
   ]
  },
  {
   "cell_type": "code",
   "execution_count": 152,
   "metadata": {},
   "outputs": [
    {
     "data": {
      "text/plain": [
       "[<matplotlib.lines.Line2D at 0x7fb95b4afac0>]"
      ]
     },
     "execution_count": 152,
     "metadata": {},
     "output_type": "execute_result"
    },
    {
     "data": {
      "image/png": "[encoded data removed]",
      "text/plain": [
       "<Figure size 432x288 with 1 Axes>"
      ]
     },
     "metadata": {
      "needs_background": "light"
     },
     "output_type": "display_data"
    }
   ],
   "source": [
    "plt.plot(df.sync_time,df.odor_expected)"
   ]
  },
  {
   "cell_type": "code",
   "execution_count": null,
   "metadata": {},
   "outputs": [],
   "source": [
    "# def get_radius(i,loc):\n",
    "#     if (i == 0):\n",
    "#         return np.zeros(1)\n",
    "#     else:\n",
    "#         radius = np.arange(start = i, stop = 0, step = -1)\n",
    "#         radius = np.delete(radius,loc)\n",
    "# #         radius = np.resize(np.insert((a),i,np.zeros(len(delta)-i)),(1,len(delta)))\n",
    "#         return radius.flatten()"
   ]
  },
  {
   "cell_type": "markdown",
   "metadata": {},
   "source": [
    "### Create Puff Frame"
   ]
  },
  {
   "cell_type": "code",
   "execution_count": null,
   "metadata": {},
   "outputs": [],
   "source": [
    "# dt = 1\n",
    "# we = [np.cumsum(windn.U[i:])*dt for i in range(len(windn.U))]\n",
    "posu = [integrate.cumtrapz(windsm.U[i:],windsm.master_time[i:], axis=0, initial = 0.0) for i in range(len(windsm.U))]\n",
    "posv = [integrate.cumtrapz(windsm.V[i:],windsm.master_time[i:], axis=0, initial = 0.0) for i in range(len(windsm.V))]"
   ]
  },
  {
   "cell_type": "code",
   "execution_count": null,
   "metadata": {},
   "outputs": [],
   "source": [
    "westeast=pd.DataFrame(posu,columns=['particle{}'.format(x+1) for x in range(len(posu))]) #particle U\n",
    "northsouth=pd.DataFrame(posv,columns=['particle{}'.format(x+1) for x in range(len(posv))]) #particle in V"
   ]
  },
  {
   "cell_type": "code",
   "execution_count": null,
   "metadata": {},
   "outputs": [],
   "source": [
    "dfi = pd.DataFrame()\n",
    "dfi['index']=westeast.index\n",
    "westeast=westeast.T\n",
    "westeast.set_index(dfi.index, inplace=True)\n",
    "westeast.columns = ['particle' + str(col) for col in westeast.columns]\n",
    "delta=pd.DataFrame()\n",
    "delta[0] = westeast.iloc[:,0]\n",
    "for i in range(1,len(westeast.columns)):\n",
    "    delta[i]=westeast['particle' + str(i)].shift(periods=i)\n",
    "\n",
    "delta.columns = ['particle' + str(col) for col in delta.columns]\n",
    "delta=delta.fillna(0)\n",
    "#delta.to_hdf('~/Documents/Myfiles/DataAnalysis/data/Sprints/Run03/Set05/wind05Run03_Delta.hdf', key='df2', mode='w')\n",
    "\n",
    "#converting rows to columns for position northsouth\n",
    "dfi['index1']=northsouth.index\n",
    "northsouth=northsouth.T\n",
    "northsouth.set_index(dfi.index1, inplace=True)\n",
    "northsouth.columns = ['particle' + str(col) for col in northsouth.columns]\n",
    "gamma=pd.DataFrame()\n",
    "gamma[0] = northsouth.iloc[:,0]\n",
    "for i in range(1,len(westeast.columns)):\n",
    "    gamma[i]=northsouth['particle' + str(i)].shift(periods=i)\n",
    "    \n",
    "gamma.columns = ['particle' + str(col) for col in gamma.columns]\n",
    "gamma=gamma.fillna(0)"
   ]
  }
 ],
 "metadata": {
  "kernelspec": {
   "display_name": "Python 3",
   "language": "python",
   "name": "python3"
  },
  "language_info": {
   "codemirror_mode": {
    "name": "ipython",
    "version": 3
   },
   "file_extension": ".py",
   "mimetype": "text/x-python",
   "name": "python",
   "nbconvert_exporter": "python",
   "pygments_lexer": "ipython3",
   "version": "3.8.5"
  }
 },
 "nbformat": 4,
 "nbformat_minor": 4
}
