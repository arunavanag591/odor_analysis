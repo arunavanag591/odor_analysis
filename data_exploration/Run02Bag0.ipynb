{
 "cells": [
  {
   "cell_type": "markdown",
   "metadata": {},
   "source": [
    "# How to Interpolate?"
   ]
  },
  {
   "cell_type": "code",
   "execution_count": 1,
   "metadata": {},
   "outputs": [],
   "source": [
    "#user-defined\n",
    "import ipynb.fs.full.helper as hp\n",
    "\n",
    "#dataframes\n",
    "import pandas as pd\n",
    "import h5py\n",
    "#import datetime\n",
    "\n",
    "#math\n",
    "import numpy as np\n",
    "import math\n",
    "import scipy.fftpack\n",
    "from scipy import signal\n",
    "import scipy.interpolate as interpolate\n",
    "from scipy import integrate\n",
    "pd.TimeSeries = pd.Series \n",
    "\n",
    "#gps\n",
    "from geopy import distance\n",
    "\n",
    "#plots\n",
    "import pylab as plt\n",
    "import matplotlib.pyplot as plt\n",
    "import matplotlib.animation as animation  "
   ]
  },
  {
   "cell_type": "code",
   "execution_count": 2,
   "metadata": {},
   "outputs": [],
   "source": [
    "def padarray(A, size):\n",
    "    t = size - len(A)\n",
    "    return np.pad(A, pad_width=(0, t), mode='constant')"
   ]
  },
  {
   "cell_type": "code",
   "execution_count": 3,
   "metadata": {},
   "outputs": [],
   "source": [
    "#ROS TIME IS ALREADY WITH REFERENCE FROM EPOCH HENCE NO NEED TO SUBTRACT FROM 1970\n",
    "def epoch_setup(df):\n",
    "    #a=dt.datetime.utcfromtimestamp(0)\n",
    "    #dtx = []\n",
    "    #converting timestamp to datetime format; subtracting from epoch and converting back to seconds\n",
    "    #for i in range (len(df.time)):\n",
    "    #    dtx.append((dt.datetime.fromtimestamp(df.time[i])-a).total_seconds()) \n",
    "    #df.insert(1,'epoch',dtx)\n",
    "    sync_time = df.time-df.time[0]\n",
    "    df.insert(1,'sync_time',sync_time)\n",
    "    return df"
   ]
  },
  {
   "cell_type": "markdown",
   "metadata": {},
   "source": [
    "### Location of Wind Sensor & Source"
   ]
  },
  {
   "cell_type": "code",
   "execution_count": 4,
   "metadata": {},
   "outputs": [
    {
     "name": "stdout",
     "output_type": "stream",
     "text": [
      "31.988526614973562\n"
     ]
    },
    {
     "data": {
      "image/png": "[encoded data removed]",
      "text/plain": [
       "<Figure size 432x288 with 1 Axes>"
      ]
     },
     "metadata": {
      "needs_background": "light"
     },
     "output_type": "display_data"
    }
   ],
   "source": [
    "#distance between windstation and odor source\n",
    "plt.plot([40.79355], [-119.157326], marker='x', markersize=20, color=\"black\")\n",
    "plt.plot([40.79376709443614], [-119.15757512132207], marker='1', markersize=20, color=\"red\")\n",
    "\n",
    "#5 inches; 0.127 meters; 12.7 cm\n",
    "\n",
    "from geopy import distance\n",
    "coords_1 = (40.79355, -119.157326)\n",
    "coords_2 = (40.79376709443614, -119.15757512132207)\n",
    "\n",
    "print (distance.geodesic(coords_1, coords_2).meters)"
   ]
  },
  {
   "cell_type": "markdown",
   "metadata": {},
   "source": [
    "### Using Rosbag Pandas to import Bag"
   ]
  },
  {
   "cell_type": "code",
   "execution_count": 7,
   "metadata": {},
   "outputs": [
    {
     "name": "stderr",
     "output_type": "stream",
     "text": [
      "Failed to load Python extension for LZ4 support. LZ4 compression will not be available.\n"
     ]
    }
   ],
   "source": [
    "import rosbag_pandas"
   ]
  },
  {
   "cell_type": "code",
   "execution_count": 83,
   "metadata": {},
   "outputs": [],
   "source": [
    "filename = '/home/ecc/data/dataOctoberBags/OctoberDesertData/Run02/OctoberDesert1020_0.bag'\n",
    "df= rosbag_pandas.bag_to_dataframe(filename, exclude=['/imu/data','imu/mag', '/rosout','/rosout_agg','/ublox_gps/fix_velocity', '/ublox_gps/rxmrtcm'],include=['/analog_output', '/trisonica', '/ublox_gps/fix'])"
   ]
  },
  {
   "cell_type": "code",
   "execution_count": 84,
   "metadata": {},
   "outputs": [],
   "source": [
    "df.columns=df.columns.str.replace(r\"/\", \"_\")\n",
    "sync_time = df.index-df.index[0]"
   ]
  },
  {
   "cell_type": "code",
   "execution_count": 85,
   "metadata": {},
   "outputs": [],
   "source": [
    "df.insert(0,'sync_time',sync_time)"
   ]
  },
  {
   "cell_type": "markdown",
   "metadata": {},
   "source": [
    "### Save cleaned bag as H5 "
   ]
  },
  {
   "cell_type": "code",
   "execution_count": 87,
   "metadata": {
    "scrolled": true
   },
   "outputs": [
    {
     "name": "stderr",
     "output_type": "stream",
     "text": [
      "/home/ecc/.local/lib/python3.6/site-packages/pandas/core/generic.py:2449: PerformanceWarning: \n",
      "your performance may suffer as PyTables will pickle object types that it cannot\n",
      "map directly to c-types [inferred_type->mixed,key->block1_values] [items->Index(['_trisonica_header_frame_id', '_ublox_gps_fix_header_frame_id'], dtype='object')]\n",
      "\n",
      "  encoding=encoding,\n"
     ]
    }
   ],
   "source": [
    "df.to_hdf('~/data/dataOctoberBags/OctoberDesertData/Run02/OctoberDesert1020_0.h5', key='df', mode='w')"
   ]
  },
  {
   "cell_type": "markdown",
   "metadata": {},
   "source": [
    "### Load H5"
   ]
  },
  {
   "cell_type": "code",
   "execution_count": 5,
   "metadata": {},
   "outputs": [],
   "source": [
    "df=pd.read_hdf('~/data/dataOctoberBags/OctoberDesertData/Run02/OctoberDesert1020_0.h5')"
   ]
  },
  {
   "cell_type": "markdown",
   "metadata": {},
   "source": [
    "### Getting the GPS and WindSensor Time"
   ]
  },
  {
   "cell_type": "code",
   "execution_count": 6,
   "metadata": {},
   "outputs": [],
   "source": [
    "df[\"trisonica_time\"] = df._trisonica_header_stamp_secs + (df._trisonica_header_stamp_nsecs*1e-9)\n",
    "df[\"gps_time\"] = df._ublox_gps_fix_header_stamp_secs+(df._ublox_gps_fix_header_stamp_nsecs*1e-9)"
   ]
  },
  {
   "cell_type": "code",
   "execution_count": 7,
   "metadata": {},
   "outputs": [
    {
     "data": {
      "text/plain": [
       "1603221192.5460622"
      ]
     },
     "execution_count": 7,
     "metadata": {},
     "output_type": "execute_result"
    }
   ],
   "source": [
    "df.index[0]  ## checking time resolution"
   ]
  },
  {
   "cell_type": "code",
   "execution_count": 8,
   "metadata": {},
   "outputs": [
    {
     "data": {
      "text/plain": [
       "Index(['sync_time', '_analog_output_data', '_trisonica_direction',\n",
       "       '_trisonica_header_frame_id', '_trisonica_header_seq',\n",
       "       '_trisonica_header_stamp_nsecs', '_trisonica_header_stamp_secs',\n",
       "       '_trisonica_humidity', '_trisonica_northsouth', '_trisonica_pitch',\n",
       "       '_trisonica_pressure', '_trisonica_roll', '_trisonica_speed',\n",
       "       '_trisonica_temperature', '_trisonica_updown', '_trisonica_westeast',\n",
       "       '_ublox_gps_fix_altitude', '_ublox_gps_fix_header_frame_id',\n",
       "       '_ublox_gps_fix_header_seq', '_ublox_gps_fix_header_stamp_nsecs',\n",
       "       '_ublox_gps_fix_header_stamp_secs', '_ublox_gps_fix_latitude',\n",
       "       '_ublox_gps_fix_longitude', '_ublox_gps_fix_position_covariance_0',\n",
       "       '_ublox_gps_fix_position_covariance_1',\n",
       "       '_ublox_gps_fix_position_covariance_2',\n",
       "       '_ublox_gps_fix_position_covariance_3',\n",
       "       '_ublox_gps_fix_position_covariance_4',\n",
       "       '_ublox_gps_fix_position_covariance_5',\n",
       "       '_ublox_gps_fix_position_covariance_6',\n",
       "       '_ublox_gps_fix_position_covariance_7',\n",
       "       '_ublox_gps_fix_position_covariance_8',\n",
       "       '_ublox_gps_fix_position_covariance_type',\n",
       "       '_ublox_gps_fix_status_service', '_ublox_gps_fix_status_status',\n",
       "       'trisonica_time', 'gps_time'],\n",
       "      dtype='object')"
      ]
     },
     "execution_count": 8,
     "metadata": {},
     "output_type": "execute_result"
    }
   ],
   "source": [
    "df.keys()    ## checking index headers"
   ]
  },
  {
   "cell_type": "markdown",
   "metadata": {},
   "source": [
    "### Separating ODOR, WIND, GPS in dataframes"
   ]
  },
  {
   "cell_type": "code",
   "execution_count": 28,
   "metadata": {},
   "outputs": [],
   "source": [
    "df_odor = pd.DataFrame({'odor_time': df.index,'odor': df._analog_output_data,})\n",
    "df_wind = pd.DataFrame({'wind_time': df.trisonica_time,'trisonica_U': df._trisonica_westeast,'trisonica_V': df._trisonica_northsouth, })\n",
    "df_gps = pd.DataFrame({'gps_time': df.gps_time,'lat': df._ublox_gps_fix_latitude,'lon': df._ublox_gps_fix_longitude, })\n"
   ]
  },
  {
   "cell_type": "markdown",
   "metadata": {},
   "source": [
    "#### Creating time column for odor by dropping NaNs"
   ]
  },
  {
   "cell_type": "code",
   "execution_count": 29,
   "metadata": {},
   "outputs": [
    {
     "data": {
      "text/html": [
       "<div>\n",
       "<style scoped>\n",
       "    .dataframe tbody tr th:only-of-type {\n",
       "        vertical-align: middle;\n",
       "    }\n",
       "\n",
       "    .dataframe tbody tr th {\n",
       "        vertical-align: top;\n",
       "    }\n",
       "\n",
       "    .dataframe thead th {\n",
       "        text-align: right;\n",
       "    }\n",
       "</style>\n",
       "<table border=\"1\" class=\"dataframe\">\n",
       "  <thead>\n",
       "    <tr style=\"text-align: right;\">\n",
       "      <th></th>\n",
       "      <th>odor_time</th>\n",
       "      <th>odor</th>\n",
       "    </tr>\n",
       "  </thead>\n",
       "  <tbody>\n",
       "    <tr>\n",
       "      <th>1.603221e+09</th>\n",
       "      <td>1.603221e+09</td>\n",
       "      <td>0.636031</td>\n",
       "    </tr>\n",
       "    <tr>\n",
       "      <th>1.603221e+09</th>\n",
       "      <td>1.603221e+09</td>\n",
       "      <td>0.635718</td>\n",
       "    </tr>\n",
       "    <tr>\n",
       "      <th>1.603221e+09</th>\n",
       "      <td>1.603221e+09</td>\n",
       "      <td>0.634467</td>\n",
       "    </tr>\n",
       "    <tr>\n",
       "      <th>1.603221e+09</th>\n",
       "      <td>1.603221e+09</td>\n",
       "      <td>0.636031</td>\n",
       "    </tr>\n",
       "    <tr>\n",
       "      <th>1.603221e+09</th>\n",
       "      <td>1.603221e+09</td>\n",
       "      <td>0.635718</td>\n",
       "    </tr>\n",
       "    <tr>\n",
       "      <th>...</th>\n",
       "      <td>...</td>\n",
       "      <td>...</td>\n",
       "    </tr>\n",
       "    <tr>\n",
       "      <th>1.603221e+09</th>\n",
       "      <td>1.603221e+09</td>\n",
       "      <td>0.589734</td>\n",
       "    </tr>\n",
       "    <tr>\n",
       "      <th>1.603221e+09</th>\n",
       "      <td>1.603221e+09</td>\n",
       "      <td>0.592549</td>\n",
       "    </tr>\n",
       "    <tr>\n",
       "      <th>1.603221e+09</th>\n",
       "      <td>1.603221e+09</td>\n",
       "      <td>0.593488</td>\n",
       "    </tr>\n",
       "    <tr>\n",
       "      <th>1.603221e+09</th>\n",
       "      <td>1.603221e+09</td>\n",
       "      <td>0.592237</td>\n",
       "    </tr>\n",
       "    <tr>\n",
       "      <th>1.603221e+09</th>\n",
       "      <td>1.603221e+09</td>\n",
       "      <td>0.591611</td>\n",
       "    </tr>\n",
       "  </tbody>\n",
       "</table>\n",
       "<p>59949 rows × 2 columns</p>\n",
       "</div>"
      ],
      "text/plain": [
       "                 odor_time      odor\n",
       "1.603221e+09  1.603221e+09  0.636031\n",
       "1.603221e+09  1.603221e+09  0.635718\n",
       "1.603221e+09  1.603221e+09  0.634467\n",
       "1.603221e+09  1.603221e+09  0.636031\n",
       "1.603221e+09  1.603221e+09  0.635718\n",
       "...                    ...       ...\n",
       "1.603221e+09  1.603221e+09  0.589734\n",
       "1.603221e+09  1.603221e+09  0.592549\n",
       "1.603221e+09  1.603221e+09  0.593488\n",
       "1.603221e+09  1.603221e+09  0.592237\n",
       "1.603221e+09  1.603221e+09  0.591611\n",
       "\n",
       "[59949 rows x 2 columns]"
      ]
     },
     "execution_count": 29,
     "metadata": {},
     "output_type": "execute_result"
    }
   ],
   "source": [
    "df_odor\n",
    "df_odor = df_odor[df_odor.odor.notna()]\n",
    "df_odor"
   ]
  },
  {
   "cell_type": "markdown",
   "metadata": {},
   "source": [
    "### Cominbed time from three sensors and arrange based on time"
   ]
  },
  {
   "cell_type": "code",
   "execution_count": 48,
   "metadata": {},
   "outputs": [],
   "source": [
    "dfn = pd.concat([df_odor, df_wind, df_gps], sort=True)\n",
    "combined_time = np.hstack([df_odor.odor_time, df.trisonica_time ,df.gps_time])"
   ]
  },
  {
   "cell_type": "code",
   "execution_count": 31,
   "metadata": {},
   "outputs": [],
   "source": [
    "dfn['time'] = combined_time\n",
    "dfn = dfn.sort_values(by=['time'])"
   ]
  },
  {
   "cell_type": "code",
   "execution_count": 32,
   "metadata": {},
   "outputs": [
    {
     "data": {
      "text/html": [
       "<div>\n",
       "<style scoped>\n",
       "    .dataframe tbody tr th:only-of-type {\n",
       "        vertical-align: middle;\n",
       "    }\n",
       "\n",
       "    .dataframe tbody tr th {\n",
       "        vertical-align: top;\n",
       "    }\n",
       "\n",
       "    .dataframe thead th {\n",
       "        text-align: right;\n",
       "    }\n",
       "</style>\n",
       "<table border=\"1\" class=\"dataframe\">\n",
       "  <thead>\n",
       "    <tr style=\"text-align: right;\">\n",
       "      <th></th>\n",
       "      <th>gps_time</th>\n",
       "      <th>lat</th>\n",
       "      <th>lon</th>\n",
       "      <th>odor</th>\n",
       "      <th>odor_time</th>\n",
       "      <th>trisonica_U</th>\n",
       "      <th>trisonica_V</th>\n",
       "      <th>wind_time</th>\n",
       "      <th>time</th>\n",
       "    </tr>\n",
       "  </thead>\n",
       "  <tbody>\n",
       "    <tr>\n",
       "      <th>1.603221e+09</th>\n",
       "      <td>1.603221e+09</td>\n",
       "      <td>40.793749</td>\n",
       "      <td>-119.157556</td>\n",
       "      <td>NaN</td>\n",
       "      <td>NaN</td>\n",
       "      <td>NaN</td>\n",
       "      <td>NaN</td>\n",
       "      <td>NaN</td>\n",
       "      <td>1.603221e+09</td>\n",
       "    </tr>\n",
       "    <tr>\n",
       "      <th>1.603221e+09</th>\n",
       "      <td>1.603221e+09</td>\n",
       "      <td>40.793749</td>\n",
       "      <td>-119.157556</td>\n",
       "      <td>NaN</td>\n",
       "      <td>NaN</td>\n",
       "      <td>NaN</td>\n",
       "      <td>NaN</td>\n",
       "      <td>NaN</td>\n",
       "      <td>1.603221e+09</td>\n",
       "    </tr>\n",
       "    <tr>\n",
       "      <th>1.603221e+09</th>\n",
       "      <td>1.603221e+09</td>\n",
       "      <td>40.793749</td>\n",
       "      <td>-119.157556</td>\n",
       "      <td>NaN</td>\n",
       "      <td>NaN</td>\n",
       "      <td>NaN</td>\n",
       "      <td>NaN</td>\n",
       "      <td>NaN</td>\n",
       "      <td>1.603221e+09</td>\n",
       "    </tr>\n",
       "    <tr>\n",
       "      <th>1.603221e+09</th>\n",
       "      <td>1.603221e+09</td>\n",
       "      <td>40.793749</td>\n",
       "      <td>-119.157556</td>\n",
       "      <td>NaN</td>\n",
       "      <td>NaN</td>\n",
       "      <td>NaN</td>\n",
       "      <td>NaN</td>\n",
       "      <td>NaN</td>\n",
       "      <td>1.603221e+09</td>\n",
       "    </tr>\n",
       "    <tr>\n",
       "      <th>1.603221e+09</th>\n",
       "      <td>1.603221e+09</td>\n",
       "      <td>40.793749</td>\n",
       "      <td>-119.157556</td>\n",
       "      <td>NaN</td>\n",
       "      <td>NaN</td>\n",
       "      <td>NaN</td>\n",
       "      <td>NaN</td>\n",
       "      <td>NaN</td>\n",
       "      <td>1.603221e+09</td>\n",
       "    </tr>\n",
       "    <tr>\n",
       "      <th>...</th>\n",
       "      <td>...</td>\n",
       "      <td>...</td>\n",
       "      <td>...</td>\n",
       "      <td>...</td>\n",
       "      <td>...</td>\n",
       "      <td>...</td>\n",
       "      <td>...</td>\n",
       "      <td>...</td>\n",
       "      <td>...</td>\n",
       "    </tr>\n",
       "    <tr>\n",
       "      <th>1.603221e+09</th>\n",
       "      <td>NaN</td>\n",
       "      <td>NaN</td>\n",
       "      <td>NaN</td>\n",
       "      <td>NaN</td>\n",
       "      <td>NaN</td>\n",
       "      <td>NaN</td>\n",
       "      <td>NaN</td>\n",
       "      <td>NaN</td>\n",
       "      <td>NaN</td>\n",
       "    </tr>\n",
       "    <tr>\n",
       "      <th>1.603221e+09</th>\n",
       "      <td>NaN</td>\n",
       "      <td>NaN</td>\n",
       "      <td>NaN</td>\n",
       "      <td>NaN</td>\n",
       "      <td>NaN</td>\n",
       "      <td>NaN</td>\n",
       "      <td>NaN</td>\n",
       "      <td>NaN</td>\n",
       "      <td>NaN</td>\n",
       "    </tr>\n",
       "    <tr>\n",
       "      <th>1.603221e+09</th>\n",
       "      <td>NaN</td>\n",
       "      <td>NaN</td>\n",
       "      <td>NaN</td>\n",
       "      <td>NaN</td>\n",
       "      <td>NaN</td>\n",
       "      <td>NaN</td>\n",
       "      <td>NaN</td>\n",
       "      <td>NaN</td>\n",
       "      <td>NaN</td>\n",
       "    </tr>\n",
       "    <tr>\n",
       "      <th>1.603221e+09</th>\n",
       "      <td>NaN</td>\n",
       "      <td>NaN</td>\n",
       "      <td>NaN</td>\n",
       "      <td>NaN</td>\n",
       "      <td>NaN</td>\n",
       "      <td>NaN</td>\n",
       "      <td>NaN</td>\n",
       "      <td>NaN</td>\n",
       "      <td>NaN</td>\n",
       "    </tr>\n",
       "    <tr>\n",
       "      <th>1.603221e+09</th>\n",
       "      <td>NaN</td>\n",
       "      <td>NaN</td>\n",
       "      <td>NaN</td>\n",
       "      <td>NaN</td>\n",
       "      <td>NaN</td>\n",
       "      <td>NaN</td>\n",
       "      <td>NaN</td>\n",
       "      <td>NaN</td>\n",
       "      <td>NaN</td>\n",
       "    </tr>\n",
       "  </tbody>\n",
       "</table>\n",
       "<p>206825 rows × 9 columns</p>\n",
       "</div>"
      ],
      "text/plain": [
       "                  gps_time        lat         lon  odor  odor_time  \\\n",
       "1.603221e+09  1.603221e+09  40.793749 -119.157556   NaN        NaN   \n",
       "1.603221e+09  1.603221e+09  40.793749 -119.157556   NaN        NaN   \n",
       "1.603221e+09  1.603221e+09  40.793749 -119.157556   NaN        NaN   \n",
       "1.603221e+09  1.603221e+09  40.793749 -119.157556   NaN        NaN   \n",
       "1.603221e+09  1.603221e+09  40.793749 -119.157556   NaN        NaN   \n",
       "...                    ...        ...         ...   ...        ...   \n",
       "1.603221e+09           NaN        NaN         NaN   NaN        NaN   \n",
       "1.603221e+09           NaN        NaN         NaN   NaN        NaN   \n",
       "1.603221e+09           NaN        NaN         NaN   NaN        NaN   \n",
       "1.603221e+09           NaN        NaN         NaN   NaN        NaN   \n",
       "1.603221e+09           NaN        NaN         NaN   NaN        NaN   \n",
       "\n",
       "              trisonica_U  trisonica_V  wind_time          time  \n",
       "1.603221e+09          NaN          NaN        NaN  1.603221e+09  \n",
       "1.603221e+09          NaN          NaN        NaN  1.603221e+09  \n",
       "1.603221e+09          NaN          NaN        NaN  1.603221e+09  \n",
       "1.603221e+09          NaN          NaN        NaN  1.603221e+09  \n",
       "1.603221e+09          NaN          NaN        NaN  1.603221e+09  \n",
       "...                   ...          ...        ...           ...  \n",
       "1.603221e+09          NaN          NaN        NaN           NaN  \n",
       "1.603221e+09          NaN          NaN        NaN           NaN  \n",
       "1.603221e+09          NaN          NaN        NaN           NaN  \n",
       "1.603221e+09          NaN          NaN        NaN           NaN  \n",
       "1.603221e+09          NaN          NaN        NaN           NaN  \n",
       "\n",
       "[206825 rows x 9 columns]"
      ]
     },
     "execution_count": 32,
     "metadata": {},
     "output_type": "execute_result"
    }
   ],
   "source": [
    "dfn"
   ]
  },
  {
   "cell_type": "markdown",
   "metadata": {},
   "source": [
    "### Find Master Time "
   ]
  },
  {
   "cell_type": "code",
   "execution_count": 33,
   "metadata": {},
   "outputs": [
    {
     "name": "stdout",
     "output_type": "stream",
     "text": [
      "dt Odor:  0.00499725341796875\n",
      "dt Wind:  0.025002002716064453\n",
      "dt Gps:  0.20000004768371582\n"
     ]
    }
   ],
   "source": [
    "dt_odor = np.median(np.diff(dfn.odor_time.dropna().values))\n",
    "print('dt Odor: ', dt_odor)\n",
    "dt_wind = np.median(np.diff(dfn.wind_time.dropna().values))\n",
    "print('dt Wind: ', dt_wind)\n",
    "dt_gps = np.median(np.diff(dfn.gps_time.dropna().values))\n",
    "print('dt Gps: ', dt_gps)"
   ]
  },
  {
   "cell_type": "code",
   "execution_count": 26,
   "metadata": {},
   "outputs": [],
   "source": [
    "first_time = np.max([dfn.odor_time.min(), dfn.wind_time.min(), dfn.gps_time.min()])\n",
    "last_time = np.min([dfn.odor_time.max(), dfn.wind_time.max(), dfn.gps_time.max()])"
   ]
  },
  {
   "cell_type": "code",
   "execution_count": 27,
   "metadata": {},
   "outputs": [],
   "source": [
    "master_time = np.arange(first_time, last_time, dt_odor)"
   ]
  },
  {
   "cell_type": "markdown",
   "metadata": {},
   "source": [
    "### Create Interpolation function"
   ]
  },
  {
   "cell_type": "code",
   "execution_count": 37,
   "metadata": {},
   "outputs": [],
   "source": [
    "# create interpolation function and inteprolate sensor 1\n",
    "df_odor_1= dfn[['odor_time', 'odor']].dropna()\n",
    "func_interp_sensor_1 = scipy.interpolate.interp1d(df_odor_1.odor_time, df_odor_1.odor)\n",
    "interp_odor = func_interp_sensor_1(master_time)"
   ]
  },
  {
   "cell_type": "code",
   "execution_count": 38,
   "metadata": {},
   "outputs": [],
   "source": [
    "df_wind_1= dfn[['wind_time', 'trisonica_U']].dropna()\n",
    "func_interp_sensor_1 = scipy.interpolate.interp1d(df_wind_1.wind_time, df_wind_1.trisonica_U)\n",
    "interp_wind_U = func_interp_sensor_1(master_time)\n",
    "\n",
    "df_wind_2= dfn[['wind_time', 'trisonica_V']].dropna()\n",
    "func_interp_sensor_1 = scipy.interpolate.interp1d(df_wind_2.wind_time, df_wind_2.trisonica_V)\n",
    "interp_wind_V = func_interp_sensor_1(master_time)"
   ]
  },
  {
   "cell_type": "code",
   "execution_count": 40,
   "metadata": {},
   "outputs": [],
   "source": [
    "df_gps_lat= dfn[['gps_time', 'lat']].dropna()\n",
    "func_interp_sensor_1 = scipy.interpolate.interp1d(df_gps_lat.gps_time, df_gps_lat.lat)\n",
    "interp_gps_lat = func_interp_sensor_1(master_time)\n",
    "\n",
    "df_gps_lon= dfn[['gps_time', 'lon']].dropna()\n",
    "func_interp_sensor_1 = scipy.interpolate.interp1d(df_gps_lon.gps_time, df_gps_lon.lon)\n",
    "interp_gps_lon = func_interp_sensor_1(master_time)"
   ]
  },
  {
   "cell_type": "code",
   "execution_count": 41,
   "metadata": {},
   "outputs": [
    {
     "data": {
      "text/plain": [
       "[<matplotlib.lines.Line2D at 0x7fb38c21a550>]"
      ]
     },
     "execution_count": 41,
     "metadata": {},
     "output_type": "execute_result"
    },
    {
     "data": {
      "image/png": "[encoded data removed]",
      "text/plain": [
       "<Figure size 432x288 with 1 Axes>"
      ]
     },
     "metadata": {
      "needs_background": "light"
     },
     "output_type": "display_data"
    }
   ],
   "source": [
    "plt.plot(master_time, interp_odor, '.')\n",
    "plt.plot(master_time, interp_wind_U, '.', color='red')\n",
    "plt.plot(master_time, interp_wind_U, '.', color='green')"
   ]
  },
  {
   "cell_type": "markdown",
   "metadata": {},
   "source": [
    "### New Interpolated Dataframe"
   ]
  },
  {
   "cell_type": "code",
   "execution_count": 43,
   "metadata": {},
   "outputs": [],
   "source": [
    "new_df = pd.DataFrame({'master_time': master_time,\n",
    "                           'odor': interp_odor,\n",
    "                           'trisonica_U': interp_wind_U,\n",
    "                           'trisonica_V': interp_wind_V,\n",
    "                           'lat': interp_gps_lat,\n",
    "                           'lon': interp_gps_lon})"
   ]
  },
  {
   "cell_type": "code",
   "execution_count": 45,
   "metadata": {},
   "outputs": [
    {
     "data": {
      "text/html": [
       "<div>\n",
       "<style scoped>\n",
       "    .dataframe tbody tr th:only-of-type {\n",
       "        vertical-align: middle;\n",
       "    }\n",
       "\n",
       "    .dataframe tbody tr th {\n",
       "        vertical-align: top;\n",
       "    }\n",
       "\n",
       "    .dataframe thead th {\n",
       "        text-align: right;\n",
       "    }\n",
       "</style>\n",
       "<table border=\"1\" class=\"dataframe\">\n",
       "  <thead>\n",
       "    <tr style=\"text-align: right;\">\n",
       "      <th></th>\n",
       "      <th>master_time</th>\n",
       "      <th>odor</th>\n",
       "      <th>trisonica_U</th>\n",
       "      <th>trisonica_V</th>\n",
       "      <th>lat</th>\n",
       "      <th>lon</th>\n",
       "    </tr>\n",
       "  </thead>\n",
       "  <tbody>\n",
       "    <tr>\n",
       "      <th>0</th>\n",
       "      <td>1.603221e+09</td>\n",
       "      <td>0.634854</td>\n",
       "      <td>0.280000</td>\n",
       "      <td>1.160000</td>\n",
       "      <td>40.793749</td>\n",
       "      <td>-119.157556</td>\n",
       "    </tr>\n",
       "    <tr>\n",
       "      <th>1</th>\n",
       "      <td>1.603221e+09</td>\n",
       "      <td>0.635494</td>\n",
       "      <td>0.289993</td>\n",
       "      <td>1.160000</td>\n",
       "      <td>40.793749</td>\n",
       "      <td>-119.157556</td>\n",
       "    </tr>\n",
       "    <tr>\n",
       "      <th>2</th>\n",
       "      <td>1.603221e+09</td>\n",
       "      <td>0.635827</td>\n",
       "      <td>0.299985</td>\n",
       "      <td>1.160000</td>\n",
       "      <td>40.793749</td>\n",
       "      <td>-119.157556</td>\n",
       "    </tr>\n",
       "    <tr>\n",
       "      <th>3</th>\n",
       "      <td>1.603221e+09</td>\n",
       "      <td>0.635718</td>\n",
       "      <td>0.309978</td>\n",
       "      <td>1.160000</td>\n",
       "      <td>40.793749</td>\n",
       "      <td>-119.157556</td>\n",
       "    </tr>\n",
       "    <tr>\n",
       "      <th>4</th>\n",
       "      <td>1.603221e+09</td>\n",
       "      <td>0.635305</td>\n",
       "      <td>0.319970</td>\n",
       "      <td>1.160000</td>\n",
       "      <td>40.793749</td>\n",
       "      <td>-119.157556</td>\n",
       "    </tr>\n",
       "    <tr>\n",
       "      <th>...</th>\n",
       "      <td>...</td>\n",
       "      <td>...</td>\n",
       "      <td>...</td>\n",
       "      <td>...</td>\n",
       "      <td>...</td>\n",
       "      <td>...</td>\n",
       "    </tr>\n",
       "    <tr>\n",
       "      <th>59757</th>\n",
       "      <td>1.603221e+09</td>\n",
       "      <td>0.591438</td>\n",
       "      <td>1.333149</td>\n",
       "      <td>-1.755375</td>\n",
       "      <td>40.793697</td>\n",
       "      <td>-119.157631</td>\n",
       "    </tr>\n",
       "    <tr>\n",
       "      <th>59758</th>\n",
       "      <td>1.603221e+09</td>\n",
       "      <td>0.589259</td>\n",
       "      <td>1.496149</td>\n",
       "      <td>-1.733239</td>\n",
       "      <td>40.793697</td>\n",
       "      <td>-119.157631</td>\n",
       "    </tr>\n",
       "    <tr>\n",
       "      <th>59759</th>\n",
       "      <td>1.603221e+09</td>\n",
       "      <td>0.589552</td>\n",
       "      <td>1.331477</td>\n",
       "      <td>-1.796238</td>\n",
       "      <td>40.793697</td>\n",
       "      <td>-119.157631</td>\n",
       "    </tr>\n",
       "    <tr>\n",
       "      <th>59760</th>\n",
       "      <td>1.603221e+09</td>\n",
       "      <td>0.590273</td>\n",
       "      <td>1.110641</td>\n",
       "      <td>-1.873829</td>\n",
       "      <td>40.793697</td>\n",
       "      <td>-119.157631</td>\n",
       "    </tr>\n",
       "    <tr>\n",
       "      <th>59761</th>\n",
       "      <td>1.603221e+09</td>\n",
       "      <td>0.590885</td>\n",
       "      <td>0.889804</td>\n",
       "      <td>-1.951420</td>\n",
       "      <td>40.793697</td>\n",
       "      <td>-119.157631</td>\n",
       "    </tr>\n",
       "  </tbody>\n",
       "</table>\n",
       "<p>59762 rows × 6 columns</p>\n",
       "</div>"
      ],
      "text/plain": [
       "        master_time      odor  trisonica_U  trisonica_V        lat         lon\n",
       "0      1.603221e+09  0.634854     0.280000     1.160000  40.793749 -119.157556\n",
       "1      1.603221e+09  0.635494     0.289993     1.160000  40.793749 -119.157556\n",
       "2      1.603221e+09  0.635827     0.299985     1.160000  40.793749 -119.157556\n",
       "3      1.603221e+09  0.635718     0.309978     1.160000  40.793749 -119.157556\n",
       "4      1.603221e+09  0.635305     0.319970     1.160000  40.793749 -119.157556\n",
       "...             ...       ...          ...          ...        ...         ...\n",
       "59757  1.603221e+09  0.591438     1.333149    -1.755375  40.793697 -119.157631\n",
       "59758  1.603221e+09  0.589259     1.496149    -1.733239  40.793697 -119.157631\n",
       "59759  1.603221e+09  0.589552     1.331477    -1.796238  40.793697 -119.157631\n",
       "59760  1.603221e+09  0.590273     1.110641    -1.873829  40.793697 -119.157631\n",
       "59761  1.603221e+09  0.590885     0.889804    -1.951420  40.793697 -119.157631\n",
       "\n",
       "[59762 rows x 6 columns]"
      ]
     },
     "execution_count": 45,
     "metadata": {},
     "output_type": "execute_result"
    }
   ],
   "source": [
    "new_df"
   ]
  },
  {
   "cell_type": "markdown",
   "metadata": {},
   "source": [
    "### Saving Interpolated Bag"
   ]
  },
  {
   "cell_type": "code",
   "execution_count": 46,
   "metadata": {},
   "outputs": [],
   "source": [
    "new_df.to_hdf('~/data/dataOctoberBags/OctoberDesertData/Run02/Interpolated_0.h5', key='new_df', mode='w')"
   ]
  },
  {
   "cell_type": "code",
   "execution_count": 47,
   "metadata": {},
   "outputs": [
    {
     "data": {
      "text/plain": [
       "<matplotlib.collections.PathCollection at 0x7fb38c209f98>"
      ]
     },
     "execution_count": 47,
     "metadata": {},
     "output_type": "execute_result"
    },
    {
     "data": {
      "image/png": "[encoded data removed]",
      "text/plain": [
       "<Figure size 432x288 with 1 Axes>"
      ]
     },
     "metadata": {
      "needs_background": "light"
     },
     "output_type": "display_data"
    }
   ],
   "source": [
    "plt.scatter(new_df.master_time,new_df.odor, c=new_df.odor, s=10, cmap='magma')"
   ]
  }
 ],
 "metadata": {
  "kernelspec": {
   "display_name": "Python 3",
   "language": "python",
   "name": "python3"
  },
  "language_info": {
   "codemirror_mode": {
    "name": "ipython",
    "version": 3
   },
   "file_extension": ".py",
   "mimetype": "text/x-python",
   "name": "python",
   "nbconvert_exporter": "python",
   "pygments_lexer": "ipython3",
   "version": "3.6.9"
  }
 },
 "nbformat": 4,
 "nbformat_minor": 4
}
