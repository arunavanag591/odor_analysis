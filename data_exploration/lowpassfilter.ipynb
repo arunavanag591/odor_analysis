{
 "cells": [
  {
   "cell_type": "code",
   "execution_count": 1,
   "id": "optical-smith",
   "metadata": {},
   "outputs": [],
   "source": [
    "# user defined functions\n",
    "import odor_statistics_lib as osm\n",
    "\n",
    "# dataframes\n",
    "import pandas as pd\n",
    "import h5py\n",
    "\n",
    "#suppress warnings\n",
    "import warnings\n",
    "warnings.simplefilter(action='ignore', category=FutureWarning)\n",
    "pd.TimeSeries = pd.Series \n",
    "\n",
    "#math\n",
    "import numpy as np\n",
    "import math\n",
    "import statsmodels.api as sm\n",
    "import statsmodels.formula.api as smf\n",
    "import scipy\n",
    "import scipy.stats as stats\n",
    "from scipy import signal\n",
    "from scipy.stats import kurtosis\n",
    "\n",
    "#classification\n",
    "from sklearn.preprocessing import StandardScaler\n",
    "from sklearn.preprocessing import MinMaxScaler\n",
    "from sklearn.feature_selection import SelectKBest\n",
    "from sklearn.feature_selection import f_regression\n",
    "import networkx\n",
    "import community.community_louvain as community_louvain # pip install community\n",
    "\n",
    "#plots\n",
    "import string\n",
    "import figurefirst\n",
    "from figurefirst import FigureLayout,mpl_functions\n",
    "import matplotlib.ticker as mtick\n",
    "import pylab as plt\n",
    "import matplotlib.pyplot as plt\n",
    "from matplotlib.ticker import (MultipleLocator, FormatStrFormatter,\n",
    "                               AutoMinorLocator)\n",
    "from mpl_toolkits.axes_grid1 import make_axes_locatable # for colorbar\n",
    "import seaborn as sns\n",
    "# from sklearn.inspection import DecisionBoundaryDisplay\n",
    "from matplotlib.colors import ListedColormap\n",
    "sns.set_style(\"whitegrid\")\n",
    "pd.options.mode.chained_assignment = None"
   ]
  },
  {
   "cell_type": "code",
   "execution_count": 2,
   "id": "understanding-butler",
   "metadata": {},
   "outputs": [],
   "source": [
    "def create_class_column_fullts(dataframe):\n",
    "    dataframe.loc[dataframe.distance_from_source < 5, 'type'] = 0\n",
    "    dataframe.loc[(dataframe.distance_from_source >= 5)  & (dataframe.distance_from_source < 30), 'type'] = 1\n",
    "    dataframe.loc[dataframe.distance_from_source >= 30, 'type'] = 2\n",
    "    return dataframe\n",
    "\n",
    "def create_class_column_log(dataframe):\n",
    "    dataframe.loc[dataframe.log_avg_dist_from_source_signed < 0.7, 'type'] = 0\n",
    "    dataframe.loc[(dataframe.log_avg_dist_from_source_signed >= 0.7)  & \n",
    "                  (dataframe.log_avg_dist_from_source_signed < 1.5), 'type'] = 1\n",
    "    dataframe.loc[dataframe.log_avg_dist_from_source_signed >= 1.5, 'type'] = 2\n",
    "    return dataframe\n",
    "\n",
    "\n",
    "def get_timed_rows(dataframe,duration_of_encounters):\n",
    "    x = dataframe.sample(1)\n",
    "    A = x.mean_time.values.round(0) - duration_of_encounters\n",
    "    B = x.mean_time.values.round(0)\n",
    "    timed_rows = dataframe.loc[(dataframe.mean_time > A[0]) & (dataframe.mean_time < B[0])]\n",
    "    return timed_rows\n",
    "    \n",
    "def get_timed_encounter_stats(dataframe, distance_class, duration_of_encounters):\n",
    "    df_q = dataframe.query('type == ' + str(distance_class))   \n",
    "    df_q.reset_index(inplace=True, drop=True)     \n",
    "            \n",
    "    Nrows = get_timed_rows(df_q,duration_of_encounters)\n",
    "    avg_dist = np.mean(Nrows.avg_dist_from_source)\n",
    "    mean_time_whiff=np.mean(Nrows.mean_time)\n",
    "#     mean_conc=np.mean(Nrows_cont.odor)\n",
    "    pack_data=np.vstack([Nrows.mean_concentration,Nrows.mean_ef,Nrows.log_whiff,Nrows.whiff_ma,Nrows.std_whiff])\n",
    "    return pack_data,avg_dist,len(Nrows),mean_time_whiff\n",
    "\n",
    "\n",
    "def gather_stat_timed(dataframe, distance_class, duration_of_encounters,X,y,D,N,T):\n",
    "    for i in range(500):\n",
    "        xx,dx,n,t=get_timed_encounter_stats(dataframe,\n",
    "                                               distance_class, duration_of_encounters)\n",
    "        X.append(xx)\n",
    "        D.append(dx)\n",
    "        y.append(distance_class)\n",
    "        N.append(n)\n",
    "        T.append(t)\n",
    "        \n",
    "    return X,y,D,N,T"
   ]
  },
  {
   "cell_type": "code",
   "execution_count": 19,
   "id": "exact-messaging",
   "metadata": {},
   "outputs": [],
   "source": [
    "def get_index(df,th):\n",
    "    idx = []\n",
    "    for i in range(len(df.odor)):\n",
    "        if (df.odor[i]>th):\n",
    "            idx.append(df.index[i])\n",
    "\n",
    "    from itertools import groupby\n",
    "    from operator import itemgetter\n",
    "    index = []\n",
    "    for k, g in groupby(enumerate(idx),lambda ix : ix[0] - ix[1]):\n",
    "        index.append((list((map(itemgetter(1), g)))))\n",
    "    return index\n",
    "\n",
    "\n",
    "def get_statistics(df,index,fdf):\n",
    "    osm.avg_distance(df,index,fdf)\n",
    "    osm.mean_conc(df,index,fdf)\n",
    "    osm.motion_statistics(df,index,fdf)\n",
    "    osm.whiff_blank_duration(df,index,fdf)\n",
    "    osm.trajectory_speed(df,index,fdf)\n",
    "    osm.encounter_frequency(df,index,fdf,1,2)\n",
    "    osm.mean_avg(df,index,fdf)\n",
    "    osm.mean_conc(df,index,fdf)\n",
    "    osm.mean_t(df,index,fdf)\n",
    "    osm.std_whiff(df,index,fdf)\n",
    "    \n",
    "def return_r_squared(tdf):\n",
    "    distance=smf.ols(formula=\"\"\" distance ~ mc_min+mc_max+mc_mean+mc_std_dev+mc_k+\n",
    "    wf_min+wf_max+wf_mean+wf_std_dev+wf_k+ wd_min+wd_max+wd_mean+wd_std_dev+wd_k+\n",
    "    ma_min+ma_max+ma_mean+ma_std_dev+ma_k+ st_min+st_max+st_mean+st_std_dev+st_k\"\"\", data=tdf).fit()\n",
    "    \n",
    "    return (distance.rsquared)\n"
   ]
  },
  {
   "cell_type": "code",
   "execution_count": 20,
   "id": "later-flush",
   "metadata": {},
   "outputs": [],
   "source": [
    "dir = '~/Documents/Myfiles/DataAnalysis/data/Sprints/HighRes/'"
   ]
  },
  {
   "cell_type": "code",
   "execution_count": 21,
   "id": "stuck-singles",
   "metadata": {},
   "outputs": [],
   "source": [
    "df_windy=create_class_column_fullts(pd.read_hdf(dir+'Windy/WindyMASigned.h5'))\n",
    "df_notwindy=create_class_column_fullts(pd.read_hdf(dir+'NotWindy/NotWindyMASigned.h5'))\n",
    "df_forest=create_class_column_fullts(pd.read_hdf(dir+'Forest/ForestMASigned.h5'))"
   ]
  },
  {
   "cell_type": "code",
   "execution_count": 22,
   "id": "completed-mixer",
   "metadata": {},
   "outputs": [],
   "source": [
    "def get_dataframe(df_notwindy,df_windy,df_forest):\n",
    "    dfx = pd.concat([df_notwindy,df_windy,df_forest])\n",
    "    dfx.reset_index(inplace=True, drop=True)\n",
    "    return dfx"
   ]
  },
  {
   "cell_type": "code",
   "execution_count": 83,
   "id": "younger-option",
   "metadata": {},
   "outputs": [
    {
     "name": "stdout",
     "output_type": "stream",
     "text": [
      "1.7481509474053818\n"
     ]
    }
   ],
   "source": [
    "# x = get_dataframe(df_notwindy,df_windy,df_forest)\n",
    "k = 4.5/np.std(df_forest.odor)\n",
    "print(k)\n",
    "\n",
    "\n",
    "fs=200\n",
    "nyq=fs*0.5\n",
    "lookback_time=10\n",
    "r_squared=[]\n",
    "cf=[0.1,1,2,4,8,10,15,20,30,40,60,70,80,90]"
   ]
  },
  {
   "cell_type": "code",
   "execution_count": 85,
   "id": "chemical-cattle",
   "metadata": {},
   "outputs": [],
   "source": [
    "for i in range(len(cf)):\n",
    "    df=df_forest\n",
    "    \n",
    "    cutoff_freq=cf[i]\n",
    "    sos = signal.butter(2, cutoff_freq, 'low',fs=200, output='sos')\n",
    "    filtered = signal.sosfilt(sos, df.odor)\n",
    "    df=df.drop(columns=['odor'])\n",
    "    df['odor']=filtered\n",
    "\n",
    "    th=k*np.std(filtered)\n",
    "    \n",
    "    np.seterr(divide = 'ignore') \n",
    "    index = get_index(df,th)\n",
    "    fdf = pd.DataFrame()\n",
    "    get_statistics(df,index,fdf)\n",
    "    print('threhold', th, 'cutoff',cf[i], 'nwhiff',len(index))\n",
    "    \n",
    "    trainset= create_class_column_log(fdf) \n",
    "\n",
    "\n",
    "    D_train=[]\n",
    "    D_test=[]\n",
    "    mean_time_train=[]\n",
    "    mean_time_test=[]\n",
    "    Xtest = []\n",
    "    ytest = []\n",
    "    Xtrain = []\n",
    "    ytrain = []\n",
    "    Nrows_train = []\n",
    "    Nrows_test = []\n",
    "\n",
    "    for distance_class in [0,1,2]:\n",
    "        Xtrain, ytrain, D_train,Nrows_train,mean_time_train = gather_stat_timed(trainset,distance_class,\n",
    "                          lookback_time, Xtrain,ytrain,D_train,Nrows_train,\n",
    "                          mean_time_train)\n",
    "\n",
    "\n",
    "    def calc_val(X):\n",
    "        return np.ravel([np.min(X),np.max(X),np.mean(X),np.std(X),kurtosis(X)])\n",
    "\n",
    "    column_names=['mc_min','mc_max','mc_mean','mc_std_dev','mc_k',\n",
    "                 'wf_min','wf_max','wf_mean','wf_std_dev','wf_k',\n",
    "                 'wd_min','wd_max','wd_mean','wd_std_dev','wd_k',\n",
    "                 'ma_min','ma_max','ma_mean','ma_std_dev','ma_k',\n",
    "                 'st_min','st_max','st_mean','st_std_dev','st_k']\n",
    "\n",
    "    traindf=pd.DataFrame(columns = column_names)\n",
    "    c1=[]\n",
    "    for i in range(len(Xtrain)):\n",
    "        if(np.size(Xtrain[i])==0):\n",
    "            c1.append(i)\n",
    "            continue\n",
    "        else:\n",
    "            X=[]\n",
    "            for j in range(len(Xtrain[i])):\n",
    "                X.append(calc_val(Xtrain[i][j]))\n",
    "            traindf.loc[i]=np.ravel(X)\n",
    "    traindf['distance']=np.delete(D_train, c1)\n",
    "\n",
    "    r_squared.append(return_r_squared(traindf))"
   ]
  },
  {
   "cell_type": "code",
   "execution_count": 51,
   "id": "perceived-posting",
   "metadata": {},
   "outputs": [],
   "source": [
    "# rsquared_df=pd.DataFrame()"
   ]
  },
  {
   "cell_type": "code",
   "execution_count": 86,
   "id": "collaborative-taiwan",
   "metadata": {},
   "outputs": [
    {
     "data": {
      "image/png": "[encoded data removed]",
      "text/plain": [
       "<Figure size 576x360 with 1 Axes>"
      ]
     },
     "metadata": {},
     "output_type": "display_data"
    }
   ],
   "source": [
    "f,ax=plt.subplots(1,1,figsize=(8,5))\n",
    "ax.set_xlabel('Cutoff (hz)')\n",
    "ax.set_ylabel('$R^2$')\n",
    "ax.plot(rsquared_df.cf,rsquared_df.all_df,label='all')\n",
    "ax.plot(rsquared_df.cf,rsquared_df.lws,label='lws')\n",
    "ax.plot(rsquared_df.cf,rsquared_df.hws,label='hws')\n",
    "ax.grid(False)\n",
    "ax.legend()\n",
    "figurefirst.mpl_functions.set_fontsize(f, 15)\n"
   ]
  },
  {
   "cell_type": "code",
   "execution_count": 82,
   "id": "verbal-celebration",
   "metadata": {},
   "outputs": [],
   "source": [
    "# rsquared_df.to_hdf(dir+'lpf_rsquared.h5', key='rsquared_df', mode='w')"
   ]
  },
  {
   "cell_type": "code",
   "execution_count": null,
   "id": "arabic-height",
   "metadata": {},
   "outputs": [],
   "source": []
  }
 ],
 "metadata": {
  "kernelspec": {
   "display_name": "Python 3",
   "language": "python",
   "name": "python3"
  },
  "language_info": {
   "codemirror_mode": {
    "name": "ipython",
    "version": 3
   },
   "file_extension": ".py",
   "mimetype": "text/x-python",
   "name": "python",
   "nbconvert_exporter": "python",
   "pygments_lexer": "ipython3",
   "version": "3.8.7"
  }
 },
 "nbformat": 4,
 "nbformat_minor": 5
}
