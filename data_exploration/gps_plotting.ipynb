{
 "cells": [
  {
   "cell_type": "code",
   "execution_count": 1,
   "metadata": {},
   "outputs": [],
   "source": [
    "import ipynb.fs.full.helper as hp\n",
    "# For reading the data\n",
    "import pandas as pd\n",
    "import os\n",
    "import numpy as np\n",
    "import math\n",
    "\n",
    "from datetime import datetime\n",
    "from dateutil import tz\n",
    "\n",
    "# General plotting commands\n",
    "from matplotlib.path import Path\n",
    "import matplotlib.pyplot as plt\n",
    "\n",
    "from mpl_toolkits import mplot3d\n",
    "\n",
    "# pip install numpy --upgradea\n",
    "import cartopy.crs as ccrs\n",
    "from cartopy.io.img_tiles import Stamen\n",
    "from cartopy.io.img_tiles import GoogleTiles"
   ]
  },
  {
   "cell_type": "code",
   "execution_count": 2,
   "metadata": {},
   "outputs": [
    {
     "data": {
      "text/html": [
       "<div>\n",
       "<style scoped>\n",
       "    .dataframe tbody tr th:only-of-type {\n",
       "        vertical-align: middle;\n",
       "    }\n",
       "\n",
       "    .dataframe tbody tr th {\n",
       "        vertical-align: top;\n",
       "    }\n",
       "\n",
       "    .dataframe thead th {\n",
       "        text-align: right;\n",
       "    }\n",
       "</style>\n",
       "<table border=\"1\" class=\"dataframe\">\n",
       "  <thead>\n",
       "    <tr style=\"text-align: right;\">\n",
       "      <th></th>\n",
       "      <th>%time</th>\n",
       "      <th>field.header.seq</th>\n",
       "      <th>field.header.stamp</th>\n",
       "      <th>field.header.frame_id</th>\n",
       "      <th>field.status.status</th>\n",
       "      <th>field.status.service</th>\n",
       "      <th>field.latitude</th>\n",
       "      <th>field.longitude</th>\n",
       "      <th>field.altitude</th>\n",
       "      <th>field.position_covariance0</th>\n",
       "      <th>field.position_covariance1</th>\n",
       "      <th>field.position_covariance2</th>\n",
       "      <th>field.position_covariance3</th>\n",
       "      <th>field.position_covariance4</th>\n",
       "      <th>field.position_covariance5</th>\n",
       "      <th>field.position_covariance6</th>\n",
       "      <th>field.position_covariance7</th>\n",
       "      <th>field.position_covariance8</th>\n",
       "      <th>field.position_covariance_type</th>\n",
       "    </tr>\n",
       "  </thead>\n",
       "  <tbody>\n",
       "    <tr>\n",
       "      <th>0</th>\n",
       "      <td>1595957763871611082</td>\n",
       "      <td>287</td>\n",
       "      <td>1595957754200379110</td>\n",
       "      <td>gps_base</td>\n",
       "      <td>0</td>\n",
       "      <td>7</td>\n",
       "      <td>39.676553</td>\n",
       "      <td>-119.820786</td>\n",
       "      <td>1481.621</td>\n",
       "      <td>15.233409</td>\n",
       "      <td>0.0</td>\n",
       "      <td>0.0</td>\n",
       "      <td>0.0</td>\n",
       "      <td>15.233409</td>\n",
       "      <td>0.0</td>\n",
       "      <td>0.0</td>\n",
       "      <td>0.0</td>\n",
       "      <td>47.306884</td>\n",
       "      <td>2</td>\n",
       "    </tr>\n",
       "    <tr>\n",
       "      <th>1</th>\n",
       "      <td>1595957764068086102</td>\n",
       "      <td>288</td>\n",
       "      <td>1595957754400379057</td>\n",
       "      <td>gps_base</td>\n",
       "      <td>0</td>\n",
       "      <td>7</td>\n",
       "      <td>39.676552</td>\n",
       "      <td>-119.820786</td>\n",
       "      <td>1481.641</td>\n",
       "      <td>15.272464</td>\n",
       "      <td>0.0</td>\n",
       "      <td>0.0</td>\n",
       "      <td>0.0</td>\n",
       "      <td>15.272464</td>\n",
       "      <td>0.0</td>\n",
       "      <td>0.0</td>\n",
       "      <td>0.0</td>\n",
       "      <td>47.430769</td>\n",
       "      <td>2</td>\n",
       "    </tr>\n",
       "    <tr>\n",
       "      <th>2</th>\n",
       "      <td>1595957764269815647</td>\n",
       "      <td>289</td>\n",
       "      <td>1595957754600379004</td>\n",
       "      <td>gps_base</td>\n",
       "      <td>0</td>\n",
       "      <td>7</td>\n",
       "      <td>39.676552</td>\n",
       "      <td>-119.820786</td>\n",
       "      <td>1481.648</td>\n",
       "      <td>15.311569</td>\n",
       "      <td>0.0</td>\n",
       "      <td>0.0</td>\n",
       "      <td>0.0</td>\n",
       "      <td>15.311569</td>\n",
       "      <td>0.0</td>\n",
       "      <td>0.0</td>\n",
       "      <td>0.0</td>\n",
       "      <td>47.582404</td>\n",
       "      <td>2</td>\n",
       "    </tr>\n",
       "    <tr>\n",
       "      <th>3</th>\n",
       "      <td>1595957764469137873</td>\n",
       "      <td>290</td>\n",
       "      <td>1595957754800378951</td>\n",
       "      <td>gps_base</td>\n",
       "      <td>0</td>\n",
       "      <td>7</td>\n",
       "      <td>39.676552</td>\n",
       "      <td>-119.820786</td>\n",
       "      <td>1481.647</td>\n",
       "      <td>15.350724</td>\n",
       "      <td>0.0</td>\n",
       "      <td>0.0</td>\n",
       "      <td>0.0</td>\n",
       "      <td>15.350724</td>\n",
       "      <td>0.0</td>\n",
       "      <td>0.0</td>\n",
       "      <td>0.0</td>\n",
       "      <td>47.720464</td>\n",
       "      <td>2</td>\n",
       "    </tr>\n",
       "    <tr>\n",
       "      <th>4</th>\n",
       "      <td>1595957764672790677</td>\n",
       "      <td>291</td>\n",
       "      <td>1595957755000378898</td>\n",
       "      <td>gps_base</td>\n",
       "      <td>0</td>\n",
       "      <td>7</td>\n",
       "      <td>39.676552</td>\n",
       "      <td>-119.820786</td>\n",
       "      <td>1481.637</td>\n",
       "      <td>15.397776</td>\n",
       "      <td>0.0</td>\n",
       "      <td>0.0</td>\n",
       "      <td>0.0</td>\n",
       "      <td>15.397776</td>\n",
       "      <td>0.0</td>\n",
       "      <td>0.0</td>\n",
       "      <td>0.0</td>\n",
       "      <td>47.872561</td>\n",
       "      <td>2</td>\n",
       "    </tr>\n",
       "    <tr>\n",
       "      <th>...</th>\n",
       "      <td>...</td>\n",
       "      <td>...</td>\n",
       "      <td>...</td>\n",
       "      <td>...</td>\n",
       "      <td>...</td>\n",
       "      <td>...</td>\n",
       "      <td>...</td>\n",
       "      <td>...</td>\n",
       "      <td>...</td>\n",
       "      <td>...</td>\n",
       "      <td>...</td>\n",
       "      <td>...</td>\n",
       "      <td>...</td>\n",
       "      <td>...</td>\n",
       "      <td>...</td>\n",
       "      <td>...</td>\n",
       "      <td>...</td>\n",
       "      <td>...</td>\n",
       "      <td>...</td>\n",
       "    </tr>\n",
       "    <tr>\n",
       "      <th>3740</th>\n",
       "      <td>1595958562285731210</td>\n",
       "      <td>4027</td>\n",
       "      <td>1595958552600172987</td>\n",
       "      <td>gps_base</td>\n",
       "      <td>0</td>\n",
       "      <td>7</td>\n",
       "      <td>39.676575</td>\n",
       "      <td>-119.820773</td>\n",
       "      <td>1480.416</td>\n",
       "      <td>1.089936</td>\n",
       "      <td>0.0</td>\n",
       "      <td>0.0</td>\n",
       "      <td>0.0</td>\n",
       "      <td>1.089936</td>\n",
       "      <td>0.0</td>\n",
       "      <td>0.0</td>\n",
       "      <td>0.0</td>\n",
       "      <td>3.161284</td>\n",
       "      <td>2</td>\n",
       "    </tr>\n",
       "    <tr>\n",
       "      <th>3741</th>\n",
       "      <td>1595958562484777732</td>\n",
       "      <td>4028</td>\n",
       "      <td>1595958552800172934</td>\n",
       "      <td>gps_base</td>\n",
       "      <td>0</td>\n",
       "      <td>7</td>\n",
       "      <td>39.676575</td>\n",
       "      <td>-119.820773</td>\n",
       "      <td>1480.461</td>\n",
       "      <td>1.073296</td>\n",
       "      <td>0.0</td>\n",
       "      <td>0.0</td>\n",
       "      <td>0.0</td>\n",
       "      <td>1.073296</td>\n",
       "      <td>0.0</td>\n",
       "      <td>0.0</td>\n",
       "      <td>0.0</td>\n",
       "      <td>3.125824</td>\n",
       "      <td>2</td>\n",
       "    </tr>\n",
       "    <tr>\n",
       "      <th>3742</th>\n",
       "      <td>1595958562690753830</td>\n",
       "      <td>4029</td>\n",
       "      <td>1595958553000172881</td>\n",
       "      <td>gps_base</td>\n",
       "      <td>0</td>\n",
       "      <td>7</td>\n",
       "      <td>39.676575</td>\n",
       "      <td>-119.820774</td>\n",
       "      <td>1480.519</td>\n",
       "      <td>1.054729</td>\n",
       "      <td>0.0</td>\n",
       "      <td>0.0</td>\n",
       "      <td>0.0</td>\n",
       "      <td>1.054729</td>\n",
       "      <td>0.0</td>\n",
       "      <td>0.0</td>\n",
       "      <td>0.0</td>\n",
       "      <td>3.094081</td>\n",
       "      <td>2</td>\n",
       "    </tr>\n",
       "    <tr>\n",
       "      <th>3743</th>\n",
       "      <td>1595958562886590436</td>\n",
       "      <td>4030</td>\n",
       "      <td>1595958553200172829</td>\n",
       "      <td>gps_base</td>\n",
       "      <td>0</td>\n",
       "      <td>7</td>\n",
       "      <td>39.676575</td>\n",
       "      <td>-119.820774</td>\n",
       "      <td>1480.559</td>\n",
       "      <td>1.040400</td>\n",
       "      <td>0.0</td>\n",
       "      <td>0.0</td>\n",
       "      <td>0.0</td>\n",
       "      <td>1.040400</td>\n",
       "      <td>0.0</td>\n",
       "      <td>0.0</td>\n",
       "      <td>0.0</td>\n",
       "      <td>3.059001</td>\n",
       "      <td>2</td>\n",
       "    </tr>\n",
       "    <tr>\n",
       "      <th>3744</th>\n",
       "      <td>1595958563086034644</td>\n",
       "      <td>4031</td>\n",
       "      <td>1595958553400172776</td>\n",
       "      <td>gps_base</td>\n",
       "      <td>0</td>\n",
       "      <td>7</td>\n",
       "      <td>39.676575</td>\n",
       "      <td>-119.820774</td>\n",
       "      <td>1480.603</td>\n",
       "      <td>1.024144</td>\n",
       "      <td>0.0</td>\n",
       "      <td>0.0</td>\n",
       "      <td>0.0</td>\n",
       "      <td>1.024144</td>\n",
       "      <td>0.0</td>\n",
       "      <td>0.0</td>\n",
       "      <td>0.0</td>\n",
       "      <td>3.024121</td>\n",
       "      <td>2</td>\n",
       "    </tr>\n",
       "  </tbody>\n",
       "</table>\n",
       "<p>3745 rows × 19 columns</p>\n",
       "</div>"
      ],
      "text/plain": [
       "                    %time  field.header.seq   field.header.stamp  \\\n",
       "0     1595957763871611082               287  1595957754200379110   \n",
       "1     1595957764068086102               288  1595957754400379057   \n",
       "2     1595957764269815647               289  1595957754600379004   \n",
       "3     1595957764469137873               290  1595957754800378951   \n",
       "4     1595957764672790677               291  1595957755000378898   \n",
       "...                   ...               ...                  ...   \n",
       "3740  1595958562285731210              4027  1595958552600172987   \n",
       "3741  1595958562484777732              4028  1595958552800172934   \n",
       "3742  1595958562690753830              4029  1595958553000172881   \n",
       "3743  1595958562886590436              4030  1595958553200172829   \n",
       "3744  1595958563086034644              4031  1595958553400172776   \n",
       "\n",
       "     field.header.frame_id  field.status.status  field.status.service  \\\n",
       "0                 gps_base                    0                     7   \n",
       "1                 gps_base                    0                     7   \n",
       "2                 gps_base                    0                     7   \n",
       "3                 gps_base                    0                     7   \n",
       "4                 gps_base                    0                     7   \n",
       "...                    ...                  ...                   ...   \n",
       "3740              gps_base                    0                     7   \n",
       "3741              gps_base                    0                     7   \n",
       "3742              gps_base                    0                     7   \n",
       "3743              gps_base                    0                     7   \n",
       "3744              gps_base                    0                     7   \n",
       "\n",
       "      field.latitude  field.longitude  field.altitude  \\\n",
       "0          39.676553      -119.820786        1481.621   \n",
       "1          39.676552      -119.820786        1481.641   \n",
       "2          39.676552      -119.820786        1481.648   \n",
       "3          39.676552      -119.820786        1481.647   \n",
       "4          39.676552      -119.820786        1481.637   \n",
       "...              ...              ...             ...   \n",
       "3740       39.676575      -119.820773        1480.416   \n",
       "3741       39.676575      -119.820773        1480.461   \n",
       "3742       39.676575      -119.820774        1480.519   \n",
       "3743       39.676575      -119.820774        1480.559   \n",
       "3744       39.676575      -119.820774        1480.603   \n",
       "\n",
       "      field.position_covariance0  field.position_covariance1  \\\n",
       "0                      15.233409                         0.0   \n",
       "1                      15.272464                         0.0   \n",
       "2                      15.311569                         0.0   \n",
       "3                      15.350724                         0.0   \n",
       "4                      15.397776                         0.0   \n",
       "...                          ...                         ...   \n",
       "3740                    1.089936                         0.0   \n",
       "3741                    1.073296                         0.0   \n",
       "3742                    1.054729                         0.0   \n",
       "3743                    1.040400                         0.0   \n",
       "3744                    1.024144                         0.0   \n",
       "\n",
       "      field.position_covariance2  field.position_covariance3  \\\n",
       "0                            0.0                         0.0   \n",
       "1                            0.0                         0.0   \n",
       "2                            0.0                         0.0   \n",
       "3                            0.0                         0.0   \n",
       "4                            0.0                         0.0   \n",
       "...                          ...                         ...   \n",
       "3740                         0.0                         0.0   \n",
       "3741                         0.0                         0.0   \n",
       "3742                         0.0                         0.0   \n",
       "3743                         0.0                         0.0   \n",
       "3744                         0.0                         0.0   \n",
       "\n",
       "      field.position_covariance4  field.position_covariance5  \\\n",
       "0                      15.233409                         0.0   \n",
       "1                      15.272464                         0.0   \n",
       "2                      15.311569                         0.0   \n",
       "3                      15.350724                         0.0   \n",
       "4                      15.397776                         0.0   \n",
       "...                          ...                         ...   \n",
       "3740                    1.089936                         0.0   \n",
       "3741                    1.073296                         0.0   \n",
       "3742                    1.054729                         0.0   \n",
       "3743                    1.040400                         0.0   \n",
       "3744                    1.024144                         0.0   \n",
       "\n",
       "      field.position_covariance6  field.position_covariance7  \\\n",
       "0                            0.0                         0.0   \n",
       "1                            0.0                         0.0   \n",
       "2                            0.0                         0.0   \n",
       "3                            0.0                         0.0   \n",
       "4                            0.0                         0.0   \n",
       "...                          ...                         ...   \n",
       "3740                         0.0                         0.0   \n",
       "3741                         0.0                         0.0   \n",
       "3742                         0.0                         0.0   \n",
       "3743                         0.0                         0.0   \n",
       "3744                         0.0                         0.0   \n",
       "\n",
       "      field.position_covariance8  field.position_covariance_type  \n",
       "0                      47.306884                               2  \n",
       "1                      47.430769                               2  \n",
       "2                      47.582404                               2  \n",
       "3                      47.720464                               2  \n",
       "4                      47.872561                               2  \n",
       "...                          ...                             ...  \n",
       "3740                    3.161284                               2  \n",
       "3741                    3.125824                               2  \n",
       "3742                    3.094081                               2  \n",
       "3743                    3.059001                               2  \n",
       "3744                    3.024121                               2  \n",
       "\n",
       "[3745 rows x 19 columns]"
      ]
     },
     "execution_count": 2,
     "metadata": {},
     "output_type": "execute_result"
    }
   ],
   "source": [
    "df = pd.read_csv(\"~/data/gps1.csv\") #load_GPS_directory_to_pandas('.')\n",
    "df\n"
   ]
  },
  {
   "cell_type": "code",
   "execution_count": 3,
   "metadata": {},
   "outputs": [
    {
     "data": {
      "image/png": "[encoded data removed]",
      "text/plain": [
       "<Figure size 432x288 with 1 Axes>"
      ]
     },
     "metadata": {
      "needs_background": "dark"
     },
     "output_type": "display_data"
    }
   ],
   "source": [
    "fig = plt.figure()\n",
    "\n",
    "ax = fig.add_subplot(111)\n",
    "\n",
    "ax.plot(df[\"field.longitude\"], df[\"field.latitude\"])\n",
    "ax.set_xlabel('Longitude')\n",
    "ax.set_ylabel('Latitude')\n",
    "hp.plot_color()"
   ]
  },
  {
   "cell_type": "code",
   "execution_count": 4,
   "metadata": {},
   "outputs": [
    {
     "name": "stdout",
     "output_type": "stream",
     "text": [
      "meanLatitude:-119.820656\n",
      "meanLongitude:39.676525\n",
      "minvaluelong:-119.820807\n",
      "maxvaluelong:-119.820518\n",
      "minvaluelat:39.676452\n",
      "maxvaluelat:39.676589\n"
     ]
    }
   ],
   "source": [
    "mean_latitude = df[\"field.longitude\"].mean()\n",
    "mean_longitude= df[\"field.latitude\"].mean()\n",
    "minValueLong = df[\"field.longitude\"].min()\n",
    "maxValueLong = df[\"field.longitude\"].max()\n",
    "minValueLat = df[\"field.latitude\"].min()\n",
    "maxValueLat = df[\"field.latitude\"].max()\n",
    "print(\"meanLatitude:%.6f\" %mean_latitude)\n",
    "print(\"meanLongitude:%.6f\" %mean_longitude)\n",
    "print(\"minvaluelong:%.6f\" %minValueLong)\n",
    "print(\"maxvaluelong:%.6f\" %maxValueLong)\n",
    "print(\"minvaluelat:%.6f\" %minValueLat)\n",
    "print(\"maxvaluelat:%.6f\" %maxValueLat)"
   ]
  },
  {
   "cell_type": "code",
   "execution_count": 5,
   "metadata": {},
   "outputs": [
    {
     "data": {
      "text/plain": [
       "<matplotlib.collections.PathCollection at 0x7f3afd6c5c18>"
      ]
     },
     "execution_count": 5,
     "metadata": {},
     "output_type": "execute_result"
    },
    {
     "data": {
      "image/png": "[encoded data removed]",
      "text/plain": [
       "<Figure size 720x720 with 1 Axes>"
      ]
     },
     "metadata": {
      "needs_background": "light"
     },
     "output_type": "display_data"
    }
   ],
   "source": [
    "# Terrain Tiles from Stamen\n",
    "\n",
    "# Define image tiles\n",
    "tiler = Stamen('terrain')\n",
    "mercator = tiler.crs\n",
    "\n",
    "# Create figure\n",
    "fig = plt.figure(figsize=(10,10))\n",
    "ax = fig.add_subplot(1, 1, 1, projection=mercator)\n",
    "\n",
    "# Define the GPS window\n",
    "ax.set_extent([-119.8200, -119.8210, 39.6760, 39.6770],crs=ccrs.PlateCarree())\n",
    "\n",
    "# Download images with resolution\n",
    "resolution =12\n",
    "ax.add_image(tiler, resolution)\n",
    "\n",
    "# Plot the GPS tracks\n",
    "ax.scatter(df[\"field.longitude\"], df[\"field.latitude\"], c= df[\"field.longitude\"], cmap='magma', transform=ccrs.PlateCarree())"
   ]
  },
  {
   "cell_type": "code",
   "execution_count": null,
   "metadata": {},
   "outputs": [],
   "source": [
    "# Satellite Tiles from Google\n",
    "\n",
    "# Define image tiles\n",
    "tiler = GoogleTiles(style='satellite')\n",
    "mercator = tiler.crs\n",
    "\n",
    "# Create figure\n",
    "fig = plt.figure(figsize=(10,10))\n",
    "ax = fig.add_subplot(1, 1, 1, projection=mercator)\n",
    "\n",
    "# Define the GPS window\n",
    "ax.set_extent([-119.8204, 39.6760, -119.8208, 39.6770],crs=ccrs.PlateCarree())\n",
    "\n",
    "# Download images with resolution\n",
    "resolution = 18\n",
    "ax.add_image(tiler, resolution)\n",
    "\n",
    "# Plot the GPS tracks\n",
    "ax.scatter(df[\"field.longitude\"], df[\"field.latitude\"], c=df[\"field.longitude\"], cmap='magma', transform=ccrs.Geodetic())"
   ]
  },
  {
   "cell_type": "code",
   "execution_count": null,
   "metadata": {},
   "outputs": [],
   "source": [
    "# Street Tiles from Google\n",
    "\n",
    "# Define image tiles\n",
    "tiler = GoogleTiles(style='street')\n",
    "mercator = tiler.crs\n",
    "\n",
    "# Create figure\n",
    "fig = plt.figure(figsize=(10,10))\n",
    "ax = fig.add_subplot(1, 1, 1, projection=mercator)\n",
    "\n",
    "# Define the GPS window\n",
    "ax.set_extent([-119.82060, -119.8208, 39.67650, 39.67690], crs=ccrs.PlateCarree())\n",
    "\n",
    "# Download images with resolution\n",
    "resolution = 18\n",
    "ax.add_image(tiler, resolution)\n",
    "\n",
    "# Plot the GPS tracks\n",
    "ax.scatter(df[\"field.longitude\"], df[\"field.latitude\"], c=df[\"field.longitude\"], cmap='magma', transform=ccrs.Geodetic())"
   ]
  },
  {
   "cell_type": "markdown",
   "metadata": {},
   "source": [
    "### Measuring Distance"
   ]
  },
  {
   "cell_type": "code",
   "execution_count": 14,
   "metadata": {},
   "outputs": [],
   "source": [
    "def calculate_dst(origin, destination):\n",
    "    lat1, lon1 = origin\n",
    "    lat2, lon2 = destination\n",
    "    radius = 6371 * 1000 # meters\n",
    "\n",
    "    dlat = math.radians(lat2-lat1)\n",
    "    dlon = math.radians(lon2-lon1)\n",
    "    a = math.sin(dlat/2) **2 + math.cos(math.radians(lat1)) \\\n",
    "        * math.cos(math.radians(lat2)) * math.sin(dlon/2) **2\n",
    "    c = 2 * math.atan2(math.sqrt(a), math.sqrt(1-a))\n",
    "    d = radius * c\n",
    "\n",
    "    return d"
   ]
  },
  {
   "cell_type": "code",
   "execution_count": 17,
   "metadata": {},
   "outputs": [
    {
     "name": "stdout",
     "output_type": "stream",
     "text": [
      "1.2779171005367047\n"
     ]
    }
   ],
   "source": [
    "#10cm\n",
    "lat1 = 39.5394048; lat2 = 39.5394114; long1 = -119.8130651; long2 = -119.8130529\n",
    "print( calculate_dst((lat1, long1), (lat2, long2)) )"
   ]
  },
  {
   "cell_type": "code",
   "execution_count": 18,
   "metadata": {},
   "outputs": [
    {
     "name": "stdout",
     "output_type": "stream",
     "text": [
      "1.279403210844257\n"
     ]
    }
   ],
   "source": [
    "from geopy import distance\n",
    "\n",
    "coords_1 = (39.5394048, -119.8130651)\n",
    "coords_2 = (39.5394114, -119.8130529)\n",
    "\n",
    "print (distance.distance(coords_1, coords_2).m)"
   ]
  },
  {
   "cell_type": "code",
   "execution_count": 19,
   "metadata": {},
   "outputs": [
    {
     "name": "stdout",
     "output_type": "stream",
     "text": [
      "0.37685967028107026\n"
     ]
    }
   ],
   "source": [
    "#5cm\n",
    "lat1 = 39.5394067; lat2 = 39.5394074; long1 = -119.8130486; long2 = -119.8130529\n",
    "print(calculate_dst((lat1, long1), (lat2, long2)) )"
   ]
  },
  {
   "cell_type": "code",
   "execution_count": 21,
   "metadata": {},
   "outputs": [
    {
     "name": "stdout",
     "output_type": "stream",
     "text": [
      "0.2778033568972474\n"
     ]
    }
   ],
   "source": [
    "#2cm\n",
    "lat1 = 39.5394021; lat2 = 39.5394045; long1 = -119.813052; long2 = -119.8130529\n",
    "print( calculate_dst((lat1, long1), (lat2, long2)) )"
   ]
  },
  {
   "cell_type": "code",
   "execution_count": 22,
   "metadata": {},
   "outputs": [
    {
     "name": "stdout",
     "output_type": "stream",
     "text": [
      "0.4549629571360745\n"
     ]
    }
   ],
   "source": [
    "#1cm\n",
    "lat1 = 39.5393945; lat2 = 39.539392; long1 = -119.8130723; long2 = -119.8130765\n",
    "print( calculate_dst((lat1, long1), (lat2, long2)) )"
   ]
  },
  {
   "cell_type": "code",
   "execution_count": 23,
   "metadata": {},
   "outputs": [
    {
     "name": "stdout",
     "output_type": "stream",
     "text": [
      "3.0918001715150227\n"
     ]
    }
   ],
   "source": [
    "from geopy import distance\n",
    "\n",
    "coords_1 = (39.54644600, -119.81473767)\n",
    "coords_2 = (39.54646483, -119.81476417)\n",
    "\n",
    "print (distance.distance(coords_1, coords_2).m)"
   ]
  },
  {
   "cell_type": "code",
   "execution_count": 25,
   "metadata": {},
   "outputs": [
    {
     "name": "stdout",
     "output_type": "stream",
     "text": [
      "3.089804096509921\n"
     ]
    }
   ],
   "source": [
    "lat1 = 39.54644600; lat2 = 39.54646483; long1 = -119.81473767; long2 = -119.81476417\n",
    "print( calculate_dst((lat1, long1), (lat2, long2)) )"
   ]
  },
  {
   "cell_type": "markdown",
   "metadata": {},
   "source": [
    "The great-circle distance or orthodromic distance is the shortest distance between two points on the surface of a sphere, measured along the surface of the sphere (as opposed to a straight line through the sphere's interior). The distance between two points in Euclidean space is the length of a straight line between them, but on the sphere there are no straight lines. In spaces with curvature, straight lines are replaced by geodesics. Geodesics on the sphere are circles on the sphere whose centers coincide with the center of the sphere, and are called great circles : https://en.wikipedia.org/wiki/Great-circle_distance"
   ]
  },
  {
   "cell_type": "code",
   "execution_count": 26,
   "metadata": {},
   "outputs": [
    {
     "name": "stdout",
     "output_type": "stream",
     "text": [
      "3.0918001715150227\n"
     ]
    }
   ],
   "source": [
    "#12.7cm\n",
    "from geopy import distance\n",
    "coords_1 = (39.54644600, -119.81473767)\n",
    "coords_2 = (39.54646483, -119.81476417)\n",
    "\n",
    "print (distance.geodesic(coords_1, coords_2).meters)"
   ]
  },
  {
   "cell_type": "code",
   "execution_count": 27,
   "metadata": {},
   "outputs": [
    {
     "name": "stdout",
     "output_type": "stream",
     "text": [
      "0.16553440776179112\n"
     ]
    }
   ],
   "source": [
    "#2inches ; 5cm\n",
    "from geopy import distance\n",
    "coords_1 = (39.5470989, -119.8155829)\n",
    "coords_2 = (39.5470978, -119.8155816)\n",
    "\n",
    "print (distance.geodesic(coords_1, coords_2).meters)"
   ]
  },
  {
   "cell_type": "code",
   "execution_count": 28,
   "metadata": {},
   "outputs": [
    {
     "name": "stdout",
     "output_type": "stream",
     "text": [
      "0.2938252982147817\n"
     ]
    }
   ],
   "source": [
    "#1 feet ; 0.3048 meters ; 30.48cm\n",
    "\n",
    "from geopy import distance\n",
    "coords_1 = (39.5471612, -119.8156324)\n",
    "coords_2 = (39.5471634, -119.8156305)\n",
    "\n",
    "print (distance.geodesic(coords_1, coords_2).meters)"
   ]
  },
  {
   "cell_type": "code",
   "execution_count": 29,
   "metadata": {},
   "outputs": [
    {
     "name": "stdout",
     "output_type": "stream",
     "text": [
      "1.3169632272097933\n"
     ]
    }
   ],
   "source": [
    "#4 feet; 1.2192 meters ; 121.92\n",
    "from geopy import distance\n",
    "coords_1 = (39.547167, -119.8156188)\n",
    "coords_2 = (39.5471606, -119.8156317)\n",
    "\n",
    "print (distance.geodesic(coords_1, coords_2).meters)"
   ]
  },
  {
   "cell_type": "code",
   "execution_count": 30,
   "metadata": {},
   "outputs": [
    {
     "name": "stdout",
     "output_type": "stream",
     "text": [
      "0.10024599311443443\n"
     ]
    }
   ],
   "source": [
    "#3 inches ; 0.0762 meters; 7.62cm\n",
    "\n",
    "from geopy import distance\n",
    "coords_1 = (39.5471637, -119.8156282)\n",
    "coords_2 = (39.547164, -119.8156271)\n",
    "\n",
    "print (distance.geodesic(coords_1, coords_2).meters)"
   ]
  },
  {
   "cell_type": "code",
   "execution_count": 31,
   "metadata": {},
   "outputs": [
    {
     "name": "stdout",
     "output_type": "stream",
     "text": [
      "0.18590565457263297\n"
     ]
    }
   ],
   "source": [
    "#5 inches; 0.127 meters; 12.7 cm\n",
    "\n",
    "from geopy import distance\n",
    "coords_1 = (39.547163, -119.8156307)\n",
    "coords_2 = (39.5471638, -119.8156288)\n",
    "\n",
    "print (distance.geodesic(coords_1, coords_2).meters)"
   ]
  }
 ],
 "metadata": {
  "kernelspec": {
   "display_name": "Python 3",
   "language": "python",
   "name": "python3"
  },
  "language_info": {
   "codemirror_mode": {
    "name": "ipython",
    "version": 3
   },
   "file_extension": ".py",
   "mimetype": "text/x-python",
   "name": "python",
   "nbconvert_exporter": "python",
   "pygments_lexer": "ipython3",
   "version": "3.6.12"
  }
 },
 "nbformat": 4,
 "nbformat_minor": 4
}
