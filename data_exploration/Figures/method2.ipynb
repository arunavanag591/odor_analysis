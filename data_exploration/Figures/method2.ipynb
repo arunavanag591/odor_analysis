{
 "cells": [
  {
   "cell_type": "code",
   "execution_count": 28,
   "id": "concrete-withdrawal",
   "metadata": {},
   "outputs": [],
   "source": [
    "#dataframes\n",
    "import pandas as pd\n",
    "import h5py\n",
    "\n",
    "#speedup\n",
    "import multiprocessing as mp\n",
    "\n",
    "#suppress warnings\n",
    "import warnings\n",
    "warnings.simplefilter(action='ignore', category=FutureWarning)\n",
    "pd.TimeSeries = pd.Series \n",
    "\n",
    "#math\n",
    "import numpy as np\n",
    "import math as m\n",
    "from scipy.spatial.distance import cdist\n",
    "from scipy import signal\n",
    "\n",
    "#plots\n",
    "import pylab as plt\n",
    "import matplotlib.pyplot as plt\n",
    "from matplotlib.ticker import MaxNLocator\n",
    "import matplotlib\n",
    "from figurefirst import FigureLayout,mpl_functions\n",
    "import figurefirst\n",
    "import matplotlib.image as mpimg\n",
    "from mpl_toolkits.axes_grid1 import make_axes_locatable # for colorbar\n",
    "import seaborn as sns\n",
    "sns.set()\n",
    "sns.set_style(\"whitegrid\")\n",
    "import figurefirst as fifi\n",
    "from IPython.display import display,SVG\n",
    "\n",
    "#misc\n",
    "import cairosvg\n",
    "import time\n",
    "np.set_printoptions(suppress=True)\n",
    "# matplotlib.rcParams['font.family'] = [ 'sans-serif']"
   ]
  },
  {
   "cell_type": "code",
   "execution_count": 29,
   "id": "opening-manufacturer",
   "metadata": {},
   "outputs": [],
   "source": [
    "FS=7"
   ]
  },
  {
   "cell_type": "code",
   "execution_count": 30,
   "id": "wireless-lending",
   "metadata": {},
   "outputs": [
    {
     "data": {
      "image/png": "[encoded data removed]",
      "text/plain": [
       "<Figure size 595.276x841.89 with 1 Axes>"
      ]
     },
     "metadata": {},
     "output_type": "display_data"
    },
    {
     "data": {
      "image/png": "[encoded data removed]",
      "text/plain": [
       "<Figure size 595.276x841.89 with 1 Axes>"
      ]
     },
     "metadata": {},
     "output_type": "display_data"
    },
    {
     "data": {
      "image/png": "[encoded data removed]",
      "text/plain": [
       "<Figure size 595.276x841.89 with 1 Axes>"
      ]
     },
     "metadata": {},
     "output_type": "display_data"
    },
    {
     "data": {
      "image/png": "[encoded data removed]",
      "text/plain": [
       "<Figure size 595.276x841.89 with 1 Axes>"
      ]
     },
     "metadata": {},
     "output_type": "display_data"
    }
   ],
   "source": [
    "layout = fifi.svg_to_axes.FigureLayout('../../../Figure/Paper/method2.svg', \n",
    "                                       autogenlayers=True, make_mplfigures=True, hide_layers=[])"
   ]
  },
  {
   "cell_type": "code",
   "execution_count": 31,
   "id": "sunrise-jesus",
   "metadata": {},
   "outputs": [],
   "source": [
    "img1 = mpimg.imread('../../../Figure/Paper/MethodFigure02/JaleesaCropped.png')\n",
    "img2 = mpimg.imread('../../../Figure/Paper/MethodFigure02/topview.png')"
   ]
  },
  {
   "cell_type": "markdown",
   "id": "tracked-morning",
   "metadata": {},
   "source": [
    "### Panel 1\n"
   ]
  },
  {
   "cell_type": "code",
   "execution_count": 32,
   "id": "monthly-affiliate",
   "metadata": {},
   "outputs": [],
   "source": [
    "ax1=layout.axes[('fig1','a')]\n",
    "ax1.imshow(img1,aspect='auto',rasterized=True)\n",
    "ax1.grid(False)\n",
    "ax1.axes.axis('off')\n",
    "\n",
    "ax1.set_rasterization_zorder(-20)\n",
    "figurefirst.mpl_functions.set_fontsize(ax1, FS)\n",
    "layout.append_figure_to_layer(layout.figures['fig1'], 'fig1', cleartarget=True)\n",
    "layout.write_svg('../../../Figure/Paper/method2.svg')"
   ]
  },
  {
   "cell_type": "markdown",
   "id": "detected-timer",
   "metadata": {},
   "source": [
    "### Panel 2"
   ]
  },
  {
   "cell_type": "code",
   "execution_count": 33,
   "id": "several-allowance",
   "metadata": {},
   "outputs": [],
   "source": [
    "ax2=layout.axes[('fig2','b')]\n",
    "ax2.imshow(img2, aspect='auto', rasterized=True)\n",
    "ax2.grid(False)\n",
    "ax2.axes.axis('off')\n",
    "\n",
    "ax2.set_rasterization_zorder(-20)\n",
    "\n",
    "layout.append_figure_to_layer(layout.figures['fig2'], 'fig2', cleartarget=True)\n",
    "layout.write_svg('../../../Figure/Paper/method2.svg')"
   ]
  },
  {
   "cell_type": "markdown",
   "id": "continuing-absolute",
   "metadata": {},
   "source": [
    "### Panel 3\n"
   ]
  },
  {
   "cell_type": "code",
   "execution_count": 34,
   "id": "peripheral-influence",
   "metadata": {},
   "outputs": [],
   "source": [
    "odor=pd.read_hdf('~/Documents/Myfiles/DataAnalysis/data/Sprints/HighRes/Forest/ForestDataJuly_S1.h5')\n",
    "loc=pd.read_hdf('~/Documents/Myfiles/DataAnalysis/data/ForestSensorLocations.h5')\n",
    "\n",
    "from shapely.geometry import Point\n",
    "from geopy import distance\n",
    "import geopandas as gpd\n",
    "import utm\n",
    "import datetime as dt\n",
    "\n",
    "\n",
    "odor['geometry'] = odor.apply(lambda row: Point(row.lon, row.lat), axis=1)\n",
    "\n",
    "geodf = gpd.GeoDataFrame(odor)\n",
    "geodf.crs= {'init': 'epsg:4326'}\n",
    "# change the projection of geodf\n",
    "geodf = geodf.to_crs(\"+proj=utm +zone=11 +ellps=WGS84 +datum=WGS84 +units=m +no_def\")\n",
    "\n",
    "geodf[\"x\"] = geodf.geometry.apply(lambda row:row.x)\n",
    "geodf[\"y\"] = geodf.geometry.apply(lambda row:row.y)\n",
    "\n",
    "#source location to meters\n",
    "source =(39.252441,-119.878037)\n",
    "u =  utm.from_latlon(39.252441, -119.878037)\n",
    "xfromsrc= geodf.x-u[0]\n",
    "geodf.insert(4,'xsrc',xfromsrc) \n",
    "\n",
    "yfromsrc = geodf.y-u[1]\n",
    "geodf.insert(5,'ysrc', yfromsrc)"
   ]
  },
  {
   "cell_type": "code",
   "execution_count": 35,
   "id": "occasional-catch",
   "metadata": {},
   "outputs": [],
   "source": [
    "traj=geodf\n",
    "traj.xsrc=traj.xsrc+8\n",
    "traj.ysrc = traj.ysrc-8\n",
    "\n",
    "trajectory=pd.DataFrame()\n",
    "trajectory['xsrc']=traj.xsrc[100000:150000]\n",
    "trajectory['ysrc']=traj.ysrc[100000:150000]\n",
    "trajectory['odor']=traj.odor[100000:150000]"
   ]
  },
  {
   "cell_type": "code",
   "execution_count": 36,
   "id": "processed-brief",
   "metadata": {},
   "outputs": [],
   "source": [
    "ax=layout.axes[('fig3','c')]\n",
    "\n",
    "ax.scatter(loc.xsrc, loc.ysrc, marker ='x', s=15, color=\"blue\", \n",
    "           label=\"Wind Sensors\", rasterized=True)\n",
    "ax.scatter(0,0, s=30, color=\"red\", label=\"Odor Source\", rasterized=True)\n",
    "ax.scatter(trajectory.xsrc, trajectory.ysrc, \n",
    "           c=trajectory.odor, cmap='inferno', s=0.01,alpha=0.2, rasterized=True)\n",
    "ax.grid(False)\n",
    "ax.ticklabel_format(useOffset=False)\n",
    "ax.autoscale(enable=True)\n",
    "ax.set_xlim(-30,20)\n",
    "# ax.set_xlabel('Longitude, m',labelpad=-7)\n",
    "# ax.set_ylabel('Latitude, m', labelpad=-7)\n",
    "mpl_functions.adjust_spines(ax,['left','bottom'],\n",
    "                           spine_locations={'left': 5, 'bottom': 5}, \n",
    "                           smart_bounds=True,\n",
    "                           yticks=[-35,0],\n",
    "                           xticks=[-30,20],\n",
    "                           linewidth=1)\n",
    "\n",
    "\n",
    "ax.set_rasterization_zorder(-20)\n",
    "\n",
    "figurefirst.mpl_functions.set_fontsize(ax, FS)\n",
    "\n",
    "layout.append_figure_to_layer(layout.figures['fig3'], 'fig3', cleartarget=True)\n",
    "layout.write_svg('../../../Figure/Paper/method2.svg')\n"
   ]
  },
  {
   "cell_type": "markdown",
   "id": "referenced-ballot",
   "metadata": {},
   "source": [
    "#### Panel 4"
   ]
  },
  {
   "cell_type": "code",
   "execution_count": null,
   "id": "vietnamese-machine",
   "metadata": {},
   "outputs": [],
   "source": [
    "df = pd.read_hdf(\"~/Documents/Myfiles/DataAnalysis/data/WindData/Forest/windgpsdata.hdf\")\n",
    "time =df.time-df.time[0]\n",
    "df['time']=time"
   ]
  },
  {
   "cell_type": "code",
   "execution_count": null,
   "id": "competent-organic",
   "metadata": {},
   "outputs": [],
   "source": [
    "f, (ax1,ax2,ax3,ax4)=plt.subplots(4,1, figsize=(8,8))\n",
    "\n",
    "ax1.scatter(df.time,df.S2_1, label='Station01', c='sandybrown', edgecolors='none', alpha=0.2,s=4)\n",
    "ax2.scatter(df.time,df.S2_2, label='Station05', edgecolors='none', alpha=0.2, s=3)\n",
    "ax2.scatter(df.time,df.S2_3, label='Station06', edgecolors='none', alpha=0.2, s=3)\n",
    "ax2.scatter(df.time,df.S2_5, label='Station07', edgecolors='none', alpha=0.2, s=3)\n",
    "ax2.scatter(df.time,df.S2_6, label='Station08', edgecolors='none', alpha=0.2, s=3)\n",
    "ax2.scatter(df.time,df.S2_8, label='Station09', edgecolors='none', alpha=0.2, s=3)\n",
    "ax2.scatter(df.time,df.S2_9, c='green', label='Station09', edgecolors='none', alpha=0.2, s=3)\n",
    "\n",
    "ax3.scatter(df.time ,df.D_1, label='Station01',  c='sandybrown', edgecolors='none', alpha=0.2,s=4)\n",
    "ax4.scatter(df.time ,df.D_2, label='Station05', edgecolors='none', alpha=0.2,s=3)\n",
    "ax4.scatter(df.time ,df.D_3, label='Station06', edgecolors='none', alpha=0.2, s=3)\n",
    "ax4.scatter(df.time ,df.D_5, label='Station07', edgecolors='none', alpha=0.2, s=3)\n",
    "ax4.scatter(df.time ,df.D_6, label='Station08', edgecolors='none', alpha=0.2,s=3)\n",
    "ax4.scatter(df.time ,df.D_8, label='Station09', edgecolors='none', alpha=0.2,s=3)\n",
    "ax4.scatter(df.time ,df.D_9, c='green', label='Station09', edgecolors='none', alpha=0.2, s=3)\n",
    "\n",
    "\n",
    "# ax1.set_xlim(0,80000)\n",
    "# ax2.set_xlim(0,80000)\n",
    "# ax3.set_xlim(0,80000)\n",
    "# ax4.set_xlim(0,80000)\n",
    "ax1.grid(False)\n",
    "ax2.grid(False)\n",
    "ax3.grid(False)\n",
    "ax4.grid(False)\n",
    "\n",
    "\n",
    "mpl_functions.adjust_spines(ax1,['left'],\n",
    "                            spine_locations={}, \n",
    "                            smart_bounds=True,\n",
    "#                             xticks=[0,2000,4000,6000,8000,10000,12000],\n",
    "                            yticks=[0,5,10],\n",
    "                            linewidth=1)\n",
    "                                 \n",
    "mpl_functions.adjust_spines(ax2,['left'],\n",
    "                            spine_locations={}, \n",
    "                            smart_bounds=True,\n",
    "#                             xticks=[0,40000,80000],\n",
    "                            yticks=[0,5,10],\n",
    "                            linewidth=1)\n",
    "\n",
    "\n",
    "mpl_functions.adjust_spines(ax3,['left'],\n",
    "                            spine_locations={}, \n",
    "                            smart_bounds=True,\n",
    "#                             xticks=[0,2000,4000,6000,8000,10000,12000],\n",
    "#                             xticks=[0,95000],\n",
    "                            yticks=[0,180,360],\n",
    "                            linewidth=1)\n",
    "                                 \n",
    "mpl_functions.adjust_spines(ax4,['left','bottom'],\n",
    "                            spine_locations={}, \n",
    "                            smart_bounds=True,\n",
    "                            xticks=[0,7000,14000],\n",
    "                            yticks=[0,180,360],\n",
    "                            linewidth=1)\n",
    "ax1.set_title('Forest Wind Speed')\n",
    "ax3.set_title('Forest Wind Direction')\n",
    "# ax1.set_ylabel('Direction, Deg')\n",
    "# ax2.set_ylabel('Direction, Deg')\n",
    "ax4.set_xlabel('Time, s')\n",
    "f.text(-0.04, 0.75, 'Speed, m/s', va='center', rotation='vertical')\n",
    "f.text(-0.04, 0.3, 'Direction, deg', va='center', rotation='vertical')\n",
    "\n",
    "f.text(0.3,0.67, '6 wind sensors overlaid', ha='center', rotation='horizontal')\n",
    "\n",
    "f.tight_layout(pad=1)\n",
    "figurefirst.mpl_functions.set_fontsize(f, 18)"
   ]
  }
 ],
 "metadata": {
  "kernelspec": {
   "display_name": "Python 3",
   "language": "python",
   "name": "python3"
  },
  "language_info": {
   "codemirror_mode": {
    "name": "ipython",
    "version": 3
   },
   "file_extension": ".py",
   "mimetype": "text/x-python",
   "name": "python",
   "nbconvert_exporter": "python",
   "pygments_lexer": "ipython3",
   "version": "3.8.7"
  }
 },
 "nbformat": 4,
 "nbformat_minor": 5
}
