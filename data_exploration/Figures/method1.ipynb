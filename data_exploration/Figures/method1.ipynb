{
 "cells": [
  {
   "cell_type": "code",
   "execution_count": 1,
   "id": "virgin-melissa",
   "metadata": {},
   "outputs": [],
   "source": [
    "#dataframes\n",
    "import pandas as pd\n",
    "import h5py\n",
    "\n",
    "#speedup\n",
    "import multiprocessing as mp\n",
    "\n",
    "#suppress warnings\n",
    "import warnings\n",
    "warnings.simplefilter(action='ignore', category=FutureWarning)\n",
    "pd.TimeSeries = pd.Series \n",
    "\n",
    "#math\n",
    "import numpy as np\n",
    "import math as m\n",
    "from scipy.spatial.distance import cdist\n",
    "from scipy import signal\n",
    "\n",
    "#plots\n",
    "import pylab as plt\n",
    "import matplotlib.pyplot as plt\n",
    "from matplotlib.ticker import MaxNLocator\n",
    "import matplotlib\n",
    "from figurefirst import FigureLayout,mpl_functions\n",
    "import figurefirst\n",
    "import matplotlib.image as mpimg\n",
    "from mpl_toolkits.axes_grid1 import make_axes_locatable # for colorbar\n",
    "import seaborn as sns\n",
    "sns.set()\n",
    "sns.set_style(\"whitegrid\")\n",
    "import figurefirst as fifi\n",
    "from IPython.display import display,SVG\n",
    "\n",
    "#misc\n",
    "import cairosvg\n",
    "import time\n",
    "np.set_printoptions(suppress=True)\n",
    "# matplotlib.rcParams['font.family'] = [ 'sans-serif']"
   ]
  },
  {
   "cell_type": "code",
   "execution_count": 66,
   "id": "conditional-silly",
   "metadata": {},
   "outputs": [],
   "source": [
    "FS=7"
   ]
  },
  {
   "cell_type": "code",
   "execution_count": 67,
   "id": "headed-roman",
   "metadata": {},
   "outputs": [
    {
     "data": {
      "image/png": "[encoded data removed]",
      "text/plain": [
       "<Figure size 595.276x841.89 with 2 Axes>"
      ]
     },
     "metadata": {},
     "output_type": "display_data"
    },
    {
     "data": {
      "image/png": "[encoded data removed]",
      "text/plain": [
       "<Figure size 595.276x841.89 with 1 Axes>"
      ]
     },
     "metadata": {},
     "output_type": "display_data"
    },
    {
     "data": {
      "image/png": "[encoded data removed]",
      "text/plain": [
       "<Figure size 595.276x841.89 with 2 Axes>"
      ]
     },
     "metadata": {},
     "output_type": "display_data"
    },
    {
     "data": {
      "image/png": "[encoded data removed]",
      "text/plain": [
       "<Figure size 595.276x841.89 with 1 Axes>"
      ]
     },
     "metadata": {},
     "output_type": "display_data"
    },
    {
     "data": {
      "image/png": "[encoded data removed]",
      "text/plain": [
       "<Figure size 595.276x841.89 with 2 Axes>"
      ]
     },
     "metadata": {},
     "output_type": "display_data"
    },
    {
     "data": {
      "image/png": "[encoded data removed]",
      "text/plain": [
       "<Figure size 595.276x841.89 with 2 Axes>"
      ]
     },
     "metadata": {},
     "output_type": "display_data"
    }
   ],
   "source": [
    "layout = fifi.svg_to_axes.FigureLayout('../../../Figure/Paper/method1.svg', \n",
    "                                       autogenlayers=True, make_mplfigures=True, hide_layers=[])"
   ]
  },
  {
   "cell_type": "markdown",
   "id": "killing-scenario",
   "metadata": {},
   "source": [
    "### Setup Figure Panel A,B"
   ]
  },
  {
   "cell_type": "code",
   "execution_count": 54,
   "id": "transsexual-sympathy",
   "metadata": {},
   "outputs": [],
   "source": [
    "img1 = mpimg.imread('../../../Figure/Paper/MethodFigure01/SetupDesert.png')\n",
    "img2 = mpimg.imread('../../../Figure/Paper/MethodFigure01/Setup.jpg')\n",
    "\n",
    "ax1=layout.axes[('fig1','a')]\n",
    "ax1.imshow(img1,aspect='auto',rasterized=True)\n",
    "ax1.grid(False)\n",
    "ax1.axes.axis('off')\n",
    "\n",
    "ax2=layout.axes[('fig1','b')]\n",
    "ax2.imshow(img2,aspect='auto', rasterized=True)\n",
    "ax2.grid(False)\n",
    "ax2.axes.axis('off')\n",
    "\n",
    "ax1.set_rasterization_zorder(-20)\n",
    "ax2.set_rasterization_zorder(-20)\n",
    "figurefirst.mpl_functions.set_fontsize(ax1, FS)\n",
    "\n",
    "layout.append_figure_to_layer(layout.figures['fig1'], 'fig1', cleartarget=True)\n",
    "layout.write_svg('../../../Figure/Paper/method1.svg')"
   ]
  },
  {
   "cell_type": "markdown",
   "id": "living-guess",
   "metadata": {},
   "source": [
    "### Sensor Location - Panel C"
   ]
  },
  {
   "cell_type": "code",
   "execution_count": 55,
   "id": "intelligent-movie",
   "metadata": {},
   "outputs": [],
   "source": [
    "traj = pd.read_hdf(\"~/Documents/Myfiles/DataAnalysis/data/TrajectoryInt.h5\")\n",
    "loc=pd.read_hdf('~/Documents/Myfiles/DataAnalysis/data/WindstationLocations.h5')\n",
    "\n",
    "# f,ax=plt.subplots(1,1)\n",
    "ax=layout.axes[('figlocation','latlon')]\n",
    "ax.scatter(0, 0, s=30, color=\"red\", rasterized=True)\n",
    "ax.scatter(loc.xsrc,loc.ysrc,marker='x',s=15, color=\"blue\", rasterized=True)\n",
    "ax.scatter(traj.xsrc,traj.ysrc,c=traj.odor,cmap='inferno', s=0.2,alpha=0.2,rasterized=True)\n",
    "\n",
    "ax.set_rasterization_zorder(-20)\n",
    "\n",
    "ax.set_xlabel('Longitude, m',labelpad=-7)\n",
    "ax.set_ylabel('Latitude, m', labelpad=-7)\n",
    "ax.ticklabel_format(useOffset=False)\n",
    "\n",
    "ax.set_ylim(-40,50)\n",
    "ax.grid(False)\n",
    "ax.autoscale(enable=True)\n",
    "mpl_functions.adjust_spines(ax,['left','bottom'],\n",
    "                           spine_locations={'left': 5, 'bottom': 5}, \n",
    "                           smart_bounds=True,\n",
    "                           yticks=[-40,0,50],\n",
    "                           xticks=[-40,50],\n",
    "                           linewidth=0.5)\n",
    "\n",
    "figurefirst.mpl_functions.set_fontsize(ax, FS)\n",
    "\n",
    "layout.append_figure_to_layer(layout.figures['figlocation'], 'figlocation', cleartarget=True)\n",
    "layout.write_svg('../../../Figure/Paper/method1.svg')\n",
    "plt.close()"
   ]
  },
  {
   "cell_type": "markdown",
   "id": "contemporary-jamaica",
   "metadata": {},
   "source": [
    "### Histogram Plots - Panel E"
   ]
  },
  {
   "cell_type": "code",
   "execution_count": 56,
   "id": "oriented-million",
   "metadata": {},
   "outputs": [
    {
     "name": "stderr",
     "output_type": "stream",
     "text": [
      "<ipython-input-56-565e96c9c08c>:14: MatplotlibDeprecationWarning: The 'nonposy' parameter of __init__() has been renamed 'nonpositive' since Matplotlib 3.3; support for the old name will be dropped two minor releases later.\n",
      "  ax1.set_yscale('log', nonposy='clip')\n",
      "<ipython-input-56-565e96c9c08c>:16: MatplotlibDeprecationWarning: The 'nonposy' parameter of __init__() has been renamed 'nonpositive' since Matplotlib 3.3; support for the old name will be dropped two minor releases later.\n",
      "  ax2.set_yscale('log', nonposy='clip')\n"
     ]
    }
   ],
   "source": [
    "dir = '~/Documents/Myfiles/DataAnalysis/data/Sprints/HighRes/'\n",
    "df1 = pd.read_hdf(dir+'Windy/WindyMASigned.h5')\n",
    "df2 = pd.read_hdf(dir+'NotWindy/NotWindyMASigned.h5')\n",
    "\n",
    "# f,(ax1,ax2)=plt.subplots(2,1)\n",
    "ax1=layout.axes[('fighist','hist1')]\n",
    "ax2=layout.axes[('fighist','hist2')]\n",
    "\n",
    "n, bins, patches = ax1.hist((df1.odor), 20, density=True, facecolor='#1f77b4', alpha=0.75, rasterized=True)\n",
    "n, bins, patches = ax2.hist((df2.odor), 20, density=True, facecolor='#1f77b4', alpha=0.75, rasterized=True)\n",
    "\n",
    "ax1.set_rasterization_zorder(-20)\n",
    "ax2.set_rasterization_zorder(-20)\n",
    "ax1.set_yscale('log', nonposy='clip')\n",
    "ax1.minorticks_off()\n",
    "ax2.set_yscale('log', nonposy='clip')\n",
    "ax2.minorticks_off()\n",
    "\n",
    "ax1.grid(False)\n",
    "ax2.grid(False)\n",
    "ax1.axvline(4.5,c='red',linestyle='--', alpha=0.5)\n",
    "ax2.axvline(4.5,c='red',linestyle='--', alpha=0.5)\n",
    "\n",
    "\n",
    "\n",
    "\n",
    "mpl_functions.adjust_spines(ax1,['left'],\n",
    "                           spine_locations={'left': 5, 'bottom': 5}, \n",
    "                           smart_bounds=True,\n",
    "                           yticks=[0.001,0.1,10],\n",
    "                           linewidth=0.5)\n",
    "mpl_functions.adjust_spines(ax2,['left','bottom'],\n",
    "                           spine_locations={'left': 5, 'bottom': 5}, \n",
    "                           smart_bounds=True,\n",
    "                           yticks=[0.001,10],\n",
    "                           xticks=[0,5,10],\n",
    "                           linewidth=0.5)\n",
    "\n",
    "# ax1.set_xlabel('Odor Concentration, v')\n",
    "# ax1.set_ylabel('Density', labelpad=-7)\n",
    "ax2.set_ylabel('Density', labelpad=-7)\n",
    "ax2.set_xlabel('Odor Concentration, v', labelpad=2)\n",
    "\n",
    "figurefirst.mpl_functions.set_fontsize(ax1, FS)\n",
    "figurefirst.mpl_functions.set_fontsize(ax2, FS)\n",
    "layout.append_figure_to_layer(layout.figures['fighist'], 'fighist', cleartarget=True)\n",
    "layout.write_svg('../../../Figure/Paper/method1.svg')"
   ]
  },
  {
   "cell_type": "markdown",
   "id": "positive-celebrity",
   "metadata": {},
   "source": [
    "### Wind Sensor - Panel D"
   ]
  },
  {
   "cell_type": "code",
   "execution_count": 57,
   "id": "european-transfer",
   "metadata": {},
   "outputs": [],
   "source": [
    "df1 = pd.read_hdf(\"~/Documents/Myfiles/DataAnalysis/data/DesertWind/20201020_172919_windy_b_data.hdf\")\n",
    "df2 = pd.read_hdf(\"~/Documents/Myfiles/DataAnalysis/data/DesertWind/20201020_19591_windy_a_data.hdf\")\n",
    "df3 = pd.read_hdf(\"~/Documents/Myfiles/DataAnalysis/data/DesertWind/20201020_172458_windy_d_data.hdf\")\n",
    "df4 = pd.read_hdf(\"~/Documents/Myfiles/DataAnalysis/data/DesertWind/20201020_17112_windy_e_data.hdf\")\n",
    "df5 = pd.read_hdf(\"~/Documents/Myfiles/DataAnalysis/data/DesertWind/20201020_17327_windy_f_data.hdf\")\n",
    "df6 = pd.read_hdf(\"~/Documents/Myfiles/DataAnalysis/data/DesertWind/20201020_171735_windy_g_data.hdf\")\n",
    "df7 = pd.read_hdf(\"~/Documents/Myfiles/DataAnalysis/data/DesertWind/20201020_171353_windy_h_data.hdf\")\n",
    "df8 = pd.read_hdf(\"~/Documents/Myfiles/DataAnalysis/data/DesertWind/20201020_172648_windy_i_data.hdf\")\n",
    "\n",
    "dt=df1.time_epoch.iloc[1]-df1.time_epoch.iloc[0]\n",
    "\n",
    "arr_dat = [df1,df3,df4,df5,df6,df7,df8]\n",
    "for i in range(len(arr_dat)):\n",
    "    dataframe = arr_dat[i]\n",
    "    time = []\n",
    "    time.append(0)\n",
    "    for j in range(1,len(arr_dat[i])):\n",
    "        time.append(time[j-1]+dt)\n",
    "\n",
    "    arr_dat[i]['time'] = time     "
   ]
  },
  {
   "cell_type": "code",
   "execution_count": 58,
   "id": "cooked-audience",
   "metadata": {},
   "outputs": [],
   "source": [
    "\n",
    "ax1=layout.axes[('figws','ws1')]\n",
    "ax2=layout.axes[('figws','ws2')]\n",
    "\n",
    "\n",
    "ax1.scatter(df1.time,df1.S2, c='darkorange',edgecolors='none', alpha=0.2,s=4, rasterized=True)\n",
    "ax2.scatter(df3.time,df3.S2, edgecolors='none', alpha=0.2, s=3, rasterized=True)\n",
    "ax2.scatter(df4.time,df4.S2, edgecolors='none', alpha=0.2, s=3, rasterized=True)\n",
    "ax2.scatter(df5.time,df5.S2, edgecolors='none', alpha=0.2, s=3, rasterized=True)\n",
    "# ax2.scatter(df6.time,df6.S2, edgecolors='none', alpha=0.2, s=3, rasterized=True)\n",
    "# ax2.scatter(df7.time,df7.S2, edgecolors='none', alpha=0.2, s=3, rasterized=True)\n",
    "# ax2.scatter(df8.time,df8.S2, c='green', edgecolors='none', alpha=0.2, s=3, rasterized=True)\n",
    "\n",
    "\n",
    "ax1.set_xlim(0,80000)\n",
    "ax2.set_xlim(0,80000)\n",
    "\n",
    "ax1.grid(False)\n",
    "ax2.grid(False)\n",
    "ax1.set_rasterization_zorder(-20)\n",
    "ax2.set_rasterization_zorder(-20)\n",
    "\n",
    "mpl_functions.adjust_spines(ax1,['left'],\n",
    "                            spine_locations={}, \n",
    "                            smart_bounds=True,\n",
    "#                             xticks=[0,2000,4000,6000,8000,10000,12000],\n",
    "                            yticks=[0,4,8],\n",
    "                            linewidth=0.5)\n",
    "                                 \n",
    "mpl_functions.adjust_spines(ax2,['left'],\n",
    "                            spine_locations={}, \n",
    "                            smart_bounds=True,\n",
    "                            xticks=[0,40000,80000],\n",
    "                            yticks=[0,4,8],\n",
    "                            linewidth=0.5)\n",
    "\n",
    "ax1.axvspan(0, 47839,  alpha=0.4, color='lightsteelblue')\n",
    "ax1.axvspan(47839,80201,  alpha=0.4, color='grey')\n",
    "\n",
    "ax1.set_title('Desert Wind Speed',pad=2)\n",
    "\n",
    "\n",
    "\n",
    "\n",
    "figurefirst.mpl_functions.set_fontsize(ax1, FS)\n",
    "figurefirst.mpl_functions.set_fontsize(ax2, FS)\n",
    "\n",
    "layout.append_figure_to_layer(layout.figures['figws'], 'figws', cleartarget=True)\n",
    "\n",
    "layout.write_svg('../../../Figure/Paper/method1.svg')\n"
   ]
  },
  {
   "cell_type": "code",
   "execution_count": 59,
   "id": "documented-constant",
   "metadata": {},
   "outputs": [],
   "source": [
    "# f,(ax3,ax4)=plt.subplots(2,1)\n",
    "ax3=layout.axes[('figwd','wd1')]\n",
    "ax4=layout.axes[('figwd','wd2')]\n",
    "\n",
    "ax3.scatter(df1.time ,df1.D, label='Station01', c='darkorange', edgecolors='none', alpha=0.2,s=4, rasterized=True)\n",
    "ax4.scatter(df3.time ,df3.D, label='Station05', edgecolors='none', alpha=0.2,s=3, rasterized=True)\n",
    "ax4.scatter(df4.time ,df4.D, label='Station06', edgecolors='none', alpha=0.2, s=3, rasterized=True)\n",
    "ax4.scatter(df5.time ,df5.D, label='Station07', edgecolors='none', alpha=0.2, s=3, rasterized=True)\n",
    "# ax4.scatter(df6.time ,df6.D, label='Station08', edgecolors='none', alpha=0.2,s=3, rasterized=True)\n",
    "# ax4.scatter(df7.time ,df7.D, label='Station09', edgecolors='none', alpha=0.2,s=3, rasterized=True)\n",
    "# ax4.scatter(df8.time ,df8.D, c='green', label='Station09', edgecolors='none', alpha=0.2, s=3, rasterized=True)\n",
    "\n",
    "ax3.set_rasterization_zorder(-20)\n",
    "ax4.set_rasterization_zorder(-20)\n",
    "ax3.set_xlim(0,80000)\n",
    "ax4.set_xlim(0,80000)\n",
    "ax3.grid(False)\n",
    "ax4.grid(False)\n",
    "\n",
    "mpl_functions.adjust_spines(ax3,['left'],\n",
    "                            spine_locations={'left': 5,}, \n",
    "                            smart_bounds=True,\n",
    "                            xticks=[0,95000],\n",
    "                            yticks=[0,180,360],\n",
    "                            linewidth=0.5,\n",
    "                           )\n",
    "                                 \n",
    "mpl_functions.adjust_spines(ax4,['left','bottom'],\n",
    "                            spine_locations={'left': 5, 'bottom': 5}, \n",
    "                            smart_bounds=True,\n",
    "                            xticks=[0,40000,80000],\n",
    "                            yticks=[0,180,360],\n",
    "                            linewidth=0.5)\n",
    "\n",
    "\n",
    "ax3.set_title('Desert Wind Direction',pad=2)\n",
    "ax4.set_xlabel('Time, s', labelpad=2)\n",
    "\n",
    "\n",
    "\n",
    "figurefirst.mpl_functions.set_fontsize(ax3, FS)\n",
    "figurefirst.mpl_functions.set_fontsize(ax4, FS)\n",
    "\n",
    "layout.append_figure_to_layer(layout.figures['figwd'], 'figwd', cleartarget=True)\n",
    "layout.write_svg('../../../Figure/Paper/method1.svg')"
   ]
  },
  {
   "cell_type": "markdown",
   "id": "oriented-mills",
   "metadata": {},
   "source": [
    "### Odor Signal - Panel F"
   ]
  },
  {
   "cell_type": "code",
   "execution_count": 68,
   "id": "hearing-estonia",
   "metadata": {},
   "outputs": [],
   "source": [
    "df = pd.read_hdf(\"~/Documents/Myfiles/DataAnalysis/data/TrajectoryInt.h5\")\n",
    "\n",
    "ax=layout.axes[('fig5','f')]\n",
    "ax.plot(df.time,df.odor, c='#1f77b4', linewidth=0.5)\n",
    "ax.set_xlim(130,150)\n",
    "ax.grid(False)\n",
    "ax.set_rasterization_zorder(-20)\n",
    "mpl_functions.adjust_spines(ax,['left','bottom'],\n",
    "                            spine_locations={'left': 5, 'bottom': 5}, \n",
    "                            smart_bounds=True,\n",
    "                            xticks=[130,140,150],\n",
    "                            yticks=[0,5,10],\n",
    "                            linewidth=0.5)\n",
    "ax.axhline(4.5, linestyle='--', c='red')\n",
    "ax.text(146.5,5,'Odor\\nThreshold>4.5')\n",
    "\n",
    "\n",
    "ax.set_xticklabels([0,1,2])\n",
    "ax.set_xlabel('Time, s', labelpad=2)\n",
    "ax.set_ylabel('Odor, v', labelpad=2)\n",
    "ax.axvspan(136.35, 137.3,  alpha=0.2, color='red')\n",
    "ax.axvspan(142,145.5,  alpha=0.2, color='green')\n",
    "\n",
    "figurefirst.mpl_functions.set_fontsize(ax, FS)\n",
    "\n",
    "layout.append_figure_to_layer(layout.figures['fig5'], 'fig5', cleartarget=True)\n",
    "layout.write_svg('../../../Figure/Paper/method1.svg')"
   ]
  },
  {
   "cell_type": "code",
   "execution_count": 62,
   "id": "moderate-router",
   "metadata": {},
   "outputs": [],
   "source": [
    "# display(SVG('../../Figure/Paper/method1.svg'))"
   ]
  },
  {
   "cell_type": "code",
   "execution_count": 3,
   "id": "detailed-julian",
   "metadata": {},
   "outputs": [],
   "source": [
    "cairosvg.svg2pdf(url='../../../Figure/Paper/method1.svg', write_to='../../../Figure/Paper/method1.pdf')"
   ]
  },
  {
   "cell_type": "code",
   "execution_count": null,
   "id": "joint-musician",
   "metadata": {},
   "outputs": [],
   "source": []
  }
 ],
 "metadata": {
  "kernelspec": {
   "display_name": "Python 3",
   "language": "python",
   "name": "python3"
  },
  "language_info": {
   "codemirror_mode": {
    "name": "ipython",
    "version": 3
   },
   "file_extension": ".py",
   "mimetype": "text/x-python",
   "name": "python",
   "nbconvert_exporter": "python",
   "pygments_lexer": "ipython3",
   "version": "3.8.7"
  }
 },
 "nbformat": 4,
 "nbformat_minor": 5
}
