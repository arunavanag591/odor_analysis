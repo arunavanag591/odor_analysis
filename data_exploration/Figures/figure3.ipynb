{
 "cells": [
  {
   "cell_type": "code",
   "execution_count": 1,
   "id": "reflected-deposit",
   "metadata": {},
   "outputs": [],
   "source": [
    "#dataframes\n",
    "import pandas as pd\n",
    "import h5py\n",
    "\n",
    "#speedup\n",
    "import multiprocessing as mp\n",
    "\n",
    "#suppress warnings\n",
    "import warnings\n",
    "warnings.simplefilter(action='ignore', category=FutureWarning)\n",
    "pd.TimeSeries = pd.Series \n",
    "\n",
    "#math\n",
    "import numpy as np\n",
    "import math as m\n",
    "from scipy.spatial.distance import cdist\n",
    "from scipy import signal\n",
    "\n",
    "#plots\n",
    "import pylab as plt\n",
    "import matplotlib.pyplot as plt\n",
    "from matplotlib.ticker import MaxNLocator\n",
    "import matplotlib\n",
    "from figurefirst import FigureLayout,mpl_functions\n",
    "import figurefirst\n",
    "import matplotlib.image as mpimg\n",
    "from mpl_toolkits.axes_grid1 import make_axes_locatable # for colorbar\n",
    "import seaborn as sns\n",
    "sns.set()\n",
    "sns.set_style(\"whitegrid\")\n",
    "import figurefirst as fifi\n",
    "from IPython.display import display,SVG\n",
    "\n",
    "#misc\n",
    "import cairosvg\n",
    "import time\n",
    "np.set_printoptions(suppress=True)\n",
    "# matplotlib.rcParams['font.family'] = [ 'sans-serif']\n",
    "FS=7"
   ]
  },
  {
   "cell_type": "code",
   "execution_count": 2,
   "id": "latter-medicare",
   "metadata": {},
   "outputs": [],
   "source": [
    "import fly_plot_lib.plot as fpl\n",
    "from plot_utility import colorbar"
   ]
  },
  {
   "cell_type": "code",
   "execution_count": 3,
   "id": "round-newman",
   "metadata": {},
   "outputs": [
    {
     "data": {
      "image/png": "[encoded data removed]",
      "text/plain": [
       "<Figure size 595.276x841.89 with 6 Axes>"
      ]
     },
     "metadata": {},
     "output_type": "display_data"
    },
    {
     "data": {
      "image/png": "[encoded data removed]",
      "text/plain": [
       "<Figure size 595.276x841.89 with 3 Axes>"
      ]
     },
     "metadata": {},
     "output_type": "display_data"
    },
    {
     "data": {
      "image/png": "[encoded data removed]",
      "text/plain": [
       "<Figure size 595.276x841.89 with 1 Axes>"
      ]
     },
     "metadata": {},
     "output_type": "display_data"
    },
    {
     "data": {
      "image/png": "[encoded data removed]",
      "text/plain": [
       "<Figure size 595.276x841.89 with 1 Axes>"
      ]
     },
     "metadata": {},
     "output_type": "display_data"
    }
   ],
   "source": [
    "layout = fifi.svg_to_axes.FigureLayout('../../../Figure/Paper/fig3.svg',\n",
    "                                           autogenlayers=True, make_mplfigures=True, hide_layers=[])"
   ]
  },
  {
   "cell_type": "markdown",
   "id": "german-biotechnology",
   "metadata": {},
   "source": [
    "### Panel A"
   ]
  },
  {
   "cell_type": "code",
   "execution_count": 4,
   "id": "medieval-congress",
   "metadata": {},
   "outputs": [
    {
     "name": "stderr",
     "output_type": "stream",
     "text": [
      "2022-10-27 13:08:39,399 [INFO] Note: NumExpr detected 16 cores but \"NUMEXPR_MAX_THREADS\" not set, so enforcing safe limit of 8.\n",
      "2022-10-27 13:08:39,400 [INFO] NumExpr defaulting to 8 threads.\n"
     ]
    }
   ],
   "source": [
    "dir = '~/Documents/Myfiles/DataAnalysis/data/Sprints/LowRes/'\n",
    "df = pd.read_hdf(dir+'NotWindy.h5')\n",
    "dt= df.master_time[1]-df.master_time[0]\n",
    "df = df[df['time'].between(100,300)]\n",
    "df.reset_index(inplace=True, drop=True) \n",
    "\n",
    "def streakline_container(eastwest,northsouth):\n",
    "\n",
    "    for i in range((len(eastwest))-1,-1, -1): \n",
    "        eastwest = np.resize(np.array([eastwest-df.corrected_u[i]*dt]),(1,i)).flatten() \n",
    "        northsouth = np.resize(np.array([northsouth-df.corrected_v[i]*dt]),(1,i)).flatten()\n",
    "        x.loc[i]=np.pad(eastwest, ((len(df)-len(eastwest)),0),'constant', constant_values=(0))\n",
    "        y.loc[i]=np.pad(northsouth, ((len(df)-len(northsouth)),0),'constant', constant_values=(0))\n",
    "\n",
    "def streakline_calculation(df):\n",
    "    et = [np.sum(df.corrected_u[j:])*dt for j in range(0,len(df))]\n",
    "    nt = [np.sum(df.corrected_v[j:])*dt for j in range(0,len(df))]\n",
    "    return et, nt\n",
    "\n",
    "def prepare_df(df):\n",
    "    df.pop(df.columns[0])\n",
    "    strings=[]\n",
    "    for i in range(len(df)-1,0,-1):\n",
    "        strings.append(\"p\"+str(i))\n",
    "    df.columns=strings\n",
    "    df.reset_index(inplace=True, drop=True) \n",
    "    return df\n",
    "\n",
    "    \n",
    "et, nt = streakline_calculation(df)\n",
    "\n",
    "strings=[]\n",
    "for i in range(len(df)):\n",
    "    strings.append(\"p\"+str(i))\n",
    "\n",
    "x=pd.DataFrame(columns=strings,index=range(len(df)))\n",
    "y=pd.DataFrame(columns=strings,index=range(len(df)))\n",
    "streakline_container(et,nt)\n",
    "x=prepare_df(x)\n",
    "y=prepare_df(y)"
   ]
  },
  {
   "cell_type": "code",
   "execution_count": 5,
   "id": "funded-binary",
   "metadata": {},
   "outputs": [],
   "source": [
    "ax=layout.axes[('fig1','sta')]\n",
    "i=779\n",
    "area = (np.arange(start = i, stop = 0 , step = -1)) #area\n",
    "ax.scatter(x.loc[i][x.loc[i]!=0],y.loc[i][y.loc[i]!=0], c='#febf6e', s=np.power(area,0.7), \n",
    "           edgecolors='none', rasterized=True)\n",
    "\n",
    "ax.plot(df.xsrc[i],df.ysrc[i],marker='*', markersize=11, c='green', rasterized=True)\n",
    "\n",
    "var = ax.scatter(df.xsrc[:i],df.ysrc[:i], c = df.odor[:i],\n",
    "                     cmap = 'inferno_r', vmin =0 , vmax = 10, s = 0.09,rasterized=True )       \n",
    "# c_bar(ax, var)\n",
    "ax.grid(False)\n",
    "ax.axes.axis('off')\n",
    "ax.autoscale(enable=True)\n",
    "ax.set_xlim(-5,15)\n",
    "ax.set_ylim(-5,25)\n",
    "\n",
    "# ax.text(-2, 20,\"t= \" + str('{:.4g}'.format(df.time[i]))+ \" s\")\n",
    "ax.set_rasterization_zorder(-20)\n",
    "figurefirst.mpl_functions.set_fontsize(ax,FS)\n",
    "layout.append_figure_to_layer(layout.figures['fig1'], 'fig1', cleartarget=True)\n",
    "layout.write_svg('../../../Figure/Paper/fig3.svg')\n",
    "    "
   ]
  },
  {
   "cell_type": "code",
   "execution_count": 6,
   "id": "personal-wayne",
   "metadata": {},
   "outputs": [],
   "source": [
    "ax=layout.axes[('fig1','stb')]\n",
    "i=987\n",
    "area = (np.arange(start = i, stop = 0 , step = -1)) #area\n",
    "ax.scatter(x.loc[i][x.loc[i]!=0],y.loc[i][y.loc[i]!=0], c='#febf6e', s=np.power(area,0.7), \n",
    "           edgecolors='none',rasterized=True)\n",
    "\n",
    "ax.plot(df.xsrc[i],df.ysrc[i],marker='*', markersize=11, c='green', rasterized=True)\n",
    "\n",
    "var = ax.scatter(df.xsrc[:i],df.ysrc[:i], c = df.odor[:i],\n",
    "                     cmap = 'inferno_r', vmin =0 , vmax = 10, s = 0.09,rasterized=True )       \n",
    "ax.grid(False)\n",
    "ax.axes.axis('off')\n",
    "ax.autoscale(enable=True)\n",
    "ax.set_xlim(-5,15)\n",
    "ax.set_ylim(-5,25)\n",
    "\n",
    "# ax.text(-2, 20,\"t= \" + str('{:.4g}'.format(df.time[i]))+ \" s\")\n",
    "ax.set_rasterization_zorder(-20)\n",
    "figurefirst.mpl_functions.set_fontsize(ax,FS)\n",
    "layout.append_figure_to_layer(layout.figures['fig1'], 'fig1', cleartarget=True)\n",
    "layout.write_svg('../../../Figure/Paper/fig3.svg')\n",
    "    "
   ]
  },
  {
   "cell_type": "code",
   "execution_count": 7,
   "id": "mounted-guinea",
   "metadata": {},
   "outputs": [],
   "source": [
    "ax=layout.axes[('fig1','stc')]\n",
    "i=1089\n",
    "area = (np.arange(start = i, stop = 0 , step = -1)) #area\n",
    "ax.scatter(x.loc[i][x.loc[i]!=0],y.loc[i][y.loc[i]!=0], c='#febf6e', s=np.power(area,0.7), \n",
    "           edgecolors='none', rasterized=True)\n",
    "\n",
    "ax.plot(df.xsrc[i],df.ysrc[i],marker='*', markersize=11, c='green', rasterized=True)\n",
    "\n",
    "var = ax.scatter(df.xsrc[:i],df.ysrc[:i], c = df.odor[:i],\n",
    "                     cmap = 'inferno_r', vmin =0 , vmax = 10, s = 0.09,rasterized=True )       \n",
    "ax.grid(False)\n",
    "ax.axes.axis('off')\n",
    "ax.autoscale(enable=True)\n",
    "ax.set_xlim(-5,15)\n",
    "ax.set_ylim(-5,25)\n",
    "\n",
    "# ax.text(-4, 20,\"t= \" + str('{:.4g}'.format(df.time[i]))+ \" s\")\n",
    "ax.set_rasterization_zorder(-20)\n",
    "figurefirst.mpl_functions.set_fontsize(ax,FS)\n",
    "layout.append_figure_to_layer(layout.figures['fig1'], 'fig1', cleartarget=True)\n",
    "layout.write_svg('../../../Figure/Paper/fig3.svg')\n",
    "    "
   ]
  },
  {
   "cell_type": "code",
   "execution_count": 8,
   "id": "intended-allowance",
   "metadata": {},
   "outputs": [],
   "source": [
    "ax=layout.axes[('fig1','std')]\n",
    "i=1143\n",
    "area = (np.arange(start = i, stop = 0 , step = -1)) #area\n",
    "ax.scatter(x.loc[i][x.loc[i]!=0],y.loc[i][y.loc[i]!=0], c='#febf6e', s=np.power(area,0.7), \n",
    "           edgecolors='none',rasterized=True)\n",
    "\n",
    "ax.plot(df.xsrc[i],df.ysrc[i],marker='*', markersize=11, c='green', rasterized=True)\n",
    "\n",
    "var = ax.scatter(df.xsrc[:i],df.ysrc[:i], c = df.odor[:i],\n",
    "                     cmap = 'inferno_r', vmin =0 , vmax = 10, s = 0.09,rasterized=True )       \n",
    "ax.grid(False)\n",
    "ax.axes.axis('off')\n",
    "ax.autoscale(enable=True)\n",
    "ax.set_xlim(-10,15)\n",
    "ax.set_ylim(-5,25)\n",
    "\n",
    "# ax.text(-4, 20,\"t= \" + str('{:.4g}'.format(df.time[i]))+ \" s\")\n",
    "ax.set_rasterization_zorder(-20)\n",
    "figurefirst.mpl_functions.set_fontsize(ax,FS)\n",
    "layout.append_figure_to_layer(layout.figures['fig1'], 'fig1', cleartarget=True)\n",
    "layout.write_svg('../../../Figure/Paper/fig3.svg')\n",
    "    "
   ]
  },
  {
   "cell_type": "code",
   "execution_count": 9,
   "id": "portuguese-trick",
   "metadata": {},
   "outputs": [],
   "source": [
    "ax=layout.axes[('fig1','ste')]\n",
    "i=1179\n",
    "area = (np.arange(start = i, stop = 0 , step = -1)) #area\n",
    "ax.scatter(x.loc[i][x.loc[i]!=0],y.loc[i][y.loc[i]!=0], c='#febf6e', s=np.power(area,0.7), \n",
    "           edgecolors='none',rasterized=True)\n",
    "\n",
    "ax.plot(df.xsrc[i],df.ysrc[i],marker='*', markersize=11, c='green', rasterized=True)\n",
    "\n",
    "var = ax.scatter(df.xsrc[:i],df.ysrc[:i], c = df.odor[:i],\n",
    "                     cmap = 'inferno_r', vmin =0 , vmax = 10, s = 0.09,rasterized=True )       \n",
    "ax.grid(False)\n",
    "\n",
    "ax.autoscale(enable=True)\n",
    "ax.set_xlim(-10,15)\n",
    "ax.set_ylim(-5,25)\n",
    "\n",
    "mpl_functions.adjust_spines(ax,['left','bottom'],\n",
    "                            spine_locations={'left': 5, 'bottom': 5}, \n",
    "                            smart_bounds=True,\n",
    "                            xticks=[-10,15],\n",
    "                            yticks=[-5,25],\n",
    "                            linewidth=0.5)\n",
    "\n",
    "# ax.text(-4, 20,\"t= \" + str('{:.4g}'.format(df.time[i]))+ \" s\")\n",
    "ax.set_rasterization_zorder(-20)\n",
    "figurefirst.mpl_functions.set_fontsize(ax,FS)\n",
    "layout.append_figure_to_layer(layout.figures['fig1'], 'fig1', cleartarget=True)\n",
    "layout.write_svg('../../../Figure/Paper/fig3.svg')\n",
    "    "
   ]
  },
  {
   "cell_type": "code",
   "execution_count": 10,
   "id": "blank-elizabeth",
   "metadata": {},
   "outputs": [],
   "source": [
    "ax=layout.axes[('fig1','stf')]\n",
    "i=1210\n",
    "area = (np.arange(start = i, stop = 0 , step = -1)) #area\n",
    "ax.scatter(x.loc[i][x.loc[i]!=0],y.loc[i][y.loc[i]!=0], c='#febf6e', s=np.power(area,0.7), \n",
    "           edgecolors='none',rasterized=True)\n",
    "\n",
    "ax.plot(df.xsrc[i],df.ysrc[i],marker='*', markersize=11, c='green', rasterized=True)\n",
    "\n",
    "var = ax.scatter(df.xsrc[:i],df.ysrc[:i], c = df.odor[:i],\n",
    "                     cmap = 'inferno_r', vmin =0 , vmax = 10, s = 0.05,rasterized=True )       \n",
    "ax.grid(False)\n",
    "ax.axes.axis('off')\n",
    "ax.autoscale(enable=True)\n",
    "ax.set_xlim(-10,15)\n",
    "ax.set_ylim(-5,25)\n",
    "\n",
    "# ax.text(-4, 20,\"t= \" + str('{:.4g}'.format(df.time[i]))+ \" s\")\n",
    "ax.set_rasterization_zorder(-20)\n",
    "figurefirst.mpl_functions.set_fontsize(ax,FS)\n",
    "layout.append_figure_to_layer(layout.figures['fig1'], 'fig1', cleartarget=True)\n",
    "layout.write_svg('../../../Figure/Paper/fig3.svg')\n",
    "    "
   ]
  },
  {
   "cell_type": "markdown",
   "id": "prostate-mambo",
   "metadata": {},
   "source": [
    "### Color Bar 1"
   ]
  },
  {
   "cell_type": "code",
   "execution_count": 11,
   "id": "voluntary-touch",
   "metadata": {},
   "outputs": [
    {
     "name": "stdout",
     "output_type": "stream",
     "text": [
      "inferno_r\n"
     ]
    }
   ],
   "source": [
    "ax = layout.axes[('cbar1', 'cbar1')]\n",
    "\n",
    "fpl.colorbar(ax=ax, colormap='inferno_r', orientation='vertical', ticks=[0,10],vmi=0,vma=10)\n",
    "mpl_functions.adjust_spines(ax, ['right'], \n",
    "                                    smart_bounds=True,\n",
    "                                    spine_locations={'right': 1}, \n",
    "                                    yticks=[0, 10],\n",
    "                                    tick_length=2.5,\n",
    "                                    linewidth=0.5)\n",
    "\n",
    "ax.set_ylabel(\"Odor, v\",rotation=-90, labelpad=-9)\n",
    "\n",
    "ax.set_yticklabels(['0', '10'])\n",
    "ax.set_rasterization_zorder(-20)\n",
    "figurefirst.mpl_functions.set_fontsize(ax, FS)\n",
    "\n",
    "layout.append_figure_to_layer(layout.figures['cbar1'], 'cbar1', cleartarget=True)\n",
    "layout.write_svg('../../../Figure/Paper/fig3.svg')"
   ]
  },
  {
   "cell_type": "markdown",
   "id": "endless-pension",
   "metadata": {},
   "source": [
    "### Panel C - Encounter Map Plots"
   ]
  },
  {
   "cell_type": "code",
   "execution_count": 11,
   "id": "another-shepherd",
   "metadata": {},
   "outputs": [
    {
     "name": "stderr",
     "output_type": "stream",
     "text": [
      "2022-10-27 12:34:05,989 [INFO] Note: NumExpr detected 16 cores but \"NUMEXPR_MAX_THREADS\" not set, so enforcing safe limit of 8.\n",
      "2022-10-27 12:34:05,990 [INFO] NumExpr defaulting to 8 threads.\n"
     ]
    }
   ],
   "source": [
    "df1 = pd.read_hdf('~/Documents/Myfiles/DataAnalysis/data/Sprints/HighRes/Windy/WindyMASigned.h5')\n",
    "df2 = pd.read_hdf('~/Documents/Myfiles/DataAnalysis/data/Sprints/HighRes/NotWindy/NotWindyMASigned.h5')\n",
    "df3 = pd.read_hdf('~/Documents/Myfiles/DataAnalysis/data/Sprints/HighRes/Forest/ForestMASigned.h5')\n",
    "\n",
    "q='odor>4.5'\n",
    "dfdist1=df1.query(q)\n",
    "dfdist2=df2.query(q)\n",
    "dfdist3=df3.query(q)\n",
    "\n",
    "dataframes=[dfdist1,dfdist2,dfdist3]\n",
    "data=[df1,df2,df3]"
   ]
  },
  {
   "cell_type": "code",
   "execution_count": 27,
   "id": "desirable-congress",
   "metadata": {},
   "outputs": [],
   "source": [
    "ax = layout.axes[('fig3', 'mapa')]\n",
    "\n",
    "ax.scatter(dataframes[0].distance_from_source_a*dataframes[0].xsign,\n",
    "                    dataframes[0].nearest_from_streakline*dataframes[0].ysign,\n",
    "                    c=dataframes[0].odor, cmap='inferno_r',vmin=0,vmax=10,\n",
    "           edgecolors='none', s=5,alpha=0.2, rasterized=True )\n",
    "\n",
    "ax.grid(False)\n",
    "ax.axline((0,0),slope=1, linestyle='dashed', linewidth=2, color='r', alpha=0.5)\n",
    "ax.axline((0,0), slope=-1, linestyle='dashed', linewidth=2, color='r', alpha=0.5)\n",
    "ax.axhline(0, color = 'grey', alpha=0.5)\n",
    "ax.axvline(0, color = 'grey', alpha=0.5)\n",
    "ax.plot(0,0,marker='o',  c='b', markersize=6, alpha=0.7, rasterized=True)\n",
    "\n",
    "ax.set_rasterization_zorder(-20)\n",
    "\n",
    "\n",
    "mpl_functions.adjust_spines(ax,['left', 'bottom'],spine_locations={'left': 5, 'bottom': 5}, \n",
    "                            smart_bounds=True, \n",
    "                            xticks=[0,50],\n",
    "                            yticks=[-25,25], \n",
    "                            linewidth=0.5)\n",
    "\n",
    "figurefirst.mpl_functions.set_fontsize(ax,FS)\n",
    "layout.append_figure_to_layer(layout.figures['fig3'], 'fig3', cleartarget=True)\n",
    "layout.write_svg('../../../Figure/Paper/fig3.svg')"
   ]
  },
  {
   "cell_type": "code",
   "execution_count": 28,
   "id": "clean-weight",
   "metadata": {},
   "outputs": [],
   "source": [
    "ax = layout.axes[('fig3', 'mapb')]\n",
    "ax.scatter(dataframes[1].distance_from_source_a*dataframes[1].xsign,\n",
    "                    dataframes[1].nearest_from_streakline*dataframes[1].ysign,\n",
    "                    c=dataframes[1].odor, cmap=\"inferno_r\", vmin=0,vmax=10,\n",
    "           edgecolors='none', s=5,alpha=0.2, rasterized=True)\n",
    "\n",
    "ax.grid(False)\n",
    "ax.axhline(0, color = 'grey', alpha=0.5)\n",
    "ax.axvline(0, color = 'grey', alpha=0.5)\n",
    "ax.plot(0,0,marker='o',  c='y', markersize=7, alpha=0.7, rasterized=True)\n",
    "\n",
    "ax.set_rasterization_zorder(-20)\n",
    "\n",
    "\n",
    "mpl_functions.adjust_spines(ax,['bottom'],spine_locations={'bottom': 5}, \n",
    "                            smart_bounds=True, \n",
    "                            xticks=[0,50],\n",
    "                            \n",
    "                            linewidth=0.5)\n",
    "\n",
    "figurefirst.mpl_functions.set_fontsize(ax,FS)\n",
    "layout.append_figure_to_layer(layout.figures['fig3'], 'fig3', cleartarget=True)\n",
    "layout.write_svg('../../../Figure/Paper/fig3.svg')"
   ]
  },
  {
   "cell_type": "code",
   "execution_count": 31,
   "id": "fuzzy-church",
   "metadata": {},
   "outputs": [],
   "source": [
    "ax = layout.axes[('fig3', 'mapc')]\n",
    "ax.scatter(dataframes[2].distance_from_source_a*dataframes[2].xsign,\n",
    "                    dataframes[2].nearest_from_streakline*dataframes[2].ysign,\n",
    "                    c=dataframes[2].odor, cmap=\"inferno_r\", vmin=0,vmax=10,\n",
    "           edgecolors='none', s=5,alpha=0.2, rasterized=True)\n",
    "\n",
    "ax.grid(False)\n",
    "ax.axhline(0, color = 'grey', alpha=0.5)\n",
    "ax.axvline(0, color = 'grey', alpha=0.5)\n",
    "ax.plot(0,0,marker='o',  c='y', markersize=7, alpha=0.7, rasterized=True)\n",
    "\n",
    "ax.set_rasterization_zorder(-20)\n",
    "\n",
    "\n",
    "mpl_functions.adjust_spines(ax,['bottom'],spine_locations={'bottom': 5}, \n",
    "                            smart_bounds=True, \n",
    "                            xticks=[0,50],\n",
    "                           \n",
    "                            linewidth=0.5)\n",
    "\n",
    "figurefirst.mpl_functions.set_fontsize(ax,FS)\n",
    "layout.append_figure_to_layer(layout.figures['fig3'], 'fig3', cleartarget=True)\n",
    "layout.write_svg('../../../Figure/Paper/fig3.svg')"
   ]
  },
  {
   "cell_type": "markdown",
   "id": "dynamic-boating",
   "metadata": {},
   "source": [
    "### ColorBar 2"
   ]
  },
  {
   "cell_type": "code",
   "execution_count": 8,
   "id": "informative-penny",
   "metadata": {},
   "outputs": [],
   "source": [
    "ax = layout.axes[('cbar2', 'cbar2')]\n",
    "ytic=[4.5,11]\n",
    "\n",
    "fpl.colorbar(ax=ax, colormap='inferno_r', orientation='vertical',ticks=ytic)\n",
    "ax.set_rasterization_zorder(-20)\n",
    "mpl_functions.adjust_spines(ax, ['right'], \n",
    "                                    smart_bounds=True,\n",
    "                                    spine_locations={'right': 1}, \n",
    "                                    yticks=ytic,\n",
    "                                    tick_length=1.5,\n",
    "                                    linewidth=0.5)\n",
    "\n",
    "ax.set_ylabel(\"Odor, v\",rotation=-90, labelpad=-9)\n",
    "\n",
    "ax.set_yticklabels(['4.5', '10'])\n",
    "figurefirst.mpl_functions.set_fontsize(ax, FS)\n",
    "\n",
    "layout.append_figure_to_layer(layout.figures['cbar2'], 'cbar2', cleartarget=True)\n",
    "layout.write_svg('../../../Figure/Paper/fig3.svg')"
   ]
  },
  {
   "cell_type": "code",
   "execution_count": 11,
   "id": "serious-fault",
   "metadata": {
    "scrolled": true
   },
   "outputs": [],
   "source": [
    "cairosvg.svg2pdf(url='../../../Figure/Paper/fig3.svg', write_to='../../../Figure/Paper/fig3.pdf')"
   ]
  },
  {
   "cell_type": "code",
   "execution_count": null,
   "id": "frozen-liabilities",
   "metadata": {},
   "outputs": [],
   "source": []
  }
 ],
 "metadata": {
  "kernelspec": {
   "display_name": "Python 3",
   "language": "python",
   "name": "python3"
  },
  "language_info": {
   "codemirror_mode": {
    "name": "ipython",
    "version": 3
   },
   "file_extension": ".py",
   "mimetype": "text/x-python",
   "name": "python",
   "nbconvert_exporter": "python",
   "pygments_lexer": "ipython3",
   "version": "3.8.7"
  }
 },
 "nbformat": 4,
 "nbformat_minor": 5
}
