{
 "cells": [
  {
   "cell_type": "code",
   "execution_count": 161,
   "metadata": {},
   "outputs": [],
   "source": [
    "#dataframes\n",
    "import pandas as pd\n",
    "import h5py\n",
    "import datetime as dt\n",
    "\n",
    "#math\n",
    "import numpy as np\n",
    "import math\n",
    "import scipy.fftpack\n",
    "from scipy import signal\n",
    "import scipy.interpolate as interpolate\n",
    "from scipy import integrate\n",
    "pd.TimeSeries = pd.Series \n",
    "\n",
    "#gps\n",
    "from geopy import distance\n",
    "\n",
    "#plots\n",
    "import pylab as plt\n",
    "import matplotlib.pyplot as plt\n",
    "import matplotlib.animation as animation"
   ]
  },
  {
   "cell_type": "markdown",
   "metadata": {},
   "source": [
    "### Stationary Wind Bag B"
   ]
  },
  {
   "cell_type": "code",
   "execution_count": 230,
   "metadata": {
    "scrolled": true
   },
   "outputs": [
    {
     "data": {
      "text/plain": [
       "Index(['millis', 'lat', 'lon', 'gps_time', 'gps_date', 'wind', 'gps_date_str',\n",
       "       'year', 'month', 'day', 'gps_time_str', 'hour', 'minute', 'second',\n",
       "       'time_epoch', 'S2', 'D', 'U', 'V', 'W', 'T', 'H', 'AD', 'MD',\n",
       "       'corrected_u', 'corrected_v'],\n",
       "      dtype='object')"
      ]
     },
     "execution_count": 230,
     "metadata": {},
     "output_type": "execute_result"
    }
   ],
   "source": [
    "#mac \n",
    "fname = '~/Documents/Myfiles/DataAnalysis/data/20201020_172919_windy_b_data.hdf'\n",
    "wind=pd.read_hdf(fname)\n",
    "wind.keys()"
   ]
  },
  {
   "cell_type": "code",
   "execution_count": 224,
   "metadata": {},
   "outputs": [],
   "source": [
    "pi = np.pi/180\n",
    "x = np.abs(wind.S2*np.sin(((wind.D+13)*pi)))\n",
    "y = np.abs(wind.S2*np.cos(((wind.D+13)*pi)))"
   ]
  },
  {
   "cell_type": "code",
   "execution_count": 225,
   "metadata": {},
   "outputs": [],
   "source": [
    "x = x*np.sign(wind.U)\n",
    "y = y*np.sign(wind.V)"
   ]
  },
  {
   "cell_type": "code",
   "execution_count": 226,
   "metadata": {},
   "outputs": [],
   "source": [
    "s = []\n",
    "for i in range(len(x)):\n",
    "    if(np.sign(x[i])!=np.sign(wind.U[i])):\n",
    "        s.append(i)\n"
   ]
  },
  {
   "cell_type": "code",
   "execution_count": 227,
   "metadata": {},
   "outputs": [],
   "source": [
    "wind['corrected_u'] = x\n",
    "wind['corrected_v'] = y"
   ]
  },
  {
   "cell_type": "code",
   "execution_count": 229,
   "metadata": {},
   "outputs": [
    {
     "name": "stderr",
     "output_type": "stream",
     "text": [
      "/Users/an/Documents/MyFiles/DataAnalysis/FlyDataAnalysis/lib/python3.8/site-packages/pandas/core/generic.py:2606: PerformanceWarning: \n",
      "your performance may suffer as PyTables will pickle object types that it cannot\n",
      "map directly to c-types [inferred_type->mixed,key->block3_values] [items->Index(['wind', 'gps_date_str', 'gps_time_str'], dtype='object')]\n",
      "\n",
      "  pytables.to_hdf(\n"
     ]
    }
   ],
   "source": [
    "wind.to_hdf(fname, key='wind',mode='w')"
   ]
  },
  {
   "cell_type": "markdown",
   "metadata": {},
   "source": [
    "### Extract Wind Data for shorter duration"
   ]
  },
  {
   "cell_type": "code",
   "execution_count": 219,
   "metadata": {},
   "outputs": [],
   "source": [
    "df =pd.DataFrame\n",
    "df = wind.loc[(wind.time_epoch >= sensor.master_time.iloc[0]) & (wind_df.time_epoch <=sensor.master_time.iloc[-1])]"
   ]
  },
  {
   "cell_type": "code",
   "execution_count": 217,
   "metadata": {
    "scrolled": false
   },
   "outputs": [],
   "source": [
    "sensor= pd.read_hdf('~/Documents/Myfiles/DataAnalysis/data/Sprints/Run03/Collections/Run03Coll01_InterpolatedX.hdf')"
   ]
  }
 ],
 "metadata": {
  "kernelspec": {
   "display_name": "Python 3",
   "language": "python",
   "name": "python3"
  },
  "language_info": {
   "codemirror_mode": {
    "name": "ipython",
    "version": 3
   },
   "file_extension": ".py",
   "mimetype": "text/x-python",
   "name": "python",
   "nbconvert_exporter": "python",
   "pygments_lexer": "ipython3",
   "version": "3.8.7"
  }
 },
 "nbformat": 4,
 "nbformat_minor": 4
}
