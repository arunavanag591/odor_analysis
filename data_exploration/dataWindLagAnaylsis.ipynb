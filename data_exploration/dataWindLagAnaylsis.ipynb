{
 "cells": [
  {
   "cell_type": "code",
   "execution_count": 55,
   "id": "60b053ac",
   "metadata": {},
   "outputs": [],
   "source": [
    "## udf\n",
    "import temporal_functions\n",
    "import numpy as np\n",
    "import matplotlib.pyplot as plt\n",
    "from matplotlib import gridspec\n",
    "import matplotlib as mpl\n",
    "import pandas as pd\n",
    "import seaborn as sns\n",
    "import matplotlib.patches as mpatches\n",
    "from figurefirst import FigureLayout,mpl_functions\n",
    "from mpl_toolkits.axes_grid1 import make_axes_locatable\n",
    "\n",
    "import statsmodels.api as sm\n",
    "import statsmodels.formula.api as smf\n",
    "\n",
    "from matplotlib.colors import LogNorm\n",
    "from astropy import stats\n",
    "\n",
    "from scipy import stats\n",
    "\n",
    "from numpy import (isscalar, r_, log, around, unique, asarray, zeros,\n",
    "                   arange, sort, amin, amax, atleast_1d, sqrt, array,\n",
    "                   compress, pi, exp, ravel, count_nonzero, sin, cos,\n",
    "                   arctan2, hypot)\n",
    "\n",
    "\n",
    "from scipy import optimize\n",
    "from scipy import special\n",
    "\n",
    "import figurefirst as fifi"
   ]
  },
  {
   "cell_type": "markdown",
   "id": "8607796e",
   "metadata": {},
   "source": [
    "### Averaging for 10-second to 10 minute Lag"
   ]
  },
  {
   "cell_type": "code",
   "execution_count": 122,
   "id": "ef43c2cd",
   "metadata": {},
   "outputs": [],
   "source": [
    "# folder_path='/home/gadfly/DataAnalysis/data/LagAnalysisPaper/maskedJaleesa/'\n",
    "\n",
    "# dfs = [\n",
    "#     pd.read_hdf(folder_path+'10.20.20_maskedgpsdata.hdf'),\n",
    "#     pd.read_hdf(folder_path+'7.7.21_maskedgpsdata.hdf'),\n",
    "#     pd.read_hdf(folder_path+'9.26.21_maskedgpsdata.hdf'),\n",
    "#     pd.read_hdf(folder_path+'10.29.21_maskedgpsdata.hdf'),\n",
    "#     pd.read_hdf(folder_path+'10.30.21_maskedgpsdata.hdf'),\n",
    "#     pd.read_hdf(folder_path+'1.8.22_maskedgpsdata.hdf'),\n",
    "#     pd.read_hdf(folder_path+'1.11.22_maskedgpsdata.hdf'),\n",
    "#     pd.read_hdf(folder_path+'1.15.22_maskedgpsdata.hdf'),\n",
    "#     pd.read_hdf(folder_path+'4.30.22_maskedgpsdata.hdf'),\n",
    "#     pd.read_hdf(folder_path+'5.1.22_maskedgpsdata.hdf'),\n",
    "#     pd.read_hdf(folder_path+'5.2.22_maskedgpsdata.hdf'),\n",
    "#     pd.read_hdf(folder_path+'6.1.22_maskedgpsdata.hdf'),\n",
    "#     pd.read_hdf(folder_path+'6.3.22_maskedgpsdata.hdf'),\n",
    "#     pd.read_hdf(folder_path+'6.7.22_maskedgpsdata.hdf'),\n",
    "#     pd.read_hdf(folder_path+'6.8.22_maskedgpsdata.hdf'),\n",
    "#     pd.read_hdf(folder_path+'6.22.22_maskedgpsdata.hdf')\n",
    "# ]\n",
    "\n",
    "# # List of corresponding filenames for saving\n",
    "# filenames = [\n",
    "#     '10.20.20_temporal.hdf',\n",
    "#     '7.7.21_temporal.hdf',\n",
    "#     '9.26.21_temporal.hdf',\n",
    "#     '10.29.21_temporal.hdf',\n",
    "#     '10.30.21_temporal.hdf',\n",
    "#     '1.8.22_temporal.hdf',\n",
    "#     '1.11.22_temporal.hdf',\n",
    "#     '1.15.22_temporal.hdf',\n",
    "#     '4.30.22_temporal.hdf',\n",
    "#     '5.1.22_temporal.hdf',\n",
    "#     '5.2.22_temporal.hdf',\n",
    "#     '6.1.22_temporal.hdf',\n",
    "#     '6.3.22_temporal.hdf',\n",
    "#     '6.7.22_temporal.hdf',\n",
    "#     '6.8.22_temporal.hdf',\n",
    "#     '6.22.22_temporal.hdf'\n",
    "# ]"
   ]
  },
  {
   "cell_type": "markdown",
   "id": "aa1606c0",
   "metadata": {},
   "source": [
    "### Separating Desert wind to HWS and LWS"
   ]
  },
  {
   "cell_type": "code",
   "execution_count": 123,
   "id": "24edd83c",
   "metadata": {},
   "outputs": [],
   "source": [
    "# dir='~/DataAnalysis/data/DesertWind/'\n",
    "# df1= pd.read_hdf(dir+\"20201020_172919_windy_b_data.hdf\")\n",
    "# folder_path='/home/gadfly/DataAnalysis/data/LagAnalysisPaper/maskedJaleesa/'\n",
    "\n",
    "# dt=df1.time_epoch.iloc[1]-df1.time_epoch.iloc[0]\n",
    "\n",
    "# time = []\n",
    "# time.append(0)\n",
    "# for j in range(1,len(df1)):\n",
    "#     time.append(time[j-1]+dt)     \n",
    "\n",
    "# df1['time']=time\n",
    "# lws = df1.query('time <= 47839').copy()\n",
    "# hws = df1.query('time >= 47839').copy()\n",
    "# hws = hws.reset_index(drop=True,inplace=False)\n",
    "\n",
    "# dfs=[lws,hws]\n",
    "# filenames = [\n",
    "#     'lws_temporal.hdf',\n",
    "#     'hws_temporal.hdf',\n",
    "# ]"
   ]
  },
  {
   "cell_type": "code",
   "execution_count": 124,
   "metadata": {},
   "outputs": [
    {
     "name": "stdout",
     "output_type": "stream",
     "text": [
      "lws_temporal.hdf\n",
      "hws_temporal.hdf\n"
     ]
    }
   ],
   "source": [
    "# loglags = np.arange(100,6100,100)\n",
    "\n",
    "# for idx, df in enumerate(dfs):\n",
    "#     print(filenames[idx])\n",
    "#     totalrows = np.arange(0, int(len(df)/1000))\n",
    "#     listoflists_avgd = np.empty((len(totalrows), 0)).tolist()\n",
    "#     listoflists_avgs = np.empty((len(totalrows), 0)).tolist()\n",
    "#     listoflists_stdd = np.empty((len(totalrows), 0)).tolist()\n",
    "#     listoflists_stds = np.empty((len(totalrows), 0)).tolist()\n",
    "\n",
    "#     for j in totalrows:\n",
    "#         listoflists_avgd[j], listoflists_avgs[j], listoflists_stdd[j], listoflists_stds[j] = temporal_functions.new_temporal_analysis(df.D, df.S2, lagarray=loglags, method='forward')\n",
    "\n",
    "#     # Convert to df\n",
    "#     df_avgd = pd.DataFrame(listoflists_avgd, columns=loglags)\n",
    "#     df_avgs = pd.DataFrame(listoflists_avgs, columns=loglags)\n",
    "#     df_stdd = pd.DataFrame(listoflists_stdd, columns=loglags)\n",
    "#     df_stds = pd.DataFrame(listoflists_stds, columns=loglags)\n",
    "\n",
    "#     frames = []\n",
    "#     for k in df_avgd.index:\n",
    "#         xtra = {\n",
    "#             'speed_std': df_stds.iloc[k,:], \n",
    "#             'direction_std': df_stdd.iloc[k,:],\n",
    "#             'speed_avg': df_avgs.iloc[k,:], \n",
    "#             'direction_avg': df_avgd.iloc[k,:],\n",
    "#         }\n",
    "#         frames.append(pd.DataFrame(xtra))\n",
    "\n",
    "#     test_ddf = pd.concat(frames)\n",
    "\n",
    "#     test_ddf.reset_index(inplace=True)\n",
    "#     test_ddf.rename(columns={'index':'time'}, inplace=True)\n",
    "\n",
    "#     test_ddf[['environment']] = .001\n",
    "#     test_ddf[['group']] = 1\n",
    "#     test_ddf.direction_std = test_ddf.direction_std*180/np.pi\n",
    "#     test_ddf.time = test_ddf.time*.1 \n",
    "\n",
    "#     # Save with the corresponding filename\n",
    "#     test_ddf.to_hdf(folder_path +'by1000/'+ filenames[idx], key='data',mode='w')\n"
   ]
  },
  {
   "cell_type": "markdown",
   "id": "a49e942e",
   "metadata": {},
   "source": [
    "### Prepping the temporals"
   ]
  },
  {
   "cell_type": "code",
   "execution_count": 125,
   "id": "b0e32fd4",
   "metadata": {},
   "outputs": [],
   "source": [
    "## 10 second\n",
    "folder_path='/home/gadfly/DataAnalysis/data/LagAnalysisPaper/maskedJaleesa/by1000/'\n",
    "t1=pd.read_hdf(folder_path+'10.20.20_temporal.hdf')\n",
    "t2=pd.read_hdf(folder_path+'7.7.21_temporal.hdf')\n",
    "t3=pd.read_hdf(folder_path+'9.26.21_temporal.hdf')\n",
    "t4=pd.read_hdf(folder_path+'10.29.21_temporal.hdf')\n",
    "t5=pd.read_hdf(folder_path+'10.30.21_temporal.hdf')\n",
    "t6=pd.read_hdf(folder_path+'1.8.22_temporal.hdf')\n",
    "t7=pd.read_hdf(folder_path+'1.11.22_temporal.hdf')\n",
    "t8=pd.read_hdf(folder_path+'1.15.22_temporal.hdf')\n",
    "t9=pd.read_hdf(folder_path+'4.30.22_temporal.hdf')\n",
    "t10=pd.read_hdf(folder_path+'5.1.22_temporal.hdf')\n",
    "t11=pd.read_hdf(folder_path+'5.2.22_temporal.hdf')\n",
    "t12=pd.read_hdf(folder_path+'6.1.22_temporal.hdf')\n",
    "t13=pd.read_hdf(folder_path+'6.3.22_temporal.hdf')\n",
    "t14=pd.read_hdf(folder_path+'6.7.22_temporal.hdf')\n",
    "t15=pd.read_hdf(folder_path+'6.8.22_temporal.hdf')\n",
    "t16=pd.read_hdf(folder_path+'6.22.22_temporal.hdf')\n",
    "\n",
    "# t1_1=pd.read_hdf(folder_path+'hws_temporal.hdf')\n",
    "# t1_2=pd.read_hdf(folder_path+'lws_temporal.hdf')\n",
    "# t_f=pd.read_hdf(folder_path+'forest_temporal.hdf')\n",
    "# t_desert=pd.read_hdf(folder_path+'desert_temporal.hdf')"
   ]
  },
  {
   "cell_type": "code",
   "execution_count": 126,
   "id": "be7b94c0",
   "metadata": {},
   "outputs": [],
   "source": [
    "# print('hws',np.mean(t1_1.direction_std))\n",
    "# print('lws',np.mean(t1_2.direction_std))\n",
    "# print('forest',np.mean(t_f.direction_std))\n",
    "# print('desert',np.mean(t_desert.direction_std))"
   ]
  },
  {
   "cell_type": "code",
   "execution_count": 127,
   "id": "db50ee34",
   "metadata": {},
   "outputs": [],
   "source": [
    "alltemp=[t1,t2,t4,t7,t8,t12,t13,t14,t15,t16] ## without urban\n",
    "\n",
    "# alltemp=[t1,t2,t3,t4,t5,t6,t7,t8,t9,t10,t11,t12,t13,t14,t15,t16] ## with urban\n",
    "\n",
    "# Filter each dataframe in the list to include only rows where time == 10\n",
    "alltemp_new = [df.query('time == 10').copy() for df in alltemp]  # Added .copy() to ensure we're working with a new DataFrame\n",
    "\n",
    "for df in alltemp_new:\n",
    "    df.loc[:, 'turb_intensity'] = df['speed_std'] / df['speed_avg']\n",
    "\n",
    "alltempconcat = pd.concat(alltemp_new)\n",
    "alltempconcat = alltempconcat.reset_index(drop=True,inplace=False)\n",
    "\n",
    "# for i in range(len(alltemp_new)):\n",
    "#     alltemp[i]['turb_intensity']=alltemp[i]['speed_std']/alltemp[i]['speed_avg']\n",
    "    \n",
    "# alltempconcat=pd.concat(alltemp)\n",
    "# alltempconcat=alltempconcat.reset_index(inplace=False)\n"
   ]
  },
  {
   "cell_type": "code",
   "execution_count": 128,
   "id": "a039a2e7",
   "metadata": {},
   "outputs": [],
   "source": [
    "lag_filter=10\n",
    "\n",
    "t1_1 = pd.read_hdf(folder_path+'hws_temporal.hdf')\n",
    "t1_1 = t1_1[t1_1['time'] == lag_filter]\n",
    "t1_1 = t1_1.reset_index(drop=True,inplace=False)\n",
    "\n",
    "t1_2 = pd.read_hdf(folder_path+'lws_temporal.hdf')\n",
    "t1_2 = t1_2[t1_2['time'] == lag_filter]\n",
    "t1_2 = t1_2.reset_index(drop=True,inplace=False)\n",
    "\n",
    "t2 = t2[t2['time'] == lag_filter]\n",
    "t2 = t2.reset_index(drop=True,inplace=False)"
   ]
  },
  {
   "cell_type": "code",
   "execution_count": 129,
   "id": "9f2edbf4",
   "metadata": {},
   "outputs": [
    {
     "name": "stdout",
     "output_type": "stream",
     "text": [
      "hws 0.07033618955608546\n",
      "lws 0.20070039821842103\n"
     ]
    }
   ],
   "source": [
    "t1_1['turb_intensity']=t1_1['speed_std']/t1_1['speed_avg']\n",
    "t1_2['turb_intensity']=t1_2['speed_std']/t1_2['speed_avg']\n",
    "# t2['turb_intensity']=t2['speed_std']/t2['speed_avg']\n",
    "print('hws',np.mean(t1_1.turb_intensity))\n",
    "print('lws',np.mean(t1_2.turb_intensity))\n"
   ]
  },
  {
   "cell_type": "code",
   "execution_count": 130,
   "id": "2f29cf80",
   "metadata": {},
   "outputs": [],
   "source": [
    "# desertchunks=pd.concat([t1,t7,t8,t12,t13])\n",
    "# forestchunks=pd.concat([t2,t4,t14,t15,t16])\n",
    "# urbanchunks=pd.concat([t3,t5,t6,t9,t10,t11])\n",
    "# desert=0,6,7,11,12\n",
    "# forest=1,3,13,14,15\n",
    "# urban=2,4,5,8,9,10\n",
    "\n",
    "# desertchunks=desertchunks.reset_index(drop=True)\n",
    "# forestchunks=forestchunks.reset_index(drop=True)\n",
    "# urbanchunks=urbanchunks.reset_index(drop=True)"
   ]
  },
  {
   "cell_type": "markdown",
   "id": "b178ae12",
   "metadata": {},
   "source": [
    "### Plotting the Contour Map using Seaborn KDE"
   ]
  },
  {
   "cell_type": "code",
   "execution_count": 137,
   "id": "58040b58",
   "metadata": {},
   "outputs": [
    {
     "data": {
      "image/png": "[encoded data removed]",
      "text/plain": [
       "<Figure size 504x504 with 4 Axes>"
      ]
     },
     "metadata": {
      "needs_background": "light"
     },
     "output_type": "display_data"
    }
   ],
   "source": [
    "g = sns.JointGrid(data=alltempconcat, x='speed_avg', y='direction_std', space=0, height=7, ratio=5)\n",
    "\n",
    "# Plot the main KDE on the JointGrid\n",
    "# density = sns.kdeplot(x=np.log(alltempconcat.speed_avg), y=np.log(alltempconcat.direction_std), cmap='bone_r', ax=g.ax_joint, cbar=True,\n",
    "#             cbar_kws={'ticks':[0.0008,0.03]},\n",
    "#             shade=True, label='All Data',)\n",
    "\n",
    "density = sns.kdeplot(x=alltempconcat.speed_avg, y=alltempconcat.direction_std, cmap='bone_r', ax=g.ax_joint, cbar=True,\n",
    "            norm=LogNorm(),\n",
    "            shade=True, label='All Data')\n",
    "# sns.kdeplot(data=alltempconcat, x='speed_avg', y='direction_std', cmap='gray', alpha=0.5, levels=[0.04], shade=False, ax=g.ax_joint)\n",
    "\n",
    "g.ax_joint.scatter((t1_1.speed_avg), (t1_1.direction_std), cmap='Blues', s=7, label='HWS')\n",
    "g.ax_joint.scatter((t1_2.speed_avg), (t1_2.direction_std), cmap='Oranges', s=7, label='LWS')\n",
    "g.ax_joint.scatter((t2.speed_avg), (t2.direction_std), cmap='g', s=7, label='Forest')\n",
    "\n",
    "pos_joint_ax = g.ax_joint.get_position()\n",
    "pos_marg_x_ax = g.ax_marg_x.get_position()\n",
    "g.ax_joint.set_position([pos_joint_ax.x0, pos_joint_ax.y0, pos_marg_x_ax.width, pos_joint_ax.height])\n",
    "g.fig.axes[-1].set_position([.86, pos_joint_ax.y0, .07, pos_joint_ax.height])\n",
    "\n",
    "# g.ax_joint.set_xscale('log')\n",
    "# g.ax_joint.set_yscale('log')\n",
    "\n",
    "\n",
    "g.ax_marg_x.axis('off')\n",
    "g.ax_marg_y.axis('off')\n",
    "\n",
    "# Adjustments\n",
    "# g.ax_joint.set_xlim(-1,7)\n",
    "# g.ax_joint.set_ylim(-10,90)\n",
    "g.ax_joint.set_xlabel('$\\mu$(Wind Speed), (m/s)')\n",
    "g.ax_joint.set_ylabel('$\\sigma$ (Wind Direction), degrees')\n",
    "\n",
    "g.ax_joint.set_title('Only 10-seconds')\n",
    "\n",
    "\n",
    "cbar = g.fig.axes[-1]\n",
    "cbar.set_ylabel('Density',rotation=90)\n",
    "cbar_ticks = cbar.get_yticks()\n",
    "_, cbar_max = cbar.get_ylim()\n",
    "cbar.set_yticklabels([f'{t / cbar_max * 100:.1f} %' for t in cbar_ticks])\n",
    "\n",
    "\n",
    "mpl_functions.adjust_spines(g.ax_joint, ['left', 'bottom'],\n",
    "                            spine_locations={'left': 1, 'bottom': 1}, \n",
    "                            smart_bounds=True,   \n",
    "                            xticks=[-1,3,7],\n",
    "                            yticks=[0,40,80],\n",
    "                            linewidth=0.5)\n",
    "\n",
    "\n",
    "\n",
    "# Custom legend patches\n",
    "all_patch = mpatches.Patch(color=sns.color_palette(\"bone_r\")[2], label='All Data')\n",
    "hws_patch = mpatches.Patch(color=sns.color_palette(\"Blues\")[2], label='HWS')\n",
    "lws_patch = mpatches.Patch(color=sns.color_palette(\"Oranges\")[2], label='LWS')\n",
    "forest_patch = mpatches.Patch(color=sns.color_palette(\"Greens\")[2], label='Forest')\n",
    "\n",
    "g.ax_joint.legend(handles=[all_patch, hws_patch, lws_patch, forest_patch])\n",
    "\n",
    "mpl_functions.set_fontsize(g.fig, 14)\n",
    "g.fig.savefig('../../Figure/LagLogScaled10.jpeg', dpi=300, bbox_inches=\"tight\")"
   ]
  },
  {
   "cell_type": "code",
   "execution_count": null,
   "id": "080cc87e",
   "metadata": {},
   "outputs": [],
   "source": []
  },
  {
   "cell_type": "code",
   "execution_count": 140,
   "id": "aa5feb97",
   "metadata": {},
   "outputs": [
    {
     "name": "stdout",
     "output_type": "stream",
     "text": [
      "The contour at level 1 encloses approximately 0.00% of the data.\n"
     ]
    }
   ],
   "source": [
    "import numpy as np\n",
    "from scipy.stats import gaussian_kde\n",
    "from scipy.integrate import dblquad\n",
    "\n",
    "# 1. Compute the KDE of your data\n",
    "data_x = alltempconcat['speed_avg']\n",
    "data_y = alltempconcat['direction_std']\n",
    "kde = gaussian_kde(np.vstack([data_x, data_y]))\n",
    "\n",
    "# 2. Integrate the KDE over the region enclosed by the contour of interest\n",
    "level = 1\n",
    "\n",
    "def integrand(x, y):\n",
    "    value = kde(np.vstack([x, y]))\n",
    "    return value if value > level else 0\n",
    "\n",
    "# Define the bounds for integration (based on your data range or plot range)\n",
    "x_min, x_max = -1, 7\n",
    "y_min, y_max = -10, 90\n",
    "\n",
    "integral_contour, _ = dblquad(integrand, x_min, x_max, lambda x: y_min, lambda x: y_max)\n",
    "\n",
    "def kde_func(x, y):\n",
    "    return kde.evaluate([[x], [y]])\n",
    "\n",
    "\n",
    "integral_total, _ = dblquad(kde_func, x_min, x_max, lambda x: y_min, lambda x: y_max)\n",
    "percentage = integral_contour / integral_total * 100\n",
    "\n",
    "print(f\"The contour at level {level} encloses approximately {percentage:.2f}% of the data.\")\n",
    "\n",
    "\n"
   ]
  },
  {
   "cell_type": "code",
   "execution_count": 40,
   "id": "8e997e4e",
   "metadata": {},
   "outputs": [
    {
     "name": "stdout",
     "output_type": "stream",
     "text": [
      "Desert 11.653955869832314\n",
      "Forest 44.18842831945931\n"
     ]
    }
   ],
   "source": [
    "# print('Desert',np.mean(t1.direction_std))\n",
    "# print('Forest',np.mean(t2.direction_std))"
   ]
  },
  {
   "cell_type": "markdown",
   "id": "17825626",
   "metadata": {},
   "source": [
    "### Histogram Method"
   ]
  },
  {
   "cell_type": "code",
   "execution_count": 36,
   "id": "26d878fb",
   "metadata": {},
   "outputs": [
    {
     "data": {
      "image/png": "[encoded data removed]",
      "text/plain": [
       "<Figure size 504x504 with 1 Axes>"
      ]
     },
     "metadata": {
      "needs_background": "light"
     },
     "output_type": "display_data"
    }
   ],
   "source": [
    "\n",
    "f, ax = plt.subplots(1, 1, figsize=(7, 7))\n",
    "\n",
    "# Using histplot with kind='kde' to create heatmap-like visualizations\n",
    "sns.histplot(data=alltempconcat, x='speed_avg', y='direction_std', cmap='Oranges', ax=ax, cbar=False, bins=100, label='All Data')\n",
    "# sns.histplot(data=forestchunks, x='speed_avg', y='direction_std', cmap='Greens', ax=ax, cbar=True, label='Forest')\n",
    "# sns.histplot(data=urbanchunks, x='speed_avg', y='direction_std', cmap='Purples', ax=ax, cbar=True, label='Urban')\n",
    "sns.histplot(data=t1, x='speed_avg', y='direction_std', cmap='Blues', ax=ax, cbar=False, bins=100, label='Our Data')\n",
    "\n",
    "ax.set_xlim(-1,7)\n",
    "ax.set_ylim(-10,90)\n",
    "ax.set_xlabel('Mean wind speed  \\n (m/s)')\n",
    "ax.set_ylabel('Standard deviation \\n in direction')\n",
    "\n",
    "# Custom legend patches\n",
    "desert_patch = mpatches.Patch(color=sns.color_palette(\"Oranges\")[2], label='All Data', alpha=0.5)\n",
    "# forest_patch = mpatches.Patch(color=sns.color_palette(\"Greens\")[2], label='Forest', alpha=0.5)\n",
    "# urban_patch = mpatches.Patch(color=sns.color_palette(\"Purples\")[2], label='Urban', alpha=0.7)\n",
    "t1_patch = mpatches.Patch(color=sns.color_palette(\"Blues\")[2], label='Our Data', alpha=0.7)\n",
    "\n",
    "# Add patches to the legend\n",
    "# ax.legend(handles=[desert_patch, forest_patch, urban_patch, t1_patch])\n",
    "ax.legend(handles=[desert_patch, t1_patch])\n",
    "mpl_functions.set_fontsize(f, 14)\n",
    "f.tight_layout(pad=1)"
   ]
  },
  {
   "cell_type": "markdown",
   "id": "964cc328",
   "metadata": {},
   "source": [
    "### Mean wind stat vs AIC selected stat "
   ]
  },
  {
   "cell_type": "code",
   "execution_count": 46,
   "id": "98d2d8a8",
   "metadata": {},
   "outputs": [],
   "source": [
    "dir='~/DataAnalysis/data/DesertWind/'\n",
    "df = pd.read_hdf(dir+\"20201020_172919_windy_b_data.hdf\")\n",
    "\n",
    "time = []\n",
    "time.append(0)\n",
    "dt=df.time_epoch.iloc[1]-df.time_epoch.iloc[0]\n",
    "for j in range(1,len(df)):\n",
    "    time.append(time[j-1]+dt)\n",
    "\n",
    "df['time'] = time    \n"
   ]
  },
  {
   "cell_type": "code",
   "execution_count": 31,
   "id": "5b31a759",
   "metadata": {},
   "outputs": [],
   "source": [
    "# df_forest = pd.read_hdf(\"../../Figure/methodfigure2/windgpsdata.hdf\")\n",
    "df_forest=pd.read_hdf('/home/gadfly/DataAnalysis/data/ForestWindData/202177_171430_windgps_data_an.hdf')\n",
    "time = df_forest.time_epoch-df_forest.time_epoch[0]\n",
    "df_forest['time']=time"
   ]
  },
  {
   "cell_type": "code",
   "execution_count": 52,
   "id": "51f2daec",
   "metadata": {},
   "outputs": [],
   "source": [
    "query='time<=47839'\n",
    "lws=df.query(query)\n",
    "lws.reset_index(inplace=True)"
   ]
  },
  {
   "cell_type": "code",
   "execution_count": 53,
   "id": "a73c5d5b",
   "metadata": {},
   "outputs": [],
   "source": [
    "query='time>=47840'\n",
    "hws=df.query(query)\n",
    "hws.reset_index(inplace=True)"
   ]
  },
  {
   "cell_type": "code",
   "execution_count": 61,
   "id": "165ac089",
   "metadata": {},
   "outputs": [],
   "source": [
    "df=hws.copy()\n",
    "loglags=np.arange(100,6100,100) \n",
    "# lags from 0-10mins, 30 sec intervals -- excluding lag zero since there is no standard dev over a period of 0\n",
    "totalrows=np.arange(0,int(len(df)/10000))\n",
    "listoflists_avgd = np.empty((len(totalrows), 0)).tolist()\n",
    "listoflists_avgs = np.empty((len(totalrows), 0)).tolist()\n",
    "listoflists_stdd = np.empty((len(totalrows), 0)).tolist()\n",
    "listoflists_stds = np.empty((len(totalrows), 0)).tolist()\n",
    "\n",
    "for j in totalrows:\n",
    "        listoflists_avgd[j], listoflists_avgs[j], listoflists_stdd[j], listoflists_stds[j] = temporal_functions.new_temporal_analysis(df.D, df.S2, lagarray=loglags, method='forward')\n",
    "\n",
    "# Convert to df\n",
    "df_avgd = pd.DataFrame(listoflists_avgd, columns=loglags)\n",
    "df_avgs = pd.DataFrame(listoflists_avgs, columns=loglags)\n",
    "df_stdd = pd.DataFrame(listoflists_stdd, columns=loglags)\n",
    "df_stds = pd.DataFrame(listoflists_stds, columns=loglags)\n",
    "\n",
    "test_ddf=pd.DataFrame(columns = ['speed_std', 'direction_std', 'speed_avg', 'direction_avg'])\n",
    "i=0\n",
    "frames = []  # list to hold individual DataFrames\n",
    "\n",
    "for k in df_avgd.index:\n",
    "    xtra = {\n",
    "        'speed_std': df_stds.iloc[k,:], \n",
    "        'direction_std': df_stdd.iloc[k,:],\n",
    "        'speed_avg': df_avgs.iloc[k,:], \n",
    "        'direction_avg': df_avgd.iloc[k,:],\n",
    "    }\n",
    "    frames.append(pd.DataFrame(xtra))\n",
    "\n",
    "# Concatenate all the data frames in the 'frames' list\n",
    "test_ddf = pd.concat(frames)\n",
    "\n",
    "test_ddf.reset_index(inplace=True)\n",
    "test_ddf.rename(columns={'index':'time'}, inplace=True)\n",
    "\n",
    "test_ddf[['environment']]=.001 #based on environment\n",
    "test_ddf[['group']]=1 #based on order of data collection\n",
    "test_ddf.direction_std=test_ddf.direction_std*180/np.pi #make it degrees again\n",
    "test_ddf.time=test_ddf.time*.1 #fix the time to be accurate \n"
   ]
  },
  {
   "cell_type": "code",
   "execution_count": 62,
   "id": "6d20da64",
   "metadata": {},
   "outputs": [],
   "source": [
    "folder_path='/home/gadfly/DataAnalysis/data/LagAnalysisPaper/maskedJaleesa/LowRes/'\n",
    "test_ddf.to_hdf(str(folder_path)+'hws_temporal.hdf', key='data',mode='w')"
   ]
  },
  {
   "cell_type": "code",
   "execution_count": 138,
   "id": "f800a976",
   "metadata": {},
   "outputs": [],
   "source": [
    "df_windy_temporal=pd.read_hdf(folder_path+'windy_temporal.hdf')\n",
    "df_notwindy_temporal=pd.read_hdf(folder_path+'notwindy_temporal.hdf')\n",
    "df_forest_temporal=pd.read_hdf(folder_path+'forest_temporal.hdf')\n",
    "\n",
    "df_windy_temporal['turb_intensity']=df_windy_temporal['speed_std']/df_windy_temporal['speed_avg']\n",
    "df_notwindy_temporal['turb_intensity']=df_notwindy_temporal['speed_std']/df_notwindy_temporal['speed_avg']\n",
    "df_forest_temporal['turb_intensity']=df_forest_temporal['speed_std']/df_forest_temporal['speed_avg']"
   ]
  },
  {
   "cell_type": "code",
   "execution_count": 139,
   "id": "a991f6c3",
   "metadata": {},
   "outputs": [
    {
     "name": "stdout",
     "output_type": "stream",
     "text": [
      "HWS 19.403883482508572\n",
      "LWS 18.506990690073383\n",
      "Forest 19.25043166134188\n"
     ]
    }
   ],
   "source": [
    "print('HWS',np.mean(df_windy_temporal.direction_std))\n",
    "print('LWS',np.mean(df_notwindy_temporal.direction_std))\n",
    "print('Forest',np.mean(df_forest_temporal.direction_std))"
   ]
  },
  {
   "cell_type": "code",
   "execution_count": 140,
   "id": "0b163fb5",
   "metadata": {},
   "outputs": [
    {
     "name": "stdout",
     "output_type": "stream",
     "text": [
      "HWS 0.2720368859722454\n",
      "LWS 0.25759813619335786\n",
      "Forest 0.26713574428323617\n"
     ]
    }
   ],
   "source": [
    "print('HWS',np.mean(df_windy_temporal.turb_intensity))\n",
    "print('LWS',np.mean(df_notwindy_temporal.turb_intensity))\n",
    "print('Forest',np.mean(df_forest_temporal.turb_intensity))"
   ]
  },
  {
   "cell_type": "code",
   "execution_count": 144,
   "id": "39d23c96",
   "metadata": {},
   "outputs": [
    {
     "name": "stdout",
     "output_type": "stream",
     "text": [
      "HWS 160.2489259429966\n",
      "LWS 160.1528946829234\n",
      "Forest 158.41363845923922\n"
     ]
    }
   ],
   "source": [
    "print('HWS',np.mean(df_windy_temporal.speed_avg))\n",
    "print('LWS',np.mean(df_notwindy_temporal.speed_avg))\n",
    "print('Forest',np.mean(df_forest_temporal.speed_avg))"
   ]
  },
  {
   "cell_type": "code",
   "execution_count": null,
   "id": "8302fda3",
   "metadata": {},
   "outputs": [],
   "source": [
    "# c=['peru', 'mediumseagreen', 'rebeccapurple', 'mediumseagreen', 'rebeccapurple', 'rebeccapurple', 'coral', 'coral', 'rebeccapurple', 'rebeccapurple']\n",
    "\n",
    "# f, ax =plt.subplots(1,1, figsize=(5,5), layout='tight')\n",
    "\n",
    "# for i in range(0,len(alltemp)):\n",
    "#     ax.scatter(alltemp[i].speed_avg, np.abs(alltemp[i].direction_std),  s=4, color=c[i], alpha=.35, linewidth=None, rasterized=True)\n",
    "\n",
    "# slope, intercept = np.polyfit(desertchunks.speed_avg, desertchunks.direction_std, 1)\n",
    "# abline_values = [slope * i + intercept for i in desertchunks.speed_avg]\n",
    "# ax.plot(desertchunks.speed_avg, abline_values, 'chocolate', linewidth=1)\n",
    "# slope, intercept = np.polyfit(forestchunks.speed_avg, forestchunks.direction_std, 1)\n",
    "# abline_values = [slope * i + intercept for i in forestchunks.speed_avg]\n",
    "# ax.plot(forestchunks.speed_avg, abline_values, 'forestgreen', linewidth=1)  \n",
    "\n",
    "\n",
    "# ax.set_xlabel('Mean wind speed  \\n (m/s)')\n",
    "# ax.set_ylabel('Standard deviation \\n in direction')\n",
    "# fifi.mpl_functions.set_fontsize(f, 14)"
   ]
  },
  {
   "cell_type": "code",
   "execution_count": null,
   "id": "0e17e245",
   "metadata": {},
   "outputs": [],
   "source": [
    "# f, ax = plt.subplots(1, 1, figsize=(7, 7))\n",
    "# sns.kdeplot(data=desertchunks, x='speed_avg', y='direction_std', cmap='Oranges', shade=True, ax=ax, alpha=0.8, thresh=0.05, label='Desert')\n",
    "# sns.kdeplot(data=forestchunks, x='speed_avg', y='direction_std', cmap='Greens', shade=True, ax=ax, alpha=1, label='Forest')\n",
    "# sns.kdeplot(data=urbanchunks, x='speed_avg', y='direction_std', cmap='Purples', shade=True, ax=ax, alpha=0.7, thresh=0.05, label='Urban')  # Assuming 't1' is another dataset\n",
    "# sns.kdeplot(data=t1, x='speed_avg', y='direction_std', cmap='Blues', shade=True, ax=ax, alpha=0.7, thresh=0.05, label='Our Data')  # Assuming 't1' is another dataset\n",
    "# ax.set_xlim(-1,7)\n",
    "# ax.set_ylim(-10,80)\n",
    "# ax.set_xlabel('Mean wind speed  \\n (m/s)')\n",
    "# ax.set_ylabel('Standard deviation \\n in direction')\n",
    "\n",
    "# # mpl_functions.adjust_spines(ax,['left','bottom'],\n",
    "# #                             spine_locations={'left': 1,'bottom': 1}, \n",
    "# #                             smart_bounds=True,   \n",
    "# #                             xticks=[0,7],\n",
    "# #                             yticks=[0,80],\n",
    "# #                             linewidth=0.5)\n",
    "\n",
    "\n",
    "# # Custom legend patches\n",
    "# desert_patch = mpatches.Patch(color=sns.color_palette(\"Oranges\")[2], label='Desert', alpha=0.5)\n",
    "# forest_patch = mpatches.Patch(color=sns.color_palette(\"Greens\")[2], label='Forest', alpha=0.5)\n",
    "# urban_patch = mpatches.Patch(color=sns.color_palette(\"Purples\")[2], label='Urban', alpha=0.7)\n",
    "# t1_patch = mpatches.Patch(color=sns.color_palette(\"Blues\")[2], label='Our Data', alpha=0.7)\n",
    "\n",
    "# # Add patches to the legend\n",
    "# ax.legend(handles=[desert_patch, forest_patch, urban_patch,t1_patch])\n",
    "\n",
    "\n",
    "# mpl_functions.set_fontsize(f, 14)\n",
    "# # f.savefig('../../Figure/LagAll.jpeg', dpi=300, bbox_inches = \"tight\")"
   ]
  }
 ],
 "metadata": {
  "kernelspec": {
   "display_name": "pymac",
   "language": "python",
   "name": "pymac"
  },
  "language_info": {
   "codemirror_mode": {
    "name": "ipython",
    "version": 3
   },
   "file_extension": ".py",
   "mimetype": "text/x-python",
   "name": "python",
   "nbconvert_exporter": "python",
   "pygments_lexer": "ipython3",
   "version": "3.8.10"
  }
 },
 "nbformat": 4,
 "nbformat_minor": 5
}
