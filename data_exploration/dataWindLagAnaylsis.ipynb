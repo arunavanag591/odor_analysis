{
 "cells": [
  {
   "cell_type": "code",
   "execution_count": 1,
   "id": "60b053ac",
   "metadata": {},
   "outputs": [],
   "source": [
    "## udf\n",
    "import temporal_functions\n",
    "\n",
    "import os\n",
    "import sys\n",
    "\n",
    "import numpy as np\n",
    "import matplotlib.pyplot as plt\n",
    "from matplotlib import gridspec\n",
    "import matplotlib as mpl\n",
    "import pandas as pd\n",
    "import seaborn as sns\n",
    "import matplotlib.patches as mpatches\n",
    "from figurefirst import FigureLayout,mpl_functions\n",
    "\n",
    "import statsmodels.api as sm\n",
    "import statsmodels.formula.api as smf\n",
    "\n",
    "import multiprocessing\n",
    "from astropy import stats\n",
    "\n",
    "from scipy import stats\n",
    "\n",
    "from numpy import (isscalar, r_, log, around, unique, asarray, zeros,\n",
    "                   arange, sort, amin, amax, atleast_1d, sqrt, array,\n",
    "                   compress, pi, exp, ravel, count_nonzero, sin, cos,\n",
    "                   arctan2, hypot)\n",
    "\n",
    "\n",
    "from scipy import optimize\n",
    "from scipy import special\n",
    "\n",
    "import figurefirst as fifi"
   ]
  },
  {
   "cell_type": "code",
   "execution_count": 34,
   "id": "2b07d93d",
   "metadata": {},
   "outputs": [],
   "source": [
    "folder_path='/home/gadfly/DataAnalysis/data/LagAnalysisPaper/'"
   ]
  },
  {
   "cell_type": "code",
   "execution_count": 35,
   "id": "1a1af592",
   "metadata": {},
   "outputs": [],
   "source": [
    "t1=pd.read_hdf(folder_path+'dfs_for_temporalregression/10.20.20_temporal.hdf')\n",
    "t2=pd.read_hdf(folder_path+'dfs_for_temporalregression/7.7.21_temporal.hdf')\n",
    "t3=pd.read_hdf(folder_path+'dfs_for_temporalregression/9.26.21_temporal.hdf')\n",
    "t4=pd.read_hdf(folder_path+'dfs_for_temporalregression/10.29.21_temporal.hdf')\n",
    "t5=pd.read_hdf(folder_path+'dfs_for_temporalregression/10.30.21_temporal.hdf')\n",
    "t6=pd.read_hdf(folder_path+'dfs_for_temporalregression/1.8.22_temporal.hdf')\n",
    "t7=pd.read_hdf(folder_path+'dfs_for_temporalregression/1.11.22_temporal.hdf')\n",
    "t8=pd.read_hdf(folder_path+'dfs_for_temporalregression/1.15.22_temporal.hdf')\n",
    "t9=pd.read_hdf(folder_path+'dfs_for_temporalregression/4.30.22_temporal.hdf')\n",
    "t10=pd.read_hdf(folder_path+'dfs_for_temporalregression/5.1.22_temporal.hdf')\n",
    "t11=pd.read_hdf(folder_path+'dfs_for_temporalregression/5.2.22_temporal.hdf')\n",
    "t12=pd.read_hdf(folder_path+'dfs_for_temporalregression/6.1.22_temporal.hdf')\n",
    "t13=pd.read_hdf(folder_path+'dfs_for_temporalregression/6.3.22_temporal.hdf')\n",
    "t14=pd.read_hdf(folder_path+'dfs_for_temporalregression/6.7.22_temporal.hdf')\n",
    "t15=pd.read_hdf(folder_path+'dfs_for_temporalregression/6.8.22_temporal.hdf')\n",
    "t16=pd.read_hdf(folder_path+'dfs_for_temporalregression/6.22.22_temporal.hdf')\n",
    "\n",
    "# df1=pd.read_hdf(folder_path+'10.20.20_maskedgpsdata.hdf')\n",
    "# df2=pd.read_hdf(folder_path+'7.7.21_maskedgpsdata.hdf')\n",
    "# df3=pd.read_hdf(folder_path+'9.26.21_maskedgpsdata.hdf')\n",
    "# df4=pd.read_hdf(folder_path+'10.29.21_maskedgpsdata.hdf')\n",
    "# df5=pd.read_hdf(folder_path+'10.30.21_maskedgpsdata.hdf')\n",
    "# df6=pd.read_hdf(folder_path+'1.8.22_maskedgpsdata.hdf')\n",
    "# df7=pd.read_hdf(folder_path+'1.11.22_maskedgpsdata.hdf')\n",
    "# df8=pd.read_hdf(folder_path+'1.15.22_maskedgpsdata.hdf')\n",
    "# df9=pd.read_hdf(folder_path+'4.30.22_maskedgpsdata.hdf')\n",
    "# df10=pd.read_hdf(folder_path+'5.1.22_maskedgpsdata.hdf')\n",
    "# df11=pd.read_hdf(folder_path+'5.2.22_maskedgpsdata.hdf')\n",
    "# df12=pd.read_hdf(folder_path+'6.1.22_maskedgpsdata.hdf')\n",
    "# df13=pd.read_hdf(folder_path+'6.3.22_maskedgpsdata.hdf')\n",
    "# df14=pd.read_hdf(folder_path+'6.7.22_maskedgpsdata.hdf')\n",
    "# df15=pd.read_hdf(folder_path+'6.8.22_maskedgpsdata.hdf')\n",
    "# df16=pd.read_hdf(folder_path+'6.22.22_maskedgpsdata.hdf')"
   ]
  },
  {
   "cell_type": "code",
   "execution_count": 36,
   "id": "ef43c2cd",
   "metadata": {},
   "outputs": [],
   "source": [
    "# dfs = [\n",
    "#     pd.read_hdf(folder_path+'10.20.20_maskedgpsdata.hdf'),\n",
    "#     pd.read_hdf(folder_path+'7.7.21_maskedgpsdata.hdf'),\n",
    "#     pd.read_hdf(folder_path+'9.26.21_maskedgpsdata.hdf'),\n",
    "#     pd.read_hdf(folder_path+'10.29.21_maskedgpsdata.hdf'),\n",
    "#     pd.read_hdf(folder_path+'10.30.21_maskedgpsdata.hdf'),\n",
    "#     pd.read_hdf(folder_path+'1.8.22_maskedgpsdata.hdf'),\n",
    "#     pd.read_hdf(folder_path+'1.11.22_maskedgpsdata.hdf'),\n",
    "#     pd.read_hdf(folder_path+'1.15.22_maskedgpsdata.hdf'),\n",
    "#     pd.read_hdf(folder_path+'4.30.22_maskedgpsdata.hdf'),\n",
    "#     pd.read_hdf(folder_path+'5.1.22_maskedgpsdata.hdf'),\n",
    "#     pd.read_hdf(folder_path+'5.2.22_maskedgpsdata.hdf'),\n",
    "#     pd.read_hdf(folder_path+'6.1.22_maskedgpsdata.hdf'),\n",
    "#     pd.read_hdf(folder_path+'6.3.22_maskedgpsdata.hdf'),\n",
    "#     pd.read_hdf(folder_path+'6.7.22_maskedgpsdata.hdf'),\n",
    "#     pd.read_hdf(folder_path+'6.8.22_maskedgpsdata.hdf'),\n",
    "#     pd.read_hdf(folder_path+'6.22.22_maskedgpsdata.hdf')\n",
    "# ]\n",
    "\n",
    "# # List of corresponding filenames for saving\n",
    "# filenames = [\n",
    "#     '10.20.20_temporal.hdf',\n",
    "#     '7.7.21_temporal.hdf',\n",
    "#     '9.26.21_temporal.hdf',\n",
    "#     '10.29.21_temporal.hdf',\n",
    "#     '10.30.21_temporal.hdf',\n",
    "#     '1.8.22_temporal.hdf',\n",
    "#     '1.11.22_temporal.hdf',\n",
    "#     '1.15.22_temporal.hdf',\n",
    "#     '4.30.22_temporal.hdf',\n",
    "#     '5.1.22_temporal.hdf',\n",
    "#     '5.2.22_temporal.hdf',\n",
    "#     '6.1.22_temporal.hdf',\n",
    "#     '6.3.22_temporal.hdf',\n",
    "#     '6.7.22_temporal.hdf',\n",
    "#     '6.8.22_temporal.hdf',\n",
    "#     '6.22.22_temporal.hdf'\n",
    "# ]"
   ]
  },
  {
   "cell_type": "code",
   "execution_count": 37,
   "id": "bb0bf62d",
   "metadata": {},
   "outputs": [],
   "source": [
    "# loglags = np.arange(100,6100,100)\n",
    "\n",
    "# for idx, df in enumerate(dfs):\n",
    "#     print(filenames[idx])\n",
    "#     totalrows = np.arange(0, int(len(df)/10000))\n",
    "#     listoflists_avgd = np.empty((len(totalrows), 0)).tolist()\n",
    "#     listoflists_avgs = np.empty((len(totalrows), 0)).tolist()\n",
    "#     listoflists_stdd = np.empty((len(totalrows), 0)).tolist()\n",
    "#     listoflists_stds = np.empty((len(totalrows), 0)).tolist()\n",
    "\n",
    "#     for j in totalrows:\n",
    "#         listoflists_avgd[j], listoflists_avgs[j], listoflists_stdd[j], listoflists_stds[j] = temporal_functions.new_temporal_analysis(df.D_2, df.S2_2, lagarray=loglags, method='forward')\n",
    "\n",
    "#     # Convert to df\n",
    "#     df_avgd = pd.DataFrame(listoflists_avgd, columns=loglags)\n",
    "#     df_avgs = pd.DataFrame(listoflists_avgs, columns=loglags)\n",
    "#     df_stdd = pd.DataFrame(listoflists_stdd, columns=loglags)\n",
    "#     df_stds = pd.DataFrame(listoflists_stds, columns=loglags)\n",
    "\n",
    "#     frames = []\n",
    "#     for k in df_avgd.index:\n",
    "#         xtra = {\n",
    "#             'speed_std': df_stds.iloc[k,:], \n",
    "#             'direction_std': df_stdd.iloc[k,:],\n",
    "#             'speed_avg': df_avgs.iloc[k,:], \n",
    "#             'direction_avg': df_avgd.iloc[k,:],\n",
    "#         }\n",
    "#         frames.append(pd.DataFrame(xtra))\n",
    "\n",
    "#     test_ddf = pd.concat(frames)\n",
    "\n",
    "#     test_ddf.reset_index(inplace=True)\n",
    "#     test_ddf.rename(columns={'index':'time'}, inplace=True)\n",
    "\n",
    "#     test_ddf[['environment']] = .001\n",
    "#     test_ddf[['group']] = 1\n",
    "#     test_ddf.direction_std = test_ddf.direction_std*180/np.pi\n",
    "#     test_ddf.time = test_ddf.time*.1 \n",
    "\n",
    "#     # Save with the corresponding filename\n",
    "#     test_ddf.to_hdf(folder_path +'LowRes/'+ filenames[idx], key='data',mode='w')"
   ]
  },
  {
   "cell_type": "code",
   "execution_count": 24,
   "id": "b0e32fd4",
   "metadata": {},
   "outputs": [],
   "source": [
    "folder_path='/home/gadfly/DataAnalysis/data/LagAnalysisPaper/maskedJaleesa/LowRes/'\n",
    "t1=pd.read_hdf(folder_path+'10.20.20_temporal.hdf')\n",
    "t2=pd.read_hdf(folder_path+'7.7.21_temporal.hdf')\n",
    "t3=pd.read_hdf(folder_path+'9.26.21_temporal.hdf')\n",
    "t4=pd.read_hdf(folder_path+'10.29.21_temporal.hdf')\n",
    "t5=pd.read_hdf(folder_path+'10.30.21_temporal.hdf')\n",
    "t6=pd.read_hdf(folder_path+'1.8.22_temporal.hdf')\n",
    "t7=pd.read_hdf(folder_path+'1.11.22_temporal.hdf')\n",
    "t8=pd.read_hdf(folder_path+'1.15.22_temporal.hdf')\n",
    "t9=pd.read_hdf(folder_path+'4.30.22_temporal.hdf')\n",
    "t10=pd.read_hdf(folder_path+'5.1.22_temporal.hdf')\n",
    "t11=pd.read_hdf(folder_path+'5.2.22_temporal.hdf')\n",
    "t12=pd.read_hdf(folder_path+'6.1.22_temporal.hdf')\n",
    "t13=pd.read_hdf(folder_path+'6.3.22_temporal.hdf')\n",
    "t14=pd.read_hdf(folder_path+'6.7.22_temporal.hdf')\n",
    "t15=pd.read_hdf(folder_path+'6.8.22_temporal.hdf')\n",
    "t16=pd.read_hdf(folder_path+'6.22.22_temporal.hdf')"
   ]
  },
  {
   "cell_type": "code",
   "execution_count": 38,
   "id": "db50ee34",
   "metadata": {},
   "outputs": [],
   "source": [
    "# alltemp=[t1,t2,t4,t7,t8,t12,t13,t14,t15,t16]\n",
    "\n",
    "alltemp=[t1,t2,t3,t4,t5,t6,t7,t8,t9,t10,t11,t12,t13,t14,t15,t16]\n",
    "\n",
    "for i in range(len(alltemp)):\n",
    "    alltemp[i]['turb_intensity']=alltemp[i]['speed_std']/alltemp[i]['speed_avg']\n",
    "    \n",
    "alltempconcat=pd.concat(alltemp)\n",
    "alltempconcat=alltempconcat.reset_index(inplace=False)\n"
   ]
  },
  {
   "cell_type": "code",
   "execution_count": 39,
   "id": "a772c26f",
   "metadata": {},
   "outputs": [],
   "source": [
    "t1['turb_intensity']=t1['speed_std']/t1['speed_avg']"
   ]
  },
  {
   "cell_type": "code",
   "execution_count": 40,
   "id": "2f29cf80",
   "metadata": {},
   "outputs": [],
   "source": [
    "desertchunks=pd.concat([t1,t7,t8,t12,t13])\n",
    "forestchunks=pd.concat([t2,t4,t14,t15,t16])\n",
    "urbanchunks=pd.concat([t3,t5,t6,t9,t10,t11])\n",
    "desert=0,6,7,11,12\n",
    "forest=1,3,13,14,15\n",
    "urban=2,4,5,8,9,10"
   ]
  },
  {
   "cell_type": "code",
   "execution_count": 41,
   "id": "8771f3f7",
   "metadata": {},
   "outputs": [],
   "source": [
    "# c=['peru', 'mediumseagreen', 'rebeccapurple', 'mediumseagreen', 'rebeccapurple', 'rebeccapurple', 'coral', 'coral', 'rebeccapurple', 'rebeccapurple']\n",
    "\n",
    "# f, ax =plt.subplots(1,1, figsize=(5,5), layout='tight')\n",
    "\n",
    "# for i in range(0,len(alltemp)):\n",
    "#     ax.scatter(alltemp[i].speed_avg, np.abs(alltemp[i].direction_std),  s=4, color=c[i], alpha=.35, linewidth=None, rasterized=True)\n",
    "\n",
    "# slope, intercept = np.polyfit(desertchunks.speed_avg, desertchunks.direction_std, 1)\n",
    "# abline_values = [slope * i + intercept for i in desertchunks.speed_avg]\n",
    "# ax.plot(desertchunks.speed_avg, abline_values, 'chocolate', linewidth=1)\n",
    "# slope, intercept = np.polyfit(forestchunks.speed_avg, forestchunks.direction_std, 1)\n",
    "# abline_values = [slope * i + intercept for i in forestchunks.speed_avg]\n",
    "# ax.plot(forestchunks.speed_avg, abline_values, 'forestgreen', linewidth=1)  \n",
    "\n",
    "\n",
    "# ax.set_xlabel('Mean wind speed  \\n (m/s)')\n",
    "# ax.set_ylabel('Standard deviation \\n in direction')\n",
    "# fifi.mpl_functions.set_fontsize(f, 14)\n"
   ]
  },
  {
   "cell_type": "code",
   "execution_count": 42,
   "id": "8970b699",
   "metadata": {},
   "outputs": [],
   "source": [
    "desertchunks=desertchunks.reset_index(drop=True)\n",
    "forestchunks=forestchunks.reset_index(drop=True)\n",
    "urbanchunks=urbanchunks.reset_index(drop=True)"
   ]
  },
  {
   "cell_type": "markdown",
   "id": "b178ae12",
   "metadata": {},
   "source": [
    "### Plotting the Contour Map using Seaborn KDE"
   ]
  },
  {
   "cell_type": "code",
   "execution_count": 43,
   "id": "25fa70f5",
   "metadata": {},
   "outputs": [],
   "source": [
    "# f, ax = plt.subplots(1, 1, figsize=(7, 7))\n",
    "# sns.kdeplot(data=desertchunks, x='speed_avg', y='direction_std', cmap='Oranges', shade=True, ax=ax, alpha=0.8, thresh=0.05, label='Desert')\n",
    "# sns.kdeplot(data=forestchunks, x='speed_avg', y='direction_std', cmap='Greens', shade=True, ax=ax, alpha=1, label='Forest')\n",
    "# sns.kdeplot(data=urbanchunks, x='speed_avg', y='direction_std', cmap='Purples', shade=True, ax=ax, alpha=0.7, thresh=0.05, label='Urban')  # Assuming 't1' is another dataset\n",
    "# sns.kdeplot(data=t1, x='speed_avg', y='direction_std', cmap='Blues', shade=True, ax=ax, alpha=0.7, thresh=0.05, label='Our Data')  # Assuming 't1' is another dataset\n",
    "# ax.set_xlim(-1,7)\n",
    "# ax.set_ylim(-10,80)\n",
    "# ax.set_xlabel('Mean wind speed  \\n (m/s)')\n",
    "# ax.set_ylabel('Standard deviation \\n in direction')\n",
    "\n",
    "# # mpl_functions.adjust_spines(ax,['left','bottom'],\n",
    "# #                             spine_locations={'left': 1,'bottom': 1}, \n",
    "# #                             smart_bounds=True,   \n",
    "# #                             xticks=[0,7],\n",
    "# #                             yticks=[0,80],\n",
    "# #                             linewidth=0.5)\n",
    "\n",
    "\n",
    "# # Custom legend patches\n",
    "# desert_patch = mpatches.Patch(color=sns.color_palette(\"Oranges\")[2], label='Desert', alpha=0.5)\n",
    "# forest_patch = mpatches.Patch(color=sns.color_palette(\"Greens\")[2], label='Forest', alpha=0.5)\n",
    "# urban_patch = mpatches.Patch(color=sns.color_palette(\"Purples\")[2], label='Urban', alpha=0.7)\n",
    "# t1_patch = mpatches.Patch(color=sns.color_palette(\"Blues\")[2], label='Our Data', alpha=0.7)\n",
    "\n",
    "# # Add patches to the legend\n",
    "# ax.legend(handles=[desert_patch, forest_patch, urban_patch,t1_patch])\n",
    "\n",
    "\n",
    "# mpl_functions.set_fontsize(f, 14)\n",
    "# # f.savefig('../../Figure/LagAll.jpeg', dpi=300, bbox_inches = \"tight\")"
   ]
  },
  {
   "cell_type": "code",
   "execution_count": 44,
   "id": "417684e3",
   "metadata": {},
   "outputs": [
    {
     "data": {
      "image/png": "[encoded data removed]",
      "text/plain": [
       "<Figure size 504x504 with 1 Axes>"
      ]
     },
     "metadata": {
      "needs_background": "light"
     },
     "output_type": "display_data"
    }
   ],
   "source": [
    "f, ax = plt.subplots(1, 1, figsize=(7, 7))\n",
    "sns.kdeplot(data=alltempconcat, x='speed_avg', y='direction_std', cmap='Oranges', shade=True, ax=ax, label='All Data')\n",
    "# sns.kdeplot(data=forestchunks, x='speed_avg', y='direction_std', cmap='Greens', shade=True, ax=ax, alpha=1, label='Forest')\n",
    "# sns.kdeplot(data=urbanchunks, x='speed_avg', y='direction_std', cmap='Purples', shade=True, ax=ax, alpha=0.7, thresh=0.05, label='Urban')  # Assuming 't1' is another dataset\n",
    "# sns.kdeplot(data=t1, x='speed_avg', y='direction_std', cmap='Blues', shade=True, ax=ax, alpha=0.8, thresh=0.05, label='Our Data')  # Assuming 't1' is another dataset\n",
    "ax.scatter(t1.speed_avg, t1.direction_std, cmap='Blues', s=5)\n",
    "ax.set_xlim(-1,7)\n",
    "ax.set_ylim(-10,90)\n",
    "ax.set_xlabel('Mean wind speed  \\n (m/s)')\n",
    "ax.set_ylabel('Standard deviation \\n in direction')\n",
    "\n",
    "# mpl_functions.adjust_spines(ax,['left','bottom'],\n",
    "#                             spine_locations={'left': 1,'bottom': 1}, \n",
    "#                             smart_bounds=True,   \n",
    "#                             xticks=[0,7],\n",
    "#                             yticks=[0,80],\n",
    "#                             linewidth=0.5)\n",
    "\n",
    "\n",
    "# Custom legend patches\n",
    "desert_patch = mpatches.Patch(color=sns.color_palette(\"Oranges\")[2], label='All Data', alpha=0.5)\n",
    "# forest_patch = mpatches.Patch(color=sns.color_palette(\"Greens\")[2], label='Forest', alpha=0.5)\n",
    "# urban_patch = mpatches.Patch(color=sns.color_palette(\"Purples\")[2], label='Urban', alpha=0.7)\n",
    "t1_patch = mpatches.Patch(color=sns.color_palette(\"Blues\")[2], label='Our Data', alpha=0.7)\n",
    "\n",
    "# Add patches to the legend\n",
    "# ax.legend(handles=[desert_patch, forest_patch, urban_patch,t1_patch])\n",
    "ax.legend(handles=[desert_patch, t1_patch])\n",
    "\n",
    "\n",
    "mpl_functions.set_fontsize(f, 14)\n",
    "# f.savefig('../../Figure/LagAllwUrban2.jpeg', dpi=300, bbox_inches = \"tight\")"
   ]
  },
  {
   "cell_type": "markdown",
   "id": "17825626",
   "metadata": {},
   "source": [
    "### Histogram Method"
   ]
  },
  {
   "cell_type": "code",
   "execution_count": 36,
   "id": "26d878fb",
   "metadata": {},
   "outputs": [
    {
     "data": {
      "image/png": "[encoded data removed]",
      "text/plain": [
       "<Figure size 504x504 with 1 Axes>"
      ]
     },
     "metadata": {
      "needs_background": "light"
     },
     "output_type": "display_data"
    }
   ],
   "source": [
    "\n",
    "f, ax = plt.subplots(1, 1, figsize=(7, 7))\n",
    "\n",
    "# Using histplot with kind='kde' to create heatmap-like visualizations\n",
    "sns.histplot(data=alltempconcat, x='speed_avg', y='direction_std', cmap='Oranges', ax=ax, cbar=False, bins=100, label='All Data')\n",
    "# sns.histplot(data=forestchunks, x='speed_avg', y='direction_std', cmap='Greens', ax=ax, cbar=True, label='Forest')\n",
    "# sns.histplot(data=urbanchunks, x='speed_avg', y='direction_std', cmap='Purples', ax=ax, cbar=True, label='Urban')\n",
    "sns.histplot(data=t1, x='speed_avg', y='direction_std', cmap='Blues', ax=ax, cbar=False, bins=100, label='Our Data')\n",
    "\n",
    "ax.set_xlim(-1,7)\n",
    "ax.set_ylim(-10,90)\n",
    "ax.set_xlabel('Mean wind speed  \\n (m/s)')\n",
    "ax.set_ylabel('Standard deviation \\n in direction')\n",
    "\n",
    "# Custom legend patches\n",
    "desert_patch = mpatches.Patch(color=sns.color_palette(\"Oranges\")[2], label='All Data', alpha=0.5)\n",
    "# forest_patch = mpatches.Patch(color=sns.color_palette(\"Greens\")[2], label='Forest', alpha=0.5)\n",
    "# urban_patch = mpatches.Patch(color=sns.color_palette(\"Purples\")[2], label='Urban', alpha=0.7)\n",
    "t1_patch = mpatches.Patch(color=sns.color_palette(\"Blues\")[2], label='Our Data', alpha=0.7)\n",
    "\n",
    "# Add patches to the legend\n",
    "# ax.legend(handles=[desert_patch, forest_patch, urban_patch, t1_patch])\n",
    "ax.legend(handles=[desert_patch, t1_patch])\n",
    "mpl_functions.set_fontsize(f, 14)\n",
    "f.tight_layout(pad=1)"
   ]
  },
  {
   "cell_type": "code",
   "execution_count": null,
   "id": "964cc328",
   "metadata": {},
   "outputs": [],
   "source": []
  }
 ],
 "metadata": {
  "kernelspec": {
   "display_name": "pymac",
   "language": "python",
   "name": "pymac"
  },
  "language_info": {
   "codemirror_mode": {
    "name": "ipython",
    "version": 3
   },
   "file_extension": ".py",
   "mimetype": "text/x-python",
   "name": "python",
   "nbconvert_exporter": "python",
   "pygments_lexer": "ipython3",
   "version": "3.8.10"
  }
 },
 "nbformat": 4,
 "nbformat_minor": 5
}
