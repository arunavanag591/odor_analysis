{
 "cells": [
  {
   "cell_type": "markdown",
   "metadata": {},
   "source": [
    "### Data Visualization - Ideal vs Encountered"
   ]
  },
  {
   "cell_type": "code",
   "execution_count": 1,
   "metadata": {},
   "outputs": [],
   "source": [
    "#user-defined\n",
    "import ipynb.fs.full.helper as hp\n",
    "\n",
    "#dataframes\n",
    "import pandas as pd\n",
    "import h5py\n",
    "\n",
    "\n",
    "#suppress warnings\n",
    "import warnings\n",
    "warnings.simplefilter(action='ignore', category=FutureWarning)\n",
    "\n",
    "#math\n",
    "import numpy as np\n",
    "import math\n",
    "import scipy.fftpack\n",
    "from scipy import signal\n",
    "import scipy.interpolate as interpolate\n",
    "from scipy import integrate\n",
    "pd.TimeSeries = pd.Series \n",
    "\n",
    "#gps\n",
    "from geopy import distance\n",
    "import geopandas as gpd\n",
    "import utm\n",
    "import datetime as dt\n",
    "\n",
    "#plots\n",
    "import pylab as plt\n",
    "import matplotlib.pyplot as plt\n",
    "import matplotlib.animation as animation\n",
    "import matplotlib.lines as mlines\n",
    "from IPython.display import HTML\n"
   ]
  },
  {
   "cell_type": "markdown",
   "metadata": {},
   "source": [
    "#### Load Data"
   ]
  },
  {
   "cell_type": "code",
   "execution_count": 2,
   "metadata": {},
   "outputs": [],
   "source": [
    "#windbag\n",
    "bag_raw=pd.read_hdf('~/Documents/Myfiles/DataAnalysis/data/test_animation_bag02_run02/anim_time.hdf')\n",
    "we=pd.read_hdf('~/Documents/Myfiles/DataAnalysis/data/test_animation_bag02_run02/ewdatabag02.hdf')\n",
    "ns=pd.read_hdf('~/Documents/Myfiles/DataAnalysis/data/test_animation_bag02_run02/nsdatabag02.hdf')\n",
    "\n",
    "#odorbag\n",
    "odor= pd.read_hdf('~/Documents/Myfiles/DataAnalysis/data/Interpolated_0.h5')\n",
    "time= odor.master_time-odor.master_time[0]\n",
    "odor.insert(1,'sync_time',time) "
   ]
  },
  {
   "cell_type": "markdown",
   "metadata": {},
   "source": [
    "#### Converting lat lon information to meters"
   ]
  },
  {
   "cell_type": "code",
   "execution_count": 3,
   "metadata": {},
   "outputs": [],
   "source": [
    "from shapely.geometry import Point\n",
    "odor['geometry'] = odor.apply(lambda row: Point(row.lon, row.lat), axis=1)\n",
    "\n",
    "geodf = gpd.GeoDataFrame(odor)\n",
    "geodf.crs= {'init': 'epsg:4326'}\n",
    "# change the projection of geodf\n",
    "geodf = geodf.to_crs(\"+proj=utm +zone=11 +ellps=WGS84 +datum=WGS84 +units=m +no_def\")\n",
    "\n",
    "geodf[\"x\"] = geodf.geometry.apply(lambda row:row.x)\n",
    "geodf[\"y\"] = geodf.geometry.apply(lambda row:row.y)"
   ]
  },
  {
   "cell_type": "code",
   "execution_count": 4,
   "metadata": {},
   "outputs": [],
   "source": [
    "#source location to meters\n",
    "source = (40.79376709443614, -119.15757512132207)\n",
    "u =  utm.from_latlon(40.79376709443614, -119.15757512132207)"
   ]
  },
  {
   "cell_type": "code",
   "execution_count": 5,
   "metadata": {},
   "outputs": [],
   "source": [
    "#adding sync_time from zero, optional\n",
    "\n",
    "newtime= bag_raw.sync_time-bag_raw.sync_time.iloc[0]\n",
    "bag_raw.insert(1,'ntime',newtime) \n",
    "\n",
    "newtime=newtime.reset_index()\n",
    "# newtime = newtime.drop(columns=['index'])\n",
    "\n",
    "we.insert(0,'sync_time',newtime.sync_time)\n",
    "ns.insert(0,'sync_time',newtime.sync_time)"
   ]
  },
  {
   "cell_type": "markdown",
   "metadata": {},
   "source": [
    "#### Selecting a smaller slot of data"
   ]
  },
  {
   "cell_type": "code",
   "execution_count": 6,
   "metadata": {},
   "outputs": [],
   "source": [
    "query = 'sync_time >= 150 and sync_time <=180'\n",
    "dfo = odor.query(query)\n",
    "dfwe = we.query(query)\n",
    "dfns = ns.query(query)"
   ]
  },
  {
   "cell_type": "code",
   "execution_count": 14,
   "metadata": {},
   "outputs": [
    {
     "data": {
      "text/plain": [
       "sync_time       150.100097\n",
       "particle0      -156.450021\n",
       "particle1      -156.245015\n",
       "particle2      -156.043009\n",
       "particle3      -155.843004\n",
       "                   ...    \n",
       "particle2992           NaN\n",
       "particle2993           NaN\n",
       "particle2994           NaN\n",
       "particle2995           NaN\n",
       "particle2996           NaN\n",
       "Name: 1501, Length: 2998, dtype: float64"
      ]
     },
     "execution_count": 14,
     "metadata": {},
     "output_type": "execute_result"
    }
   ],
   "source": [
    "dfwe.iloc[1]"
   ]
  },
  {
   "cell_type": "markdown",
   "metadata": {},
   "source": [
    "#### Animation 01 - Wind Only"
   ]
  },
  {
   "cell_type": "code",
   "execution_count": 4,
   "metadata": {},
   "outputs": [],
   "source": [
    "fig = plt.figure()\n",
    "ax = plt.axes(xlim=(-25,2.5), ylim=(-16,3))\n",
    "ax.set_xlabel('Eastwest (meters)')\n",
    "ax.set_ylabel('NorthSouth (meters)')\n",
    "plt.close()\n",
    "line, = ax.plot([],[], 'o', lw=2)\n",
    "\n",
    "def init():\n",
    "    line.set_data([],[])\n",
    "    return line,\n",
    "\n",
    "def get_data_x(i):\n",
    "    return we.loc[i]\n",
    "\n",
    "def get_data_y(i):\n",
    "    return ns.loc[i]\n",
    "\n",
    "def update(i):\n",
    "    x = get_data_x(i)\n",
    "    y = get_data_y(i)\n",
    "    line.set_data(x,y)\n",
    "    return line,\n",
    "\n",
    "an = animation.FuncAnimation(fig,update,frames = pd.Index.intersection(we.index,ns.index),\n",
    "                              interval = 5, blit=False)\n",
    "#an.save('../../../Research/Images/Video/fast_flow.mp4', fps=100, extra_args=['-vcodec', 'libx264'])\n",
    "# plt.show()"
   ]
  },
  {
   "cell_type": "code",
   "execution_count": 13,
   "metadata": {},
   "outputs": [
    {
     "data": {
      "text/plain": [
       "[<matplotlib.lines.Line2D at 0x7fb04cebf790>]"
      ]
     },
     "execution_count": 13,
     "metadata": {},
     "output_type": "execute_result"
    },
    {
     "data": {
      "image/png": "[encoded data removed]",
      "text/plain": [
       "<Figure size 432x288 with 1 Axes>"
      ]
     },
     "metadata": {
      "needs_background": "light"
     },
     "output_type": "display_data"
    }
   ],
   "source": [
    "#odor data - view\n",
    "plt.plot(odor.sync_time, odor.odor)"
   ]
  },
  {
   "cell_type": "markdown",
   "metadata": {},
   "source": [
    "#### 2D scatter plot for entire 300 seconds for ideal vs actual odor counters"
   ]
  },
  {
   "cell_type": "code",
   "execution_count": 15,
   "metadata": {},
   "outputs": [],
   "source": [
    "xfromsrc= geodf.x-u[0]\n",
    "geodf.insert(10,'xsrc',xfromsrc) "
   ]
  },
  {
   "cell_type": "code",
   "execution_count": 16,
   "metadata": {},
   "outputs": [],
   "source": [
    "yfromsrc = geodf.y-u[1]\n",
    "geodf.insert(11,'ysrc', yfromsrc)"
   ]
  },
  {
   "cell_type": "code",
   "execution_count": 17,
   "metadata": {},
   "outputs": [
    {
     "data": {
      "text/plain": [
       "(-16.0, 3.0)"
      ]
     },
     "execution_count": 17,
     "metadata": {},
     "output_type": "execute_result"
    },
    {
     "data": {
      "image/png": "[encoded data removed]",
      "text/plain": [
       "<Figure size 576x288 with 1 Axes>"
      ]
     },
     "metadata": {
      "needs_background": "light"
     },
     "output_type": "display_data"
    }
   ],
   "source": [
    "fig, ax = plt.subplots(1, figsize=(8, 4))\n",
    "fig.suptitle('Odor Encounters')\n",
    "\n",
    "# Plot the data\n",
    "ax.scatter(geodf.xsrc, geodf.ysrc, c=geodf.odor, cmap='magma', s= 0.8)\n",
    "ax.set_xlabel('Longitude (meters)')\n",
    "ax.set_ylabel('Latitude(meters)')\n",
    "plt.plot(0,0, marker='x', markersize=15)\n",
    "# Show the grid lines as dark grey lines\n",
    "ax.grid(b=True, which='major', color='#666666', linestyle='-')\n",
    "plt.plot(we.particle0,ns.particle0)\n",
    "ax.set_xlim(-25,5)\n",
    "ax.set_ylim(-16,3)"
   ]
  },
  {
   "cell_type": "markdown",
   "metadata": {},
   "source": [
    "#### 2D scatter plot for high odor concentration vs ideal wind particle"
   ]
  },
  {
   "cell_type": "code",
   "execution_count": 18,
   "metadata": {},
   "outputs": [],
   "source": [
    "query = 'odor >= 7'\n",
    "df_t=geodf.query(query)\n",
    "df_t=df_t.reset_index()"
   ]
  },
  {
   "cell_type": "code",
   "execution_count": 19,
   "metadata": {
    "scrolled": true
   },
   "outputs": [
    {
     "data": {
      "text/plain": [
       "(-16.0, 3.0)"
      ]
     },
     "execution_count": 19,
     "metadata": {},
     "output_type": "execute_result"
    },
    {
     "data": {
      "image/png": "[encoded data removed]",
      "text/plain": [
       "<Figure size 576x288 with 1 Axes>"
      ]
     },
     "metadata": {
      "needs_background": "light"
     },
     "output_type": "display_data"
    }
   ],
   "source": [
    "fig, ax = plt.subplots(1, figsize=(8, 4))\n",
    "fig.suptitle('Odor High Concentration Encounters')\n",
    "\n",
    "# Plot the data\n",
    "ax.scatter(df_t.xsrc, df_t.ysrc, c=df_t.odor, cmap='magma', s= 15)\n",
    "ax.set_xlabel('Longitude (meters)')\n",
    "ax.set_ylabel('Latitude(meters)')\n",
    "plt.plot(0,0, marker='x', markersize=15)\n",
    "# Show the grid lines as dark grey lines\n",
    "ax.grid(b=True, which='major', color='#666666', linestyle='-')\n",
    "plt.plot(we.particle0,ns.particle0, markersize=20, c='b')\n",
    "ax.set_xlim(-25,1)\n",
    "ax.set_ylim(-16,3)"
   ]
  },
  {
   "cell_type": "markdown",
   "metadata": {},
   "source": [
    "#### ANIMATION 02 - Ideal vs Encountered Odor"
   ]
  },
  {
   "cell_type": "code",
   "execution_count": 20,
   "metadata": {},
   "outputs": [],
   "source": [
    "query_ = 'sync_time >= 150 and sync_time <=180'\n",
    "geodfsub = geodf.query(query_)"
   ]
  },
  {
   "cell_type": "code",
   "execution_count": 21,
   "metadata": {},
   "outputs": [],
   "source": [
    "geodfsub = geodfsub.reset_index()"
   ]
  },
  {
   "cell_type": "code",
   "execution_count": 22,
   "metadata": {
    "scrolled": true
   },
   "outputs": [],
   "source": [
    "dfwe = dfwe.reset_index()\n",
    "dfns = dfns.reset_index()"
   ]
  },
  {
   "cell_type": "code",
   "execution_count": 26,
   "metadata": {
    "scrolled": true
   },
   "outputs": [],
   "source": [
    "## Setting figure\n",
    "\n",
    "fig = plt.figure()\n",
    "ax = plt.axes(xlim=(-25,2.5), ylim=(-16,3))\n",
    "ax.set_xlabel('Eastwest (meters)')\n",
    "ax.set_ylabel('NorthSouth (meters)')\n",
    "plt.close()\n",
    "\n",
    "wind, = ax.plot([],[], 'o', color =\"b\", lw = 2)\n",
    "line, = ax.plot([],[], 'x', color = \"r\", lw = 2)\n",
    "\n",
    "\n",
    "## Callbacks \n",
    "\n",
    "def init():\n",
    "    line.set_data([],[])  \n",
    "    wind.set_data([],[])\n",
    "    return wind,\n",
    "\n",
    "def get_data_we_(i):\n",
    "    return dfwe.loc[i]\n",
    "\n",
    "def get_data_ns_(i):\n",
    "    return dfns.loc[i]\n",
    "\n",
    "\n",
    "def get_data_x_(i):\n",
    "    return geodfsub.xsrc[i]\n",
    "\n",
    "def get_data_y_(i):\n",
    "    return geodfsub.ysrc[i]"
   ]
  },
  {
   "cell_type": "code",
   "execution_count": 27,
   "metadata": {},
   "outputs": [],
   "source": [
    "def update(i):\n",
    "    wex = get_data_we_(i)\n",
    "    nsy = get_data_ns_(i)\n",
    "    wind.set_data(wex,nsy)\n",
    "#     x = get_data_x_(i)\n",
    "#     y = get_data_y_(i)\n",
    "#     line.set_data(x,y)\n",
    "    \n",
    "    return wind,\n",
    "\n"
   ]
  },
  {
   "cell_type": "code",
   "execution_count": 29,
   "metadata": {},
   "outputs": [],
   "source": [
    "# ani = animation.FuncAnimation(fig, update, init_func=init, frames = int(len(geodfsub.ysrc)/2), interval = 5, blit=False)\n",
    "ani = animation.FuncAnimation(fig, update, init_func=init, frames = 500, interval = 5, blit=False)\n",
    "\n",
    "\n",
    "#ani.save('../../../Research/Images/Video/test_ideal.mp4', fps=100, extra_args=['-vcodec', 'libx264'])\n",
    "#HTML(ani.to_html5_video())\n",
    "\n",
    "\n"
   ]
  },
  {
   "cell_type": "markdown",
   "metadata": {},
   "source": [
    "#### Alternative animation method using multiple plots (extremely slow)"
   ]
  },
  {
   "cell_type": "code",
   "execution_count": 39,
   "metadata": {},
   "outputs": [],
   "source": [
    "dir = '../../../Research/Images/recurringplots/'\n",
    "for i in range(300):\n",
    "    plt.figure(figsize=(5,5))\n",
    "    plt.xlim(-25,2)\n",
    "    plt.ylim(-16,3)\n",
    "    plt.scatter(geodfsub.xsrc[i],geodfsub.ysrc[i], c=geodfsub.odor[i], cmap='magma', s=20)\n",
    "    plt.plot(dfwe.loc[i],dfns.loc[i])\n",
    "    \n",
    "    plt.savefig(dir + \"plot\" + str(i) + \".png\")\n",
    "    plt.close()"
   ]
  },
  {
   "cell_type": "code",
   "execution_count": 36,
   "metadata": {
    "scrolled": true
   },
   "outputs": [],
   "source": [
    "#dfns = dfns.drop(columns=[ 'index1', 'sync_time'])\n",
    "dfwe = dfwe.drop(columns=['index', 'sync_time'])"
   ]
  },
  {
   "cell_type": "code",
   "execution_count": 89,
   "metadata": {},
   "outputs": [
    {
     "data": {
      "text/plain": [
       "(301, 2997)"
      ]
     },
     "execution_count": 89,
     "metadata": {},
     "output_type": "execute_result"
    }
   ],
   "source": [
    "dfns.shape "
   ]
  },
  {
   "cell_type": "code",
   "execution_count": 90,
   "metadata": {},
   "outputs": [
    {
     "data": {
      "text/plain": [
       "(301, 2997)"
      ]
     },
     "execution_count": 90,
     "metadata": {},
     "output_type": "execute_result"
    }
   ],
   "source": [
    "dfwe.shape"
   ]
  },
  {
   "cell_type": "code",
   "execution_count": 91,
   "metadata": {},
   "outputs": [
    {
     "data": {
      "text/plain": [
       "(59762,)"
      ]
     },
     "execution_count": 91,
     "metadata": {},
     "output_type": "execute_result"
    }
   ],
   "source": [
    "geodf.ysrc.shape"
   ]
  },
  {
   "cell_type": "markdown",
   "metadata": {},
   "source": [
    "geodf"
   ]
  },
  {
   "cell_type": "code",
   "execution_count": null,
   "metadata": {},
   "outputs": [],
   "source": []
  }
 ],
 "metadata": {
  "kernelspec": {
   "display_name": "Python 3",
   "language": "python",
   "name": "python3"
  },
  "language_info": {
   "codemirror_mode": {
    "name": "ipython",
    "version": 3
   },
   "file_extension": ".py",
   "mimetype": "text/x-python",
   "name": "python",
   "nbconvert_exporter": "python",
   "pygments_lexer": "ipython3",
   "version": "3.8.5"
  }
 },
 "nbformat": 4,
 "nbformat_minor": 4
}
