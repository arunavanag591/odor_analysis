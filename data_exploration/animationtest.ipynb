{
 "cells": [
  {
   "cell_type": "markdown",
   "metadata": {},
   "source": [
    "### Data Visualization - Ideal vs Encountered"
   ]
  },
  {
   "cell_type": "code",
   "execution_count": 1,
   "metadata": {},
   "outputs": [],
   "source": [
    "#user-defined\n",
    "import ipynb.fs.full.helper as hp\n",
    "\n",
    "#dataframes\n",
    "import pandas as pd\n",
    "import h5py\n",
    "\n",
    "\n",
    "#suppress warnings\n",
    "import warnings\n",
    "warnings.simplefilter(action='ignore', category=FutureWarning)\n",
    "\n",
    "#math\n",
    "import numpy as np\n",
    "import math\n",
    "import scipy.fftpack\n",
    "from scipy import signal\n",
    "import scipy.interpolate as interpolate\n",
    "from scipy import integrate\n",
    "pd.TimeSeries = pd.Series \n",
    "\n",
    "#gps\n",
    "from geopy import distance\n",
    "import geopandas as gpd\n",
    "import utm\n",
    "import datetime as dt\n",
    "\n",
    "#plots\n",
    "import pylab as plt\n",
    "import matplotlib.pyplot as plt\n",
    "import matplotlib.animation as animation\n",
    "import matplotlib.lines as mlines\n",
    "from IPython.display import HTML\n"
   ]
  },
  {
   "cell_type": "markdown",
   "metadata": {},
   "source": [
    "### Load Data"
   ]
  },
  {
   "cell_type": "code",
   "execution_count": 2,
   "metadata": {},
   "outputs": [],
   "source": [
    "set_number = 5\n",
    "\n",
    "dir = '~/Documents/Myfiles/DataAnalysis/data/Sprints/Run03/Set0'+str(set_number)+'/'\n",
    "windbag = 'wind0'+str(set_number)+'Run03.hdf'\n",
    "westeast_load = 'ewdata0'+str(set_number)+'Run03.hdf'\n",
    "northsouth_load= 'nsdata0'+str(set_number)+'Run03.hdf'\n",
    "odor_load = 'Interpolated_'+str(set_number)+'.h5'\n",
    "\n",
    "\n",
    "#windbag\n",
    "wind=pd.read_hdf(dir+windbag)\n",
    "we=pd.read_hdf(dir+westeast_load)\n",
    "ns=pd.read_hdf(dir+northsouth_load)\n",
    "\n",
    "#odorbag\n",
    "odor= pd.read_hdf(dir+odor_load)\n",
    "time= odor.master_time-odor.master_time[0]\n",
    "odor.insert(1,'sync_time',time) \n",
    "\n",
    "\n",
    "windn=pd.read_hdf('~/Documents/Myfiles/DataAnalysis/data/Sprints/Run03/Set05/wind05Run03_Interpolated.hdf')\n",
    "windn_sync_time=windn.master_time-windn.master_time[0]\n",
    "windn.insert(1,'sync_time',windn_sync_time)"
   ]
  },
  {
   "cell_type": "code",
   "execution_count": 3,
   "metadata": {},
   "outputs": [],
   "source": [
    "# to match length with wind - not the best solution\n",
    "odor.drop(odor.tail(20).index, \n",
    "        inplace = True)"
   ]
  },
  {
   "cell_type": "code",
   "execution_count": 4,
   "metadata": {},
   "outputs": [
    {
     "data": {
      "text/html": [
       "<div>\n",
       "<style scoped>\n",
       "    .dataframe tbody tr th:only-of-type {\n",
       "        vertical-align: middle;\n",
       "    }\n",
       "\n",
       "    .dataframe tbody tr th {\n",
       "        vertical-align: top;\n",
       "    }\n",
       "\n",
       "    .dataframe thead th {\n",
       "        text-align: right;\n",
       "    }\n",
       "</style>\n",
       "<table border=\"1\" class=\"dataframe\">\n",
       "  <thead>\n",
       "    <tr style=\"text-align: right;\">\n",
       "      <th></th>\n",
       "      <th>master_time</th>\n",
       "      <th>sync_time</th>\n",
       "      <th>odor</th>\n",
       "      <th>trisonica_U</th>\n",
       "      <th>trisonica_V</th>\n",
       "      <th>lat</th>\n",
       "      <th>lon</th>\n",
       "    </tr>\n",
       "  </thead>\n",
       "  <tbody>\n",
       "    <tr>\n",
       "      <th>0</th>\n",
       "      <td>1.603226e+09</td>\n",
       "      <td>0.000000</td>\n",
       "      <td>0.627272</td>\n",
       "      <td>1.103435</td>\n",
       "      <td>-2.259672</td>\n",
       "      <td>40.793861</td>\n",
       "      <td>-119.157532</td>\n",
       "    </tr>\n",
       "    <tr>\n",
       "      <th>1</th>\n",
       "      <td>1.603226e+09</td>\n",
       "      <td>0.004996</td>\n",
       "      <td>0.626049</td>\n",
       "      <td>1.137027</td>\n",
       "      <td>-2.216200</td>\n",
       "      <td>40.793861</td>\n",
       "      <td>-119.157532</td>\n",
       "    </tr>\n",
       "    <tr>\n",
       "      <th>2</th>\n",
       "      <td>1.603226e+09</td>\n",
       "      <td>0.009992</td>\n",
       "      <td>0.625092</td>\n",
       "      <td>1.170620</td>\n",
       "      <td>-2.172727</td>\n",
       "      <td>40.793861</td>\n",
       "      <td>-119.157532</td>\n",
       "    </tr>\n",
       "    <tr>\n",
       "      <th>3</th>\n",
       "      <td>1.603226e+09</td>\n",
       "      <td>0.014987</td>\n",
       "      <td>0.628726</td>\n",
       "      <td>1.204212</td>\n",
       "      <td>-2.129255</td>\n",
       "      <td>40.793861</td>\n",
       "      <td>-119.157532</td>\n",
       "    </tr>\n",
       "    <tr>\n",
       "      <th>4</th>\n",
       "      <td>1.603226e+09</td>\n",
       "      <td>0.019983</td>\n",
       "      <td>0.624702</td>\n",
       "      <td>1.237805</td>\n",
       "      <td>-2.085782</td>\n",
       "      <td>40.793861</td>\n",
       "      <td>-119.157532</td>\n",
       "    </tr>\n",
       "    <tr>\n",
       "      <th>...</th>\n",
       "      <td>...</td>\n",
       "      <td>...</td>\n",
       "      <td>...</td>\n",
       "      <td>...</td>\n",
       "      <td>...</td>\n",
       "      <td>...</td>\n",
       "      <td>...</td>\n",
       "    </tr>\n",
       "    <tr>\n",
       "      <th>59765</th>\n",
       "      <td>1.603226e+09</td>\n",
       "      <td>298.575356</td>\n",
       "      <td>0.691824</td>\n",
       "      <td>0.519112</td>\n",
       "      <td>2.627918</td>\n",
       "      <td>40.793807</td>\n",
       "      <td>-119.157631</td>\n",
       "    </tr>\n",
       "    <tr>\n",
       "      <th>59766</th>\n",
       "      <td>1.603226e+09</td>\n",
       "      <td>298.580352</td>\n",
       "      <td>0.693537</td>\n",
       "      <td>0.551097</td>\n",
       "      <td>2.657903</td>\n",
       "      <td>40.793807</td>\n",
       "      <td>-119.157631</td>\n",
       "    </tr>\n",
       "    <tr>\n",
       "      <th>59767</th>\n",
       "      <td>1.603226e+09</td>\n",
       "      <td>298.585348</td>\n",
       "      <td>0.692684</td>\n",
       "      <td>0.583082</td>\n",
       "      <td>2.687889</td>\n",
       "      <td>40.793807</td>\n",
       "      <td>-119.157632</td>\n",
       "    </tr>\n",
       "    <tr>\n",
       "      <th>59768</th>\n",
       "      <td>1.603226e+09</td>\n",
       "      <td>298.590343</td>\n",
       "      <td>0.693318</td>\n",
       "      <td>0.615067</td>\n",
       "      <td>2.717875</td>\n",
       "      <td>40.793807</td>\n",
       "      <td>-119.157632</td>\n",
       "    </tr>\n",
       "    <tr>\n",
       "      <th>59769</th>\n",
       "      <td>1.603226e+09</td>\n",
       "      <td>298.595339</td>\n",
       "      <td>0.693949</td>\n",
       "      <td>0.647051</td>\n",
       "      <td>2.747861</td>\n",
       "      <td>40.793807</td>\n",
       "      <td>-119.157632</td>\n",
       "    </tr>\n",
       "  </tbody>\n",
       "</table>\n",
       "<p>59770 rows × 7 columns</p>\n",
       "</div>"
      ],
      "text/plain": [
       "        master_time   sync_time      odor  trisonica_U  trisonica_V  \\\n",
       "0      1.603226e+09    0.000000  0.627272     1.103435    -2.259672   \n",
       "1      1.603226e+09    0.004996  0.626049     1.137027    -2.216200   \n",
       "2      1.603226e+09    0.009992  0.625092     1.170620    -2.172727   \n",
       "3      1.603226e+09    0.014987  0.628726     1.204212    -2.129255   \n",
       "4      1.603226e+09    0.019983  0.624702     1.237805    -2.085782   \n",
       "...             ...         ...       ...          ...          ...   \n",
       "59765  1.603226e+09  298.575356  0.691824     0.519112     2.627918   \n",
       "59766  1.603226e+09  298.580352  0.693537     0.551097     2.657903   \n",
       "59767  1.603226e+09  298.585348  0.692684     0.583082     2.687889   \n",
       "59768  1.603226e+09  298.590343  0.693318     0.615067     2.717875   \n",
       "59769  1.603226e+09  298.595339  0.693949     0.647051     2.747861   \n",
       "\n",
       "             lat         lon  \n",
       "0      40.793861 -119.157532  \n",
       "1      40.793861 -119.157532  \n",
       "2      40.793861 -119.157532  \n",
       "3      40.793861 -119.157532  \n",
       "4      40.793861 -119.157532  \n",
       "...          ...         ...  \n",
       "59765  40.793807 -119.157631  \n",
       "59766  40.793807 -119.157631  \n",
       "59767  40.793807 -119.157632  \n",
       "59768  40.793807 -119.157632  \n",
       "59769  40.793807 -119.157632  \n",
       "\n",
       "[59770 rows x 7 columns]"
      ]
     },
     "execution_count": 4,
     "metadata": {},
     "output_type": "execute_result"
    }
   ],
   "source": [
    "odor"
   ]
  },
  {
   "cell_type": "markdown",
   "metadata": {},
   "source": [
    "### Converting lat lon information to meters"
   ]
  },
  {
   "cell_type": "code",
   "execution_count": 5,
   "metadata": {},
   "outputs": [],
   "source": [
    "from shapely.geometry import Point\n",
    "odor['geometry'] = odor.apply(lambda row: Point(row.lon, row.lat), axis=1)\n",
    "\n",
    "geodf = gpd.GeoDataFrame(odor)\n",
    "geodf.crs= {'init': 'epsg:4326'}\n",
    "# change the projection of geodf\n",
    "geodf = geodf.to_crs(\"+proj=utm +zone=11 +ellps=WGS84 +datum=WGS84 +units=m +no_def\")\n",
    "\n",
    "geodf[\"x\"] = geodf.geometry.apply(lambda row:row.x)\n",
    "geodf[\"y\"] = geodf.geometry.apply(lambda row:row.y)\n",
    "\n",
    "#source location to meters\n",
    "source = (40.79376709443614, -119.15757512132207)\n",
    "u =  utm.from_latlon(40.79376709443614, -119.15757512132207)\n",
    "\n",
    "#adding sync_time from zero, optional\n",
    "\n",
    "newtime= wind.sync_time-wind.sync_time.iloc[0]\n",
    "wind.insert(1,'ntime',newtime) \n",
    "\n",
    "newtime=newtime.reset_index()\n",
    "# newtime = newtime.drop(columns=['index'])\n",
    "\n",
    "we.insert(0,'sync_time',newtime.sync_time)\n",
    "ns.insert(0,'sync_time',newtime.sync_time)\n",
    "\n",
    "xfromsrc= geodf.x-u[0]\n",
    "geodf.insert(10,'xsrc',xfromsrc) \n",
    "\n",
    "yfromsrc = geodf.y-u[1]\n",
    "geodf.insert(11,'ysrc', yfromsrc)"
   ]
  },
  {
   "cell_type": "markdown",
   "metadata": {},
   "source": [
    "### Selecting a smaller slot of data"
   ]
  },
  {
   "cell_type": "code",
   "execution_count": 24,
   "metadata": {},
   "outputs": [],
   "source": [
    "query = 'sync_time >= 200  and sync_time <=300'\n",
    "# dfo = odor.query(query)\n",
    "# dfwe = we.query(query)\n",
    "# dfns = ns.query(query)\n",
    "# dfwe = dfwe.reset_index()\n",
    "# dfns = dfns.reset_index()\n",
    "#sub data for odor location\n",
    "geodfsub = geodf.query(query)\n",
    "geodfsub = geodfsub.reset_index()\n",
    "#select a sub data for wind\n",
    "windnsub=windn.query(query)"
   ]
  },
  {
   "cell_type": "code",
   "execution_count": 25,
   "metadata": {},
   "outputs": [
    {
     "data": {
      "text/plain": [
       "19736"
      ]
     },
     "execution_count": 25,
     "metadata": {},
     "output_type": "execute_result"
    }
   ],
   "source": [
    "len(geodfsub)"
   ]
  },
  {
   "cell_type": "code",
   "execution_count": 26,
   "metadata": {},
   "outputs": [],
   "source": [
    "# drop additional time stamps if necessary\n",
    "\n",
    "# dfns = dfns.drop(columns=[ 'index1', 'sync_time'])\n",
    "# dfwe = dfwe.drop(columns=['index', 'sync_time'])\n",
    "# geodfsub = geodfsub.drop(columns = ['index', 'size'])\n",
    "#ns = ns.reset_index()\n",
    "# we = we.drop(columns=['sync_time'])\n",
    "# dfns = dfns.drop(columns=['index1'])\n",
    "# dfwe = dfwe.drop(columns=['index'])\n",
    "# geodfsub = geodfsub.drop(columns = ['index'])"
   ]
  },
  {
   "cell_type": "markdown",
   "metadata": {},
   "source": [
    "### Interpolate"
   ]
  },
  {
   "cell_type": "code",
   "execution_count": 27,
   "metadata": {},
   "outputs": [],
   "source": [
    "# df_odor_loc=pd.DataFrame({'odor_time': geodf.master_time,'xsrc': geodf.xsrc, 'ysrc':geodf.ysrc,})\n",
    "# df_wind_loc=pd.DataFrame({'wind_time': wind.time_epoch,'U': wind.U,'V': wind.V,})\n",
    "\n",
    "# df_new = pd.concat([df_odor_loc,df_wind_loc], sort=True)\n",
    "# combined_time = np.hstack([df_odor_loc.odor_time, df_wind_loc.wind_time])\n",
    "\n",
    "# df_new['time'] = combined_time\n",
    "# df_new=df_new.sort_values(by=['time'])\n",
    "\n",
    "# dt_odor = np.median(np.diff(df_new.odor_time.dropna().values))\n",
    "# print('dt Odor: ', dt_odor)\n",
    "# dt_wind = np.median(np.diff(df_new.wind_time.dropna().values))\n",
    "# print('dt Wind: ', dt_wind)\n",
    "\n",
    "# first_time = np.max([df_new.odor_time.min(), df_new.wind_time.min()])\n",
    "# last_time = np.min([df_new.odor_time.max(), df_new.wind_time.max()])\n",
    "# master_time = np.arange(first_time, last_time, dt_odor)\n",
    "\n",
    "# # create interpolation function and inteprolate sensor 1\n",
    "# df_odor_1= df_new[['odor_time', 'xsrc']].dropna()\n",
    "# func_interp_sensor_1 = scipy.interpolate.interp1d(df_odor_1.odor_time, df_odor_1.xsrc)\n",
    "# interp_odor_x = func_interp_sensor_1(master_time)\n",
    "\n",
    "# df_odor_2= df_new[['odor_time', 'ysrc']].dropna()\n",
    "# func_interp_sensor_1 = scipy.interpolate.interp1d(df_odor_2.odor_time, df_odor_2.ysrc)\n",
    "# interp_odor_y = func_interp_sensor_1(master_time)\n",
    "\n",
    "# df_wind_1= df_new[['wind_time', 'U']].dropna()\n",
    "# func_interp_sensor_1 = scipy.interpolate.interp1d(df_wind_1.wind_time, df_wind_1.U)\n",
    "# interp_wind_U = func_interp_sensor_1(master_time)\n",
    "\n",
    "# df_wind_2= df_new[['wind_time', 'V']].dropna()\n",
    "# func_interp_sensor_1 = scipy.interpolate.interp1d(df_wind_2.wind_time, df_wind_2.V)\n",
    "# interp_wind_V = func_interp_sensor_1(master_time)\n",
    "\n",
    "# windn = pd.DataFrame({'master_time': master_time,\n",
    "#                            'xsrc': interp_odor_x,\n",
    "#                            'ysrc': interp_odor_y,\n",
    "#                            'U': interp_wind_U,\n",
    "#                            'V': interp_wind_V,})\n",
    "\n",
    "# windn.to_hdf('~/Documents/Myfiles/DataAnalysis/data/Sprints/Run03/Set05/wind05Run03_Interpolated.hdf', key='df2', mode='w')"
   ]
  },
  {
   "cell_type": "markdown",
   "metadata": {},
   "source": [
    "#### Find Position from the Velocity"
   ]
  },
  {
   "cell_type": "code",
   "execution_count": 8,
   "metadata": {},
   "outputs": [],
   "source": [
    "westeast=pd.DataFrame(integrate.cumtrapz(windn.U[0:],windn.master_time[0:], axis=0, initial = 0.0))\n",
    "northsouth=pd.DataFrame(integrate.cumtrapz(windn.V[0:],windn.master_time[0:], axis=0, initial = 0.0))"
   ]
  },
  {
   "cell_type": "code",
   "execution_count": 15,
   "metadata": {},
   "outputs": [],
   "source": [
    "westeast = westeast.rename(columns={0: \"particle\"})\n",
    "northsouth = northsouth.rename(columns={0: \"particle\"})"
   ]
  },
  {
   "cell_type": "code",
   "execution_count": 30,
   "metadata": {},
   "outputs": [],
   "source": [
    "# posu=[]\n",
    "# posv=[]\n",
    "# for i in range(len(windnsub.master_time)):\n",
    "#     posu.append(integrate.cumtrapz(windnsub.U[i:],windnsub.master_time[i:], axis=0, initial = 0.0)) \n",
    "#     posv.append(integrate.cumtrapz(windnsub.V[i:],windnsub.master_time[i:], axis=0, initial = 0.0))"
   ]
  },
  {
   "cell_type": "code",
   "execution_count": 31,
   "metadata": {},
   "outputs": [],
   "source": [
    "#creating dataframes for each westeast particle and northsouth\n",
    "# westeast=pd.DataFrame(posu,columns=['particle{}'.format(x+1) for x in range(len(posu))]) #particle U\n",
    "# northsouth=pd.DataFrame(posv,columns=['particle{}'.format(x+1) for x in range(len(posv))]) #particle in V"
   ]
  },
  {
   "cell_type": "code",
   "execution_count": 32,
   "metadata": {},
   "outputs": [],
   "source": [
    "# dfi = pd.DataFrame()\n",
    "# dfi['index']=westeast.index\n",
    "# westeast=westeast.T\n",
    "# westeast.set_index(dfi.index, inplace=True)\n",
    "# westeast.columns = ['particle' + str(col) for col in westeast.columns]\n",
    "# delta=pd.DataFrame()\n",
    "# delta[0] = westeast.iloc[:,0]\n",
    "# for i in range(1,len(westeast.columns)):\n",
    "#     delta[i]=westeast['particle' + str(i)].shift(periods=i)\n",
    "\n",
    "# delta.columns = ['particle' + str(col) for col in delta.columns]\n",
    "# delta=delta.fillna(0)\n",
    "# #delta.to_hdf('~/Documents/Myfiles/DataAnalysis/data/Sprints/Run03/Set05/wind05Run03_Delta.hdf', key='df2', mode='w')\n",
    "\n",
    "# #converting rows to columns for position northsouth\n",
    "# dfi['index1']=northsouth.index\n",
    "# northsouth=northsouth.T\n",
    "# northsouth.set_index(dfi.index1, inplace=True)\n",
    "# northsouth.columns = ['particle' + str(col) for col in northsouth.columns]\n",
    "# gamma=pd.DataFrame()\n",
    "# gamma[0] = northsouth.iloc[:,0]\n",
    "# for i in range(1,len(westeast.columns)):\n",
    "#     gamma[i]=northsouth['particle' + str(i)].shift(periods=i)\n",
    "    \n",
    "# gamma.columns = ['particle' + str(col) for col in gamma.columns]\n",
    "# gamma=gamma.fillna(0)\n",
    "# #gamma.to_hdf('~/Documents/Myfiles/DataAnalysis/data/Sprints/Run03/Set05/wind05Run03_Gamma.hdf', key='df2', mode='w')"
   ]
  },
  {
   "cell_type": "code",
   "execution_count": 33,
   "metadata": {},
   "outputs": [],
   "source": [
    "# def run_euc(point1,point2):\n",
    "#     return np.array([[ np.linalg.norm(i-j) for j in point2] for i in point1])"
   ]
  },
  {
   "cell_type": "code",
   "execution_count": 44,
   "metadata": {},
   "outputs": [],
   "source": [
    "def wind_particle_position(col,row):\n",
    "    if(col == 0):\n",
    "        pos_x = westeast[col][row]\n",
    "        pos_y = northsouth[col][row]\n",
    "        return pos_x , pos_y\n",
    "    \n",
    "    elif(col > 0):\n",
    "        if (col > row):\n",
    "            pos_x = 0.0\n",
    "            pos_y = 0.0\n",
    "            return pos_x , pos_y\n",
    "        \n",
    "        else:\n",
    "            pos_x = westeast[col-col][row-col]\n",
    "            pos_y = northsouth[col-col][row-col]\n",
    "            return pos_x, pos_y"
   ]
  },
  {
   "cell_type": "code",
   "execution_count": 93,
   "metadata": {},
   "outputs": [],
   "source": [
    "def puff_radius(row,col):\n",
    "    if (row > col):\n",
    "        return (row - col)*0.0001\n",
    "    else:\n",
    "        return (0)\n",
    "    "
   ]
  },
  {
   "cell_type": "code",
   "execution_count": 98,
   "metadata": {
    "scrolled": false
   },
   "outputs": [],
   "source": [
    "## finding encountered odor withing the calculated odor radius\n",
    "odor_presence=[]\n",
    "row = 0\n",
    "col = 0\n",
    "l = len(westeast)\n",
    "#l = 5000\n",
    "farthest_odor_point = 10\n",
    "for row in range(l):\n",
    "    for col in range(l):\n",
    "        k=0\n",
    "        windx, windy = wind_particle_position(col,row)\n",
    "        if(abs(windx)>20):\n",
    "            break\n",
    "        wind_pos = np.array([windx, windy])     \n",
    "        odor_pos = np.array((geodf.xsrc[row],geodf.ysrc[row]))    \n",
    "        \n",
    "        \n",
    "        distance = np.linalg.norm(wind_pos-odor_pos)      \n",
    "        if(distance<=puff_radius(col,row)):\n",
    "            k+=1            \n",
    "        else:\n",
    "            k+=0    \n",
    "        \n",
    "      \n",
    "    if(k>0):\n",
    "        odor_presence.append(1)\n",
    "    else:\n",
    "        odor_presence.append(0)        "
   ]
  },
  {
   "cell_type": "code",
   "execution_count": 99,
   "metadata": {},
   "outputs": [
    {
     "data": {
      "text/plain": [
       "100"
      ]
     },
     "execution_count": 99,
     "metadata": {},
     "output_type": "execute_result"
    }
   ],
   "source": [
    "len(odor_presence)"
   ]
  },
  {
   "cell_type": "code",
   "execution_count": 41,
   "metadata": {},
   "outputs": [],
   "source": [
    "# len(odor_presence)\n",
    "# odor = odor_presence\n",
    "# for i in range(20):\n",
    "#     odor_presence.append(0)"
   ]
  },
  {
   "cell_type": "code",
   "execution_count": 100,
   "metadata": {},
   "outputs": [],
   "source": [
    "odor_expected = []\n",
    "for i in range(len(odor_presence)):\n",
    "    if(odor_presence[i]==1):\n",
    "        odor_expected.append(geodf.odor[59669+i])\n",
    "    else:\n",
    "        odor_expected.append(0)\n",
    "        \n",
    "#geodfsub['odor_expected']=odor_expected"
   ]
  },
  {
   "cell_type": "code",
   "execution_count": 104,
   "metadata": {},
   "outputs": [
    {
     "name": "stderr",
     "output_type": "stream",
     "text": [
      "/Users/an/miniconda3/envs/FlyDataAnalysis/lib/python3.8/site-packages/numpy/core/fromnumeric.py:3372: RuntimeWarning: Mean of empty slice.\n",
      "  return _methods._mean(a, axis=axis, dtype=dtype,\n",
      "/Users/an/miniconda3/envs/FlyDataAnalysis/lib/python3.8/site-packages/numpy/core/_methods.py:170: RuntimeWarning: invalid value encountered in double_scalars\n",
      "  ret = ret.dtype.type(ret / rcount)\n"
     ]
    }
   ],
   "source": [
    "odor_expected = np.array(odor_expected)\n",
    "m = np.median(odor_expected[odor_expected > 0.0])\n",
    "# Assign the median to the zero elements \n",
    "odor_expected[odor_expected == 0.0] = m"
   ]
  },
  {
   "cell_type": "code",
   "execution_count": 91,
   "metadata": {
    "scrolled": false
   },
   "outputs": [
    {
     "data": {
      "text/plain": [
       "[<matplotlib.lines.Line2D at 0x7fda55353ac0>]"
      ]
     },
     "execution_count": 91,
     "metadata": {},
     "output_type": "execute_result"
    },
    {
     "data": {
      "image/png": "[encoded data removed]",
      "text/plain": [
       "<Figure size 432x288 with 1 Axes>"
      ]
     },
     "metadata": {
      "needs_background": "light"
     },
     "output_type": "display_data"
    }
   ],
   "source": [
    "plt.plot(geodf.sync_time[56770:], geodf.odor[56770:])\n"
   ]
  },
  {
   "cell_type": "markdown",
   "metadata": {},
   "source": [
    "#### Animation method using multiple plots (extremely slow)"
   ]
  },
  {
   "cell_type": "code",
   "execution_count": 15,
   "metadata": {},
   "outputs": [],
   "source": [
    "dir = '../../../Research/Images/container_odor/'\n",
    "N = 0\n",
    "for i in range(len(geodf.xsrc)):\n",
    "    fig = plt.figure()\n",
    "    fig.suptitle('Odor Encounters')\n",
    "    ax = plt.axes (xlim=(-8,15), ylim=(-2,30))\n",
    "    ax.set_xlabel('Longitude (meters)')\n",
    "    ax.set_ylabel('Latitude(meters)')\n",
    "    if (i<=3000):\n",
    "        ax.scatter(geodf.xsrc[:i],geodf.ysrc[:i], c=geodf.odor[:i], cmap='magma', s=15)\n",
    "    else:\n",
    "        ax.scatter(geodf.xsrc[N:i],geodf.ysrc[N:i], c=geodf.odor[N:i], cmap='magma', s=15)\n",
    "        N=N+1\n",
    "        \n",
    "    fig.savefig(dir + \"plot\" + str(i) + \".jpg\")\n",
    "    plt.close()"
   ]
  },
  {
   "cell_type": "code",
   "execution_count": 166,
   "metadata": {},
   "outputs": [],
   "source": [
    "dir = '../../../Research/Images/container_wind/'\n",
    "for i in range(len(we)):\n",
    "    fig = plt.figure()\n",
    "    fig.suptitle('Odor Encounters')\n",
    "    ax = plt.axes (xlim=(-8,15), ylim=(-2,30))\n",
    "    ax.set_xlabel('Longitude (meters)')\n",
    "    ax.set_ylabel('Latitude(meters)')\n",
    "    ax.scatter(we.loc[i], ns.loc[i],c ='b', cmap='magma', s=puffsize.loc[i]* 0.1)\n",
    "    plt.plot(0,0, marker='x', markersize=15)\n",
    "    fig.savefig(dir + \"plot\" + str(i) + \".jpg\")\n",
    "    plt.close()"
   ]
  },
  {
   "cell_type": "code",
   "execution_count": 7,
   "metadata": {
    "collapsed": true
   },
   "outputs": [],
   "source": [
    "fig = plt.figure()\n",
    "ax = plt.axes(xlim=(-22,2), ylim=(-15,30))\n",
    "ax.set_xlabel('Eastwest (meters)')\n",
    "ax.set_ylabel('NorthSouth (meters)')\n",
    "plt.close()\n",
    "line, = ax.scatter([],[], 'o', c =geodfsub.odor lw=2)\n",
    "\n",
    "def init():\n",
    "    line.set_data([],[])\n",
    "    return line,\n",
    "\n",
    "def get_data_x(i):\n",
    "    return we.loc[i]\n",
    "\n",
    "def get_data_y(i):\n",
    "    return ns.loc[i]\n",
    "\n",
    "def update(i):\n",
    "    x = get_data_x(i)\n",
    "    y = get_data_y(i)\n",
    "    line.set_data(x,y)\n",
    "    return line,\n",
    "\n",
    "an = animation.FuncAnimation(fig,update,frames = pd.Index.intersection(we.index,ns.index),\n",
    "                              interval = 5, blit=False)\n",
    "#an.save('../../../Research/Images/Video/fast_flow.mp4', fps=100, extra_args=['-vcodec', 'libx264'])\n",
    "# plt.show()"
   ]
  },
  {
   "cell_type": "markdown",
   "metadata": {},
   "source": [
    "#### 2D scatter plot for entire 300 seconds for ideal vs actual odor counters"
   ]
  },
  {
   "cell_type": "code",
   "execution_count": 57,
   "metadata": {},
   "outputs": [
    {
     "data": {
      "text/plain": [
       "[<matplotlib.lines.Line2D at 0x7fe0ddb6eee0>]"
      ]
     },
     "execution_count": 57,
     "metadata": {},
     "output_type": "execute_result"
    },
    {
     "data": {
      "image/png": "[encoded data removed]",
      "text/plain": [
       "<Figure size 576x288 with 1 Axes>"
      ]
     },
     "metadata": {
      "needs_background": "light"
     },
     "output_type": "display_data"
    }
   ],
   "source": [
    "fig, ax = plt.subplots(1, figsize=(8, 4))\n",
    "fig.suptitle('Odor Encounters')\n",
    "ax = plt.axes (xlim=(-9,4), ylim=(-2,9))\n",
    "# Plot the data\n",
    "ax.scatter(geodfsub.xsrc, geodfsub.ysrc, c=geodfsub.odor, cmap='magma', s= 0.8)\n",
    "ax.set_xlabel('Longitude (meters)')\n",
    "ax.set_ylabel('Latitude(meters)')\n",
    "plt.plot(0,0, marker='x', markersize=15)\n",
    "# Show the grid lines as dark grey lines\n",
    "ax.grid(b=True, which='major', color='#666666', linestyle='-')\n",
    "plt.plot(we.particle0,ns.particle0, c='b')\n"
   ]
  },
  {
   "cell_type": "markdown",
   "metadata": {},
   "source": [
    "#### 2D scatter plot for high odor concentration vs ideal wind particle"
   ]
  },
  {
   "cell_type": "code",
   "execution_count": 13,
   "metadata": {
    "scrolled": true
   },
   "outputs": [
    {
     "data": {
      "text/plain": [
       "(-16.0, 3.0)"
      ]
     },
     "execution_count": 13,
     "metadata": {},
     "output_type": "execute_result"
    },
    {
     "data": {
      "image/png": "[encoded data removed]",
      "text/plain": [
       "<Figure size 576x288 with 1 Axes>"
      ]
     },
     "metadata": {
      "needs_background": "light"
     },
     "output_type": "display_data"
    }
   ],
   "source": [
    "fig, ax = plt.subplots(1, figsize=(8, 4))\n",
    "fig.suptitle('Odor High Concentration Encounters')\n",
    "ax = plt.axes (xlim=(-9,4), ylim=(-2,9))\n",
    "# Plot the data\n",
    "ax.scatter(df_t.xsrc, df_t.ysrc, c=df_t.odor, cmap='magma', s= 15)\n",
    "ax.set_xlabel('Longitude (meters)')\n",
    "ax.set_ylabel('Latitude(meters)')\n",
    "plt.plot(0,0, marker='x', markersize=15)\n",
    "# Show the grid lines as dark grey lines\n",
    "ax.grid(b=True, which='major', color='#666666', linestyle='-')\n",
    "plt.plot(we.particle0,ns.particle0, markersize=20, c='b')\n"
   ]
  },
  {
   "cell_type": "markdown",
   "metadata": {},
   "source": [
    "#### ANIMATION 02 - Ideal vs Encountered Odor"
   ]
  },
  {
   "cell_type": "code",
   "execution_count": null,
   "metadata": {
    "scrolled": true
   },
   "outputs": [],
   "source": [
    "## Setting figure\n",
    "\n",
    "fig = plt.figure()\n",
    "ax = plt.axes(xlim=(-9,4), ylim=(-2,9))\n",
    "ax.set_xlabel('Eastwest (meters)')\n",
    "ax.set_ylabel('NorthSouth (meters)')\n",
    "plt.close()\n",
    "\n",
    "wind, = ax.plot([],[], 'o', color =\"b\", lw = 2)\n",
    "line, = ax.scatter([],[], c = geodfsub.odor, cmap='magma', s= 15)\n",
    "\n",
    "def init():\n",
    "    line.set_data([],[])  \n",
    "    wind.set_data([],[])\n",
    "    return wind,\n",
    "\n",
    "def get_data_we_(i):\n",
    "    return dfwe.loc[i]\n",
    "\n",
    "def get_data_ns_(i):\n",
    "    return dfns.loc[i]\n",
    "\n",
    "def get_data_x_(i):\n",
    "    return geodfsub.xsrc[i]\n",
    "\n",
    "def get_data_y_(i):\n",
    "    return geodfsub.ysrc[i]\n",
    "\n",
    "def update(i):\n",
    "#     wex = get_data_we_(i)\n",
    "#     nsy = get_data_ns_(i)\n",
    "#     wind.set_data(wex,nsy)\n",
    "    x = get_data_x_(i)\n",
    "    y = get_data_y_(i)\n",
    "    line.set_data(x,y)\n",
    "    \n",
    "    return line,\n",
    "\n",
    "\n"
   ]
  },
  {
   "cell_type": "code",
   "execution_count": 19,
   "metadata": {},
   "outputs": [],
   "source": [
    "# ani = animation.FuncAnimation(fig, update, init_func=init, frames = int(len(geodfsub.ysrc)/2), interval = 5, blit=False)\n",
    "ani = animation.FuncAnimation(fig, update, init_func=init, frames = 500, interval = 5, blit=False)\n",
    "\n",
    "\n",
    "#ani.save('../../../Research/Images/Video/test_ideal.mp4', fps=100, extra_args=['-vcodec', 'libx264'])\n",
    "#HTML(ani.to_html5_video())\n",
    "\n",
    "\n"
   ]
  }
 ],
 "metadata": {
  "kernelspec": {
   "display_name": "Python 3",
   "language": "python",
   "name": "python3"
  },
  "language_info": {
   "codemirror_mode": {
    "name": "ipython",
    "version": 3
   },
   "file_extension": ".py",
   "mimetype": "text/x-python",
   "name": "python",
   "nbconvert_exporter": "python",
   "pygments_lexer": "ipython3",
   "version": "3.8.5"
  }
 },
 "nbformat": 4,
 "nbformat_minor": 4
}
