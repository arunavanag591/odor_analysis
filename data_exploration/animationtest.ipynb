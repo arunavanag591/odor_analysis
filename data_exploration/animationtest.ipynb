{
 "cells": [
  {
   "cell_type": "markdown",
   "metadata": {},
   "source": [
    "### Data Visualization - Ideal vs Encountered"
   ]
  },
  {
   "cell_type": "code",
   "execution_count": 1,
   "metadata": {},
   "outputs": [],
   "source": [
    "#user-defined\n",
    "import ipynb.fs.full.helper as hp\n",
    "\n",
    "#dataframes\n",
    "import pandas as pd\n",
    "import h5py\n",
    "\n",
    "\n",
    "#suppress warnings\n",
    "import warnings\n",
    "warnings.simplefilter(action='ignore', category=FutureWarning)\n",
    "\n",
    "#math\n",
    "import numpy as np\n",
    "import math\n",
    "import scipy.fftpack\n",
    "from scipy import signal\n",
    "import scipy.interpolate as interpolate\n",
    "from scipy import integrate\n",
    "pd.TimeSeries = pd.Series \n",
    "\n",
    "#gps\n",
    "from geopy import distance\n",
    "import geopandas as gpd\n",
    "import utm\n",
    "import datetime as dt\n",
    "\n",
    "#plots\n",
    "import pylab as plt\n",
    "import matplotlib.pyplot as plt\n",
    "import matplotlib.animation as animation\n",
    "import matplotlib.lines as mlines\n",
    "from IPython.display import HTML\n"
   ]
  },
  {
   "cell_type": "markdown",
   "metadata": {},
   "source": [
    "### Load Data"
   ]
  },
  {
   "cell_type": "code",
   "execution_count": 2,
   "metadata": {},
   "outputs": [],
   "source": [
    "set_number = 5\n",
    "\n",
    "dir = '~/Documents/Myfiles/DataAnalysis/data/Sprints/Run03/Set0'+str(set_number)+'/'\n",
    "windbag = 'wind0'+str(set_number)+'Run03.hdf'\n",
    "westeast_load = 'ewdata0'+str(set_number)+'Run03.hdf'\n",
    "northsouth_load= 'nsdata0'+str(set_number)+'Run03.hdf'\n",
    "odor_load = 'Interpolated_'+str(set_number)+'.h5'\n"
   ]
  },
  {
   "cell_type": "code",
   "execution_count": 3,
   "metadata": {},
   "outputs": [],
   "source": [
    "#puffsize = pd.read_hdf('~/Documents/Myfiles/DataAnalysis/data/Sprints/puff_size.hdf')"
   ]
  },
  {
   "cell_type": "code",
   "execution_count": 4,
   "metadata": {},
   "outputs": [],
   "source": [
    "#windbag\n",
    "wind=pd.read_hdf(dir+windbag)\n",
    "we=pd.read_hdf(dir+westeast_load)\n",
    "ns=pd.read_hdf(dir+northsouth_load)"
   ]
  },
  {
   "cell_type": "code",
   "execution_count": 5,
   "metadata": {},
   "outputs": [],
   "source": [
    "#odorbag\n",
    "odor= pd.read_hdf(dir+odor_load)\n",
    "time= odor.master_time-odor.master_time[0]\n",
    "odor.insert(1,'sync_time',time) "
   ]
  },
  {
   "cell_type": "markdown",
   "metadata": {},
   "source": [
    "### Creating Dataframe for Puff Size"
   ]
  },
  {
   "cell_type": "code",
   "execution_count": 40,
   "metadata": {},
   "outputs": [],
   "source": [
    "def puff_radius(row,col):\n",
    "    if (row > col):\n",
    "        return (row - col)\n",
    "    else:\n",
    "        return (0)"
   ]
  },
  {
   "cell_type": "code",
   "execution_count": 21,
   "metadata": {},
   "outputs": [],
   "source": [
    "# # creating puff dataframe\n",
    "# # going to copy to a new frame to keep this container separate as the for loop takes significant time to execute\n",
    "\n",
    "# puff = pd.DataFrame(index=range(10008),columns=range(10008))\n",
    "# puffsize=pd.DataFrame()\n",
    "\n",
    "# for i in range(0, len(puff.columns)):\n",
    "#     puff[i]=puff.index\n",
    "\n",
    "# puff.columns = ['particle' + str(col) for col in puff.columns] #renaming for looping ease\n",
    "# puffsize[0] = puff.iloc[:,0] #copying the first columns of data\n",
    "\n",
    "# #shifting every column by the column-th number\n",
    "# for i in range(1, len(puff.columns)):\n",
    "#     puffsize[i]=puff['particle' + str(i)].shift(periods=i)\n",
    "\n",
    "# puffsize=puffsize.fillna(0) #replacing NaN with zeroes\n",
    "# puffsize.columns = ['particle' + str(col) for col in puffsize.columns] #renaming columns names optional\n",
    "# puffsize= puffsize.astype(int)\n",
    "# puffsize.to_hdf('~/Documents/Myfiles/DataAnalysis/data/Sprints/puff_size.hdf', key='puffsize', mode='w')"
   ]
  },
  {
   "cell_type": "markdown",
   "metadata": {},
   "source": [
    "### Converting lat lon information to meters"
   ]
  },
  {
   "cell_type": "code",
   "execution_count": 6,
   "metadata": {},
   "outputs": [],
   "source": [
    "from shapely.geometry import Point\n",
    "odor['geometry'] = odor.apply(lambda row: Point(row.lon, row.lat), axis=1)\n",
    "\n",
    "geodf = gpd.GeoDataFrame(odor)\n",
    "geodf.crs= {'init': 'epsg:4326'}\n",
    "# change the projection of geodf\n",
    "geodf = geodf.to_crs(\"+proj=utm +zone=11 +ellps=WGS84 +datum=WGS84 +units=m +no_def\")\n",
    "\n",
    "geodf[\"x\"] = geodf.geometry.apply(lambda row:row.x)\n",
    "geodf[\"y\"] = geodf.geometry.apply(lambda row:row.y)"
   ]
  },
  {
   "cell_type": "code",
   "execution_count": 7,
   "metadata": {},
   "outputs": [],
   "source": [
    "#source location to meters\n",
    "source = (40.79376709443614, -119.15757512132207)\n",
    "u =  utm.from_latlon(40.79376709443614, -119.15757512132207)"
   ]
  },
  {
   "cell_type": "code",
   "execution_count": 8,
   "metadata": {},
   "outputs": [],
   "source": [
    "#adding sync_time from zero, optional\n",
    "\n",
    "newtime= wind.sync_time-wind.sync_time.iloc[0]\n",
    "wind.insert(1,'ntime',newtime) \n",
    "\n",
    "newtime=newtime.reset_index()\n",
    "# newtime = newtime.drop(columns=['index'])\n",
    "\n",
    "we.insert(0,'sync_time',newtime.sync_time)\n",
    "ns.insert(0,'sync_time',newtime.sync_time)"
   ]
  },
  {
   "cell_type": "code",
   "execution_count": 9,
   "metadata": {},
   "outputs": [],
   "source": [
    "xfromsrc= geodf.x-u[0]\n",
    "geodf.insert(10,'xsrc',xfromsrc) \n",
    "\n",
    "yfromsrc = geodf.y-u[1]\n",
    "geodf.insert(11,'ysrc', yfromsrc)"
   ]
  },
  {
   "cell_type": "markdown",
   "metadata": {},
   "source": [
    "### Selecting a smaller slot of data"
   ]
  },
  {
   "cell_type": "code",
   "execution_count": 10,
   "metadata": {},
   "outputs": [],
   "source": [
    "query = 'sync_time >= 100  and sync_time <=120'\n",
    "dfo = odor.query(query)\n",
    "dfwe = we.query(query)\n",
    "dfns = ns.query(query)\n",
    "dfwe = dfwe.reset_index()\n",
    "dfns = dfns.reset_index()\n",
    "geodfsub = geodf.query(query)\n",
    "geodfsub = geodfsub.reset_index()"
   ]
  },
  {
   "cell_type": "code",
   "execution_count": 11,
   "metadata": {},
   "outputs": [
    {
     "data": {
      "text/plain": [
       "4004"
      ]
     },
     "execution_count": 11,
     "metadata": {},
     "output_type": "execute_result"
    }
   ],
   "source": [
    "len(geodfsub)"
   ]
  },
  {
   "cell_type": "code",
   "execution_count": 12,
   "metadata": {},
   "outputs": [],
   "source": [
    "# # # drop additional time stamps if necessary\n",
    "# dfns = dfns.drop(columns=[ 'index1', 'sync_time'])\n",
    "# dfwe = dfwe.drop(columns=['index', 'sync_time'])\n",
    "# geodfsub = geodfsub.drop(columns = ['index', 'size'])"
   ]
  },
  {
   "cell_type": "code",
   "execution_count": 12,
   "metadata": {
    "scrolled": true
   },
   "outputs": [],
   "source": [
    "#ns = ns.reset_index()\n",
    "# we = we.drop(columns=['sync_time'])\n",
    "dfns = dfns.drop(columns=['index1'])\n",
    "dfwe = dfwe.drop(columns=['index'])\n",
    "geodfsub = geodfsub.drop(columns = ['index'])"
   ]
  },
  {
   "cell_type": "markdown",
   "metadata": {},
   "source": [
    "### Interpolate"
   ]
  },
  {
   "cell_type": "code",
   "execution_count": 14,
   "metadata": {},
   "outputs": [],
   "source": [
    "# df_odor_loc=pd.DataFrame({'odor_time': geodf.master_time,'xsrc': geodf.xsrc, 'ysrc':geodf.ysrc,})\n",
    "# df_wind_loc=pd.DataFrame({'wind_time': wind.time_epoch,'U': wind.U,'V': wind.V,})\n",
    "\n",
    "# df_new = pd.concat([df_odor_loc,df_wind_loc], sort=True)\n",
    "# combined_time = np.hstack([df_odor_loc.odor_time, df_wind_loc.wind_time])\n",
    "\n",
    "# df_new['time'] = combined_time\n",
    "# df_new=df_new.sort_values(by=['time'])"
   ]
  },
  {
   "cell_type": "code",
   "execution_count": 15,
   "metadata": {},
   "outputs": [],
   "source": [
    "# dt_odor = np.median(np.diff(df_new.odor_time.dropna().values))\n",
    "# print('dt Odor: ', dt_odor)\n",
    "# dt_wind = np.median(np.diff(df_new.wind_time.dropna().values))\n",
    "# print('dt Wind: ', dt_wind)\n",
    "\n",
    "# first_time = np.max([df_new.odor_time.min(), df_new.wind_time.min()])\n",
    "# last_time = np.min([df_new.odor_time.max(), df_new.wind_time.max()])\n",
    "# master_time = np.arange(first_time, last_time, dt_odor)"
   ]
  },
  {
   "cell_type": "code",
   "execution_count": 17,
   "metadata": {},
   "outputs": [],
   "source": [
    "# create interpolation function and inteprolate sensor 1\n",
    "# df_odor_1= df_new[['odor_time', 'xsrc']].dropna()\n",
    "# func_interp_sensor_1 = scipy.interpolate.interp1d(df_odor_1.odor_time, df_odor_1.xsrc)\n",
    "# interp_odor_x = func_interp_sensor_1(master_time)\n",
    "\n",
    "# df_odor_2= df_new[['odor_time', 'ysrc']].dropna()\n",
    "# func_interp_sensor_1 = scipy.interpolate.interp1d(df_odor_2.odor_time, df_odor_2.ysrc)\n",
    "# interp_odor_y = func_interp_sensor_1(master_time)\n",
    "\n",
    "# df_wind_1= df_new[['wind_time', 'U']].dropna()\n",
    "# func_interp_sensor_1 = scipy.interpolate.interp1d(df_wind_1.wind_time, df_wind_1.U)\n",
    "# interp_wind_U = func_interp_sensor_1(master_time)\n",
    "\n",
    "# df_wind_2= df_new[['wind_time', 'V']].dropna()\n",
    "# func_interp_sensor_1 = scipy.interpolate.interp1d(df_wind_2.wind_time, df_wind_2.V)\n",
    "# interp_wind_V = func_interp_sensor_1(master_time)\n",
    "\n",
    "# windn = pd.DataFrame({'master_time': master_time,\n",
    "#                            'xsrc': interp_odor_x,\n",
    "#                            'ysrc': interp_odor_y,\n",
    "#                            'U': interp_wind_U,\n",
    "#                            'V': interp_wind_V,})"
   ]
  },
  {
   "cell_type": "code",
   "execution_count": 19,
   "metadata": {},
   "outputs": [],
   "source": [
    "# windn.to_hdf('~/Documents/Myfiles/DataAnalysis/data/Sprints/Run03/Set05/wind05Run03_Interpolated.hdf', key='df2', mode='w')"
   ]
  },
  {
   "cell_type": "code",
   "execution_count": 13,
   "metadata": {},
   "outputs": [],
   "source": [
    "windn=pd.read_hdf('~/Documents/Myfiles/DataAnalysis/data/Sprints/Run03/Set05/wind05Run03_Interpolated.hdf')\n",
    "windn_sync_time=windn.master_time-windn.master_time[0]\n",
    "windn.insert(1,'sync_time',windn_sync_time)"
   ]
  },
  {
   "cell_type": "code",
   "execution_count": 14,
   "metadata": {},
   "outputs": [],
   "source": [
    "#select a sub data\n",
    "windnsub=windn.query(query)"
   ]
  },
  {
   "cell_type": "code",
   "execution_count": 15,
   "metadata": {},
   "outputs": [],
   "source": [
    "posu=[]\n",
    "posv=[]\n",
    "for i in range(len(windnsub.master_time)):\n",
    "    posu.append(integrate.cumtrapz(windnsub.U[i:],windnsub.master_time[i:], axis=0, initial = 0.0)) \n",
    "    posv.append(integrate.cumtrapz(windnsub.V[i:],windnsub.master_time[i:], axis=0, initial = 0.0))"
   ]
  },
  {
   "cell_type": "code",
   "execution_count": 16,
   "metadata": {
    "scrolled": true
   },
   "outputs": [],
   "source": [
    "#creating dataframes for each westeast particle and northsouth\n",
    "westeast=pd.DataFrame(posu,columns=['particle{}'.format(x+1) for x in range(len(posu))]) #particle U\n",
    "northsouth=pd.DataFrame(posv,columns=['particle{}'.format(x+1) for x in range(len(posv))]) #particle in V"
   ]
  },
  {
   "cell_type": "code",
   "execution_count": 17,
   "metadata": {},
   "outputs": [],
   "source": [
    "dfi = pd.DataFrame()\n",
    "dfi['index']=westeast.index\n",
    "westeast=westeast.T\n",
    "westeast.set_index(dfi.index, inplace=True)\n",
    "westeast.columns = ['particle' + str(col) for col in westeast.columns]\n",
    "delta=pd.DataFrame()\n",
    "delta[0] = westeast.iloc[:,0]\n",
    "for i in range(1,len(westeast.columns)):\n",
    "    delta[i]=westeast['particle' + str(i)].shift(periods=i)\n",
    "\n",
    "delta.columns = ['particle' + str(col) for col in delta.columns]\n",
    "delta=delta.fillna(0)\n",
    "delta.to_hdf('~/Documents/Myfiles/DataAnalysis/data/Sprints/Run03/Set05/wind05Run03_Delta.hdf', key='df2', mode='w')"
   ]
  },
  {
   "cell_type": "code",
   "execution_count": 18,
   "metadata": {},
   "outputs": [],
   "source": [
    "#converting rows to columns for position northsouth\n",
    "dfi['index1']=northsouth.index\n",
    "northsouth=northsouth.T\n",
    "northsouth.set_index(dfi.index1, inplace=True)\n",
    "northsouth.columns = ['particle' + str(col) for col in northsouth.columns]\n",
    "gamma=pd.DataFrame()\n",
    "gamma[0] = northsouth.iloc[:,0]\n",
    "for i in range(1,len(westeast.columns)):\n",
    "    gamma[i]=northsouth['particle' + str(i)].shift(periods=i)\n",
    "    \n",
    "gamma.columns = ['particle' + str(col) for col in gamma.columns]\n",
    "gamma=gamma.fillna(0)\n",
    "gamma.to_hdf('~/Documents/Myfiles/DataAnalysis/data/Sprints/Run03/Set05/wind05Run03_Gamma.hdf', key='df2', mode='w')"
   ]
  },
  {
   "cell_type": "code",
   "execution_count": 19,
   "metadata": {
    "scrolled": false
   },
   "outputs": [],
   "source": [
    "windnsub = windnsub.reset_index()\n",
    "windnsub = windnsub.drop(columns=['index'])"
   ]
  },
  {
   "cell_type": "code",
   "execution_count": 60,
   "metadata": {},
   "outputs": [],
   "source": [
    "def run_euc(point1,point2):\n",
    "    return np.array([[ np.linalg.norm(i-j) for j in point2] for i in point1])"
   ]
  },
  {
   "cell_type": "code",
   "execution_count": 61,
   "metadata": {},
   "outputs": [
    {
     "name": "stdout",
     "output_type": "stream",
     "text": [
      "[[0.]\n",
      " [1.]\n",
      " [2.]\n",
      " [3.]\n",
      " [4.]]\n"
     ]
    }
   ],
   "source": [
    "point1 = np.array([[0,1], [0,2], [0,3], [0,4], [0,5]])\n",
    "point2 = np.array([[0,1]])\n",
    "\n",
    "print(run_euc(point1, point2))"
   ]
  },
  {
   "cell_type": "code",
   "execution_count": 53,
   "metadata": {
    "scrolled": false
   },
   "outputs": [
    {
     "name": "stdout",
     "output_type": "stream",
     "text": [
      "[[-1.94298462e+01  3.75709150e+01]\n",
      " [-1.94254667e+01  3.75619911e+01]\n",
      " [-1.94210472e+01  3.75530898e+01]\n",
      " ...\n",
      " [-7.34385967e-03  1.03670225e-02]\n",
      " [ 0.00000000e+00  0.00000000e+00]\n",
      " [ 0.00000000e+00  0.00000000e+00]]\n"
     ]
    }
   ],
   "source": [
    "## finding encountered odor withing the calculated odor radius\n",
    "odor_presence=[]\n",
    "l = 0\n",
    "for i in range(0):\n",
    "    k=0\n",
    "    windx=delta.loc[i]\n",
    "    windy=gamma.loc[i]\n",
    "    wind_pos = np.vstack((windx, windy)).T\n",
    "    point1 = np.array((geodfsub.xsrc[i],geodfsub.ysrc[i]))\n",
    "    #     for j in range(l):\n",
    "#         point2 = np.array((windx[j],windy[j]))\n",
    "#         distance = np.linalg.norm(point1-point2)\n",
    "\n",
    "#         if(distance<=puff_radius(i,j)):\n",
    "#             k+=1            \n",
    "#         else:\n",
    "#             k+=0\n",
    "    \n",
    "#     if(k>0):\n",
    "#         odor_presence.append(1)\n",
    "#     else:\n",
    "#         odor_presence.append(0)"
   ]
  },
  {
   "cell_type": "code",
   "execution_count": 94,
   "metadata": {},
   "outputs": [],
   "source": [
    "odor_expected = []\n",
    "for i in range(len(odor_presence)):\n",
    "    if(odor_presence[i]==1):\n",
    "        odor_expected.append(geodfsub.odor[i])\n",
    "    else:\n",
    "        odor_expected.append(0)"
   ]
  },
  {
   "cell_type": "code",
   "execution_count": 95,
   "metadata": {},
   "outputs": [],
   "source": [
    "geodfsub['odor_expected']=odor_expected"
   ]
  },
  {
   "cell_type": "code",
   "execution_count": 96,
   "metadata": {
    "scrolled": true
   },
   "outputs": [
    {
     "data": {
      "text/plain": [
       "[<matplotlib.lines.Line2D at 0x7fd19b6becd0>]"
      ]
     },
     "execution_count": 96,
     "metadata": {},
     "output_type": "execute_result"
    },
    {
     "data": {
      "image/png": "[encoded data removed]",
      "text/plain": [
       "<Figure size 432x288 with 1 Axes>"
      ]
     },
     "metadata": {
      "needs_background": "light"
     },
     "output_type": "display_data"
    }
   ],
   "source": [
    "plt.plot(geodfsub.sync_time,geodfsub.odor)"
   ]
  },
  {
   "cell_type": "code",
   "execution_count": 97,
   "metadata": {},
   "outputs": [
    {
     "data": {
      "text/plain": [
       "[<matplotlib.lines.Line2D at 0x7fd24a4c66d0>]"
      ]
     },
     "execution_count": 97,
     "metadata": {},
     "output_type": "execute_result"
    },
    {
     "data": {
      "image/png": "[encoded data removed]",
      "text/plain": [
       "<Figure size 432x288 with 1 Axes>"
      ]
     },
     "metadata": {
      "needs_background": "light"
     },
     "output_type": "display_data"
    }
   ],
   "source": [
    "plt.plot(geodfsub.sync_time, geodfsub.odor_expected)"
   ]
  },
  {
   "cell_type": "markdown",
   "metadata": {},
   "source": [
    "#### Animation method using multiple plots (extremely slow)"
   ]
  },
  {
   "cell_type": "code",
   "execution_count": 15,
   "metadata": {},
   "outputs": [],
   "source": [
    "dir = '../../../Research/Images/container_odor/'\n",
    "N = 0\n",
    "for i in range(len(geodf.xsrc)):\n",
    "    fig = plt.figure()\n",
    "    fig.suptitle('Odor Encounters')\n",
    "    ax = plt.axes (xlim=(-8,15), ylim=(-2,30))\n",
    "    ax.set_xlabel('Longitude (meters)')\n",
    "    ax.set_ylabel('Latitude(meters)')\n",
    "    if (i<=3000):\n",
    "        ax.scatter(geodf.xsrc[:i],geodf.ysrc[:i], c=geodf.odor[:i], cmap='magma', s=15)\n",
    "    else:\n",
    "        ax.scatter(geodf.xsrc[N:i],geodf.ysrc[N:i], c=geodf.odor[N:i], cmap='magma', s=15)\n",
    "        N=N+1\n",
    "        \n",
    "    fig.savefig(dir + \"plot\" + str(i) + \".jpg\")\n",
    "    plt.close()"
   ]
  },
  {
   "cell_type": "code",
   "execution_count": 166,
   "metadata": {},
   "outputs": [],
   "source": [
    "dir = '../../../Research/Images/container_wind/'\n",
    "for i in range(len(we)):\n",
    "    fig = plt.figure()\n",
    "    fig.suptitle('Odor Encounters')\n",
    "    ax = plt.axes (xlim=(-8,15), ylim=(-2,30))\n",
    "    ax.set_xlabel('Longitude (meters)')\n",
    "    ax.set_ylabel('Latitude(meters)')\n",
    "    ax.scatter(we.loc[i], ns.loc[i],c ='b', cmap='magma', s=puffsize.loc[i]* 0.1)\n",
    "    plt.plot(0,0, marker='x', markersize=15)\n",
    "    fig.savefig(dir + \"plot\" + str(i) + \".jpg\")\n",
    "    plt.close()"
   ]
  },
  {
   "cell_type": "code",
   "execution_count": 7,
   "metadata": {
    "collapsed": true
   },
   "outputs": [],
   "source": [
    "fig = plt.figure()\n",
    "ax = plt.axes(xlim=(-22,2), ylim=(-15,30))\n",
    "ax.set_xlabel('Eastwest (meters)')\n",
    "ax.set_ylabel('NorthSouth (meters)')\n",
    "plt.close()\n",
    "line, = ax.scatter([],[], 'o', c =geodfsub.odor lw=2)\n",
    "\n",
    "def init():\n",
    "    line.set_data([],[])\n",
    "    return line,\n",
    "\n",
    "def get_data_x(i):\n",
    "    return we.loc[i]\n",
    "\n",
    "def get_data_y(i):\n",
    "    return ns.loc[i]\n",
    "\n",
    "def update(i):\n",
    "    x = get_data_x(i)\n",
    "    y = get_data_y(i)\n",
    "    line.set_data(x,y)\n",
    "    return line,\n",
    "\n",
    "an = animation.FuncAnimation(fig,update,frames = pd.Index.intersection(we.index,ns.index),\n",
    "                              interval = 5, blit=False)\n",
    "#an.save('../../../Research/Images/Video/fast_flow.mp4', fps=100, extra_args=['-vcodec', 'libx264'])\n",
    "# plt.show()"
   ]
  },
  {
   "cell_type": "markdown",
   "metadata": {},
   "source": [
    "#### 2D scatter plot for entire 300 seconds for ideal vs actual odor counters"
   ]
  },
  {
   "cell_type": "code",
   "execution_count": 57,
   "metadata": {},
   "outputs": [
    {
     "data": {
      "text/plain": [
       "[<matplotlib.lines.Line2D at 0x7fe0ddb6eee0>]"
      ]
     },
     "execution_count": 57,
     "metadata": {},
     "output_type": "execute_result"
    },
    {
     "data": {
      "image/png": "[encoded data removed]",
      "text/plain": [
       "<Figure size 576x288 with 1 Axes>"
      ]
     },
     "metadata": {
      "needs_background": "light"
     },
     "output_type": "display_data"
    }
   ],
   "source": [
    "fig, ax = plt.subplots(1, figsize=(8, 4))\n",
    "fig.suptitle('Odor Encounters')\n",
    "ax = plt.axes (xlim=(-9,4), ylim=(-2,9))\n",
    "# Plot the data\n",
    "ax.scatter(geodfsub.xsrc, geodfsub.ysrc, c=geodfsub.odor, cmap='magma', s= 0.8)\n",
    "ax.set_xlabel('Longitude (meters)')\n",
    "ax.set_ylabel('Latitude(meters)')\n",
    "plt.plot(0,0, marker='x', markersize=15)\n",
    "# Show the grid lines as dark grey lines\n",
    "ax.grid(b=True, which='major', color='#666666', linestyle='-')\n",
    "plt.plot(we.particle0,ns.particle0, c='b')\n"
   ]
  },
  {
   "cell_type": "markdown",
   "metadata": {},
   "source": [
    "#### 2D scatter plot for high odor concentration vs ideal wind particle"
   ]
  },
  {
   "cell_type": "code",
   "execution_count": 13,
   "metadata": {
    "scrolled": true
   },
   "outputs": [
    {
     "data": {
      "text/plain": [
       "(-16.0, 3.0)"
      ]
     },
     "execution_count": 13,
     "metadata": {},
     "output_type": "execute_result"
    },
    {
     "data": {
      "image/png": "[encoded data removed]",
      "text/plain": [
       "<Figure size 576x288 with 1 Axes>"
      ]
     },
     "metadata": {
      "needs_background": "light"
     },
     "output_type": "display_data"
    }
   ],
   "source": [
    "fig, ax = plt.subplots(1, figsize=(8, 4))\n",
    "fig.suptitle('Odor High Concentration Encounters')\n",
    "ax = plt.axes (xlim=(-9,4), ylim=(-2,9))\n",
    "# Plot the data\n",
    "ax.scatter(df_t.xsrc, df_t.ysrc, c=df_t.odor, cmap='magma', s= 15)\n",
    "ax.set_xlabel('Longitude (meters)')\n",
    "ax.set_ylabel('Latitude(meters)')\n",
    "plt.plot(0,0, marker='x', markersize=15)\n",
    "# Show the grid lines as dark grey lines\n",
    "ax.grid(b=True, which='major', color='#666666', linestyle='-')\n",
    "plt.plot(we.particle0,ns.particle0, markersize=20, c='b')\n"
   ]
  },
  {
   "cell_type": "markdown",
   "metadata": {},
   "source": [
    "#### ANIMATION 02 - Ideal vs Encountered Odor"
   ]
  },
  {
   "cell_type": "code",
   "execution_count": null,
   "metadata": {
    "scrolled": true
   },
   "outputs": [],
   "source": [
    "## Setting figure\n",
    "\n",
    "fig = plt.figure()\n",
    "ax = plt.axes(xlim=(-9,4), ylim=(-2,9))\n",
    "ax.set_xlabel('Eastwest (meters)')\n",
    "ax.set_ylabel('NorthSouth (meters)')\n",
    "plt.close()\n",
    "\n",
    "wind, = ax.plot([],[], 'o', color =\"b\", lw = 2)\n",
    "line, = ax.scatter([],[], c = geodfsub.odor, cmap='magma', s= 15)\n",
    "\n",
    "def init():\n",
    "    line.set_data([],[])  \n",
    "    wind.set_data([],[])\n",
    "    return wind,\n",
    "\n",
    "def get_data_we_(i):\n",
    "    return dfwe.loc[i]\n",
    "\n",
    "def get_data_ns_(i):\n",
    "    return dfns.loc[i]\n",
    "\n",
    "def get_data_x_(i):\n",
    "    return geodfsub.xsrc[i]\n",
    "\n",
    "def get_data_y_(i):\n",
    "    return geodfsub.ysrc[i]\n",
    "\n",
    "def update(i):\n",
    "#     wex = get_data_we_(i)\n",
    "#     nsy = get_data_ns_(i)\n",
    "#     wind.set_data(wex,nsy)\n",
    "    x = get_data_x_(i)\n",
    "    y = get_data_y_(i)\n",
    "    line.set_data(x,y)\n",
    "    \n",
    "    return line,\n",
    "\n",
    "\n"
   ]
  },
  {
   "cell_type": "code",
   "execution_count": 19,
   "metadata": {},
   "outputs": [],
   "source": [
    "# ani = animation.FuncAnimation(fig, update, init_func=init, frames = int(len(geodfsub.ysrc)/2), interval = 5, blit=False)\n",
    "ani = animation.FuncAnimation(fig, update, init_func=init, frames = 500, interval = 5, blit=False)\n",
    "\n",
    "\n",
    "#ani.save('../../../Research/Images/Video/test_ideal.mp4', fps=100, extra_args=['-vcodec', 'libx264'])\n",
    "#HTML(ani.to_html5_video())\n",
    "\n",
    "\n"
   ]
  },
  {
   "cell_type": "markdown",
   "metadata": {},
   "source": [
    "#### Note: Number of rows for wind sensor for a certain time slot is much lesser than number of rows of the data collected (position data) >>>> GPS frequency is much higher"
   ]
  },
  {
   "cell_type": "code",
   "execution_count": null,
   "metadata": {},
   "outputs": [],
   "source": []
  }
 ],
 "metadata": {
  "kernelspec": {
   "display_name": "Python 3",
   "language": "python",
   "name": "python3"
  },
  "language_info": {
   "codemirror_mode": {
    "name": "ipython",
    "version": 3
   },
   "file_extension": ".py",
   "mimetype": "text/x-python",
   "name": "python",
   "nbconvert_exporter": "python",
   "pygments_lexer": "ipython3",
   "version": "3.8.5"
  }
 },
 "nbformat": 4,
 "nbformat_minor": 4
}
