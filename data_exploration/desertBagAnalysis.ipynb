{
 "cells": [
  {
   "cell_type": "code",
   "execution_count": 1,
   "metadata": {},
   "outputs": [],
   "source": [
    "#user-defined\n",
    "import ipynb.fs.full.helper as hp\n",
    "\n",
    "#dataframes\n",
    "import pandas as pd\n",
    "import h5py\n",
    "import datetime as dt\n",
    "\n",
    "#math\n",
    "import numpy as np\n",
    "import math\n",
    "import scipy.fftpack\n",
    "from scipy import signal\n",
    "import scipy.interpolate as interpolate\n",
    "from scipy import integrate\n",
    "pd.TimeSeries = pd.Series \n",
    "\n",
    "#gps\n",
    "from geopy import distance\n",
    "\n",
    "#plots\n",
    "import pylab as plt\n",
    "import matplotlib.pyplot as plt\n",
    "import matplotlib.animation as ani"
   ]
  },
  {
   "cell_type": "code",
   "execution_count": 2,
   "metadata": {},
   "outputs": [],
   "source": [
    "def padarray(A, size):\n",
    "    t = size - len(A)\n",
    "    return np.pad(A, pad_width=(0, t), mode='constant')"
   ]
  },
  {
   "cell_type": "code",
   "execution_count": 3,
   "metadata": {},
   "outputs": [],
   "source": [
    "#ROS TIME IS ALREADY WITH REFERENCE FROM EPOCH HENCE NO NEED TO SUBTRACT FROM 1970\n",
    "def epoch_setup(df):\n",
    "    #a=dt.datetime.utcfromtimestamp(0)\n",
    "    #dtx = []\n",
    "    #converting timestamp to datetime format; subtracting from epoch and converting back to seconds\n",
    "    #for i in range (len(df.time)):\n",
    "    #    dtx.append((dt.datetime.fromtimestamp(df.time[i])-a).total_seconds()) \n",
    "    #df.insert(1,'epoch',dtx)\n",
    "    sync_time = df.time-df.time[0]\n",
    "    df.insert(1,'sync_time',sync_time)\n",
    "    return df"
   ]
  },
  {
   "cell_type": "markdown",
   "metadata": {},
   "source": [
    "### Stationary Wind Bag B"
   ]
  },
  {
   "cell_type": "code",
   "execution_count": 4,
   "metadata": {},
   "outputs": [
    {
     "name": "stdout",
     "output_type": "stream",
     "text": [
      "31.988526614621183\n"
     ]
    },
    {
     "data": {
      "image/png": "[encoded data removed]",
      "text/plain": [
       "<Figure size 432x288 with 1 Axes>"
      ]
     },
     "metadata": {
      "needs_background": "light"
     },
     "output_type": "display_data"
    }
   ],
   "source": [
    "#distance between windstation and odor source\n",
    "plt.plot([40.79355], [-119.157326], marker='x', markersize=20, color=\"black\")\n",
    "plt.plot([40.79376709443614], [-119.15757512132207], marker='1', markersize=20, color=\"red\")\n",
    "\n",
    "#5 inches; 0.127 meters; 12.7 cm\n",
    "\n",
    "from geopy import distance\n",
    "coords_1 = (40.79355, -119.157326)\n",
    "coords_2 = (40.79376709443614, -119.15757512132207)\n",
    "\n",
    "print (distance.geodesic(coords_1, coords_2).meters)"
   ]
  },
  {
   "cell_type": "code",
   "execution_count": 5,
   "metadata": {
    "scrolled": true
   },
   "outputs": [
    {
     "data": {
      "text/plain": [
       "Index(['millis', 'lat', 'lon', 'gps_time', 'gps_date', 'wind', 'gps_date_str',\n",
       "       'year', 'month', 'day', 'gps_time_str', 'hour', 'minute', 'second',\n",
       "       'time_epoch', 'S2', 'D', 'U', 'V', 'W', 'T', 'H', 'AD', 'MD'],\n",
       "      dtype='object')"
      ]
     },
     "execution_count": 5,
     "metadata": {},
     "output_type": "execute_result"
    }
   ],
   "source": [
    "#ubuntu\n",
    "#fname='~/data/DesertDataOct/StationeryWind/20201020_172919_windy_b_data.hdf'\n",
    "#mac \n",
    "fname = '~/Documents/Myfiles/DataAnalysis/data/20201020_172919_windy_b_data.hdf'\n",
    "wind_df=pd.read_hdf(fname)\n",
    "wind_df.keys()"
   ]
  },
  {
   "cell_type": "markdown",
   "metadata": {},
   "source": [
    "### Extract Wind Data for Bag 02 duration"
   ]
  },
  {
   "cell_type": "code",
   "execution_count": 97,
   "metadata": {},
   "outputs": [],
   "source": [
    "df2 =pd.DataFrame\n",
    "df2 = wind_df.loc[(wind_df.time_epoch >= 1603221192.55) & (wind_df.time_epoch <= 1603221492.29)]\n"
   ]
  },
  {
   "cell_type": "code",
   "execution_count": 98,
   "metadata": {},
   "outputs": [],
   "source": [
    "df2.index= df2.index-df2.index[0]\n",
    "sync_time0 = df2.time_epoch-df2.time_epoch[0]\n",
    "df2.insert(1,'sync_time',sync_time0)"
   ]
  },
  {
   "cell_type": "code",
   "execution_count": 8,
   "metadata": {},
   "outputs": [],
   "source": [
    "# integrating velocity in eastwest and northsouth to get the position for every particle at time t\n",
    "posu=[]\n",
    "posv=[]\n",
    "for i in range(len(df2.time_epoch)):\n",
    "    posu.append(integrate.cumtrapz(df2.U[i:],df2.time_epoch[i:], axis=0, initial = 0.0)) \n",
    "    posv.append(integrate.cumtrapz(df2.V[i:],df2.time_epoch[i:], axis=0, initial = 0.0))\n"
   ]
  },
  {
   "cell_type": "code",
   "execution_count": 9,
   "metadata": {},
   "outputs": [],
   "source": [
    "# integrating TOGETHER velocity in eastwest and northsouth to get the position for every particle at time t \n",
    "positions= []\n",
    "for i in range(len(df2.time_epoch)):\n",
    "    positions.append(integrate.cumtrapz([df2.U[i:],df2.V[i:]], df2.time_epoch[i:], axis=1, initial =0.0))"
   ]
  },
  {
   "cell_type": "code",
   "execution_count": 10,
   "metadata": {},
   "outputs": [
    {
     "data": {
      "text/plain": [
       "array([[ 0.00000000e+00, -2.05005670e-01, -4.07011256e-01, ...,\n",
       "        -1.45117296e+02, -1.45094796e+02, -1.45071795e+02],\n",
       "       [ 0.00000000e+00, -5.45015073e-02, -1.04002876e-01, ...,\n",
       "        -2.94884989e+02, -2.94998492e+02, -2.95113996e+02]])"
      ]
     },
     "execution_count": 10,
     "metadata": {},
     "output_type": "execute_result"
    }
   ],
   "source": [
    "positions[0] #both array 1 = X; array 2 =Y"
   ]
  },
  {
   "cell_type": "code",
   "execution_count": 11,
   "metadata": {},
   "outputs": [],
   "source": [
    "#x =list(zip(posu,posv))"
   ]
  },
  {
   "cell_type": "code",
   "execution_count": 93,
   "metadata": {},
   "outputs": [],
   "source": [
    "#creating dataframes for each westeast particle and northsouth\n",
    "westeast=pd.DataFrame(posu,columns=['particle{}'.format(x+1) for x in range(len(posu))]) #particle U\n",
    "northsouth=pd.DataFrame(posv,columns=['particle{}'.format(x+1) for x in range(len(posv))]) #particle in V"
   ]
  },
  {
   "cell_type": "code",
   "execution_count": 101,
   "metadata": {},
   "outputs": [],
   "source": [
    "#converting rows to columns for Position westeast\n",
    "dfi = pd.DataFrame()\n",
    "dfi['index']=westeast.index\n",
    "westeast=westeast.T\n",
    "westeast.set_index(dfi.index, inplace=True)\n",
    "westeast.columns = ['particle' + str(col) for col in westeast.columns]\n",
    "\n",
    "#adding in time from main dataframe\n",
    "westeast.insert(0, 'epoch_time', df2.time_epoch)\n",
    "westeast.insert(1, 'sync_time',df2.sync_time)"
   ]
  },
  {
   "cell_type": "code",
   "execution_count": 103,
   "metadata": {},
   "outputs": [
    {
     "data": {
      "text/html": [
       "<div>\n",
       "<style scoped>\n",
       "    .dataframe tbody tr th:only-of-type {\n",
       "        vertical-align: middle;\n",
       "    }\n",
       "\n",
       "    .dataframe tbody tr th {\n",
       "        vertical-align: top;\n",
       "    }\n",
       "\n",
       "    .dataframe thead th {\n",
       "        text-align: right;\n",
       "    }\n",
       "</style>\n",
       "<table border=\"1\" class=\"dataframe\">\n",
       "  <thead>\n",
       "    <tr style=\"text-align: right;\">\n",
       "      <th></th>\n",
       "      <th>epoch_time</th>\n",
       "      <th>sync_time</th>\n",
       "      <th>particle0</th>\n",
       "      <th>particle1</th>\n",
       "      <th>particle2</th>\n",
       "      <th>particle3</th>\n",
       "      <th>particle4</th>\n",
       "      <th>particle5</th>\n",
       "      <th>particle6</th>\n",
       "      <th>particle7</th>\n",
       "      <th>...</th>\n",
       "      <th>particle2987</th>\n",
       "      <th>particle2988</th>\n",
       "      <th>particle2989</th>\n",
       "      <th>particle2990</th>\n",
       "      <th>particle2991</th>\n",
       "      <th>particle2992</th>\n",
       "      <th>particle2993</th>\n",
       "      <th>particle2994</th>\n",
       "      <th>particle2995</th>\n",
       "      <th>particle2996</th>\n",
       "    </tr>\n",
       "    <tr>\n",
       "      <th>index1</th>\n",
       "      <th></th>\n",
       "      <th></th>\n",
       "      <th></th>\n",
       "      <th></th>\n",
       "      <th></th>\n",
       "      <th></th>\n",
       "      <th></th>\n",
       "      <th></th>\n",
       "      <th></th>\n",
       "      <th></th>\n",
       "      <th></th>\n",
       "      <th></th>\n",
       "      <th></th>\n",
       "      <th></th>\n",
       "      <th></th>\n",
       "      <th></th>\n",
       "      <th></th>\n",
       "      <th></th>\n",
       "      <th></th>\n",
       "      <th></th>\n",
       "      <th></th>\n",
       "    </tr>\n",
       "  </thead>\n",
       "  <tbody>\n",
       "    <tr>\n",
       "      <th>0</th>\n",
       "      <td>1.603221e+09</td>\n",
       "      <td>0.000000</td>\n",
       "      <td>0.0</td>\n",
       "      <td>-0.054502</td>\n",
       "      <td>-0.104003</td>\n",
       "      <td>-0.161004</td>\n",
       "      <td>-0.227506</td>\n",
       "      <td>-0.295508</td>\n",
       "      <td>-0.370510</td>\n",
       "      <td>-0.443012</td>\n",
       "      <td>...</td>\n",
       "      <td>-294.113468</td>\n",
       "      <td>-294.219471</td>\n",
       "      <td>-294.326974</td>\n",
       "      <td>-294.438477</td>\n",
       "      <td>-294.549480</td>\n",
       "      <td>-294.654983</td>\n",
       "      <td>-294.767486</td>\n",
       "      <td>-294.884989</td>\n",
       "      <td>-294.998492</td>\n",
       "      <td>-295.113996</td>\n",
       "    </tr>\n",
       "    <tr>\n",
       "      <th>1</th>\n",
       "      <td>1.603221e+09</td>\n",
       "      <td>0.100003</td>\n",
       "      <td>0.0</td>\n",
       "      <td>-0.049501</td>\n",
       "      <td>-0.106503</td>\n",
       "      <td>-0.173005</td>\n",
       "      <td>-0.241007</td>\n",
       "      <td>-0.316009</td>\n",
       "      <td>-0.388511</td>\n",
       "      <td>-0.449512</td>\n",
       "      <td>...</td>\n",
       "      <td>-294.164970</td>\n",
       "      <td>-294.272473</td>\n",
       "      <td>-294.383976</td>\n",
       "      <td>-294.494979</td>\n",
       "      <td>-294.600482</td>\n",
       "      <td>-294.712984</td>\n",
       "      <td>-294.830488</td>\n",
       "      <td>-294.943991</td>\n",
       "      <td>-295.059494</td>\n",
       "      <td>NaN</td>\n",
       "    </tr>\n",
       "    <tr>\n",
       "      <th>2</th>\n",
       "      <td>1.603221e+09</td>\n",
       "      <td>0.200006</td>\n",
       "      <td>0.0</td>\n",
       "      <td>-0.057002</td>\n",
       "      <td>-0.123503</td>\n",
       "      <td>-0.191505</td>\n",
       "      <td>-0.266507</td>\n",
       "      <td>-0.339009</td>\n",
       "      <td>-0.400011</td>\n",
       "      <td>-0.462013</td>\n",
       "      <td>...</td>\n",
       "      <td>-294.222971</td>\n",
       "      <td>-294.334474</td>\n",
       "      <td>-294.445477</td>\n",
       "      <td>-294.550980</td>\n",
       "      <td>-294.663483</td>\n",
       "      <td>-294.780986</td>\n",
       "      <td>-294.894489</td>\n",
       "      <td>-295.009993</td>\n",
       "      <td>NaN</td>\n",
       "      <td>NaN</td>\n",
       "    </tr>\n",
       "    <tr>\n",
       "      <th>3</th>\n",
       "      <td>1.603221e+09</td>\n",
       "      <td>0.300008</td>\n",
       "      <td>0.0</td>\n",
       "      <td>-0.066502</td>\n",
       "      <td>-0.134504</td>\n",
       "      <td>-0.209506</td>\n",
       "      <td>-0.282008</td>\n",
       "      <td>-0.343009</td>\n",
       "      <td>-0.405011</td>\n",
       "      <td>-0.477013</td>\n",
       "      <td>...</td>\n",
       "      <td>-294.277473</td>\n",
       "      <td>-294.388476</td>\n",
       "      <td>-294.493979</td>\n",
       "      <td>-294.606482</td>\n",
       "      <td>-294.723985</td>\n",
       "      <td>-294.837488</td>\n",
       "      <td>-294.952991</td>\n",
       "      <td>NaN</td>\n",
       "      <td>NaN</td>\n",
       "      <td>NaN</td>\n",
       "    </tr>\n",
       "    <tr>\n",
       "      <th>4</th>\n",
       "      <td>1.603221e+09</td>\n",
       "      <td>0.400011</td>\n",
       "      <td>0.0</td>\n",
       "      <td>-0.068002</td>\n",
       "      <td>-0.143004</td>\n",
       "      <td>-0.215506</td>\n",
       "      <td>-0.276508</td>\n",
       "      <td>-0.338509</td>\n",
       "      <td>-0.410511</td>\n",
       "      <td>-0.487013</td>\n",
       "      <td>...</td>\n",
       "      <td>-294.321974</td>\n",
       "      <td>-294.427477</td>\n",
       "      <td>-294.539980</td>\n",
       "      <td>-294.657483</td>\n",
       "      <td>-294.770986</td>\n",
       "      <td>-294.886489</td>\n",
       "      <td>NaN</td>\n",
       "      <td>NaN</td>\n",
       "      <td>NaN</td>\n",
       "      <td>NaN</td>\n",
       "    </tr>\n",
       "    <tr>\n",
       "      <th>...</th>\n",
       "      <td>...</td>\n",
       "      <td>...</td>\n",
       "      <td>...</td>\n",
       "      <td>...</td>\n",
       "      <td>...</td>\n",
       "      <td>...</td>\n",
       "      <td>...</td>\n",
       "      <td>...</td>\n",
       "      <td>...</td>\n",
       "      <td>...</td>\n",
       "      <td>...</td>\n",
       "      <td>...</td>\n",
       "      <td>...</td>\n",
       "      <td>...</td>\n",
       "      <td>...</td>\n",
       "      <td>...</td>\n",
       "      <td>...</td>\n",
       "      <td>...</td>\n",
       "      <td>...</td>\n",
       "      <td>...</td>\n",
       "      <td>...</td>\n",
       "    </tr>\n",
       "    <tr>\n",
       "      <th>2992</th>\n",
       "      <td>1.603221e+09</td>\n",
       "      <td>299.200168</td>\n",
       "      <td>0.0</td>\n",
       "      <td>-0.112503</td>\n",
       "      <td>-0.230006</td>\n",
       "      <td>-0.343509</td>\n",
       "      <td>-0.459012</td>\n",
       "      <td>NaN</td>\n",
       "      <td>NaN</td>\n",
       "      <td>NaN</td>\n",
       "      <td>...</td>\n",
       "      <td>NaN</td>\n",
       "      <td>NaN</td>\n",
       "      <td>NaN</td>\n",
       "      <td>NaN</td>\n",
       "      <td>NaN</td>\n",
       "      <td>NaN</td>\n",
       "      <td>NaN</td>\n",
       "      <td>NaN</td>\n",
       "      <td>NaN</td>\n",
       "      <td>NaN</td>\n",
       "    </tr>\n",
       "    <tr>\n",
       "      <th>2993</th>\n",
       "      <td>1.603221e+09</td>\n",
       "      <td>299.300170</td>\n",
       "      <td>0.0</td>\n",
       "      <td>-0.117503</td>\n",
       "      <td>-0.231006</td>\n",
       "      <td>-0.346510</td>\n",
       "      <td>NaN</td>\n",
       "      <td>NaN</td>\n",
       "      <td>NaN</td>\n",
       "      <td>NaN</td>\n",
       "      <td>...</td>\n",
       "      <td>NaN</td>\n",
       "      <td>NaN</td>\n",
       "      <td>NaN</td>\n",
       "      <td>NaN</td>\n",
       "      <td>NaN</td>\n",
       "      <td>NaN</td>\n",
       "      <td>NaN</td>\n",
       "      <td>NaN</td>\n",
       "      <td>NaN</td>\n",
       "      <td>NaN</td>\n",
       "    </tr>\n",
       "    <tr>\n",
       "      <th>2994</th>\n",
       "      <td>1.603221e+09</td>\n",
       "      <td>299.400173</td>\n",
       "      <td>0.0</td>\n",
       "      <td>-0.113503</td>\n",
       "      <td>-0.229006</td>\n",
       "      <td>NaN</td>\n",
       "      <td>NaN</td>\n",
       "      <td>NaN</td>\n",
       "      <td>NaN</td>\n",
       "      <td>NaN</td>\n",
       "      <td>...</td>\n",
       "      <td>NaN</td>\n",
       "      <td>NaN</td>\n",
       "      <td>NaN</td>\n",
       "      <td>NaN</td>\n",
       "      <td>NaN</td>\n",
       "      <td>NaN</td>\n",
       "      <td>NaN</td>\n",
       "      <td>NaN</td>\n",
       "      <td>NaN</td>\n",
       "      <td>NaN</td>\n",
       "    </tr>\n",
       "    <tr>\n",
       "      <th>2995</th>\n",
       "      <td>1.603221e+09</td>\n",
       "      <td>299.500176</td>\n",
       "      <td>0.0</td>\n",
       "      <td>-0.115503</td>\n",
       "      <td>NaN</td>\n",
       "      <td>NaN</td>\n",
       "      <td>NaN</td>\n",
       "      <td>NaN</td>\n",
       "      <td>NaN</td>\n",
       "      <td>NaN</td>\n",
       "      <td>...</td>\n",
       "      <td>NaN</td>\n",
       "      <td>NaN</td>\n",
       "      <td>NaN</td>\n",
       "      <td>NaN</td>\n",
       "      <td>NaN</td>\n",
       "      <td>NaN</td>\n",
       "      <td>NaN</td>\n",
       "      <td>NaN</td>\n",
       "      <td>NaN</td>\n",
       "      <td>NaN</td>\n",
       "    </tr>\n",
       "    <tr>\n",
       "      <th>2996</th>\n",
       "      <td>1.603221e+09</td>\n",
       "      <td>299.600178</td>\n",
       "      <td>0.0</td>\n",
       "      <td>NaN</td>\n",
       "      <td>NaN</td>\n",
       "      <td>NaN</td>\n",
       "      <td>NaN</td>\n",
       "      <td>NaN</td>\n",
       "      <td>NaN</td>\n",
       "      <td>NaN</td>\n",
       "      <td>...</td>\n",
       "      <td>NaN</td>\n",
       "      <td>NaN</td>\n",
       "      <td>NaN</td>\n",
       "      <td>NaN</td>\n",
       "      <td>NaN</td>\n",
       "      <td>NaN</td>\n",
       "      <td>NaN</td>\n",
       "      <td>NaN</td>\n",
       "      <td>NaN</td>\n",
       "      <td>NaN</td>\n",
       "    </tr>\n",
       "  </tbody>\n",
       "</table>\n",
       "<p>2997 rows × 2999 columns</p>\n",
       "</div>"
      ],
      "text/plain": [
       "          epoch_time   sync_time  particle0  particle1  particle2  particle3  \\\n",
       "index1                                                                         \n",
       "0       1.603221e+09    0.000000        0.0  -0.054502  -0.104003  -0.161004   \n",
       "1       1.603221e+09    0.100003        0.0  -0.049501  -0.106503  -0.173005   \n",
       "2       1.603221e+09    0.200006        0.0  -0.057002  -0.123503  -0.191505   \n",
       "3       1.603221e+09    0.300008        0.0  -0.066502  -0.134504  -0.209506   \n",
       "4       1.603221e+09    0.400011        0.0  -0.068002  -0.143004  -0.215506   \n",
       "...              ...         ...        ...        ...        ...        ...   \n",
       "2992    1.603221e+09  299.200168        0.0  -0.112503  -0.230006  -0.343509   \n",
       "2993    1.603221e+09  299.300170        0.0  -0.117503  -0.231006  -0.346510   \n",
       "2994    1.603221e+09  299.400173        0.0  -0.113503  -0.229006        NaN   \n",
       "2995    1.603221e+09  299.500176        0.0  -0.115503        NaN        NaN   \n",
       "2996    1.603221e+09  299.600178        0.0        NaN        NaN        NaN   \n",
       "\n",
       "        particle4  particle5  particle6  particle7  ...  particle2987  \\\n",
       "index1                                              ...                 \n",
       "0       -0.227506  -0.295508  -0.370510  -0.443012  ...   -294.113468   \n",
       "1       -0.241007  -0.316009  -0.388511  -0.449512  ...   -294.164970   \n",
       "2       -0.266507  -0.339009  -0.400011  -0.462013  ...   -294.222971   \n",
       "3       -0.282008  -0.343009  -0.405011  -0.477013  ...   -294.277473   \n",
       "4       -0.276508  -0.338509  -0.410511  -0.487013  ...   -294.321974   \n",
       "...           ...        ...        ...        ...  ...           ...   \n",
       "2992    -0.459012        NaN        NaN        NaN  ...           NaN   \n",
       "2993          NaN        NaN        NaN        NaN  ...           NaN   \n",
       "2994          NaN        NaN        NaN        NaN  ...           NaN   \n",
       "2995          NaN        NaN        NaN        NaN  ...           NaN   \n",
       "2996          NaN        NaN        NaN        NaN  ...           NaN   \n",
       "\n",
       "        particle2988  particle2989  particle2990  particle2991  particle2992  \\\n",
       "index1                                                                         \n",
       "0        -294.219471   -294.326974   -294.438477   -294.549480   -294.654983   \n",
       "1        -294.272473   -294.383976   -294.494979   -294.600482   -294.712984   \n",
       "2        -294.334474   -294.445477   -294.550980   -294.663483   -294.780986   \n",
       "3        -294.388476   -294.493979   -294.606482   -294.723985   -294.837488   \n",
       "4        -294.427477   -294.539980   -294.657483   -294.770986   -294.886489   \n",
       "...              ...           ...           ...           ...           ...   \n",
       "2992             NaN           NaN           NaN           NaN           NaN   \n",
       "2993             NaN           NaN           NaN           NaN           NaN   \n",
       "2994             NaN           NaN           NaN           NaN           NaN   \n",
       "2995             NaN           NaN           NaN           NaN           NaN   \n",
       "2996             NaN           NaN           NaN           NaN           NaN   \n",
       "\n",
       "        particle2993  particle2994  particle2995  particle2996  \n",
       "index1                                                          \n",
       "0        -294.767486   -294.884989   -294.998492   -295.113996  \n",
       "1        -294.830488   -294.943991   -295.059494           NaN  \n",
       "2        -294.894489   -295.009993           NaN           NaN  \n",
       "3        -294.952991           NaN           NaN           NaN  \n",
       "4                NaN           NaN           NaN           NaN  \n",
       "...              ...           ...           ...           ...  \n",
       "2992             NaN           NaN           NaN           NaN  \n",
       "2993             NaN           NaN           NaN           NaN  \n",
       "2994             NaN           NaN           NaN           NaN  \n",
       "2995             NaN           NaN           NaN           NaN  \n",
       "2996             NaN           NaN           NaN           NaN  \n",
       "\n",
       "[2997 rows x 2999 columns]"
      ]
     },
     "execution_count": 103,
     "metadata": {},
     "output_type": "execute_result"
    }
   ],
   "source": [
    "#converting rows to columns for position northsouth\n",
    "dfi['index1']=northsouth.index\n",
    "northsouth=northsouth.T\n",
    "northsouth.set_index(dfi.index1, inplace=True)\n",
    "northsouth.columns = ['particle' + str(col) for col in northsouth.columns]\n",
    "\n",
    "#adding in time from main dataframe\n",
    "northsouth.insert(0, 'epoch_time', df2.time_epoch)\n",
    "northsouth.insert(1, 'sync_time',df2.sync_time)\n",
    "northsouth"
   ]
  },
  {
   "cell_type": "code",
   "execution_count": 22,
   "metadata": {},
   "outputs": [
    {
     "data": {
      "text/html": [
       "<div>\n",
       "<style scoped>\n",
       "    .dataframe tbody tr th:only-of-type {\n",
       "        vertical-align: middle;\n",
       "    }\n",
       "\n",
       "    .dataframe tbody tr th {\n",
       "        vertical-align: top;\n",
       "    }\n",
       "\n",
       "    .dataframe thead th {\n",
       "        text-align: right;\n",
       "    }\n",
       "</style>\n",
       "<table border=\"1\" class=\"dataframe\">\n",
       "  <thead>\n",
       "    <tr style=\"text-align: right;\">\n",
       "      <th></th>\n",
       "      <th>master_time</th>\n",
       "      <th>time</th>\n",
       "      <th>odor</th>\n",
       "      <th>trisonica_U</th>\n",
       "      <th>trisonica_V</th>\n",
       "      <th>lat</th>\n",
       "      <th>lon</th>\n",
       "    </tr>\n",
       "  </thead>\n",
       "  <tbody>\n",
       "    <tr>\n",
       "      <th>0</th>\n",
       "      <td>1.603221e+09</td>\n",
       "      <td>0.000000</td>\n",
       "      <td>0.634854</td>\n",
       "      <td>0.280000</td>\n",
       "      <td>1.160000</td>\n",
       "      <td>40.793749</td>\n",
       "      <td>-119.157556</td>\n",
       "    </tr>\n",
       "    <tr>\n",
       "      <th>1</th>\n",
       "      <td>1.603221e+09</td>\n",
       "      <td>0.004997</td>\n",
       "      <td>0.635494</td>\n",
       "      <td>0.289993</td>\n",
       "      <td>1.160000</td>\n",
       "      <td>40.793749</td>\n",
       "      <td>-119.157556</td>\n",
       "    </tr>\n",
       "    <tr>\n",
       "      <th>2</th>\n",
       "      <td>1.603221e+09</td>\n",
       "      <td>0.009995</td>\n",
       "      <td>0.635827</td>\n",
       "      <td>0.299985</td>\n",
       "      <td>1.160000</td>\n",
       "      <td>40.793749</td>\n",
       "      <td>-119.157556</td>\n",
       "    </tr>\n",
       "    <tr>\n",
       "      <th>3</th>\n",
       "      <td>1.603221e+09</td>\n",
       "      <td>0.014992</td>\n",
       "      <td>0.635718</td>\n",
       "      <td>0.309978</td>\n",
       "      <td>1.160000</td>\n",
       "      <td>40.793749</td>\n",
       "      <td>-119.157556</td>\n",
       "    </tr>\n",
       "    <tr>\n",
       "      <th>4</th>\n",
       "      <td>1.603221e+09</td>\n",
       "      <td>0.019989</td>\n",
       "      <td>0.635305</td>\n",
       "      <td>0.319970</td>\n",
       "      <td>1.160000</td>\n",
       "      <td>40.793749</td>\n",
       "      <td>-119.157556</td>\n",
       "    </tr>\n",
       "    <tr>\n",
       "      <th>...</th>\n",
       "      <td>...</td>\n",
       "      <td>...</td>\n",
       "      <td>...</td>\n",
       "      <td>...</td>\n",
       "      <td>...</td>\n",
       "      <td>...</td>\n",
       "      <td>...</td>\n",
       "    </tr>\n",
       "    <tr>\n",
       "      <th>59757</th>\n",
       "      <td>1.603221e+09</td>\n",
       "      <td>298.620872</td>\n",
       "      <td>0.591438</td>\n",
       "      <td>1.333149</td>\n",
       "      <td>-1.755375</td>\n",
       "      <td>40.793697</td>\n",
       "      <td>-119.157631</td>\n",
       "    </tr>\n",
       "    <tr>\n",
       "      <th>59758</th>\n",
       "      <td>1.603221e+09</td>\n",
       "      <td>298.625870</td>\n",
       "      <td>0.589259</td>\n",
       "      <td>1.496149</td>\n",
       "      <td>-1.733239</td>\n",
       "      <td>40.793697</td>\n",
       "      <td>-119.157631</td>\n",
       "    </tr>\n",
       "    <tr>\n",
       "      <th>59759</th>\n",
       "      <td>1.603221e+09</td>\n",
       "      <td>298.630867</td>\n",
       "      <td>0.589552</td>\n",
       "      <td>1.331477</td>\n",
       "      <td>-1.796238</td>\n",
       "      <td>40.793697</td>\n",
       "      <td>-119.157631</td>\n",
       "    </tr>\n",
       "    <tr>\n",
       "      <th>59760</th>\n",
       "      <td>1.603221e+09</td>\n",
       "      <td>298.635864</td>\n",
       "      <td>0.590273</td>\n",
       "      <td>1.110641</td>\n",
       "      <td>-1.873829</td>\n",
       "      <td>40.793697</td>\n",
       "      <td>-119.157631</td>\n",
       "    </tr>\n",
       "    <tr>\n",
       "      <th>59761</th>\n",
       "      <td>1.603221e+09</td>\n",
       "      <td>298.640862</td>\n",
       "      <td>0.590885</td>\n",
       "      <td>0.889804</td>\n",
       "      <td>-1.951420</td>\n",
       "      <td>40.793697</td>\n",
       "      <td>-119.157631</td>\n",
       "    </tr>\n",
       "  </tbody>\n",
       "</table>\n",
       "<p>59762 rows × 7 columns</p>\n",
       "</div>"
      ],
      "text/plain": [
       "        master_time        time      odor  trisonica_U  trisonica_V  \\\n",
       "0      1.603221e+09    0.000000  0.634854     0.280000     1.160000   \n",
       "1      1.603221e+09    0.004997  0.635494     0.289993     1.160000   \n",
       "2      1.603221e+09    0.009995  0.635827     0.299985     1.160000   \n",
       "3      1.603221e+09    0.014992  0.635718     0.309978     1.160000   \n",
       "4      1.603221e+09    0.019989  0.635305     0.319970     1.160000   \n",
       "...             ...         ...       ...          ...          ...   \n",
       "59757  1.603221e+09  298.620872  0.591438     1.333149    -1.755375   \n",
       "59758  1.603221e+09  298.625870  0.589259     1.496149    -1.733239   \n",
       "59759  1.603221e+09  298.630867  0.589552     1.331477    -1.796238   \n",
       "59760  1.603221e+09  298.635864  0.590273     1.110641    -1.873829   \n",
       "59761  1.603221e+09  298.640862  0.590885     0.889804    -1.951420   \n",
       "\n",
       "             lat         lon  \n",
       "0      40.793749 -119.157556  \n",
       "1      40.793749 -119.157556  \n",
       "2      40.793749 -119.157556  \n",
       "3      40.793749 -119.157556  \n",
       "4      40.793749 -119.157556  \n",
       "...          ...         ...  \n",
       "59757  40.793697 -119.157631  \n",
       "59758  40.793697 -119.157631  \n",
       "59759  40.793697 -119.157631  \n",
       "59760  40.793697 -119.157631  \n",
       "59761  40.793697 -119.157631  \n",
       "\n",
       "[59762 rows x 7 columns]"
      ]
     },
     "execution_count": 22,
     "metadata": {},
     "output_type": "execute_result"
    }
   ],
   "source": [
    "df= pd.read_hdf('~/Documents/Myfiles/DataAnalysis/data/Interpolated_0.h5')\n",
    "time= rosdf.master_time-rosdf.master_time[0]\n",
    "df.insert(1,'time',time) \n",
    "df"
   ]
  },
  {
   "cell_type": "code",
   "execution_count": 28,
   "metadata": {},
   "outputs": [],
   "source": [
    "query = 'odor > 5 and odor <= 10'\n",
    "df_t=df.query(query)"
   ]
  },
  {
   "cell_type": "code",
   "execution_count": 57,
   "metadata": {},
   "outputs": [],
   "source": [
    "font = {'family' : 'normal',\n",
    "        'size'   : 16}\n",
    "\n",
    "plt.rc('font', **font)"
   ]
  },
  {
   "cell_type": "code",
   "execution_count": 62,
   "metadata": {},
   "outputs": [
    {
     "data": {
      "text/plain": [
       "Text(0, 0.5, 'NorthSouth (meters)')"
      ]
     },
     "execution_count": 62,
     "metadata": {},
     "output_type": "execute_result"
    },
    {
     "data": {
      "image/png": "[encoded data removed]",
      "text/plain": [
       "<Figure size 1440x720 with 2 Axes>"
      ]
     },
     "metadata": {
      "needs_background": "light"
     },
     "output_type": "display_data"
    }
   ],
   "source": [
    "f, (ax1,ax2) = plt.subplots(1, 2,figsize=(20,10))\n",
    "ax1.scatter(df_t.lat, df_t.lon, c=df_t.odor, s=10, cmap='magma')\n",
    "ax1.set_xlabel('Latitude')\n",
    "ax1.set_ylabel('Longitude')\n",
    "\n",
    "ax2.scatter(posu[0],posv[0], s=10, cmap='magma')\n",
    "\n",
    "ax2.set_xlabel('Eastwest (meters)')\n",
    "ax2.set_ylabel('NorthSouth (meters)')\n"
   ]
  },
  {
   "cell_type": "markdown",
   "metadata": {},
   "source": [
    "### PREVIOUS STUFF"
   ]
  },
  {
   "cell_type": "code",
   "execution_count": null,
   "metadata": {
    "scrolled": true
   },
   "outputs": [],
   "source": [
    "position_U = integrate.cumtrapz(df2.U[1:],df2.time_epoch[1:], axis=0) \n",
    "position_V = integrate.cumtrapz(df2.V[1:],df2.time_epoch[1:], axis=0) \n",
    "positions = integrate.cumtrapz([df2.U[1:],df2.V[1:]], df2.time_epoch[1:], axis=1) #comprises zboth U & V"
   ]
  },
  {
   "cell_type": "code",
   "execution_count": null,
   "metadata": {},
   "outputs": [],
   "source": [
    "#padding zeros to match length\n",
    "X = padarray(position_U, 220330)\n",
    "Y = padarray(position_V, 220330)"
   ]
  },
  {
   "cell_type": "code",
   "execution_count": null,
   "metadata": {},
   "outputs": [],
   "source": [
    "#adding position data to the main df\n",
    "wind_df['position_u'] = X\n",
    "wind_df['position_v'] = Y"
   ]
  },
  {
   "cell_type": "code",
   "execution_count": null,
   "metadata": {
    "scrolled": false
   },
   "outputs": [],
   "source": [
    "plt.scatter(positions[0],positions[1], label='Position')\n",
    "plt.quiver(positions[0,::3000], positions[1,::3000],\n",
    "    wind_df.U[1:220329:3000], wind_df.V[1:220329:3000], color='red',\n",
    "    width=0.01, label='Direction')\n",
    "plt.legend()"
   ]
  },
  {
   "cell_type": "code",
   "execution_count": null,
   "metadata": {},
   "outputs": [],
   "source": [
    "#TODO: ANIMATION - UPDATE WITH RESPECT TO TIME STAMP or a dt\n",
    "\n",
    "# %matplotlib notebook\n",
    "# import seaborn as sns\n",
    "# plt.style.use('seaborn-pastel')\n",
    "\n",
    "# fig = plt.figure(figsize=(10,4))\n",
    "# ax=plt.axes(xlim=(-7000, 1000), ylim=(-1000, 2600))\n",
    "# line, = ax.plot([], [])\n",
    "\n",
    "# def init():\n",
    "#     line.set_data([], [])\n",
    "#     return line,\n",
    "\n",
    "# def animate(i):   \n",
    "#     x = wind_df.positions_u\n",
    "#     y = wind_df.positions_v\n",
    "#     line.set_data(x, y)\n",
    "#     return line,\n",
    "\n",
    "    \n",
    "# anim = animation.FuncAnimation(fig, animate, init_func=init,\n",
    "#                                frames=20, interval=20, blit=True)\n",
    "# anim.save('basic_animation.mp4', fps=30, extra_args=['-vcodec', 'libx264'])"
   ]
  },
  {
   "cell_type": "markdown",
   "metadata": {},
   "source": [
    "### Setup Bags - BAG01 - Source Location"
   ]
  },
  {
   "cell_type": "code",
   "execution_count": null,
   "metadata": {
    "scrolled": true
   },
   "outputs": [],
   "source": [
    "#dfbag01 = hp.import_csv(\"~/data/DesertDataOct/Run01/OctoberRun01Bag01.csv\") \n",
    "dfbag01 = hp.import_csv(\"~/data/DesertDataOct/Run01/OctoberRun01Bag01.csv\")"
   ]
  },
  {
   "cell_type": "code",
   "execution_count": null,
   "metadata": {
    "scrolled": true
   },
   "outputs": [],
   "source": [
    "epoch_setup(dfbag01)"
   ]
  },
  {
   "cell_type": "code",
   "execution_count": null,
   "metadata": {},
   "outputs": [],
   "source": [
    "dfbag01=dfbag01.interpolate()"
   ]
  },
  {
   "cell_type": "code",
   "execution_count": null,
   "metadata": {
    "scrolled": false
   },
   "outputs": [],
   "source": [
    "# dfbag01.keys()\n",
    "fig = plt.figure()\n",
    "\n",
    "ax = fig.add_subplot(111)\n",
    "\n",
    "ax.plot(dfbag01._ublox_gps_fix_longitude, dfbag01._ublox_gps_fix_latitude)\n",
    "ax.set_xlabel('Longitude')\n",
    "ax.set_ylabel('Latitude')"
   ]
  },
  {
   "cell_type": "code",
   "execution_count": null,
   "metadata": {},
   "outputs": [],
   "source": [
    "plt.plot(dfbag01.sync_time,dfbag01._ublox_gps_fix_latitude)"
   ]
  },
  {
   "cell_type": "code",
   "execution_count": null,
   "metadata": {},
   "outputs": [],
   "source": [
    "query = 'sync_time > 75 and sync_time < 150'\n",
    "df_gps= dfbag01.query(query)"
   ]
  },
  {
   "cell_type": "code",
   "execution_count": null,
   "metadata": {},
   "outputs": [],
   "source": [
    "source_location_lat=df_gps._ublox_gps_fix_latitude.mean()\n",
    "source_location_long=df_gps._ublox_gps_fix_longitude.mean()\n",
    "source_location=[source_location_lat, source_location_long]\n",
    "source_location\n",
    "\n",
    "query = '_analog_output_data > 5 and _analog_output_data <= 10'\n",
    "df_tmp = dfbag01.query(query)\n",
    "\n",
    "fig_odor_gps = plt.figure()\n",
    "ax_odor_gps_filtered = fig_odor_gps.add_subplot(111)\n",
    "ax_odor_gps_filtered.scatter(df_tmp._ublox_gps_fix_latitude, df_tmp._ublox_gps_fix_longitude, c=df_tmp._ublox_gps_fix_altitude, s=10, cmap='magma')\n",
    "ax_odor_gps_filtered.set_xlabel('Latitude')\n",
    "ax_odor_gps_filtered.set_ylabel('Longitude')\n",
    "\n",
    "plt.plot([40.79376709443614], [-119.15757512132207], marker='x', markersize=20, color=\"black\")"
   ]
  },
  {
   "cell_type": "markdown",
   "metadata": {},
   "source": [
    "### Setup Bags - BAG02 - Analysis"
   ]
  },
  {
   "cell_type": "code",
   "execution_count": null,
   "metadata": {},
   "outputs": [],
   "source": [
    "dfbag02 = hp.import_csv(\"~/data/DesertDataOct/Run02/OctoberRun02Bag0.csv\") "
   ]
  },
  {
   "cell_type": "code",
   "execution_count": null,
   "metadata": {},
   "outputs": [],
   "source": [
    "epoch_setup(dfbag02)"
   ]
  },
  {
   "cell_type": "markdown",
   "metadata": {},
   "source": [
    "### Interpolation Method Comparison"
   ]
  },
  {
   "cell_type": "code",
   "execution_count": null,
   "metadata": {
    "scrolled": false
   },
   "outputs": [],
   "source": [
    "#compare cubic, spline and linear interpolation\n",
    "odor_concentration_cubic=dfbag02['_analog_output_data'].interpolate(method='cubic', order=2)\n",
    "odor_concentration_spline=dfbag02['_analog_output_data'].interpolate(method='spline', order=2)\n",
    "odor_concentration_linear=dfbag02['_analog_output_data'].interpolate(method='linear')\n",
    "\n",
    "odor_concentration_spline_clipped = np.clip(odor_concentration_spline, a_min = 0.6, a_max = 10.4) "
   ]
  },
  {
   "cell_type": "code",
   "execution_count": null,
   "metadata": {},
   "outputs": [],
   "source": [
    "x = dfbag02._analog_output_data\n",
    "y = dfbag02.time\n",
    "f = interpolate.interp1d(x,y,kind='cubic')"
   ]
  },
  {
   "cell_type": "code",
   "execution_count": null,
   "metadata": {},
   "outputs": [],
   "source": [
    "df_interpolation = pd.DataFrame()"
   ]
  },
  {
   "cell_type": "code",
   "execution_count": null,
   "metadata": {},
   "outputs": [],
   "source": [
    "df_interpolation.insert(0,'time',dfbag02.sync_time)\n",
    "df_interpolation.insert(1,'odor_concentration_cubic',odor_concentration_cubic)\n",
    "df_interpolation.insert(2,'odor_concentration_spline',odor_concentration_spline)\n",
    "df_interpolation.insert(3,'odor_concentration_linear',odor_concentration_linear)"
   ]
  },
  {
   "cell_type": "code",
   "execution_count": null,
   "metadata": {},
   "outputs": [],
   "source": [
    "df_interpolation"
   ]
  },
  {
   "cell_type": "code",
   "execution_count": null,
   "metadata": {},
   "outputs": [],
   "source": [
    "df_interpolation.insert(4,'odor_concentration',odor_concentration_spline_clipped)"
   ]
  },
  {
   "cell_type": "code",
   "execution_count": null,
   "metadata": {},
   "outputs": [],
   "source": [
    "# fig,((ax_1,ax_2),(ax_3, ax_4))=plt.subplots(2,2,figsize=(15,5))\n",
    "# fig.tight_layout()\n",
    "\n",
    "# ax_1.plot(df_interpolation.time, df_interpolation.odor_concentration_cubic)\n",
    "# ax_1.set_xlabel('Odor_concentration_Cubic')\n",
    "# ax_1.set_ylabel('Time')\n",
    "# ax_1.set_xlim(75,300)\n",
    "\n",
    "\n",
    "# ax_2.plot(df_interpolation.time, df_interpolation.odor_concentration_spline)\n",
    "# ax_2.set_xlabel('Odor_concentration_Spline')\n",
    "# ax_2.set_ylabel('Time')\n",
    "# ax_2.set_xlim(75,300)\n",
    "\n",
    "# ax_3.plot(df_interpolation.time, df_interpolation.odor_concentration_linear)\n",
    "# ax_3.set_xlabel('Odor_concentration_Linear')\n",
    "# ax_3.set_ylabel('Time')\n",
    "# ax_3.set_xlim(75,300)\n",
    "\n",
    "# ax_4.plot(df_interpolation.time, df_interpolation.odor_concentration)\n",
    "# ax_4.set_xlabel('Odor_concentration')\n",
    "# ax_4.set_ylabel('Time')\n",
    "# ax_4.set_xlim(75,300)"
   ]
  },
  {
   "cell_type": "code",
   "execution_count": null,
   "metadata": {},
   "outputs": [],
   "source": [
    "# fig, ((ax1, ax2, ax3), (ax4, ax5, ax6)) = plt.subplots(2, 3,figsize=(20,10))\n",
    "# fig.suptitle('Odor Concentration (v/g) vs Time (seconds)')\n",
    "# ax1.plot(df_interpolation.time, df_interpolation.odor_concentration)\n",
    "# ax1.set_xlim(102,104) #time\n",
    "# ax1.set_ylim(0,11) #voltage\n",
    "\n",
    "# ax2.plot(df_interpolation.time, df_interpolation.odor_concentration)\n",
    "# ax2.set_xlim(151,153)\n",
    "# ax2.set_ylim(0,11)\n",
    "\n",
    "# ax3.plot(df_interpolation.time, df_interpolation.odor_concentration)\n",
    "# ax3.set_xlim(175,177)\n",
    "# ax3.set_ylim(0,11)\n",
    "\n",
    "# ax4.plot(df_interpolation.time, df_interpolation.odor_concentration)\n",
    "# ax4.set_xlim(227,228)\n",
    "# ax4.set_ylim(0,11)\n",
    "\n",
    "# ax5.plot(df_interpolation.time, df_interpolation.odor_concentration)\n",
    "# ax5.set_xlim(255,256)\n",
    "# ax5.set_ylim(0,11)\n",
    "\n",
    "# ax6.plot(df_interpolation.time, df_interpolation.odor_concentration)\n",
    "# ax6.set_xlim(299,299.8)\n",
    "# ax6.set_ylim(0,11) #lower concentration\n",
    "\n",
    "# fig.text(0.5, 0.04, 'Time', ha='center')\n",
    "# fig.text(0.08, 0.5, 'Odor Concentration Interpolated', va='center', rotation='vertical')"
   ]
  },
  {
   "cell_type": "code",
   "execution_count": null,
   "metadata": {},
   "outputs": [],
   "source": [
    "# dfbag02_tmp=dfbag02\n",
    "# dfbag02_tmp.insert(3,'odor_concentration',df_interpolation.odor_concentration)\n",
    "# dfbag02_tmp.set_index('odor_concentration', inplace=True)\n",
    "# dfbag02_tmp.interpolate(method='index', inplace=True)\n",
    "# dfbag02_tmp.reset_index(inplace=True)"
   ]
  },
  {
   "cell_type": "code",
   "execution_count": null,
   "metadata": {},
   "outputs": [],
   "source": [
    "#TODO: interpolate\n",
    "dfbag02=dfbag02.interpolate(method='linear')"
   ]
  },
  {
   "cell_type": "code",
   "execution_count": null,
   "metadata": {
    "scrolled": true
   },
   "outputs": [],
   "source": [
    "fig = plt.figure()\n",
    "\n",
    "ax = fig.add_subplot(111)\n",
    "\n",
    "ax.plot(dfbag02._ublox_gps_fix_longitude, dfbag02._ublox_gps_fix_latitude)\n",
    "ax.set_xlabel('Longitude')\n",
    "ax.set_ylabel('Latitude')"
   ]
  },
  {
   "cell_type": "code",
   "execution_count": null,
   "metadata": {},
   "outputs": [],
   "source": [
    "dfbag02.time[0]"
   ]
  },
  {
   "cell_type": "code",
   "execution_count": null,
   "metadata": {},
   "outputs": [],
   "source": [
    "dfbag02.time[73437]"
   ]
  },
  {
   "cell_type": "code",
   "execution_count": null,
   "metadata": {
    "scrolled": true
   },
   "outputs": [],
   "source": [
    "wind_df_bag02 = wind_df.loc[(wind_df.time_epoch >= 1603221192.55) & (wind_df.time_epoch <= 1603221492.29)]\n",
    "wind_df_bag02.to_hdf('/home/ecc/data/DesertDataOct/StationeryWind/WindStatData_TimeRun02Bag0.h5', key='wind_df_bag02', mode='w')"
   ]
  },
  {
   "cell_type": "code",
   "execution_count": null,
   "metadata": {
    "scrolled": true
   },
   "outputs": [],
   "source": [
    "query = ' _analog_output_data >= 7'\n",
    "dfbag02_tmp = dfbag02.query(query)"
   ]
  },
  {
   "cell_type": "code",
   "execution_count": null,
   "metadata": {
    "scrolled": true
   },
   "outputs": [],
   "source": [
    "fig_odor_gps = plt.figure()\n",
    "ax= fig_odor_gps.add_subplot(111)\n",
    "cmap = plt.cm.get_cmap(\"magma\", 10)\n",
    "#ax.scatter(wind_df_bag02.position_u,wind_df_bag02.position_v)\n",
    "ax.scatter(dfbag02_tmp._ublox_gps_fix_latitude, dfbag02_tmp._ublox_gps_fix_longitude, c=dfbag02_tmp._analog_output_data, s=10, cmap='magma')\n",
    "#ax.plot(dfbag02_tmp._ublox_gps_fix_latitude, dfbag02_tmp._ublox_gps_fix_longitude)\n",
    "ax.set_xlabel('Latitude')\n",
    "ax.set_ylabel('Longitude')\n"
   ]
  },
  {
   "cell_type": "code",
   "execution_count": null,
   "metadata": {},
   "outputs": [],
   "source": [
    "#zoom gps\n",
    "# fig_gps = plt.figure()\n",
    "# ax= fig_gps.add_subplot(111)\n",
    "# cmap = plt.cm.get_cmap(\"magma\", 10)\n",
    "# #ax.scatter(wind_df_bag02.position_u,wind_df_bag02.position_v)\n",
    "# ax.scatter(dfbag02_tmp._ublox_gps_fix_latitude, dfbag02_tmp._ublox_gps_fix_longitude, c=dfbag02_tmp._analog_output_data, s=10, cmap='magma')\n",
    "# #ax.plot(dfbag02_tmp._ublox_gps_fix_latitude, dfbag02_tmp._ublox_gps_fix_longitude)\n",
    "# ax.set_xlabel('Latitude')\n",
    "# ax.set_ylabel('Longitude')\n",
    "\n",
    "# #TODO: get the correct limits\n",
    "# ax.set_xlim(40.79300074,40.79300076)"
   ]
  },
  {
   "cell_type": "code",
   "execution_count": null,
   "metadata": {},
   "outputs": [],
   "source": [
    "wind_df_bag02.keys()"
   ]
  },
  {
   "cell_type": "code",
   "execution_count": null,
   "metadata": {
    "scrolled": false
   },
   "outputs": [],
   "source": [
    "plt.scatter(wind_df_bag02.position_u,wind_df_bag02.position_v, label='Position')\n",
    "plt.quiver(wind_df_bag02.position_u[::300], wind_df_bag02.position_v[::300],\n",
    "    wind_df_bag02.U[::300], wind_df_bag02.V[::300], color='red',\n",
    "    width=0.01, label='Direction')\n",
    "plt.legend()"
   ]
  },
  {
   "cell_type": "code",
   "execution_count": null,
   "metadata": {
    "scrolled": true
   },
   "outputs": [],
   "source": [
    "fig_odor_gps = plt.figure()\n",
    "ax= fig_odor_gps.add_subplot(111)\n",
    "cmap = plt.cm.get_cmap(\"magma\", 10)\n",
    "#ax.scatter(wind_df_bag02.position_u,wind_df_bag02.position_v)\n",
    "ax.scatter(dfbag02_tmp._ublox_gps_fix_latitude, dfbag02_tmp._ublox_gps_fix_longitude, c=dfbag02_tmp._analog_output_data, s=10, cmap='magma')\n",
    "ax.scatter(dfbag02_tmp._ublox_gps_fix_latitude, dfbag02_tmp._ublox_gps_fix_longitude, c=dfbag02_tmp._analog_output_data, s=10, cmap='magma')\n",
    "#ax.plot(dfbag02_tmp._ublox_gps_fix_latitude, dfbag02_tmp._ublox_gps_fix_longitude)\n",
    "#ax.plot(wind_df_bag02.position_u,wind_df_bag02.position_v)\n",
    "ax.set_xlabel('Latitude')\n",
    "ax.set_ylabel('Longitude')\n"
   ]
  },
  {
   "cell_type": "code",
   "execution_count": null,
   "metadata": {},
   "outputs": [],
   "source": [
    "#### Need to scale these two trajectories"
   ]
  },
  {
   "cell_type": "code",
   "execution_count": null,
   "metadata": {},
   "outputs": [],
   "source": [
    "# plt.plot(wind_df.position_u, wind_df.position_v)\n",
    "# plt.xlim(-3125, -2900)\n",
    "# plt.ylim(200,600)"
   ]
  },
  {
   "cell_type": "code",
   "execution_count": null,
   "metadata": {},
   "outputs": [],
   "source": [
    "#TEST\n",
    "# A = [1,2,3,4,5,6,7]\n",
    "# T = [1,2,3,4,5,6,7]\n",
    "# B = []\n",
    "# C = []\n",
    "# D= []\n",
    "# C = integrate.cumtrapz(A,T)\n",
    "# for i in range(len(A)-1):\n",
    "#     B.append(np.trapz([A[i],A[i+1]],[T[i], T[i+1]]))\n",
    "# print(B)\n",
    "# print(C)\n",
    "\n",
    "#TEST2\n",
    "# arr1 =[]\n",
    "# arr2 =[]\n",
    "# for i in range(len(y)):\n",
    "#     if i==0:\n",
    "#         arr1.append(0)\n",
    "#     else:\n",
    "#         arr1.append(y[i]+arr1[i-1])\n",
    "\n",
    "# for i in range(len(z)):\n",
    "#     if i==0:\n",
    "#         arr2.append(0)\n",
    "#     else:\n",
    "#         arr2.append(z[i]+arr2[i-1])\n",
    "\n",
    "# #arr1 = U zonal velocity ; eastwest\n",
    "# #arr2 = V meridian velocity; Northsouth\n",
    "# particle = list(zip(u,v))\n",
    "# particle\n",
    "# plt.plot(particle)\n",
    "\n",
    "#TEST3\n",
    "#without for loop integration using cumsum ; dt selected from averaging the difference of the time stamps\n",
    "# a=np.cumsum(wind_df[1:].U*dt)\n",
    "# b=np.cumsum(wind_df[1:].V*dt)\n",
    "\n",
    "# fig, (ax_eastwest, ax_northsouth) = plt.subplots(1,2,figsize=(15,5))\n",
    "\n",
    "# ax_eastwest.plot(a)\n",
    "# ax_northsouth.plot(b)"
   ]
  },
  {
   "cell_type": "markdown",
   "metadata": {},
   "source": [
    "### Intergration for every time stamp (not cumulative addition)"
   ]
  },
  {
   "cell_type": "code",
   "execution_count": null,
   "metadata": {},
   "outputs": [],
   "source": [
    "# #integration of U vector\n",
    "# u=[]\n",
    "# for i in range(len(wind_df.U)-1):\n",
    "#     u.append(np.trapz([wind_df.U[i],wind_df.U[i+1]],[wind_df.time_epoch[i], wind_df.time_epoch[i+1]]))\n",
    "# #integration of V vector\n",
    "# v=[]\n",
    "# for i in range(len(wind_df.V)-1):\n",
    "#     v.append(np.trapz([wind_df.V[i],wind_df.V[i+1]],[wind_df.time_epoch[i], wind_df.time_epoch[i+1]]))\n",
    "    \n",
    "# fig,(ax_u,ax_v)=plt.subplots(1,2,figsize=(15,5))\n",
    "# ax_u.plot(wind_df.sync_time[:220329], u)\n",
    "# ax_v.plot(wind_df.sync_time[:220329], v)"
   ]
  },
  {
   "cell_type": "code",
   "execution_count": null,
   "metadata": {},
   "outputs": [],
   "source": []
  }
 ],
 "metadata": {
  "kernelspec": {
   "display_name": "Python 3",
   "language": "python",
   "name": "python3"
  },
  "language_info": {
   "codemirror_mode": {
    "name": "ipython",
    "version": 3
   },
   "file_extension": ".py",
   "mimetype": "text/x-python",
   "name": "python",
   "nbconvert_exporter": "python",
   "pygments_lexer": "ipython3",
   "version": "3.8.5"
  }
 },
 "nbformat": 4,
 "nbformat_minor": 4
}
