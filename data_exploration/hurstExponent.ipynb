{
 "cells": [
  {
   "cell_type": "code",
   "execution_count": 32,
   "id": "e4c3a9e1",
   "metadata": {},
   "outputs": [],
   "source": [
    "# user defined functions\n",
    "import odor_statistics_lib as osm\n",
    "import classificationHelpers as chl\n",
    "\n",
    "# dataframes\n",
    "import pandas as pd\n",
    "import h5py\n",
    "\n",
    "#suppress warnings\n",
    "import warnings\n",
    "warnings.simplefilter(action='ignore', category=FutureWarning)\n",
    "pd.TimeSeries = pd.Series \n",
    "\n",
    "#math\n",
    "import numpy as np\n",
    "from hurst import compute_Hc, random_walk\n",
    "from multiprocessing import Pool\n",
    "\n",
    "#plots\n",
    "import string\n",
    "import figurefirst\n",
    "from figurefirst import FigureLayout,mpl_functions\n",
    "import matplotlib.ticker as mtick\n",
    "import pylab as plt\n",
    "import matplotlib.pyplot as plt\n",
    "from matplotlib.ticker import (MultipleLocator, FormatStrFormatter, AutoMinorLocator)\n",
    "from mpl_toolkits.axes_grid1 import make_axes_locatable # for colorbar\n",
    "import seaborn as sns\n",
    "sns.set_style(\"whitegrid\")\n",
    "pd.options.mode.chained_assignment = None\n",
    "\n",
    "\n",
    "# %load_ext autoreload\n",
    "# %autoreload 2"
   ]
  },
  {
   "cell_type": "code",
   "execution_count": 33,
   "id": "7dcdead7",
   "metadata": {},
   "outputs": [],
   "source": [
    "dir = '~/DataAnalysis/data/Sprints/HighRes/'\n",
    "\n",
    "hws=pd.read_hdf(dir+'Windy/WindyMASigned.h5')\n",
    "lws=(pd.read_hdf(dir+'NotWindy/NotWindyMASigned.h5'))\n",
    "forest=(pd.read_hdf(dir+'Forest/ForestMASigned.h5'))"
   ]
  },
  {
   "cell_type": "markdown",
   "id": "8fa3ad50",
   "metadata": {},
   "source": [
    "### Using Hurst Library"
   ]
  },
  {
   "cell_type": "code",
   "execution_count": 34,
   "id": "24324349",
   "metadata": {},
   "outputs": [
    {
     "name": "stdout",
     "output_type": "stream",
     "text": [
      "HWS : H=-0.9506, c=2884456630.3402\n",
      "LWS: H=-0.7538, c=553202815.1878\n",
      "Forest: H=-0.5911, c=66780174.3663\n"
     ]
    }
   ],
   "source": [
    "H1,c1,data1=compute_Hc(hws.S2, kind='change',simplified=True)\n",
    "H2,c2,data2=compute_Hc(lws.S2, kind='change',simplified=True)\n",
    "H3,c3,data3=compute_Hc(forest.S2, kind='change',simplified=True)\n",
    "\n",
    "# f, ax = plt.subplots()\n",
    "# ax.plot(data[0], c*data[0]**H, color=\"deepskyblue\")\n",
    "# ax.scatter(data[0], data[1], color=\"purple\")\n",
    "# ax.set_xscale('log')\n",
    "# ax.set_yscale('log')\n",
    "# ax.set_xlabel('Time interval')\n",
    "# ax.set_ylabel('R/S ratio')\n",
    "# ax.grid(True)\n",
    "# plt.show()\n",
    "\n",
    "\n",
    "print(\"HWS : H={:.4f}, c={:.4f}\".format(H1,c1))\n",
    "print(\"LWS: H={:.4f}, c={:.4f}\".format(H2,c2))\n",
    "print(\"Forest: H={:.4f}, c={:.4f}\".format(H3,c3))"
   ]
  },
  {
   "cell_type": "markdown",
   "id": "58eabe58",
   "metadata": {},
   "source": [
    "## Manual Calculation"
   ]
  },
  {
   "cell_type": "code",
   "execution_count": 29,
   "id": "58e21ee2",
   "metadata": {},
   "outputs": [
    {
     "name": "stdout",
     "output_type": "stream",
     "text": [
      "Hurst Exponent: 0.978169907936825\n"
     ]
    }
   ],
   "source": [
    "def calculate_RS(series, n):\n",
    "    \"\"\"Calculate the rescaled range (R/S) for a given series and time span (n)\"\"\"\n",
    "    # Split the series into subsets of size n\n",
    "    subsets = np.array_split(series, len(series) // n)\n",
    "    \n",
    "    RS_values = []\n",
    "    \n",
    "    for subset in subsets:\n",
    "        # Calculate the mean of the subset\n",
    "        mean = np.mean(subset)\n",
    "        \n",
    "        # Create a new series of deviations from the mean\n",
    "        deviations = subset - mean\n",
    "        \n",
    "        # Calculate the cumulative sum of the deviations\n",
    "        cumulative_deviation = np.cumsum(deviations)\n",
    "        \n",
    "        # Calculate the range (max - min) of the cumulative deviation\n",
    "        R = np.max(cumulative_deviation) - np.min(cumulative_deviation)\n",
    "        \n",
    "        # Calculate the standard deviation of the deviations\n",
    "        S = np.std(deviations)\n",
    "        \n",
    "        # Calculate the rescaled range (R/S) and add it to the list\n",
    "        # If S is zero, skip this subset\n",
    "        if S > 0:\n",
    "            RS = R / S\n",
    "            RS_values.append(RS)\n",
    "    \n",
    "    # Return the average R/S value for this value of n\n",
    "    return np.mean(RS_values)\n",
    "\n",
    "def worker(n,series):\n",
    "    return calculate_RS(series, n)\n",
    "\n",
    "def calculate_Hurst_exponent(series):\n",
    "    # Specific lags for 1 second, 2 seconds, and 3 seconds\n",
    "    n_values = [10,20, 30, 40, 80, 120]  # Given 40Hz sampling rate\n",
    "    \n",
    "    # Parallelize the R/S calculation\n",
    "    with Pool() as pool:\n",
    "        args = [(n, series) for n in n_values]\n",
    "        RS_values = pool.starmap(worker, args)\n",
    "    \n",
    "    poly = np.polyfit(np.log10(n_values), np.log10(RS_values), 1)\n",
    "    return poly[0]\n",
    "\n",
    "\n",
    "\n",
    "hurst_exponent = calculate_Hurst_exponent(forest.S2[:100000])\n",
    "print('Hurst Exponent:', hurst_exponent)\n"
   ]
  },
  {
   "cell_type": "code",
   "execution_count": 17,
   "id": "6543f52e",
   "metadata": {},
   "outputs": [],
   "source": [
    "Speeds = [hws.S2, lws.S2, forest.S2]\n",
    "Hspeed=[]\n",
    "for i in range(len(Speeds)):\n",
    "    Hspeed.append(calculate_Hurst_exponent(Speeds[i]))"
   ]
  },
  {
   "cell_type": "code",
   "execution_count": 18,
   "id": "a0d5289a",
   "metadata": {},
   "outputs": [],
   "source": [
    "Direction = [hws.D, lws.D, forest.D]\n",
    "Hdir=[]\n",
    "for i in range(len(Direction)):\n",
    "    Hdir.append(calculate_Hurst_exponent(Direction[i]))"
   ]
  },
  {
   "cell_type": "code",
   "execution_count": 20,
   "id": "59ecb387",
   "metadata": {},
   "outputs": [
    {
     "name": "stdout",
     "output_type": "stream",
     "text": [
      "[0.969999354996587, 0.9696726794028301, 0.9705743032272847]\n"
     ]
    }
   ],
   "source": [
    "print(Hspeed)"
   ]
  },
  {
   "cell_type": "code",
   "execution_count": 21,
   "id": "93b3a64a",
   "metadata": {},
   "outputs": [
    {
     "name": "stdout",
     "output_type": "stream",
     "text": [
      "[0.9641644040904762, 0.968484596931744, 0.9684754678177168]\n"
     ]
    }
   ],
   "source": [
    "print(Hdir)"
   ]
  },
  {
   "cell_type": "code",
   "execution_count": null,
   "id": "5cc79f89",
   "metadata": {},
   "outputs": [],
   "source": []
  }
 ],
 "metadata": {
  "kernelspec": {
   "display_name": "Python 3 (ipykernel)",
   "language": "python",
   "name": "python3"
  },
  "language_info": {
   "codemirror_mode": {
    "name": "ipython",
    "version": 3
   },
   "file_extension": ".py",
   "mimetype": "text/x-python",
   "name": "python",
   "nbconvert_exporter": "python",
   "pygments_lexer": "ipython3",
   "version": "3.8.10"
  }
 },
 "nbformat": 4,
 "nbformat_minor": 5
}
