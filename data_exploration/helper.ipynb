{
 "cells": [
  {
   "cell_type": "code",
   "execution_count": 1,
   "metadata": {},
   "outputs": [],
   "source": [
    "#helper libraries\n",
    "import numpy as np\n",
    "import pandas\n",
    "import matplotlib.pyplot as plt\n",
    "import scipy.fftpack\n",
    "from scipy import signal\n",
    "import scipy.interpolate\n",
    "import h5py\n",
    "from IPython.display import HTML\n",
    "from geopy import distance"
   ]
  },
  {
   "cell_type": "code",
   "execution_count": 2,
   "metadata": {},
   "outputs": [],
   "source": [
    "def plot_color(ax):\n",
    "    ax.xaxis.label.set_color('white')\n",
    "    ax.yaxis.label.set_color('white')\n",
    "    ax.tick_params(axis='both', colors='white')"
   ]
  },
  {
   "cell_type": "code",
   "execution_count": 3,
   "metadata": {},
   "outputs": [],
   "source": [
    "def import_csv(bagname):\n",
    "    bag_df = pandas.read_csv(bagname)\n",
    "    bag_df.rename(columns={'Unnamed: 0':'time'}, inplace=True) #specific to 28_07 experiments time column\n",
    "    bag_df.columns=bag_df.columns.str.replace(r\"/\", \"_\") #specific to 28_07 experiments time column\n",
    "    start_time=bag_df.loc[bag_df.index[0], 'time']\n",
    "    bag_df.time=(bag_df.time-start_time)\n",
    "    bag_df=bag_df.interpolate()\n",
    "    return bag_df"
   ]
  },
  {
   "cell_type": "code",
   "execution_count": 4,
   "metadata": {},
   "outputs": [],
   "source": [
    "def uncooperative_hdf5(filename, key='first_key'):\n",
    "    f = h5py.File(filename,'r')\n",
    "    all_keys = list(f.keys())\n",
    "    \n",
    "    if key == 'first_key':\n",
    "        print('Dataset contains these keys: ')\n",
    "        print(all_keys)\n",
    "        key = all_keys[0]\n",
    "        print('Using only the first key: ', key)\n",
    "        \n",
    "    data = f[key][()]\n",
    "    dic = {}\n",
    "    for column_label in data.dtype.fields.keys():\n",
    "        dic.setdefault(column_label, data[column_label])\n",
    "    df = pandas.DataFrame(dic)\n",
    "    return df"
   ]
  },
  {
   "cell_type": "code",
   "execution_count": 5,
   "metadata": {},
   "outputs": [],
   "source": [
    "def sync_time_origin(df):\n",
    "    start_time=df.loc[df.index[0], 'time']\n",
    "    df.time=(df.time-start_time)\n",
    "    return df"
   ]
  },
  {
   "cell_type": "markdown",
   "metadata": {},
   "source": [
    "#### GPS distance calculations"
   ]
  },
  {
   "cell_type": "code",
   "execution_count": 6,
   "metadata": {},
   "outputs": [],
   "source": [
    "def haversine_distance(lat1, lon1, lat2, lon2):\n",
    "   r = 6371\n",
    "   phi1 = np.radians(lat1)\n",
    "   phi2 = np.radians(lat2)\n",
    "   delta_phi = np.radians(lat2 - lat1)\n",
    "   delta_lambda = np.radians(lon2 - lon1)\n",
    "   a = np.sin(delta_phi / 2)**2 + np.cos(phi1) * np.cos(phi2) *   np.sin(delta_lambda / 2)**2\n",
    "   res = r * (2 * np.arctan2(np.sqrt(a), np.sqrt(1- a)))\n",
    "   return res*1000"
   ]
  },
  {
   "cell_type": "code",
   "execution_count": 7,
   "metadata": {},
   "outputs": [],
   "source": [
    "def normal_distance(origin, destination):\n",
    "    lat1, lon1 = origin\n",
    "    lat2, lon2 = destination\n",
    "    radius = 6371 * 1000 # meters\n",
    "\n",
    "    dlat = math.radians(lat2-lat1)\n",
    "    dlon = math.radians(lon2-lon1)\n",
    "    a = math.sin(dlat/2) **2 + math.cos(math.radians(lat1)) \\\n",
    "        * math.cos(math.radians(lat2)) * math.sin(dlon/2) **2\n",
    "    c = 2 * math.atan2(math.sqrt(a), math.sqrt(1-a))\n",
    "    d = radius * c\n",
    "\n",
    "    return d\n"
   ]
  },
  {
   "cell_type": "code",
   "execution_count": 8,
   "metadata": {},
   "outputs": [],
   "source": [
    "def geodesic_distance(origin,destination):\n",
    "    return (distance.geodesic(origin, destination).meters)"
   ]
  }
 ],
 "metadata": {
  "kernelspec": {
   "display_name": "Python 3.6.12 64-bit ('FlyDataAnalysis': conda)",
   "language": "python",
   "name": "python361264bitflydataanalysisconda854c868017704c46a8686cc03eef56ed"
  },
  "language_info": {
   "codemirror_mode": {
    "name": "ipython",
    "version": 3
   },
   "file_extension": ".py",
   "mimetype": "text/x-python",
   "name": "python",
   "nbconvert_exporter": "python",
   "pygments_lexer": "ipython3",
   "version": "3.6.12"
  }
 },
 "nbformat": 4,
 "nbformat_minor": 4
}
