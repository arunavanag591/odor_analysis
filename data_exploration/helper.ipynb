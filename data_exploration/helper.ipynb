{
 "cells": [
  {
   "cell_type": "code",
   "execution_count": 1,
   "metadata": {},
   "outputs": [],
   "source": [
    "#helper libraries\n",
    "import numpy as np\n",
    "import pandas\n",
    "import matplotlib.pyplot as plt\n",
    "import scipy.fftpack\n",
    "from scipy import signal\n",
    "import scipy.interpolate\n",
    "import h5py\n",
    "from IPython.display import HTML"
   ]
  },
  {
   "cell_type": "code",
   "execution_count": 2,
   "metadata": {},
   "outputs": [],
   "source": [
    "def plot_color(ax):\n",
    "    ax.xaxis.label.set_color('white')\n",
    "    ax.yaxis.label.set_color('white')\n",
    "    ax.tick_params(axis='both', colors='white')"
   ]
  },
  {
   "cell_type": "code",
   "execution_count": 1,
   "metadata": {},
   "outputs": [],
   "source": [
    "def import_bag(bagname):\n",
    "    bag_df = pandas.read_csv(bagname)\n",
    "    bag_df.rename(columns={'Unnamed: 0':'time'}, inplace=True) #specific to 28_07 experiments time column\n",
    "    bag_df.columns=bag_df.columns.str.replace(r\"/\", \"_\") #specific to 28_07 experiments time column\n",
    "    return bag_df"
   ]
  },
  {
   "cell_type": "code",
   "execution_count": 4,
   "metadata": {},
   "outputs": [],
   "source": [
    "def uncooperative_hdf5(filename, key='first_key'):\n",
    "    f = h5py.File(filename,'r')\n",
    "    all_keys = list(f.keys())\n",
    "    \n",
    "    if key == 'first_key':\n",
    "        print('Dataset contains these keys: ')\n",
    "        print(all_keys)\n",
    "        key = all_keys[0]\n",
    "        print('Using only the first key: ', key)\n",
    "        \n",
    "    data = f[key][()]\n",
    "    dic = {}\n",
    "    for column_label in data.dtype.fields.keys():\n",
    "        dic.setdefault(column_label, data[column_label])\n",
    "    df = pandas.DataFrame(dic)\n",
    "    return df"
   ]
  },
  {
   "cell_type": "code",
   "execution_count": null,
   "metadata": {},
   "outputs": [],
   "source": []
  }
 ],
 "metadata": {
  "kernelspec": {
   "display_name": "Python 3.6.12 64-bit ('FlyDataAnalysis': conda)",
   "language": "python",
   "name": "python361264bitflydataanalysisconda854c868017704c46a8686cc03eef56ed"
  },
  "language_info": {
   "codemirror_mode": {
    "name": "ipython",
    "version": 3
   },
   "file_extension": ".py",
   "mimetype": "text/x-python",
   "name": "python",
   "nbconvert_exporter": "python",
   "pygments_lexer": "ipython3",
   "version": "3.6.12"
  }
 },
 "nbformat": 4,
 "nbformat_minor": 4
}
