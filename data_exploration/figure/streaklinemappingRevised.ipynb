{
 "cells": [
  {
   "cell_type": "code",
   "execution_count": 1,
   "id": "8b4ab328",
   "metadata": {},
   "outputs": [],
   "source": [
    "#dataframes\n",
    "import pandas as pd\n",
    "import h5py\n",
    "\n",
    "#speedup\n",
    "import multiprocessing as mp\n",
    "\n",
    "#suppress warnings\n",
    "import warnings\n",
    "warnings.simplefilter(action='ignore', category=FutureWarning)\n",
    "pd.TimeSeries = pd.Series \n",
    "\n",
    "#math\n",
    "import numpy as np\n",
    "import math as m\n",
    "from scipy.spatial.distance import cdist\n",
    "from scipy import signal\n",
    "\n",
    "#plots\n",
    "import pylab as plt\n",
    "import matplotlib.pyplot as plt\n",
    "from matplotlib.ticker import MaxNLocator\n",
    "from matplotlib import colors\n",
    "import matplotlib\n",
    "from figurefirst import FigureLayout,mpl_functions\n",
    "import figurefirst\n",
    "import matplotlib.image as mpimg\n",
    "from mpl_toolkits.axes_grid1 import make_axes_locatable # for colorbar\n",
    "import seaborn as sns\n",
    "sns.set()\n",
    "sns.set_style(\"whitegrid\")\n",
    "import figurefirst as fifi\n",
    "from IPython.display import display,SVG\n",
    "\n",
    "#misc\n",
    "import cairosvg\n",
    "import time\n",
    "np.set_printoptions(suppress=True)\n",
    "import fly_plot_lib.plot as fpl\n",
    "FS=7"
   ]
  },
  {
   "cell_type": "code",
   "execution_count": 2,
   "id": "e767d599",
   "metadata": {},
   "outputs": [
    {
     "data": {
      "image/png": "[encoded data removed]",
      "text/plain": [
       "<Figure size 595.276x841.89 with 7 Axes>"
      ]
     },
     "metadata": {},
     "output_type": "display_data"
    },
    {
     "data": {
      "image/png": "[encoded data removed]",
      "text/plain": [
       "<Figure size 595.276x841.89 with 3 Axes>"
      ]
     },
     "metadata": {},
     "output_type": "display_data"
    },
    {
     "data": {
      "image/png": "[encoded data removed]",
      "text/plain": [
       "<Figure size 595.276x841.89 with 1 Axes>"
      ]
     },
     "metadata": {},
     "output_type": "display_data"
    },
    {
     "data": {
      "image/png": "[encoded data removed]",
      "text/plain": [
       "<Figure size 595.276x841.89 with 1 Axes>"
      ]
     },
     "metadata": {},
     "output_type": "display_data"
    }
   ],
   "source": [
    "layout = fifi.svg_to_axes.FigureLayout('../../../Figure/fig3_revised.svg',\n",
    "                                           autogenlayers=True, make_mplfigures=True, hide_layers=[])"
   ]
  },
  {
   "cell_type": "markdown",
   "id": "91906431",
   "metadata": {},
   "source": [
    "### Panel A"
   ]
  },
  {
   "cell_type": "code",
   "execution_count": 3,
   "id": "6ceefe7f",
   "metadata": {},
   "outputs": [],
   "source": [
    "dir = '~/DataAnalysis/data/Sprints/LowRes/'\n",
    "df = pd.read_hdf(dir+'NotWindy.h5')\n",
    "dt= df.master_time[1]-df.master_time[0]\n",
    "df = df[df['time'].between(100,300)]\n",
    "df.reset_index(inplace=True, drop=True) \n",
    "\n",
    "def streakline_container(eastwest,northsouth):\n",
    "\n",
    "    for i in range((len(eastwest))-1,-1, -1): \n",
    "        eastwest = np.resize(np.array([eastwest-df.corrected_u[i]*dt]),(1,i)).flatten() \n",
    "        northsouth = np.resize(np.array([northsouth-df.corrected_v[i]*dt]),(1,i)).flatten()\n",
    "        x.loc[i]=np.pad(eastwest, ((len(df)-len(eastwest)),0),'constant', constant_values=(0))\n",
    "        y.loc[i]=np.pad(northsouth, ((len(df)-len(northsouth)),0),'constant', constant_values=(0))\n",
    "\n",
    "def streakline_calculation(df):\n",
    "    et = [np.sum(df.corrected_u[j:])*dt for j in range(0,len(df))]\n",
    "    nt = [np.sum(df.corrected_v[j:])*dt for j in range(0,len(df))]\n",
    "    return et, nt\n",
    "\n",
    "def prepare_df(df):\n",
    "    df.pop(df.columns[0])\n",
    "    strings=[]\n",
    "    for i in range(len(df)-1,0,-1):\n",
    "        strings.append(\"p\"+str(i))\n",
    "    df.columns=strings\n",
    "    df.reset_index(inplace=True, drop=True) \n",
    "    return df\n",
    "\n",
    "    \n",
    "et, nt = streakline_calculation(df)\n",
    "\n",
    "strings=[]\n",
    "for i in range(len(df)):\n",
    "    strings.append(\"p\"+str(i))\n",
    "\n",
    "x=pd.DataFrame(columns=strings,index=range(len(df)))\n",
    "y=pd.DataFrame(columns=strings,index=range(len(df)))\n",
    "streakline_container(et,nt)\n",
    "x=prepare_df(x)\n",
    "y=prepare_df(y)"
   ]
  },
  {
   "cell_type": "code",
   "execution_count": 4,
   "id": "e6e74413",
   "metadata": {},
   "outputs": [],
   "source": [
    "ax=layout.axes[('fig1','sta')]\n",
    "i=779\n",
    "area = (np.arange(start = i, stop = 0 , step = -1)) #area\n",
    "ax.scatter(x.loc[i][x.loc[i]!=0],y.loc[i][y.loc[i]!=0], c='#febf6e', s=np.power(area,0.7), \n",
    "           edgecolors='none', rasterized=True)\n",
    "\n",
    "ax.plot(df.xsrc[i],df.ysrc[i],marker='*', markersize=5, c='green', rasterized=True)\n",
    "\n",
    "var = ax.scatter(df.xsrc[:i],df.ysrc[:i], c = df.odor[:i],\n",
    "                     cmap = 'inferno_r', vmin =0 , vmax = 10, s = 0.09,rasterized=True )       \n",
    "# c_bar(ax, var)\n",
    "ax.grid(False)\n",
    "ax.axes.axis('off')\n",
    "ax.autoscale(enable=True)\n",
    "ax.set_xlim(-5,15)\n",
    "ax.set_ylim(-5,25)\n",
    "\n",
    "# ax.text(-2, 20,\"t= \" + str('{:.4g}'.format(df.time[i]))+ \" s\")\n",
    "ax.set_rasterization_zorder(-20)\n",
    "figurefirst.mpl_functions.set_fontsize(ax,FS)\n",
    "layout.append_figure_to_layer(layout.figures['fig1'], 'fig1', cleartarget=True)\n",
    "layout.write_svg('../../../Figure/fig3_revised.svg')\n"
   ]
  },
  {
   "cell_type": "code",
   "execution_count": 5,
   "id": "65e0960b",
   "metadata": {},
   "outputs": [],
   "source": [
    "\n",
    "ax=layout.axes[('fig1','stb')]\n",
    "i=987\n",
    "area = (np.arange(start = i, stop = 0 , step = -1)) #area\n",
    "ax.scatter(x.loc[i][x.loc[i]!=0],y.loc[i][y.loc[i]!=0], c='#febf6e', s=np.power(area,0.7), \n",
    "           edgecolors='none',rasterized=True)\n",
    "\n",
    "ax.plot(df.xsrc[i],df.ysrc[i],marker='*', markersize=5, c='green', rasterized=True)\n",
    "\n",
    "var = ax.scatter(df.xsrc[:i],df.ysrc[:i], c = df.odor[:i],\n",
    "                     cmap = 'inferno_r', vmin =0 , vmax = 10, s = 0.09,rasterized=True )       \n",
    "ax.grid(False)\n",
    "ax.axes.axis('off')\n",
    "ax.autoscale(enable=True)\n",
    "ax.set_xlim(-5,15)\n",
    "ax.set_ylim(-5,25)\n",
    "\n",
    "# ax.text(-2, 20,\"t= \" + str('{:.4g}'.format(df.time[i]))+ \" s\")\n",
    "ax.set_rasterization_zorder(-20)\n",
    "figurefirst.mpl_functions.set_fontsize(ax,FS)\n",
    "layout.append_figure_to_layer(layout.figures['fig1'], 'fig1', cleartarget=True)\n",
    "layout.write_svg('../../../Figure/fig3_revised.svg')"
   ]
  },
  {
   "cell_type": "code",
   "execution_count": 6,
   "id": "70054493",
   "metadata": {},
   "outputs": [],
   "source": [
    "ax=layout.axes[('fig1','stc')]\n",
    "i=1089\n",
    "area = (np.arange(start = i, stop = 0 , step = -1)) #area\n",
    "ax.scatter(x.loc[i][x.loc[i]!=0],y.loc[i][y.loc[i]!=0], c='#febf6e', s=np.power(area,0.7), \n",
    "           edgecolors='none', rasterized=True)\n",
    "\n",
    "ax.plot(df.xsrc[i],df.ysrc[i],marker='*', markersize=5, c='green', rasterized=True)\n",
    "\n",
    "var = ax.scatter(df.xsrc[:i],df.ysrc[:i], c = df.odor[:i],\n",
    "                     cmap = 'inferno_r', vmin =0 , vmax = 10, s = 0.09,rasterized=True )       \n",
    "ax.grid(False)\n",
    "ax.axes.axis('off')\n",
    "ax.autoscale(enable=True)\n",
    "ax.set_xlim(-5,15)\n",
    "ax.set_ylim(-5,25)\n",
    "\n",
    "# ax.text(-4, 20,\"t= \" + str('{:.4g}'.format(df.time[i]))+ \" s\")\n",
    "ax.set_rasterization_zorder(-20)\n",
    "figurefirst.mpl_functions.set_fontsize(ax,FS)\n",
    "layout.append_figure_to_layer(layout.figures['fig1'], 'fig1', cleartarget=True)\n",
    "layout.write_svg('../../../Figure/fig3_revised.svg')"
   ]
  },
  {
   "cell_type": "code",
   "execution_count": 7,
   "id": "c6acb14b",
   "metadata": {},
   "outputs": [],
   "source": [
    "ax=layout.axes[('fig1','std')]\n",
    "i=1143\n",
    "area = (np.arange(start = i, stop = 0 , step = -1)) #area\n",
    "ax.scatter(x.loc[i][x.loc[i]!=0],y.loc[i][y.loc[i]!=0], c='#febf6e', s=np.power(area,0.7), \n",
    "           edgecolors='none',rasterized=True)\n",
    "\n",
    "ax.plot(df.xsrc[i],df.ysrc[i],marker='*', markersize=5, c='green', rasterized=True)\n",
    "\n",
    "var = ax.scatter(df.xsrc[:i],df.ysrc[:i], c = df.odor[:i],\n",
    "                     cmap = 'inferno_r', vmin =0 , vmax = 10, s = 0.09,rasterized=True )       \n",
    "ax.grid(False)\n",
    "ax.axes.axis('off')\n",
    "ax.autoscale(enable=True)\n",
    "ax.set_xlim(-10,15)\n",
    "ax.set_ylim(-5,25)\n",
    "\n",
    "# ax.text(-4, 20,\"t= \" + str('{:.4g}'.format(df.time[i]))+ \" s\")\n",
    "ax.set_rasterization_zorder(-20)\n",
    "figurefirst.mpl_functions.set_fontsize(ax,FS)\n",
    "layout.append_figure_to_layer(layout.figures['fig1'], 'fig1', cleartarget=True)\n",
    "layout.write_svg('../../../Figure/fig3_revised.svg')"
   ]
  },
  {
   "cell_type": "code",
   "execution_count": 8,
   "id": "917079c4",
   "metadata": {},
   "outputs": [],
   "source": [
    "ax=layout.axes[('fig1','ste')]\n",
    "i=1179\n",
    "area = (np.arange(start = i, stop = 0 , step = -1)) #area\n",
    "ax.scatter(x.loc[i][x.loc[i]!=0],y.loc[i][y.loc[i]!=0], c='#febf6e', s=np.power(area,0.7), \n",
    "           edgecolors='none',rasterized=True)\n",
    "\n",
    "ax.plot(df.xsrc[i],df.ysrc[i],marker='*', markersize=5, c='green', rasterized=True)\n",
    "\n",
    "var = ax.scatter(df.xsrc[:i],df.ysrc[:i], c = df.odor[:i],\n",
    "                     cmap = 'inferno_r', vmin =0 , vmax = 10, s = 0.09,rasterized=True )       \n",
    "ax.grid(False)\n",
    "\n",
    "ax.autoscale(enable=True)\n",
    "ax.set_xlim(-10,15)\n",
    "ax.set_ylim(-5,25)\n",
    "\n",
    "mpl_functions.adjust_spines(ax,['left','bottom'],\n",
    "                            spine_locations={'left': 5, 'bottom': 5}, \n",
    "                            smart_bounds=True,\n",
    "                            xticks=[-10,15],\n",
    "                            yticks=[-5,25],\n",
    "                            linewidth=0.5)\n",
    "\n",
    "# ax.text(-4, 20,\"t= \" + str('{:.4g}'.format(df.time[i]))+ \" s\")\n",
    "ax.set_rasterization_zorder(-20)\n",
    "figurefirst.mpl_functions.set_fontsize(ax,FS)\n",
    "layout.append_figure_to_layer(layout.figures['fig1'], 'fig1', cleartarget=True)\n",
    "layout.write_svg('../../../Figure/fig3_revised.svg')"
   ]
  },
  {
   "cell_type": "code",
   "execution_count": 9,
   "id": "713e3291",
   "metadata": {},
   "outputs": [],
   "source": [
    "ax=layout.axes[('fig1','stf')]\n",
    "i=1210\n",
    "area = (np.arange(start = i, stop = 0 , step = -1)) #area\n",
    "ax.scatter(x.loc[i][x.loc[i]!=0],y.loc[i][y.loc[i]!=0], c='#febf6e', s=np.power(area,0.7), \n",
    "           edgecolors='none',rasterized=True)\n",
    "\n",
    "ax.plot(df.xsrc[i],df.ysrc[i],marker='*', markersize=5, c='green', rasterized=True)\n",
    "\n",
    "var = ax.scatter(df.xsrc[:i],df.ysrc[:i], c = df.odor[:i],\n",
    "                     cmap = 'inferno_r', vmin =0 , vmax = 10, s = 0.05,rasterized=True )       \n",
    "ax.grid(False)\n",
    "ax.axes.axis('off')\n",
    "ax.autoscale(enable=True)\n",
    "ax.set_xlim(-10,15)\n",
    "# ax.axline((0,0), slope=-1, linestyle='dashed', linewidth=2, color='r', alpha=0.\n",
    "ax.set_ylim(-5,25)\n",
    "\n",
    "# ax.text(-4, 20,\"t= \" + str('{:.4g}'.format(df.time[i]))+ \" s\")\n",
    "ax.set_rasterization_zorder(-20)\n",
    "figurefirst.mpl_functions.set_fontsize(ax,FS)\n",
    "layout.append_figure_to_layer(layout.figures['fig1'], 'fig1', cleartarget=True)\n",
    "layout.write_svg('../../../Figure/fig3_revised.svg')"
   ]
  },
  {
   "cell_type": "code",
   "execution_count": 10,
   "id": "c9213f90",
   "metadata": {},
   "outputs": [],
   "source": [
    "ax=layout.axes[('fig1','zoom')]\n",
    "i=1210\n",
    "area = (np.arange(start = i, stop = 0 , step = -1)) #area\n",
    "ax.scatter(x.loc[i][x.loc[i]!=0],y.loc[i][y.loc[i]!=0], c='#febf6e', s=np.power(area,0.7), \n",
    "           edgecolors='none',rasterized=True)\n",
    "\n",
    "ax.plot(df.xsrc[i],df.ysrc[i],marker='*', markersize=5, c='green', rasterized=True)\n",
    "\n",
    "var = ax.scatter(df.xsrc[:i],df.ysrc[:i], c = df.odor[:i],\n",
    "                     cmap = 'inferno_r', vmin =0 , vmax = 10, s = 0.1,rasterized=True )       \n",
    "ax.grid(False)\n",
    "ax.axes.axis('off')\n",
    "ax.autoscale(enable=True)\n",
    "ax.set_xlim(-2,7)\n",
    "\n",
    "ax.set_ylim(-1,7)\n",
    "\n",
    "# ax.text(-4, 20,\"t= \" + str('{:.4g}'.format(df.time[i]))+ \" s\")\n",
    "ax.set_rasterization_zorder(-20)\n",
    "figurefirst.mpl_functions.set_fontsize(ax,FS)\n",
    "layout.append_figure_to_layer(layout.figures['fig1'], 'fig1', cleartarget=True)\n",
    "layout.write_svg('../../../Figure/fig3_revised.svg')"
   ]
  },
  {
   "cell_type": "markdown",
   "id": "2933d576",
   "metadata": {},
   "source": [
    "### Color Bar 1"
   ]
  },
  {
   "cell_type": "code",
   "execution_count": 11,
   "id": "ea3af89f",
   "metadata": {},
   "outputs": [],
   "source": [
    "ax = layout.axes[('cbar1', 'cbar1')]\n",
    "\n",
    "fpl.colorbar(ax=ax, colormap='inferno_r', orientation='vertical', ticks=[0,10],vmi=0,vma=10)\n",
    "mpl_functions.adjust_spines(ax, ['right'], \n",
    "                                    smart_bounds=True,\n",
    "                                    spine_locations={'right': 1}, \n",
    "                                    yticks=[0, 10],\n",
    "                                    tick_length=2.5,\n",
    "                                    linewidth=0.5)\n",
    "\n",
    "ax.set_ylabel(\"Odor, v\",rotation=-90, labelpad=-9)\n",
    "\n",
    "ax.set_yticklabels(['0', '10'])\n",
    "ax.set_rasterization_zorder(-20)\n",
    "figurefirst.mpl_functions.set_fontsize(ax, FS)\n",
    "\n",
    "layout.append_figure_to_layer(layout.figures['cbar1'], 'cbar1', cleartarget=True)\n",
    "layout.write_svg('../../../Figure/fig3_revised.svg')"
   ]
  },
  {
   "cell_type": "markdown",
   "id": "44f3b3a2",
   "metadata": {},
   "source": [
    "### Panel C - Encounter Map Plots\n"
   ]
  },
  {
   "cell_type": "code",
   "execution_count": 18,
   "id": "2e424ac1",
   "metadata": {},
   "outputs": [],
   "source": [
    "df1 = pd.read_hdf('~/DataAnalysis/data/Sprints/HighRes/Windy/WindyMASigned.h5')\n",
    "df2 = pd.read_hdf('~/DataAnalysis/data/Sprints/HighRes/NotWindy/NotWindyMASigned.h5')\n",
    "df3 = pd.read_hdf('~/DataAnalysis/data/Sprints/HighRes/Forest/ForestMASigned.h5')\n",
    "\n",
    "q='odor>4.5'\n",
    "dfdist1=df1.query(q)\n",
    "dfdist2=df2.query(q)\n",
    "dfdist3=df3.query(q)\n",
    "\n",
    "dataframes=[dfdist1,dfdist2,dfdist3]\n",
    "data=[df1,df2,df3]"
   ]
  },
  {
   "cell_type": "code",
   "execution_count": 19,
   "id": "4be22b67",
   "metadata": {},
   "outputs": [
    {
     "name": "stderr",
     "output_type": "stream",
     "text": [
      "/tmp/ipykernel_567617/533782916.py:3: MatplotlibDeprecationWarning: Auto-removal of grids by pcolor() and pcolormesh() is deprecated since 3.5 and will be removed two minor releases later; please call grid(False) first.\n",
      "  ax.hist2d(df1.distance_from_source_a*df1.xsign,\n"
     ]
    }
   ],
   "source": [
    "ax = layout.axes[('fig3', 'mapa')]\n",
    "\n",
    "ax.hist2d(df1.distance_from_source_a*df1.xsign,\n",
    "                    df1.nearest_from_streakline*df1.ysign,\n",
    "                    cmap='Greys',bins=20, alpha=0.3,norm=colors.LogNorm())\n",
    "\n",
    "ax.scatter(dataframes[0].distance_from_source_a*dataframes[0].xsign,\n",
    "                    dataframes[0].nearest_from_streakline*dataframes[0].ysign,\n",
    "                    c=dataframes[0].odor, cmap='inferno_r',vmin=0,vmax=10,\n",
    "           edgecolors='none', s=5,alpha=0.2, rasterized=True )\n",
    "\n",
    "ax.grid(False)\n",
    "# ax.axline((0,0),slope=1, linestyle='dashed', linewidth=2, color='r', alpha=0.5)\n",
    "# ax.axline((0,0), slope=-1, linestyle='dashed', linewidth=2, color='r', alpha=0.5)\n",
    "ax.axhline(0, color = 'grey', alpha=0.5)\n",
    "ax.axvline(0, color = 'grey', alpha=0.5)\n",
    "ax.plot(0,0,marker='o',  c='#fd6549ff', markersize=7, alpha=0.8, rasterized=True)\n",
    "\n",
    "ax.set_rasterization_zorder(-20)\n",
    "\n",
    "\n",
    "mpl_functions.adjust_spines(ax,['left', 'bottom'],spine_locations={'left': 5, 'bottom': 5}, \n",
    "                            smart_bounds=True, \n",
    "                            xticks=[0,50],\n",
    "                            yticks=[-25,25], \n",
    "                            linewidth=0.5)\n",
    "\n",
    "figurefirst.mpl_functions.set_fontsize(ax,FS)\n",
    "layout.append_figure_to_layer(layout.figures['fig3'], 'fig3', cleartarget=True)\n",
    "layout.write_svg('../../../Figure/fig3_revised.svg')"
   ]
  },
  {
   "cell_type": "code",
   "execution_count": 20,
   "id": "d3b0ae3b",
   "metadata": {},
   "outputs": [
    {
     "name": "stderr",
     "output_type": "stream",
     "text": [
      "/tmp/ipykernel_567617/1582173434.py:2: MatplotlibDeprecationWarning: Auto-removal of grids by pcolor() and pcolormesh() is deprecated since 3.5 and will be removed two minor releases later; please call grid(False) first.\n",
      "  ax.hist2d(df2.distance_from_source_a*df2.xsign,\n"
     ]
    }
   ],
   "source": [
    "ax = layout.axes[('fig3', 'mapb')]\n",
    "ax.hist2d(df2.distance_from_source_a*df2.xsign,\n",
    "                    df2.nearest_from_streakline*df2.ysign,\n",
    "                    cmap='Greys',bins=20, alpha=0.3,norm=colors.LogNorm(),rasterized=True)\n",
    "ax.scatter(dataframes[1].distance_from_source_a*dataframes[1].xsign,\n",
    "                    dataframes[1].nearest_from_streakline*dataframes[1].ysign,\n",
    "                    c=dataframes[1].odor, cmap=\"inferno_r\", vmin=0,vmax=10,\n",
    "           edgecolors='none', s=5,alpha=0.2, rasterized=True)\n",
    "ax.set_ylim(-25,25)\n",
    "ax.grid(False)\n",
    "ax.axhline(0, color = 'grey', alpha=0.5)\n",
    "ax.axvline(0, color = 'grey', alpha=0.5)\n",
    "ax.plot(0,0,marker='o',  c='#fd6549ff', markersize=7, alpha=0.8, rasterized=True)\n",
    "\n",
    "ax.set_rasterization_zorder(-20)\n",
    "\n",
    "\n",
    "mpl_functions.adjust_spines(ax,['bottom'],spine_locations={'bottom': 5}, \n",
    "                            smart_bounds=True, \n",
    "                            xticks=[0,50],\n",
    "                            \n",
    "                            linewidth=0.5)\n",
    "\n",
    "figurefirst.mpl_functions.set_fontsize(ax,FS)\n",
    "layout.append_figure_to_layer(layout.figures['fig3'], 'fig3', cleartarget=True)\n",
    "layout.write_svg('../../../Figure/fig3_revised.svg')"
   ]
  },
  {
   "cell_type": "code",
   "execution_count": 21,
   "id": "855c69e8",
   "metadata": {},
   "outputs": [
    {
     "name": "stderr",
     "output_type": "stream",
     "text": [
      "/tmp/ipykernel_567617/1890689683.py:2: MatplotlibDeprecationWarning: Auto-removal of grids by pcolor() and pcolormesh() is deprecated since 3.5 and will be removed two minor releases later; please call grid(False) first.\n",
      "  ax.hist2d(df3.distance_from_source_a*df3.xsign,\n"
     ]
    }
   ],
   "source": [
    "ax = layout.axes[('fig3', 'mapc')]\n",
    "ax.hist2d(df3.distance_from_source_a*df3.xsign,\n",
    "                    df3.nearest_from_streakline*df3.ysign,\n",
    "                    cmap='Greys',bins=20, alpha=0.3,norm=colors.LogNorm(),rasterized=True)\n",
    "ax.scatter(dataframes[2].distance_from_source_a*dataframes[2].xsign,\n",
    "                    dataframes[2].nearest_from_streakline*dataframes[2].ysign,\n",
    "                    c=dataframes[2].odor, cmap=\"inferno_r\", vmin=0,vmax=10,\n",
    "           edgecolors='none', s=5,alpha=0.2, rasterized=True)\n",
    "ax.set_ylim(-25,25)\n",
    "ax.grid(False)\n",
    "ax.axhline(0, color = 'grey', alpha=0.5)\n",
    "ax.axvline(0, color = 'grey', alpha=0.5)\n",
    "ax.plot(0,0,marker='o',  c='#fd6549ff', markersize=7, alpha=0.8, rasterized=True)\n",
    "\n",
    "ax.set_rasterization_zorder(-20)\n",
    "\n",
    "\n",
    "mpl_functions.adjust_spines(ax,['bottom'],spine_locations={'bottom': 5}, \n",
    "                            smart_bounds=True, \n",
    "                            xticks=[0,50],\n",
    "                           \n",
    "                            linewidth=0.5)\n",
    "\n",
    "figurefirst.mpl_functions.set_fontsize(ax,FS)\n",
    "layout.append_figure_to_layer(layout.figures['fig3'], 'fig3', cleartarget=True)\n",
    "layout.write_svg('../../../Figure/fig3_revised.svg')"
   ]
  },
  {
   "cell_type": "markdown",
   "id": "9fafb568",
   "metadata": {},
   "source": [
    "### Colorbar 2"
   ]
  },
  {
   "cell_type": "code",
   "execution_count": 16,
   "id": "0f5822c9",
   "metadata": {},
   "outputs": [],
   "source": [
    "ax = layout.axes[('cbar2', 'cbar2')]\n",
    "ytic=[4.5,11]\n",
    "\n",
    "fpl.colorbar(ax=ax, colormap='inferno_r', orientation='vertical',ticks=ytic)\n",
    "ax.set_rasterization_zorder(-20)\n",
    "mpl_functions.adjust_spines(ax, ['right'], \n",
    "                                    smart_bounds=True,\n",
    "                                    spine_locations={'right': 1}, \n",
    "                                    yticks=ytic,\n",
    "                                    tick_length=1.5,\n",
    "                                    linewidth=0.5)\n",
    "\n",
    "ax.set_ylabel(\"Odor, v\",rotation=90, labelpad=-16)\n",
    "\n",
    "ax.set_yticklabels(['4.5', '10'])\n",
    "figurefirst.mpl_functions.set_fontsize(ax, FS)\n",
    "\n",
    "layout.append_figure_to_layer(layout.figures['cbar2'], 'cbar2', cleartarget=True)\n",
    "layout.write_svg('../../../Figure/fig3_revised.svg')"
   ]
  },
  {
   "cell_type": "code",
   "execution_count": null,
   "id": "9154ad16",
   "metadata": {},
   "outputs": [],
   "source": []
  }
 ],
 "metadata": {
  "kernelspec": {
   "display_name": "Python 3 (ipykernel)",
   "language": "python",
   "name": "python3"
  },
  "language_info": {
   "codemirror_mode": {
    "name": "ipython",
    "version": 3
   },
   "file_extension": ".py",
   "mimetype": "text/x-python",
   "name": "python",
   "nbconvert_exporter": "python",
   "pygments_lexer": "ipython3",
   "version": "3.8.10"
  }
 },
 "nbformat": 4,
 "nbformat_minor": 5
}
