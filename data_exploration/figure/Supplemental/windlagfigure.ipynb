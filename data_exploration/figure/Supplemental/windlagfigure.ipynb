{
 "cells": [
  {
   "cell_type": "code",
   "execution_count": 3,
   "metadata": {},
   "outputs": [],
   "source": [
    "#dataframes\n",
    "import pandas as pd\n",
    "import h5py\n",
    "import sys\n",
    "sys.path.append('../../')\n",
    "import temporal_functions\n",
    "\n",
    "#suppress warnings\n",
    "import warnings\n",
    "warnings.simplefilter(action='ignore', category=FutureWarning)\n",
    "pd.TimeSeries = pd.Series \n",
    "\n",
    "#math\n",
    "import numpy as np\n",
    "from numpy import (isscalar, r_, log, around, unique, asarray, zeros,\n",
    "                   arange, sort, amin, amax, atleast_1d, sqrt, array,\n",
    "                   compress, pi, exp, ravel, count_nonzero, sin, cos,\n",
    "                   arctan2, hypot)\n",
    "import math as m\n",
    "\n",
    "#plots\n",
    "import matplotlib.pyplot as plt\n",
    "\n",
    "import seaborn as sns\n",
    "import matplotlib.patches as mpatches\n",
    "from figurefirst import FigureLayout,mpl_functions\n",
    "import figurefirst as fifi\n",
    "\n",
    "from astropy import stats\n",
    "\n",
    "np.set_printoptions(suppress=True)\n",
    "import fly_plot_lib.plot as fpl\n",
    "FS=7\n",
    "colormap = 'bone_r'"
   ]
  },
  {
   "cell_type": "code",
   "execution_count": 4,
   "metadata": {},
   "outputs": [
    {
     "name": "stdout",
     "output_type": "stream",
     "text": [
      "hws 0.13695991439742758\n",
      "lws 0.36049355928092397\n",
      "desert 0.26898192445812114\n",
      "forest 0.542447812723691\n"
     ]
    }
   ],
   "source": [
    "## 10 second\n",
    "folder_path='/home/gadfly/DataAnalysis/data/LagAnalysisPaper/maskedJaleesa/LowRes/'\n",
    "t1=pd.read_hdf(folder_path+'10.20.20_temporal.hdf')\n",
    "t2=pd.read_hdf(folder_path+'7.7.21_temporal.hdf')\n",
    "t3=pd.read_hdf(folder_path+'9.26.21_temporal.hdf')\n",
    "t4=pd.read_hdf(folder_path+'10.29.21_temporal.hdf')\n",
    "t5=pd.read_hdf(folder_path+'10.30.21_temporal.hdf')\n",
    "t6=pd.read_hdf(folder_path+'1.8.22_temporal.hdf')\n",
    "t7=pd.read_hdf(folder_path+'1.11.22_temporal.hdf')\n",
    "t8=pd.read_hdf(folder_path+'1.15.22_temporal.hdf')\n",
    "t9=pd.read_hdf(folder_path+'4.30.22_temporal.hdf')\n",
    "t10=pd.read_hdf(folder_path+'5.1.22_temporal.hdf')\n",
    "t11=pd.read_hdf(folder_path+'5.2.22_temporal.hdf')\n",
    "t12=pd.read_hdf(folder_path+'6.1.22_temporal.hdf')\n",
    "t13=pd.read_hdf(folder_path+'6.3.22_temporal.hdf')\n",
    "t14=pd.read_hdf(folder_path+'6.7.22_temporal.hdf')\n",
    "t15=pd.read_hdf(folder_path+'6.8.22_temporal.hdf')\n",
    "t16=pd.read_hdf(folder_path+'6.22.22_temporal.hdf')\n",
    "\n",
    "t1_1=pd.read_hdf(folder_path+'hws_temporal.hdf')\n",
    "t1_2=pd.read_hdf(folder_path+'lws_temporal.hdf')\n",
    "t_f=pd.read_hdf(folder_path+'forest_temporal.hdf')\n",
    "t_desert=pd.read_hdf(folder_path+'desert_temporal.hdf')\n",
    "\n",
    "\n",
    "t1_1['turb_intensity']=t1_1['speed_std']/t1_1['speed_avg']\n",
    "t1_2['turb_intensity']=t1_2['speed_std']/t1_2['speed_avg']\n",
    "t_f['turb_intensity']=t_f['speed_std']/t_f['speed_avg']\n",
    "t_desert['turb_intensity']=t_desert['speed_std']/t_desert['speed_avg']\n",
    "\n",
    "print('hws',np.mean(t1_1.turb_intensity))\n",
    "print('lws',np.mean(t1_2.turb_intensity))\n",
    "print('desert',np.mean(t_desert.turb_intensity))\n",
    "print('forest',np.mean(t_f.turb_intensity))\n",
    "\n",
    "alltemp=[t1,t2,t4,t7,t8,t12,t13,t14,t15,t16] ## without urban\n",
    "\n",
    "# alltemp=[t1,t2,t3,t4,t5,t6,t7,t8,t9,t10,t11,t12,t13,t14,t15,t16] ## with urban\n",
    "\n",
    "for i in range(len(alltemp)):\n",
    "    alltemp[i]['turb_intensity']=alltemp[i]['speed_std']/alltemp[i]['speed_avg']\n",
    "    \n",
    "alltempconcat=pd.concat(alltemp)\n",
    "alltempconcat=alltempconcat.reset_index(inplace=False)\n"
   ]
  },
  {
   "cell_type": "code",
   "execution_count": 16,
   "metadata": {},
   "outputs": [
    {
     "data": {
      "image/png": "[encoded data removed]",
      "text/plain": [
       "<Figure size 595.276x841.89 with 1 Axes>"
      ]
     },
     "metadata": {
      "needs_background": "light"
     },
     "output_type": "display_data"
    }
   ],
   "source": [
    "layout = fifi.svg_to_axes.FigureLayout('../../../../Figure/windLagAnalysis.svg',\n",
    "                                           autogenlayers=True, make_mplfigures=True, hide_layers=[])"
   ]
  },
  {
   "cell_type": "code",
   "execution_count": 17,
   "metadata": {},
   "outputs": [
    {
     "name": "stderr",
     "output_type": "stream",
     "text": [
      "/home/gadfly/DataAnalysis/pyresearch/lib/python3.8/site-packages/seaborn/distributions.py:1210: UserWarning: The following kwargs were not used by contour: 'rasterized'\n",
      "  cset = contour_func(\n",
      "/home/gadfly/DataAnalysis/pyresearch/lib/python3.8/site-packages/seaborn/distributions.py:1210: UserWarning: The following kwargs were not used by contour: 'rasterized'\n",
      "  cset = contour_func(\n"
     ]
    }
   ],
   "source": [
    "ax=layout.axes[('fig1','ax')]\n",
    "sns.kdeplot(data=alltempconcat, x='speed_avg', y='direction_std', cmap='bone_r', shade=True, ax=ax,label='All Data', rasterized=True)\n",
    "sns.kdeplot(data=alltempconcat, x='speed_avg', y='direction_std', cmap='gray', alpha=0.5, levels=[0.04],shade=False, ax=ax, rasterized=True)\n",
    "\n",
    "ax.scatter(t1_1.speed_avg, t1_1.direction_std, cmap='Blues', s=5, label='HWS', rasterized=True)\n",
    "ax.scatter(t1_2.speed_avg, t1_2.direction_std, cmap='Oranges', s=5, label='LWS', rasterized=True)\n",
    "ax.scatter(t_f.speed_avg, t_f.direction_std, cmap='g', s=5, label='Forest', rasterized=True)\n",
    "\n",
    "# Custom legend patches\n",
    "all_patch = mpatches.Patch(color=sns.color_palette(\"bone_r\")[2], label='All Data')\n",
    "hws_patch = mpatches.Patch(color=sns.color_palette(\"Blues\")[2], label='HWS')\n",
    "lws_patch = mpatches.Patch(color=sns.color_palette(\"Oranges\")[2], label='LWS')\n",
    "forest_patch = mpatches.Patch(color=sns.color_palette(\"Greens\")[2], label='Forest')\n",
    "ax.legend(handles=[all_patch, hws_patch, lws_patch, forest_patch])\n",
    "\n",
    "ax.set_rasterization_zorder(-20)\n",
    "ax.grid(False)\n",
    "\n",
    "ax.set_xlim(-1,7)\n",
    "ax.set_ylim(-10,90)\n",
    "ax.set_xlabel('Mean wind speed (m/s)')\n",
    "ax.set_ylabel('Standard deviation in direction (degrees) ')\n",
    "\n",
    "mpl_functions.adjust_spines(ax,['left','bottom'],\n",
    "                            spine_locations={'left': 1,'bottom': 1}, \n",
    "                            smart_bounds=True,   \n",
    "                            xticks=[-1,3,7],\n",
    "                            yticks=[0,40,80],\n",
    "                            linewidth=0.5)\n",
    "\n",
    "\n",
    "\n",
    "mpl_functions.set_fontsize(ax, FS)\n",
    "layout.append_figure_to_layer(layout.figures['fig1'], 'fig1', cleartarget=True)\n",
    "layout.write_svg('../../../../Figure/windLagAnalysis.svg')"
   ]
  },
  {
   "cell_type": "code",
   "execution_count": null,
   "metadata": {},
   "outputs": [],
   "source": []
  }
 ],
 "metadata": {
  "kernelspec": {
   "display_name": "pymac",
   "language": "python",
   "name": "pymac"
  },
  "language_info": {
   "codemirror_mode": {
    "name": "ipython",
    "version": 3
   },
   "file_extension": ".py",
   "mimetype": "text/x-python",
   "name": "python",
   "nbconvert_exporter": "python",
   "pygments_lexer": "ipython3",
   "version": "3.8.10"
  },
  "orig_nbformat": 4
 },
 "nbformat": 4,
 "nbformat_minor": 2
}
