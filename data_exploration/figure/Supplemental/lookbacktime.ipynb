{
 "cells": [
  {
   "cell_type": "code",
   "execution_count": 4,
   "id": "290107a4",
   "metadata": {},
   "outputs": [],
   "source": [
    "#dataframes\n",
    "import pandas as pd\n",
    "import h5py\n",
    "\n",
    "# user defined functions\n",
    "\n",
    "#speedup\n",
    "import multiprocessing as mp\n",
    "\n",
    "#suppress warnings\n",
    "import warnings\n",
    "warnings.simplefilter(action='ignore', category=FutureWarning)\n",
    "pd.TimeSeries = pd.Series \n",
    "\n",
    "#math\n",
    "import numpy as np\n",
    "import math\n",
    "import statsmodels.api as sm\n",
    "import statsmodels.formula.api as smf\n",
    "from scipy import signal\n",
    "import scipy \n",
    "import scipy.stats as st\n",
    "from scipy.stats import kurtosis\n",
    "from scipy.cluster import hierarchy\n",
    "from scipy.spatial.distance import pdist, squareform\n",
    "\n",
    "#plots\n",
    "import pylab as plt\n",
    "import matplotlib.pyplot as plt\n",
    "from matplotlib.ticker import MaxNLocator\n",
    "import matplotlib\n",
    "from figurefirst import FigureLayout,mpl_functions\n",
    "import figurefirst\n",
    "import matplotlib.image as mpimg\n",
    "from mpl_toolkits.axes_grid1 import make_axes_locatable # for colorbar\n",
    "import seaborn as sns\n",
    "sns.set()\n",
    "sns.set_style(\"whitegrid\")\n",
    "import figurefirst as fifi\n",
    "from IPython.display import display,SVG\n",
    "\n",
    "import networkx as nx\n",
    "\n",
    "#misc\n",
    "\n",
    "np.set_printoptions(suppress=True)\n",
    "import fly_plot_lib.plot as fpl\n",
    "FS=7\n"
   ]
  },
  {
   "cell_type": "code",
   "execution_count": 9,
   "id": "cfa495a9",
   "metadata": {},
   "outputs": [],
   "source": [
    "dir = '../../../data/'\n",
    "df1 = pd.read_hdf(dir+'LookbackTimeAnalysis/WindyLT.h5')\n",
    "df2 = pd.read_hdf(dir+'LookbackTimeAnalysis/NotWindyLT.h5')\n",
    "df3 = pd.read_hdf(dir+'LookbackTimeAnalysis/ForestLT.h5')\n"
   ]
  },
  {
   "cell_type": "code",
   "execution_count": 8,
   "id": "823d3afc",
   "metadata": {},
   "outputs": [
    {
     "data": {
      "image/png": "[encoded data removed]",
      "text/plain": [
       "<Figure size 826.772x1169.29 with 1 Axes>"
      ]
     },
     "metadata": {},
     "output_type": "display_data"
    }
   ],
   "source": [
    "layout = fifi.svg_to_axes.FigureLayout('../../../Figure/lookbacktime.svg',\n",
    "                                           autogenlayers=True, make_mplfigures=True, hide_layers=[])"
   ]
  },
  {
   "cell_type": "code",
   "execution_count": 27,
   "id": "ea702ffb",
   "metadata": {},
   "outputs": [],
   "source": [
    "ax=layout.axes[('fig','ax')]\n",
    "\n",
    "line_width=0.5\n",
    "msize=3\n",
    "\n",
    "ax.plot(df1.lt_time,df1.rsquared, label='HWS', c='b',linewidth=line_width,rasterized=True)\n",
    "ax.plot(df1.lt_time,df1.rsquared, 'o',c='b',markerfacecolor=\"None\", markeredgecolor='b', markersize=msize,rasterized=True)\n",
    "ax.plot(df2.lt_time,df2.rsquared, label='LWS',c='g',linewidth=line_width,rasterized=True)\n",
    "ax.plot(df2.lt_time,df2.rsquared, 'o', c='g', markersize=msize,markerfacecolor=\"None\", markeredgecolor='g',rasterized=True)\n",
    "ax.plot(df3.lt_time,df3.rsquared, label='Forest',c='purple',linewidth=line_width,rasterized=True)\n",
    "ax.plot(df3.lt_time,df3.rsquared, 'o',c='purple',markerfacecolor=\"None\", markeredgecolor='purple',markersize=msize,rasterized=True)\n",
    "ax.grid(False)\n",
    "# ax.xaxis.grid(True)\n",
    "ax.axvline(x=10, color='r', linewidth=line_width,rasterized=True) \n",
    "ax.set_rasterization_zorder(-20)\n",
    "\n",
    "\n",
    "\n",
    "ax.set_xlabel('Lookback Time, s')\n",
    "ax.xaxis.set_label_coords(0.5, -0.13)\n",
    "ax.set_ylabel('$R^2$',rotation=90)\n",
    "ax.yaxis.set_label_coords(-0.08, 0.45)\n",
    "\n",
    "mpl_functions.adjust_spines(ax,['left','bottom'],\n",
    "                            spine_locations={'left':4,'bottom':4}, \n",
    "                            smart_bounds=True,\n",
    "                            xticks=[0.1,4,10,40,60,80,90],\n",
    "#                             yticks = [0,0.25,0.5],\n",
    "                            linewidth=0.5)\n",
    "\n",
    "ax.set_xticklabels([0.1,4,10,40,60,80,90], rotation=90)\n",
    "\n",
    "\n",
    "figurefirst.mpl_functions.set_fontsize(ax, FS)\n",
    "layout.append_figure_to_layer(layout.figures['fig'], 'fig', cleartarget=True)\n",
    "layout.write_svg('../../../Figure/lookbacktime.svg')"
   ]
  },
  {
   "cell_type": "code",
   "execution_count": null,
   "id": "dfccac90",
   "metadata": {},
   "outputs": [],
   "source": []
  }
 ],
 "metadata": {
  "kernelspec": {
   "display_name": "vscode38kernel",
   "language": "python",
   "name": "pywork38"
  },
  "language_info": {
   "codemirror_mode": {
    "name": "ipython",
    "version": 3
   },
   "file_extension": ".py",
   "mimetype": "text/x-python",
   "name": "python",
   "nbconvert_exporter": "python",
   "pygments_lexer": "ipython3",
   "version": "3.8.10"
  }
 },
 "nbformat": 4,
 "nbformat_minor": 5
}
