{
 "cells": [
  {
   "cell_type": "code",
   "execution_count": 1,
   "id": "052f5f3c",
   "metadata": {},
   "outputs": [],
   "source": [
    "#dataframes\n",
    "import pandas as pd\n",
    "import h5py\n",
    "\n",
    "# user defined functions\n",
    "\n",
    "#speedup\n",
    "import multiprocessing as mp\n",
    "\n",
    "#suppress warnings\n",
    "import warnings\n",
    "warnings.simplefilter(action='ignore', category=FutureWarning)\n",
    "pd.TimeSeries = pd.Series \n",
    "\n",
    "#math\n",
    "import numpy as np\n",
    "import math\n",
    "import statsmodels.api as sm\n",
    "import statsmodels.formula.api as smf\n",
    "from scipy import signal\n",
    "import scipy \n",
    "import scipy.stats as st\n",
    "from scipy.stats import kurtosis\n",
    "from scipy.cluster import hierarchy\n",
    "from scipy.spatial.distance import pdist, squareform\n",
    "\n",
    "#plots\n",
    "import pylab as plt\n",
    "import matplotlib.pyplot as plt\n",
    "from matplotlib.ticker import MaxNLocator\n",
    "import matplotlib\n",
    "from figurefirst import FigureLayout,mpl_functions\n",
    "import figurefirst\n",
    "import matplotlib.image as mpimg\n",
    "from mpl_toolkits.axes_grid1 import make_axes_locatable # for colorbar\n",
    "import seaborn as sns\n",
    "sns.set()\n",
    "sns.set_style(\"whitegrid\")\n",
    "import figurefirst as fifi\n",
    "from IPython.display import display,SVG\n",
    "\n",
    "import networkx as nx\n",
    "import community.community_louvain as community_louvain # pip install community\n",
    "\n",
    "#misc\n",
    "import cairosvg\n",
    "import time\n",
    "np.set_printoptions(suppress=True)\n",
    "import fly_plot_lib.plot as fpl\n",
    "# matplotlib.rcParams['font.family'] = [ 'sans-serif']\n",
    "FS=7\n",
    "colormap='bone_r'"
   ]
  },
  {
   "cell_type": "code",
   "execution_count": 2,
   "id": "b493085c",
   "metadata": {},
   "outputs": [],
   "source": [
    "dir = '~/DataAnalysis/data/Sprints/HighRes/'\n",
    "fdf=pd.read_hdf(dir+'All_Datasets_Predictions.h5')"
   ]
  },
  {
   "cell_type": "code",
   "execution_count": 3,
   "id": "f4a9b595",
   "metadata": {},
   "outputs": [
    {
     "data": {
      "image/png": "[encoded data removed]",
      "text/plain": [
       "<Figure size 595.276x841.89 with 2 Axes>"
      ]
     },
     "metadata": {},
     "output_type": "display_data"
    }
   ],
   "source": [
    "layout = fifi.svg_to_axes.FigureLayout('../../../../Figure/mc_wsd.svg',\n",
    "                                           autogenlayers=True, make_mplfigures=True, hide_layers=[])"
   ]
  },
  {
   "cell_type": "code",
   "execution_count": 4,
   "id": "54d09f36",
   "metadata": {},
   "outputs": [],
   "source": [
    "ax=layout.axes[('fig','ax')]\n",
    "\n",
    "\n",
    "var1 = ax.scatter(fdf.mc_mean,fdf.st_mean, c=fdf.mc_mean,cmap='bone_r', \n",
    "                  edgecolors='none', s=4,\n",
    "                  vmin=0, vmax=10, rasterized=True)\n",
    "g1 = sns.regplot(x=fdf.mc_mean,y=fdf.st_mean, data=fdf,\n",
    "            ax=ax, line_kws={'color':'red','linewidth':1}, scatter=False, truncate=False)\n",
    "\n",
    "g1.set(xlabel=None, ylabel=None)\n",
    "\n",
    "ax.set_rasterization_zorder(-20)\n",
    "ax.grid(False)\n",
    "ax.set_rasterization_zorder(-20)\n",
    "\n",
    "ax.set_xlabel('$\\mu(WC),a.u.$')\n",
    "ax.xaxis.set_label_coords(0.5, -0.1)\n",
    "\n",
    "ax.set_ylabel('$\\mu(WSD),a.u.$') \n",
    "ax.yaxis.set_label_coords(-0.08, 0.5)\n",
    "\n",
    "\n",
    "\n",
    "mpl_functions.adjust_spines(ax,['left','bottom'],\n",
    "                            spine_locations={'left': 5,'bottom': 5}, \n",
    "                            smart_bounds=True,\n",
    "                            xticks=[4,10.5],\n",
    "                            yticks=[0,2],\n",
    "                            linewidth=0.5)\n",
    "\n",
    "\n",
    "\n",
    "figurefirst.mpl_functions.set_fontsize(ax, FS)\n",
    "layout.append_figure_to_layer(layout.figures['fig'], 'fig', cleartarget=True)\n",
    "layout.write_svg('../../../../Figure/mc_wsd.svg')"
   ]
  },
  {
   "cell_type": "code",
   "execution_count": 5,
   "id": "4c46a7c9",
   "metadata": {},
   "outputs": [],
   "source": [
    "ax = layout.axes[('fig', 'cbar')]\n",
    "ytic=[4.5,11]\n",
    "\n",
    "fpl.colorbar(ax=ax, colormap='bone_r', orientation='vertical',ticks=ytic)\n",
    "ax.set_rasterization_zorder(-20)\n",
    "mpl_functions.adjust_spines(ax, ['left'], \n",
    "                                    smart_bounds=True,\n",
    "                                    spine_locations={'left': 1}, \n",
    "                                    yticks=ytic,\n",
    "                                    tick_length=1.5,\n",
    "                                    linewidth=0.5)\n",
    "\n",
    "ax.set_ylabel(\"$\\mu(WC)$, a.u.\",rotation=90, labelpad=-12)\n",
    "\n",
    "ax.set_yticklabels(['4.5', '10'])\n",
    "figurefirst.mpl_functions.set_fontsize(ax, FS)\n",
    "\n",
    "layout.append_figure_to_layer(layout.figures['fig'], 'fig', cleartarget=True)\n",
    "layout.write_svg('../../../../Figure/mc_wsd.svg')"
   ]
  },
  {
   "cell_type": "code",
   "execution_count": null,
   "id": "7923ac3f",
   "metadata": {},
   "outputs": [],
   "source": []
  }
 ],
 "metadata": {
  "kernelspec": {
   "display_name": "Python 3 (ipykernel)",
   "language": "python",
   "name": "python3"
  },
  "language_info": {
   "codemirror_mode": {
    "name": "ipython",
    "version": 3
   },
   "file_extension": ".py",
   "mimetype": "text/x-python",
   "name": "python",
   "nbconvert_exporter": "python",
   "pygments_lexer": "ipython3",
   "version": "3.8.10"
  }
 },
 "nbformat": 4,
 "nbformat_minor": 5
}
