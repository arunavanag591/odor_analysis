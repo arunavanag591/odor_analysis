{
 "cells": [
  {
   "cell_type": "code",
   "execution_count": 19,
   "id": "0d010a49",
   "metadata": {},
   "outputs": [],
   "source": [
    "#dataframes\n",
    "import pandas as pd\n",
    "import h5py\n",
    "\n",
    "#speedup\n",
    "import multiprocessing as mp\n",
    "\n",
    "#suppress warnings\n",
    "import warnings\n",
    "warnings.simplefilter(action='ignore', category=FutureWarning)\n",
    "pd.TimeSeries = pd.Series \n",
    "\n",
    "#math\n",
    "import numpy as np\n",
    "import math as m\n",
    "from scipy.spatial.distance import cdist\n",
    "from scipy import signal\n",
    "\n",
    "#plots\n",
    "import pylab as plt\n",
    "import matplotlib.pyplot as plt\n",
    "from matplotlib.ticker import MaxNLocator\n",
    "import matplotlib.ticker as ticker\n",
    "from matplotlib import colors\n",
    "import matplotlib\n",
    "from figurefirst import FigureLayout,mpl_functions\n",
    "import figurefirst\n",
    "import matplotlib.image as mpimg\n",
    "from mpl_toolkits.axes_grid1 import make_axes_locatable # for colorbar\n",
    "import seaborn as sns\n",
    "sns.set()\n",
    "sns.set_style(\"whitegrid\")\n",
    "import matplotlib.colors as mcolors\n",
    "import figurefirst as fifi\n",
    "from IPython.display import display,SVG\n",
    "\n",
    "#misc\n",
    "import cairosvg\n",
    "import time\n",
    "np.set_printoptions(suppress=True)\n",
    "import fly_plot_lib.plot as fpl\n",
    "FS=7"
   ]
  },
  {
   "cell_type": "code",
   "execution_count": 20,
   "id": "dea579ed",
   "metadata": {},
   "outputs": [],
   "source": [
    "df1 = pd.read_hdf('~/DataAnalysis/data/Sprints/HighRes/Windy/WindyMASigned.h5')\n",
    "df2 = pd.read_hdf('~/DataAnalysis/data/Sprints/HighRes/NotWindy/NotWindyMASigned.h5')\n",
    "df3 = pd.read_hdf('~/DataAnalysis/data/Sprints/HighRes/Forest/ForestMASigned.h5')\n",
    "\n",
    "q='odor>4.5'\n",
    "dfdist1=df1.query(q)\n",
    "dfdist2=df2.query(q)\n",
    "dfdist3=df3.query(q)\n",
    "\n",
    "dataframes=[dfdist1,dfdist2,dfdist3]\n",
    "data=[df1,df2,df3]"
   ]
  },
  {
   "cell_type": "code",
   "execution_count": 26,
   "id": "a6567d43",
   "metadata": {},
   "outputs": [
    {
     "data": {
      "image/png": "[encoded data removed]",
      "text/plain": [
       "<Figure size 595.276x841.89 with 3 Axes>"
      ]
     },
     "metadata": {},
     "output_type": "display_data"
    },
    {
     "data": {
      "image/png": "[encoded data removed]",
      "text/plain": [
       "<Figure size 595.276x841.89 with 1 Axes>"
      ]
     },
     "metadata": {},
     "output_type": "display_data"
    }
   ],
   "source": [
    "layout = fifi.svg_to_axes.FigureLayout('../../../../Figure/time_spent.svg',\n",
    "                                           autogenlayers=True, make_mplfigures=True, hide_layers=[])"
   ]
  },
  {
   "cell_type": "code",
   "execution_count": 22,
   "id": "b87d7250",
   "metadata": {},
   "outputs": [],
   "source": [
    "ax = layout.axes[('ts', 'ax1')]\n",
    "ax.grid(False)\n",
    "\n",
    "\n",
    "hist, xedges, yedges = np.histogram2d(df1.distance_from_source_a*df1.xsign,\n",
    "                                      df1.nearest_from_streakline*df1.ysign, \n",
    "                                      bins=20, normed=False)\n",
    "\n",
    "dt=df1.master_time[1]-df1.master_time[0]\n",
    "counts_dt = hist * dt\n",
    "counts_dt = np.nan_to_num(counts_dt, nan=0.0, posinf=0.0, neginf=0.0)\n",
    "\n",
    "\n",
    "\n",
    "ax.pcolormesh(xedges, yedges, counts_dt.T, \n",
    "                   cmap='Greys', norm=colors.LogNorm(),rasterized=True) \n",
    "\n",
    "\n",
    "ax.axhline(0, color = 'grey', alpha=0.5)\n",
    "ax.axvline(0, color = 'grey', alpha=0.5)\n",
    "ax.plot(0,0,marker='o',  c='#fd6549ff', markersize=7, alpha=0.8, rasterized=True)\n",
    "\n",
    "ax.set_rasterization_zorder(-20)\n",
    "\n",
    "\n",
    "mpl_functions.adjust_spines(ax,['left', 'bottom'],spine_locations={'left': 5, 'bottom': 5}, \n",
    "                            smart_bounds=True, \n",
    "                            xticks=[0,50],\n",
    "                            yticks=[-25,25], \n",
    "                            linewidth=0.5)\n",
    "\n",
    "figurefirst.mpl_functions.set_fontsize(ax,FS)\n",
    "layout.append_figure_to_layer(layout.figures['ts'], 'ts', cleartarget=True)\n",
    "layout.write_svg('../../../../Figure/time_spent.svg')"
   ]
  },
  {
   "cell_type": "code",
   "execution_count": 23,
   "id": "d7eff1c2",
   "metadata": {},
   "outputs": [],
   "source": [
    "ax = layout.axes[('ts', 'ax2')]\n",
    "ax.grid(False)\n",
    "\n",
    "# ax.hist2d(df2.distance_from_source_a*df2.xsign,\n",
    "#                     df2.nearest_from_streakline*df2.ysign,\n",
    "#                     cmap='Greys',bins=20, alpha=0.3,norm=colors.LogNorm(),rasterized=True)\n",
    "\n",
    "\n",
    "hist, xedges, yedges = np.histogram2d(df2.distance_from_source_a*df2.xsign,\n",
    "                                      df2.nearest_from_streakline*df2.ysign, \n",
    "                                      bins=20, normed=False)\n",
    "\n",
    "counts_dt = hist * dt\n",
    "counts_dt = np.nan_to_num(counts_dt, nan=0.0, posinf=0.0, neginf=0.0)\n",
    "\n",
    "\n",
    "\n",
    "pc = ax.pcolormesh(xedges, yedges, counts_dt.T, \n",
    "                   cmap='Greys', norm=colors.LogNorm(),rasterized=True) \n",
    "\n",
    "# ax.scatter(dataframes[1].distance_from_source_a*dataframes[1].xsign,\n",
    "#                     dataframes[1].nearest_from_streakline*dataframes[1].ysign,\n",
    "#                     c=dataframes[1].odor, cmap=\"inferno_r\", vmin=0,vmax=10,\n",
    "#            edgecolors='none', s=5,alpha=0.2, rasterized=True)\n",
    "ax.set_ylim(-25,25)\n",
    "\n",
    "ax.axhline(0, color = 'grey', alpha=0.5)\n",
    "ax.axvline(0, color = 'grey', alpha=0.5)\n",
    "ax.plot(0,0,marker='o',  c='#fd6549ff', markersize=7, alpha=0.8, rasterized=True)\n",
    "\n",
    "ax.set_rasterization_zorder(-20)\n",
    "\n",
    "\n",
    "mpl_functions.adjust_spines(ax,['bottom'],spine_locations={'bottom': 5}, \n",
    "                            smart_bounds=True, \n",
    "                            xticks=[0,50],\n",
    "                            \n",
    "                            linewidth=0.5)\n",
    "\n",
    "figurefirst.mpl_functions.set_fontsize(ax,FS)\n",
    "layout.append_figure_to_layer(layout.figures['ts'], 'ts', cleartarget=True)\n",
    "layout.write_svg('../../../../Figure/time_spent.svg')"
   ]
  },
  {
   "cell_type": "code",
   "execution_count": 24,
   "id": "b4dad7c7",
   "metadata": {},
   "outputs": [],
   "source": [
    "ax = layout.axes[('ts', 'ax3')]\n",
    "ax.grid(False)\n",
    "\n",
    "\n",
    "hist, xedges, yedges = np.histogram2d(df3.distance_from_source_a*df3.xsign,\n",
    "                                      df3.nearest_from_streakline*df3.ysign, \n",
    "                                      bins=20, normed=False)\n",
    "\n",
    "counts_dt = hist * dt\n",
    "counts_dt = np.nan_to_num(counts_dt, nan=0.0, posinf=0.0, neginf=0.0)\n",
    "\n",
    "\n",
    "pc = ax.pcolormesh(xedges, yedges, counts_dt.T, \n",
    "                   cmap='Greys', norm=colors.LogNorm(),rasterized=True) \n",
    "\n",
    "# ax.scatter(dataframes[2].distance_from_source_a*dataframes[2].xsign,\n",
    "#                     dataframes[2].nearest_from_streakline*dataframes[2].ysign,\n",
    "#                     c=dataframes[2].odor, cmap=\"inferno_r\", vmin=0,vmax=10,\n",
    "#            edgecolors='none', s=5,alpha=0.2, rasterized=True)\n",
    "ax.set_ylim(-25,25)\n",
    "\n",
    "ax.axhline(0, color = 'grey', alpha=0.5)\n",
    "ax.axvline(0, color = 'grey', alpha=0.5)\n",
    "ax.plot(0,0,marker='o',  c='#fd6549ff', markersize=7, alpha=0.8, rasterized=True)\n",
    "\n",
    "ax.set_rasterization_zorder(-20)\n",
    "\n",
    "\n",
    "mpl_functions.adjust_spines(ax,['bottom'],spine_locations={'bottom': 5}, \n",
    "                            smart_bounds=True, \n",
    "                            xticks=[0,50],\n",
    "                           \n",
    "                            linewidth=0.5)\n",
    "\n",
    "figurefirst.mpl_functions.set_fontsize(ax,FS)\n",
    "layout.append_figure_to_layer(layout.figures['ts'], 'ts', cleartarget=True)\n",
    "layout.write_svg('../../../../Figure/time_spent.svg')"
   ]
  },
  {
   "cell_type": "markdown",
   "id": "1e15c570",
   "metadata": {},
   "source": [
    "### Colorbar"
   ]
  },
  {
   "cell_type": "code",
   "execution_count": 27,
   "id": "2bd694be",
   "metadata": {},
   "outputs": [
    {
     "name": "stderr",
     "output_type": "stream",
     "text": [
      "posx and posy should be finite values\n"
     ]
    },
    {
     "data": {
      "image/png": "[encoded data removed]",
      "text/plain": [
       "<Figure size 432x288 with 1 Axes>"
      ]
     },
     "metadata": {},
     "output_type": "display_data"
    }
   ],
   "source": [
    "ax = layout.axes[('tscbar', 'cbar')]\n",
    "# xtic=[0,400]\n",
    "ax.grid(False)\n",
    "\n",
    "hist, xedges, yedges = np.histogram2d(df1.distance_from_source_a*df1.xsign,\n",
    "                                      df1.nearest_from_streakline*df1.ysign, \n",
    "                                      bins=20, normed=False)\n",
    "\n",
    "dt=df1.master_time[1]-df1.master_time[0]\n",
    "counts_dt = hist * dt\n",
    "counts_dt = np.nan_to_num(counts_dt, nan=0.0, posinf=0.0, neginf=0.0)\n",
    "\n",
    "\n",
    "ax.grid(False)  # Explicitly remove grid lines\n",
    "pc = ax.pcolormesh(xedges, yedges, counts_dt.T, \n",
    "                   cmap='Greys', norm=colors.LogNorm(), rasterized=True)  # Transpose counts_dt to align with coordinate system\n",
    "\n",
    "\n",
    "# cbar = plt.(pc, ax=ax, orientation='horizontal')\n",
    "cbar = plt.colorbar(pc, cax=ax,orientation='horizontal');\n",
    "cbar.outline.set_visible(False)\n",
    "cbar.ax.xaxis.set_minor_locator(ticker.NullLocator())\n",
    "# cbar.ax.tick_params(width=0.3)  \n",
    "cbar.ax.tick_params(width=0.3, length=2)\n",
    "cbar.ax.tick_params(labelsize=1)  \n",
    "\n",
    "\n",
    "ax.set_rasterization_zorder(-20)\n",
    "ax.set_xlabel(\"Time Spent, s\",rotation=0, labelpad=0)\n",
    "\n",
    "figurefirst.mpl_functions.set_fontsize(ax, FS)\n",
    "\n",
    "layout.append_figure_to_layer(layout.figures['tscbar'], 'tscbar', cleartarget=True)\n",
    "layout.write_svg('../../../../Figure/time_spent.svg')"
   ]
  },
  {
   "cell_type": "code",
   "execution_count": null,
   "id": "0052035b",
   "metadata": {},
   "outputs": [],
   "source": []
  }
 ],
 "metadata": {
  "kernelspec": {
   "display_name": "Python 3 (ipykernel)",
   "language": "python",
   "name": "python3"
  },
  "language_info": {
   "codemirror_mode": {
    "name": "ipython",
    "version": 3
   },
   "file_extension": ".py",
   "mimetype": "text/x-python",
   "name": "python",
   "nbconvert_exporter": "python",
   "pygments_lexer": "ipython3",
   "version": "3.8.10"
  }
 },
 "nbformat": 4,
 "nbformat_minor": 5
}
