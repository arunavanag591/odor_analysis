{
 "cells": [
  {
   "cell_type": "code",
   "execution_count": 1,
   "id": "ac5afe97",
   "metadata": {},
   "outputs": [],
   "source": [
    "#dataframes\n",
    "import pandas as pd\n",
    "import h5py\n",
    "\n",
    "#speedup\n",
    "import multiprocessing as mp\n",
    "\n",
    "#suppress warnings\n",
    "import warnings\n",
    "warnings.simplefilter(action='ignore', category=FutureWarning)\n",
    "pd.TimeSeries = pd.Series \n",
    "\n",
    "#math\n",
    "import numpy as np\n",
    "import math as m\n",
    "from scipy.spatial.distance import cdist\n",
    "from scipy import signal\n",
    "\n",
    "#plots\n",
    "import pylab as plt\n",
    "import matplotlib.pyplot as plt\n",
    "from matplotlib.ticker import MaxNLocator\n",
    "import matplotlib\n",
    "from figurefirst import FigureLayout,mpl_functions\n",
    "import figurefirst\n",
    "import matplotlib.image as mpimg\n",
    "from mpl_toolkits.axes_grid1 import make_axes_locatable # for colorbar\n",
    "import seaborn as sns\n",
    "sns.set()\n",
    "sns.set_style(\"whitegrid\")\n",
    "import figurefirst as fifi\n",
    "from IPython.display import display,SVG\n",
    "\n",
    "#misc\n",
    "import cairosvg\n",
    "import string\n",
    "import time\n",
    "np.set_printoptions(suppress=True)\n",
    "# matplotlib.rcParams['font.family'] = [ 'sans-serif']\n",
    "FS=7"
   ]
  },
  {
   "cell_type": "code",
   "execution_count": 2,
   "id": "9f1f79d9",
   "metadata": {},
   "outputs": [
    {
     "data": {
      "image/png": "[encoded data removed]",
      "text/plain": [
       "<Figure size 595.276x841.89 with 6 Axes>"
      ]
     },
     "metadata": {},
     "output_type": "display_data"
    },
    {
     "data": {
      "image/png": "[encoded data removed]",
      "text/plain": [
       "<Figure size 595.276x841.89 with 1 Axes>"
      ]
     },
     "metadata": {},
     "output_type": "display_data"
    }
   ],
   "source": [
    "layout = fifi.svg_to_axes.FigureLayout('../../../Figure/fig5.svg',\n",
    "                                           autogenlayers=True, make_mplfigures=True, hide_layers=[])"
   ]
  },
  {
   "cell_type": "markdown",
   "id": "44cbdeb1",
   "metadata": {},
   "source": [
    "### Mean Concentration"
   ]
  },
  {
   "cell_type": "code",
   "execution_count": 3,
   "id": "599084a2",
   "metadata": {},
   "outputs": [],
   "source": [
    "fdf1 = pd.read_hdf(\"~/DataAnalysis/data/Sprints/HighRes/Windy/WindyStatsTime_std.h5\")\n",
    "fdf2 = pd.read_hdf(\"~/DataAnalysis/data/Sprints/HighRes/NotWindy/NotWindyStatsTime_std.h5\")\n",
    "fdf3 = pd.read_hdf(\"~/DataAnalysis/data/Sprints/HighRes/Forest/ForestStatsTime_std.h5\")"
   ]
  },
  {
   "cell_type": "code",
   "execution_count": 4,
   "id": "c1094be7",
   "metadata": {},
   "outputs": [],
   "source": [
    "ax=layout.axes[('fig1','a')]\n",
    "\n",
    "ax.grid(False)\n",
    "var1 = ax.scatter(fdf1.log_avg_dist_from_source_signed, fdf1.mean_concentration, \n",
    "                   c=fdf1.mean_concentration, cmap='inferno_r', s=4,\n",
    "            edgecolors='none', alpha=0.2, vmin=4, vmax=10, rasterized=True)\n",
    "g1 = sns.regplot(x=\"log_avg_dist_from_source_signed\",y=\"mean_concentration\", data=fdf1, \n",
    "            ax=ax, line_kws={'color':'red','linewidth':1}, scatter=False, truncate=False)\n",
    "g1.set(xlabel=None, ylabel=None)\n",
    "mpl_functions.adjust_spines(ax,['left'],\n",
    "                            spine_locations={'left': 5}, \n",
    "                            smart_bounds=True,\n",
    "                            yticks=[4.5,10],\n",
    "                            linewidth=0.5)\n",
    "\n",
    "ax.set_rasterization_zorder(-20)\n",
    "figurefirst.mpl_functions.set_fontsize(ax, FS)\n",
    "\n",
    "layout.append_figure_to_layer(layout.figures['fig1'], 'fig1', cleartarget=True)\n",
    "layout.write_svg('../../../Figure/fig5.svg')"
   ]
  },
  {
   "cell_type": "code",
   "execution_count": 5,
   "id": "f7dd44f5",
   "metadata": {},
   "outputs": [],
   "source": [
    "ax=layout.axes[('fig1','b')]\n",
    "\n",
    "var1 = ax.scatter(fdf2.log_avg_dist_from_source_signed, fdf2.mean_concentration, \n",
    "                   c=fdf2.mean_concentration, cmap='inferno_r', s=4,\n",
    "            edgecolors='none', alpha=0.2, vmin=4, vmax=10,  rasterized=True)\n",
    "g1 = sns.regplot(x=\"log_avg_dist_from_source_signed\",y=\"mean_concentration\", data=fdf2, \n",
    "            ax=ax, line_kws={'color':'red','linewidth':1}, scatter=False, truncate=False)\n",
    "g1.set(xlabel=None, ylabel=None)\n",
    "mpl_functions.adjust_spines(ax,['none'],\n",
    "                            spine_locations={}, \n",
    "                            smart_bounds=True,\n",
    "                            yticks=[4.5,10],\n",
    "                            linewidth=1)\n",
    "ax.grid('False')\n",
    "ax.axis('off')\n",
    "ax.set_rasterization_zorder(-20)\n",
    "\n",
    "figurefirst.mpl_functions.set_fontsize(ax, FS)\n",
    "\n",
    "layout.append_figure_to_layer(layout.figures['fig1'], 'fig1', cleartarget=True)\n",
    "layout.write_svg('../../../Figure/fig5.svg')"
   ]
  },
  {
   "cell_type": "code",
   "execution_count": 6,
   "id": "b511886a",
   "metadata": {},
   "outputs": [],
   "source": [
    "ax=layout.axes[('fig1','c')]\n",
    "\n",
    "var1 = ax.scatter(fdf3.log_avg_dist_from_source_signed, fdf3.mean_concentration, \n",
    "                   c=fdf3.mean_concentration, cmap='inferno_r', s=4,\n",
    "            edgecolors='none', alpha=0.2, vmin=4, vmax=10,rasterized=True)\n",
    "g1 = sns.regplot(x=\"log_avg_dist_from_source_signed\",y=\"mean_concentration\", data=fdf3, \n",
    "            ax=ax, line_kws={'color':'red','linewidth':1}, scatter=False, truncate=False)\n",
    "g1.set(xlabel=None, ylabel=None)\n",
    "mpl_functions.adjust_spines(ax,['none'],\n",
    "                            spine_locations={}, \n",
    "                            smart_bounds=True,\n",
    "                            yticks=[4.5,10],\n",
    "                            linewidth=1)\n",
    "ax.set_rasterization_zorder(-20)\n",
    "ax.grid('False')\n",
    "ax.axis('off')\n",
    "figurefirst.mpl_functions.set_fontsize(ax, FS)\n",
    "\n",
    "layout.append_figure_to_layer(layout.figures['fig1'], 'fig1', cleartarget=True)\n",
    "layout.write_svg('../../../Figure/fig5.svg')"
   ]
  },
  {
   "cell_type": "markdown",
   "id": "7f7addc6",
   "metadata": {},
   "source": [
    "### Whiff Frequency"
   ]
  },
  {
   "cell_type": "code",
   "execution_count": 7,
   "id": "91935178",
   "metadata": {},
   "outputs": [],
   "source": [
    "ax1=layout.axes[('fig1','d')]\n",
    "\n",
    "var1 = ax1.scatter(fdf1.log_avg_dist_from_source_signed, fdf1.mean_ef, \n",
    "                   c=fdf1.mean_concentration, cmap='inferno_r', s=4,rasterized=True,\n",
    "            edgecolors='none', alpha=0.2, vmin=4, vmax=10)\n",
    "\n",
    "g1 = sns.regplot(x=\"log_avg_dist_from_source_signed\",y=\"mean_ef\", data=fdf1, \n",
    "            ax=ax1, line_kws={'color':'red','linewidth':1}, scatter=False, truncate=False)\n",
    "g1.set(xlabel=None, ylabel=None)\n",
    "ax1.set_rasterization_zorder(-20)\n",
    "ax1.grid('False')\n",
    "mpl_functions.adjust_spines(ax1,['left','bottom'],\n",
    "                            spine_locations={'left': 5, 'bottom': 5}, \n",
    "                            smart_bounds=True,\n",
    "                            xticks=[-1,0,1,1.8],\n",
    "                            yticks=[0,9],\n",
    "                            linewidth=0.5)\n",
    "\n",
    "ax1.set_xticklabels([r'$10^{-1}$',r'$10^{0}$', r'$10^{1}$',r'$10^{1.8}$'])\n",
    "\n",
    "\n",
    "figurefirst.mpl_functions.set_fontsize(ax1, FS)\n",
    "\n",
    "layout.append_figure_to_layer(layout.figures['fig1'], 'fig1', cleartarget=True)\n",
    "layout.write_svg('../../../Figure/fig5.svg')"
   ]
  },
  {
   "cell_type": "code",
   "execution_count": 8,
   "id": "5e0a1dd5",
   "metadata": {},
   "outputs": [],
   "source": [
    "ax1=layout.axes[('fig1','e')]\n",
    "\n",
    "var1 = ax1.scatter(fdf2.log_avg_dist_from_source_signed, fdf2.mean_ef, \n",
    "                   c=fdf2.mean_concentration, cmap='inferno_r', s=4,rasterized=True,\n",
    "            edgecolors='none', alpha=0.2, vmin=4, vmax=10)\n",
    "\n",
    "\n",
    "g1 = sns.regplot(x=\"log_avg_dist_from_source_signed\",y=\"mean_ef\", data=fdf2, \n",
    "            ax=ax1, line_kws={'color':'red','linewidth':1}, scatter=False, truncate=False)\n",
    "g1.set(xlabel=None, ylabel=None)\n",
    "ax1.set_rasterization_zorder(-20)\n",
    "\n",
    "ax1.grid('False')\n",
    "ax1.axis('off')\n",
    "figurefirst.mpl_functions.set_fontsize(ax1, FS)\n",
    "\n",
    "layout.append_figure_to_layer(layout.figures['fig1'], 'fig1', cleartarget=True)\n",
    "layout.write_svg('../../../Figure/fig5.svg')\n"
   ]
  },
  {
   "cell_type": "code",
   "execution_count": 9,
   "id": "3871ea9a",
   "metadata": {},
   "outputs": [],
   "source": [
    "ax1=layout.axes[('fig1','f')]\n",
    "\n",
    "var1 = ax1.scatter(fdf3.log_avg_dist_from_source_signed, fdf3.mean_ef, \n",
    "                   c=fdf3.mean_concentration, cmap='inferno_r', s=4,rasterized=True,\n",
    "            edgecolors='none', alpha=0.2, vmin=4, vmax=10)\n",
    "\n",
    "g1 = sns.regplot(x=\"log_avg_dist_from_source_signed\",y=\"mean_ef\", data=fdf3, \n",
    "            ax=ax1, line_kws={'color':'red','linewidth':1}, scatter=False, truncate=False)\n",
    "g1.set(xlabel=None, ylabel=None)\n",
    "ax1.set_rasterization_zorder(-20)\n",
    "\n",
    "ax1.grid('False')\n",
    "ax1.axis('off')\n",
    "figurefirst.mpl_functions.set_fontsize(ax1, FS)\n",
    "\n",
    "layout.append_figure_to_layer(layout.figures['fig1'], 'fig1', cleartarget=True)\n",
    "layout.write_svg('../../../Figure/fig5.svg')\n"
   ]
  },
  {
   "cell_type": "code",
   "execution_count": null,
   "id": "812bf26b",
   "metadata": {},
   "outputs": [],
   "source": []
  }
 ],
 "metadata": {
  "kernelspec": {
   "display_name": "Python 3 (ipykernel)",
   "language": "python",
   "name": "python3"
  },
  "language_info": {
   "codemirror_mode": {
    "name": "ipython",
    "version": 3
   },
   "file_extension": ".py",
   "mimetype": "text/x-python",
   "name": "python",
   "nbconvert_exporter": "python",
   "pygments_lexer": "ipython3",
   "version": "3.8.10"
  }
 },
 "nbformat": 4,
 "nbformat_minor": 5
}
