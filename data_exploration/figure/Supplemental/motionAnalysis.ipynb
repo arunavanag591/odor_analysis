{
 "cells": [
  {
   "cell_type": "code",
   "execution_count": 10,
   "id": "c3f8996b",
   "metadata": {},
   "outputs": [],
   "source": [
    "#dataframes\n",
    "import pandas as pd\n",
    "import h5py\n",
    "\n",
    "# user defined functions\n",
    "\n",
    "#speedup\n",
    "import multiprocessing as mp\n",
    "\n",
    "#suppress warnings\n",
    "import warnings\n",
    "warnings.simplefilter(action='ignore', category=FutureWarning)\n",
    "pd.TimeSeries = pd.Series \n",
    "\n",
    "#math\n",
    "import numpy as np\n",
    "import math\n",
    "import statsmodels.api as sm\n",
    "import statsmodels.formula.api as smf\n",
    "from scipy import signal\n",
    "import scipy \n",
    "import scipy.stats as st\n",
    "from scipy.stats import kurtosis\n",
    "from scipy.cluster import hierarchy\n",
    "from scipy.spatial.distance import pdist, squareform\n",
    "from scipy import fft\n",
    "\n",
    "#plots\n",
    "import pylab as plt\n",
    "import matplotlib.pyplot as plt\n",
    "from matplotlib.ticker import MaxNLocator\n",
    "import matplotlib\n",
    "from figurefirst import FigureLayout,mpl_functions\n",
    "import figurefirst\n",
    "import matplotlib.image as mpimg\n",
    "from mpl_toolkits.axes_grid1 import make_axes_locatable # for colorbar\n",
    "import seaborn as sns\n",
    "sns.set()\n",
    "sns.set_style(\"whitegrid\")\n",
    "import figurefirst as fifi\n",
    "from IPython.display import display,SVG\n",
    "\n",
    "import networkx as nx\n",
    "import community.community_louvain as community_louvain # pip install community\n",
    "\n",
    "#misc\n",
    "import cairosvg\n",
    "import time\n",
    "np.set_printoptions(suppress=True)\n",
    "import fly_plot_lib.plot as fpl\n",
    "# matplotlib.rcParams['font.family'] = [ 'sans-serif']\n",
    "FS=7\n",
    "dir = '~/DataAnalysis/data/Sprints/HighRes/'"
   ]
  },
  {
   "cell_type": "code",
   "execution_count": 6,
   "id": "297ceb16",
   "metadata": {},
   "outputs": [],
   "source": [
    "df1 = pd.read_hdf(dir+'Windy/WindyMASigned.h5')\n",
    "df2 = pd.read_hdf(dir+'NotWindy/NotWindyMASigned.h5')\n",
    "df3 = pd.read_hdf(dir+'Forest/ForestMASigned.h5')"
   ]
  },
  {
   "cell_type": "code",
   "execution_count": 16,
   "id": "028d6b2e",
   "metadata": {},
   "outputs": [
    {
     "data": {
      "image/png": "[encoded data removed]",
      "text/plain": [
       "<Figure size 595.276x841.89 with 2 Axes>"
      ]
     },
     "metadata": {},
     "output_type": "display_data"
    },
    {
     "data": {
      "image/png": "[encoded data removed]",
      "text/plain": [
       "<Figure size 595.276x841.89 with 2 Axes>"
      ]
     },
     "metadata": {},
     "output_type": "display_data"
    },
    {
     "data": {
      "image/png": "[encoded data removed]",
      "text/plain": [
       "<Figure size 595.276x841.89 with 2 Axes>"
      ]
     },
     "metadata": {},
     "output_type": "display_data"
    }
   ],
   "source": [
    "layout = fifi.svg_to_axes.FigureLayout('../../../../Figure/motionAnalysis.svg',\n",
    "                                           autogenlayers=True, make_mplfigures=True, hide_layers=[])"
   ]
  },
  {
   "cell_type": "code",
   "execution_count": 7,
   "id": "1196967e",
   "metadata": {},
   "outputs": [],
   "source": [
    "def fft_of_data(data,dt):\n",
    "    data = data-np.mean(data)\n",
    "    N = data.shape[0] # Length of data.\n",
    "    try:\n",
    "        yf = 2.0/N * np.abs(fft.fft(data)[0:N//2])\n",
    "    except ZeroDivisionError:\n",
    "        yf= 0\n",
    "\n",
    "    xf = fft.fftfreq(N,dt)[:N//2]# Only take the first half of the data.\n",
    "\n",
    "    return(xf, yf) # xf = frequency array. yf = amplitude or power."
   ]
  },
  {
   "cell_type": "markdown",
   "id": "695aae86",
   "metadata": {},
   "source": [
    "## HWS"
   ]
  },
  {
   "cell_type": "code",
   "execution_count": 8,
   "id": "0c09fe02",
   "metadata": {},
   "outputs": [],
   "source": [
    "dat=df1\n",
    "x=dat.xsrc\n",
    "y=dat.ysrc\n",
    "xdot = dat.gps_linear_x\n",
    "ydot = dat.gps_linear_y\n",
    "\n",
    "r = np.sqrt(x**2 + y**2)\n",
    "theta = np.arctan2(y,x)\n",
    "\n",
    "rdot=(xdot * np.cos(theta) + ydot * np.sin(theta))\n",
    "thetadot = (ydot * np.cos(theta) - xdot * np.sin(theta)) / r\n",
    "\n",
    "result = pd.DataFrame({'r': r, 'theta': theta, 'r_dot': rdot, 'theta_dot': thetadot})\n",
    "\n",
    "dt=df1.master_time[1]-df1.master_time[0]\n",
    "f1, rdot_fft = fft_of_data(np.array(rdot),dt)\n",
    "f2, thetadot_fft= fft_of_data(np.array(thetadot),dt)"
   ]
  },
  {
   "cell_type": "code",
   "execution_count": 23,
   "id": "47baa492",
   "metadata": {},
   "outputs": [],
   "source": [
    "ax=layout.axes[('fig1','ax1')]\n",
    "\n",
    "lw=0.5\n",
    "msize=3\n",
    "\n",
    "ax.plot(f1,rdot_fft, linewidth=lw,rasterized=True)\n",
    "\n",
    "ax.set_ylabel('Amplitude of $\\overset{\\circ}{r}$')\n",
    "ax.yaxis.set_label_coords(-0.05, 0.5)\n",
    "ax.grid(False)\n",
    "ax.set_xlim(0,1)\n",
    "\n",
    "ax.set_rasterization_zorder(-20)\n",
    "\n",
    "mpl_functions.adjust_spines(ax,['left'],\n",
    "                            spine_locations={'left':4,'bottom':5}, \n",
    "                            smart_bounds=True,\n",
    "                            xticks=[0,1],\n",
    "                            yticks = [0,0.3],\n",
    "                            linewidth=0.5)\n",
    "\n",
    "figurefirst.mpl_functions.set_fontsize(ax, FS)\n",
    "layout.append_figure_to_layer(layout.figures['fig1'], 'fig1', cleartarget=True)\n",
    "layout.write_svg('../../../../Figure/motionAnalysis.svg')"
   ]
  },
  {
   "cell_type": "code",
   "execution_count": 21,
   "id": "9f4eacfa",
   "metadata": {},
   "outputs": [],
   "source": [
    "ax=layout.axes[('fig1','ax2')]\n",
    "\n",
    "lw=0.5\n",
    "msize=3\n",
    "\n",
    "ax.plot(f2,thetadot_fft, linewidth=lw,rasterized=True)\n",
    "# ax.set_xlabel('')\n",
    "# ax.xaxis.set_label_coords(0.5, -0.12)\n",
    "ax.set_ylabel('Amplitude of $\\overset{\\circ}{\\Theta}$')\n",
    "ax.yaxis.set_label_coords(-0.05, 0.5)\n",
    "ax.grid(False)\n",
    "ax.set_xlim(0,1)\n",
    "\n",
    "ax.set_rasterization_zorder(-20)\n",
    "\n",
    "mpl_functions.adjust_spines(ax,['left'],\n",
    "                            spine_locations={'left':4,'bottom':5}, \n",
    "                            smart_bounds=True,\n",
    "                            xticks=[0,1],\n",
    "                            yticks = [0,0.02],\n",
    "                            linewidth=0.5)\n",
    "ax.set_xticklabels([])\n",
    "\n",
    "figurefirst.mpl_functions.set_fontsize(ax, FS)\n",
    "layout.append_figure_to_layer(layout.figures['fig1'], 'fig1', cleartarget=True)\n",
    "layout.write_svg('../../../../Figure/motionAnalysis.svg')"
   ]
  },
  {
   "cell_type": "markdown",
   "id": "600f64f2",
   "metadata": {},
   "source": [
    "## LWS"
   ]
  },
  {
   "cell_type": "code",
   "execution_count": 22,
   "id": "c1a08c49",
   "metadata": {},
   "outputs": [],
   "source": [
    "dat=df2\n",
    "x=dat.xsrc\n",
    "y=dat.ysrc\n",
    "xdot = dat.gps_linear_x\n",
    "ydot = dat.gps_linear_y\n",
    "\n",
    "r = np.sqrt(x**2 + y**2)\n",
    "theta = np.arctan2(y,x)\n",
    "\n",
    "rdot=(xdot * np.cos(theta) + ydot * np.sin(theta))\n",
    "thetadot = (ydot * np.cos(theta) - xdot * np.sin(theta)) / r\n",
    "\n",
    "result = pd.DataFrame({'r': r, 'theta': theta, 'r_dot': rdot, 'theta_dot': thetadot})\n",
    "\n",
    "dt=df1.master_time[1]-df1.master_time[0]\n",
    "f1, rdot_fft = fft_of_data(np.array(rdot),dt)\n",
    "f2, thetadot_fft= fft_of_data(np.array(thetadot),dt)"
   ]
  },
  {
   "cell_type": "code",
   "execution_count": 25,
   "id": "02151979",
   "metadata": {},
   "outputs": [],
   "source": [
    "ax=layout.axes[('fig2','ax3')]\n",
    "\n",
    "lw=0.5\n",
    "msize=3\n",
    "\n",
    "ax.plot(f1,rdot_fft, linewidth=lw,rasterized=True)\n",
    "\n",
    "ax.set_ylabel('Amplitude of $\\overset{\\circ}{r}$')\n",
    "ax.yaxis.set_label_coords(-0.05, 0.5)\n",
    "ax.grid(False)\n",
    "ax.set_xlim(0,1)\n",
    "\n",
    "ax.set_rasterization_zorder(-20)\n",
    "\n",
    "mpl_functions.adjust_spines(ax,['left'],\n",
    "                            spine_locations={'left':4,'bottom':5}, \n",
    "                            smart_bounds=True,\n",
    "                            xticks=[0,1],\n",
    "                            yticks = [0,0.3],\n",
    "                            linewidth=0.5)\n",
    "\n",
    "figurefirst.mpl_functions.set_fontsize(ax, FS)\n",
    "layout.append_figure_to_layer(layout.figures['fig2'], 'fig2', cleartarget=True)\n",
    "layout.write_svg('../../../../Figure/motionAnalysis.svg')"
   ]
  },
  {
   "cell_type": "code",
   "execution_count": 27,
   "id": "e584a96c",
   "metadata": {},
   "outputs": [],
   "source": [
    "ax=layout.axes[('fig2','ax4')]\n",
    "\n",
    "lw=0.5\n",
    "msize=3\n",
    "\n",
    "ax.plot(f2,thetadot_fft, linewidth=lw,rasterized=True)\n",
    "# ax.set_xlabel('')\n",
    "# ax.xaxis.set_label_coords(0.5, -0.12)\n",
    "ax.set_ylabel('Amplitude of $\\overset{\\circ}{\\Theta}$')\n",
    "ax.yaxis.set_label_coords(-0.05, 0.5)\n",
    "ax.grid(False)\n",
    "ax.set_xlim(0,10)\n",
    "\n",
    "ax.set_rasterization_zorder(-20)\n",
    "\n",
    "mpl_functions.adjust_spines(ax,['left'],\n",
    "                            spine_locations={'left':4,'bottom':5}, \n",
    "                            smart_bounds=True,\n",
    "                            xticks=[0,1],\n",
    "                            yticks = [0,0.02],\n",
    "                            linewidth=0.5)\n",
    "ax.set_xticklabels([])\n",
    "\n",
    "figurefirst.mpl_functions.set_fontsize(ax, FS)\n",
    "layout.append_figure_to_layer(layout.figures['fig2'], 'fig2', cleartarget=True)\n",
    "layout.write_svg('../../../../Figure/motionAnalysis.svg')"
   ]
  },
  {
   "cell_type": "code",
   "execution_count": 30,
   "id": "7fe63497",
   "metadata": {},
   "outputs": [
    {
     "data": {
      "image/png": "[encoded data removed]",
      "text/plain": [
       "<Figure size 720x360 with 2 Axes>"
      ]
     },
     "metadata": {},
     "output_type": "display_data"
    }
   ],
   "source": [
    "f,(ax1,ax2)=plt.subplots(1,2,figsize=(10,5))\n",
    "ax1.plot(f1,rdot_fft)\n",
    "ax1.set_xlim(0,10)\n",
    "ax1.set_xlabel('Frequencies, Hz')\n",
    "ax1.set_ylabel('r_dot')\n",
    "ax1.grid(False)\n",
    "\n",
    "ax2.plot(f2,thetadot_fft)\n",
    "# ax2.set_xlim(0,10)\n",
    "ax2.set_xlabel('Frequencies, Hz')\n",
    "ax2.set_ylabel('theta_dot')\n",
    "ax2.grid(False)\n",
    "f.tight_layout()"
   ]
  },
  {
   "cell_type": "code",
   "execution_count": null,
   "id": "91d0f9ce",
   "metadata": {},
   "outputs": [],
   "source": []
  }
 ],
 "metadata": {
  "kernelspec": {
   "display_name": "Python 3 (ipykernel)",
   "language": "python",
   "name": "python3"
  },
  "language_info": {
   "codemirror_mode": {
    "name": "ipython",
    "version": 3
   },
   "file_extension": ".py",
   "mimetype": "text/x-python",
   "name": "python",
   "nbconvert_exporter": "python",
   "pygments_lexer": "ipython3",
   "version": "3.8.10"
  }
 },
 "nbformat": 4,
 "nbformat_minor": 5
}
