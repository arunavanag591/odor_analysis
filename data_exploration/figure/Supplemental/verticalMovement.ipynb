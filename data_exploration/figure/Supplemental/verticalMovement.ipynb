{
 "cells": [
  {
   "cell_type": "code",
   "execution_count": 1,
   "id": "488e9afe",
   "metadata": {},
   "outputs": [],
   "source": [
    "#dataframes\n",
    "import pandas as pd\n",
    "import h5py\n",
    "\n",
    "#speedup\n",
    "import multiprocessing as mp\n",
    "\n",
    "#suppress warnings\n",
    "import warnings\n",
    "warnings.simplefilter(action='ignore', category=FutureWarning)\n",
    "pd.TimeSeries = pd.Series \n",
    "\n",
    "#math\n",
    "import numpy as np\n",
    "from scipy.spatial.distance import cdist\n",
    "from scipy import signal\n",
    "import math\n",
    "import copy\n",
    "\n",
    "\n",
    "#plots\n",
    "import pylab as plt\n",
    "import matplotlib.pyplot as plt\n",
    "from matplotlib.ticker import MaxNLocator\n",
    "import matplotlib\n",
    "from figurefirst import FigureLayout,mpl_functions\n",
    "import figurefirst\n",
    "import matplotlib.image as mpimg\n",
    "from mpl_toolkits.axes_grid1 import make_axes_locatable # for colorbar\n",
    "import seaborn as sns\n",
    "sns.set()\n",
    "sns.set_style(\"whitegrid\")\n",
    "import figurefirst as fifi\n",
    "from IPython.display import display,SVG\n",
    "\n",
    "#misc\n",
    "import cairosvg\n",
    "import itertools\n",
    "import time\n",
    "np.set_printoptions(suppress=True)\n",
    "\n",
    "FS=7"
   ]
  },
  {
   "cell_type": "code",
   "execution_count": 2,
   "id": "530d7ac6",
   "metadata": {},
   "outputs": [],
   "source": [
    "dir='/home/gadfly/DataAnalysis/data/'\n",
    "df=pd.read_hdf(dir+'DesertDataOct/Run4.h5')\n",
    "dff=pd.read_hdf(dir+'Forest0707/Sprint02.h5')\n",
    "df['new_alt']=df.alt-np.mean(df.alt)\n",
    "dff['new_alt']=dff.alt-np.mean(dff.alt)"
   ]
  },
  {
   "cell_type": "code",
   "execution_count": 3,
   "id": "eb9a1da2",
   "metadata": {},
   "outputs": [],
   "source": [
    "t=[]\n",
    "for i in range(len(dff)):\n",
    "    t.append(dff.master_time[i]-dff.master_time[0])\n",
    "    \n",
    "dff['time']=t"
   ]
  },
  {
   "cell_type": "code",
   "execution_count": 20,
   "id": "5cebf256",
   "metadata": {
    "scrolled": false
   },
   "outputs": [
    {
     "data": {
      "image/png": "[encoded data removed]",
      "text/plain": [
       "<Figure size 595.276x841.89 with 2 Axes>"
      ]
     },
     "metadata": {},
     "output_type": "display_data"
    }
   ],
   "source": [
    "layout = fifi.svg_to_axes.FigureLayout('../../../../Figure/verticalMovement.svg',\n",
    "                                           autogenlayers=True, make_mplfigures=True, hide_layers=[])"
   ]
  },
  {
   "cell_type": "code",
   "execution_count": 21,
   "id": "e0b0c7ea",
   "metadata": {},
   "outputs": [],
   "source": [
    "ax=layout.axes[('fig','ax1')]\n",
    "ax.grid(False)\n",
    "line_width=0.5\n",
    "marker_size=0.5\n",
    "\n",
    "ax.plot(df.time,df.new_alt,linewidth=line_width,markersize=marker_size*2,rasterized= True)\n",
    "# ax.set_xlim(200,800)\n",
    "ax.set_ylim(-0.5,0.5)\n",
    "\n",
    "ax.set_rasterization_zorder(-20)\n",
    "\n",
    "mpl_functions.adjust_spines(ax,['left'],\n",
    "                            spine_locations={'left':4,'bottom':4},\n",
    "                            smart_bounds=True,\n",
    "                            yticks=[-0.5,0.5],\n",
    "#                             xticks=[200,800],\n",
    "                            linewidth=0.5)\n",
    "\n",
    "ax.set_xticklabels([])\n",
    "ax.set_ylabel('Sensor\\nz-direction, m')\n",
    "ax.yaxis.set_label_coords(-0.04, 0.5)\n",
    "\n",
    "figurefirst.mpl_functions.set_fontsize(ax, FS)\n",
    "layout.append_figure_to_layer(layout.figures['fig'], 'fig', cleartarget=True)\n",
    "layout.write_svg('../../../../Figure/verticalMovement.svg')"
   ]
  },
  {
   "cell_type": "code",
   "execution_count": 22,
   "id": "142ab7d9",
   "metadata": {},
   "outputs": [],
   "source": [
    "ax=layout.axes[('fig','ax2')]\n",
    "ax.grid(False)\n",
    "line_width=0.5\n",
    "marker_size=0.5\n",
    "\n",
    "ax.plot(df.time,df.W,linewidth=line_width,markersize=marker_size*2,rasterized= True)\n",
    "ax.set_rasterization_zorder(-20)\n",
    "\n",
    "mpl_functions.adjust_spines(ax,['left','bottom'],\n",
    "                            spine_locations={'left':4,'bottom':4},\n",
    "                            smart_bounds=True,\n",
    "                            yticks=[-0.6,0.6],\n",
    "                            xticks=[0,1700],\n",
    "                            linewidth=0.5)\n",
    "\n",
    "# ax.set_xticklabels([])\n",
    "ax.set_xlabel('Time, s')\n",
    "ax.xaxis.set_label_coords(0.5, -0.1)\n",
    "ax.set_ylabel('Ambient Wind\\n Speed, m/s')\n",
    "ax.yaxis.set_label_coords(-0.04, 0.5)\n",
    "\n",
    "figurefirst.mpl_functions.set_fontsize(ax, FS)\n",
    "layout.append_figure_to_layer(layout.figures['fig'], 'fig', cleartarget=True)\n",
    "layout.write_svg('../../../../Figure/verticalMovement.svg')"
   ]
  },
  {
   "cell_type": "markdown",
   "id": "f098be6d",
   "metadata": {},
   "source": [
    "### Forest Data"
   ]
  },
  {
   "cell_type": "code",
   "execution_count": 6,
   "id": "a19e153f",
   "metadata": {},
   "outputs": [
    {
     "data": {
      "image/png": "[encoded data removed]",
      "text/plain": [
       "<Figure size 432x288 with 1 Axes>"
      ]
     },
     "metadata": {},
     "output_type": "display_data"
    }
   ],
   "source": [
    "f,ax=plt.subplots(1,1)\n",
    "ax.grid(False)\n",
    "line_width=0.5\n",
    "marker_size=0.5\n",
    "\n",
    "ax.plot(dff.time,dff.new_alt,linewidth=line_width,markersize=marker_size*2,rasterized= True)\n",
    "ax.set_xlim(500,1100)\n",
    "ax.set_ylim(-5,5)\n",
    "# ax.axhline(y=0, color='r', linestyle='--',linewidth=line_width,markersize=marker_size*2)\n",
    "ax.set_rasterization_zorder(-20)\n",
    "\n",
    "mpl_functions.adjust_spines(ax,['left'],\n",
    "                            spine_locations={'left':4,'bottom':4},\n",
    "                            smart_bounds=True,\n",
    "                            yticks=[-5,5],\n",
    "                            xticks=[200,800],\n",
    "                            linewidth=0.5)\n",
    "\n",
    "ax.set_xticklabels([])\n",
    "# ax.set_ylabel('Sensor\\nz-direction, m')\n",
    "# ax.yaxis.set_label_coords(-0.04, 0.5)\n",
    "ax.set_xlabel('time')\n",
    "ax.set_ylabel('Altitude')\n",
    "figurefirst.mpl_functions.set_fontsize(ax, 15)\n"
   ]
  },
  {
   "cell_type": "code",
   "execution_count": 47,
   "id": "063bb41f",
   "metadata": {},
   "outputs": [],
   "source": [
    "ax=layout.axes[('fig','ax3')]\n",
    "ax.grid(False)\n",
    "line_width=0.5\n",
    "marker_size=0.5\n",
    "\n",
    "ax.plot(dff.time,dff.new_alt,linewidth=line_width,markersize=marker_size*2,rasterized= True)\n",
    "ax.set_xlim(500,1100)\n",
    "ax.set_ylim(-5,5)\n",
    "# ax.axhline(y=0, color='r', linestyle='--',linewidth=line_width,markersize=marker_size*2)\n",
    "ax.set_rasterization_zorder(-20)\n",
    "\n",
    "mpl_functions.adjust_spines(ax,['left'],\n",
    "                            spine_locations={'left':4,'bottom':4},\n",
    "                            smart_bounds=True,\n",
    "                            yticks=[-5,5],\n",
    "                            xticks=[200,800],\n",
    "                            linewidth=0.5)\n",
    "\n",
    "ax.set_xticklabels([])\n",
    "# ax.set_ylabel('Sensor\\nz-direction, m')\n",
    "# ax.yaxis.set_label_coords(-0.04, 0.5)\n",
    "\n",
    "figurefirst.mpl_functions.set_fontsize(ax, FS)\n",
    "layout.append_figure_to_layer(layout.figures['fig'], 'fig', cleartarget=True)\n",
    "layout.write_svg('../../../../Figure/verticalMovement.svg')"
   ]
  },
  {
   "cell_type": "code",
   "execution_count": 48,
   "id": "685bf0f6",
   "metadata": {},
   "outputs": [],
   "source": [
    "ax=layout.axes[('fig','ax4')]\n",
    "ax.grid(False)\n",
    "line_width=0.5\n",
    "marker_size=0.5\n",
    "\n",
    "ax.plot(dff.time,dff.W,linewidth=line_width,markersize=marker_size*2,rasterized= True)\n",
    "ax.set_xlim(500,1100)\n",
    "\n",
    "ax.set_rasterization_zorder(-20)\n",
    "\n",
    "mpl_functions.adjust_spines(ax,['left','bottom'],\n",
    "                            spine_locations={'left':4,'bottom':4},\n",
    "                            smart_bounds=True,\n",
    "                            yticks=[-0.8,0.8],\n",
    "                            xticks=[500,1100],\n",
    "                            linewidth=0.5)\n",
    "\n",
    "ax.set_xticklabels([])\n",
    "ax.set_xlabel('600 secs')\n",
    "ax.xaxis.set_label_coords(0.5, -0.1)\n",
    "# ax.set_ylabel('Ambient Wind\\n Speed W, m/s')\n",
    "# ax.yaxis.set_label_coords(-0.04, 0.5)\n",
    "\n",
    "figurefirst.mpl_functions.set_fontsize(ax, FS)\n",
    "layout.append_figure_to_layer(layout.figures['fig'], 'fig', cleartarget=True)\n",
    "layout.write_svg('../../../../Figure/verticalMovement.svg')"
   ]
  },
  {
   "cell_type": "code",
   "execution_count": null,
   "id": "a9635670",
   "metadata": {},
   "outputs": [],
   "source": []
  },
  {
   "cell_type": "code",
   "execution_count": null,
   "id": "56291653",
   "metadata": {},
   "outputs": [],
   "source": []
  }
 ],
 "metadata": {
  "kernelspec": {
   "display_name": "Python 3 (ipykernel)",
   "language": "python",
   "name": "python3"
  },
  "language_info": {
   "codemirror_mode": {
    "name": "ipython",
    "version": 3
   },
   "file_extension": ".py",
   "mimetype": "text/x-python",
   "name": "python",
   "nbconvert_exporter": "python",
   "pygments_lexer": "ipython3",
   "version": "3.8.10"
  }
 },
 "nbformat": 4,
 "nbformat_minor": 5
}
