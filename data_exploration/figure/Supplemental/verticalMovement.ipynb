{
 "cells": [
  {
   "cell_type": "code",
   "execution_count": 35,
   "id": "488e9afe",
   "metadata": {},
   "outputs": [],
   "source": [
    "#dataframes\n",
    "import pandas as pd\n",
    "import h5py\n",
    "\n",
    "#speedup\n",
    "import multiprocessing as mp\n",
    "\n",
    "#suppress warnings\n",
    "import warnings\n",
    "warnings.simplefilter(action='ignore', category=FutureWarning)\n",
    "pd.TimeSeries = pd.Series \n",
    "\n",
    "#math\n",
    "import numpy as np\n",
    "from scipy.spatial.distance import cdist\n",
    "from scipy import signal\n",
    "import math\n",
    "import copy\n",
    "\n",
    "\n",
    "#plots\n",
    "import pylab as plt\n",
    "import matplotlib.pyplot as plt\n",
    "from matplotlib.ticker import MaxNLocator\n",
    "import matplotlib\n",
    "from figurefirst import FigureLayout,mpl_functions\n",
    "import figurefirst\n",
    "import matplotlib.image as mpimg\n",
    "from mpl_toolkits.axes_grid1 import make_axes_locatable # for colorbar\n",
    "import seaborn as sns\n",
    "sns.set()\n",
    "sns.set_style(\"whitegrid\")\n",
    "import figurefirst as fifi\n",
    "from IPython.display import display,SVG\n",
    "\n",
    "#misc\n",
    "import cairosvg\n",
    "import itertools\n",
    "import time\n",
    "np.set_printoptions(suppress=True)\n",
    "\n",
    "FS=7"
   ]
  },
  {
   "cell_type": "code",
   "execution_count": 36,
   "id": "2b33a22b",
   "metadata": {},
   "outputs": [],
   "source": [
    "dir='~/DataAnalysis/data/DesertWind/'\n",
    "df1 = pd.read_hdf(dir+\"20201020_172919_windy_b_data.hdf\")\n",
    "# df2 = pd.read_hdf(\"../../../../Figure/methodfigure2/windgpsdata.hdf\") #Forest\n",
    "dir2 = '~/DataAnalysis/data/ForestWindData/'\n",
    "df2 = pd.read_hdf(dir2 + \"7.7.21_maskedgpsdata.hdf\")"
   ]
  },
  {
   "cell_type": "code",
   "execution_count": 37,
   "id": "eb9a1da2",
   "metadata": {},
   "outputs": [],
   "source": [
    "dt=df1.time_epoch.iloc[1]-df1.time_epoch.iloc[0]\n",
    "arr_dat = [df1,df2]\n",
    "for i in range(len(arr_dat)):\n",
    "    dataframe = arr_dat[i]\n",
    "    time = []\n",
    "    time.append(0)\n",
    "    for j in range(1,len(arr_dat[i])):\n",
    "        time.append(time[j-1]+dt)\n",
    "\n",
    "    arr_dat[i]['time'] = time     "
   ]
  },
  {
   "cell_type": "code",
   "execution_count": 51,
   "id": "5cebf256",
   "metadata": {
    "scrolled": false
   },
   "outputs": [
    {
     "data": {
      "image/png": "[encoded data removed]",
      "text/plain": [
       "<Figure size 595.276x841.89 with 2 Axes>"
      ]
     },
     "metadata": {},
     "output_type": "display_data"
    }
   ],
   "source": [
    "layout = fifi.svg_to_axes.FigureLayout('../../../../Figure/verticalMovement.svg',\n",
    "                                           autogenlayers=True, make_mplfigures=True, hide_layers=[])"
   ]
  },
  {
   "cell_type": "markdown",
   "id": "465bc0b6",
   "metadata": {},
   "source": [
    "## W Movement Desert Data"
   ]
  },
  {
   "cell_type": "code",
   "execution_count": 52,
   "id": "e0b0c7ea",
   "metadata": {},
   "outputs": [],
   "source": [
    "ax=layout.axes[('fig','ax1')]\n",
    "ax.grid(False)\n",
    "line_width=0.5\n",
    "marker_size=0.5\n",
    "\n",
    "ax.plot(df1.time,df1.W,linewidth=line_width,markersize=marker_size*2,rasterized= True)\n",
    "# ax.set_xlim(200,800)\n",
    "# ax.set_ylim(-1.5,1.5)\n",
    "\n",
    "ax.set_rasterization_zorder(-20)\n",
    "\n",
    "mpl_functions.adjust_spines(ax,['left','bottom'],\n",
    "                            spine_locations={'left':4,'bottom':4},\n",
    "                            smart_bounds=True,\n",
    "                            yticks=[-1.5,1.5],\n",
    "                            xticks=[0,80000],\n",
    "                            linewidth=0.5)\n",
    "\n",
    "ax.set_xticklabels(['0','6'])\n",
    "ax.set_ylabel('Ambient Wind\\n Speed, m/s')\n",
    "ax.yaxis.set_label_coords(-0.04, 0.5)\n",
    "\n",
    "figurefirst.mpl_functions.set_fontsize(ax, FS)\n",
    "layout.append_figure_to_layer(layout.figures['fig'], 'fig', cleartarget=True)\n",
    "layout.write_svg('../../../../Figure/verticalMovement.svg')"
   ]
  },
  {
   "cell_type": "markdown",
   "id": "b95f00ee",
   "metadata": {},
   "source": [
    "## W Movement Forest Data"
   ]
  },
  {
   "cell_type": "code",
   "execution_count": 53,
   "id": "142ab7d9",
   "metadata": {},
   "outputs": [],
   "source": [
    "ax=layout.axes[('fig','ax2')]\n",
    "ax.grid(False)\n",
    "line_width=0.5\n",
    "marker_size=0.5\n",
    "\n",
    "ax.plot(df2.time,df2.W_1,linewidth=line_width,markersize=marker_size*2,rasterized= True)\n",
    "ax.set_rasterization_zorder(-20)\n",
    "\n",
    "mpl_functions.adjust_spines(ax,['left','bottom'],\n",
    "                            spine_locations={'left':4,'bottom':4},\n",
    "                            smart_bounds=True,\n",
    "                            yticks=[-1.5,1.5],\n",
    "                            xticks=[0,50000],\n",
    "                            linewidth=0.5)\n",
    "\n",
    "ax.set_xticklabels(['0','4'])\n",
    "ax.set_xlabel('Time, hr')\n",
    "ax.xaxis.set_label_coords(0.5, -0.1)\n",
    "ax.set_ylabel('Ambient Wind\\n Speed, m/s')\n",
    "ax.yaxis.set_label_coords(-0.04, 0.5)\n",
    "\n",
    "figurefirst.mpl_functions.set_fontsize(ax, FS)\n",
    "layout.append_figure_to_layer(layout.figures['fig'], 'fig', cleartarget=True)\n",
    "layout.write_svg('../../../../Figure/verticalMovement.svg')"
   ]
  },
  {
   "cell_type": "code",
   "execution_count": null,
   "id": "337bb1f6",
   "metadata": {},
   "outputs": [],
   "source": []
  }
 ],
 "metadata": {
  "kernelspec": {
   "display_name": "Python 3 (ipykernel)",
   "language": "python",
   "name": "python3"
  },
  "language_info": {
   "codemirror_mode": {
    "name": "ipython",
    "version": 3
   },
   "file_extension": ".py",
   "mimetype": "text/x-python",
   "name": "python",
   "nbconvert_exporter": "python",
   "pygments_lexer": "ipython3",
   "version": "3.8.10"
  }
 },
 "nbformat": 4,
 "nbformat_minor": 5
}
