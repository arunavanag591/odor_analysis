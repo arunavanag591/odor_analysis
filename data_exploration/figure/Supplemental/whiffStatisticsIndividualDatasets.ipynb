{
 "cells": [
  {
   "cell_type": "code",
   "execution_count": 1,
   "id": "ac5afe97",
   "metadata": {},
   "outputs": [],
   "source": [
    "#dataframes\n",
    "import pandas as pd\n",
    "import h5py\n",
    "\n",
    "#speedup\n",
    "import multiprocessing as mp\n",
    "\n",
    "#suppress warnings\n",
    "import warnings\n",
    "warnings.simplefilter(action='ignore', category=FutureWarning)\n",
    "pd.TimeSeries = pd.Series \n",
    "\n",
    "#math\n",
    "import numpy as np\n",
    "\n",
    "#plots\n",
    "from figurefirst import FigureLayout,mpl_functions\n",
    "import figurefirst\n",
    "import seaborn as sns\n",
    "sns.set()\n",
    "sns.set_style(\"whitegrid\")\n",
    "import figurefirst as fifi\n",
    "\n",
    "#misc\n",
    "np.set_printoptions(suppress=True)\n",
    "import fly_plot_lib.plot as fpl\n",
    "FS=7\n",
    "colormap = 'bone_r'"
   ]
  },
  {
   "cell_type": "code",
   "execution_count": 2,
   "id": "ff8f017a",
   "metadata": {},
   "outputs": [],
   "source": [
    "fdf1 = pd.read_hdf(\"../../../data/derived_data/WindyStatsTime_std.h5\")\n",
    "fdf2 = pd.read_hdf(\"../../../data/derived_data/NotWindyStatsTime_std.h5\")\n",
    "fdf3 = pd.read_hdf(\"../../../data/derived_data/ForestStatsTime_std.h5\")"
   ]
  },
  {
   "cell_type": "code",
   "execution_count": 5,
   "id": "9f1f79d9",
   "metadata": {},
   "outputs": [
    {
     "data": {
      "image/png": "[encoded data removed]",
      "text/plain": [
       "<Figure size 826.772x1169.29 with 6 Axes>"
      ]
     },
     "metadata": {},
     "output_type": "display_data"
    },
    {
     "data": {
      "image/png": "[encoded data removed]",
      "text/plain": [
       "<Figure size 826.772x1169.29 with 10 Axes>"
      ]
     },
     "metadata": {},
     "output_type": "display_data"
    }
   ],
   "source": [
    "layout = fifi.svg_to_axes.FigureLayout('../../../Figure/individualDatasetWhiffStat.svg',\n",
    "                                           autogenlayers=True, make_mplfigures=True, hide_layers=[])"
   ]
  },
  {
   "cell_type": "markdown",
   "id": "44cbdeb1",
   "metadata": {},
   "source": [
    "### Mean Concentration"
   ]
  },
  {
   "cell_type": "code",
   "execution_count": 4,
   "id": "c1094be7",
   "metadata": {},
   "outputs": [],
   "source": [
    "ax=layout.axes[('fig1','a')]\n",
    "\n",
    "ax.scatter(fdf1.log_avg_dist_from_source_signed, fdf1.mean_concentration, \n",
    "                    c=fdf1.mean_concentration, cmap=colormap,s=4, edgecolors='none', \n",
    "                 alpha=0.2, vmin=4, vmax=10, rasterized= True)\n",
    "ax.grid(False)\n",
    "\n",
    "ax.set_rasterization_zorder(-20)\n",
    "ax.set_ylabel('wc, a.u.')\n",
    "ax.yaxis.set_label_coords(-0.08, 0.5)\n",
    "mpl_functions.adjust_spines(ax,['left'],\n",
    "                            spine_locations={'left': 5}, \n",
    "                            smart_bounds=True,\n",
    "                            yticks=[4.5,10.5],\n",
    "                            linewidth=0.5)\n",
    "\n",
    "\n",
    "figurefirst.mpl_functions.set_fontsize(ax, FS)\n",
    "\n",
    "layout.append_figure_to_layer(layout.figures['fig1'], 'fig1', cleartarget=True)\n",
    "layout.write_svg('../../../Figure/individualDatasetWhiffStat.svg')"
   ]
  },
  {
   "cell_type": "code",
   "execution_count": 5,
   "id": "f7dd44f5",
   "metadata": {},
   "outputs": [],
   "source": [
    "ax=layout.axes[('fig1','b')]\n",
    "\n",
    "ax.scatter(fdf2.log_avg_dist_from_source_signed, fdf2.mean_concentration, \n",
    "                   c=fdf2.mean_concentration, cmap=colormap, s=4,\n",
    "            edgecolors='none', alpha=0.2, vmin=4, vmax=10,  rasterized=True)\n",
    "\n",
    "ax.grid(False)\n",
    "ax.set_rasterization_zorder(-20)\n",
    "\n",
    "mpl_functions.adjust_spines(ax,['none'],\n",
    "                            spine_locations={}, \n",
    "                            smart_bounds=True,\n",
    "                            yticks=[4.5,10.5],\n",
    "                            linewidth=1)\n",
    "\n",
    "\n",
    "figurefirst.mpl_functions.set_fontsize(ax, FS)\n",
    "\n",
    "layout.append_figure_to_layer(layout.figures['fig1'], 'fig1', cleartarget=True)\n",
    "layout.write_svg('../../../Figure/individualDatasetWhiffStat.svg')"
   ]
  },
  {
   "cell_type": "code",
   "execution_count": 6,
   "id": "b511886a",
   "metadata": {},
   "outputs": [],
   "source": [
    "ax=layout.axes[('fig1','c')]\n",
    "\n",
    "ax.scatter(fdf3.log_avg_dist_from_source_signed, fdf3.mean_concentration, \n",
    "                   c=fdf3.mean_concentration, cmap=colormap, s=4,\n",
    "            edgecolors='none', alpha=0.2, vmin=4, vmax=10,rasterized=True)\n",
    "\n",
    "ax.grid(False)\n",
    "ax.set_rasterization_zorder(-20)\n",
    "\n",
    "\n",
    "\n",
    "mpl_functions.adjust_spines(ax,['none'],\n",
    "                            spine_locations={}, \n",
    "                            smart_bounds=True,\n",
    "                            yticks=[4.5,10.5],\n",
    "                            linewidth=1)\n",
    "\n",
    "figurefirst.mpl_functions.set_fontsize(ax, FS)\n",
    "\n",
    "layout.append_figure_to_layer(layout.figures['fig1'], 'fig1', cleartarget=True)\n",
    "layout.write_svg('../../../Figure/individualDatasetWhiffStat.svg')"
   ]
  },
  {
   "cell_type": "markdown",
   "id": "7f7addc6",
   "metadata": {},
   "source": [
    "### Whiff Frequency"
   ]
  },
  {
   "cell_type": "code",
   "execution_count": 7,
   "id": "91935178",
   "metadata": {},
   "outputs": [],
   "source": [
    "ax=layout.axes[('fig1','d')]\n",
    "\n",
    "var1 = ax.scatter(fdf1.log_avg_dist_from_source_signed, fdf1.mean_ef, \n",
    "                   c=fdf1.mean_concentration, cmap=colormap, s=4,\n",
    "            edgecolors='none', alpha=0.2, vmin=4, vmax=10,rasterized=True)\n",
    "\n",
    "ax.grid(False)\n",
    "ax.set_rasterization_zorder(-20)\n",
    "ax.set_ylabel('wf, hz')\n",
    "ax.yaxis.set_label_coords(-0.08, 0.5)\n",
    "mpl_functions.adjust_spines(ax,['left'],\n",
    "                            spine_locations={'left': 5, 'bottom': 5}, \n",
    "                            smart_bounds=True,\n",
    "                            xticks=[-1,0,1,1.8],\n",
    "                            yticks=[0,9],\n",
    "                            linewidth=0.5)\n",
    "\n",
    "figurefirst.mpl_functions.set_fontsize(ax, FS)\n",
    "\n",
    "layout.append_figure_to_layer(layout.figures['fig1'], 'fig1', cleartarget=True)\n",
    "layout.write_svg('../../../Figure/individualDatasetWhiffStat.svg')"
   ]
  },
  {
   "cell_type": "code",
   "execution_count": 8,
   "id": "5e0a1dd5",
   "metadata": {},
   "outputs": [],
   "source": [
    "ax=layout.axes[('fig1','e')]\n",
    "\n",
    "var1 = ax.scatter(fdf2.log_avg_dist_from_source_signed, fdf2.mean_ef, \n",
    "                  c=fdf2.mean_concentration, cmap=colormap, s=4,\n",
    "            edgecolors='none', alpha=0.2, vmin=4, vmax=10,rasterized=True)\n",
    "\n",
    "\n",
    "\n",
    "ax.grid(False)\n",
    "ax.set_rasterization_zorder(-20)\n",
    "\n",
    "mpl_functions.adjust_spines(ax,['none'],\n",
    "                            spine_locations={}, \n",
    "                            smart_bounds=True,\n",
    "                            yticks=[4.5,10.5],\n",
    "                            linewidth=1)\n",
    "\n",
    "figurefirst.mpl_functions.set_fontsize(ax, FS)\n",
    "\n",
    "layout.append_figure_to_layer(layout.figures['fig1'], 'fig1', cleartarget=True)\n",
    "layout.write_svg('../../../Figure/individualDatasetWhiffStat.svg')\n"
   ]
  },
  {
   "cell_type": "code",
   "execution_count": 9,
   "id": "3871ea9a",
   "metadata": {},
   "outputs": [],
   "source": [
    "ax=layout.axes[('fig1','f')]\n",
    "\n",
    "var1 = ax.scatter(fdf3.log_avg_dist_from_source_signed, fdf3.mean_ef, \n",
    "                   c=fdf3.mean_concentration, cmap=colormap, s=4,\n",
    "            edgecolors='none', alpha=0.2, vmin=4, vmax=10,rasterized=True)\n",
    "\n",
    "ax.grid(False)\n",
    "ax.set_rasterization_zorder(-20)\n",
    "mpl_functions.adjust_spines(ax,['none'],\n",
    "                            spine_locations={}, \n",
    "                            smart_bounds=True,\n",
    "                            yticks=[4.5,10.5],\n",
    "                            linewidth=1)\n",
    "figurefirst.mpl_functions.set_fontsize(ax, FS)\n",
    "\n",
    "layout.append_figure_to_layer(layout.figures['fig1'], 'fig1', cleartarget=True)\n",
    "layout.write_svg('../../../Figure/individualDatasetWhiffStat.svg')\n"
   ]
  },
  {
   "cell_type": "markdown",
   "id": "692583b1",
   "metadata": {},
   "source": [
    "### Whiff Duration"
   ]
  },
  {
   "cell_type": "code",
   "execution_count": 10,
   "id": "5e46bd9a",
   "metadata": {},
   "outputs": [],
   "source": [
    "ax=layout.axes[('fig2','g')]\n",
    "\n",
    "var1 = ax.scatter(fdf1.log_avg_dist_from_source_signed, fdf1.log_whiff, \n",
    "                   c=fdf1.mean_concentration, cmap=colormap, s=4,\n",
    "            edgecolors='none', alpha=0.2, vmin=4, vmax=10,rasterized=True)\n",
    "\n",
    "ax.grid(False)\n",
    "ax.set_rasterization_zorder(-20)\n",
    "ax.set_ylabel('wd, s')\n",
    "ax.yaxis.set_label_coords(-0.08, 0.5)\n",
    "mpl_functions.adjust_spines(ax,['left'],\n",
    "                            spine_locations={'left': 5, 'bottom': 5}, \n",
    "                            smart_bounds=True,\n",
    "                            xticks=[-1,0,1,1.8],\n",
    "                            yticks=[-2.3,1.1],\n",
    "                            linewidth=0.5)\n",
    "\n",
    "ax.set_yticklabels([r'$10^{-2.3}$',r'$10^{-1.1}$'])\n",
    "\n",
    "\n",
    "figurefirst.mpl_functions.set_fontsize(ax, FS)\n",
    "\n",
    "layout.append_figure_to_layer(layout.figures['fig2'], 'fig2', cleartarget=True)\n",
    "layout.write_svg('../../../Figure/individualDatasetWhiffStat.svg')"
   ]
  },
  {
   "cell_type": "code",
   "execution_count": 11,
   "id": "c75b5ad6",
   "metadata": {},
   "outputs": [],
   "source": [
    "ax=layout.axes[('fig2','h')]\n",
    "\n",
    "ax.scatter(fdf2.log_avg_dist_from_source_signed, fdf2.log_whiff, \n",
    "                  c=fdf2.mean_concentration, cmap=colormap, s=4,\n",
    "            edgecolors='none', alpha=0.2, vmin=4, vmax=10,rasterized=True)\n",
    "\n",
    "\n",
    "ax.grid(False)\n",
    "ax.set_rasterization_zorder(-20)\n",
    "\n",
    "mpl_functions.adjust_spines(ax,['none'],\n",
    "                            spine_locations={}, \n",
    "                            smart_bounds=True,\n",
    "                            yticks=[4.5,10.5],\n",
    "                            linewidth=1)\n",
    "\n",
    "figurefirst.mpl_functions.set_fontsize(ax, FS)\n",
    "\n",
    "layout.append_figure_to_layer(layout.figures['fig2'], 'fig2', cleartarget=True)\n",
    "layout.write_svg('../../../Figure/individualDatasetWhiffStat.svg')"
   ]
  },
  {
   "cell_type": "code",
   "execution_count": 12,
   "id": "74ba097a",
   "metadata": {},
   "outputs": [],
   "source": [
    "ax=layout.axes[('fig2','i')]\n",
    "\n",
    "ax.scatter(fdf3.log_avg_dist_from_source_signed, fdf3.log_whiff, \n",
    "                   c=fdf3.mean_concentration, cmap=colormap, s=4,\n",
    "            edgecolors='none', alpha=0.2, vmin=4, vmax=10,rasterized=True)\n",
    "\n",
    "# g1 = sns.regplot(x=\"log_avg_dist_from_source_signed\",y=\"mean_ef\", data=fdf3, \n",
    "#             ax=ax1, line_kws={'color':'red','linewidth':1}, scatter=False, truncate=False)\n",
    "# g1.set(xlabel=None, ylabel=None)\n",
    "ax.grid(False)\n",
    "ax.set_rasterization_zorder(-20)\n",
    "mpl_functions.adjust_spines(ax,['none'],\n",
    "                            spine_locations={}, \n",
    "                            smart_bounds=True,\n",
    "                            yticks=[4.5,10.5],\n",
    "                            linewidth=1)\n",
    "figurefirst.mpl_functions.set_fontsize(ax, FS)\n",
    "\n",
    "layout.append_figure_to_layer(layout.figures['fig2'], 'fig2', cleartarget=True)\n",
    "layout.write_svg('../../../Figure/individualDatasetWhiffStat.svg')"
   ]
  },
  {
   "cell_type": "markdown",
   "id": "1882c1cc",
   "metadata": {},
   "source": [
    "### Whiff Moving Average"
   ]
  },
  {
   "cell_type": "code",
   "execution_count": 13,
   "id": "c64e9d58",
   "metadata": {},
   "outputs": [],
   "source": [
    "ax=layout.axes[('fig2','j')]\n",
    "\n",
    "var1 = ax.scatter(fdf1.log_avg_dist_from_source_signed, fdf1.whiff_ma, \n",
    "                   c=fdf1.mean_concentration, cmap=colormap, s=4,\n",
    "            edgecolors='none', alpha=0.2, vmin=4, vmax=10,rasterized=True)\n",
    "\n",
    "ax.grid(False)\n",
    "ax.set_rasterization_zorder(-20)\n",
    "ax.set_ylabel('wma, a.u.')\n",
    "ax.yaxis.set_label_coords(-0.08, 0.5)\n",
    "mpl_functions.adjust_spines(ax,['left'],\n",
    "                            spine_locations={'left': 5, 'bottom': 5}, \n",
    "                            smart_bounds=True,\n",
    "                            xticks=[-1,0,1,1.8],\n",
    "                            yticks=[0.5,10.5],\n",
    "                            linewidth=0.5)\n",
    "\n",
    "# ax.set_yticklabels([r'$10^{-2.3}$',r'$10^{-1.1}$'])\n",
    "\n",
    "\n",
    "figurefirst.mpl_functions.set_fontsize(ax, FS)\n",
    "\n",
    "layout.append_figure_to_layer(layout.figures['fig2'], 'fig2', cleartarget=True)\n",
    "layout.write_svg('../../../Figure/individualDatasetWhiffStat.svg')"
   ]
  },
  {
   "cell_type": "code",
   "execution_count": 14,
   "id": "84d7f324",
   "metadata": {},
   "outputs": [],
   "source": [
    "ax=layout.axes[('fig2','k')]\n",
    "\n",
    "ax.scatter(fdf2.log_avg_dist_from_source_signed, fdf2.whiff_ma, \n",
    "                  c=fdf2.mean_concentration, cmap=colormap, s=4,\n",
    "            edgecolors='none', alpha=0.2, vmin=4, vmax=10,rasterized=True)\n",
    "\n",
    "\n",
    "ax.grid(False)\n",
    "ax.set_rasterization_zorder(-20)\n",
    "\n",
    "mpl_functions.adjust_spines(ax,['none'],\n",
    "                            spine_locations={}, \n",
    "                            smart_bounds=True,\n",
    "                            yticks=[4.5,10.5],\n",
    "                            linewidth=1)\n",
    "\n",
    "figurefirst.mpl_functions.set_fontsize(ax, FS)\n",
    "\n",
    "layout.append_figure_to_layer(layout.figures['fig2'], 'fig2', cleartarget=True)\n",
    "layout.write_svg('../../../Figure/individualDatasetWhiffStat.svg')"
   ]
  },
  {
   "cell_type": "code",
   "execution_count": 15,
   "id": "10e52df0",
   "metadata": {},
   "outputs": [],
   "source": [
    "ax=layout.axes[('fig2','l')]\n",
    "\n",
    "ax.scatter(fdf3.log_avg_dist_from_source_signed, fdf3.whiff_ma, \n",
    "                   c=fdf3.mean_concentration, cmap=colormap, s=4,\n",
    "            edgecolors='none', alpha=0.2, vmin=4, vmax=10,rasterized=True)\n",
    "\n",
    "ax.grid(False)\n",
    "ax.set_rasterization_zorder(-20)\n",
    "mpl_functions.adjust_spines(ax,['none'],\n",
    "                            spine_locations={}, \n",
    "                            smart_bounds=True,\n",
    "                            yticks=[4.5,10.5],\n",
    "                            linewidth=1)\n",
    "figurefirst.mpl_functions.set_fontsize(ax, FS)\n",
    "\n",
    "layout.append_figure_to_layer(layout.figures['fig2'], 'fig2', cleartarget=True)\n",
    "layout.write_svg('../../../Figure/individualDatasetWhiffStat.svg')"
   ]
  },
  {
   "cell_type": "markdown",
   "id": "8b656a2b",
   "metadata": {},
   "source": [
    "### Whiff Standard deviation"
   ]
  },
  {
   "cell_type": "code",
   "execution_count": 16,
   "id": "e977be2e",
   "metadata": {},
   "outputs": [],
   "source": [
    "ax=layout.axes[('fig2','m')]\n",
    "\n",
    "var1 = ax.scatter(fdf1.log_avg_dist_from_source_signed, fdf1.std_whiff, \n",
    "                   c=fdf1.mean_concentration, cmap=colormap, s=4,\n",
    "            edgecolors='none', alpha=0.2, vmin=4, vmax=10,rasterized=True)\n",
    "\n",
    "ax.grid(False)\n",
    "\n",
    "ax.set_rasterization_zorder(-20)\n",
    "ax.set_ylabel('wsd, a.u.')\n",
    "ax.yaxis.set_label_coords(-0.08, 0.5)\n",
    "ax.set_xlabel('Distance from\\nSource, m')\n",
    "ax.xaxis.set_label_coords(0.5, -0.3)\n",
    "\n",
    "\n",
    "mpl_functions.adjust_spines(ax,['left','bottom'],\n",
    "                            spine_locations={'left': 5, 'bottom': 5}, \n",
    "                            smart_bounds=True,\n",
    "                            xticks=[-1,0,1,1.8],\n",
    "                            yticks=[0,2.5],\n",
    "                            linewidth=0.5)\n",
    "\n",
    "ax.set_xticklabels([r'$10^{-1}$',r'$10^{0}$', r'$10^{1}$',r'$10^{1.8}$'])\n",
    "\n",
    "figurefirst.mpl_functions.set_fontsize(ax, FS)\n",
    "\n",
    "layout.append_figure_to_layer(layout.figures['fig2'], 'fig2', cleartarget=True)\n",
    "layout.write_svg('../../../Figure/individualDatasetWhiffStat.svg')"
   ]
  },
  {
   "cell_type": "code",
   "execution_count": 17,
   "id": "4fdf3037",
   "metadata": {},
   "outputs": [],
   "source": [
    "ax=layout.axes[('fig2','n')]\n",
    "\n",
    "ax.scatter(fdf2.log_avg_dist_from_source_signed, fdf2.std_whiff, \n",
    "                  c=fdf2.mean_concentration, cmap=colormap, s=4,\n",
    "            edgecolors='none', alpha=0.2, vmin=4, vmax=10,rasterized=True)\n",
    "\n",
    "ax.grid(False)\n",
    "\n",
    "ax.set_rasterization_zorder(-20)\n",
    "\n",
    "mpl_functions.adjust_spines(ax,['none'],\n",
    "                            spine_locations={}, \n",
    "                            smart_bounds=True,\n",
    "                            yticks=[4.5,10.5],\n",
    "                            linewidth=1)\n",
    "\n",
    "figurefirst.mpl_functions.set_fontsize(ax, FS)\n",
    "\n",
    "layout.append_figure_to_layer(layout.figures['fig2'], 'fig2', cleartarget=True)\n",
    "layout.write_svg('../../../Figure/individualDatasetWhiffStat.svg')"
   ]
  },
  {
   "cell_type": "code",
   "execution_count": 18,
   "id": "73935240",
   "metadata": {},
   "outputs": [],
   "source": [
    "ax=layout.axes[('fig2','o')]\n",
    "\n",
    "ax.scatter(fdf3.log_avg_dist_from_source_signed, fdf3.std_whiff, \n",
    "                   c=fdf3.mean_concentration, cmap=colormap, s=4,\n",
    "            edgecolors='none', alpha=0.2, vmin=4, vmax=10,rasterized=True)\n",
    "\n",
    "\n",
    "ax.grid(False)\n",
    "ax.set_rasterization_zorder(-20)\n",
    "mpl_functions.adjust_spines(ax,['none'],\n",
    "                            spine_locations={}, \n",
    "                            smart_bounds=True,\n",
    "                            yticks=[4.5,10.5],\n",
    "                            linewidth=1)\n",
    "figurefirst.mpl_functions.set_fontsize(ax, FS)\n",
    "\n",
    "layout.append_figure_to_layer(layout.figures['fig2'], 'fig2', cleartarget=True)\n",
    "layout.write_svg('../../../Figure/individualDatasetWhiffStat.svg')"
   ]
  },
  {
   "cell_type": "markdown",
   "id": "a757d124",
   "metadata": {},
   "source": [
    "### Colorbar"
   ]
  },
  {
   "cell_type": "code",
   "execution_count": 19,
   "id": "7467921c",
   "metadata": {},
   "outputs": [],
   "source": [
    "ax = layout.axes[('fig2', 'cbar1')]\n",
    "ytic=[4.5,11]\n",
    "\n",
    "fpl.colorbar(ax=ax, colormap=colormap, orientation='vertical',ticks=ytic)\n",
    "ax.set_rasterization_zorder(-20)\n",
    "mpl_functions.adjust_spines(ax, ['left'], \n",
    "                                    smart_bounds=True,\n",
    "                                    spine_locations={'left': 0.5}, \n",
    "                                    yticks=ytic,\n",
    "                                    tick_length=1.5,\n",
    "                                    linewidth=0.5)\n",
    "\n",
    "ax.set_ylabel(\"wc, a.u.\",rotation=90, labelpad=-14)\n",
    "\n",
    "ax.set_yticklabels(['4.5', '10'])\n",
    "figurefirst.mpl_functions.set_fontsize(ax, FS)\n",
    "\n",
    "layout.append_figure_to_layer(layout.figures['fig2'], 'fig2', cleartarget=True)\n",
    "layout.write_svg('../../../Figure/individualDatasetWhiffStat.svg')"
   ]
  },
  {
   "cell_type": "code",
   "execution_count": null,
   "id": "b178b9c5",
   "metadata": {},
   "outputs": [],
   "source": []
  }
 ],
 "metadata": {
  "kernelspec": {
   "display_name": "vscode38kernel",
   "language": "python",
   "name": "pywork38"
  },
  "language_info": {
   "codemirror_mode": {
    "name": "ipython",
    "version": 3
   },
   "file_extension": ".py",
   "mimetype": "text/x-python",
   "name": "python",
   "nbconvert_exporter": "python",
   "pygments_lexer": "ipython3",
   "version": "3.8.10"
  }
 },
 "nbformat": 4,
 "nbformat_minor": 5
}
