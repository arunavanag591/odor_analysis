{
 "cells": [
  {
   "cell_type": "code",
   "execution_count": 2,
   "metadata": {},
   "outputs": [],
   "source": [
    "#dataframes\n",
    "import pandas as pd\n",
    "import numpy as np\n",
    "#suppress warnings\n",
    "import warnings\n",
    "warnings.simplefilter(action='ignore', category=FutureWarning)\n",
    "pd.TimeSeries = pd.Series \n",
    "\n",
    "#plots\n",
    "import matplotlib.pyplot as plt\n",
    "\n",
    "import seaborn as sns\n",
    "import matplotlib.patches as mpatches\n",
    "from figurefirst import FigureLayout,mpl_functions\n",
    "import figurefirst as fifi\n",
    "\n",
    "\n",
    "import fly_plot_lib.plot as fpl\n",
    "FS=7\n"
   ]
  },
  {
   "cell_type": "code",
   "execution_count": 3,
   "metadata": {},
   "outputs": [],
   "source": [
    "dir = '../../../data/'\n",
    "val=pd.read_hdf(dir+'aic_filtered_model_params.h5')\n",
    "std_wind_dir = np.array([8.17,27.03,44.94])"
   ]
  },
  {
   "cell_type": "code",
   "execution_count": 4,
   "metadata": {},
   "outputs": [
    {
     "data": {
      "image/png": "[encoded data removed]",
      "text/plain": [
       "<Figure size 826.772x1169.29 with 1 Axes>"
      ]
     },
     "metadata": {},
     "output_type": "display_data"
    }
   ],
   "source": [
    "layout = fifi.svg_to_axes.FigureLayout('../../../Figure/windAicParams.svg',\n",
    "                                           autogenlayers=True, make_mplfigures=True, hide_layers=[])"
   ]
  },
  {
   "cell_type": "code",
   "execution_count": 10,
   "metadata": {},
   "outputs": [],
   "source": [
    "ax=layout.axes[('fig','ax')]\n",
    "\n",
    "ax.grid(False)\n",
    "# xaxis=np.array([0,0.5,1])\n",
    "ax.plot(std_wind_dir,val.transpose().iloc[0].values,c='b',label='intercept', rasterized=True)\n",
    "ax.plot(std_wind_dir,val.transpose().iloc[1].values,c='g',label='$\\mu(WC)$', rasterized=True)\n",
    "ax.plot(std_wind_dir,val.transpose().iloc[2].values,c='r',label='$\\sigma(WMA)$', rasterized=True)\n",
    "ax.plot(std_wind_dir,val.transpose().iloc[3].values,c='black',label='$max(WMA)$', rasterized=True)\n",
    "ax.plot(std_wind_dir,val.transpose().iloc[4].values,c='purple',label='$\\sigma(WD)$', rasterized=True)\n",
    "\n",
    "ax.set_rasterization_zorder(-20)\n",
    "ax.grid(False)\n",
    "ax.set_ylabel('Model Co-efficients')\n",
    "ax.set_xlabel('$\\mu(\\sigma$(Wind Direction)), degrees')\n",
    "\n",
    "mpl_functions.adjust_spines(ax,['left','bottom'],\n",
    "                            spine_locations={'left': 5, 'bottom': 5}, \n",
    "                            smart_bounds=True,   \n",
    "                            xticks=std_wind_dir,\n",
    "                            yticks=[-10,40,100],\n",
    "                            linewidth=0.5)\n",
    "\n",
    "ax.set_xticklabels(['HWS=8.17','LWS=27.04','Forest=44.95'],rotation=0)\n",
    "\n",
    "ax.legend(loc='upper right')\n",
    "\n",
    "\n",
    "# f.savefig('../../Figure/TiWindSpeedR2WD.jpeg', dpi=300, bbox_inches = \"tight\")\n",
    "\n",
    "mpl_functions.set_fontsize(ax, FS)\n",
    "layout.append_figure_to_layer(layout.figures['fig'], 'fig', cleartarget=True)\n",
    "layout.write_svg('../../../Figure/windAicParams.svg')"
   ]
  },
  {
   "cell_type": "code",
   "execution_count": null,
   "metadata": {},
   "outputs": [],
   "source": []
  }
 ],
 "metadata": {
  "kernelspec": {
   "display_name": "vscode38kernel",
   "language": "python",
   "name": "pywork38"
  },
  "language_info": {
   "codemirror_mode": {
    "name": "ipython",
    "version": 3
   },
   "file_extension": ".py",
   "mimetype": "text/x-python",
   "name": "python",
   "nbconvert_exporter": "python",
   "pygments_lexer": "ipython3",
   "version": "3.8.10"
  }
 },
 "nbformat": 4,
 "nbformat_minor": 2
}
