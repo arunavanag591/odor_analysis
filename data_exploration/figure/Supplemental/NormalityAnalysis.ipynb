{
 "cells": [
  {
   "cell_type": "code",
   "execution_count": 47,
   "id": "c77ee21a",
   "metadata": {},
   "outputs": [],
   "source": [
    "#dataframes\n",
    "import pandas as pd\n",
    "import h5py\n",
    "\n",
    "import sys\n",
    "sys.path.append('../../')\n",
    "import odor_statistics_lib as osm\n",
    "\n",
    "# user defined functions\n",
    "\n",
    "#speedup\n",
    "import multiprocessing as mp\n",
    "\n",
    "#suppress warnings\n",
    "import warnings\n",
    "warnings.simplefilter(action='ignore', category=FutureWarning)\n",
    "pd.TimeSeries = pd.Series \n",
    "\n",
    "#math\n",
    "import numpy as np\n",
    "import math\n",
    "import statsmodels.api as sm\n",
    "import statsmodels.formula.api as smf\n",
    "from scipy import signal\n",
    "import scipy \n",
    "from scipy.stats import kurtosis\n",
    "from scipy import stats\n",
    "\n",
    "#plots\n",
    "import pylab as plt\n",
    "import matplotlib.pyplot as plt\n",
    "from matplotlib.ticker import MaxNLocator\n",
    "import matplotlib\n",
    "from figurefirst import FigureLayout,mpl_functions\n",
    "import figurefirst\n",
    "import matplotlib.image as mpimg\n",
    "from mpl_toolkits.axes_grid1 import make_axes_locatable # for colorbar\n",
    "import seaborn as sns\n",
    "sns.set()\n",
    "sns.set_style(\"whitegrid\")\n",
    "import figurefirst as fifi\n",
    "from IPython.display import display,SVG\n",
    "\n",
    "\n",
    "\n",
    "#misc\n",
    "import cairosvg\n",
    "import time\n",
    "np.set_printoptions(suppress=True)\n",
    "import fly_plot_lib.plot as fpl\n",
    "# matplotlib.rcParams['font.family'] = [ 'sans-serif']\n",
    "FS=7"
   ]
  },
  {
   "cell_type": "code",
   "execution_count": 3,
   "id": "53beea09",
   "metadata": {},
   "outputs": [],
   "source": [
    "dir='~/DataAnalysis/data/Sprints/HighRes/'\n",
    "fdf1 = pd.read_hdf(dir+\"NotWindy/NotWindyStatsTime_std.h5\")\n",
    "fdf2 = pd.read_hdf(dir+\"Windy/WindyStatsTime_std.h5\")\n",
    "fdf3 = pd.read_hdf(dir+\"Forest/ForestStatsTime_std.h5\")\n",
    "\n",
    "fdf = pd.concat([fdf1,fdf2,fdf3])\n",
    "fdf.reset_index(inplace=True, drop=True)"
   ]
  },
  {
   "cell_type": "code",
   "execution_count": 7,
   "id": "b2f17034",
   "metadata": {},
   "outputs": [
    {
     "data": {
      "text/plain": [
       "Index(['avg_dist_from_source', 'log_avg_dist_from_source', 'avg_xsign',\n",
       "       'avg_dist_from_streakline', 'log_avg_dist_from_source_signed',\n",
       "       'mean_concentration', 'avg_parallel_encounter',\n",
       "       'avg_perpendicular_encounter', 'avg_parallel_intermittency',\n",
       "       'avg_perpendicular_intermittency', 'length_of_encounter',\n",
       "       'odor_intermittency', 'log_whiff', 'log_blank',\n",
       "       'speed_at_intermittency', 'speed_at_encounter', 'mean_ef', 'mean_ma',\n",
       "       'mean_time', 'type', 'std_whiff', 'whiff_ma'],\n",
       "      dtype='object')"
      ]
     },
     "execution_count": 7,
     "metadata": {},
     "output_type": "execute_result"
    }
   ],
   "source": [
    "fdf.keys()"
   ]
  },
  {
   "cell_type": "code",
   "execution_count": 10,
   "id": "b9c0267d",
   "metadata": {},
   "outputs": [],
   "source": [
    "dat=fdf\n",
    "\n",
    "whiff_frequency=smf.ols(formula='mean_ef ~ (avg_perpendicular_encounter) + (avg_parallel_encounter)', data=dat).fit()\n",
    "whiff_duration=smf.ols(formula='log_whiff~ (avg_perpendicular_encounter) + (avg_parallel_encounter)', data=dat).fit()\n",
    "moving_avg = smf.ols(formula='mean_ma ~ (avg_perpendicular_encounter) + (avg_parallel_encounter)', data=dat).fit()\n",
    "mc = smf.ols(formula='mean_concentration ~ (avg_perpendicular_encounter) + (avg_parallel_encounter)', data=dat).fit()\n",
    "wsd_ = smf.ols(formula='std_whiff ~ (avg_perpendicular_encounter) + (avg_parallel_encounter)', data=dat).fit()\n",
    "\n",
    "\n",
    "dat['wf']=whiff_frequency.resid\n",
    "dat['wd'] = whiff_duration.resid\n",
    "dat['wma'] = moving_avg.resid\n",
    "dat['wc'] = mc.resid\n",
    "dat['wsd']=wsd_.resid\n",
    "    \n",
    "distance=smf.ols(formula='log_avg_dist_from_source_signed~ wc + wd+wf  + wsd + wma', data=dat).fit()\n",
    "# print(distance.summary())    "
   ]
  },
  {
   "cell_type": "markdown",
   "id": "e926f2e9",
   "metadata": {},
   "source": [
    "### Normality Analysis"
   ]
  },
  {
   "cell_type": "code",
   "execution_count": 13,
   "id": "a0f58bd4",
   "metadata": {},
   "outputs": [
    {
     "data": {
      "text/plain": [
       "[('Jarque-Bera', 228.74880014829918),\n",
       " ('Chi^2 two-tail prob.', 2.1273021391219935e-50),\n",
       " ('Skew', -0.3146936258100958),\n",
       " ('Kurtosis', 3.295921595858204)]"
      ]
     },
     "execution_count": 13,
     "metadata": {},
     "output_type": "execute_result"
    }
   ],
   "source": [
    "import statsmodels.stats.api as sms\n",
    "from statsmodels.compat import lzip\n",
    "name = [\"Jarque-Bera\", \"Chi^2 two-tail prob.\", \"Skew\", \"Kurtosis\"]\n",
    "test = sms.jarque_bera(distance.resid)\n",
    "lzip(name, test)"
   ]
  },
  {
   "cell_type": "markdown",
   "id": "0fa18dce",
   "metadata": {},
   "source": [
    "### Breusch Pagan Test\n",
    "more about BP Test: https://stats.stackexchange.com/questions/155495/what-is-criterion-for-breusch-pagan-test"
   ]
  },
  {
   "cell_type": "code",
   "execution_count": 14,
   "id": "8c8fe6ea",
   "metadata": {},
   "outputs": [
    {
     "data": {
      "text/plain": [
       "[('Lagrange multiplier statistic', 98.78135056898329),\n",
       " ('p-value', 9.546739162602587e-20),\n",
       " ('f-value', 19.91918699244569),\n",
       " ('f p-value', 7.889446756269834e-20)]"
      ]
     },
     "execution_count": 14,
     "metadata": {},
     "output_type": "execute_result"
    }
   ],
   "source": [
    "name = [\"Lagrange multiplier statistic\", \"p-value\", \"f-value\", \"f p-value\"]\n",
    "test = sms.het_breuschpagan(distance.resid, distance.model.exog)\n",
    "lzip(name, test)"
   ]
  },
  {
   "cell_type": "markdown",
   "id": "4333829d",
   "metadata": {},
   "source": [
    "### Diagnostic plots\n",
    "\n",
    "Let's check that the assumptions of the model have not been violated. Specifically, we look to see:\n",
    "\n",
    "* the residuals are well distributed (standardized residuals vs predicted)\n",
    "* the residuals follow a normal distribution (shapiro-wilks test) since we are using a linear model, not generalized\n",
    "* check the heteroscedasticity (Q-Q plot)\n",
    "* the variance is not a function of the output (observed vs predicted)\n",
    "As with the $R^2$ situation, we will look at predictions and residuals that include the fixed and random effects, or only the fixed, since we are using a mixed effects linear model.\n",
    "\n",
    "Some useful stuff:\n",
    "\n",
    "https://www.qualtrics.com/support/stats-iq/analyses/regression-guides/interpreting-residual-plots-improve-regression/"
   ]
  },
  {
   "cell_type": "code",
   "execution_count": 68,
   "id": "ef667390",
   "metadata": {},
   "outputs": [
    {
     "data": {
      "image/png": "[encoded data removed]",
      "text/plain": [
       "<Figure size 595.276x841.89 with 4 Axes>"
      ]
     },
     "metadata": {},
     "output_type": "display_data"
    }
   ],
   "source": [
    "layout = fifi.svg_to_axes.FigureLayout('../../../../Figure/normalityAnalysis.svg',\n",
    "                                           autogenlayers=True, make_mplfigures=True, hide_layers=[])"
   ]
  },
  {
   "cell_type": "markdown",
   "id": "e79be78a",
   "metadata": {},
   "source": [
    "### Actual vs Predicted\n",
    "\n",
    "The scatter data should fall evenly around the red line, without any major patterns.\n"
   ]
  },
  {
   "cell_type": "code",
   "execution_count": 69,
   "id": "8b542636",
   "metadata": {},
   "outputs": [],
   "source": [
    "ax=layout.axes[('fig1','ax1')]\n",
    "b, a = np.polyfit(distance.fittedvalues,fdf.log_avg_dist_from_source_signed, deg=1)\n",
    "xseq = np.linspace(.3, 1.5, num=100)\n",
    "\n",
    "# Plot regression line\n",
    "ax.plot(xseq, a + b * xseq, color=\"r\", lw=1, rasterized=True);\n",
    "ax.scatter(distance.fittedvalues, fdf.log_avg_dist_from_source_signed,\n",
    "           s=4,color='b',rasterized=True)\n",
    "\n",
    "\n",
    "ax.grid(False)\n",
    "ax.set_rasterization_zorder(-20)\n",
    "\n",
    "ax.set_xlabel('Predicted DFS')\n",
    "ax.xaxis.set_label_coords(0.45, -.05)\n",
    "ax.set_ylabel('Log (Measured DFS)')\n",
    "ax.yaxis.set_label_coords(-0.06, 0.5)\n",
    "\n",
    "mpl_functions.adjust_spines(ax,['left','bottom'],\n",
    "                            spine_locations={'left': 5, 'bottom': 5}, \n",
    "                            smart_bounds=True,\n",
    "                            xticks=[0.2,1.4],\n",
    "                            yticks=[-1,2],\n",
    "                            linewidth=0.5)\n",
    "\n",
    "\n",
    "figurefirst.mpl_functions.set_fontsize(ax, FS)\n",
    "\n",
    "layout.append_figure_to_layer(layout.figures['fig1'], 'fig1', cleartarget=True)\n",
    "layout.write_svg('../../../../Figure/normalityAnalysis.svg')\n"
   ]
  },
  {
   "cell_type": "markdown",
   "id": "bd8a1488",
   "metadata": {},
   "source": [
    "### Standardized residuals\n",
    "Standardized residuals = (observed - expected) / std_dev(expected)\n",
    "\n",
    "The scatter should be evenly distributed around the red line, without any obvious patterns, like growing or shrinking residuals as a function of predicted value."
   ]
  },
  {
   "cell_type": "code",
   "execution_count": 70,
   "id": "1ae4f4bd",
   "metadata": {},
   "outputs": [],
   "source": [
    "ax=layout.axes[('fig1','ax2')]\n",
    "\n",
    "standardized_residuals = (fdf.log_avg_dist_from_source_signed - distance.fittedvalues) / np.std(distance.fittedvalues)\n",
    "b, a = np.polyfit(distance.fittedvalues, standardized_residuals, deg=1)\n",
    "xseq = np.linspace(.3, 1.5, num=100)\n",
    "\n",
    "\n",
    "ax.plot(xseq, a + b * xseq, color=\"r\", lw=1, rasterized=True);\n",
    "ax.scatter(distance.fittedvalues, standardized_residuals,s=4,color='b',rasterized=True)\n",
    "# ax.set_xlim(,1.2)\n",
    "ax.grid(False)\n",
    "ax.set_rasterization_zorder(-20)\n",
    "\n",
    "\n",
    "ax.set_xlabel('Predicted DFS')\n",
    "ax.xaxis.set_label_coords(0.45, -.05)\n",
    "ax.set_ylabel('Standardized Residuals')\n",
    "ax.yaxis.set_label_coords(-0.06, 0.5)\n",
    "\n",
    "mpl_functions.adjust_spines(ax,['left','bottom'],\n",
    "                            spine_locations={'left': 5, 'bottom': 5}, \n",
    "                            smart_bounds=True,\n",
    "                            xticks=[0.2,1.4],\n",
    "                            yticks=[-15,10],\n",
    "                            linewidth=0.5)\n",
    "\n",
    "\n",
    "figurefirst.mpl_functions.set_fontsize(ax, FS)\n",
    "\n",
    "layout.append_figure_to_layer(layout.figures['fig1'], 'fig1', cleartarget=True)\n",
    "layout.write_svg('../../../../Figure/normalityAnalysis.svg')"
   ]
  },
  {
   "cell_type": "markdown",
   "id": "302c3270",
   "metadata": {},
   "source": [
    "### Residual Analysis\n",
    "\n",
    "### Q-Q plot\n",
    "The scatter should follow the red line, especially in the middle. Looks pretty good here. The plots shows there is a central peak in distribution"
   ]
  },
  {
   "cell_type": "code",
   "execution_count": 76,
   "id": "2b8aa6a2",
   "metadata": {},
   "outputs": [],
   "source": [
    "ax=layout.axes[('fig1','ax3')]\n",
    "\n",
    "stats.probplot(distance.resid,plot=ax)\n",
    "\n",
    "\n",
    "ax.grid(False)\n",
    "ax.set_rasterization_zorder(-20)\n",
    "ax.set_rasterization_zorder(-20)\n",
    "\n",
    "ax.set_xlabel('Theoretical Quantiles')\n",
    "ax.xaxis.set_label_coords(0.45, -.05)\n",
    "ax.set_ylabel('Ordered Values')\n",
    "ax.yaxis.set_label_coords(-0.06, 0.5)\n",
    "\n",
    "mpl_functions.adjust_spines(ax,['left','bottom'],\n",
    "                            spine_locations={'left': 5, 'bottom': 5}, \n",
    "                            smart_bounds=True,\n",
    "                            xticks=[-4,4],\n",
    "                            yticks=[-1.6,1.6],\n",
    "                            linewidth=0.5)\n",
    "\n",
    "\n",
    "ax.set_title('')\n",
    "figurefirst.mpl_functions.set_fontsize(ax, FS)\n",
    "\n",
    "layout.append_figure_to_layer(layout.figures['fig1'], 'fig1', cleartarget=True)\n",
    "layout.write_svg('../../../../Figure/normalityAnalysis.svg')"
   ]
  },
  {
   "cell_type": "markdown",
   "id": "e6d8db7b",
   "metadata": {},
   "source": [
    "### Normality of residuals\n",
    "The residuals should be normally distributed in this case, because we are using a linear model that assumes that the residuals are going to be normally distributed.\n",
    "\n",
    "Not ideal here, there seem to be more small residuals than a normal distribution would predict.\n",
    "\n",
    "** for hist plots density=True represents the frequency distribution\n",
    "\n",
    "density=False represents the probability density distribution"
   ]
  },
  {
   "cell_type": "code",
   "execution_count": 75,
   "id": "49f3d9a9",
   "metadata": {},
   "outputs": [],
   "source": [
    "ax=layout.axes[('fig1','ax4')]\n",
    "\n",
    "ax.hist(standardized_residuals, density=True,color='b', stacked=True,rasterized=True)\n",
    "\n",
    "rv = stats.norm(0, np.std(standardized_residuals))\n",
    "x = np.linspace(-25,25,100)\n",
    "pdf = rv.pdf(x)\n",
    "\n",
    "ax.plot(x, pdf, color='red',lw=1,rasterized=True)\n",
    "\n",
    "ax.grid(False)\n",
    "\n",
    "ax.set_rasterization_zorder(-20)\n",
    "ax.set_xlabel('Standardized Residuals')\n",
    "ax.xaxis.set_label_coords(0.45, -.05)\n",
    "ax.set_ylabel('Occurences')\n",
    "ax.yaxis.set_label_coords(-0.06, 0.5)\n",
    "\n",
    "mpl_functions.adjust_spines(ax,['left','bottom'],\n",
    "                            spine_locations={'left': 5, 'bottom': 5}, \n",
    "                            smart_bounds=True,\n",
    "                            xticks=[-20,20],\n",
    "                            yticks=[0,0.16],\n",
    "                            linewidth=0.5)\n",
    "\n",
    "\n",
    "# ax.set_title('ProbPlot of Regression Residuals')\n",
    "figurefirst.mpl_functions.set_fontsize(ax, FS)\n",
    "\n",
    "layout.append_figure_to_layer(layout.figures['fig1'], 'fig1', cleartarget=True)\n",
    "layout.write_svg('../../../../Figure/normalityAnalysis.svg')"
   ]
  },
  {
   "cell_type": "code",
   "execution_count": null,
   "id": "bc0d5b4f",
   "metadata": {},
   "outputs": [],
   "source": []
  }
 ],
 "metadata": {
  "kernelspec": {
   "display_name": "Python 3 (ipykernel)",
   "language": "python",
   "name": "python3"
  },
  "language_info": {
   "codemirror_mode": {
    "name": "ipython",
    "version": 3
   },
   "file_extension": ".py",
   "mimetype": "text/x-python",
   "name": "python",
   "nbconvert_exporter": "python",
   "pygments_lexer": "ipython3",
   "version": "3.8.10"
  }
 },
 "nbformat": 4,
 "nbformat_minor": 5
}
