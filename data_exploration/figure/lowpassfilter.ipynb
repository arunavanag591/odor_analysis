{
 "cells": [
  {
   "cell_type": "code",
   "execution_count": 1,
   "id": "a436463d",
   "metadata": {},
   "outputs": [],
   "source": [
    "#dataframes\n",
    "import pandas as pd\n",
    "import h5py\n",
    "\n",
    "import sys\n",
    "sys.path.append('../')\n",
    "import odor_statistics_lib as osm\n",
    "\n",
    "# user defined functions\n",
    "\n",
    "#speedup\n",
    "import multiprocessing as mp\n",
    "\n",
    "#suppress warnings\n",
    "import warnings\n",
    "warnings.simplefilter(action='ignore', category=FutureWarning)\n",
    "pd.TimeSeries = pd.Series \n",
    "\n",
    "#math\n",
    "import numpy as np\n",
    "import math\n",
    "import statsmodels.api as sm\n",
    "import statsmodels.formula.api as smf\n",
    "from scipy import signal\n",
    "import scipy \n",
    "import scipy.stats as st\n",
    "from scipy.stats import kurtosis\n",
    "\n",
    "#plots\n",
    "import pylab as plt\n",
    "import matplotlib.pyplot as plt\n",
    "from matplotlib.ticker import MaxNLocator\n",
    "import matplotlib\n",
    "from figurefirst import FigureLayout,mpl_functions\n",
    "import figurefirst\n",
    "import matplotlib.image as mpimg\n",
    "from mpl_toolkits.axes_grid1 import make_axes_locatable # for colorbar\n",
    "import seaborn as sns\n",
    "sns.set()\n",
    "sns.set_style(\"whitegrid\")\n",
    "import figurefirst as fifi\n",
    "\n",
    "#misc\n",
    "\n",
    "np.set_printoptions(suppress=True)\n",
    "import fly_plot_lib.plot as fpl\n",
    "# matplotlib.rcParams['font.family'] = [ 'sans-serif']\n",
    "FS=7"
   ]
  },
  {
   "cell_type": "code",
   "execution_count": 2,
   "id": "8fe88e81",
   "metadata": {},
   "outputs": [
    {
     "data": {
      "image/png": "[encoded data removed]",
      "text/plain": [
       "<Figure size 826.772x1169.29 with 1 Axes>"
      ]
     },
     "metadata": {},
     "output_type": "display_data"
    },
    {
     "data": {
      "image/png": "[encoded data removed]",
      "text/plain": [
       "<Figure size 826.772x1169.29 with 3 Axes>"
      ]
     },
     "metadata": {},
     "output_type": "display_data"
    }
   ],
   "source": [
    "layout = fifi.svg_to_axes.FigureLayout('../../Figure/lpf.svg',\n",
    "                                           autogenlayers=True, make_mplfigures=True, hide_layers=[])"
   ]
  },
  {
   "cell_type": "code",
   "execution_count": 3,
   "id": "2de0829f",
   "metadata": {},
   "outputs": [],
   "source": [
    "lpdf1=pd.read_hdf('../../data/derived_data/LpfHWSFiltered.h5')\n",
    "lpdf2=pd.read_hdf('../../data/derived_data/LpfLWSFiltered.h5')\n",
    "lpdf3=pd.read_hdf('../../data/derived_data/LpfForestFiltered.h5')\n",
    "\n",
    "line_width=0.5\n",
    "msize=3\n",
    "ax=layout.axes[('fig1','lpf')]\n",
    "\n",
    "ax.grid(False)\n",
    "ax.plot(lpdf1.frequency,lpdf1.rsquared, label='WS>3.5m/s', c='b',linewidth=line_width,rasterized=True)\n",
    "ax.plot(lpdf1.frequency,lpdf1.rsquared,'o',c='b',markerfacecolor=\"None\", markeredgecolor='b', markersize=msize,rasterized=True)\n",
    "\n",
    "ax.plot(lpdf2.frequency,lpdf2.rsquared, label='WS<3.5m/s',c='g',linewidth=line_width,rasterized=True)\n",
    "ax.plot(lpdf2.frequency,lpdf2.rsquared,'o', c='g', markersize=msize,markerfacecolor=\"None\", markeredgecolor='g',rasterized=True)\n",
    "\n",
    "ax.plot(lpdf3.frequency,lpdf3.rsquared, label='Forest',c='purple',linewidth=line_width,rasterized=True)\n",
    "ax.plot(lpdf3.frequency,lpdf3.rsquared,'o',c='purple',markerfacecolor=\"None\", markeredgecolor='purple',markersize=msize,rasterized=True)\n",
    "\n",
    "ax.set_rasterization_zorder(-20)\n",
    "\n",
    "ax.set_xlabel('Cutoff Frequency (hz)')\n",
    "ax.xaxis.set_label_coords(0.5, -0.13)\n",
    "ax.set_ylabel('$R^2$',rotation=0)\n",
    "ax.yaxis.set_label_coords(-0.08, 0.45)\n",
    "\n",
    "\n",
    "mpl_functions.adjust_spines(ax,['left','bottom'],\n",
    "                            spine_locations={'left':4,'bottom':4}, \n",
    "                            smart_bounds=True,\n",
    "                            xticks=[2,10,20,30,40,50,60,70,80,90],\n",
    "                            yticks = [0,0.8],\n",
    "                            linewidth=0.5)\n",
    "\n",
    "# ax.set_xticklabels(cutoff,rotation=90)\n",
    "\n",
    "figurefirst.mpl_functions.set_fontsize(ax, FS)\n",
    "layout.append_figure_to_layer(layout.figures['fig1'], 'fig1', cleartarget=True)\n",
    "layout.write_svg('../../Figure/lpf.svg')"
   ]
  },
  {
   "cell_type": "code",
   "execution_count": 4,
   "id": "56badcce",
   "metadata": {},
   "outputs": [],
   "source": [
    "df=pd.read_hdf('../../data/derived_data/1hz.h5')\n",
    "ax=layout.axes[('fig2','a1')]\n",
    "\n",
    "ax.plot(df.time,df.odor,c='b',rasterized=True, linewidth=0.6)\n",
    "ax.grid(False)\n",
    "ax.set_xlim(211,212)\n",
    "ax.set_ylim(0,11)\n",
    "ax.set_rasterization_zorder(-20)\n",
    "\n",
    "\n",
    "ax.set_ylabel('Odor, a.u.')\n",
    "ax.yaxis.set_label_coords(-0.2, 0.45)\n",
    "\n",
    "mpl_functions.adjust_spines(ax,['left'],\n",
    "                            spine_locations={'left':4,'bottom':5}, \n",
    "                            smart_bounds=True,\n",
    "                            xticks=[211,212],\n",
    "                            yticks = [0,10],\n",
    "                            linewidth=0.5)\n",
    "# ax.set_xticklabels([0,1])\n",
    "figurefirst.mpl_functions.set_fontsize(ax, FS)\n",
    "layout.append_figure_to_layer(layout.figures['fig2'], 'fig2', cleartarget=True)\n",
    "layout.write_svg('../../Figure/lpf.svg')"
   ]
  },
  {
   "cell_type": "code",
   "execution_count": 11,
   "id": "fa48a904",
   "metadata": {},
   "outputs": [],
   "source": [
    "df=pd.read_hdf('../../data/derived_data/10hz.h5')\n",
    "ax=layout.axes[('fig2','a2')]\n",
    "\n",
    "ax.plot(df.time,df.odor,c='b',rasterized=True, linewidth=0.6)\n",
    "ax.grid(False)\n",
    "ax.set_xlim(211,212)\n",
    "ax.set_ylim(0,11)\n",
    "ax.set_rasterization_zorder(-20)\n",
    "\n",
    "mpl_functions.adjust_spines(ax,['none'],\n",
    "                            spine_locations={'left':4,'bottom':4}, \n",
    "                            smart_bounds=True,\n",
    "                            xticks=[211,212],\n",
    "                            yticks = [0,10],\n",
    "                            linewidth=0.5)\n",
    "\n",
    "figurefirst.mpl_functions.set_fontsize(ax, FS)\n",
    "layout.append_figure_to_layer(layout.figures['fig2'], 'fig2', cleartarget=True)\n",
    "layout.write_svg('../../Figure/lpf.svg')"
   ]
  },
  {
   "cell_type": "code",
   "execution_count": 6,
   "id": "f8b9469e",
   "metadata": {},
   "outputs": [],
   "source": [
    "df=pd.read_hdf('../../data/derived_data/60hz.h5')\n",
    "\n",
    "ax=layout.axes[('fig2','a3')]\n",
    "\n",
    "ax.plot(df.time,df.odor,c='b',rasterized=True, linewidth=0.6)\n",
    "ax.grid(False)\n",
    "ax.set_xlim(211,212)\n",
    "ax.set_ylim(0,11)\n",
    "ax.set_rasterization_zorder(-20)\n",
    "ax.set_xlabel('Time,s')\n",
    "ax.xaxis.set_label_coords(0.5, -0.15)\n",
    "\n",
    "mpl_functions.adjust_spines(ax,['bottom'],\n",
    "                            spine_locations={'left':4,'bottom':4}, \n",
    "                            smart_bounds=True,\n",
    "                            xticks=[211,212],\n",
    "                            yticks = [0,10],\n",
    "                            linewidth=0.5)\n",
    "ax.set_xticklabels([0,1])\n",
    "figurefirst.mpl_functions.set_fontsize(ax, FS)\n",
    "layout.append_figure_to_layer(layout.figures['fig2'], 'fig2', cleartarget=True)\n",
    "layout.write_svg('../../Figure/lpf.svg')"
   ]
  }
 ],
 "metadata": {
  "kernelspec": {
   "display_name": "vscode38kernel",
   "language": "python",
   "name": "pywork38"
  },
  "language_info": {
   "codemirror_mode": {
    "name": "ipython",
    "version": 3
   },
   "file_extension": ".py",
   "mimetype": "text/x-python",
   "name": "python",
   "nbconvert_exporter": "python",
   "pygments_lexer": "ipython3",
   "version": "3.8.10"
  }
 },
 "nbformat": 4,
 "nbformat_minor": 5
}
