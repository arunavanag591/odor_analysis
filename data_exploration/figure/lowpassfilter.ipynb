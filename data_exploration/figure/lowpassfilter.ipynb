{
 "cells": [
  {
   "cell_type": "code",
   "execution_count": 1,
   "id": "a436463d",
   "metadata": {},
   "outputs": [],
   "source": [
    "#dataframes\n",
    "import pandas as pd\n",
    "import h5py\n",
    "\n",
    "import sys\n",
    "sys.path.append('../')\n",
    "import odor_statistics_lib as osm\n",
    "\n",
    "# user defined functions\n",
    "\n",
    "#speedup\n",
    "import multiprocessing as mp\n",
    "\n",
    "#suppress warnings\n",
    "import warnings\n",
    "warnings.simplefilter(action='ignore', category=FutureWarning)\n",
    "pd.TimeSeries = pd.Series \n",
    "\n",
    "#math\n",
    "import numpy as np\n",
    "import math\n",
    "import statsmodels.api as sm\n",
    "import statsmodels.formula.api as smf\n",
    "from scipy import signal\n",
    "import scipy \n",
    "import scipy.stats as st\n",
    "from scipy.stats import kurtosis\n",
    "\n",
    "#plots\n",
    "import pylab as plt\n",
    "import matplotlib.pyplot as plt\n",
    "from matplotlib.ticker import MaxNLocator\n",
    "import matplotlib\n",
    "from figurefirst import FigureLayout,mpl_functions\n",
    "import figurefirst\n",
    "import matplotlib.image as mpimg\n",
    "from mpl_toolkits.axes_grid1 import make_axes_locatable # for colorbar\n",
    "import seaborn as sns\n",
    "sns.set()\n",
    "sns.set_style(\"whitegrid\")\n",
    "import figurefirst as fifi\n",
    "from IPython.display import display,SVG\n",
    "\n",
    "import networkx as nx\n",
    "import community.community_louvain as community_louvain # pip install community\n",
    "\n",
    "#misc\n",
    "import cairosvg\n",
    "import time\n",
    "np.set_printoptions(suppress=True)\n",
    "import fly_plot_lib.plot as fpl\n",
    "# matplotlib.rcParams['font.family'] = [ 'sans-serif']\n",
    "FS=7"
   ]
  },
  {
   "cell_type": "code",
   "execution_count": 4,
   "id": "8fe88e81",
   "metadata": {},
   "outputs": [
    {
     "data": {
      "image/png": "[encoded data removed]",
      "text/plain": [
       "<Figure size 595.276x841.89 with 1 Axes>"
      ]
     },
     "metadata": {},
     "output_type": "display_data"
    }
   ],
   "source": [
    "layout = fifi.svg_to_axes.FigureLayout('../../../Figure/lpf.svg',\n",
    "                                           autogenlayers=True, make_mplfigures=True, hide_layers=[])"
   ]
  },
  {
   "cell_type": "code",
   "execution_count": 5,
   "id": "2de0829f",
   "metadata": {},
   "outputs": [],
   "source": [
    "rsq=np.array([0.24205416850966,\n",
    "             0.38348641665523975,0.38348641665523975,0.4064829597057922,0.45311169229618875,\n",
    "             0.4826627957203161,0.5635516377812952, 0.5769321356148331,0.6394535507195294,\n",
    "             0.6611420518231501,0.6602473760004987,0.7008459671212011,0.682043273913716])\n",
    "rsq1=np.array([0.6203130980463978,0.3745363995992592,0.327073395020676, 0.2814948909942232,\n",
    "              0.24205416850966])\n",
    "\n",
    "cutoff=[2,4,6,8,10,15,20,40,50,60,70,80,90]\n",
    "cutoff1=np.array([0.1,0.2,0.5,1,2])\n",
    "\n",
    "ax=layout.axes[('fig1','lpf')]\n",
    "ax.plot(cutoff,rsq,c='b',rasterized=True, linewidth=0.6)\n",
    "ax.scatter(cutoff,rsq,c='orange',s=4,rasterized=True)\n",
    "ax.set_xlim(1.6,)\n",
    "\n",
    "ax.grid(False)\n",
    "\n",
    "ax.set_rasterization_zorder(-20)\n",
    "\n",
    "ax.set_xlabel('Cutoff Frequency (hz)')\n",
    "ax.xaxis.set_label_coords(0.5, -0.2)\n",
    "ax.set_ylabel('$R^2$',rotation=0)\n",
    "ax.yaxis.set_label_coords(-0.06, 0.45)\n",
    "\n",
    "\n",
    "mpl_functions.adjust_spines(ax,['left','bottom'],\n",
    "                            spine_locations={}, \n",
    "                            smart_bounds=True,\n",
    "                            xticks=[2,6,10,15,20,40,60,70,80,90],\n",
    "#                             yticks = [-0.01,0.01],\n",
    "                            linewidth=0.5)\n",
    "\n",
    "# ax.set_xticklabels(cutoff,rotation=90)\n",
    "\n",
    "figurefirst.mpl_functions.set_fontsize(ax, FS)\n",
    "layout.append_figure_to_layer(layout.figures['fig1'], 'fig1', cleartarget=True)\n",
    "layout.write_svg('../../../Figure/lpf.svg')"
   ]
  },
  {
   "cell_type": "code",
   "execution_count": null,
   "id": "56badcce",
   "metadata": {},
   "outputs": [],
   "source": []
  }
 ],
 "metadata": {
  "kernelspec": {
   "display_name": "Python 3 (ipykernel)",
   "language": "python",
   "name": "python3"
  },
  "language_info": {
   "codemirror_mode": {
    "name": "ipython",
    "version": 3
   },
   "file_extension": ".py",
   "mimetype": "text/x-python",
   "name": "python",
   "nbconvert_exporter": "python",
   "pygments_lexer": "ipython3",
   "version": "3.8.10"
  }
 },
 "nbformat": 4,
 "nbformat_minor": 5
}
