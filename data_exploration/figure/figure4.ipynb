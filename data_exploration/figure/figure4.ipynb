{
 "cells": [
  {
   "cell_type": "code",
   "execution_count": 1,
   "id": "d9e566c2",
   "metadata": {},
   "outputs": [],
   "source": [
    "#dataframes\n",
    "import pandas as pd\n",
    "import h5py\n",
    "\n",
    "#speedup\n",
    "import multiprocessing as mp\n",
    "\n",
    "#suppress warnings\n",
    "import warnings\n",
    "warnings.simplefilter(action='ignore', category=FutureWarning)\n",
    "pd.TimeSeries = pd.Series \n",
    "\n",
    "#math\n",
    "import numpy as np\n",
    "import math as m\n",
    "from scipy.spatial.distance import cdist\n",
    "from scipy import signal\n",
    "\n",
    "#plots\n",
    "import pylab as plt\n",
    "import matplotlib.pyplot as plt\n",
    "from matplotlib.ticker import MaxNLocator\n",
    "import matplotlib\n",
    "from figurefirst import FigureLayout,mpl_functions\n",
    "import figurefirst\n",
    "import matplotlib.image as mpimg\n",
    "from mpl_toolkits.axes_grid1 import make_axes_locatable # for colorbar\n",
    "import seaborn as sns\n",
    "sns.set()\n",
    "sns.set_style(\"whitegrid\")\n",
    "import figurefirst as fifi\n",
    "from IPython.display import display,SVG\n",
    "\n",
    "#misc\n",
    "import cairosvg\n",
    "import time\n",
    "np.set_printoptions(suppress=True)\n",
    "# matplotlib.rcParams['font.family'] = [ 'sans-serif']\n",
    "FS=7"
   ]
  },
  {
   "cell_type": "code",
   "execution_count": 2,
   "id": "5dbd3fae",
   "metadata": {},
   "outputs": [
    {
     "data": {
      "image/png": "[encoded data removed]",
      "text/plain": [
       "<Figure size 595.276x841.89 with 1 Axes>"
      ]
     },
     "metadata": {},
     "output_type": "display_data"
    },
    {
     "data": {
      "image/png": "[encoded data removed]",
      "text/plain": [
       "<Figure size 595.276x841.89 with 8 Axes>"
      ]
     },
     "metadata": {},
     "output_type": "display_data"
    }
   ],
   "source": [
    "layout = fifi.svg_to_axes.FigureLayout('../../../Figure/fig4.svg',\n",
    "                                           autogenlayers=True, make_mplfigures=True, hide_layers=[])"
   ]
  },
  {
   "cell_type": "markdown",
   "id": "8848fbee",
   "metadata": {},
   "source": [
    "## Raw Signal"
   ]
  },
  {
   "cell_type": "code",
   "execution_count": 3,
   "id": "631c03f7",
   "metadata": {},
   "outputs": [],
   "source": [
    "df = pd.read_hdf(\"~/DataAnalysis/data/Sprints/HighRes/Windy/WindyMASigned.h5\")\n",
    "\n",
    "ax=layout.axes[('rawodorfig','rawodor')]\n",
    "ax.plot(df.time,df.odor, c='black', linewidth=0.6)\n",
    "ax.set_xlim(361,364)\n",
    "ax.grid(False)\n",
    "\n",
    "mpl_functions.adjust_spines(ax,['left','bottom'],\n",
    "                            spine_locations={'left': 5, 'bottom': 5}, \n",
    "                            smart_bounds=True,\n",
    "                            xticks=[361,364],\n",
    "                            yticks=[0,10],\n",
    "                            linewidth=0.5)\n",
    "ax.axhline(4.5, linestyle='--', c='red', linewidth=1)\n",
    "ax.set_xticklabels([0,4])\n",
    "ax.set_rasterization_zorder(-20)\n",
    "figurefirst.mpl_functions.set_fontsize(ax, FS)\n",
    "\n",
    "layout.append_figure_to_layer(layout.figures['rawodorfig'], 'rawodorfig', cleartarget=True)\n",
    "layout.write_svg('../../../Figure/fig4.svg')"
   ]
  },
  {
   "cell_type": "markdown",
   "id": "45d5e988",
   "metadata": {},
   "source": [
    "## Odor Statistics Panels"
   ]
  },
  {
   "cell_type": "markdown",
   "id": "45c0fdd9",
   "metadata": {},
   "source": [
    "### Whiff Concentration"
   ]
  },
  {
   "cell_type": "code",
   "execution_count": 4,
   "id": "9eff4df7",
   "metadata": {},
   "outputs": [],
   "source": [
    "df = pd.read_hdf(\"~/DataAnalysis/data/Sprints/HighRes/Windy/WindyMASigned.h5\")\n",
    "\n",
    "ax=layout.axes[('fig2','ele11')]\n",
    "ax.axvspan(xmin=361.4,xmax= 362,ymin=0.42,ymax=0.97,  alpha=0.2, color='green')\n",
    "ax.axvspan(xmin=362.73,xmax= 362.88,ymin=0.42,ymax=0.97,  alpha=0.2, color='green')\n",
    "ax.axvspan(xmin=363.4,xmax= 363.55,ymin=0.42,ymax=0.97,  alpha=0.2, color='green')\n",
    "ax.plot(df.time,df.odor, c='black', linewidth=0.6)\n",
    "ax.set_xlim(361,364)\n",
    "ax.grid(False)\n",
    "\n",
    "ax.axhline(4.5, linestyle='--', c='red',linewidth=1)\n",
    "ax.axis('off')\n",
    "ax.set_rasterization_zorder(-20)\n",
    "figurefirst.mpl_functions.set_fontsize(ax, FS)\n",
    "\n",
    "layout.append_figure_to_layer(layout.figures['fig2'], 'fig2', cleartarget=True)\n",
    "layout.write_svg('../../../Figure/fig4.svg')"
   ]
  },
  {
   "cell_type": "code",
   "execution_count": 5,
   "id": "ce57143b",
   "metadata": {},
   "outputs": [],
   "source": [
    "df1 = pd.read_hdf(\"~/DataAnalysis/data/Sprints/HighRes/Windy/WindyStatsTime_std.h5\")\n",
    "\n",
    "ax=layout.axes[('fig2','ele12')]\n",
    "ax.plot(df1.mean_time,df1.mean_concentration, c='black', linewidth=0.6)\n",
    "ax.set_xlim(361,364)\n",
    "ax.grid(False)\n",
    "ax.axis('off')\n",
    "ax.set_rasterization_zorder(-20)\n",
    "figurefirst.mpl_functions.set_fontsize(ax, FS)\n",
    "\n",
    "layout.append_figure_to_layer(layout.figures['fig2'], 'fig2', cleartarget=True)\n",
    "layout.write_svg('../../../Figure/fig4.svg')"
   ]
  },
  {
   "cell_type": "markdown",
   "id": "1173f629",
   "metadata": {},
   "source": [
    "### Whiff Frequency"
   ]
  },
  {
   "cell_type": "code",
   "execution_count": 6,
   "id": "308441d6",
   "metadata": {},
   "outputs": [],
   "source": [
    "ax=layout.axes[('fig2','ele13')]\n",
    "ax.plot(df.time,df.efreq, c='black', linewidth=0.6)\n",
    "ax.set_xlim(361,364)\n",
    "ax.grid(False)\n",
    "ax.axis('off')\n",
    "ax.set_rasterization_zorder(-20)\n",
    "figurefirst.mpl_functions.set_fontsize(ax, FS)\n",
    "\n",
    "layout.append_figure_to_layer(layout.figures['fig2'], 'fig2', cleartarget=True)\n",
    "layout.write_svg('../../../Figure/fig4.svg')"
   ]
  },
  {
   "cell_type": "code",
   "execution_count": 7,
   "id": "0fdc4cac",
   "metadata": {},
   "outputs": [],
   "source": [
    "ax=layout.axes[('fig2','ele14')]\n",
    "ax.plot(df.time,df.encounter_frequency, c='black', linewidth=0.6)\n",
    "ax.set_xlim(361,364)\n",
    "ax.grid(False)\n",
    "ax.axis('off')\n",
    "ax.set_rasterization_zorder(-20)\n",
    "figurefirst.mpl_functions.set_fontsize(ax, FS)\n",
    "\n",
    "layout.append_figure_to_layer(layout.figures['fig2'], 'fig2', cleartarget=True)\n",
    "layout.write_svg('../../../Figure/fig4.svg')"
   ]
  },
  {
   "cell_type": "markdown",
   "id": "c6bb9071",
   "metadata": {},
   "source": [
    "### Whiff Duration"
   ]
  },
  {
   "cell_type": "code",
   "execution_count": 8,
   "id": "35d95a21",
   "metadata": {},
   "outputs": [
    {
     "name": "stderr",
     "output_type": "stream",
     "text": [
      "/tmp/ipykernel_6725/1600383873.py:18: SettingWithCopyWarning: \n",
      "A value is trying to be set on a copy of a slice from a DataFrame\n",
      "\n",
      "See the caveats in the documentation: https://pandas.pydata.org/pandas-docs/stable/user_guide/indexing.html#returning-a-view-versus-a-copy\n",
      "  df.whiff_plot[np.concatenate(index).ravel().tolist()]=0.5\n"
     ]
    }
   ],
   "source": [
    "def get_index(df):\n",
    "  \n",
    "  idx = []\n",
    "  for i in range(len(df.odor)):\n",
    "      if (df.odor[i]>4.5):\n",
    "          idx.append(df.index[i])\n",
    "\n",
    "  from itertools import groupby\n",
    "  from operator import itemgetter\n",
    "  index = []\n",
    "  for k, g in groupby(enumerate(idx),lambda ix : ix[0] - ix[1]):\n",
    "      index.append((list((map(itemgetter(1), g)))))\n",
    "  return index\n",
    "\n",
    "index = get_index(df)\n",
    "\n",
    "df['whiff_plot']=np.zeros(len(df))\n",
    "df.whiff_plot[np.concatenate(index).ravel().tolist()]=0.5"
   ]
  },
  {
   "cell_type": "code",
   "execution_count": 9,
   "id": "d9756f9d",
   "metadata": {},
   "outputs": [],
   "source": [
    "ax=layout.axes[('fig2','ele15')]\n",
    "# ax.axvspan(xmin=361.4,xmax= 362,ymin=0.42,ymax=0.97,  alpha=0.2, color='green')\n",
    "ax.axvspan(xmin=362.73,xmax= 362.88,ymin=0.42,ymax=0.8,  alpha=0.2, color='green')\n",
    "# ax.axvspan(xmin=363.4,xmax= 363.55,ymin=0.42,ymax=0.97,  alpha=0.2, color='green')\n",
    "ax.plot(df.time,df.odor, c='black', linewidth=0.6)\n",
    "ax.set_xlim(362.5,363)\n",
    "ax.grid(False)\n",
    "\n",
    "ax.axhline(4.5, linestyle='--', c='red',linewidth=1)\n",
    "\n",
    "mpl_functions.adjust_spines(ax,['bottom'],\n",
    "                            spine_locations={'bottom': 1}, \n",
    "                            smart_bounds=True,\n",
    "                            xticks=[362.5,363],\n",
    "                            \n",
    "                            linewidth=0.5)\n",
    "\n",
    "ax.set_xticklabels([0,0.5])\n",
    "ax.set_rasterization_zorder(-20)\n",
    "figurefirst.mpl_functions.set_fontsize(ax, FS)\n",
    "\n",
    "layout.append_figure_to_layer(layout.figures['fig2'], 'fig2', cleartarget=True)\n",
    "layout.write_svg('../../../Figure/fig4.svg')"
   ]
  },
  {
   "cell_type": "code",
   "execution_count": 10,
   "id": "1e646a7d",
   "metadata": {},
   "outputs": [],
   "source": [
    "ax=layout.axes[('fig2','ele16')]\n",
    "# ax.axvspan(xmin=361.4,xmax= 362,ymin=0.42,ymax=0.97,  alpha=0.2, color='green')\n",
    "ax.axvspan(xmin=362.73,xmax= 362.88,ymin=0.42,ymax=0.97,  alpha=0.2, color='green')\n",
    "# ax.axvspan(xmin=363.4,xmax= 363.55,ymin=0.42,ymax=0.97,  alpha=0.2, color='green')\n",
    "ax.plot(df.time,df.whiff_plot, c='black', linewidth=0.6)\n",
    "ax.set_xlim(362.5,363)\n",
    "ax.grid(False)\n",
    "\n",
    "ax.axis('off')\n",
    "ax.set_rasterization_zorder(-20)\n",
    "figurefirst.mpl_functions.set_fontsize(ax, FS)\n",
    "\n",
    "layout.append_figure_to_layer(layout.figures['fig2'], 'fig2', cleartarget=True)\n",
    "layout.write_svg('../../../Figure/fig4.svg')"
   ]
  },
  {
   "cell_type": "markdown",
   "id": "67b674c5",
   "metadata": {},
   "source": [
    "### Whiff Moving Average"
   ]
  },
  {
   "cell_type": "code",
   "execution_count": 11,
   "id": "3cd6b737",
   "metadata": {},
   "outputs": [],
   "source": [
    "ax=layout.axes[('fig2','ele17')]\n",
    "ax.axvspan(xmin=361,xmax= 362,  alpha=0.2, color='g')\n",
    "ax.axvspan(xmin=362,xmax= 363, alpha=0.2, color='r')\n",
    "ax.plot(df.time,df.odor, c='black', linewidth=0.6)\n",
    "ax.set_xlim(361,364)\n",
    "ax.grid(False)\n",
    "\n",
    "ax.axis('off')\n",
    "ax.set_rasterization_zorder(-20)\n",
    "figurefirst.mpl_functions.set_fontsize(ax, FS)\n",
    "\n",
    "layout.append_figure_to_layer(layout.figures['fig2'], 'fig2', cleartarget=True)\n",
    "layout.write_svg('../../../Figure/fig4.svg')"
   ]
  },
  {
   "cell_type": "code",
   "execution_count": 12,
   "id": "c2905109",
   "metadata": {},
   "outputs": [],
   "source": [
    "indexer = pd.api.indexers.FixedForwardWindowIndexer(window_size=200)\n",
    "ma = df.odor.rolling(window=indexer, min_periods=1).mean()\n",
    "\n",
    "\n",
    "ax=layout.axes[('fig2','ele18')]\n",
    "ax.axvspan(xmin=361,xmax= 362, ymin=0,ymax=0.6, alpha=0.2, color='g')\n",
    "ax.axvspan(xmin=362,xmax= 363, ymin=0,ymax=0.6,alpha=0.2, color='r')\n",
    "ax.plot(df.time,ma, c='black', linewidth=0.6)\n",
    "ax.set_xlim(361,364)\n",
    "ax.grid(False)\n",
    "\n",
    "mpl_functions.adjust_spines(ax,['left'],\n",
    "                            spine_locations={'left': 5, 'bottom': 5}, \n",
    "                            smart_bounds=True,\n",
    "#                             xticks=[361,364],\n",
    "                            yticks=[0,6],\n",
    "                            linewidth=0.5)\n",
    "\n",
    "# ax.axis('off')\n",
    "ax.set_rasterization_zorder(-20)\n",
    "figurefirst.mpl_functions.set_fontsize(ax, FS)\n",
    "\n",
    "layout.append_figure_to_layer(layout.figures['fig2'], 'fig2', cleartarget=True)\n",
    "layout.write_svg('../../../Figure/fig4.svg')\n"
   ]
  },
  {
   "cell_type": "code",
   "execution_count": 3,
   "id": "027f6ef6",
   "metadata": {},
   "outputs": [],
   "source": [
    "import cairosvg\n",
    "cairosvg.svg2pdf(url='../../../Figure/fig4.svg', write_to='../../../Figure/fig4.pdf')"
   ]
  },
  {
   "cell_type": "code",
   "execution_count": null,
   "id": "7cac1edf",
   "metadata": {},
   "outputs": [],
   "source": []
  }
 ],
 "metadata": {
  "kernelspec": {
   "display_name": "Python 3 (ipykernel)",
   "language": "python",
   "name": "python3"
  },
  "language_info": {
   "codemirror_mode": {
    "name": "ipython",
    "version": 3
   },
   "file_extension": ".py",
   "mimetype": "text/x-python",
   "name": "python",
   "nbconvert_exporter": "python",
   "pygments_lexer": "ipython3",
   "version": "3.8.10"
  }
 },
 "nbformat": 4,
 "nbformat_minor": 5
}
