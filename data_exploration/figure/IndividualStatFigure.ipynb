{
 "cells": [
  {
   "cell_type": "code",
   "execution_count": 1,
   "id": "0279a5d6",
   "metadata": {},
   "outputs": [],
   "source": [
    "#dataframes\n",
    "import pandas as pd\n",
    "import h5py\n",
    "\n",
    "import sys\n",
    "sys.path.append('../')\n",
    "import odor_statistics_lib as osm\n",
    "\n",
    "# user defined functions\n",
    "\n",
    "\n",
    "#suppress warnings\n",
    "import warnings\n",
    "warnings.simplefilter(action='ignore', category=FutureWarning)\n",
    "pd.TimeSeries = pd.Series \n",
    "\n",
    "#math\n",
    "import numpy as np\n",
    "\n",
    "#plots\n",
    "from figurefirst import FigureLayout,mpl_functions\n",
    "import figurefirst\n",
    "from mpl_toolkits.axes_grid1 import make_axes_locatable # for colorbar\n",
    "import seaborn as sns\n",
    "sns.set()\n",
    "sns.set_style(\"whitegrid\")\n",
    "import figurefirst as fifi\n",
    "\n",
    "\n",
    "#misc\n",
    "\n",
    "np.set_printoptions(suppress=True)\n",
    "import fly_plot_lib.plot as fpl\n",
    "# matplotlib.rcParams['font.family'] = [ 'sans-serif']\n",
    "FS=7"
   ]
  },
  {
   "cell_type": "markdown",
   "id": "b7123318",
   "metadata": {},
   "source": [
    "### Load Dataset"
   ]
  },
  {
   "cell_type": "code",
   "execution_count": 2,
   "id": "cc6507ed",
   "metadata": {},
   "outputs": [],
   "source": [
    "dir='../../data/'\n",
    "fdf1 = pd.read_hdf(dir+\"NotWindyStatsTime_std.h5\")\n",
    "fdf2 = pd.read_hdf(dir+\"WindyStatsTime_std.h5\")\n",
    "# fdf3 = pd.read_hdf(dir+\"Forest/ForestStatsTime_std.h5\")\n",
    "\n",
    "fdf = pd.concat([fdf1,fdf2])\n",
    "fdf.reset_index(inplace=True, drop=True)"
   ]
  },
  {
   "cell_type": "code",
   "execution_count": 3,
   "id": "447b0e16",
   "metadata": {},
   "outputs": [],
   "source": [
    "colormap='bone_r'"
   ]
  },
  {
   "cell_type": "markdown",
   "id": "22c9e10f",
   "metadata": {},
   "source": [
    "### Load Figure Layout"
   ]
  },
  {
   "cell_type": "code",
   "execution_count": 3,
   "id": "f05bd7bd",
   "metadata": {},
   "outputs": [
    {
     "data": {
      "image/png": "[encoded data removed]",
      "text/plain": [
       "<Figure size 826.772x1169.29 with 6 Axes>"
      ]
     },
     "metadata": {},
     "output_type": "display_data"
    }
   ],
   "source": [
    "layout = fifi.svg_to_axes.FigureLayout('../../Figure/figOSindi.svg',\n",
    "                                           autogenlayers=True, make_mplfigures=True, hide_layers=[])"
   ]
  },
  {
   "cell_type": "markdown",
   "id": "72bf4bec",
   "metadata": {},
   "source": [
    "### Whiff Concentration"
   ]
  },
  {
   "cell_type": "code",
   "execution_count": 28,
   "id": "3e4b79f4",
   "metadata": {},
   "outputs": [],
   "source": [
    "ax=layout.axes[('fig1','ax1')]\n",
    "\n",
    "var = ax.scatter(fdf.log_avg_dist_from_source_signed, fdf.mean_concentration, \n",
    "                   c=fdf.mean_concentration, cmap=colormap,s=4, edgecolors='none', \n",
    "                 alpha=0.2, vmin=0, vmax=10, rasterized= True)\n",
    "ax.grid(False)\n",
    "# ax.set_ylim(4,10)\n",
    "# g1 = sns.regplot(x=\"log_avg_dist_from_source_signed\",y=\"mean_concentration\", data=fdf, \n",
    "#             ax=ax, line_kws={'color':'red','linewidth':1}, scatter=False, truncate=False)\n",
    "# g1.set(xlabel=None, ylabel=None)\n",
    "ax.set_rasterization_zorder(-20)\n",
    "\n",
    "ax.set_ylabel('wc, v')\n",
    "ax.yaxis.set_label_coords(-0.08, 0.5)\n",
    "\n",
    "ax.set_xlabel('Distance from\\nSource, m')\n",
    "ax.xaxis.set_label_coords(0.5, -0.1)\n",
    "\n",
    "mpl_functions.adjust_spines(ax,['left','bottom'],\n",
    "                            spine_locations={'left': 5, 'bottom': 5}, \n",
    "                            smart_bounds=True,\n",
    "                            xticks=[-1,1.8],\n",
    "                            yticks=[4.5,10.5],\n",
    "                            linewidth=0.5)\n",
    "\n",
    "ax.set_xticklabels([r'$10^{-1}$',r'$10^{1.8}$'])\n",
    "\n",
    "\n",
    "# ax.set_yticklabels(['0','10'])\n",
    "\n",
    "figurefirst.mpl_functions.set_fontsize(ax, FS)\n",
    "layout.append_figure_to_layer(layout.figures['fig1'], 'fig1', cleartarget=True)\n",
    "layout.write_svg('../../Figure/figOSindi.svg')"
   ]
  },
  {
   "cell_type": "markdown",
   "id": "a2ef5fc7",
   "metadata": {},
   "source": [
    "### Whiff Frequency"
   ]
  },
  {
   "cell_type": "code",
   "execution_count": 29,
   "id": "56b6cd94",
   "metadata": {},
   "outputs": [],
   "source": [
    "ax=layout.axes[('fig1','ax2')]\n",
    "\n",
    "var = ax.scatter(fdf.log_avg_dist_from_source_signed, fdf.mean_ef, \n",
    "                   c=fdf.mean_concentration, cmap=colormap,s=4, edgecolors='none', \n",
    "                 alpha=0.2, vmin=0, vmax=10, rasterized= True)\n",
    "ax.grid(False)\n",
    "\n",
    "# g1 = sns.regplot(x=\"log_avg_dist_from_source_signed\",y=\"mean_ef\", data=fdf, \n",
    "#             ax=ax, line_kws={'color':'red','linewidth':1}, scatter=False, truncate=False)\n",
    "# g1.set(xlabel=None, ylabel=None)\n",
    "ax.set_rasterization_zorder(-20)\n",
    "ax.set_ylabel('wf, Hz')\n",
    "ax.yaxis.set_label_coords(-0.08, 0.5)\n",
    "mpl_functions.adjust_spines(ax,['left'],\n",
    "                            spine_locations={'left': 5}, \n",
    "                            smart_bounds=True,\n",
    "#                             xticks=[-1,1.8],\n",
    "                            yticks=[0,8],\n",
    "                            linewidth=0.5)\n",
    "\n",
    "\n",
    "\n",
    "figurefirst.mpl_functions.set_fontsize(ax, FS)\n",
    "layout.append_figure_to_layer(layout.figures['fig1'], 'fig1', cleartarget=True)\n",
    "layout.write_svg('../../Figure/figOSindi.svg')"
   ]
  },
  {
   "cell_type": "markdown",
   "id": "67394c21",
   "metadata": {},
   "source": [
    "### Whiff Duration"
   ]
  },
  {
   "cell_type": "code",
   "execution_count": 30,
   "id": "d918103d",
   "metadata": {},
   "outputs": [],
   "source": [
    "ax=layout.axes[('fig1','ax3')]\n",
    "\n",
    "var = ax.scatter(fdf.log_avg_dist_from_source_signed, fdf.length_of_encounter, \n",
    "                   c=fdf.mean_concentration, cmap=colormap,s=4, edgecolors='none', \n",
    "                 alpha=0.2, vmin=0, vmax=10, rasterized= True)\n",
    "ax.grid(False)\n",
    "\n",
    "# g1 = sns.regplot(x=\"log_avg_dist_from_source_signed\",y=\"log_whiff\", data=fdf, \n",
    "#             ax=ax, line_kws={'color':'red','linewidth':1}, scatter=False, truncate=False)\n",
    "# g1.set(xlabel=None, ylabel=None)\n",
    "ax.set_rasterization_zorder(-20)\n",
    "ax.set_ylabel('wd, s')\n",
    "ax.yaxis.set_label_coords(-0.08, 0.5)\n",
    "ax.set_ylim(0,6)\n",
    "mpl_functions.adjust_spines(ax,['left'],\n",
    "                            spine_locations={'left': 5}, \n",
    "                            smart_bounds=True,\n",
    "#                             xticks=[-1,1.8],\n",
    "                            yticks=[0,6],\n",
    "                            linewidth=0.5)\n",
    "\n",
    "# ax.set_yticklabels([r'$10^{-2.5}$',r'$10^{1.5}$'])\n",
    "ax.tick_params(axis='y', which='major', pad=1)\n",
    "\n",
    "figurefirst.mpl_functions.set_fontsize(ax, FS)\n",
    "layout.append_figure_to_layer(layout.figures['fig1'], 'fig1', cleartarget=True)\n",
    "layout.write_svg('../../Figure/figOSindi.svg')"
   ]
  },
  {
   "cell_type": "markdown",
   "id": "e7636998",
   "metadata": {},
   "source": [
    "### Whiff Moving Average"
   ]
  },
  {
   "cell_type": "code",
   "execution_count": 31,
   "id": "65851499",
   "metadata": {},
   "outputs": [],
   "source": [
    "ax=layout.axes[('fig1','ax4')]\n",
    "\n",
    "var = ax.scatter(fdf.log_avg_dist_from_source_signed, fdf.whiff_ma, \n",
    "                   c=fdf.mean_concentration, cmap=colormap,s=4, edgecolors='none', \n",
    "                 alpha=0.2, vmin=0, vmax=10, rasterized= True)\n",
    "ax.grid(False)\n",
    "ax.set_ylim(0,)\n",
    "\n",
    "ax.set_rasterization_zorder(-20)\n",
    "\n",
    "ax.set_ylabel('wma, v')\n",
    "ax.yaxis.set_label_coords(-0.08, 0.5)\n",
    "\n",
    "\n",
    "mpl_functions.adjust_spines(ax,['left'],\n",
    "                            spine_locations={'left': 5, 'bottom': 5}, \n",
    "                            smart_bounds=True,\n",
    "#                             xticks=[-1,1.8],\n",
    "                            yticks=[0,10.5],\n",
    "                            linewidth=0.5)\n",
    "\n",
    "# ax.set_xticklabels([r'$10^{-1}$',r'$10^{1.8}$'])\n",
    "\n",
    "figurefirst.mpl_functions.set_fontsize(ax, FS)\n",
    "layout.append_figure_to_layer(layout.figures['fig1'], 'fig1', cleartarget=True)\n",
    "layout.write_svg('../../Figure/figOSindi.svg')"
   ]
  },
  {
   "cell_type": "markdown",
   "id": "6850d8dd",
   "metadata": {},
   "source": [
    "### Whiff Standard Deviation"
   ]
  },
  {
   "cell_type": "code",
   "execution_count": 32,
   "id": "7890dc98",
   "metadata": {},
   "outputs": [],
   "source": [
    "ax=layout.axes[('fig1','ax5')]\n",
    "\n",
    "var = ax.scatter(fdf.log_avg_dist_from_source_signed, fdf.std_whiff, \n",
    "                   c=fdf.mean_concentration, cmap=colormap,s=4, edgecolors='none', \n",
    "                 alpha=0.2, vmin=0, vmax=10, rasterized= True)\n",
    "ax.grid(False)\n",
    "\n",
    "ax.set_rasterization_zorder(-20)\n",
    "\n",
    "ax.set_ylabel('wsd')\n",
    "ax.yaxis.set_label_coords(-0.08, 0.5)\n",
    "\n",
    "\n",
    "\n",
    "mpl_functions.adjust_spines(ax,['left'],\n",
    "                            spine_locations={'left': 5}, \n",
    "                            smart_bounds=True,\n",
    "#                             xticks=[-1,1.8],\n",
    "                            yticks=[0,3],\n",
    "                            linewidth=0.5)\n",
    "\n",
    "ax.set_yticklabels(['0','2.5'])\n",
    "\n",
    "\n",
    "figurefirst.mpl_functions.set_fontsize(ax, FS)\n",
    "layout.append_figure_to_layer(layout.figures['fig1'], 'fig1', cleartarget=True)\n",
    "layout.write_svg('../../Figure/figOSindi.svg')"
   ]
  },
  {
   "cell_type": "markdown",
   "id": "3ee594af",
   "metadata": {},
   "source": [
    "### Colorbar"
   ]
  },
  {
   "cell_type": "code",
   "execution_count": 33,
   "id": "381a3514",
   "metadata": {},
   "outputs": [],
   "source": [
    "ax = layout.axes[('fig1', 'cbar')]\n",
    "ytic=[4.5,11]\n",
    "\n",
    "fpl.colorbar(ax=ax, colormap='bone_r', orientation='vertical',ticks=ytic)\n",
    "ax.set_rasterization_zorder(-20)\n",
    "mpl_functions.adjust_spines(ax, ['right'], \n",
    "                                    smart_bounds=True,\n",
    "                                    spine_locations={'right': 2}, \n",
    "                                    yticks=ytic,\n",
    "                                    tick_length=1.5,\n",
    "                                    linewidth=0.5)\n",
    "\n",
    "ax.set_ylabel(\"wc, v\",rotation=90, labelpad=-20)\n",
    "\n",
    "ax.set_yticklabels(['4.5', '10'])\n",
    "figurefirst.mpl_functions.set_fontsize(ax, FS)\n",
    "\n",
    "layout.append_figure_to_layer(layout.figures['fig1'], 'fig1', cleartarget=True)\n",
    "layout.write_svg('../../Figure/figOSindi.svg')"
   ]
  },
  {
   "cell_type": "code",
   "execution_count": null,
   "id": "62c85ca8",
   "metadata": {},
   "outputs": [],
   "source": []
  }
 ],
 "metadata": {
  "kernelspec": {
   "display_name": "vscode38kernel",
   "language": "python",
   "name": "pywork38"
  },
  "language_info": {
   "codemirror_mode": {
    "name": "ipython",
    "version": 3
   },
   "file_extension": ".py",
   "mimetype": "text/x-python",
   "name": "python",
   "nbconvert_exporter": "python",
   "pygments_lexer": "ipython3",
   "version": "3.8.10"
  }
 },
 "nbformat": 4,
 "nbformat_minor": 5
}
