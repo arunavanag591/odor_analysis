{
 "cells": [
  {
   "cell_type": "code",
   "execution_count": 2,
   "id": "concrete-withdrawal",
   "metadata": {},
   "outputs": [],
   "source": [
    "#dataframes\n",
    "import pandas as pd\n",
    "import h5py\n",
    "\n",
    "#speedup\n",
    "import multiprocessing as mp\n",
    "\n",
    "#suppress warnings\n",
    "import warnings\n",
    "warnings.simplefilter(action='ignore', category=FutureWarning)\n",
    "pd.TimeSeries = pd.Series \n",
    "\n",
    "#math\n",
    "import numpy as np\n",
    "\n",
    "#plots\n",
    "from figurefirst import FigureLayout,mpl_functions\n",
    "import figurefirst\n",
    "import matplotlib.image as mpimg\n",
    "from mpl_toolkits.axes_grid1 import make_axes_locatable # for colorbar\n",
    "import seaborn as sns\n",
    "sns.set()\n",
    "sns.set_style(\"whitegrid\")\n",
    "import figurefirst as fifi\n",
    "\n",
    "\n",
    "np.set_printoptions(suppress=True)\n",
    "FS=7"
   ]
  },
  {
   "cell_type": "code",
   "execution_count": 3,
   "id": "wireless-lending",
   "metadata": {},
   "outputs": [
    {
     "data": {
      "image/png": "[encoded data removed]",
      "text/plain": [
       "<Figure size 826.772x1169.29 with 1 Axes>"
      ]
     },
     "metadata": {},
     "output_type": "display_data"
    },
    {
     "data": {
      "image/png": "[encoded data removed]",
      "text/plain": [
       "<Figure size 826.772x1169.29 with 1 Axes>"
      ]
     },
     "metadata": {},
     "output_type": "display_data"
    },
    {
     "data": {
      "image/png": "[encoded data removed]",
      "text/plain": [
       "<Figure size 826.772x1169.29 with 1 Axes>"
      ]
     },
     "metadata": {},
     "output_type": "display_data"
    },
    {
     "data": {
      "image/png": "[encoded data removed]",
      "text/plain": [
       "<Figure size 826.772x1169.29 with 2 Axes>"
      ]
     },
     "metadata": {},
     "output_type": "display_data"
    },
    {
     "data": {
      "image/png": "[encoded data removed]",
      "text/plain": [
       "<Figure size 826.772x1169.29 with 2 Axes>"
      ]
     },
     "metadata": {},
     "output_type": "display_data"
    }
   ],
   "source": [
    "layout = fifi.svg_to_axes.FigureLayout('../../Figure/method2.svg',\n",
    "                                           autogenlayers=True, make_mplfigures=True, hide_layers=[])"
   ]
  },
  {
   "cell_type": "code",
   "execution_count": 5,
   "id": "sunrise-jesus",
   "metadata": {},
   "outputs": [],
   "source": [
    "img1 = mpimg.imread('../../data/methodfigure2/JaleesaCropped.png')\n",
    "img2 = mpimg.imread('../../data/methodfigure2/topview.png')"
   ]
  },
  {
   "cell_type": "markdown",
   "id": "tracked-morning",
   "metadata": {},
   "source": [
    "### Panel 1\n"
   ]
  },
  {
   "cell_type": "code",
   "execution_count": 4,
   "id": "monthly-affiliate",
   "metadata": {},
   "outputs": [],
   "source": [
    "ax1=layout.axes[('fig1','a')]\n",
    "ax1.imshow(img1,aspect='auto',rasterized=True)\n",
    "ax1.grid(False)\n",
    "ax1.axes.axis('off')\n",
    "\n",
    "ax1.set_rasterization_zorder(-20)\n",
    "figurefirst.mpl_functions.set_fontsize(ax1, FS)\n",
    "layout.append_figure_to_layer(layout.figures['fig1'], 'fig1', cleartarget=True)\n",
    "layout.write_svg('../../Figure/method2.svg')"
   ]
  },
  {
   "cell_type": "markdown",
   "id": "detected-timer",
   "metadata": {},
   "source": [
    "### Panel 2"
   ]
  },
  {
   "cell_type": "code",
   "execution_count": 5,
   "id": "several-allowance",
   "metadata": {},
   "outputs": [],
   "source": [
    "ax2=layout.axes[('fig2','b')]\n",
    "ax2.imshow(img2, aspect='auto', rasterized=True)\n",
    "ax2.grid(False)\n",
    "ax2.axes.axis('off')\n",
    "\n",
    "ax2.set_rasterization_zorder(-20)\n",
    "\n",
    "layout.append_figure_to_layer(layout.figures['fig2'], 'fig2', cleartarget=True)\n",
    "layout.write_svg('../../Figure/method2.svg')"
   ]
  },
  {
   "cell_type": "markdown",
   "id": "continuing-absolute",
   "metadata": {},
   "source": [
    "### Panel 3\n"
   ]
  },
  {
   "cell_type": "code",
   "execution_count": 6,
   "id": "peripheral-influence",
   "metadata": {},
   "outputs": [],
   "source": [
    "odor=pd.read_hdf('../../data/methodfigure2/ForestDataJuly_S1.h5')\n",
    "loc=pd.read_hdf('../../data/methodfigure2/ForestSensorLocations.h5')\n",
    "\n",
    "from shapely.geometry import Point\n",
    "import geopandas as gpd\n",
    "import utm\n",
    "\n",
    "\n",
    "odor['geometry'] = odor.apply(lambda row: Point(row.lon, row.lat), axis=1)\n",
    "\n",
    "geodf = gpd.GeoDataFrame(odor)\n",
    "geodf.crs= {'init': 'epsg:4326'}\n",
    "# change the projection of geodf\n",
    "geodf = geodf.to_crs(\"+proj=utm +zone=11 +ellps=WGS84 +datum=WGS84 +units=m +no_def\")\n",
    "\n",
    "geodf[\"x\"] = geodf.geometry.apply(lambda row:row.x)\n",
    "geodf[\"y\"] = geodf.geometry.apply(lambda row:row.y)\n",
    "\n",
    "#source location to meters\n",
    "source =(39.252441,-119.878037)\n",
    "u =  utm.from_latlon(39.252441, -119.878037)\n",
    "xfromsrc= geodf.x-u[0]\n",
    "geodf.insert(4,'xsrc',xfromsrc) \n",
    "\n",
    "yfromsrc = geodf.y-u[1]\n",
    "geodf.insert(5,'ysrc', yfromsrc)"
   ]
  },
  {
   "cell_type": "code",
   "execution_count": 6,
   "id": "occasional-catch",
   "metadata": {},
   "outputs": [],
   "source": [
    "traj=geodf\n",
    "traj.xsrc=traj.xsrc+8\n",
    "traj.ysrc = traj.ysrc-8\n",
    "\n",
    "trajectory=pd.DataFrame()\n",
    "trajectory['xsrc']=traj.xsrc[100000:150000]\n",
    "trajectory['ysrc']=traj.ysrc[100000:150000]\n",
    "trajectory['odor']=traj.odor[100000:150000]"
   ]
  },
  {
   "cell_type": "code",
   "execution_count": 26,
   "id": "1b09c175",
   "metadata": {},
   "outputs": [
    {
     "data": {
      "text/html": [
       "<div>\n",
       "<style scoped>\n",
       "    .dataframe tbody tr th:only-of-type {\n",
       "        vertical-align: middle;\n",
       "    }\n",
       "\n",
       "    .dataframe tbody tr th {\n",
       "        vertical-align: top;\n",
       "    }\n",
       "\n",
       "    .dataframe thead th {\n",
       "        text-align: right;\n",
       "    }\n",
       "</style>\n",
       "<table border=\"1\" class=\"dataframe\">\n",
       "  <thead>\n",
       "    <tr style=\"text-align: right;\">\n",
       "      <th></th>\n",
       "      <th>lon</th>\n",
       "      <th>lat</th>\n",
       "      <th>source</th>\n",
       "      <th>xsrc</th>\n",
       "      <th>ysrc</th>\n",
       "    </tr>\n",
       "  </thead>\n",
       "  <tbody>\n",
       "    <tr>\n",
       "      <th>0</th>\n",
       "      <td>-119.878174</td>\n",
       "      <td>39.252392</td>\n",
       "      <td>(-119.878161, 39.252392)</td>\n",
       "      <td>-0.996797</td>\n",
       "      <td>0.136833</td>\n",
       "    </tr>\n",
       "    <tr>\n",
       "      <th>1</th>\n",
       "      <td>-119.878288</td>\n",
       "      <td>39.252384</td>\n",
       "      <td>0</td>\n",
       "      <td>-10.863839</td>\n",
       "      <td>-0.438205</td>\n",
       "    </tr>\n",
       "    <tr>\n",
       "      <th>3</th>\n",
       "      <td>-119.878464</td>\n",
       "      <td>39.252399</td>\n",
       "      <td>0</td>\n",
       "      <td>-26.000579</td>\n",
       "      <td>1.710100</td>\n",
       "    </tr>\n",
       "    <tr>\n",
       "      <th>4</th>\n",
       "      <td>-119.878082</td>\n",
       "      <td>39.252296</td>\n",
       "      <td>0</td>\n",
       "      <td>6.604293</td>\n",
       "      <td>-10.772140</td>\n",
       "    </tr>\n",
       "    <tr>\n",
       "      <th>5</th>\n",
       "      <td>-119.878052</td>\n",
       "      <td>39.252159</td>\n",
       "      <td>0</td>\n",
       "      <td>8.709697</td>\n",
       "      <td>-26.062058</td>\n",
       "    </tr>\n",
       "    <tr>\n",
       "      <th>6</th>\n",
       "      <td>-119.878036</td>\n",
       "      <td>39.252064</td>\n",
       "      <td>0</td>\n",
       "      <td>9.755136</td>\n",
       "      <td>-36.651370</td>\n",
       "    </tr>\n",
       "  </tbody>\n",
       "</table>\n",
       "</div>"
      ],
      "text/plain": [
       "          lon        lat                    source       xsrc       ysrc\n",
       "0 -119.878174  39.252392  (-119.878161, 39.252392)  -0.996797   0.136833\n",
       "1 -119.878288  39.252384                         0 -10.863839  -0.438205\n",
       "3 -119.878464  39.252399                         0 -26.000579   1.710100\n",
       "4 -119.878082  39.252296                         0   6.604293 -10.772140\n",
       "5 -119.878052  39.252159                         0   8.709697 -26.062058\n",
       "6 -119.878036  39.252064                         0   9.755136 -36.651370"
      ]
     },
     "execution_count": 26,
     "metadata": {},
     "output_type": "execute_result"
    }
   ],
   "source": [
    "temp = loc.drop(2)"
   ]
  },
  {
   "cell_type": "code",
   "execution_count": 27,
   "id": "processed-brief",
   "metadata": {},
   "outputs": [],
   "source": [
    "ax=layout.axes[('fig3','c')]\n",
    "\n",
    "ax.scatter(temp.xsrc, temp.ysrc, marker ='x', s=15, color=\"blue\", \n",
    "           label=\"Wind Sensors\", rasterized=True)\n",
    "ax.scatter(0,0, s=30, color=\"#fd6549ff\", label=\"Odor Source\", rasterized=True)\n",
    "ax.scatter(trajectory.xsrc, trajectory.ysrc, \n",
    "           c=trajectory.odor, cmap='inferno', s=0.01,alpha=0.2, rasterized=True)\n",
    "ax.grid(False)\n",
    "ax.set_rasterization_zorder(-20)\n",
    "ax.ticklabel_format(useOffset=False)\n",
    "ax.autoscale(enable=True)\n",
    "ax.set_xlim(-30,20)\n",
    "\n",
    "# ax.set_xlabel('Longitude, m',labelpad=-7)\n",
    "# ax.set_ylabel('Latitude, m', labelpad=-9)\n",
    "mpl_functions.adjust_spines(ax,['left','bottom'],\n",
    "                           spine_locations={'left': 5, 'bottom': 5}, \n",
    "                           smart_bounds=True,\n",
    "                           yticks=[-35,5],\n",
    "                           xticks=[-30,20],\n",
    "                           linewidth=0.5)\n",
    "\n",
    "\n",
    "\n",
    "\n",
    "figurefirst.mpl_functions.set_fontsize(ax, FS)\n",
    "\n",
    "layout.append_figure_to_layer(layout.figures['fig3'], 'fig3', cleartarget=True)\n",
    "layout.write_svg('../../Figure/method2.svg')\n"
   ]
  },
  {
   "cell_type": "markdown",
   "id": "referenced-ballot",
   "metadata": {},
   "source": [
    "### Panel 4"
   ]
  },
  {
   "cell_type": "code",
   "execution_count": 7,
   "id": "vietnamese-machine",
   "metadata": {},
   "outputs": [],
   "source": [
    "df = pd.read_hdf(\"../../data/methodfigure2/windgpsdata.hdf\")\n",
    "time =df.time-df.time[0]\n",
    "df['time']=time"
   ]
  },
  {
   "cell_type": "code",
   "execution_count": 34,
   "id": "seeing-literature",
   "metadata": {},
   "outputs": [],
   "source": [
    "ax1=layout.axes[('figws','ws1')]\n",
    "ax2=layout.axes[('figws','ws2')]\n",
    "m_size=0.1\n",
    "ax1.scatter(df.time,df.S2_1, label='Station01', c='darkorange', edgecolors='none',s=m_size,rasterized=True)\n",
    "ax2.scatter(df.time,df.S2_2, label='Station05', edgecolors='none', s=m_size,rasterized=True)\n",
    "ax2.scatter(df.time,df.S2_3, label='Station06', edgecolors='none', s=m_size,rasterized=True)\n",
    "ax2.scatter(df.time,df.S2_5, label='Station07', edgecolors='none', s=m_size,rasterized=True)\n",
    "ax2.scatter(df.time,df.S2_6, label='Station08', edgecolors='none', s=m_size,rasterized=True)\n",
    "ax2.scatter(df.time,df.S2_8, label='Station09', edgecolors='none', s=m_size,rasterized=True)\n",
    "ax2.scatter(df.time,df.S2_9, c='green', label='Station09', edgecolors='none', alpha=0.2, s=m_size,rasterized=True)\n",
    "\n",
    "ax1.set_rasterization_zorder(-20)\n",
    "ax2.set_rasterization_zorder(-20)\n",
    "\n",
    "ax1.grid(False)\n",
    "ax2.grid(False)\n",
    "\n",
    "mpl_functions.adjust_spines(ax1,['left'],\n",
    "                            spine_locations={'left': 5, 'bottom': 5}, \n",
    "                            smart_bounds=True,\n",
    "#                             xticks=[0,2000,4000,6000,8000,10000,12000],\n",
    "                            yticks=[0,5,10],\n",
    "                            linewidth=0.5)\n",
    "                                 \n",
    "mpl_functions.adjust_spines(ax2,['left'],\n",
    "                            spine_locations={'left': 5, 'bottom': 5}, \n",
    "                            smart_bounds=True,\n",
    "#                             xticks=[0,40000,80000],\n",
    "                            yticks=[0,5,10],\n",
    "                            linewidth=0.5)\n",
    "\n",
    "# ax1.set_title('Forest Wind Speed', pad=1)\n",
    "\n",
    "\n",
    "figurefirst.mpl_functions.set_fontsize(ax1, FS)\n",
    "figurefirst.mpl_functions.set_fontsize(ax2, FS)\n",
    "\n",
    "layout.append_figure_to_layer(layout.figures['figws'], 'figws', cleartarget=True)\n",
    "layout.write_svg('../../Figure/method2.svg')\n"
   ]
  },
  {
   "cell_type": "code",
   "execution_count": 35,
   "id": "hollow-israel",
   "metadata": {},
   "outputs": [],
   "source": [
    "ax3=layout.axes[('figwd','wd1')]\n",
    "ax4=layout.axes[('figwd','wd2')]\n",
    "m_size=0.1\n",
    "ax3.scatter(df.time ,df.D_1, label='Station01',  c='darkorange', edgecolors='none', s=m_size,rasterized=True)\n",
    "ax4.scatter(df.time ,df.D_2, label='Station05', edgecolors='none', s=m_size,rasterized=True)\n",
    "ax4.scatter(df.time ,df.D_3, label='Station06', edgecolors='none', s=m_size,rasterized=True)\n",
    "ax4.scatter(df.time ,df.D_5, label='Station07', edgecolors='none', s=m_size,rasterized=True)\n",
    "ax4.scatter(df.time ,df.D_6, label='Station08', edgecolors='none', s=m_size,rasterized=True)\n",
    "ax4.scatter(df.time ,df.D_8, label='Station09', edgecolors='none', s=m_size,rasterized=True)\n",
    "ax4.scatter(df.time ,df.D_9, c='green', label='Station09', edgecolors='none', alpha=0.2, s=m_size,rasterized=True)\n",
    "\n",
    "ax3.set_rasterization_zorder(-20)\n",
    "ax4.set_rasterization_zorder(-20)\n",
    "ax3.grid(False)\n",
    "ax4.grid(False)\n",
    "\n",
    "mpl_functions.adjust_spines(ax3,['left'],\n",
    "                            spine_locations={'left': 5, 'bottom': 5}, \n",
    "                            smart_bounds=True,\n",
    "                            yticks=[0,180,360],\n",
    "                            linewidth=0.5)\n",
    "                                 \n",
    "mpl_functions.adjust_spines(ax4,['left','bottom'],\n",
    "                            spine_locations={'left': 5, 'bottom': 5}, \n",
    "                            smart_bounds=True,\n",
    "                            xticks=[0,14000],\n",
    "                            yticks=[0,180,360],\n",
    "                            linewidth=0.5)\n",
    "\n",
    "ax4.set_xticklabels([0,4])\n",
    "# ax3.set_title('Forest Wind Direction', pad=0)\n",
    "figurefirst.mpl_functions.set_fontsize(ax3, FS)\n",
    "figurefirst.mpl_functions.set_fontsize(ax4, FS)\n",
    "\n",
    "layout.append_figure_to_layer(layout.figures['figwd'], 'figwd', cleartarget=True)\n",
    "layout.write_svg('../../Figure/method2.svg')"
   ]
  }
 ],
 "metadata": {
  "kernelspec": {
   "display_name": "vscode38kernel",
   "language": "python",
   "name": "pywork38"
  },
  "language_info": {
   "codemirror_mode": {
    "name": "ipython",
    "version": 3
   },
   "file_extension": ".py",
   "mimetype": "text/x-python",
   "name": "python",
   "nbconvert_exporter": "python",
   "pygments_lexer": "ipython3",
   "version": "3.8.10"
  }
 },
 "nbformat": 4,
 "nbformat_minor": 5
}
