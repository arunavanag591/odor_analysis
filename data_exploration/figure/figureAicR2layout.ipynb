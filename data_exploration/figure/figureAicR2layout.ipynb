{
 "cells": [
  {
   "cell_type": "code",
   "execution_count": 1,
   "id": "aee697ec",
   "metadata": {},
   "outputs": [],
   "source": [
    "#dataframes\n",
    "import pandas as pd\n",
    "import h5py\n",
    "\n",
    "import sys\n",
    "sys.path.append('../')\n",
    "import odor_statistics_lib as osm\n",
    "\n",
    "# user defined functions\n",
    "\n",
    "#speedup\n",
    "import multiprocessing as mp\n",
    "\n",
    "#suppress warnings\n",
    "import warnings\n",
    "warnings.simplefilter(action='ignore', category=FutureWarning)\n",
    "pd.TimeSeries = pd.Series \n",
    "\n",
    "#math\n",
    "import numpy as np\n",
    "import math\n",
    "from scipy.spatial.distance import cdist\n",
    "from scipy import signal\n",
    "\n",
    "#plots\n",
    "import pylab as plt\n",
    "import matplotlib.pyplot as plt\n",
    "from matplotlib.ticker import MaxNLocator\n",
    "import matplotlib\n",
    "from figurefirst import FigureLayout,mpl_functions\n",
    "import figurefirst\n",
    "import matplotlib.image as mpimg\n",
    "from mpl_toolkits.axes_grid1 import make_axes_locatable # for colorbar\n",
    "import seaborn as sns\n",
    "sns.set()\n",
    "sns.set_style(\"whitegrid\")\n",
    "import figurefirst as fifi\n",
    "from IPython.display import display,SVG\n",
    "\n",
    "#misc\n",
    "import cairosvg\n",
    "import time\n",
    "np.set_printoptions(suppress=True)\n",
    "import fly_plot_lib.plot as fpl\n",
    "# matplotlib.rcParams['font.family'] = [ 'sans-serif']\n",
    "FS=7"
   ]
  },
  {
   "cell_type": "code",
   "execution_count": 2,
   "id": "2ee8b059",
   "metadata": {},
   "outputs": [
    {
     "data": {
      "image/png": "[encoded data removed]",
      "text/plain": [
       "<Figure size 595.276x841.89 with 1 Axes>"
      ]
     },
     "metadata": {},
     "output_type": "display_data"
    },
    {
     "data": {
      "image/png": "[encoded data removed]",
      "text/plain": [
       "<Figure size 595.276x841.89 with 3 Axes>"
      ]
     },
     "metadata": {},
     "output_type": "display_data"
    },
    {
     "data": {
      "image/png": "[encoded data removed]",
      "text/plain": [
       "<Figure size 595.276x841.89 with 6 Axes>"
      ]
     },
     "metadata": {},
     "output_type": "display_data"
    }
   ],
   "source": [
    "layout = fifi.svg_to_axes.FigureLayout('../../../Figure/r2AicStatPlot.svg',\n",
    "                                           autogenlayers=True, make_mplfigures=True, hide_layers=[])"
   ]
  },
  {
   "cell_type": "markdown",
   "id": "d896a934",
   "metadata": {},
   "source": [
    "### R2 vs LT "
   ]
  },
  {
   "cell_type": "code",
   "execution_count": 3,
   "id": "253b7afc",
   "metadata": {},
   "outputs": [],
   "source": [
    "dir='~/DataAnalysis/Figure/outputs/Fig6Assets/'\n",
    "df = pd.read_hdf(dir+'R2LtTime.h5')\n",
    "line_width=0.5\n",
    "msize=3\n",
    "ax=layout.axes[('fig1','ax1')]\n",
    "ax.grid(False)\n",
    "ax.plot(df.time,df.r2_hws, label='WS>3.5m/s',linewidth=line_width,rasterized=True)\n",
    "ax.plot(df.time,df.r2_hws,'o',markersize=msize,rasterized=True)\n",
    "\n",
    "ax.plot(df.time,df.r2_lws, label='WS<3.5m/s',linewidth=line_width,rasterized=True)\n",
    "ax.plot(df.time,df.r2_lws,'o',markersize=msize,rasterized=True)\n",
    "\n",
    "ax.plot(df.time,df.r2_forest, c='black', label='Forest',linewidth=line_width,rasterized=True)\n",
    "ax.plot(df.time,df.r2_forest,'o',markersize=msize,rasterized=True)\n",
    "\n",
    "ax.axvline(10, color = 'red', alpha=0.5, linewidth=line_width)\n",
    "\n",
    "ax.set_rasterization_zorder(-20)\n",
    "\n",
    "ax.set_xlabel('Lookback Time,s')\n",
    "ax.xaxis.set_label_coords(0.5, -0.1)\n",
    "\n",
    "ax.set_ylabel('$R^2$')\n",
    "ax.yaxis.set_label_coords(-0.08, 0.5)\n",
    "\n",
    "ax.text(11,0.3,'$LT$=10s',color='black',fontsize='14',c='blue')\n",
    "\n",
    "mpl_functions.adjust_spines(ax,['left','bottom'],\n",
    "                                spine_locations={'left': 5, 'bottom': 5}, \n",
    "                                smart_bounds=True,\n",
    "                                xticks=[0,20],\n",
    "                                yticks=[0.2,0.9],\n",
    "                                linewidth=0.5)\n",
    "\n",
    "\n",
    "figurefirst.mpl_functions.set_fontsize(ax, FS)\n",
    "layout.append_figure_to_layer(layout.figures['fig1'], 'fig1', cleartarget=True)\n",
    "layout.write_svg('../../../Figure/r2AicStatPlot.svg')"
   ]
  },
  {
   "cell_type": "markdown",
   "id": "b3001ff1",
   "metadata": {},
   "source": [
    "### Whiff Distribution Statistics"
   ]
  },
  {
   "cell_type": "code",
   "execution_count": 4,
   "id": "03daca79",
   "metadata": {},
   "outputs": [],
   "source": [
    "dir = '~/DataAnalysis/data/Sprints/HighRes/'\n",
    "df = pd.read_hdf(dir+'All_Datasets_Predictions.h5')"
   ]
  },
  {
   "cell_type": "markdown",
   "id": "22dc12ca",
   "metadata": {},
   "source": [
    "#### MC Mean"
   ]
  },
  {
   "cell_type": "code",
   "execution_count": 5,
   "id": "66e37a37",
   "metadata": {},
   "outputs": [],
   "source": [
    "ax=layout.axes[('fig1','ax2')]\n",
    "ax.grid(False)\n",
    "dataframe=df\n",
    "distance = dataframe.distance\n",
    "test_var=(dataframe.mc_mean)\n",
    "var1 = ax.scatter(distance,test_var, c=dataframe.mc_mean,cmap='bone_r', edgecolors='none', s=4,\n",
    "                  vmin=4, vmax=10, rasterized=True)\n",
    "g1 = sns.regplot(x=distance,y=(test_var) , data=dataframe,\n",
    "            ax=ax, line_kws={'color':'red','linewidth':1}, scatter=False, truncate=False)\n",
    "g1.set(xlabel=None, ylabel=None)\n",
    "\n",
    "ax.set_rasterization_zorder(-20)\n",
    "\n",
    "# ax.set_xlabel('Dist. from Source,m')\n",
    "# ax.xaxis.set_label_coords(0.47, -0.1)\n",
    "\n",
    "ax.set_ylabel('$\\mu(mc)$,v')\n",
    "ax.yaxis.set_label_coords(-0.08, 0.5)\n",
    "\n",
    "mpl_functions.adjust_spines(ax,['left'],\n",
    "                            spine_locations={'left': 5}, \n",
    "                            smart_bounds=True,\n",
    "                            xticks=[0,50],\n",
    "                            yticks=[4.5,10.5],\n",
    "                            linewidth=0.5)\n",
    "\n",
    "figurefirst.mpl_functions.set_fontsize(ax, FS)\n",
    "layout.append_figure_to_layer(layout.figures['fig1'], 'fig1', cleartarget=True)\n",
    "layout.write_svg('../../../Figure/r2AicStatPlot.svg')\n"
   ]
  },
  {
   "cell_type": "markdown",
   "id": "bb266c5c",
   "metadata": {},
   "source": [
    "#### WF Mean"
   ]
  },
  {
   "cell_type": "code",
   "execution_count": 6,
   "id": "afd617e2",
   "metadata": {},
   "outputs": [],
   "source": [
    "ax=layout.axes[('fig1','ax3')]\n",
    "ax.grid(False)\n",
    "dataframe=df\n",
    "distance = dataframe.distance\n",
    "test_var=(dataframe.wf_mean)\n",
    "var1 = ax.scatter(distance,test_var, c=dataframe.mc_mean,cmap='bone_r', edgecolors='none', s=4,\n",
    "                  vmin=4, vmax=10, rasterized=True)\n",
    "g1 = sns.regplot(x=distance,y=(test_var) , data=dataframe,\n",
    "            ax=ax, line_kws={'color':'red','linewidth':1}, scatter=False, truncate=False)\n",
    "g1.set(xlabel=None, ylabel=None)\n",
    "\n",
    "\n",
    "ax.set_rasterization_zorder(-20)\n",
    "ax.set_ylabel('$\\mu(wf)$,hz')\n",
    "ax.yaxis.set_label_coords(-0.08, 0.5)\n",
    "\n",
    "mpl_functions.adjust_spines(ax,['left'],\n",
    "                            spine_locations={'left': 5}, \n",
    "                            smart_bounds=True,\n",
    "                            xticks=[0,50],\n",
    "                            yticks=[0,6],\n",
    "                            linewidth=0.5)\n",
    "\n",
    "figurefirst.mpl_functions.set_fontsize(ax, FS)\n",
    "layout.append_figure_to_layer(layout.figures['fig1'], 'fig1', cleartarget=True)\n",
    "layout.write_svg('../../../Figure/r2AicStatPlot.svg')\n"
   ]
  },
  {
   "cell_type": "markdown",
   "id": "fb33cf10",
   "metadata": {},
   "source": [
    "#### WD Mean"
   ]
  },
  {
   "cell_type": "code",
   "execution_count": 7,
   "id": "d2f26464",
   "metadata": {},
   "outputs": [],
   "source": [
    "ax=layout.axes[('fig1','ax4')]\n",
    "ax.grid(False)\n",
    "dataframe=df\n",
    "distance = dataframe.distance\n",
    "test_var=(dataframe.wd_mean)\n",
    "var1 = ax.scatter(distance,test_var, c=dataframe.mc_mean,cmap='bone_r', edgecolors='none', s=4,\n",
    "                  vmin=4, vmax=10, rasterized=True)\n",
    "g1 = sns.regplot(x=distance,y=(test_var) , data=dataframe,\n",
    "            ax=ax, line_kws={'color':'red','linewidth':1}, scatter=False, truncate=False)\n",
    "g1.set(xlabel=None, ylabel=None)\n",
    "\n",
    "ax.set_rasterization_zorder(-20)\n",
    "ax.set_ylabel('$\\mu(wd)$,s')\n",
    "ax.yaxis.set_label_coords(-0.08, 0.5)\n",
    "\n",
    "mpl_functions.adjust_spines(ax,['left'],\n",
    "                            spine_locations={'left': 5}, \n",
    "                            smart_bounds=True,\n",
    "                            xticks=[0,50],\n",
    "                            yticks=[-2.3,1.5],\n",
    "                            linewidth=0.5)\n",
    "\n",
    "ax.set_yticklabels([r'$10^{-2.3}$',r'$10^{1.5}$'])\n",
    "figurefirst.mpl_functions.set_fontsize(ax, FS)\n",
    "layout.append_figure_to_layer(layout.figures['fig1'], 'fig1', cleartarget=True)\n",
    "layout.write_svg('../../../Figure/r2AicStatPlot.svg')"
   ]
  },
  {
   "cell_type": "markdown",
   "id": "370ddbd9",
   "metadata": {},
   "source": [
    "#### WMA Mean"
   ]
  },
  {
   "cell_type": "code",
   "execution_count": 8,
   "id": "febe4218",
   "metadata": {},
   "outputs": [],
   "source": [
    "ax=layout.axes[('fig1','ax5')]\n",
    "ax.grid(False)\n",
    "dataframe=df\n",
    "distance = dataframe.distance\n",
    "test_var=(dataframe.ma_mean)\n",
    "var1 = ax.scatter(distance,test_var, c=dataframe.mc_mean,cmap='bone_r', edgecolors='none', s=4,\n",
    "                  vmin=4, vmax=10, rasterized=True)\n",
    "g1 = sns.regplot(x=distance,y=(test_var) , data=dataframe,\n",
    "            ax=ax, line_kws={'color':'red','linewidth':1}, scatter=False, truncate=False)\n",
    "g1.set(xlabel=None, ylabel=None)\n",
    "\n",
    "ax.set_rasterization_zorder(-20)\n",
    "\n",
    "ax.set_ylabel('$\\mu(ma)$,v')\n",
    "ax.yaxis.set_label_coords(-0.08, 0.5)\n",
    "\n",
    "ax.set_xlabel('Dist. from Source,m')\n",
    "ax.xaxis.set_label_coords(0.47, -0.1)\n",
    "\n",
    "mpl_functions.adjust_spines(ax,['left', 'bottom'],\n",
    "                            spine_locations={'left': 5, 'bottom': 5}, \n",
    "                            smart_bounds=True,\n",
    "                            xticks=[0,50],\n",
    "                            yticks=[-1,11],\n",
    "                            linewidth=0.5)\n",
    "\n",
    "ax.set_yticklabels([r'$10^{-1}$',r'$10^{1.1}$'])\n",
    "figurefirst.mpl_functions.set_fontsize(ax, FS)\n",
    "layout.append_figure_to_layer(layout.figures['fig1'], 'fig1', cleartarget=True)\n",
    "layout.write_svg('../../../Figure/r2AicStatPlot.svg')"
   ]
  },
  {
   "cell_type": "markdown",
   "id": "66f41589",
   "metadata": {},
   "source": [
    "#### WSD Mean"
   ]
  },
  {
   "cell_type": "code",
   "execution_count": 9,
   "id": "7504de5c",
   "metadata": {},
   "outputs": [],
   "source": [
    "ax=layout.axes[('fig1','ax6')]\n",
    "ax.grid(False)\n",
    "dataframe=df\n",
    "distance = dataframe.distance\n",
    "test_var=(dataframe.st_mean)\n",
    "var1 = ax.scatter(distance,test_var, c=dataframe.mc_mean,cmap='bone_r', edgecolors='none', s=4,\n",
    "                  vmin=4, vmax=10, rasterized=True)\n",
    "g1 = sns.regplot(x=distance,y=(test_var) , data=dataframe,\n",
    "            ax=ax, line_kws={'color':'red','linewidth':1}, scatter=False, truncate=False)\n",
    "g1.set(xlabel=None, ylabel=None)\n",
    "\n",
    "ax.set_rasterization_zorder(-20)\n",
    "ax.set_ylabel('$\\mu(st)$')\n",
    "ax.yaxis.set_label_coords(-0.08, 0.5)\n",
    "\n",
    "mpl_functions.adjust_spines(ax,['left'],\n",
    "                            spine_locations={'left': 5}, \n",
    "                            smart_bounds=True,\n",
    "                            xticks=[0,50],\n",
    "                            yticks=[0,2.5],\n",
    "                            linewidth=0.5)\n",
    "\n",
    "figurefirst.mpl_functions.set_fontsize(ax, FS)\n",
    "layout.append_figure_to_layer(layout.figures['fig1'], 'fig1', cleartarget=True)\n",
    "layout.write_svg('../../../Figure/r2AicStatPlot.svg')\n"
   ]
  },
  {
   "cell_type": "markdown",
   "id": "c531b419",
   "metadata": {},
   "source": [
    "### Colorbar"
   ]
  },
  {
   "cell_type": "code",
   "execution_count": 10,
   "id": "559fbac5",
   "metadata": {},
   "outputs": [],
   "source": [
    "ax = layout.axes[('cbarfig', 'cbar')]\n",
    "ytic=[4.5,11]\n",
    "\n",
    "fpl.colorbar(ax=ax, colormap='bone_r', orientation='vertical',ticks=ytic)\n",
    "ax.set_rasterization_zorder(-20)\n",
    "mpl_functions.adjust_spines(ax, ['right'], \n",
    "                                    smart_bounds=True,\n",
    "                                    spine_locations={'right': 1}, \n",
    "                                    yticks=ytic,\n",
    "                                    tick_length=1.5,\n",
    "                                    linewidth=0.5)\n",
    "\n",
    "ax.set_ylabel(\"$\\mu(mc)$, v\",rotation=-90, labelpad=-21)\n",
    "\n",
    "ax.set_yticklabels(['4.5', '10'])\n",
    "figurefirst.mpl_functions.set_fontsize(ax, FS)\n",
    "\n",
    "layout.append_figure_to_layer(layout.figures['cbarfig'], 'cbarfig', cleartarget=True)\n",
    "layout.write_svg('../../../Figure/r2AicStatPlot.svg')"
   ]
  },
  {
   "cell_type": "markdown",
   "id": "2ef7d2cc",
   "metadata": {},
   "source": [
    "### Bootstrapped R2"
   ]
  },
  {
   "cell_type": "code",
   "execution_count": 11,
   "id": "480e3ca3",
   "metadata": {},
   "outputs": [],
   "source": [
    "df = pd.read_hdf(dir+'R2_AIC/all_Rsquared.h5')"
   ]
  },
  {
   "cell_type": "code",
   "execution_count": 12,
   "id": "f436af6f",
   "metadata": {},
   "outputs": [],
   "source": [
    "ax=layout.axes[('fig2','ax7')]\n",
    "ax.grid(False)\n",
    "sns.stripplot(data=df, ax=ax, dodge=True, size=3, color='Black', rasterized=True)\n",
    "ax.set_rasterization_zorder(-20)\n",
    "\n",
    "label=['min(mc)','max(mc)','$\\mu(mc)$','$\\sigma(mc)$', '$mc_k$',\n",
    "      'min(wf)','max(wf)','$\\mu(wf)$','$\\sigma(wf)$', '$wf_k$',\n",
    "      'min(wd)','max(wd)','$\\mu(wd)$','$\\sigma(wd)$', '$wd_k$',\n",
    "      'min(ma)','max(ma)','$\\mu(ma)$','$\\sigma(ma)$', '$ma_k$',\n",
    "      'min(st)','max(st)','$\\mu(st)$','$\\sigma(st)$', '$st_k$']\n",
    "\n",
    "ax.axhline(0.05, color = 'red', alpha=0.5)\n",
    "ax.set_ylabel('$R^2$')\n",
    "ax.yaxis.set_label_coords(-0.05, 0.5)\n",
    "mpl_functions.adjust_spines(ax,['left','bottom'],\n",
    "                            spine_locations={'left': 5}, \n",
    "                            smart_bounds=True,                            \n",
    "                            yticks=[0,0.7],\n",
    "                            linewidth=0.5)\n",
    "ax.text(2,0.1,'$R^2$=0.05',color='black',fontsize='14',c='blue')\n",
    "ax.set_xticklabels(label, rotation=90)\n",
    "figurefirst.mpl_functions.set_fontsize(ax, FS)\n",
    "layout.append_figure_to_layer(layout.figures['fig2'], 'fig2', cleartarget=True)\n",
    "layout.write_svg('../../../Figure/r2AicStatPlot.svg')\n"
   ]
  },
  {
   "cell_type": "markdown",
   "id": "2a0e18e3",
   "metadata": {},
   "source": [
    "### Boootstrapped R2 and AIC for filtered parameters "
   ]
  },
  {
   "cell_type": "code",
   "execution_count": 13,
   "id": "4ceba79a",
   "metadata": {},
   "outputs": [],
   "source": [
    "combtest=pd.read_hdf(dir+'R2_AIC/AllRsquaredAicCombinations.h5')\n",
    "aic_table=pd.read_hdf(dir+'R2_AIC/All_AicDeltaTab.h5')"
   ]
  },
  {
   "cell_type": "code",
   "execution_count": 14,
   "id": "04cabdf4",
   "metadata": {},
   "outputs": [],
   "source": [
    "ax=layout.axes[('fig2','ax8')]\n",
    "ax.grid(False)\n",
    "g=sns.stripplot(x=combtest.rsquared,y=combtest.n_para,data=combtest, \n",
    "              ax=ax, color='black',\n",
    "              dodge=True, orient='h',s=1,rasterized=True)\n",
    "g.set(xlabel=None, ylabel=None)\n",
    "ax.set_xlabel('$R^2$')\n",
    "ax.set_ylabel('# Parameters')\n",
    "ax.xaxis.set_label_coords(0.5, -0.1)\n",
    "ax.yaxis.set_label_coords(-0.15, 0.5)\n",
    "ax.set_rasterization_zorder(-20)\n",
    "mpl_functions.adjust_spines(ax,['left','bottom'],\n",
    "                            spine_locations={'left': 5, 'bottom': 5}, \n",
    "                            smart_bounds=True,                            \n",
    "                            xticks=[0,0.7],\n",
    "#                             yticks=[0,1,2,3,4,5,6,7,8],\n",
    "                            linewidth=0.5)\n",
    "ax.set_yticklabels(np.arange(1,len(aic_table)+1,1))\n",
    "figurefirst.mpl_functions.set_fontsize(ax, FS)\n",
    "layout.append_figure_to_layer(layout.figures['fig2'], 'fig2', cleartarget=True)\n",
    "layout.write_svg('../../../Figure/r2AicStatPlot.svg')"
   ]
  },
  {
   "cell_type": "code",
   "execution_count": 15,
   "id": "8fd76d2f",
   "metadata": {},
   "outputs": [],
   "source": [
    "ax=layout.axes[('fig2','ax9')]\n",
    "ax.grid(False)\n",
    "g=sns.stripplot(x=combtest.aic,y=combtest.n_para, data=combtest, color='black',\n",
    "              ax=ax,dodge=True, orient = 'h',s=1,rasterized=True)\n",
    "g.set(xlabel=None, ylabel=None)\n",
    "ax.set_xlabel('$AIC$')\n",
    "ax.xaxis.set_label_coords(0.5, -0.1)\n",
    "ax.scatter(aic_table.aic_min,np.arange(0,len(aic_table),1),c='red', \n",
    "            marker='o', s=5, facecolor=None,rasterized=True)\n",
    "ax.plot(aic_table.aic_min,np.arange(0,len(aic_table),1),c='red',alpha=0.2,rasterized=True)\n",
    "\n",
    "ax.set_rasterization_zorder(-20)\n",
    "\n",
    "mpl_functions.adjust_spines(ax,['left','bottom'],\n",
    "                            spine_locations={'left': 5,'bottom': 5}, \n",
    "                            smart_bounds=True,                            \n",
    "                            xticks=[10500,12000],\n",
    "                            yticks=[0,9],\n",
    "                            linewidth=0.5)\n",
    "ax.set_yticklabels([r'$1$',r'$9$'])\n",
    "# ax.set_xticklabels([r'$10.5*10^{3}$',r'$12*10^{32}$'])\n",
    "figurefirst.mpl_functions.set_fontsize(ax, FS)\n",
    "layout.append_figure_to_layer(layout.figures['fig2'], 'fig2', cleartarget=True)\n",
    "layout.write_svg('../../../Figure/r2AicStatPlot.svg')"
   ]
  },
  {
   "cell_type": "code",
   "execution_count": null,
   "id": "4b8687fc",
   "metadata": {},
   "outputs": [],
   "source": []
  }
 ],
 "metadata": {
  "kernelspec": {
   "display_name": "Python 3 (ipykernel)",
   "language": "python",
   "name": "python3"
  },
  "language_info": {
   "codemirror_mode": {
    "name": "ipython",
    "version": 3
   },
   "file_extension": ".py",
   "mimetype": "text/x-python",
   "name": "python",
   "nbconvert_exporter": "python",
   "pygments_lexer": "ipython3",
   "version": "3.8.10"
  }
 },
 "nbformat": 4,
 "nbformat_minor": 5
}
