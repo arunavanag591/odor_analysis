{
 "cells": [
  {
   "cell_type": "code",
   "execution_count": 1,
   "id": "8b4ab328",
   "metadata": {},
   "outputs": [],
   "source": [
    "#dataframes\n",
    "import pandas as pd\n",
    "import h5py\n",
    "\n",
    "#speedup\n",
    "import multiprocessing as mp\n",
    "\n",
    "#suppress warnings\n",
    "import warnings\n",
    "warnings.simplefilter(action='ignore', category=FutureWarning)\n",
    "pd.TimeSeries = pd.Series \n",
    "\n",
    "#math\n",
    "import numpy as np\n",
    "import math as m\n",
    "from scipy.spatial.distance import cdist\n",
    "from scipy import signal\n",
    "\n",
    "#plots\n",
    "import pylab as plt\n",
    "import matplotlib.pyplot as plt\n",
    "from matplotlib.ticker import MaxNLocator\n",
    "import matplotlib.ticker as ticker\n",
    "from matplotlib import colors\n",
    "import matplotlib\n",
    "from figurefirst import FigureLayout,mpl_functions\n",
    "import figurefirst\n",
    "import matplotlib.image as mpimg\n",
    "from mpl_toolkits.axes_grid1 import make_axes_locatable # for colorbar\n",
    "import seaborn as sns\n",
    "sns.set()\n",
    "sns.set_style(\"whitegrid\")\n",
    "import matplotlib.colors as mcolors\n",
    "import figurefirst as fifi\n",
    "from IPython.display import display,SVG\n",
    "\n",
    "#misc\n",
    "import cairosvg\n",
    "import time\n",
    "np.set_printoptions(suppress=True)\n",
    "import fly_plot_lib.plot as fpl\n",
    "FS=7"
   ]
  },
  {
   "cell_type": "code",
   "execution_count": 6,
   "id": "e767d599",
   "metadata": {},
   "outputs": [
    {
     "data": {
      "image/png": "[encoded data removed]",
      "text/plain": [
       "<Figure size 595.276x841.89 with 7 Axes>"
      ]
     },
     "metadata": {},
     "output_type": "display_data"
    },
    {
     "data": {
      "image/png": "[encoded data removed]",
      "text/plain": [
       "<Figure size 595.276x841.89 with 3 Axes>"
      ]
     },
     "metadata": {},
     "output_type": "display_data"
    },
    {
     "data": {
      "image/png": "[encoded data removed]",
      "text/plain": [
       "<Figure size 595.276x841.89 with 1 Axes>"
      ]
     },
     "metadata": {},
     "output_type": "display_data"
    },
    {
     "data": {
      "image/png": "[encoded data removed]",
      "text/plain": [
       "<Figure size 595.276x841.89 with 1 Axes>"
      ]
     },
     "metadata": {},
     "output_type": "display_data"
    },
    {
     "data": {
      "image/png": "[encoded data removed]",
      "text/plain": [
       "<Figure size 595.276x841.89 with 1 Axes>"
      ]
     },
     "metadata": {},
     "output_type": "display_data"
    }
   ],
   "source": [
    "layout = fifi.svg_to_axes.FigureLayout('../../../Figure/fig3.svg',\n",
    "                                           autogenlayers=True, make_mplfigures=True, hide_layers=[])"
   ]
  },
  {
   "cell_type": "markdown",
   "id": "91906431",
   "metadata": {},
   "source": [
    "### Panel A"
   ]
  },
  {
   "cell_type": "code",
   "execution_count": 19,
   "id": "6ceefe7f",
   "metadata": {},
   "outputs": [],
   "source": [
    "dir = '~/DataAnalysis/data/Sprints/LowRes/'\n",
    "df = pd.read_hdf(dir+'NotWindy.h5')\n",
    "dt= df.master_time[1]-df.master_time[0]\n",
    "df = df[df['time'].between(100,300)]\n",
    "df.reset_index(inplace=True, drop=True) \n",
    "\n",
    "def streakline_container(eastwest,northsouth):\n",
    "\n",
    "    for i in range((len(eastwest))-1,-1, -1): \n",
    "        eastwest = np.resize(np.array([eastwest-df.corrected_u[i]*dt]),(1,i)).flatten() \n",
    "        northsouth = np.resize(np.array([northsouth-df.corrected_v[i]*dt]),(1,i)).flatten()\n",
    "        x.loc[i]=np.pad(eastwest, ((len(df)-len(eastwest)),0),'constant', constant_values=(0))\n",
    "        y.loc[i]=np.pad(northsouth, ((len(df)-len(northsouth)),0),'constant', constant_values=(0))\n",
    "\n",
    "def streakline_calculation(df):\n",
    "    et = [np.sum(df.corrected_u[j:])*dt for j in range(0,len(df))]\n",
    "    nt = [np.sum(df.corrected_v[j:])*dt for j in range(0,len(df))]\n",
    "    return et, nt\n",
    "\n",
    "def prepare_df(df):\n",
    "    df.pop(df.columns[0])\n",
    "    strings=[]\n",
    "    for i in range(len(df)-1,0,-1):\n",
    "        strings.append(\"p\"+str(i))\n",
    "    df.columns=strings\n",
    "    df.reset_index(inplace=True, drop=True) \n",
    "    return df\n",
    "\n",
    "    \n",
    "et, nt = streakline_calculation(df)\n",
    "\n",
    "strings=[]\n",
    "for i in range(len(df)):\n",
    "    strings.append(\"p\"+str(i))\n",
    "\n",
    "x=pd.DataFrame(columns=strings,index=range(len(df)))\n",
    "y=pd.DataFrame(columns=strings,index=range(len(df)))\n",
    "streakline_container(et,nt)\n",
    "x=prepare_df(x)\n",
    "y=prepare_df(y)"
   ]
  },
  {
   "cell_type": "code",
   "execution_count": 20,
   "id": "e6e74413",
   "metadata": {},
   "outputs": [],
   "source": [
    "ax=layout.axes[('fig1','sta')]\n",
    "i=779\n",
    "area = (np.arange(start = i, stop = 0 , step = -1)) #area\n",
    "ax.scatter(x.loc[i][x.loc[i]!=0],y.loc[i][y.loc[i]!=0], c='#febf6e', s=np.power(area,0.7), \n",
    "           edgecolors='none', rasterized=True)\n",
    "\n",
    "ax.plot(df.xsrc[i],df.ysrc[i],marker='*', markersize=5, c='green', rasterized=True)\n",
    "\n",
    "var = ax.scatter(df.xsrc[:i],df.ysrc[:i], c = df.odor[:i],\n",
    "                     cmap = 'inferno_r', vmin =0 , vmax = 10, s = 0.09,rasterized=True )       \n",
    "# c_bar(ax, var)\n",
    "ax.grid(False)\n",
    "ax.axes.axis('off')\n",
    "ax.autoscale(enable=True)\n",
    "ax.set_xlim(-5,15)\n",
    "ax.set_ylim(-5,25)\n",
    "\n",
    "# ax.text(-2, 20,\"t= \" + str('{:.4g}'.format(df.time[i]))+ \" s\")\n",
    "ax.set_rasterization_zorder(-20)\n",
    "figurefirst.mpl_functions.set_fontsize(ax,FS)\n",
    "layout.append_figure_to_layer(layout.figures['fig1'], 'fig1', cleartarget=True)\n",
    "layout.write_svg('../../../Figure/fig3.svg')\n"
   ]
  },
  {
   "cell_type": "code",
   "execution_count": 21,
   "id": "65e0960b",
   "metadata": {},
   "outputs": [],
   "source": [
    "\n",
    "ax=layout.axes[('fig1','stb')]\n",
    "i=987\n",
    "area = (np.arange(start = i, stop = 0 , step = -1)) #area\n",
    "ax.scatter(x.loc[i][x.loc[i]!=0],y.loc[i][y.loc[i]!=0], c='#febf6e', s=np.power(area,0.7), \n",
    "           edgecolors='none',rasterized=True)\n",
    "\n",
    "ax.plot(df.xsrc[i],df.ysrc[i],marker='*', markersize=5, c='green', rasterized=True)\n",
    "\n",
    "var = ax.scatter(df.xsrc[:i],df.ysrc[:i], c = df.odor[:i],\n",
    "                     cmap = 'inferno_r', vmin =0 , vmax = 10, s = 0.09,rasterized=True )       \n",
    "ax.grid(False)\n",
    "ax.axes.axis('off')\n",
    "ax.autoscale(enable=True)\n",
    "ax.set_xlim(-5,15)\n",
    "ax.set_ylim(-5,25)\n",
    "\n",
    "# ax.text(-2, 20,\"t= \" + str('{:.4g}'.format(df.time[i]))+ \" s\")\n",
    "ax.set_rasterization_zorder(-20)\n",
    "figurefirst.mpl_functions.set_fontsize(ax,FS)\n",
    "layout.append_figure_to_layer(layout.figures['fig1'], 'fig1', cleartarget=True)\n",
    "layout.write_svg('../../../Figure/fig3.svg')"
   ]
  },
  {
   "cell_type": "code",
   "execution_count": 22,
   "id": "70054493",
   "metadata": {},
   "outputs": [],
   "source": [
    "ax=layout.axes[('fig1','stc')]\n",
    "i=1089\n",
    "area = (np.arange(start = i, stop = 0 , step = -1)) #area\n",
    "ax.scatter(x.loc[i][x.loc[i]!=0],y.loc[i][y.loc[i]!=0], c='#febf6e', s=np.power(area,0.7), \n",
    "           edgecolors='none', rasterized=True)\n",
    "\n",
    "ax.plot(df.xsrc[i],df.ysrc[i],marker='*', markersize=5, c='green', rasterized=True)\n",
    "\n",
    "var = ax.scatter(df.xsrc[:i],df.ysrc[:i], c = df.odor[:i],\n",
    "                     cmap = 'inferno_r', vmin =0 , vmax = 10, s = 0.09,rasterized=True )       \n",
    "ax.grid(False)\n",
    "ax.axes.axis('off')\n",
    "ax.autoscale(enable=True)\n",
    "ax.set_xlim(-5,15)\n",
    "ax.set_ylim(-5,25)\n",
    "\n",
    "# ax.text(-4, 20,\"t= \" + str('{:.4g}'.format(df.time[i]))+ \" s\")\n",
    "ax.set_rasterization_zorder(-20)\n",
    "figurefirst.mpl_functions.set_fontsize(ax,FS)\n",
    "layout.append_figure_to_layer(layout.figures['fig1'], 'fig1', cleartarget=True)\n",
    "layout.write_svg('../../../Figure/fig3.svg')"
   ]
  },
  {
   "cell_type": "code",
   "execution_count": 23,
   "id": "c6acb14b",
   "metadata": {},
   "outputs": [],
   "source": [
    "ax=layout.axes[('fig1','std')]\n",
    "i=1143\n",
    "area = (np.arange(start = i, stop = 0 , step = -1)) #area\n",
    "ax.scatter(x.loc[i][x.loc[i]!=0],y.loc[i][y.loc[i]!=0], c='#febf6e', s=np.power(area,0.7), \n",
    "           edgecolors='none',rasterized=True)\n",
    "\n",
    "ax.plot(df.xsrc[i],df.ysrc[i],marker='*', markersize=5, c='green', rasterized=True)\n",
    "\n",
    "var = ax.scatter(df.xsrc[:i],df.ysrc[:i], c = df.odor[:i],\n",
    "                     cmap = 'inferno_r', vmin =0 , vmax = 10, s = 0.09,rasterized=True )       \n",
    "ax.grid(False)\n",
    "ax.axes.axis('off')\n",
    "ax.autoscale(enable=True)\n",
    "ax.set_xlim(-10,15)\n",
    "ax.set_ylim(-5,25)\n",
    "\n",
    "# ax.text(-4, 20,\"t= \" + str('{:.4g}'.format(df.time[i]))+ \" s\")\n",
    "ax.set_rasterization_zorder(-20)\n",
    "figurefirst.mpl_functions.set_fontsize(ax,FS)\n",
    "layout.append_figure_to_layer(layout.figures['fig1'], 'fig1', cleartarget=True)\n",
    "layout.write_svg('../../../Figure/fig3.svg')"
   ]
  },
  {
   "cell_type": "code",
   "execution_count": 24,
   "id": "917079c4",
   "metadata": {},
   "outputs": [],
   "source": [
    "ax=layout.axes[('fig1','ste')]\n",
    "i=1179\n",
    "area = (np.arange(start = i, stop = 0 , step = -1)) #area\n",
    "ax.scatter(x.loc[i][x.loc[i]!=0],y.loc[i][y.loc[i]!=0], c='#febf6e', s=np.power(area,0.7), \n",
    "           edgecolors='none',rasterized=True)\n",
    "\n",
    "ax.plot(df.xsrc[i],df.ysrc[i],marker='*', markersize=5, c='green', rasterized=True)\n",
    "\n",
    "var = ax.scatter(df.xsrc[:i],df.ysrc[:i], c = df.odor[:i],\n",
    "                     cmap = 'inferno_r', vmin =0 , vmax = 10, s = 0.09,rasterized=True )       \n",
    "ax.grid(False)\n",
    "\n",
    "ax.autoscale(enable=True)\n",
    "ax.set_xlim(-10,15)\n",
    "ax.set_ylim(-5,25)\n",
    "\n",
    "mpl_functions.adjust_spines(ax,['left','bottom'],\n",
    "                            spine_locations={'left': 5, 'bottom': 5}, \n",
    "                            smart_bounds=True,\n",
    "                            xticks=[-10,15],\n",
    "                            yticks=[-5,25],\n",
    "                            linewidth=0.5)\n",
    "\n",
    "# ax.text(-4, 20,\"t= \" + str('{:.4g}'.format(df.time[i]))+ \" s\")\n",
    "ax.set_rasterization_zorder(-20)\n",
    "figurefirst.mpl_functions.set_fontsize(ax,FS)\n",
    "layout.append_figure_to_layer(layout.figures['fig1'], 'fig1', cleartarget=True)\n",
    "layout.write_svg('../../../Figure/fig3.svg')"
   ]
  },
  {
   "cell_type": "code",
   "execution_count": 25,
   "id": "713e3291",
   "metadata": {},
   "outputs": [],
   "source": [
    "ax=layout.axes[('fig1','stf')]\n",
    "i=1210\n",
    "area = (np.arange(start = i, stop = 0 , step = -1)) #area\n",
    "ax.scatter(x.loc[i][x.loc[i]!=0],y.loc[i][y.loc[i]!=0], c='#febf6e', s=np.power(area,0.7), \n",
    "           edgecolors='none',rasterized=True)\n",
    "\n",
    "ax.plot(df.xsrc[i],df.ysrc[i],marker='*', markersize=5, c='green', rasterized=True)\n",
    "\n",
    "var = ax.scatter(df.xsrc[:i],df.ysrc[:i], c = df.odor[:i],\n",
    "                     cmap = 'inferno_r', vmin =0 , vmax = 10, s = 0.05,rasterized=True )       \n",
    "ax.grid(False)\n",
    "ax.axes.axis('off')\n",
    "ax.autoscale(enable=True)\n",
    "ax.set_xlim(-10,15)\n",
    "# ax.axline((0,0), slope=-1, linestyle='dashed', linewidth=2, color='r', alpha=0.\n",
    "ax.set_ylim(-5,25)\n",
    "\n",
    "# ax.text(-4, 20,\"t= \" + str('{:.4g}'.format(df.time[i]))+ \" s\")\n",
    "ax.set_rasterization_zorder(-20)\n",
    "figurefirst.mpl_functions.set_fontsize(ax,FS)\n",
    "layout.append_figure_to_layer(layout.figures['fig1'], 'fig1', cleartarget=True)\n",
    "layout.write_svg('../../../Figure/fig3.svg')"
   ]
  },
  {
   "cell_type": "markdown",
   "id": "2933d576",
   "metadata": {},
   "source": [
    "### Color Bar 1"
   ]
  },
  {
   "cell_type": "code",
   "execution_count": 26,
   "id": "ea3af89f",
   "metadata": {},
   "outputs": [],
   "source": [
    "ax = layout.axes[('cbar1', 'cbar1')]\n",
    "\n",
    "fpl.colorbar(ax=ax, colormap='inferno_r', orientation='vertical', ticks=[0,10],vmi=0,vma=10)\n",
    "mpl_functions.adjust_spines(ax, ['right'], \n",
    "                                    smart_bounds=True,\n",
    "                                    spine_locations={'right': 1}, \n",
    "                                    yticks=[0, 10],\n",
    "                                    tick_length=2.5,\n",
    "                                    linewidth=0.5)\n",
    "\n",
    "ax.set_ylabel(\"Odor, v\",rotation=-90, labelpad=-9)\n",
    "\n",
    "ax.set_yticklabels(['0', '10'])\n",
    "ax.set_rasterization_zorder(-20)\n",
    "figurefirst.mpl_functions.set_fontsize(ax, FS)\n",
    "\n",
    "layout.append_figure_to_layer(layout.figures['cbar1'], 'cbar1', cleartarget=True)\n",
    "layout.write_svg('../../../Figure/fig3.svg')"
   ]
  },
  {
   "cell_type": "markdown",
   "id": "44f3b3a2",
   "metadata": {},
   "source": [
    "### Panel C - Encounter Map Plots\n"
   ]
  },
  {
   "cell_type": "code",
   "execution_count": 2,
   "id": "2e424ac1",
   "metadata": {},
   "outputs": [],
   "source": [
    "df1 = pd.read_hdf('~/DataAnalysis/data/Sprints/HighRes/Windy/WindyMASigned.h5')\n",
    "df2 = pd.read_hdf('~/DataAnalysis/data/Sprints/HighRes/NotWindy/NotWindyMASigned.h5')\n",
    "df3 = pd.read_hdf('~/DataAnalysis/data/Sprints/HighRes/Forest/ForestMASigned.h5')\n",
    "\n",
    "q='odor>4.5'\n",
    "dfdist1=df1.query(q)\n",
    "dfdist2=df2.query(q)\n",
    "dfdist3=df3.query(q)\n",
    "\n",
    "dataframes=[dfdist1,dfdist2,dfdist3]\n",
    "data=[df1,df2,df3]"
   ]
  },
  {
   "cell_type": "code",
   "execution_count": 261,
   "id": "4be22b67",
   "metadata": {},
   "outputs": [],
   "source": [
    "ax = layout.axes[('fig3', 'mapa')]\n",
    "ax.grid(False)\n",
    "# ax.hist2d(df1.distance_from_source_a*df1.xsign,\n",
    "#                     df1.nearest_from_streakline*df1.ysign,\n",
    "#                     cmap='Greys',bins=20, alpha=0.3,norm=colors.LogNorm())\n",
    "\n",
    "hist, xedges, yedges = np.histogram2d(df1.distance_from_source_a*df1.xsign,\n",
    "                                      df1.nearest_from_streakline*df1.ysign, \n",
    "                                      bins=20, normed=False)\n",
    "\n",
    "dt=df1.master_time[1]-df1.master_time[0]\n",
    "counts_dt = hist * dt\n",
    "counts_dt = np.nan_to_num(counts_dt, nan=0.0, posinf=0.0, neginf=0.0)\n",
    "\n",
    "\n",
    "\n",
    "pc = ax.pcolormesh(xedges, yedges, counts_dt.T, \n",
    "                   cmap='Greys', norm=colors.LogNorm(),rasterized=True) \n",
    "\n",
    "# ax.scatter(dataframes[0].distance_from_source_a*dataframes[0].xsign,\n",
    "#                     dataframes[0].nearest_from_streakline*dataframes[0].ysign,\n",
    "#                     c=dataframes[0].odor, cmap='inferno_r',vmin=0,vmax=10,\n",
    "#            edgecolors='none', s=5,alpha=0.2, rasterized=True )\n",
    "\n",
    "\n",
    "ax.axhline(0, color = 'grey', alpha=0.5)\n",
    "ax.axvline(0, color = 'grey', alpha=0.5)\n",
    "ax.plot(0,0,marker='o',  c='#fd6549ff', markersize=7, alpha=0.8, rasterized=True)\n",
    "\n",
    "ax.set_rasterization_zorder(-20)\n",
    "\n",
    "\n",
    "mpl_functions.adjust_spines(ax,['left', 'bottom'],spine_locations={'left': 5, 'bottom': 5}, \n",
    "                            smart_bounds=True, \n",
    "                            xticks=[0,50],\n",
    "                            yticks=[-25,25], \n",
    "                            linewidth=0.5)\n",
    "\n",
    "figurefirst.mpl_functions.set_fontsize(ax,FS)\n",
    "layout.append_figure_to_layer(layout.figures['fig3'], 'fig3', cleartarget=True)\n",
    "layout.write_svg('../../../Figure/fig3.svg')"
   ]
  },
  {
   "cell_type": "code",
   "execution_count": 262,
   "id": "d3b0ae3b",
   "metadata": {},
   "outputs": [],
   "source": [
    "ax = layout.axes[('fig3', 'mapb')]\n",
    "ax.grid(False)\n",
    "\n",
    "# ax.hist2d(df2.distance_from_source_a*df2.xsign,\n",
    "#                     df2.nearest_from_streakline*df2.ysign,\n",
    "#                     cmap='Greys',bins=20, alpha=0.3,norm=colors.LogNorm(),rasterized=True)\n",
    "\n",
    "\n",
    "hist, xedges, yedges = np.histogram2d(df2.distance_from_source_a*df2.xsign,\n",
    "                                      df2.nearest_from_streakline*df2.ysign, \n",
    "                                      bins=20, normed=False)\n",
    "\n",
    "counts_dt = hist * dt\n",
    "counts_dt = np.nan_to_num(counts_dt, nan=0.0, posinf=0.0, neginf=0.0)\n",
    "\n",
    "\n",
    "\n",
    "pc = ax.pcolormesh(xedges, yedges, counts_dt.T, \n",
    "                   cmap='Greys', norm=colors.LogNorm(),rasterized=True) \n",
    "\n",
    "# ax.scatter(dataframes[1].distance_from_source_a*dataframes[1].xsign,\n",
    "#                     dataframes[1].nearest_from_streakline*dataframes[1].ysign,\n",
    "#                     c=dataframes[1].odor, cmap=\"inferno_r\", vmin=0,vmax=10,\n",
    "#            edgecolors='none', s=5,alpha=0.2, rasterized=True)\n",
    "ax.set_ylim(-25,25)\n",
    "\n",
    "ax.axhline(0, color = 'grey', alpha=0.5)\n",
    "ax.axvline(0, color = 'grey', alpha=0.5)\n",
    "ax.plot(0,0,marker='o',  c='#fd6549ff', markersize=7, alpha=0.8, rasterized=True)\n",
    "\n",
    "ax.set_rasterization_zorder(-20)\n",
    "\n",
    "\n",
    "mpl_functions.adjust_spines(ax,['bottom'],spine_locations={'bottom': 5}, \n",
    "                            smart_bounds=True, \n",
    "                            xticks=[0,50],\n",
    "                            \n",
    "                            linewidth=0.5)\n",
    "\n",
    "figurefirst.mpl_functions.set_fontsize(ax,FS)\n",
    "layout.append_figure_to_layer(layout.figures['fig3'], 'fig3', cleartarget=True)\n",
    "layout.write_svg('../../../Figure/fig3.svg')"
   ]
  },
  {
   "cell_type": "code",
   "execution_count": 263,
   "id": "855c69e8",
   "metadata": {},
   "outputs": [],
   "source": [
    "ax = layout.axes[('fig3', 'mapc')]\n",
    "ax.grid(False)\n",
    "# ax.hist2d(df3.distance_from_source_a*df3.xsign,\n",
    "#                     df3.nearest_from_streakline*df3.ysign,\n",
    "#                     cmap='Greys',bins=20, alpha=0.3,norm=colors.LogNorm(),rasterized=True)\n",
    "\n",
    "hist, xedges, yedges = np.histogram2d(df3.distance_from_source_a*df3.xsign,\n",
    "                                      df3.nearest_from_streakline*df3.ysign, \n",
    "                                      bins=20, normed=False)\n",
    "\n",
    "counts_dt = hist * dt\n",
    "counts_dt = np.nan_to_num(counts_dt, nan=0.0, posinf=0.0, neginf=0.0)\n",
    "\n",
    "\n",
    "pc = ax.pcolormesh(xedges, yedges, counts_dt.T, \n",
    "                   cmap='Greys', norm=colors.LogNorm(),rasterized=True) \n",
    "\n",
    "# ax.scatter(dataframes[2].distance_from_source_a*dataframes[2].xsign,\n",
    "#                     dataframes[2].nearest_from_streakline*dataframes[2].ysign,\n",
    "#                     c=dataframes[2].odor, cmap=\"inferno_r\", vmin=0,vmax=10,\n",
    "#            edgecolors='none', s=5,alpha=0.2, rasterized=True)\n",
    "ax.set_ylim(-25,25)\n",
    "\n",
    "ax.axhline(0, color = 'grey', alpha=0.5)\n",
    "ax.axvline(0, color = 'grey', alpha=0.5)\n",
    "ax.plot(0,0,marker='o',  c='#fd6549ff', markersize=7, alpha=0.8, rasterized=True)\n",
    "\n",
    "ax.set_rasterization_zorder(-20)\n",
    "\n",
    "\n",
    "mpl_functions.adjust_spines(ax,['bottom'],spine_locations={'bottom': 5}, \n",
    "                            smart_bounds=True, \n",
    "                            xticks=[0,50],\n",
    "                           \n",
    "                            linewidth=0.5)\n",
    "\n",
    "figurefirst.mpl_functions.set_fontsize(ax,FS)\n",
    "layout.append_figure_to_layer(layout.figures['fig3'], 'fig3', cleartarget=True)\n",
    "layout.write_svg('../../../Figure/fig3.svg')"
   ]
  },
  {
   "cell_type": "markdown",
   "id": "9fafb568",
   "metadata": {},
   "source": [
    "### Colorbar 2"
   ]
  },
  {
   "cell_type": "code",
   "execution_count": 31,
   "id": "0f5822c9",
   "metadata": {},
   "outputs": [],
   "source": [
    "ax = layout.axes[('cbar2', 'cbar2')]\n",
    "ytic=[4.5,11]\n",
    "\n",
    "fpl.colorbar(ax=ax, colormap='inferno_r', orientation='vertical',ticks=ytic)\n",
    "ax.set_rasterization_zorder(-20)\n",
    "mpl_functions.adjust_spines(ax, ['right'], \n",
    "                                    smart_bounds=True,\n",
    "                                    spine_locations={'right': 1}, \n",
    "                                    yticks=ytic,\n",
    "                                    tick_length=1.5,\n",
    "                                    linewidth=0.5)\n",
    "\n",
    "ax.set_ylabel(\"Odor, v\",rotation=90, labelpad=-16)\n",
    "\n",
    "ax.set_yticklabels(['4.5', '10'])\n",
    "figurefirst.mpl_functions.set_fontsize(ax, FS)\n",
    "\n",
    "layout.append_figure_to_layer(layout.figures['cbar2'], 'cbar2', cleartarget=True)\n",
    "layout.write_svg('../../../Figure/fig3.svg')"
   ]
  },
  {
   "cell_type": "markdown",
   "id": "845874cc",
   "metadata": {},
   "source": [
    "### Colorbar 3"
   ]
  },
  {
   "cell_type": "code",
   "execution_count": 260,
   "id": "c7d62f9b",
   "metadata": {},
   "outputs": [
    {
     "data": {
      "image/png": "[encoded data removed]",
      "text/plain": [
       "<Figure size 595.276x841.89 with 7 Axes>"
      ]
     },
     "metadata": {},
     "output_type": "display_data"
    },
    {
     "data": {
      "image/png": "[encoded data removed]",
      "text/plain": [
       "<Figure size 595.276x841.89 with 3 Axes>"
      ]
     },
     "metadata": {},
     "output_type": "display_data"
    },
    {
     "data": {
      "image/png": "[encoded data removed]",
      "text/plain": [
       "<Figure size 595.276x841.89 with 1 Axes>"
      ]
     },
     "metadata": {},
     "output_type": "display_data"
    },
    {
     "data": {
      "image/png": "[encoded data removed]",
      "text/plain": [
       "<Figure size 595.276x841.89 with 1 Axes>"
      ]
     },
     "metadata": {},
     "output_type": "display_data"
    },
    {
     "data": {
      "image/png": "[encoded data removed]",
      "text/plain": [
       "<Figure size 595.276x841.89 with 1 Axes>"
      ]
     },
     "metadata": {},
     "output_type": "display_data"
    }
   ],
   "source": [
    "import matplotlib.colors as mcolors\n",
    "layout = fifi.svg_to_axes.FigureLayout('../../../Figure/fig3.svg',\n",
    "                                           autogenlayers=True, make_mplfigures=True, hide_layers=[])"
   ]
  },
  {
   "cell_type": "code",
   "execution_count": 7,
   "id": "9154ad16",
   "metadata": {},
   "outputs": [
    {
     "data": {
      "image/png": "[encoded data removed]",
      "text/plain": [
       "<Figure size 432x288 with 1 Axes>"
      ]
     },
     "metadata": {},
     "output_type": "display_data"
    }
   ],
   "source": [
    "ax = layout.axes[('figGreyCbar', 'cbar_4')]\n",
    "# xtic=[0,400]\n",
    "ax.grid(False)\n",
    "\n",
    "hist, xedges, yedges = np.histogram2d(df1.distance_from_source_a*df1.xsign,\n",
    "                                      df1.nearest_from_streakline*df1.ysign, \n",
    "                                      bins=20, normed=False)\n",
    "\n",
    "dt=df1.master_time[1]-df1.master_time[0]\n",
    "counts_dt = hist * dt\n",
    "counts_dt = np.nan_to_num(counts_dt, nan=0.0, posinf=0.0, neginf=0.0)\n",
    "\n",
    "\n",
    "ax.grid(False)  # Explicitly remove grid lines\n",
    "pc = ax.pcolormesh(xedges, yedges, counts_dt.T, \n",
    "                   cmap='Greys', norm=colors.LogNorm(), rasterized=True)  # Transpose counts_dt to align with coordinate system\n",
    "\n",
    "\n",
    "# cbar = plt.(pc, ax=ax, orientation='horizontal')\n",
    "cbar = plt.colorbar(pc, cax=ax,orientation='horizontal');\n",
    "cbar.outline.set_visible(False)\n",
    "cbar.ax.xaxis.set_minor_locator(ticker.NullLocator())\n",
    "cbar.ax.tick_params(width=0.3)  \n",
    "\n",
    "cbar.ax.tick_params(labelsize=1)  \n",
    "ax.set_rasterization_zorder(-20)\n",
    "ax.set_xlabel(\"Time Spent, s\",rotation=0, labelpad=0)\n",
    "\n",
    "figurefirst.mpl_functions.set_fontsize(ax, FS)\n",
    "\n",
    "# layout.append_figure_to_layer(layout.figures['figGreyCbar'], 'figGreyCbar', cleartarget=True)\n",
    "# layout.write_svg('../../../Figure/fig3.svg')"
   ]
  },
  {
   "cell_type": "code",
   "execution_count": 8,
   "id": "8c4c48d9",
   "metadata": {},
   "outputs": [
    {
     "data": {
      "text/plain": [
       "array([[  0.        ,   0.        ,   0.        ,   0.        ,\n",
       "          0.        ,   0.        ,   0.39472651,   1.66884375,\n",
       "          4.84164548, 362.07413793,  64.09059501,   0.        ,\n",
       "          0.        ,   0.        ,   0.        ,   0.        ,\n",
       "          0.        ,   0.        ,   0.        ,   0.        ],\n",
       "       [  0.        ,   0.        ,   0.        ,   0.        ,\n",
       "          1.32408261,   1.96863604,   2.40333486,   0.5496192 ,\n",
       "          9.49841905, 142.54124069,  86.29021406,   0.96433187,\n",
       "          0.        ,   0.        ,   0.        ,   0.        ,\n",
       "          0.        ,   0.        ,   0.        ,   0.        ],\n",
       "       [  0.        ,   0.        ,   1.17418647,   2.21346641,\n",
       "          0.73449111,   0.        ,   0.        ,   0.        ,\n",
       "         24.29316854,  82.29298353,  93.92492437,  18.85193849,\n",
       "          0.        ,   0.        ,   0.        ,   0.        ,\n",
       "          0.        ,   0.        ,   0.        ,   0.        ],\n",
       "       [  1.80874681,   1.96863604,   1.57890606,   0.        ,\n",
       "          0.        ,   0.        ,   0.        ,   3.16280866,\n",
       "         16.74839592,  69.24202585,  53.74276447,  26.99129915,\n",
       "          0.        ,   0.        ,   0.        ,   0.        ,\n",
       "          0.        ,   0.        ,   0.        ,   0.        ],\n",
       "       [  0.        ,   0.        ,   0.        ,   0.        ,\n",
       "          0.        ,   0.        ,   0.40971613,   3.6524694 ,\n",
       "         27.46097374,  44.32429004,  47.16232371,  26.61156225,\n",
       "          0.94434571,   0.        ,   0.        ,   0.        ,\n",
       "          0.        ,   0.        ,   0.        ,   0.        ],\n",
       "       [  0.        ,   0.        ,   0.        ,   0.        ,\n",
       "          0.        ,   0.        ,   0.        ,   6.3755827 ,\n",
       "         18.05748892,  33.7016499 ,  34.84086061,  26.13189459,\n",
       "          6.76531267,   1.74379182,   1.80375028,   0.        ,\n",
       "          0.        ,   0.        ,   0.        ,   0.        ],\n",
       "       [  0.        ,   0.        ,   0.        ,   0.        ,\n",
       "          4.44192243,   9.59834981,   5.04150701,   9.80320787,\n",
       "         22.14465714,  35.43544865,  28.26541638,  19.94618034,\n",
       "         13.34575343,   2.1085391 ,   1.15420032,   0.        ,\n",
       "          0.        ,   0.        ,   0.        ,   0.        ],\n",
       "       [  0.        ,   0.        ,   0.        ,   0.        ,\n",
       "          0.        ,   0.        ,   6.25566578,  17.79766893,\n",
       "         22.30954289,  39.95731568,  30.86361623,  22.32952905,\n",
       "          7.99446106,   3.68744516,   0.07994461,   0.        ,\n",
       "          0.        ,   0.        ,   0.        ,   0.        ],\n",
       "       [  0.        ,   0.        ,   0.        ,   0.        ,\n",
       "          0.86939764,   1.6238749 ,   3.66745901,  12.53131771,\n",
       "         16.87330937,  34.32122064,  34.22128987,  12.23652196,\n",
       "         11.42708278,   7.3848834 ,   1.01429725,   2.54323792,\n",
       "          0.66453958,   0.        ,   0.        ,   0.        ],\n",
       "       [  0.        ,   0.        ,   0.        ,   0.        ,\n",
       "          1.83372951,   3.16780519,   1.26412416,   8.39918065,\n",
       "          9.62832904,  26.63654494,  29.84931898,  15.77407098,\n",
       "          8.3142395 ,   9.02374792,   2.79306483,   0.89937687,\n",
       "          4.26204705,   0.30478883,   0.        ,   0.        ],\n",
       "       [  0.        ,   0.        ,   0.        ,   0.        ,\n",
       "          0.        ,   2.71312022,   7.31992841,   7.58974147,\n",
       "         10.99238396,  15.74409175,  20.83556414,  14.54492259,\n",
       "          6.46052384,   3.83234477,   2.95295405,   1.59889221,\n",
       "          0.        ,   2.26842833,   1.34406877,   1.68383336],\n",
       "       [  0.        ,   0.        ,   0.        ,   0.        ,\n",
       "          0.        ,   0.21984768,   2.20347333,  14.08024454,\n",
       "         11.1422801 ,   9.67329788,  21.2502768 ,   8.98877215,\n",
       "          7.33991456,   5.29633045,   3.797369  ,   0.55461574,\n",
       "          0.        ,   0.        ,   0.        ,   0.93934917],\n",
       "       [  0.        ,   0.        ,   0.        ,   0.        ,\n",
       "          0.        ,   0.        ,   4.5168705 ,   9.11368561,\n",
       "          9.61833596,  11.64193392,  14.38003683,  12.0066812 ,\n",
       "          5.84095311,   6.1007731 ,   1.44899607,   3.91228938,\n",
       "          2.69813061,   0.        ,   0.        ,   2.30840063],\n",
       "       [  0.        ,   0.        ,   0.        ,   0.        ,\n",
       "          0.        ,   2.49826908,   0.66453958,   5.79598427,\n",
       "          4.16711283,  13.95533109,  13.6955111 ,  11.16726279,\n",
       "          9.02374792,   3.61749363,   5.80597734,   5.52117467,\n",
       "          4.12214398,   0.12491345,   1.39403415,   0.87939072],\n",
       "       [  0.        ,   0.        ,   0.        ,   0.        ,\n",
       "          0.        ,   1.87370181,   0.2098546 ,   0.61957073,\n",
       "          4.3070159 ,   5.96586657,   3.17280173,   6.44553423,\n",
       "          7.85955453,  16.50356555,   4.50188088,   7.40486956,\n",
       "          2.88300252,   1.24913454,   0.        ,   0.        ],\n",
       "       [  0.        ,   0.        ,   0.        ,   0.        ,\n",
       "          0.91436648,   1.88369489,   2.9979229 ,   1.18417954,\n",
       "          3.23276019,   1.21415877,   3.862324  ,   3.54254556,\n",
       "          1.97363257,   5.15642738,   2.9329679 ,   0.        ,\n",
       "          0.        ,   0.        ,   0.        ,   0.        ],\n",
       "       [  0.        ,   0.        ,   0.        ,   0.        ,\n",
       "          1.32408261,   1.43400645,   1.94864988,   0.98431802,\n",
       "          0.        ,   0.        ,   2.50826216,   2.97294021,\n",
       "          3.33768749,   5.59612274,   3.36267018,   0.        ,\n",
       "          0.        ,   0.        ,   0.        ,   0.        ],\n",
       "       [  0.        ,   0.        ,   0.        ,   0.        ,\n",
       "          0.        ,   3.30271173,   2.4483037 ,   0.        ,\n",
       "          0.        ,   0.        ,   0.        ,   2.47828293,\n",
       "          1.19916916,   1.02928686,   0.        ,   0.        ,\n",
       "          0.        ,   0.        ,   0.        ,   0.        ],\n",
       "       [  0.        ,   0.        ,   0.        ,   0.        ,\n",
       "          0.        ,   1.55891991,   4.10215783,   0.55961227,\n",
       "          0.        ,   0.        ,   0.        ,   2.71811676,\n",
       "          2.79306483,   0.        ,   0.        ,   0.        ,\n",
       "          0.        ,   0.        ,   0.        ,   0.        ],\n",
       "       [  0.        ,   0.        ,   0.        ,   0.        ,\n",
       "          0.        ,   0.        ,   0.09993076,   5.17641354,\n",
       "          0.        ,   0.        ,   0.        ,   6.80528498,\n",
       "          2.57321715,   0.        ,   0.        ,   0.        ,\n",
       "          0.        ,   0.        ,   0.        ,   0.        ]])"
      ]
     },
     "execution_count": 8,
     "metadata": {},
     "output_type": "execute_result"
    }
   ],
   "source": [
    "counts_dt"
   ]
  },
  {
   "cell_type": "code",
   "execution_count": 9,
   "id": "bb17b1e8",
   "metadata": {},
   "outputs": [
    {
     "data": {
      "text/plain": [
       "0.07994461059570312"
      ]
     },
     "execution_count": 9,
     "metadata": {},
     "output_type": "execute_result"
    }
   ],
   "source": [
    "np.ma.masked_equal(counts_dt, 0).min()"
   ]
  },
  {
   "cell_type": "code",
   "execution_count": null,
   "id": "5a56e788",
   "metadata": {},
   "outputs": [],
   "source": []
  }
 ],
 "metadata": {
  "kernelspec": {
   "display_name": "Python 3 (ipykernel)",
   "language": "python",
   "name": "python3"
  },
  "language_info": {
   "codemirror_mode": {
    "name": "ipython",
    "version": 3
   },
   "file_extension": ".py",
   "mimetype": "text/x-python",
   "name": "python",
   "nbconvert_exporter": "python",
   "pygments_lexer": "ipython3",
   "version": "3.8.10"
  }
 },
 "nbformat": 4,
 "nbformat_minor": 5
}
