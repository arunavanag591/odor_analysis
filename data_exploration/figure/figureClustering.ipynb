{
 "cells": [
  {
   "cell_type": "code",
   "execution_count": 1,
   "id": "817904f5",
   "metadata": {},
   "outputs": [],
   "source": [
    "#dataframes\n",
    "import pandas as pd\n",
    "import h5py\n",
    "\n",
    "import sys\n",
    "sys.path.append('../')\n",
    "import odor_statistics_lib as osm\n",
    "\n",
    "# user defined functions\n",
    "\n",
    "#speedup\n",
    "import multiprocessing as mp\n",
    "\n",
    "#suppress warnings\n",
    "import warnings\n",
    "warnings.simplefilter(action='ignore', category=FutureWarning)\n",
    "pd.TimeSeries = pd.Series \n",
    "\n",
    "#math\n",
    "import numpy as np\n",
    "import math\n",
    "import statsmodels.api as sm\n",
    "import statsmodels.formula.api as smf\n",
    "from scipy import signal\n",
    "import scipy \n",
    "import scipy.stats as st\n",
    "from scipy.stats import kurtosis\n",
    "from scipy.cluster import hierarchy\n",
    "from scipy.spatial.distance import pdist, squareform\n",
    "\n",
    "#plots\n",
    "import pylab as plt\n",
    "import matplotlib.pyplot as plt\n",
    "from figurefirst import FigureLayout,mpl_functions\n",
    "import figurefirst\n",
    "import matplotlib.image as mpimg\n",
    "import matplotlib.colors as mcolors\n",
    "\n",
    "from mpl_toolkits.axes_grid1 import make_axes_locatable # for colorbar\n",
    "import seaborn as sns\n",
    "import figurefirst as fifi\n",
    "from IPython.display import display,SVG\n",
    "\n",
    "sns.set()\n",
    "sns.set_style(\"whitegrid\")\n",
    "\n",
    "\n",
    "#misc\n",
    "np.set_printoptions(suppress=True)\n",
    "import fly_plot_lib.plot as fpl\n",
    "FS=7"
   ]
  },
  {
   "cell_type": "code",
   "execution_count": 3,
   "id": "02a95754",
   "metadata": {},
   "outputs": [],
   "source": [
    "dir = '../../data/derived_data/'\n",
    "dataframe=pd.read_hdf(dir+'All_Datasets_Predictions.h5')"
   ]
  },
  {
   "cell_type": "code",
   "execution_count": 4,
   "id": "ee3e3280",
   "metadata": {},
   "outputs": [],
   "source": [
    "dir1='../../data/derived_data/'\n",
    "df = pd.read_hdf(dir1+'all_Rsquared.h5')"
   ]
  },
  {
   "cell_type": "code",
   "execution_count": 4,
   "id": "a9b2b424",
   "metadata": {},
   "outputs": [],
   "source": [
    "X=[dataframe.mc_min,dataframe.mc_max, dataframe.mc_mean, dataframe.mc_std_dev, dataframe.mc_k,\n",
    "     dataframe.wf_min, dataframe.wf_max, dataframe.wf_mean, dataframe.wf_std_dev, dataframe.wf_k,\n",
    "     dataframe.wd_min, dataframe.wd_max, dataframe.wd_mean, dataframe.wd_std_dev, dataframe.wd_k,\n",
    "     dataframe.ma_min, dataframe.ma_max, dataframe.ma_mean, dataframe.ma_std_dev, dataframe.ma_k,\n",
    "     dataframe.st_min, dataframe.st_max, dataframe.st_mean, dataframe.st_std_dev, dataframe.st_k]\n",
    "\n",
    "REMOVE_Y_CORR = True\n",
    "y=dataframe.distance\n",
    "\n",
    "\n",
    "corr_mat = np.zeros([len(X), len(X)])\n",
    "for i in range(len(X)):\n",
    "    for j in range(len(X)):\n",
    "        \n",
    "        if not REMOVE_Y_CORR:\n",
    "            result = scipy.stats.linregress(X[i], X[j])\n",
    "        else:\n",
    "            result_iy = scipy.stats.linregress(y, X[i])\n",
    "            resid_i = X[i] - (y*result_iy.slope + result_iy.intercept)\n",
    "\n",
    "            result_jy = scipy.stats.linregress(y, X[j])\n",
    "            resid_j = X[j] - (y*result_jy.slope + result_jy.intercept)\n",
    "            \n",
    "            result = scipy.stats.linregress(resid_i, resid_j)\n",
    "            \n",
    "        corr_mat[i,j] = result.rvalue**2\n",
    "        \n",
    "        \n",
    "\n",
    "cn=['$min(WC)$','$max(WC)$','$\\mu(WC)$','$\\sigma(WC)$','$WC_k$',\n",
    "             '$min(WF)$','$max(WF)$','$\\mu(WF)$','$\\sigma(WF)$','$WF_k$',\n",
    "             '$min(WD)$','$max(WD)$','$\\mu(WD)$','$\\sigma(WD)$','$WD_k$',\n",
    "             '$min(WMA)$','$max(WMA)$','$\\mu(WMA)$','$\\sigma(WMA)$','$WMA_k$',\n",
    "             '$min(WSD)$','$max(WSD)$','$\\mu(WSD)$','$\\sigma(WSD)$','$WSD_k$']"
   ]
  },
  {
   "cell_type": "code",
   "execution_count": 5,
   "id": "313429db",
   "metadata": {},
   "outputs": [],
   "source": [
    "# Convert the ndarray to a DataFrame\n",
    "corr_mat_df = pd.DataFrame(corr_mat)\n",
    "\n",
    "# Perform hierarchical clustering\n",
    "Z_row = hierarchy.linkage(corr_mat_df, method='ward')\n",
    "Z_col = hierarchy.linkage(corr_mat_df.T, method='ward')\n",
    "\n",
    "# Get the order of rows and columns based on hierarchical clustering\n",
    "row_order = hierarchy.leaves_list(Z_row)\n",
    "col_order = hierarchy.leaves_list(Z_col)\n",
    "\n",
    "# Reorder the data based on clustering\n",
    "ordered_data = corr_mat_df.iloc[row_order, col_order]\n",
    "ordered_data.index\n",
    "\n",
    "new_names_ = [cn[i] for i in ordered_data.index]\n"
   ]
  },
  {
   "cell_type": "code",
   "execution_count": 6,
   "id": "92ccad87",
   "metadata": {},
   "outputs": [],
   "source": [
    "test=ordered_data.iloc[::-1]\n",
    "order=test.iloc[:,::-1].columns"
   ]
  },
  {
   "cell_type": "code",
   "execution_count": 7,
   "id": "5e3695e9",
   "metadata": {},
   "outputs": [],
   "source": [
    "newdf = df[[df.columns[i] for i in test.index]]"
   ]
  },
  {
   "cell_type": "code",
   "execution_count": 5,
   "id": "f4cd6c02",
   "metadata": {
    "scrolled": true
   },
   "outputs": [
    {
     "data": {
      "image/png": "[encoded data removed]",
      "text/plain": [
       "<Figure size 826.772x1169.29 with 2 Axes>"
      ]
     },
     "metadata": {},
     "output_type": "display_data"
    }
   ],
   "source": [
    "layout = fifi.svg_to_axes.FigureLayout('../../Figure/clustering.svg',\n",
    "                                           autogenlayers=True, make_mplfigures=True, hide_layers=[])"
   ]
  },
  {
   "cell_type": "markdown",
   "id": "dbd38e19",
   "metadata": {},
   "source": [
    "### Matrix"
   ]
  },
  {
   "cell_type": "code",
   "execution_count": 9,
   "id": "aa9839bb",
   "metadata": {},
   "outputs": [],
   "source": [
    "# Create a Matplotlib figure\n",
    "ax=layout.axes[('fig','ax')]\n",
    "# f, ax = plt.subplots(figsize=(9, 8))\n",
    "ax.grid(False)\n",
    "\n",
    "cax = ax.imshow(test.iloc[:,::-1], cmap='bone_r', aspect='auto', rasterized=True) ## flipping for paper\n",
    "ax.set_rasterization_zorder(-20)\n",
    "\n",
    "ax.set_xticks(np.arange(len(order)))\n",
    "ax.set_yticks(np.arange(len(order)))\n",
    "\n",
    "\n",
    "marker = np.arange(0,25,1)\n",
    "mpl_functions.adjust_spines(ax,['left','bottom'],\n",
    "                            spine_locations={'left':4,'bottom':4},\n",
    "                            smart_bounds=True,\n",
    "                            yticks=marker.tolist(),\n",
    "                            xticks=marker.tolist(),\n",
    "                            linewidth=0.5)\n",
    "\n",
    "\n",
    "alph=0.3\n",
    "\n",
    "xlabels=ax.get_xticklabels()\n",
    "ylabels=ax.get_yticklabels()\n",
    "\n",
    "indices = [8, 9, 11, 23]\n",
    "\n",
    "for i in indices:\n",
    "    new_names_[i] = r'$\\rightarrow$' + new_names_[i]\n",
    "\n",
    "ax.set_xticklabels(new_names_[::-1], rotation=90) ## flipping for paper and narrative reasons ->left to right flow\n",
    "ax.set_yticklabels(new_names_[::-1])\n",
    "\n",
    "\n",
    "values=newdf.max(axis=0).values\n",
    "\n",
    "full_cmap = plt.cm.get_cmap('seismic')\n",
    "\n",
    "a1=0.4\n",
    "b1=0\n",
    "# Extract the blue part of the colormap\n",
    "blue_part_cmap = mcolors.LinearSegmentedColormap.from_list(\n",
    "    'trunc({n},{a:.2f},{b:.2f})'.format(n=full_cmap.name, a=a1, b=b1),\n",
    "    full_cmap(np.linspace(a1, b1, 256))\n",
    ")\n",
    "\n",
    "\n",
    "# Normalize the values to the desired range\n",
    "normalized_values = (values - values.min()) / (values.max() - values.min())\n",
    "\n",
    "# Get the colors for each value\n",
    "colors = blue_part_cmap(normalized_values)\n",
    "\n",
    "# Set x and y tick label colors\n",
    "for i, color in enumerate(colors):\n",
    "    xlabels[i].set_color(color)\n",
    "    ylabels[i].set_color(color)\n",
    "\n",
    "\n",
    "figurefirst.mpl_functions.set_fontsize(ax, FS)\n",
    "layout.append_figure_to_layer(layout.figures['fig'], 'fig', cleartarget=True)\n",
    "layout.write_svg('../../Figure/clustering.svg')\n"
   ]
  },
  {
   "cell_type": "markdown",
   "id": "e7601b89",
   "metadata": {},
   "source": [
    "### Colorbar"
   ]
  },
  {
   "cell_type": "code",
   "execution_count": 10,
   "id": "4fb4f376",
   "metadata": {},
   "outputs": [
    {
     "data": {
      "image/png": "[encoded data removed]",
      "text/plain": [
       "<Figure size 432x288 with 1 Axes>"
      ]
     },
     "metadata": {},
     "output_type": "display_data"
    }
   ],
   "source": [
    "ax = layout.axes[('fig', 'cbar')]\n",
    "xtic=[normalized_values.min(),normalized_values.max()]\n",
    "\n",
    "\n",
    "norm = mcolors.Normalize(vmin=0, vmax=0.6)\n",
    "ax.grid(False)\n",
    "plt.colorbar(plt.cm.ScalarMappable(norm=norm, cmap=blue_part_cmap), cax=ax,orientation='horizontal');\n",
    "# fpl.colorbar(ax=ax, colormap=blue_part_cmap, orientation='horizontal',ticks=xtic)\n",
    "ax.set_rasterization_zorder(-20)\n",
    "mpl_functions.adjust_spines(ax, ['bottom'], \n",
    "                                    smart_bounds=True,\n",
    "                                    spine_locations={'bottom': 5}, \n",
    "                                    xticks=[0,0.6],\n",
    "                                    tick_length=1.5,\n",
    "                                    linewidth=0.5)\n",
    "\n",
    "ax.set_xlabel(\"$R^2$\",rotation=0, labelpad=-5)\n",
    "\n",
    "ax.set_xticklabels(['0', '0.6'])\n",
    "figurefirst.mpl_functions.set_fontsize(ax, FS)\n",
    "\n",
    "layout.append_figure_to_layer(layout.figures['fig'], 'fig', cleartarget=True)\n",
    "layout.write_svg('../../Figure/clustering.svg')"
   ]
  },
  {
   "cell_type": "code",
   "execution_count": null,
   "id": "73fd1139",
   "metadata": {},
   "outputs": [],
   "source": []
  }
 ],
 "metadata": {
  "kernelspec": {
   "display_name": "vscode38kernel",
   "language": "python",
   "name": "pywork38"
  },
  "language_info": {
   "codemirror_mode": {
    "name": "ipython",
    "version": 3
   },
   "file_extension": ".py",
   "mimetype": "text/x-python",
   "name": "python",
   "nbconvert_exporter": "python",
   "pygments_lexer": "ipython3",
   "version": "3.8.10"
  }
 },
 "nbformat": 4,
 "nbformat_minor": 5
}
