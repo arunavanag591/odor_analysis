{
 "cells": [
  {
   "cell_type": "code",
   "execution_count": 1,
   "id": "bc1b3468",
   "metadata": {},
   "outputs": [],
   "source": [
    "#dataframes\n",
    "import pandas as pd\n",
    "import h5py\n",
    "\n",
    "import sys\n",
    "sys.path.append('../')\n",
    "import odor_statistics_lib as osm\n",
    "\n",
    "# user defined functions\n",
    "\n",
    "#speedup\n",
    "import multiprocessing as mp\n",
    "\n",
    "#suppress warnings\n",
    "import warnings\n",
    "warnings.simplefilter(action='ignore', category=FutureWarning)\n",
    "pd.TimeSeries = pd.Series \n",
    "\n",
    "#math\n",
    "import numpy as np\n",
    "import math\n",
    "import statsmodels.api as sm\n",
    "import statsmodels.formula.api as smf\n",
    "from scipy import signal\n",
    "import scipy \n",
    "import scipy.stats as st\n",
    "from scipy.stats import kurtosis\n",
    "\n",
    "#plots\n",
    "import pylab as plt\n",
    "import matplotlib.pyplot as plt\n",
    "from matplotlib.ticker import MaxNLocator\n",
    "import matplotlib\n",
    "from figurefirst import FigureLayout,mpl_functions\n",
    "import figurefirst\n",
    "import matplotlib.image as mpimg\n",
    "from mpl_toolkits.axes_grid1 import make_axes_locatable # for colorbar\n",
    "import seaborn as sns\n",
    "sns.set()\n",
    "sns.set_style(\"whitegrid\")\n",
    "import figurefirst as fifi\n",
    "from IPython.display import display,SVG\n",
    "\n",
    "import networkx as nx\n",
    "import community.community_louvain as community_louvain # pip install community\n",
    "\n",
    "#misc\n",
    "import cairosvg\n",
    "import time\n",
    "np.set_printoptions(suppress=True)\n",
    "import fly_plot_lib.plot as fpl\n",
    "# matplotlib.rcParams['font.family'] = [ 'sans-serif']\n",
    "FS=7"
   ]
  },
  {
   "cell_type": "code",
   "execution_count": 2,
   "id": "0e6f089e",
   "metadata": {},
   "outputs": [],
   "source": [
    "dir = '~/DataAnalysis/data/Sprints/HighRes/'\n",
    "dataframe=pd.read_hdf(dir+'All_Datasets_Predictions.h5')\n"
   ]
  },
  {
   "cell_type": "code",
   "execution_count": 3,
   "id": "be765670",
   "metadata": {},
   "outputs": [],
   "source": [
    "# Helper function\n",
    "def calculate_louvain_communities(assignment_matrix, node_order=None):\n",
    "    # Calculate louvain communities\n",
    "    G = nx.to_networkx_graph(assignment_matrix, create_using=nx.Graph())  \n",
    "    louvain_community_dict = community_louvain.best_partition(G)\n",
    "    # Convert community assignmet dict into list of communities\n",
    "    louvain_comms = {}\n",
    "    for node_index, comm_id in louvain_community_dict.items():\n",
    "        if comm_id in louvain_comms.keys():\n",
    "            louvain_comms[comm_id].append(node_index)\n",
    "        else:\n",
    "            louvain_comms.setdefault(comm_id, [node_index])\n",
    "    nodes_louvain_ordered = [node for comm in louvain_comms.values() for node in comm]\n",
    "    # reorder original matrix according to node order\n",
    "    adjacency_matrix = np.zeros_like(assignment_matrix)\n",
    "    for i in range(assignment_matrix.shape[0]):\n",
    "        for j in range(assignment_matrix.shape[0]):\n",
    "            r = nodes_louvain_ordered.index(i)\n",
    "            c = nodes_louvain_ordered.index(j)\n",
    "            adjacency_matrix[r,c] = assignment_matrix[i,j] \n",
    "    return G, louvain_community_dict, nodes_louvain_ordered, adjacency_matrix\n",
    "\n",
    "X=[dataframe.mc_min, dataframe.mc_max, dataframe.mc_mean, dataframe.mc_std_dev, dataframe.mc_k,\n",
    "   dataframe.wf_min, dataframe.wf_max, dataframe.wf_mean, dataframe.wf_std_dev, dataframe.wf_k,\n",
    "   dataframe.wd_min, dataframe.wd_max, dataframe.wd_mean, dataframe.wd_std_dev, dataframe.wd_k,\n",
    "   dataframe.ma_min, dataframe.ma_max, dataframe.ma_mean, dataframe.ma_std_dev, dataframe.ma_k,\n",
    "   dataframe.st_min, dataframe.st_max, dataframe.st_mean, dataframe.st_std_dev, dataframe.st_k]\n",
    "\n",
    "REMOVE_Y_CORR = False\n",
    "y=dataframe.distance"
   ]
  },
  {
   "cell_type": "code",
   "execution_count": 4,
   "id": "164e74cb",
   "metadata": {},
   "outputs": [],
   "source": [
    "corr_mat = np.zeros([len(X), len(X)])\n",
    "for i in range(len(X)):\n",
    "    for j in range(len(X)):\n",
    "        \n",
    "        if not REMOVE_Y_CORR:\n",
    "            result = scipy.stats.linregress(X[i], X[j])\n",
    "        else:\n",
    "            result_iy = scipy.stats.linregress(y, X[i])\n",
    "            resid_i = X[i] - (y*result_iy.slope + result_iy.intercept)\n",
    "\n",
    "            result_jy = scipy.stats.linregress(y, X[j])\n",
    "            resid_j = X[j] - (y*result_jy.slope + result_jy.intercept)\n",
    "            \n",
    "            result = scipy.stats.linregress(resid_i, resid_j)\n",
    "            \n",
    "        corr_mat[i,j] = result.rvalue**2\n",
    "        \n",
    "G, louvain_community_dict, nodes_louvain_ordered, adjacency_matrix = calculate_louvain_communities(corr_mat)"
   ]
  },
  {
   "cell_type": "code",
   "execution_count": 5,
   "id": "dcb4699d",
   "metadata": {},
   "outputs": [],
   "source": [
    "n = []\n",
    "for i in range(len(X)):\n",
    "    n.append(X[i].name)\n",
    "\n",
    "dicts = {}\n",
    "keys = range(len(X))\n",
    "values = n\n",
    "for i in keys:\n",
    "        dicts[i] = values[i]\n",
    "        \n",
    "new_list_label = sorted(dicts.items(), key=lambda pair: nodes_louvain_ordered.index(pair[0]))\n",
    "\n",
    "new_list = []\n",
    "for i in range(len(new_list_label)):\n",
    "    new_list.append(new_list_label[i][1])\n",
    "new_list.insert(0, 0)    "
   ]
  },
  {
   "cell_type": "code",
   "execution_count": 6,
   "id": "6fa38d99",
   "metadata": {},
   "outputs": [
    {
     "name": "stdout",
     "output_type": "stream",
     "text": [
      "[0, 'mc_min', 'mc_mean', 'wd_min', 'wd_mean', 'st_min', 'st_mean', 'mc_max', 'mc_std_dev', 'wf_k', 'st_max', 'st_std_dev', 'mc_k', 'wd_k', 'ma_k', 'st_k', 'wf_min', 'wf_max', 'wf_mean', 'wf_std_dev', 'wd_max', 'wd_std_dev', 'ma_max', 'ma_mean', 'ma_std_dev', 'ma_min']\n"
     ]
    }
   ],
   "source": [
    "print(new_list)"
   ]
  },
  {
   "cell_type": "code",
   "execution_count": 7,
   "id": "54f88369",
   "metadata": {},
   "outputs": [],
   "source": [
    "## Create latex labels for final plots - manually from new list\n",
    "label=['$min(WC)$','$\\mu(WC)$','$min(WD)$', '$\\mu(WD)$',\n",
    "      '$min(WSD)$','$\\mu(WSD)$','$max(WC)$','$\\sigma(WC)$', '$WF_k$',\n",
    "      '$max(WSD)$','$\\sigma(WSD)$','$WC_k$','$WD_k$', '$WMA_k$',\n",
    "      '$WSD_k$','$min(WF)$','$min(WMA)$','$max(WF)$', '$\\mu(WF)$',\n",
    "      '$\\sigma(WF)$','$max(WD)$','$\\sigma(WD)$','$max(WMA)$', '$\\mu(WMA)$','$\\sigma(WMA)$']"
   ]
  },
  {
   "cell_type": "code",
   "execution_count": 9,
   "id": "c769f52a",
   "metadata": {},
   "outputs": [
    {
     "data": {
      "image/png": "[encoded data removed]",
      "text/plain": [
       "<Figure size 595.276x841.89 with 2 Axes>"
      ]
     },
     "metadata": {},
     "output_type": "display_data"
    }
   ],
   "source": [
    "layout = fifi.svg_to_axes.FigureLayout('../../../Figure/louvain.svg',\n",
    "                                           autogenlayers=True, make_mplfigures=True, hide_layers=[])"
   ]
  },
  {
   "cell_type": "code",
   "execution_count": 10,
   "id": "9be79402",
   "metadata": {},
   "outputs": [],
   "source": [
    "ax=layout.axes[('fig1','ax')]\n",
    "ax.imshow(adjacency_matrix,cmap='bone_r',  aspect='auto',rasterized=True)\n",
    "\n",
    "\n",
    "ax.grid(False)\n",
    "# ax.set_title('')\n",
    "\n",
    "ax.set_rasterization_zorder(-20)\n",
    "\n",
    "marker = np.arange(0,25,1)\n",
    "mpl_functions.adjust_spines(ax,['left','bottom'],\n",
    "                            spine_locations={'left':4,'bottom':4},\n",
    "                            smart_bounds=True,\n",
    "                            yticks=marker.tolist(),\n",
    "                            xticks=marker.tolist(),\n",
    "                            linewidth=0.5)\n",
    "ax.set_xticklabels(label, rotation=90)\n",
    "ax.set_yticklabels(label, rotation=0)\n",
    "\n",
    "figurefirst.mpl_functions.set_fontsize(ax, FS)\n",
    "layout.append_figure_to_layer(layout.figures['fig1'], 'fig1', cleartarget=True)\n",
    "layout.write_svg('../../../Figure/louvain.svg')"
   ]
  },
  {
   "cell_type": "code",
   "execution_count": 11,
   "id": "94702db0",
   "metadata": {},
   "outputs": [],
   "source": [
    "rsq=np.array([0.24205416850966,\n",
    "             0.38348641665523975,0.38348641665523975,0.4064829597057922,0.45311169229618875,\n",
    "             0.4826627957203161,0.5635516377812952, 0.5769321356148331,0.6394535507195294,\n",
    "             0.6611420518231501,0.6602473760004987,0.7008459671212011,0.682043273913716])\n",
    "rsq1=np.array([0.6203130980463978,0.3745363995992592,0.327073395020676, 0.2814948909942232,\n",
    "              0.24205416850966])\n",
    "\n",
    "cutoff=[2,4,6,8,10,15,20,40,50,60,70,80,90]\n",
    "cutoff1=np.array([0.1,0.2,0.5,1,2])\n",
    "\n",
    "ax=layout.axes[('fig1','lpf')]\n",
    "ax.plot(cutoff,rsq,c='b',rasterized=True, linewidth=0.6)\n",
    "ax.scatter(cutoff,rsq,c='orange',s=4,rasterized=True)\n",
    "ax.set_xlim(1.6,)\n",
    "\n",
    "ax.grid(False)\n",
    "\n",
    "ax.set_rasterization_zorder(-20)\n",
    "\n",
    "ax.set_xlabel('Cutoff Frequency (hz)')\n",
    "ax.xaxis.set_label_coords(0.5, -0.2)\n",
    "ax.set_ylabel('$R^2$',rotation=0)\n",
    "ax.yaxis.set_label_coords(-0.06, 0.45)\n",
    "\n",
    "\n",
    "mpl_functions.adjust_spines(ax,['left','bottom'],\n",
    "                            spine_locations={}, \n",
    "                            smart_bounds=True,\n",
    "                            xticks=[2,6,10,15,20,40,60,70,80,90],\n",
    "#                             yticks = [-0.01,0.01],\n",
    "                            linewidth=0.5)\n",
    "\n",
    "# ax.set_xticklabels(cutoff,rotation=90)\n",
    "\n",
    "figurefirst.mpl_functions.set_fontsize(ax, FS)\n",
    "layout.append_figure_to_layer(layout.figures['fig1'], 'fig1', cleartarget=True)\n",
    "layout.write_svg('../../../Figure/louvain.svg')"
   ]
  },
  {
   "cell_type": "code",
   "execution_count": null,
   "id": "c8127775",
   "metadata": {},
   "outputs": [],
   "source": []
  }
 ],
 "metadata": {
  "kernelspec": {
   "display_name": "Python 3 (ipykernel)",
   "language": "python",
   "name": "python3"
  },
  "language_info": {
   "codemirror_mode": {
    "name": "ipython",
    "version": 3
   },
   "file_extension": ".py",
   "mimetype": "text/x-python",
   "name": "python",
   "nbconvert_exporter": "python",
   "pygments_lexer": "ipython3",
   "version": "3.8.10"
  }
 },
 "nbformat": 4,
 "nbformat_minor": 5
}
