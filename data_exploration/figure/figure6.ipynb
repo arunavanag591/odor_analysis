{
 "cells": [
  {
   "cell_type": "code",
   "execution_count": 1,
   "id": "bd1a9e2f",
   "metadata": {},
   "outputs": [],
   "source": [
    "#dataframes\n",
    "import pandas as pd\n",
    "import h5py\n",
    "\n",
    "#speedup\n",
    "import multiprocessing as mp\n",
    "\n",
    "#suppress warnings\n",
    "import warnings\n",
    "warnings.simplefilter(action='ignore', category=FutureWarning)\n",
    "pd.TimeSeries = pd.Series \n",
    "\n",
    "#math\n",
    "import numpy as np\n",
    "import math as m\n",
    "from scipy.spatial.distance import cdist\n",
    "from scipy import signal\n",
    "\n",
    "#plots\n",
    "import pylab as plt\n",
    "import matplotlib.pyplot as plt\n",
    "from matplotlib.ticker import MaxNLocator\n",
    "import matplotlib\n",
    "from figurefirst import FigureLayout,mpl_functions\n",
    "import figurefirst\n",
    "import matplotlib.image as mpimg\n",
    "from mpl_toolkits.axes_grid1 import make_axes_locatable # for colorbar\n",
    "import seaborn as sns\n",
    "sns.set()\n",
    "sns.set_style(\"whitegrid\")\n",
    "import figurefirst as fifi\n",
    "from IPython.display import display,SVG\n",
    "\n",
    "#misc\n",
    "import cairosvg\n",
    "import itertools\n",
    "import time\n",
    "np.set_printoptions(suppress=True)\n",
    "\n",
    "FS=7"
   ]
  },
  {
   "cell_type": "code",
   "execution_count": 2,
   "id": "9d69b633",
   "metadata": {},
   "outputs": [],
   "source": [
    "import fly_plot_lib.plot as fpl"
   ]
  },
  {
   "cell_type": "code",
   "execution_count": 3,
   "id": "36c9e529",
   "metadata": {},
   "outputs": [
    {
     "data": {
      "image/png": "[encoded data removed]",
      "text/plain": [
       "<Figure size 595.276x841.89 with 3 Axes>"
      ]
     },
     "metadata": {},
     "output_type": "display_data"
    },
    {
     "data": {
      "image/png": "[encoded data removed]",
      "text/plain": [
       "<Figure size 595.276x841.89 with 4 Axes>"
      ]
     },
     "metadata": {},
     "output_type": "display_data"
    },
    {
     "data": {
      "image/png": "[encoded data removed]",
      "text/plain": [
       "<Figure size 595.276x841.89 with 1 Axes>"
      ]
     },
     "metadata": {},
     "output_type": "display_data"
    },
    {
     "data": {
      "image/png": "[encoded data removed]",
      "text/plain": [
       "<Figure size 595.276x841.89 with 1 Axes>"
      ]
     },
     "metadata": {},
     "output_type": "display_data"
    },
    {
     "data": {
      "image/png": "[encoded data removed]",
      "text/plain": [
       "<Figure size 595.276x841.89 with 1 Axes>"
      ]
     },
     "metadata": {},
     "output_type": "display_data"
    },
    {
     "data": {
      "image/png": "[encoded data removed]",
      "text/plain": [
       "<Figure size 595.276x841.89 with 1 Axes>"
      ]
     },
     "metadata": {},
     "output_type": "display_data"
    },
    {
     "data": {
      "image/png": "[encoded data removed]",
      "text/plain": [
       "<Figure size 595.276x841.89 with 1 Axes>"
      ]
     },
     "metadata": {},
     "output_type": "display_data"
    }
   ],
   "source": [
    "layout = fifi.svg_to_axes.FigureLayout('../../../Figure/fig6.svg',\n",
    "                                           autogenlayers=True, make_mplfigures=True, hide_layers=[])"
   ]
  },
  {
   "cell_type": "markdown",
   "id": "ea9b9bd8",
   "metadata": {},
   "source": [
    "### Panel R2"
   ]
  },
  {
   "cell_type": "code",
   "execution_count": 4,
   "id": "8f65da0a",
   "metadata": {},
   "outputs": [],
   "source": [
    "dir='~/DataAnalysis/Figure/Fig6Assets/'\n",
    "df = pd.read_hdf(dir+'R2LtTime.h5')\n",
    "line_width=0.5\n",
    "msize=3\n",
    "ax=layout.axes[('panelr2','a4')]\n",
    "ax.grid(False)\n",
    "ax.plot(df.time,df.r2_hws, label='WS>3.5m/s',linewidth=line_width,rasterized=True)\n",
    "ax.plot(df.time,df.r2_hws,'o',markersize=msize,rasterized=True)\n",
    "\n",
    "ax.plot(df.time,df.r2_lws, label='WS<3.5m/s',linewidth=line_width,rasterized=True)\n",
    "ax.plot(df.time,df.r2_lws,'o',markersize=msize,rasterized=True)\n",
    "\n",
    "ax.plot(df.time,df.r2_forest, c='black', label='Forest',linewidth=line_width,rasterized=True)\n",
    "ax.plot(df.time,df.r2_forest,'o',markersize=msize,rasterized=True)\n",
    "ax.set_rasterization_zorder(-20)\n",
    "\n",
    "ax.set_xlabel('Lookback Time,s')\n",
    "ax.xaxis.set_label_coords(0.5, -0.1)\n",
    "\n",
    "ax.set_ylabel('$R^2$')\n",
    "ax.yaxis.set_label_coords(-0.08, 0.5)\n",
    "\n",
    "mpl_functions.adjust_spines(ax,['left','bottom'],\n",
    "                                spine_locations={'left': 5, 'bottom': 5}, \n",
    "                                smart_bounds=True,\n",
    "                                xticks=[0,20],\n",
    "                                yticks=[0.2,0.8],\n",
    "                                linewidth=0.5)\n",
    "\n",
    "\n",
    "figurefirst.mpl_functions.set_fontsize(ax, FS)\n",
    "layout.append_figure_to_layer(layout.figures['panelr2'], 'panelr2', cleartarget=True)\n",
    "layout.write_svg('../../../Figure/fig6.svg')"
   ]
  },
  {
   "cell_type": "markdown",
   "id": "06318a65",
   "metadata": {},
   "source": [
    "### Panel 2"
   ]
  },
  {
   "cell_type": "code",
   "execution_count": 5,
   "id": "2e55c142",
   "metadata": {},
   "outputs": [],
   "source": [
    "df = pd.read_hdf(\"~/DataAnalysis/data/Sprints/HighRes/Desert/WindyTrainDf.h5\")"
   ]
  },
  {
   "cell_type": "code",
   "execution_count": 6,
   "id": "3d06ef82",
   "metadata": {},
   "outputs": [],
   "source": [
    "ax=layout.axes[('panel2','b1')]\n",
    "ax.grid(False)\n",
    "dataframe=df\n",
    "distance = dataframe.distance\n",
    "test_var=(dataframe.mc_mean)\n",
    "var1 = ax.scatter(distance,test_var, c=dataframe.mc_mean,cmap='bone_r', edgecolors='none', s=4,\n",
    "                  vmin=4, vmax=10, rasterized=True)\n",
    "g1 = sns.regplot(x=distance,y=(test_var) , data=dataframe,\n",
    "            ax=ax, line_kws={'color':'red','linewidth':1}, scatter=False, truncate=False)\n",
    "g1.set(xlabel=None, ylabel=None)\n",
    "\n",
    "ax.set_rasterization_zorder(-20)\n",
    "\n",
    "ax.set_xlabel('Dist. from Source,m')\n",
    "ax.xaxis.set_label_coords(0.47, -0.1)\n",
    "\n",
    "ax.set_ylabel('$\\mu(mc)$')\n",
    "ax.yaxis.set_label_coords(-0.08, 0.5)\n",
    "\n",
    "mpl_functions.adjust_spines(ax,['left','bottom'],\n",
    "                            spine_locations={'left': 5, 'bottom': 5}, \n",
    "                            smart_bounds=True,\n",
    "                            xticks=[0,50],\n",
    "                            yticks=[4.5,10.5],\n",
    "                            linewidth=0.5)\n",
    "\n",
    "figurefirst.mpl_functions.set_fontsize(ax, FS)\n",
    "layout.append_figure_to_layer(layout.figures['panel2'], 'panel2', cleartarget=True)\n",
    "layout.write_svg('../../../Figure/fig6.svg')\n"
   ]
  },
  {
   "cell_type": "code",
   "execution_count": 7,
   "id": "f7101008",
   "metadata": {},
   "outputs": [],
   "source": [
    "ax=layout.axes[('panel2','b2')]\n",
    "ax.grid(False)\n",
    "dataframe=df\n",
    "distance = dataframe.distance\n",
    "test_var=(dataframe.wf_std_dev)\n",
    "var1 = ax.scatter(distance,test_var, c=dataframe.mc_mean,cmap='bone_r', edgecolors='none', s=4,\n",
    "                  vmin=4, vmax=10, rasterized=True)\n",
    "g1 = sns.regplot(x=distance,y=(test_var) , data=dataframe,\n",
    "            ax=ax, line_kws={'color':'red','linewidth':1}, scatter=False, truncate=False)\n",
    "g1.set(xlabel=None, ylabel=None)\n",
    "\n",
    "\n",
    "ax.set_rasterization_zorder(-20)\n",
    "ax.set_ylabel('$\\sigma(mc)$')\n",
    "ax.yaxis.set_label_coords(-0.08, 0.5)\n",
    "\n",
    "mpl_functions.adjust_spines(ax,['left'],\n",
    "                            spine_locations={'left': 5}, \n",
    "                            smart_bounds=True,\n",
    "                            xticks=[0,50],\n",
    "                            yticks=[0,2.5],\n",
    "                            linewidth=0.5)\n",
    "\n",
    "figurefirst.mpl_functions.set_fontsize(ax, FS)\n",
    "layout.append_figure_to_layer(layout.figures['panel2'], 'panel2', cleartarget=True)\n",
    "layout.write_svg('../../../Figure/fig6.svg')\n"
   ]
  },
  {
   "cell_type": "code",
   "execution_count": 8,
   "id": "008f12b9",
   "metadata": {},
   "outputs": [],
   "source": [
    "ax=layout.axes[('panel2','b3')]\n",
    "ax.grid(False)\n",
    "dataframe=df\n",
    "distance = dataframe.distance\n",
    "test_var=(dataframe.wd_mean)\n",
    "var1 = ax.scatter(distance,test_var, c=dataframe.mc_mean,cmap='bone_r', edgecolors='none', s=4,\n",
    "                  vmin=4, vmax=10, rasterized=True)\n",
    "g1 = sns.regplot(x=distance,y=(test_var) , data=dataframe,\n",
    "            ax=ax, line_kws={'color':'red','linewidth':1}, scatter=False, truncate=False)\n",
    "g1.set(xlabel=None, ylabel=None)\n",
    "\n",
    "ax.set_rasterization_zorder(-20)\n",
    "ax.set_ylabel('$\\mu(wd)$')\n",
    "ax.yaxis.set_label_coords(-0.08, 0.5)\n",
    "\n",
    "mpl_functions.adjust_spines(ax,['left'],\n",
    "                            spine_locations={'left': 5}, \n",
    "                            smart_bounds=True,\n",
    "                            xticks=[0,50],\n",
    "                            yticks=[-2.3,1.5],\n",
    "                            linewidth=0.5)\n",
    "\n",
    "ax.set_yticklabels([r'$10^{-2.3}$',r'$10^{1.5}$'])\n",
    "figurefirst.mpl_functions.set_fontsize(ax, FS)\n",
    "layout.append_figure_to_layer(layout.figures['panel2'], 'panel2', cleartarget=True)\n",
    "layout.write_svg('../../../Figure/fig6.svg')\n"
   ]
  },
  {
   "cell_type": "code",
   "execution_count": 9,
   "id": "46b22c5c",
   "metadata": {},
   "outputs": [],
   "source": [
    "ax=layout.axes[('panel2','b4')]\n",
    "ax.grid(False)\n",
    "dataframe=df\n",
    "distance = dataframe.distance\n",
    "test_var=(dataframe.st_mean)\n",
    "var1 = ax.scatter(distance,test_var, c=dataframe.mc_mean,cmap='bone_r', edgecolors='none', s=4,\n",
    "                  vmin=4, vmax=10, rasterized=True)\n",
    "g1 = sns.regplot(x=distance,y=(test_var) , data=dataframe,\n",
    "            ax=ax, line_kws={'color':'red','linewidth':1}, scatter=False, truncate=False)\n",
    "g1.set(xlabel=None, ylabel=None)\n",
    "\n",
    "ax.set_rasterization_zorder(-20)\n",
    "ax.set_ylabel('$\\mu(st)$')\n",
    "ax.yaxis.set_label_coords(-0.08, 0.5)\n",
    "\n",
    "mpl_functions.adjust_spines(ax,['left'],\n",
    "                            spine_locations={'left': 5}, \n",
    "                            smart_bounds=True,\n",
    "                            xticks=[0,50],\n",
    "                            yticks=[0,2.5],\n",
    "                            linewidth=0.5)\n",
    "\n",
    "figurefirst.mpl_functions.set_fontsize(ax, FS)\n",
    "layout.append_figure_to_layer(layout.figures['panel2'], 'panel2', cleartarget=True)\n",
    "layout.write_svg('../../../Figure/fig6.svg')\n"
   ]
  },
  {
   "cell_type": "markdown",
   "id": "51e7e6a0",
   "metadata": {},
   "source": [
    "### Panel 3"
   ]
  },
  {
   "cell_type": "code",
   "execution_count": 5,
   "id": "31402404",
   "metadata": {},
   "outputs": [],
   "source": [
    "dir='~/DataAnalysis/Figure/Fig6Assets/'"
   ]
  },
  {
   "cell_type": "code",
   "execution_count": 11,
   "id": "81654f96",
   "metadata": {},
   "outputs": [],
   "source": [
    "df = pd.read_hdf(dir+'HWS_Rsquared.h5')"
   ]
  },
  {
   "cell_type": "code",
   "execution_count": 12,
   "id": "584031cb",
   "metadata": {},
   "outputs": [],
   "source": [
    "ax=layout.axes[('panel3','c1')]\n",
    "ax.grid(False)\n",
    "sns.stripplot(data=df, ax=ax, dodge=True, size=3, color='Black', rasterized=True)\n",
    "ax.set_rasterization_zorder(-20)\n",
    "\n",
    "label=['min(mc)','max(mc)','$\\mu(mc)$','$\\sigma(mc)$', '$mc_k$',\n",
    "      'min(wf)','max(wf)','$\\mu(wf)$','$\\sigma(wf)$', '$wf_k$',\n",
    "      'min(wd)','max(wd)','$\\mu(wd)$','$\\sigma(wd)$', '$wd_k$',\n",
    "      'min(ma)','max(ma)','$\\mu(ma)$','$\\sigma(ma)$', '$ma_k$',\n",
    "      'min(st)','max(st)','$\\mu(st)$','$\\sigma(st)$', '$st_k$']\n",
    "\n",
    "ax.axhline(0.04, color = 'red', alpha=0.5)\n",
    "ax.set_ylabel('$R^2$')\n",
    "ax.yaxis.set_label_coords(-0.05, 0.5)\n",
    "mpl_functions.adjust_spines(ax,['left','bottom'],\n",
    "                            spine_locations={'left': 5}, \n",
    "                            smart_bounds=True,                            \n",
    "                            yticks=[0,0.7],\n",
    "                            linewidth=0.5)\n",
    "ax.text(2,0.1,'$R^2$=0.04',color='black',fontsize='14',c='blue')\n",
    "ax.set_xticklabels(label, rotation=90)\n",
    "figurefirst.mpl_functions.set_fontsize(ax, FS)\n",
    "layout.append_figure_to_layer(layout.figures['panel3'], 'panel3', cleartarget=True)\n",
    "layout.write_svg('../../../Figure/fig6.svg')\n"
   ]
  },
  {
   "cell_type": "markdown",
   "id": "f4895966",
   "metadata": {},
   "source": [
    "### Panel 4"
   ]
  },
  {
   "cell_type": "code",
   "execution_count": 13,
   "id": "0aee337e",
   "metadata": {},
   "outputs": [],
   "source": [
    "combtest=pd.read_hdf(dir+'HWSRsquaredAicCombinations.h5')\n",
    "aic_table=pd.read_hdf(dir+'HWSAicDeltaTab.h5')"
   ]
  },
  {
   "cell_type": "code",
   "execution_count": 14,
   "id": "b084d448",
   "metadata": {},
   "outputs": [],
   "source": [
    "# for i in range(1,len(aic_table)):\n",
    "#     print(*(combtest.parameters[combtest.aic==(combtest.aic.loc[(np.where(combtest.n_para==i))]).min()]))"
   ]
  },
  {
   "cell_type": "code",
   "execution_count": 15,
   "id": "83e158ba",
   "metadata": {},
   "outputs": [],
   "source": [
    "ax=layout.axes[('panel4','c2')]\n",
    "ax.grid(False)\n",
    "g=sns.stripplot(x=combtest.rsquared,y=combtest.n_para,data=combtest, \n",
    "              ax=ax, color='black',\n",
    "              dodge=True, orient='h',s=1,rasterized=True)\n",
    "g.set(xlabel=None, ylabel=None)\n",
    "ax.set_xlabel('$R^2$')\n",
    "ax.set_ylabel('# Parameters')\n",
    "ax.xaxis.set_label_coords(0.5, -0.1)\n",
    "ax.yaxis.set_label_coords(-0.15, 0.5)\n",
    "ax.set_rasterization_zorder(-20)\n",
    "mpl_functions.adjust_spines(ax,['left','bottom'],\n",
    "                            spine_locations={'left': 5, 'bottom': 5}, \n",
    "                            smart_bounds=True,                            \n",
    "                            xticks=[0,0.8],\n",
    "                            yticks=[0,1,2,3,4,5,6,7,8],\n",
    "                            linewidth=0.5)\n",
    "ax.set_yticklabels(np.arange(1,len(aic_table)+1,1))\n",
    "figurefirst.mpl_functions.set_fontsize(ax, FS)\n",
    "layout.append_figure_to_layer(layout.figures['panel4'], 'panel4', cleartarget=True)\n",
    "layout.write_svg('../../../Figure/fig6.svg')"
   ]
  },
  {
   "cell_type": "code",
   "execution_count": 16,
   "id": "72cdfa01",
   "metadata": {},
   "outputs": [],
   "source": [
    "ax=layout.axes[('panel5','c3')]\n",
    "ax.grid(False)\n",
    "g=sns.stripplot(x=combtest.aic,y=combtest.n_para, data=combtest, color='black',\n",
    "              ax=ax,dodge=True, orient = 'h',s=1,rasterized=True)\n",
    "g.set(xlabel=None, ylabel=None)\n",
    "ax.set_xlabel('$AIC$')\n",
    "ax.xaxis.set_label_coords(0.5, -0.1)\n",
    "ax.scatter(aic_table.aic_min,np.arange(0,len(aic_table),1),c='red', \n",
    "            marker='o', s=5, facecolor=None,rasterized=True)\n",
    "ax.plot(aic_table.aic_min,np.arange(0,len(aic_table),1),c='red',alpha=0.2,rasterized=True)\n",
    "\n",
    "ax.set_rasterization_zorder(-20)\n",
    "\n",
    "mpl_functions.adjust_spines(ax,['left','bottom'],\n",
    "                            spine_locations={'left': 5,'bottom': 5}, \n",
    "                            smart_bounds=True,                            \n",
    "                            xticks=[9500,11700],\n",
    "                            yticks=[0,8],\n",
    "                            linewidth=0.5)\n",
    "ax.set_yticklabels([r'$1$',r'$9$'])\n",
    "ax.set_xticklabels([r'$9.5*10^{2}$',r'$11.7*10^{2}$'])\n",
    "figurefirst.mpl_functions.set_fontsize(ax, FS)\n",
    "layout.append_figure_to_layer(layout.figures['panel5'], 'panel5', cleartarget=True)\n",
    "layout.write_svg('../../../Figure/fig6.svg')"
   ]
  },
  {
   "cell_type": "markdown",
   "id": "11063a45",
   "metadata": {},
   "source": [
    "### Colorbar"
   ]
  },
  {
   "cell_type": "code",
   "execution_count": 17,
   "id": "0e4010e4",
   "metadata": {},
   "outputs": [],
   "source": [
    "ax = layout.axes[('cbar', 'cbar1')]\n",
    "ytic=[4.5,11]\n",
    "\n",
    "fpl.colorbar(ax=ax, colormap='bone_r', orientation='vertical',ticks=ytic)\n",
    "ax.set_rasterization_zorder(-20)\n",
    "mpl_functions.adjust_spines(ax, ['right'], \n",
    "                                    smart_bounds=True,\n",
    "                                    spine_locations={'right': 1}, \n",
    "                                    yticks=ytic,\n",
    "                                    tick_length=1.5,\n",
    "                                    linewidth=0.5)\n",
    "\n",
    "ax.set_ylabel(\"$\\mu(mc)$, v\",rotation=-90, labelpad=-18)\n",
    "\n",
    "ax.set_yticklabels(['4.5', '10'])\n",
    "figurefirst.mpl_functions.set_fontsize(ax, FS)\n",
    "\n",
    "layout.append_figure_to_layer(layout.figures['cbar'], 'cbar', cleartarget=True)\n",
    "layout.write_svg('../../../Figure/fig6.svg')"
   ]
  },
  {
   "cell_type": "code",
   "execution_count": 19,
   "id": "f4bb4e11",
   "metadata": {},
   "outputs": [],
   "source": [
    "cairosvg.svg2pdf(url='../../../Figure/fig6.svg', write_to='../../../Figure/fig6.pdf')"
   ]
  },
  {
   "cell_type": "code",
   "execution_count": null,
   "id": "2fef1f50",
   "metadata": {},
   "outputs": [],
   "source": []
  }
 ],
 "metadata": {
  "kernelspec": {
   "display_name": "Python 3 (ipykernel)",
   "language": "python",
   "name": "python3"
  },
  "language_info": {
   "codemirror_mode": {
    "name": "ipython",
    "version": 3
   },
   "file_extension": ".py",
   "mimetype": "text/x-python",
   "name": "python",
   "nbconvert_exporter": "python",
   "pygments_lexer": "ipython3",
   "version": "3.8.10"
  }
 },
 "nbformat": 4,
 "nbformat_minor": 5
}
