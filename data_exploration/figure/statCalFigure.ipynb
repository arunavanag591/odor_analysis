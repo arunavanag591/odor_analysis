{
 "cells": [
  {
   "cell_type": "code",
   "execution_count": 1,
   "id": "d9e566c2",
   "metadata": {},
   "outputs": [],
   "source": [
    "#dataframes\n",
    "import pandas as pd\n",
    "import h5py\n",
    "\n",
    "import sys\n",
    "sys.path.append('../')\n",
    "import odor_statistics_lib as osm\n",
    "\n",
    "# user defined functions\n",
    "\n",
    "#speedup\n",
    "import multiprocessing as mp\n",
    "\n",
    "#suppress warnings\n",
    "import warnings\n",
    "warnings.simplefilter(action='ignore', category=FutureWarning)\n",
    "pd.TimeSeries = pd.Series \n",
    "\n",
    "#math\n",
    "import numpy as np\n",
    "import math\n",
    "from scipy.spatial.distance import cdist\n",
    "from scipy import signal\n",
    "\n",
    "#plots\n",
    "import pylab as plt\n",
    "import matplotlib.pyplot as plt\n",
    "from matplotlib.ticker import MaxNLocator\n",
    "import matplotlib\n",
    "from figurefirst import FigureLayout,mpl_functions\n",
    "import figurefirst\n",
    "import matplotlib.image as mpimg\n",
    "from mpl_toolkits.axes_grid1 import make_axes_locatable # for colorbar\n",
    "import seaborn as sns\n",
    "sns.set()\n",
    "sns.set_style(\"whitegrid\")\n",
    "import figurefirst as fifi\n",
    "from IPython.display import display,SVG\n",
    "\n",
    "#misc\n",
    "import cairosvg\n",
    "import time\n",
    "np.set_printoptions(suppress=True)\n",
    "\n",
    "import fly_plot_lib.plot as fpl\n",
    "\n",
    "FS=7\n",
    "colormap='bone_r'"
   ]
  },
  {
   "cell_type": "markdown",
   "id": "b6d0b42d",
   "metadata": {},
   "source": [
    "## Odor Statistics Panels"
   ]
  },
  {
   "cell_type": "code",
   "execution_count": 2,
   "id": "bebfb8d0",
   "metadata": {},
   "outputs": [
    {
     "name": "stderr",
     "output_type": "stream",
     "text": [
      "/home/gadfly/DataAnalysis/odor_analysis/data_exploration/figure/../odor_statistics_lib.py:224: SettingWithCopyWarning: \n",
      "A value is trying to be set on a copy of a slice from a DataFrame\n",
      "\n",
      "See the caveats in the documentation: https://pandas.pydata.org/pandas-docs/stable/user_guide/indexing.html#returning-a-view-versus-a-copy\n",
      "  df.efreq.iloc[start] = 1\n"
     ]
    }
   ],
   "source": [
    "df = pd.read_hdf(\"~/DataAnalysis/data/Sprints/HighRes/NotWindy/NotWindyMASigned.h5\")\n",
    "def get_statistics(df,index,fdf):\n",
    "    osm.avg_distance(df,index,fdf)\n",
    "    osm.mean_conc(df,index,fdf)\n",
    "    osm.motion_statistics(df,index,fdf)\n",
    "    osm.whiff_blank_duration(df,index,fdf)\n",
    "    osm.trajectory_speed(df,index,fdf)\n",
    "    osm.encounter_frequency(df,index,fdf,1,2)\n",
    "    osm.mean_avg(df,index,fdf)\n",
    "    osm.mean_t(df,index,fdf)\n",
    "    osm.std_whiff(df,index,fdf)\n",
    "    \n",
    "np.seterr(divide = 'ignore') \n",
    "index = osm.get_index(df)\n",
    "fdf = pd.DataFrame()\n",
    "get_statistics(df,index,fdf)"
   ]
  },
  {
   "cell_type": "code",
   "execution_count": 3,
   "id": "f34258ed",
   "metadata": {},
   "outputs": [],
   "source": [
    "df['whiff_duration_plot'] = 0  # Initialize the column with zeros\n",
    "dt = df.time[1] - df.time[0]\n",
    "\n",
    "for i in index:\n",
    "    val = dt * len(i)\n",
    "    df.loc[i, 'whiff_duration_plot'] = val\n",
    "    \n",
    "\n",
    "df['whiff_concentration_plot'] = 0  # Initialize the column with zeros\n",
    "dt = df.time[1] - df.time[0]\n",
    "\n",
    "for i in index:\n",
    "    val = np.mean(df.odor[i])\n",
    "    df.loc[i, 'whiff_concentration_plot'] = val\n",
    "\n",
    "\n",
    "df['whiff_sd_plot'] = 0  # Initialize the column with zeros\n",
    "for i in index:\n",
    "    val = np.std(df.odor[i])\n",
    "    df.loc[i, 'whiff_sd_plot'] = val\n",
    "\n",
    "df['whiff_wf_plot'] = 0  # Initialize the column with zeros\n",
    "for i in index:\n",
    "    val = np.mean(df.encounter_frequency[i])\n",
    "    df.loc[i, 'whiff_wf_plot'] = val\n",
    "\n",
    "df['whiff_ma_plot'] = 0  # Initialize the column with zeros\n",
    "for i in index:\n",
    "    val = np.mean(df.ma_inter[i])\n",
    "    df.loc[i, 'whiff_ma_plot'] = val"
   ]
  },
  {
   "cell_type": "markdown",
   "id": "e794d072",
   "metadata": {},
   "source": [
    "### Load Figure First Layout"
   ]
  },
  {
   "cell_type": "code",
   "execution_count": 32,
   "id": "779b2910",
   "metadata": {},
   "outputs": [
    {
     "data": {
      "image/png": "[encoded data removed]",
      "text/plain": [
       "<Figure size 595.276x841.89 with 1 Axes>"
      ]
     },
     "metadata": {},
     "output_type": "display_data"
    },
    {
     "data": {
      "image/png": "[encoded data removed]",
      "text/plain": [
       "<Figure size 595.276x841.89 with 9 Axes>"
      ]
     },
     "metadata": {},
     "output_type": "display_data"
    },
    {
     "data": {
      "image/png": "[encoded data removed]",
      "text/plain": [
       "<Figure size 595.276x841.89 with 6 Axes>"
      ]
     },
     "metadata": {},
     "output_type": "display_data"
    }
   ],
   "source": [
    "layout = fifi.svg_to_axes.FigureLayout('../../../Figure/fig4.svg',\n",
    "                                           autogenlayers=True, make_mplfigures=True, hide_layers=[])"
   ]
  },
  {
   "cell_type": "markdown",
   "id": "8848fbee",
   "metadata": {},
   "source": [
    "## Raw Signal"
   ]
  },
  {
   "cell_type": "code",
   "execution_count": 5,
   "id": "7d99b6f0",
   "metadata": {},
   "outputs": [],
   "source": [
    "r = [4002.05,4003]"
   ]
  },
  {
   "cell_type": "code",
   "execution_count": 7,
   "id": "631c03f7",
   "metadata": {},
   "outputs": [],
   "source": [
    "ax=layout.axes[('rawodorfig','rawodor')]\n",
    "ax.plot(df.time,df.odor, c='black', linewidth=0.6)\n",
    "x = []\n",
    "for i in range(len(index)):\n",
    "    if math.isclose(df.time.loc[index[i][0]],r[0],abs_tol=1):\n",
    "        x.append(i)\n",
    "        \n",
    "for i in range(1,len(x)):\n",
    "    ax.axvspan(xmin=df.time.loc[index[x[i]][0]],xmax= df.time.loc[index[x[i]][-1]],ymin=0.42,ymax=0.97,  alpha=0.2, color='green')\n",
    "i=0\n",
    "for i in range(1,len(x)-1):\n",
    "    ax.axvspan(xmin=df.time.loc[(index[x[i]][-1])+1],\n",
    "               xmax= df.time.loc[(index[x[i+1]][0])-1],ymin=0,ymax=0.42,  alpha=0.2, color='red')\n",
    "\n",
    "ax.axvspan(xmin=df.time.loc[(index[x[-1]][-1])+1],\n",
    "           xmax= df.time.loc[(index[x[-1]][-1])+100],ymin=0,ymax=0.42,  alpha=0.2, color='red')\n",
    "\n",
    "### Whiff Duration\n",
    "ax.set_xlim(r)\n",
    "ax.grid(False)\n",
    "\n",
    "mpl_functions.adjust_spines(ax,['left','bottom'],\n",
    "                            spine_locations={'left': 5, 'bottom': 5}, \n",
    "                            smart_bounds=True,\n",
    "                            xticks=r,\n",
    "                            yticks=[0,10],\n",
    "                            linewidth=0.5)\n",
    "ax.axhline(4.5, linestyle='--', c='red', linewidth=1)\n",
    "ax.set_xticklabels([0,1])\n",
    "ax.set_rasterization_zorder(-20)\n",
    "ax.set_ylabel('Odor, a.u.')\n",
    "ax.yaxis.set_label_coords(-0.09, 0.5)\n",
    "ax.set_xlabel('Time,s')\n",
    "ax.xaxis.set_label_coords(0.5, -0.2)\n",
    "\n",
    "figurefirst.mpl_functions.set_fontsize(ax, FS)\n",
    "\n",
    "layout.append_figure_to_layer(layout.figures['rawodorfig'], 'rawodorfig', cleartarget=True)\n",
    "layout.write_svg('../../../Figure/fig4.svg')"
   ]
  },
  {
   "cell_type": "markdown",
   "id": "03a96977",
   "metadata": {},
   "source": [
    "### Whiff Duration"
   ]
  },
  {
   "cell_type": "code",
   "execution_count": 33,
   "id": "9eff4df7",
   "metadata": {},
   "outputs": [],
   "source": [
    "ax=layout.axes[('fig2','ele11')]\n",
    "ax.plot(df.time,df.whiff_duration_plot, c='black', linewidth=0.6)\n",
    "ax.set_xlim(r)\n",
    "ax.grid(False)\n",
    "\n",
    "ax.set_ylim(0,0.2)\n",
    "mpl_functions.adjust_spines(ax,['left','bottom'],\n",
    "                            spine_locations={'left': 5, 'bottom': 5}, \n",
    "                            smart_bounds=True,\n",
    "                            xticks=r,\n",
    "                            yticks=[0,0.2],\n",
    "                            linewidth=0.5)\n",
    "ax.set_xticklabels([0,1])\n",
    "ax.set_rasterization_zorder(-20)\n",
    "ax.set_ylabel('Whiff\\nTime, s')\n",
    "ax.yaxis.set_label_coords(-0.09, 0.5)\n",
    "ax.set_xlabel('Time,s')\n",
    "ax.xaxis.set_label_coords(0.5, -0.2)\n",
    "figurefirst.mpl_functions.set_fontsize(ax, FS)\n",
    "\n",
    "layout.append_figure_to_layer(layout.figures['fig2'], 'fig2', cleartarget=True)\n",
    "layout.write_svg('../../../Figure/fig4.svg')"
   ]
  },
  {
   "cell_type": "markdown",
   "id": "515eedb4",
   "metadata": {},
   "source": [
    "### Whiff Concentration"
   ]
  },
  {
   "cell_type": "code",
   "execution_count": 34,
   "id": "e4d8487b",
   "metadata": {},
   "outputs": [],
   "source": [
    "ax=layout.axes[('fig2','ele13')]\n",
    "ax.plot(df.time,df.whiff_concentration_plot, c='black', linewidth=0.6)\n",
    "ax.set_xlim(r)\n",
    "ax.grid(False)\n",
    "mpl_functions.adjust_spines(ax,['left','bottom'],\n",
    "                            spine_locations={'left': 5, 'bottom': 5}, \n",
    "                            smart_bounds=True,\n",
    "                            xticks=r,\n",
    "                            yticks=[0,10],\n",
    "                            linewidth=0.5)\n",
    "ax.set_rasterization_zorder(-20)\n",
    "ax.set_xticklabels([0,1])\n",
    "ax.set_ylabel('Mean\\nOdor, a.u.')\n",
    "ax.yaxis.set_label_coords(-0.09, 0.5)\n",
    "ax.set_xlabel('Time,s')\n",
    "ax.xaxis.set_label_coords(0.5, -0.2)\n",
    "figurefirst.mpl_functions.set_fontsize(ax, FS)\n",
    "\n",
    "layout.append_figure_to_layer(layout.figures['fig2'], 'fig2', cleartarget=True)\n",
    "layout.write_svg('../../../Figure/fig4.svg')"
   ]
  },
  {
   "cell_type": "markdown",
   "id": "352244db",
   "metadata": {},
   "source": [
    "### Whiff Std Dev"
   ]
  },
  {
   "cell_type": "code",
   "execution_count": 35,
   "id": "d2773133",
   "metadata": {},
   "outputs": [],
   "source": [
    "ax=layout.axes[('fig2','std01')]\n",
    "ax.grid(False)\n",
    "ax.plot(df.time,df.whiff_sd_plot, c='black', linewidth=0.6,rasterized= True)\n",
    "ax.set_xlim(r)\n",
    "\n",
    "ax.set_ylim(0,2)\n",
    "mpl_functions.adjust_spines(ax,['left','bottom'],\n",
    "                            spine_locations={'left': 5, 'bottom': 5}, \n",
    "                            smart_bounds=True,\n",
    "                            xticks=r,\n",
    "                            yticks=[0,2],\n",
    "                            linewidth=0.5)\n",
    "ax.set_xticklabels([0,1])\n",
    "\n",
    "ax.set_rasterization_zorder(-20)\n",
    "ax.set_ylabel('a.u.')\n",
    "ax.yaxis.set_label_coords(-0.09, 0.5)\n",
    "ax.set_xlabel('Time,s')\n",
    "ax.xaxis.set_label_coords(0.5, -0.2)\n",
    "figurefirst.mpl_functions.set_fontsize(ax, FS)\n",
    "\n",
    "layout.append_figure_to_layer(layout.figures['fig2'], 'fig2', cleartarget=True)\n",
    "layout.write_svg('../../../Figure/fig4.svg')"
   ]
  },
  {
   "cell_type": "markdown",
   "id": "1173f629",
   "metadata": {},
   "source": [
    "### Whiff Frequency"
   ]
  },
  {
   "cell_type": "code",
   "execution_count": 36,
   "id": "2ba6eb4f",
   "metadata": {},
   "outputs": [],
   "source": [
    "df1 = pd.read_hdf(\"~/DataAnalysis/data/Sprints/HighRes/NotWindy/NotWindyStatsTime_std.h5\")"
   ]
  },
  {
   "cell_type": "code",
   "execution_count": 37,
   "id": "308441d6",
   "metadata": {},
   "outputs": [],
   "source": [
    "ax=layout.axes[('fig2','ele15')]\n",
    "ax.plot(df.time,df.efreq, c='black', linewidth=0.6)\n",
    "ax.set_xlim(r)\n",
    "ax.grid(False)\n",
    "mpl_functions.adjust_spines(ax,['left'],\n",
    "                            spine_locations={'left': 5, 'bottom': 5}, \n",
    "                            smart_bounds=True,\n",
    "                            xticks=r,\n",
    "                            yticks=[0,1],\n",
    "                            linewidth=0.5)\n",
    "\n",
    "# ax.set_xticklabels([0,1])\n",
    "ax.set_rasterization_zorder(-20)\n",
    "figurefirst.mpl_functions.set_fontsize(ax, FS)\n",
    "\n",
    "layout.append_figure_to_layer(layout.figures['fig2'], 'fig2', cleartarget=True)\n",
    "layout.write_svg('../../../Figure/fig4.svg')"
   ]
  },
  {
   "cell_type": "code",
   "execution_count": 38,
   "id": "0fdc4cac",
   "metadata": {},
   "outputs": [],
   "source": [
    "ax=layout.axes[('fig2','ele16')]\n",
    "ax.plot(df.time,df.encounter_frequency, c='black', linewidth=0.6)\n",
    "ax.set_xlim(r)\n",
    "\n",
    "ax.grid(False)\n",
    "mpl_functions.adjust_spines(ax,['left'],\n",
    "                            spine_locations={'left': 5, 'bottom': 5}, \n",
    "                            smart_bounds=True,\n",
    "                            xticks=r,\n",
    "                            yticks=[0,4],\n",
    "                            linewidth=0.5)\n",
    "\n",
    "# ax.set_xticklabels([0,1])\n",
    "ax.set_rasterization_zorder(-20)\n",
    "ax.set_ylabel('hz', rotation=90)\n",
    "ax.yaxis.set_label_coords(-0.20, 0.3)\n",
    "# ax.set_xlabel('Time,s')\n",
    "# ax.xaxis.set_label_coords(0.5, -0.2)\n",
    "figurefirst.mpl_functions.set_fontsize(ax, FS)\n",
    "\n",
    "layout.append_figure_to_layer(layout.figures['fig2'], 'fig2', cleartarget=True)\n",
    "layout.write_svg('../../../Figure/fig4.svg')"
   ]
  },
  {
   "cell_type": "code",
   "execution_count": 39,
   "id": "43e75da4",
   "metadata": {},
   "outputs": [],
   "source": [
    "ax=layout.axes[('fig2','e3')]\n",
    "ax.plot(df.time,df.whiff_wf_plot, c='black',linewidth=0.6, rasterized= True)\n",
    "ax.set_xlim(r)\n",
    "ax.grid(False)\n",
    "\n",
    "ax.set_rasterization_zorder(-20)\n",
    "\n",
    "mpl_functions.adjust_spines(ax,['left','bottom'],\n",
    "                            spine_locations={'left': 5, 'bottom': 5}, \n",
    "                            smart_bounds=True,\n",
    "                            xticks=r,\n",
    "                            yticks=[0,3],\n",
    "                            linewidth=0.5)\n",
    "\n",
    "ax.set_xticklabels([0,1])\n",
    "ax.set_xlabel('Time,s')\n",
    "ax.xaxis.set_label_coords(0.5, -0.2)\n",
    "ax.set_ylabel('hz')\n",
    "ax.yaxis.set_label_coords(-0.20, 0.25)\n",
    "\n",
    "figurefirst.mpl_functions.set_fontsize(ax, FS)\n",
    "\n",
    "layout.append_figure_to_layer(layout.figures['fig2'], 'fig2', cleartarget=True)\n",
    "layout.write_svg('../../../Figure/fig4.svg')"
   ]
  },
  {
   "cell_type": "markdown",
   "id": "67b674c5",
   "metadata": {},
   "source": [
    "### Whiff Moving Average"
   ]
  },
  {
   "cell_type": "code",
   "execution_count": 40,
   "id": "3cd6b737",
   "metadata": {},
   "outputs": [],
   "source": [
    "ax=layout.axes[('fig2','ele17')]\n",
    "ax.plot(df.time,df.odor, c='black',linewidth=0.6, rasterized= True)\n",
    "ax.set_xlim(r)\n",
    "ax.axvspan(xmin=4002.5,xmax= 4003,  alpha=0.3, color='silver')\n",
    "ax.axvspan(xmin=4002.6,xmax= 4003, alpha=0.5, color='grey')\n",
    "ax.axvspan(xmin=4002.7,xmax= 4003, alpha=0.3, color='dimgrey')\n",
    "# ax.axvspan(xmin=4002.8,xmax= 4003, alpha=0.2, color='green')\n",
    "\n",
    "ax.grid(False)\n",
    "\n",
    "\n",
    "ax.set_rasterization_zorder(-20)\n",
    "\n",
    "mpl_functions.adjust_spines(ax,['left'],\n",
    "                            spine_locations={'left': 5, 'bottom': 5}, \n",
    "                            smart_bounds=True,\n",
    "                            xticks=r,\n",
    "                            yticks=[0,10],\n",
    "                            linewidth=0.5)\n",
    "\n",
    "# ax.set_xticklabels([0,1])\n",
    "figurefirst.mpl_functions.set_fontsize(ax, FS)\n",
    "\n",
    "layout.append_figure_to_layer(layout.figures['fig2'], 'fig2', cleartarget=True)\n",
    "layout.write_svg('../../../Figure/fig4.svg')"
   ]
  },
  {
   "cell_type": "code",
   "execution_count": 41,
   "id": "c2905109",
   "metadata": {},
   "outputs": [],
   "source": [
    "ax=layout.axes[('fig2','ele18')]\n",
    "ax.plot(df.time,df.ma_inter, c='black',linewidth=0.6, rasterized= True)\n",
    "ax.set_xlim(r)\n",
    "ax.grid(False)\n",
    "\n",
    "\n",
    "ax.set_rasterization_zorder(-20)\n",
    "\n",
    "mpl_functions.adjust_spines(ax,['left'],\n",
    "                            spine_locations={'left': 5, 'bottom': 5}, \n",
    "                            smart_bounds=True,\n",
    "                            xticks=r,\n",
    "                            yticks=[0,5],\n",
    "                            linewidth=0.5)\n",
    "\n",
    "# ax.set_xticklabels([0,1])\n",
    "\n",
    "ax.set_ylabel('a.u.',rotation=90)\n",
    "ax.yaxis.set_label_coords(-0.2, 0.23)\n",
    "# ax.set_xlabel('Time,s')\n",
    "# ax.xaxis.set_label_coords(0.5, -0.2)\n",
    "figurefirst.mpl_functions.set_fontsize(ax, FS)\n",
    "\n",
    "layout.append_figure_to_layer(layout.figures['fig2'], 'fig2', cleartarget=True)\n",
    "layout.write_svg('../../../Figure/fig4.svg')"
   ]
  },
  {
   "cell_type": "code",
   "execution_count": 42,
   "id": "fa751603",
   "metadata": {},
   "outputs": [],
   "source": [
    "ax=layout.axes[('fig2','f3')]\n",
    "ax.plot(df.time,df.whiff_ma_plot, c='black',linewidth=0.6, rasterized= True)\n",
    "ax.set_xlim(r)\n",
    "ax.grid(False)\n",
    "# ax.set_ylim(0,5)\n",
    "\n",
    "ax.set_rasterization_zorder(-20)\n",
    "\n",
    "mpl_functions.adjust_spines(ax,['left','bottom'],\n",
    "                            spine_locations={'left': 5, 'bottom': 5}, \n",
    "                            smart_bounds=True,\n",
    "                            xticks=r,\n",
    "                            yticks=[0,5],\n",
    "                            linewidth=0.5)\n",
    "\n",
    "ax.set_xticklabels([0,1])\n",
    "ax.set_xlabel('Time,s')\n",
    "ax.xaxis.set_label_coords(0.5, -0.2)\n",
    "ax.set_ylabel('a.u.')\n",
    "ax.yaxis.set_label_coords(-0.20, 0.27)\n",
    "figurefirst.mpl_functions.set_fontsize(ax, FS)\n",
    "\n",
    "layout.append_figure_to_layer(layout.figures['fig2'], 'fig2', cleartarget=True)\n",
    "layout.write_svg('../../../Figure/fig4.svg')"
   ]
  },
  {
   "cell_type": "markdown",
   "id": "64da192d",
   "metadata": {},
   "source": [
    "## Stat Figures"
   ]
  },
  {
   "cell_type": "code",
   "execution_count": 27,
   "id": "427e9f51",
   "metadata": {},
   "outputs": [],
   "source": [
    "dir='~/DataAnalysis/data/Sprints/HighRes/'\n",
    "fdf1 = pd.read_hdf(dir+\"NotWindy/NotWindyStatsTime_std.h5\")\n",
    "fdf2 = pd.read_hdf(dir+\"Windy/WindyStatsTime_std.h5\")\n",
    "# fdf3 = pd.read_hdf(dir+\"Forest/ForestStatsTime_std.h5\")\n",
    "\n",
    "fdf = pd.concat([fdf1,fdf2])\n",
    "fdf.reset_index(inplace=True, drop=True)"
   ]
  },
  {
   "cell_type": "markdown",
   "id": "8ba409cb",
   "metadata": {},
   "source": [
    "### Whiff Duration"
   ]
  },
  {
   "cell_type": "code",
   "execution_count": 28,
   "id": "cec1123e",
   "metadata": {},
   "outputs": [],
   "source": [
    "ax=layout.axes[('figindiv','ax1')]\n",
    "\n",
    "var = ax.scatter(fdf.log_avg_dist_from_source_signed, fdf.log_whiff, \n",
    "                   c=fdf.mean_concentration, cmap=colormap,s=4, edgecolors='none', \n",
    "                 alpha=0.2, vmin=0, vmax=10, rasterized= True)\n",
    "ax.grid(False)\n",
    "\n",
    "ax.set_rasterization_zorder(-20)\n",
    "ax.set_ylabel('wd, s')\n",
    "ax.yaxis.set_label_coords(-0.08, 0.5)\n",
    "ax.set_xlabel('Distance from\\nSource, m')\n",
    "ax.xaxis.set_label_coords(0.5, -0.1)\n",
    "\n",
    "# ax.set_ylim(0,6)\n",
    "mpl_functions.adjust_spines(ax,['left','bottom'],\n",
    "                            spine_locations={'left': 5}, \n",
    "                            smart_bounds=True,\n",
    "                            xticks=[-1,1.8],\n",
    "                            yticks=[-2.5,1.5],\n",
    "                            linewidth=0.5)\n",
    "\n",
    "ax.set_yticklabels([r'$10^{-2.5}$',r'$10^{1.5}$'])\n",
    "\n",
    "ax.set_xticklabels([r'$10^{-1}$',r'$10^{1.8}$'])\n",
    "ax.tick_params(axis='y', which='major', pad=1)\n",
    "\n",
    "figurefirst.mpl_functions.set_fontsize(ax, FS)\n",
    "layout.append_figure_to_layer(layout.figures['figindiv'], 'figindiv', cleartarget=True)\n",
    "layout.write_svg('../../../Figure/fig4.svg')"
   ]
  },
  {
   "cell_type": "markdown",
   "id": "4de3b4bb",
   "metadata": {},
   "source": [
    "### Whiff Concentration\n"
   ]
  },
  {
   "cell_type": "code",
   "execution_count": 29,
   "id": "e1d40e5a",
   "metadata": {},
   "outputs": [],
   "source": [
    "ax=layout.axes[('figindiv','ax2')]\n",
    "\n",
    "var = ax.scatter(fdf.log_avg_dist_from_source_signed, fdf.mean_concentration, \n",
    "                   c=fdf.mean_concentration, cmap=colormap,s=4, edgecolors='none', \n",
    "                 alpha=0.2, vmin=0, vmax=10, rasterized= True)\n",
    "ax.grid(False)\n",
    "ax.set_rasterization_zorder(-20)\n",
    "ax.set_ylabel('wc, a.u.')\n",
    "ax.yaxis.set_label_coords(-0.08, 0.5)\n",
    "\n",
    "mpl_functions.adjust_spines(ax,['left'],\n",
    "                            spine_locations={'left': 5, 'bottom': 5}, \n",
    "                            smart_bounds=True,\n",
    "#                             xticks=[-1,1.8],\n",
    "                            yticks=[4.5,10.5],\n",
    "                            linewidth=0.5)\n",
    "\n",
    "# ax.set_xticklabels([r'$10^{-1}$',r'$10^{1.8}$'])\n",
    "\n",
    "\n",
    "figurefirst.mpl_functions.set_fontsize(ax, FS)\n",
    "layout.append_figure_to_layer(layout.figures['figindiv'], 'figindiv', cleartarget=True)\n",
    "layout.write_svg('../../../Figure/fig4.svg')"
   ]
  },
  {
   "cell_type": "markdown",
   "id": "aa536092",
   "metadata": {},
   "source": [
    "### Whiff Standard Deviation"
   ]
  },
  {
   "cell_type": "code",
   "execution_count": 30,
   "id": "93532c72",
   "metadata": {},
   "outputs": [],
   "source": [
    "ax=layout.axes[('figindiv','ax3')]\n",
    "\n",
    "var = ax.scatter(fdf.log_avg_dist_from_source_signed, fdf.std_whiff, \n",
    "                   c=fdf.mean_concentration, cmap=colormap,s=4, edgecolors='none', \n",
    "                 alpha=0.2, vmin=0, vmax=10, rasterized= True)\n",
    "ax.grid(False)\n",
    "# ax.set_ylim()\n",
    "# g1 = sns.regplot(x=\"log_avg_dist_from_source_signed\",y=\"std_whiff\", data=fdf, \n",
    "#             ax=ax, line_kws={'color':'red','linewidth':1}, scatter=False, truncate=False)\n",
    "# g1.set(xlabel=None, ylabel=None)\n",
    "ax.set_rasterization_zorder(-20)\n",
    "\n",
    "ax.set_ylabel('wsd, a.u.')\n",
    "ax.yaxis.set_label_coords(-0.08, 0.5)\n",
    "\n",
    "\n",
    "\n",
    "mpl_functions.adjust_spines(ax,['left'],\n",
    "                            spine_locations={'left': 5}, \n",
    "                            smart_bounds=True,\n",
    "#                             xticks=[-1,1.8],\n",
    "                            yticks=[0,2.5],\n",
    "                            linewidth=0.5)\n",
    "\n",
    "ax.set_yticklabels(['0','2.5'])\n",
    "# ax.tick_params(axis='y', which='major', pad=1)\n",
    "\n",
    "\n",
    "figurefirst.mpl_functions.set_fontsize(ax, FS)\n",
    "layout.append_figure_to_layer(layout.figures['figindiv'], 'figindiv', cleartarget=True)\n",
    "layout.write_svg('../../../Figure/fig4.svg')"
   ]
  },
  {
   "cell_type": "markdown",
   "id": "922b8823",
   "metadata": {},
   "source": [
    "### Whiff Frequency"
   ]
  },
  {
   "cell_type": "code",
   "execution_count": 31,
   "id": "5846526c",
   "metadata": {},
   "outputs": [],
   "source": [
    "ax=layout.axes[('figindiv','ax4')]\n",
    "\n",
    "\n",
    "var = ax.scatter(fdf.log_avg_dist_from_source_signed, fdf.mean_ef, \n",
    "                   c=fdf.mean_concentration, cmap=colormap,s=4, edgecolors='none', \n",
    "                 alpha=0.2, vmin=0, vmax=10, rasterized= True)\n",
    "ax.grid(False)\n",
    "\n",
    "# g1 = sns.regplot(x=\"log_avg_dist_from_source_signed\",y=\"mean_ef\", data=fdf, \n",
    "#             ax=ax, line_kws={'color':'red','linewidth':1}, scatter=False, truncate=False)\n",
    "# g1.set(xlabel=None, ylabel=None)\n",
    "ax.set_rasterization_zorder(-20)\n",
    "ax.set_ylabel('wf, Hz')\n",
    "ax.yaxis.set_label_coords(-0.08, 0.5)\n",
    "mpl_functions.adjust_spines(ax,['left'],\n",
    "                            spine_locations={'left': 5}, \n",
    "                            smart_bounds=True,\n",
    "#                             xticks=[-1,1.8],\n",
    "                            yticks=[0,8],\n",
    "                            linewidth=0.5)\n",
    "\n",
    "\n",
    "figurefirst.mpl_functions.set_fontsize(ax, FS)\n",
    "layout.append_figure_to_layer(layout.figures['figindiv'], 'figindiv', cleartarget=True)\n",
    "layout.write_svg('../../../Figure/fig4.svg')"
   ]
  },
  {
   "cell_type": "markdown",
   "id": "4639380c",
   "metadata": {},
   "source": [
    "### Whiff Moving Average"
   ]
  },
  {
   "cell_type": "code",
   "execution_count": 32,
   "id": "665f21c9",
   "metadata": {},
   "outputs": [],
   "source": [
    "ax=layout.axes[('figindiv','ax5')]\n",
    "\n",
    "var = ax.scatter(fdf.log_avg_dist_from_source_signed, fdf.whiff_ma, \n",
    "                   c=fdf.mean_concentration, cmap=colormap,s=4, edgecolors='none', \n",
    "                 alpha=0.2, vmin=0, vmax=10, rasterized= True)\n",
    "ax.grid(False)\n",
    "ax.set_ylim(0,)\n",
    "# g1 = sns.regplot(x=\"log_avg_dist_from_source_signed\",y=\"whiff_ma\", data=fdf, \n",
    "#             ax=ax, line_kws={'color':'red','linewidth':1}, scatter=False, truncate=False)\n",
    "# g1.set(xlabel=None, ylabel=None)\n",
    "ax.set_rasterization_zorder(-20)\n",
    "\n",
    "ax.set_ylabel('wma, a.u.')\n",
    "ax.yaxis.set_label_coords(-0.08, 0.5)\n",
    "\n",
    "\n",
    "mpl_functions.adjust_spines(ax,['left'],\n",
    "                            spine_locations={'left': 5, 'bottom': 5}, \n",
    "                            smart_bounds=True,\n",
    "#                             xticks=[-1,1.8],\n",
    "                            yticks=[0,10.5],\n",
    "                            linewidth=0.5)\n",
    "\n",
    "# ax.set_xticklabels([r'$10^{-1}$',r'$10^{1.8}$'])\n",
    "\n",
    "\n",
    "figurefirst.mpl_functions.set_fontsize(ax, FS)\n",
    "layout.append_figure_to_layer(layout.figures['figindiv'], 'figindiv', cleartarget=True)\n",
    "layout.write_svg('../../../Figure/fig4.svg')"
   ]
  },
  {
   "cell_type": "markdown",
   "id": "6b7ddb3f",
   "metadata": {},
   "source": [
    "### Colorbar"
   ]
  },
  {
   "cell_type": "code",
   "execution_count": 26,
   "id": "3b5dc104",
   "metadata": {},
   "outputs": [],
   "source": [
    "ax = layout.axes[('figindiv', 'cbar')]\n",
    "ytic=[4.5,11]\n",
    "\n",
    "fpl.colorbar(ax=ax, colormap='bone_r', orientation='vertical',ticks=ytic)\n",
    "ax.set_rasterization_zorder(-20)\n",
    "mpl_functions.adjust_spines(ax, ['right'], \n",
    "                                    smart_bounds=True,\n",
    "                                    spine_locations={'right': 2}, \n",
    "                                    yticks=ytic,\n",
    "                                    tick_length=1.5,\n",
    "                                    linewidth=0.5)\n",
    "\n",
    "ax.set_ylabel(\"wc, a.u.\",rotation=90, labelpad=-22)\n",
    "\n",
    "ax.set_yticklabels(['4.5', '10'])\n",
    "figurefirst.mpl_functions.set_fontsize(ax, FS)\n",
    "\n",
    "layout.append_figure_to_layer(layout.figures['figindiv'], 'figindiv', cleartarget=True)\n",
    "layout.write_svg('../../../Figure/fig4.svg')"
   ]
  },
  {
   "cell_type": "code",
   "execution_count": null,
   "id": "17cf76c3",
   "metadata": {},
   "outputs": [],
   "source": []
  }
 ],
 "metadata": {
  "kernelspec": {
   "display_name": "Python 3 (ipykernel)",
   "language": "python",
   "name": "python3"
  },
  "language_info": {
   "codemirror_mode": {
    "name": "ipython",
    "version": 3
   },
   "file_extension": ".py",
   "mimetype": "text/x-python",
   "name": "python",
   "nbconvert_exporter": "python",
   "pygments_lexer": "ipython3",
   "version": "3.8.10"
  }
 },
 "nbformat": 4,
 "nbformat_minor": 5
}
