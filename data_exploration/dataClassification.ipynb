{
 "cells": [
  {
   "cell_type": "code",
   "execution_count": 1,
   "metadata": {},
   "outputs": [],
   "source": [
    "# user defined functions\n",
    "import odor_statistics_lib as osm\n",
    "\n",
    "# dataframes\n",
    "import pandas as pd\n",
    "import h5py\n",
    "\n",
    "#suppress warnings\n",
    "import warnings\n",
    "warnings.simplefilter(action='ignore', category=FutureWarning)\n",
    "pd.TimeSeries = pd.Series \n",
    "\n",
    "#math\n",
    "import numpy as np\n",
    "import math\n",
    "import statsmodels.api as sm\n",
    "import statsmodels.formula.api as smf\n",
    "from scipy import signal\n",
    "import scipy \n",
    "import scipy.stats as st\n",
    "from scipy.stats import kurtosis\n",
    "import pingouin as pg\n",
    "\n",
    "#plots\n",
    "import string\n",
    "import figurefirst\n",
    "from figurefirst import FigureLayout,mpl_functions\n",
    "import matplotlib.ticker as mtick\n",
    "import pylab as plt\n",
    "import matplotlib.pyplot as plt\n",
    "from matplotlib.ticker import (MultipleLocator, FormatStrFormatter,\n",
    "                               AutoMinorLocator)\n",
    "from mpl_toolkits.axes_grid1 import make_axes_locatable # for colorbar\n",
    "import seaborn as sns\n",
    "from sklearn.inspection import DecisionBoundaryDisplay\n",
    "from matplotlib.colors import ListedColormap\n",
    "sns.set_style(\"whitegrid\")\n",
    "pd.options.mode.chained_assignment = None\n",
    "\n",
    "import networkx as nx\n",
    "import community.community_louvain as community_louvain # pip install community"
   ]
  },
  {
   "cell_type": "code",
   "execution_count": 2,
   "metadata": {},
   "outputs": [],
   "source": [
    "dir = '~/DataAnalysis/data/Sprints/HighRes/'"
   ]
  },
  {
   "cell_type": "markdown",
   "metadata": {},
   "source": [
    "## Classify"
   ]
  },
  {
   "cell_type": "code",
   "execution_count": 3,
   "metadata": {},
   "outputs": [],
   "source": [
    "def create_class_column_forest(dataframe):\n",
    "    dataframe.loc[dataframe.avg_dist_from_source < 5, 'type'] = 0\n",
    "    dataframe.loc[(dataframe.avg_dist_from_source >= 5)  & (dataframe.avg_dist_from_source < 10), 'type'] = 1\n",
    "    dataframe.loc[dataframe.avg_dist_from_source >= 10, 'type'] = 2\n",
    "    return dataframe\n",
    "\n",
    "def create_class_column(dataframe):\n",
    "    dataframe.loc[dataframe.avg_dist_from_source < 5, 'type'] = 0\n",
    "    dataframe.loc[(dataframe.avg_dist_from_source >= 5)  & (dataframe.avg_dist_from_source < 30), 'type'] = 1\n",
    "    dataframe.loc[dataframe.avg_dist_from_source >= 30, 'type'] = 2\n",
    "    return dataframe\n",
    "\n",
    "def create_class_column_fullts(dataframe):\n",
    "    dataframe.loc[dataframe.distance_from_source < 5, 'type'] = 0\n",
    "    dataframe.loc[(dataframe.distance_from_source >= 5)  & (dataframe.distance_from_source < 30), 'type'] = 1\n",
    "    dataframe.loc[dataframe.distance_from_source >= 30, 'type'] = 2\n",
    "    return dataframe\n",
    "\n",
    "def create_class_column_log(dataframe):\n",
    "    dataframe.loc[dataframe.log_avg_dist_from_source_signed < 0.7, 'type'] = 0\n",
    "    dataframe.loc[(dataframe.log_avg_dist_from_source_signed >= 0.7)  & \n",
    "                  (dataframe.log_avg_dist_from_source_signed < 1.5), 'type'] = 1\n",
    "    dataframe.loc[dataframe.log_avg_dist_from_source_signed >= 1.5, 'type'] = 2\n",
    "    return dataframe\n"
   ]
  },
  {
   "cell_type": "code",
   "execution_count": 4,
   "metadata": {},
   "outputs": [],
   "source": [
    "def run_pca(feature_arr):\n",
    "    dataframe = pd.DataFrame(index=range(len(feature_arr)),columns=range(len(feature_arr[0])))\n",
    "    for i in range(len(feature_arr)):\n",
    "        dataframe.iloc[i]=feature_arr[i]\n",
    "        \n",
    "    x=dataframe.loc[:,dataframe.columns.values].values\n",
    "    \n",
    "    x = StandardScaler().fit_transform(x)\n",
    "    \n",
    "    pca = PCA(n_components=2)\n",
    "    principalComponents = pca.fit_transform(x)\n",
    "    return principalComponents\n",
    "\n",
    "def box_cox_transform(dataframe):\n",
    "    fitted_ef, fitted_lambda1 = stats.boxcox(dataframe.mean_ef)\n",
    "    dataframe.mean_ma=dataframe.mean_ma+0.1\n",
    "    fitted_ma, fitted_lambda2 = stats.boxcox(dataframe.mean_ma)\n",
    "    fitted_wd, fitted_lambda3 = stats.boxcox(dataframe.length_of_encounter)\n",
    "    fitted_mc, fitted_lambda3 = stats.boxcox(dataframe.mean_concentration)\n",
    "    dataframe.std_whiff=dataframe.std_whiff+0.1\n",
    "    fitted_sw, fitted_lambda3 = stats.boxcox(dataframe.std_whiff)\n",
    "    dataframe['mean_ef']=fitted_ef\n",
    "    dataframe['mean_ma']=fitted_ma\n",
    "    dataframe['log_whiff']=fitted_wd\n",
    "    dataframe['std_whiff']=fitted_mc\n",
    "    dataframe['mean_concentration']=fitted_sw\n",
    "    \n",
    "def remove_motion_effect(dataframe):\n",
    "    whiff_frequency=smf.ols(formula='mean_ef ~ (avg_perpendicular_encounter) + (avg_parallel_encounter)', data=dataframe).fit()\n",
    "    whiff_duration=smf.ols(formula='log_whiff~ (avg_perpendicular_encounter) + (avg_parallel_encounter)', data=dataframe).fit()\n",
    "    moving_avg = smf.ols(formula='whiff_ma ~ (avg_perpendicular_encounter) + (avg_parallel_encounter)', data=dataframe).fit()\n",
    "    mc = smf.ols(formula='mean_concentration ~ (avg_perpendicular_encounter) + (avg_parallel_encounter)', data=dataframe).fit()\n",
    "    sw = smf.ols(formula='std_whiff ~ (avg_perpendicular_encounter) + (avg_parallel_encounter)', data=dataframe).fit()\n",
    "\n",
    "\n",
    "    dataframe['log_whiff']=whiff_duration.resid\n",
    "    dataframe['mean_ef'] = whiff_frequency.resid\n",
    "    dataframe['whiff_ma'] = moving_avg.resid\n",
    "    dataframe['mean_concentration'] = mc.resid\n",
    "    dataframe['std_whiff'] = sw.resid"
   ]
  },
  {
   "cell_type": "code",
   "execution_count": 5,
   "metadata": {},
   "outputs": [],
   "source": [
    "def get_timed_rows(dataframe,duration_of_encounters):\n",
    "    x = dataframe.sample(1)\n",
    "    A = x.mean_time.values.round(0) - duration_of_encounters\n",
    "    B = x.mean_time.values.round(0)\n",
    "    timed_rows = dataframe.loc[(dataframe.mean_time > A[0]) & (dataframe.mean_time < B[0])]\n",
    "    return timed_rows\n",
    "    \n",
    "def get_timed_encounter_stats(dataframe, distance_class, duration_of_encounters):\n",
    "    df_q = dataframe.query('type == ' + str(distance_class))   \n",
    "    df_q.reset_index(inplace=True, drop=True)     \n",
    "            \n",
    "    Nrows = get_timed_rows(df_q,duration_of_encounters)\n",
    "    avg_dist = np.mean(Nrows.avg_dist_from_source)\n",
    "    mean_time_whiff=np.mean(Nrows.mean_time)\n",
    "#     mean_conc=np.mean(Nrows_cont.odor)\n",
    "    pack_data=np.vstack([Nrows.mean_concentration,Nrows.mean_ef,Nrows.log_whiff,Nrows.whiff_ma,Nrows.std_whiff])\n",
    "    return pack_data,avg_dist,len(Nrows),mean_time_whiff\n",
    "\n",
    "\n",
    "def gather_stat_timed(dataframe, distance_class, duration_of_encounters,X,y,D,N,T):\n",
    "    for i in range(500):\n",
    "        xx,dx,n,t=get_timed_encounter_stats(dataframe,\n",
    "                                               distance_class, duration_of_encounters)\n",
    "        X.append(xx)\n",
    "        D.append(dx)\n",
    "        y.append(distance_class)\n",
    "        N.append(n)\n",
    "        T.append(t)\n",
    "        \n",
    "    return X,y,D,N,T"
   ]
  },
  {
   "cell_type": "code",
   "execution_count": 49,
   "metadata": {},
   "outputs": [],
   "source": [
    "# df_windy=create_class_column_fullts(pd.read_hdf(dir+'Windy/WindyMASigned.h5'))\n",
    "# df_notwindy=create_class_column_fullts(pd.read_hdf(dir+'NotWindy/NotWindyMASigned.h5'))\n",
    "# df_forest=create_class_column_fullts(pd.read_hdf(dir+'Forest/ForestMASigned.h5'))\n",
    "\n",
    "# fdf_windy = create_class_column_log(pd.read_hdf(dir+'Windy/WindyMASigned_6.h5'))\n",
    "# fdf_notwindy = create_class_column_log(pd.read_hdf(dir+'NotWindy/NotWindyMASigned_6.h5'))\n",
    "# fdf_forest = create_class_column_log(pd.read_hdf(dir+'Forest/ForestMASigned_6.h5'))\n",
    "\n",
    "fdf_windy=pd.read_hdf(dir+'Windy/WindyStatsTime_std.h5')\n",
    "fdf_notwindy=pd.read_hdf(dir+'NotWindy/NotWindyStatsTime_std.h5')\n",
    "fdf_forest=pd.read_hdf(dir+'Forest/ForestStatsTime_std.h5')"
   ]
  },
  {
   "cell_type": "markdown",
   "metadata": {},
   "source": [
    "### Collect Train & Test features\n",
    "\n"
   ]
  },
  {
   "cell_type": "code",
   "execution_count": 169,
   "metadata": {},
   "outputs": [],
   "source": [
    "lookback_time = 10\n",
    "\n",
    "desert = pd.concat([fdf_notwindy,fdf_windy,fdf_forest])\n",
    "desert.reset_index(inplace=True, drop=True)\n",
    "trainset= fdf_forest\n",
    "testset=fdf_forest\n",
    "\n",
    "D_train=[]\n",
    "D_test=[]\n",
    "mean_time_train=[]\n",
    "mean_time_test=[]\n",
    "Xtest = []\n",
    "ytest = []\n",
    "Xtrain = []\n",
    "ytrain = []\n",
    "Nrows_train = []\n",
    "Nrows_test = []\n",
    "\n",
    "for distance_class in [0,1]:\n",
    "    Xtrain, ytrain, D_train,Nrows_train,mean_time_train = gather_stat_timed(trainset,distance_class,\n",
    "                      lookback_time, Xtrain,ytrain,D_train,Nrows_train,\n",
    "                      mean_time_train)\n",
    "    \n",
    "# for distance_class in [0,1]:\n",
    "#     Xtest, ytest, D_test,Nrows_test,mean_time_test = gather_stat_timed(testset,distance_class,\n",
    "#                       lookback_time, Xtest,ytest,D_test,Nrows_test,\n",
    "#                       mean_time_test)\n",
    "    "
   ]
  },
  {
   "cell_type": "code",
   "execution_count": 170,
   "metadata": {},
   "outputs": [],
   "source": [
    "def calc_val(X):\n",
    "    return np.ravel([np.min(X),np.max(X),np.mean(X),np.std(X),kurtosis(X)])\n",
    "#     return np.ravel([np.min(X),np.max(X),np.mean(X),np.std(X),np.median(X),stats.mode(X[0])[0][0]])\n",
    "column_names=['mc_min','mc_max','mc_mean','mc_std_dev','mc_k',\n",
    "             'wf_min','wf_max','wf_mean','wf_std_dev','wf_k',\n",
    "             'wd_min','wd_max','wd_mean','wd_std_dev','wd_k',\n",
    "             'ma_min','ma_max','ma_mean','ma_std_dev','ma_k',\n",
    "             'st_min','st_max','st_mean','st_std_dev','st_k']\n",
    "\n",
    "## Done separately because Forest dataset has two classes\n",
    "## Training set\n",
    "traindf=pd.DataFrame(columns = column_names)\n",
    "c1=[]\n",
    "for i in range(len(Xtrain)):\n",
    "    if(np.size(Xtrain[i])==0):\n",
    "        c1.append(i)\n",
    "        continue\n",
    "    else:\n",
    "        X=[]\n",
    "        for j in range(len(Xtrain[i])):\n",
    "            X.append(calc_val(Xtrain[i][j]))\n",
    "        traindf.loc[i]=np.ravel(X)\n",
    "        \n",
    "traindf['distance']=np.delete(D_train, c1)\n",
    "traindf['mean_whiff_time'] = np.delete(mean_time_train, c1)\n",
    "traindf['nwhiffs'] = np.delete(Nrows_train, c1)"
   ]
  },
  {
   "cell_type": "code",
   "execution_count": 171,
   "metadata": {},
   "outputs": [],
   "source": [
    "# parameters=['mc_mean','ma_std_dev', 'ma_max' ,'wd_std_dev']"
   ]
  },
  {
   "cell_type": "code",
   "execution_count": 172,
   "metadata": {},
   "outputs": [],
   "source": [
    "# # r2=pd.DataFrame()\n",
    "# rsq=[]\n",
    "# # Fit models and store R-squared values\n",
    "# for parameter in parameters:\n",
    "#     formula = f\"distance ~ {parameter}\"\n",
    "#     model = smf.ols(formula=formula, data=traindf).fit()\n",
    "#     rsq.append( model.rsquared)"
   ]
  },
  {
   "cell_type": "code",
   "execution_count": 173,
   "metadata": {},
   "outputs": [],
   "source": [
    "# r2['forest']=rsq"
   ]
  },
  {
   "cell_type": "code",
   "execution_count": 174,
   "metadata": {},
   "outputs": [
    {
     "name": "stdout",
     "output_type": "stream",
     "text": [
      "                            OLS Regression Results                            \n",
      "==============================================================================\n",
      "Dep. Variable:               distance   R-squared:                       0.199\n",
      "Model:                            OLS   Adj. R-squared:                  0.195\n",
      "Method:                 Least Squares   F-statistic:                     57.68\n",
      "Date:                Fri, 18 Aug 2023   Prob (F-statistic):           1.65e-43\n",
      "Time:                        09:48:38   Log-Likelihood:                -2190.3\n",
      "No. Observations:                 935   AIC:                             4391.\n",
      "Df Residuals:                     930   BIC:                             4415.\n",
      "Df Model:                           4                                         \n",
      "Covariance Type:            nonrobust                                         \n",
      "==============================================================================\n",
      "                 coef    std err          t      P>|t|      [0.025      0.975]\n",
      "------------------------------------------------------------------------------\n",
      "Intercept     14.2144      0.617     23.036      0.000      13.003      15.425\n",
      "mc_mean       -1.1723      0.080    -14.605      0.000      -1.330      -1.015\n",
      "ma_std_dev    -0.1268      0.128     -0.991      0.322      -0.378       0.124\n",
      "ma_max         0.1141      0.042      2.715      0.007       0.032       0.197\n",
      "wd_std_dev    -1.0803      0.549     -1.968      0.049      -2.157      -0.003\n",
      "==============================================================================\n",
      "Omnibus:                      119.614   Durbin-Watson:                   1.067\n",
      "Prob(Omnibus):                  0.000   Jarque-Bera (JB):              195.044\n",
      "Skew:                           0.846   Prob(JB):                     4.43e-43\n",
      "Kurtosis:                       4.464   Cond. No.                         78.5\n",
      "==============================================================================\n",
      "\n",
      "Notes:\n",
      "[1] Standard Errors assume that the covariance matrix of the errors is correctly specified.\n"
     ]
    }
   ],
   "source": [
    "# distance=smf.ols(formula=\"\"\" distance ~ mc_min+mc_max+mc_mean+mc_std_dev+mc_k+\n",
    "# wf_min+wf_max+wf_mean+wf_std_dev+wf_k+ wd_min+wd_max+wd_mean+wd_std_dev+wd_k+\n",
    "# ma_min+ma_max+ma_mean+ma_std_dev+ma_k+ st_min+st_max+st_mean+st_std_dev+st_k+nwhiffs\"\"\", data=traindf).fit()\n",
    "\n",
    "# print(format(distance.f_pvalue, '.80f'))\n",
    "\n",
    "distance=smf.ols(formula=\"\"\" distance ~ mc_mean + ma_std_dev + ma_max + wd_std_dev \"\"\", data=traindf).fit()\n",
    "# distance=smf.ols(formula=\"\"\" distance ~ wd_std_dev \"\"\", data=traindf).fit()\n",
    "print(distance.summary())"
   ]
  },
  {
   "cell_type": "code",
   "execution_count": null,
   "metadata": {},
   "outputs": [],
   "source": []
  },
  {
   "cell_type": "code",
   "execution_count": 175,
   "metadata": {},
   "outputs": [],
   "source": [
    "# val=pd.DataFrame(columns=['model_intercept','mc_mean','ma_std','ma_max', 'wd_std'])\n",
    "val=pd.DataFrame()"
   ]
  },
  {
   "cell_type": "code",
   "execution_count": 176,
   "metadata": {},
   "outputs": [],
   "source": [
    "val['r2']=['mc_mean','ma_std','ma_max', 'wd_std']"
   ]
  },
  {
   "cell_type": "code",
   "execution_count": 178,
   "metadata": {},
   "outputs": [],
   "source": [
    "val['r2_hws']=[ 0.70,0.041,0.081,0.045]\n",
    "val['r2_lws']=[ 0.43,0.015,0.021,0]\n",
    "val['r2_forest']=[ 0.22,0.01,0.01,0.008]"
   ]
  },
  {
   "cell_type": "code",
   "execution_count": 184,
   "metadata": {},
   "outputs": [
    {
     "data": {
      "text/html": [
       "<div>\n",
       "<style scoped>\n",
       "    .dataframe tbody tr th:only-of-type {\n",
       "        vertical-align: middle;\n",
       "    }\n",
       "\n",
       "    .dataframe tbody tr th {\n",
       "        vertical-align: top;\n",
       "    }\n",
       "\n",
       "    .dataframe thead th {\n",
       "        text-align: right;\n",
       "    }\n",
       "</style>\n",
       "<table border=\"1\" class=\"dataframe\">\n",
       "  <thead>\n",
       "    <tr style=\"text-align: right;\">\n",
       "      <th></th>\n",
       "      <th>r2</th>\n",
       "      <th>r2_hws</th>\n",
       "      <th>r2_lws</th>\n",
       "      <th>r2_forest</th>\n",
       "    </tr>\n",
       "  </thead>\n",
       "  <tbody>\n",
       "    <tr>\n",
       "      <th>0</th>\n",
       "      <td>mc_mean</td>\n",
       "      <td>0.700</td>\n",
       "      <td>0.430</td>\n",
       "      <td>0.220</td>\n",
       "    </tr>\n",
       "    <tr>\n",
       "      <th>1</th>\n",
       "      <td>ma_std</td>\n",
       "      <td>0.041</td>\n",
       "      <td>0.015</td>\n",
       "      <td>0.010</td>\n",
       "    </tr>\n",
       "    <tr>\n",
       "      <th>2</th>\n",
       "      <td>ma_max</td>\n",
       "      <td>0.081</td>\n",
       "      <td>0.021</td>\n",
       "      <td>0.010</td>\n",
       "    </tr>\n",
       "    <tr>\n",
       "      <th>3</th>\n",
       "      <td>wd_std</td>\n",
       "      <td>0.045</td>\n",
       "      <td>0.000</td>\n",
       "      <td>0.008</td>\n",
       "    </tr>\n",
       "    <tr>\n",
       "      <th>4</th>\n",
       "      <td>overall</td>\n",
       "      <td>0.710</td>\n",
       "      <td>0.440</td>\n",
       "      <td>0.230</td>\n",
       "    </tr>\n",
       "  </tbody>\n",
       "</table>\n",
       "</div>"
      ],
      "text/plain": [
       "        r2  r2_hws  r2_lws  r2_forest\n",
       "0  mc_mean   0.700   0.430      0.220\n",
       "1   ma_std   0.041   0.015      0.010\n",
       "2   ma_max   0.081   0.021      0.010\n",
       "3   wd_std   0.045   0.000      0.008\n",
       "4  overall   0.710   0.440      0.230"
      ]
     },
     "execution_count": 184,
     "metadata": {},
     "output_type": "execute_result"
    }
   ],
   "source": []
  },
  {
   "cell_type": "code",
   "execution_count": 65,
   "metadata": {},
   "outputs": [],
   "source": [
    "# val.loc[2] = distance.params.values"
   ]
  },
  {
   "cell_type": "markdown",
   "metadata": {},
   "source": [
    "##### All Regression Model\n",
    "distance = -8.85 * $\\mu(WC)$ + 0.20 * max(WMA) - 2.43 * $\\sigma(WMA)$ - 3.07 * $\\sigma(WD)$ + 84.40\n",
    "##### HWS\n",
    "distance = -10.74 * $\\mu(WC)$ - 0.63 * max(WMA) + 1.16 * $\\sigma(WMA)$ - 7.45 * $\\sigma(WD)$ + 102.47\n",
    "##### LWS\n",
    "distance = -7.59 * $\\mu(WC)$ + 0.52 * max(WMA) - 0.82 * $\\sigma(WMA)$ - 7.92 * $\\sigma(WD)$ + 73.24\n",
    "##### Forest\n",
    "distance = -1.3 * $\\mu(WC)$ + 0.09 * max(WMA) - 0.06 * $\\sigma(WMA)$ - -0.53 * $\\sigma(WD)$ + 15.05"
   ]
  },
  {
   "cell_type": "markdown",
   "metadata": {},
   "source": [
    "### Wind Characterization vs AIC Filter Whiff parameters"
   ]
  },
  {
   "cell_type": "code",
   "execution_count": 132,
   "metadata": {},
   "outputs": [],
   "source": [
    "std_wind_dir = np.array([8.17,27.03,44.94])\n",
    "turb_intensity_val=np.array([0.14,0.36,0.54]) #hws , lws, forest\n",
    "env = np.array(['hws', 'lws', 'forest'])"
   ]
  },
  {
   "cell_type": "markdown",
   "metadata": {},
   "source": [
    "#### Model Intercepts"
   ]
  },
  {
   "cell_type": "code",
   "execution_count": 200,
   "metadata": {},
   "outputs": [],
   "source": [
    "val=pd.read_hdf(dir+'aic_filtered_model_params.h5')"
   ]
  },
  {
   "cell_type": "code",
   "execution_count": 201,
   "metadata": {},
   "outputs": [
    {
     "data": {
      "image/png": "[encoded data removed]",
      "text/plain": [
       "<Figure size 360x360 with 1 Axes>"
      ]
     },
     "metadata": {},
     "output_type": "display_data"
    }
   ],
   "source": [
    "f,ax = plt.subplots(1,1,figsize=(5,5))\n",
    "\n",
    "ax.grid(False)\n",
    "xaxis=np.array([0,0.5,1])\n",
    "ax.plot(xaxis,val.transpose().iloc[0].values,c='b',label='intercept')\n",
    "ax.plot(xaxis,val.transpose().iloc[1].values,c='g',label='$\\mu(WC)$')\n",
    "ax.plot(xaxis,val.transpose().iloc[2].values,c='r',label='$\\sigma(WMA)$')\n",
    "ax.plot(xaxis,val.transpose().iloc[3].values,c='black',label='$max(WMA)$')\n",
    "ax.plot(xaxis,val.transpose().iloc[4].values,c='purple',label='$\\sigma(WD)$')\n",
    "\n",
    "\n",
    "mpl_functions.adjust_spines(ax,['left','bottom'],\n",
    "                            spine_locations={'left': 5}, \n",
    "                            smart_bounds=True,   \n",
    "                            xticks=[0,0.5,1],\n",
    "                            # yticks=[0,0.2,0.5,0.7],\n",
    "                            linewidth=0.5)\n",
    "\n",
    "ax.set_xticklabels(['HWS=8.17','LWS=27.04','Forest=44.95'],rotation=0)\n",
    "\n",
    "ax.legend(loc='upper right')\n",
    "ax.set_ylabel('Model Intercepts')\n",
    "ax.set_xlabel('$\\mu(\\sigma(Wind Direction))$')\n",
    "f.suptitle(\"Model Parameters\")\n",
    "\n",
    "f.tight_layout(pad=1)\n",
    "figurefirst.mpl_functions.set_fontsize(f, 12)\n",
    "# f.savefig('../../Figure/TiWindSpeedR2WD.jpeg', dpi=300, bbox_inches = \"tight\")"
   ]
  },
  {
   "cell_type": "markdown",
   "metadata": {},
   "source": [
    "#### Individual R2"
   ]
  },
  {
   "cell_type": "code",
   "execution_count": null,
   "metadata": {},
   "outputs": [],
   "source": [
    "val=pd.read_hdf(dir+'aic_filtered_model_r2.h5')"
   ]
  },
  {
   "cell_type": "code",
   "execution_count": 199,
   "metadata": {},
   "outputs": [
    {
     "data": {
      "image/png": "[encoded data removed]",
      "text/plain": [
       "<Figure size 360x360 with 1 Axes>"
      ]
     },
     "metadata": {},
     "output_type": "display_data"
    }
   ],
   "source": [
    "f,ax = plt.subplots(1,1,figsize=(5,5))\n",
    "\n",
    "ax.grid(False)\n",
    "xaxis=np.array([0,0.5,1])\n",
    "ax.plot(xaxis,val.iloc[0][1:],c='b',label='$\\mu(WC)$')\n",
    "ax.plot(xaxis,val.iloc[1][1:],c='g',label='$\\sigma(WMA)$')\n",
    "ax.plot(xaxis,val.iloc[2][1:],c='r',label='$max(WMA)$')\n",
    "ax.plot(xaxis,val.iloc[3][1:],c='black',label='$\\sigma(WD)$')\n",
    "ax.plot(xaxis,val.iloc[4][1:],c='purple',label='$overall$')\n",
    "\n",
    "# ax.plot(xaxis,val.iloc[0][1:],'o',c='b')\n",
    "# ax.plot(xaxis,val.iloc[1][1:],'o',c='g')\n",
    "# ax.plot(xaxis,val.iloc[2][1:],'o',c='r')\n",
    "\n",
    "\n",
    "mpl_functions.adjust_spines(ax,['left','bottom'],\n",
    "                            spine_locations={'left': 5}, \n",
    "                            smart_bounds=True,   \n",
    "                            xticks=[0,0.5,1],\n",
    "                            # yticks=[0,0.2,0.5,0.7],\n",
    "                            linewidth=0.5)\n",
    "\n",
    "ax.set_xticklabels(['HWS=8.17','LWS=27.04','Forest=44.95'],rotation=0)\n",
    "\n",
    "ax.legend(loc='upper right')\n",
    "ax.set_ylabel('Model Intercepts')\n",
    "ax.set_xlabel('$\\mu(\\sigma(Wind Direction))$')\n",
    "f.suptitle(\"$R^2$ Values\")\n",
    "\n",
    "f.tight_layout(pad=1)\n",
    "figurefirst.mpl_functions.set_fontsize(f, 12)\n",
    "# f.savefig('../../Figure/TiWindSpeedR2WD.jpeg', dpi=300, bbox_inches = \"tight\")"
   ]
  },
  {
   "cell_type": "code",
   "execution_count": 39,
   "metadata": {},
   "outputs": [
    {
     "name": "stdout",
     "output_type": "stream",
     "text": [
      "0.23006284525415732\n"
     ]
    }
   ],
   "source": [
    "# aic_filtered_names=['mc_mean','ma_std_dev','ma_max','wd_std_dev']\n",
    "# y=traindf.distance\n",
    "# x=traindf.loc[traindf.distance.notnull(), aic_filtered_names].values\n",
    "# x = sm.add_constant(x)\n",
    "# x[np.isnan(x)] =0\n",
    "# olsmod = sm.OLS(y, x)\n",
    "# olsres = olsmod.fit()\n",
    "# ypred = olsres.predict(x)\n",
    "# print(olsres.rsquared)"
   ]
  },
  {
   "cell_type": "markdown",
   "metadata": {},
   "source": [
    "### Semi Partial Correlation Coefficient"
   ]
  },
  {
   "cell_type": "code",
   "execution_count": 49,
   "metadata": {},
   "outputs": [],
   "source": [
    "traindf['predicted_distance']=ypred"
   ]
  },
  {
   "cell_type": "code",
   "execution_count": 61,
   "metadata": {},
   "outputs": [],
   "source": [
    "traindf.to_hdf('~/DataAnalysis/data/Sprints/HighRes/KF/AllpredictionFiltered.h5', key='traindf', mode='w')"
   ]
  },
  {
   "cell_type": "code",
   "execution_count": 35,
   "metadata": {},
   "outputs": [
    {
     "name": "stdout",
     "output_type": "stream",
     "text": [
      "Percentage contribution of mc_mean: 84.88%\n",
      "Percentage contribution of ma_std_dev: 1.93%\n",
      "Percentage contribution of ma_max: 0.06%\n",
      "Percentage contribution of wd_std_dev: 0.12%\n",
      "Percentage contribution of wf_std_dev: 3.87%\n"
     ]
    }
   ],
   "source": [
    "# Define the response variable and predictor variables\n",
    "col = ['mc_mean','ma_std_dev','ma_max','wd_std_dev','distance']\n",
    "\n",
    "df = traindf[col]\n",
    "df.fillna(0, inplace=True)\n",
    "\n",
    "# Calculate the semi-partial correlation for each predictor and square it\n",
    "part_corr_squared = [pg.partial_corr(data=df, x=col, y='distance', \n",
    "                                     covar=df.columns.drop([col, 'distance']).tolist()).r**2 for col in df.columns[:-1]]\n",
    "\n",
    "# Fit the multiple regression model to calculate the R-squared value\n",
    "model = sm.OLS(df['distance'], sm.add_constant(df[df.columns[:-1]])).fit()\n",
    "r_squared = model.rsquared\n",
    "\n",
    "# Calculate the percentage contribution of each predictor\n",
    "percentage_contributions = (part_corr_squared / r_squared) * 100\n",
    "\n",
    "# Print the percentage contributions\n",
    "for i, predictor in enumerate(df.columns[:-1]):\n",
    "    print(f\"Percentage contribution of {predictor}: {percentage_contributions[i][0]:.2f}%\")\n"
   ]
  },
  {
   "cell_type": "code",
   "execution_count": 49,
   "metadata": {},
   "outputs": [],
   "source": [
    "testdf=pd.DataFrame(columns = column_names)\n",
    "c1=[]\n",
    "for i in range(len(Xtest)):\n",
    "    if(np.size(Xtest[i])==0):\n",
    "        c1.append(i)\n",
    "        continue\n",
    "    else:\n",
    "        X=[]\n",
    "        for j in range(len(Xtest[i])):\n",
    "            X.append(calc_val(Xtest[i][j]))\n",
    "        testdf.loc[i]=np.ravel(X)\n",
    "testdf['distance']=np.delete(D_test, c1)\n",
    "testdf['mean_whiff_time'] = np.delete(mean_time_test, c1)\n",
    "testdf['nwhiffs'] = np.delete(Nrows_test, c1)"
   ]
  },
  {
   "cell_type": "code",
   "execution_count": 50,
   "metadata": {},
   "outputs": [],
   "source": [
    "# Predicting on the test data\n",
    "x_test = testdf.loc[testdf.distance.notnull(), column_names].values\n",
    "x_test = sm.add_constant(x_test)\n",
    "x_test[np.isnan(x_test)] = 0\n",
    "\n",
    "# use the trained model to predict on the test set\n",
    "ypred_test = olsres.predict(x_test)\n"
   ]
  },
  {
   "cell_type": "markdown",
   "metadata": {},
   "source": [
    "### Semi Partial Correlation Coeff - calculated\n"
   ]
  },
  {
   "cell_type": "code",
   "execution_count": 10,
   "metadata": {},
   "outputs": [],
   "source": [
    "# Define the response variable\n",
    "Y = traindf.distance\n",
    "\n",
    "# Define the predictor variables and replace missing values with zeros\n",
    "column_names=['mc_min','mc_max','mc_mean','mc_std_dev','mc_k',\n",
    "             'wf_min','wf_max','wf_mean','wf_std_dev','wf_k',\n",
    "             'wd_min','wd_max','wd_mean','wd_std_dev','wd_k',\n",
    "             'ma_min','ma_max','ma_mean','ma_std_dev','ma_k',\n",
    "             'st_min','st_max','st_mean','st_std_dev','st_k']\n",
    "X = traindf[column_names]\n",
    "X.fillna(0, inplace=True)\n",
    "\n",
    "# Add a constant to the predictor variables\n",
    "X = sm.add_constant(X)\n",
    "\n",
    "# Fit the multiple regression model\n",
    "model = sm.OLS(Y, X).fit()\n",
    "\n",
    "# Calculate the total R-squared value\n",
    "r_squared = model.rsquared\n",
    "\n",
    "# Calculate the squared semi-partial correlation for each predictor\n",
    "part_corr_squared = np.zeros(X.shape[1] - 1)  # Minus 1 because of the constant\n",
    "for i in range(1, X.shape[1]):  # Start at 1 because of the constant\n",
    "    X_reduced = X.drop(X.columns[i], axis=1)\n",
    "    model_reduced = sm.OLS(Y, sm.add_constant(X_reduced)).fit()\n",
    "    part_corr_squared[i-1] = (model_reduced.ssr - model.ssr) / model.centered_tss\n",
    "\n",
    "# Calculate the percentage contribution of each predictor\n",
    "percentage_contributions = (part_corr_squared / r_squared) * 100\n",
    "\n",
    "# # Print the percentage contributions\n",
    "# for i, predictor in enumerate(column_names):\n",
    "#     print(f\"Percentage contribution of {predictor}: {percentage_contributions[i]:.2f}%\")\n"
   ]
  },
  {
   "cell_type": "markdown",
   "metadata": {},
   "source": [
    "### Semi Partial Correlation Coeff - Using Pingouin"
   ]
  },
  {
   "cell_type": "code",
   "execution_count": 21,
   "metadata": {},
   "outputs": [
    {
     "data": {
      "text/html": [
       "<div>\n",
       "<style scoped>\n",
       "    .dataframe tbody tr th:only-of-type {\n",
       "        vertical-align: middle;\n",
       "    }\n",
       "\n",
       "    .dataframe tbody tr th {\n",
       "        vertical-align: top;\n",
       "    }\n",
       "\n",
       "    .dataframe thead th {\n",
       "        text-align: right;\n",
       "    }\n",
       "</style>\n",
       "<table border=\"1\" class=\"dataframe\">\n",
       "  <thead>\n",
       "    <tr style=\"text-align: right;\">\n",
       "      <th></th>\n",
       "      <th>Predictor</th>\n",
       "      <th>Percentage Contribution</th>\n",
       "    </tr>\n",
       "  </thead>\n",
       "  <tbody>\n",
       "    <tr>\n",
       "      <th>0</th>\n",
       "      <td>mc_min</td>\n",
       "      <td>1.980044</td>\n",
       "    </tr>\n",
       "    <tr>\n",
       "      <th>1</th>\n",
       "      <td>mc_max</td>\n",
       "      <td>2.034970</td>\n",
       "    </tr>\n",
       "    <tr>\n",
       "      <th>2</th>\n",
       "      <td>mc_mean</td>\n",
       "      <td>20.921257</td>\n",
       "    </tr>\n",
       "    <tr>\n",
       "      <th>3</th>\n",
       "      <td>mc_std_dev</td>\n",
       "      <td>2.215876</td>\n",
       "    </tr>\n",
       "    <tr>\n",
       "      <th>4</th>\n",
       "      <td>mc_k</td>\n",
       "      <td>0.000002</td>\n",
       "    </tr>\n",
       "    <tr>\n",
       "      <th>5</th>\n",
       "      <td>wf_min</td>\n",
       "      <td>0.018614</td>\n",
       "    </tr>\n",
       "    <tr>\n",
       "      <th>6</th>\n",
       "      <td>wf_max</td>\n",
       "      <td>0.689038</td>\n",
       "    </tr>\n",
       "    <tr>\n",
       "      <th>7</th>\n",
       "      <td>wf_mean</td>\n",
       "      <td>0.001882</td>\n",
       "    </tr>\n",
       "    <tr>\n",
       "      <th>8</th>\n",
       "      <td>wf_std_dev</td>\n",
       "      <td>2.035587</td>\n",
       "    </tr>\n",
       "    <tr>\n",
       "      <th>9</th>\n",
       "      <td>wf_k</td>\n",
       "      <td>0.060093</td>\n",
       "    </tr>\n",
       "    <tr>\n",
       "      <th>10</th>\n",
       "      <td>wd_min</td>\n",
       "      <td>0.566142</td>\n",
       "    </tr>\n",
       "    <tr>\n",
       "      <th>11</th>\n",
       "      <td>wd_max</td>\n",
       "      <td>0.187296</td>\n",
       "    </tr>\n",
       "    <tr>\n",
       "      <th>12</th>\n",
       "      <td>wd_mean</td>\n",
       "      <td>0.267771</td>\n",
       "    </tr>\n",
       "    <tr>\n",
       "      <th>13</th>\n",
       "      <td>wd_std_dev</td>\n",
       "      <td>0.140746</td>\n",
       "    </tr>\n",
       "    <tr>\n",
       "      <th>14</th>\n",
       "      <td>wd_k</td>\n",
       "      <td>0.464533</td>\n",
       "    </tr>\n",
       "    <tr>\n",
       "      <th>15</th>\n",
       "      <td>ma_min</td>\n",
       "      <td>0.630324</td>\n",
       "    </tr>\n",
       "    <tr>\n",
       "      <th>16</th>\n",
       "      <td>ma_max</td>\n",
       "      <td>0.466628</td>\n",
       "    </tr>\n",
       "    <tr>\n",
       "      <th>17</th>\n",
       "      <td>ma_mean</td>\n",
       "      <td>0.027493</td>\n",
       "    </tr>\n",
       "    <tr>\n",
       "      <th>18</th>\n",
       "      <td>ma_std_dev</td>\n",
       "      <td>0.090704</td>\n",
       "    </tr>\n",
       "    <tr>\n",
       "      <th>19</th>\n",
       "      <td>ma_k</td>\n",
       "      <td>0.020942</td>\n",
       "    </tr>\n",
       "    <tr>\n",
       "      <th>20</th>\n",
       "      <td>st_min</td>\n",
       "      <td>0.003214</td>\n",
       "    </tr>\n",
       "    <tr>\n",
       "      <th>21</th>\n",
       "      <td>st_max</td>\n",
       "      <td>1.740253</td>\n",
       "    </tr>\n",
       "    <tr>\n",
       "      <th>22</th>\n",
       "      <td>st_mean</td>\n",
       "      <td>1.225984</td>\n",
       "    </tr>\n",
       "    <tr>\n",
       "      <th>23</th>\n",
       "      <td>st_std_dev</td>\n",
       "      <td>0.521134</td>\n",
       "    </tr>\n",
       "    <tr>\n",
       "      <th>24</th>\n",
       "      <td>st_k</td>\n",
       "      <td>1.912564</td>\n",
       "    </tr>\n",
       "  </tbody>\n",
       "</table>\n",
       "</div>"
      ],
      "text/plain": [
       "     Predictor  Percentage Contribution\n",
       "0       mc_min                 1.980044\n",
       "1       mc_max                 2.034970\n",
       "2      mc_mean                20.921257\n",
       "3   mc_std_dev                 2.215876\n",
       "4         mc_k                 0.000002\n",
       "5       wf_min                 0.018614\n",
       "6       wf_max                 0.689038\n",
       "7      wf_mean                 0.001882\n",
       "8   wf_std_dev                 2.035587\n",
       "9         wf_k                 0.060093\n",
       "10      wd_min                 0.566142\n",
       "11      wd_max                 0.187296\n",
       "12     wd_mean                 0.267771\n",
       "13  wd_std_dev                 0.140746\n",
       "14        wd_k                 0.464533\n",
       "15      ma_min                 0.630324\n",
       "16      ma_max                 0.466628\n",
       "17     ma_mean                 0.027493\n",
       "18  ma_std_dev                 0.090704\n",
       "19        ma_k                 0.020942\n",
       "20      st_min                 0.003214\n",
       "21      st_max                 1.740253\n",
       "22     st_mean                 1.225984\n",
       "23  st_std_dev                 0.521134\n",
       "24        st_k                 1.912564"
      ]
     },
     "execution_count": 21,
     "metadata": {},
     "output_type": "execute_result"
    }
   ],
   "source": [
    "# Define the response variable and predictor variables\n",
    "column_names=['mc_min','mc_max','mc_mean','mc_std_dev','mc_k',\n",
    "             'wf_min','wf_max','wf_mean','wf_std_dev','wf_k',\n",
    "             'wd_min','wd_max','wd_mean','wd_std_dev','wd_k',\n",
    "             'ma_min','ma_max','ma_mean','ma_std_dev','ma_k',\n",
    "             'st_min','st_max','st_mean','st_std_dev','st_k', 'distance']\n",
    "\n",
    "\n",
    "df = traindf[column_names]\n",
    "df.fillna(0, inplace=True)\n",
    "\n",
    "# Calculate the semi-partial correlation for each predictor and square it\n",
    "# part_corr_squared = [pg.partial_corr(data=df, x=col, y='distance', covar=df.columns.drop([col, 'distance']).tolist()).r**2 for col in df.columns[:-1]]\n",
    "# Calculate the semi-partial correlation for each predictor and square it\n",
    "part_corr_squared = [pg.partial_corr(data=df, x=col, y='distance', covar=df.columns.drop([col, 'distance']).tolist()).r.values[0]**2 for col in df.columns[:-1]]\n",
    "\n",
    "# Fit the multiple regression model to calculate the R-squared value\n",
    "model = sm.OLS(df['distance'], sm.add_constant(df[df.columns[:-1]])).fit()\n",
    "r_squared = model.rsquared\n",
    "\n",
    "# Calculate the percentage contribution of each predictor\n",
    "percentage_contributions = np.array(part_corr_squared) / r_squared * 100\n",
    "\n",
    "\n",
    "# Create a DataFrame to store the predictor names and their corresponding percentage contributions\n",
    "contrib_df = pd.DataFrame({\n",
    "    'Predictor': df.columns[:-1],\n",
    "    'Percentage Contribution': percentage_contributions\n",
    "})\n",
    "\n",
    "contrib_df\n"
   ]
  },
  {
   "cell_type": "code",
   "execution_count": 26,
   "metadata": {},
   "outputs": [
    {
     "data": {
      "text/html": [
       "<div>\n",
       "<style scoped>\n",
       "    .dataframe tbody tr th:only-of-type {\n",
       "        vertical-align: middle;\n",
       "    }\n",
       "\n",
       "    .dataframe tbody tr th {\n",
       "        vertical-align: top;\n",
       "    }\n",
       "\n",
       "    .dataframe thead th {\n",
       "        text-align: right;\n",
       "    }\n",
       "</style>\n",
       "<table border=\"1\" class=\"dataframe\">\n",
       "  <thead>\n",
       "    <tr style=\"text-align: right;\">\n",
       "      <th></th>\n",
       "      <th>Predictor</th>\n",
       "      <th>Percentage Contribution</th>\n",
       "    </tr>\n",
       "  </thead>\n",
       "  <tbody>\n",
       "    <tr>\n",
       "      <th>1</th>\n",
       "      <td>mc_max</td>\n",
       "      <td>2.034970</td>\n",
       "    </tr>\n",
       "    <tr>\n",
       "      <th>2</th>\n",
       "      <td>mc_mean</td>\n",
       "      <td>20.921257</td>\n",
       "    </tr>\n",
       "    <tr>\n",
       "      <th>3</th>\n",
       "      <td>mc_std_dev</td>\n",
       "      <td>2.215876</td>\n",
       "    </tr>\n",
       "    <tr>\n",
       "      <th>8</th>\n",
       "      <td>wf_std_dev</td>\n",
       "      <td>2.035587</td>\n",
       "    </tr>\n",
       "  </tbody>\n",
       "</table>\n",
       "</div>"
      ],
      "text/plain": [
       "    Predictor  Percentage Contribution\n",
       "1      mc_max                 2.034970\n",
       "2     mc_mean                20.921257\n",
       "3  mc_std_dev                 2.215876\n",
       "8  wf_std_dev                 2.035587"
      ]
     },
     "execution_count": 26,
     "metadata": {},
     "output_type": "execute_result"
    }
   ],
   "source": [
    "contrib_df.loc[np.where(contrib_df['Percentage Contribution']>2)]"
   ]
  },
  {
   "cell_type": "markdown",
   "metadata": {},
   "source": [
    "## Linear Distance Analysis - OLS\n"
   ]
  },
  {
   "cell_type": "markdown",
   "metadata": {},
   "source": [
    "### Calculate statistics of timed train and test data"
   ]
  },
  {
   "cell_type": "code",
   "execution_count": 11,
   "metadata": {},
   "outputs": [],
   "source": [
    "def calc_val(X):\n",
    "    return np.ravel([np.min(X),np.max(X),np.mean(X),np.std(X),kurtosis(X)])\n",
    "#     return np.ravel([np.min(X),np.max(X),np.mean(X),np.std(X),np.median(X),stats.mode(X[0])[0][0]])\n",
    "column_names=['mc_min','mc_max','mc_mean','mc_std_dev','mc_k',\n",
    "             'wf_min','wf_max','wf_mean','wf_std_dev','wf_k',\n",
    "             'wd_min','wd_max','wd_mean','wd_std_dev','wd_k',\n",
    "             'ma_min','ma_max','ma_mean','ma_std_dev','ma_k',\n",
    "             'st_min','st_max','st_mean','st_std_dev','st_k']\n",
    "\n",
    "## Done separately because Forest dataset has two classes\n",
    "## Training set\n",
    "traindf=pd.DataFrame(columns = column_names)\n",
    "c1=[]\n",
    "for i in range(len(Xtrain)):\n",
    "    if(np.size(Xtrain[i])==0):\n",
    "        c1.append(i)\n",
    "        continue\n",
    "    else:\n",
    "        X=[]\n",
    "        for j in range(len(Xtrain[i])):\n",
    "            X.append(calc_val(Xtrain[i][j]))\n",
    "        traindf.loc[i]=np.ravel(X)\n"
   ]
  },
  {
   "cell_type": "code",
   "execution_count": 12,
   "metadata": {},
   "outputs": [],
   "source": [
    "traindf['distance']=np.delete(D_train, c1)\n",
    "traindf['mean_whiff_time'] = np.delete(mean_time_train, c1)\n",
    "traindf['nwhiffs'] = np.delete(Nrows_train, c1)\n",
    "# traindf['mean_concentration_continuous'] = np.delete(MCTrain, c1)\n"
   ]
  },
  {
   "cell_type": "code",
   "execution_count": 56,
   "metadata": {},
   "outputs": [],
   "source": [
    "# traindf.to_hdf(dir+'Desert/WindyTrainDf.h5', key='combtest', mode='w')"
   ]
  },
  {
   "cell_type": "markdown",
   "metadata": {},
   "source": [
    "### $AIC$ and $R^2$"
   ]
  },
  {
   "cell_type": "code",
   "execution_count": 18,
   "metadata": {},
   "outputs": [],
   "source": [
    "# df1 = pd.read_hdf(dir+'R2_AIC/TimeTest/all_Rsquared_1.h5')\n",
    "# df2 = pd.read_hdf(dir+'R2_AIC/TimeTest/all_Rsquared_3.h5')\n",
    "# df3 = pd.read_hdf(dir+'R2_AIC/TimeTest/all_Rsquared_5.h5')\n",
    "# df4 = pd.read_hdf(dir+'R2_AIC/TimeTest/all_Rsquared_10.h5')\n",
    "# df5 = pd.read_hdf(dir+'R2_AIC/TimeTest/all_Rsquared_20.h5')\n",
    "# df = pd.read_hdf(dir+'R2_AIC/TimeTest/hws_Rsquared_6v.h5')\n",
    "df = pd.read_hdf(dir+'R2_AIC/all_Rsquared.h5')\n",
    "\n",
    "# aic = pd.read_hdf(dir+'Windy/Desert_Aic.h5')"
   ]
  },
  {
   "cell_type": "code",
   "execution_count": 19,
   "metadata": {},
   "outputs": [
    {
     "data": {
      "text/plain": [
       "Text(2, 0.1, '$R^2$=0.05')"
      ]
     },
     "execution_count": 19,
     "metadata": {},
     "output_type": "execute_result"
    },
    {
     "data": {
      "image/png": "[encoded data removed]",
      "text/plain": [
       "<Figure size 576x360 with 1 Axes>"
      ]
     },
     "metadata": {},
     "output_type": "display_data"
    }
   ],
   "source": [
    "f,ax=plt.subplots(1,1,figsize=(8,5))\n",
    "# sns.stripplot(data=df1, ax=ax, dodge=True, size=3, color='Black',label='LT=1sec',rasterized=True)\n",
    "# sns.stripplot(data=df2, ax=ax, dodge=True, size=3, color='Green',label='LT=3sec',rasterized=True)\n",
    "# sns.stripplot(data=df3, ax=ax, dodge=True, size=3, color='Blue',label='LT=5sec',rasterized=True)\n",
    "# sns.stripplot(data=df4, ax=ax, dodge=True, size=3, color='Red',label='LT=10sec',rasterized=True)\n",
    "sns.stripplot(data=df, ax=ax, dodge=True, size=3, color='Purple',label='LT=20sec',rasterized=True)\n",
    "ax.grid(False)\n",
    "label=['min(mc)','max(mc)','$\\mu(mc)$','$\\sigma(mc)$', '$mc_k$',\n",
    "      'min(wf)','max(wf)','$\\mu(wf)$','$\\sigma(wf)$', '$wf_k$',\n",
    "      'min(wd)','max(wd)','$\\mu(wd)$','$\\sigma(wd)$', '$wd_k$',\n",
    "      'min(ma)','max(ma)','$\\mu(ma)$','$\\sigma(ma)$', '$ma_k$',\n",
    "      'min(st)','max(st)','$\\mu(st)$','$\\sigma(st)$', '$st_k$']\n",
    "# ax.legend(loc='center left', bbox_to_anchor=(1, 0.5))\n",
    "ax.axhline(0.04, color = 'red', alpha=0.5)\n",
    "ax.set_ylabel('$R^2$',c='blue')\n",
    "\n",
    "mpl_functions.adjust_spines(ax,['left','bottom'],\n",
    "                            spine_locations={'left': 5}, \n",
    "                            smart_bounds=True,                            \n",
    "                            yticks=[0,0.7],\n",
    "                            linewidth=0.5)\n",
    "ax.set_xticklabels(label, rotation=90)\n",
    "# ax.set_title('Bootstrapped $R^2$ Desert')\n",
    "ax.set_title('Threshold = 6V\\n Model-HWS')\n",
    "\n",
    "f.tight_layout(pad=1)\n",
    "figurefirst.mpl_functions.set_fontsize(f, 16)\n",
    "ax.text(2,0.1,'$R^2$=0.05',color='black',fontsize='14',c='blue')\n",
    "# f.savefig('../../Figure/community6vhws.jpeg', dpi=300, bbox_inches = \"tight\")"
   ]
  },
  {
   "cell_type": "code",
   "execution_count": 20,
   "metadata": {},
   "outputs": [
    {
     "data": {
      "text/plain": [
       "['mc_min',\n",
       " 'mc_max',\n",
       " 'mc_mean',\n",
       " 'mc_std_dev',\n",
       " 'wf_k',\n",
       " 'wd_max',\n",
       " 'wd_mean',\n",
       " 'wd_std_dev',\n",
       " 'wd_k',\n",
       " 'ma_max',\n",
       " 'ma_std_dev',\n",
       " 'st_max',\n",
       " 'st_mean',\n",
       " 'st_std_dev']"
      ]
     },
     "execution_count": 20,
     "metadata": {},
     "output_type": "execute_result"
    }
   ],
   "source": [
    "col_name=[]\n",
    "for i in range(len(df.columns)):\n",
    "    if (df.iloc[:,i].max() >= 0.05):\n",
    "        col_name.append(df.columns[i])\n",
    "        \n",
    "col_name"
   ]
  },
  {
   "cell_type": "code",
   "execution_count": 21,
   "metadata": {},
   "outputs": [],
   "source": [
    "import itertools\n",
    "column_names=col_name\n",
    "rsquaredres=[]\n",
    "aicres=[]\n",
    "para_list = []\n",
    "# pval=[]\n",
    "# bicres=[]\n",
    "\n",
    "for i in range(1,10):\n",
    "    sub_parameter_list = list(itertools.combinations(column_names,i))\n",
    "  \n",
    "    for elements in sub_parameter_list:\n",
    "        para_list.append(elements)\n",
    "        y=traindf.distance\n",
    "        x = sm.add_constant(traindf.loc[traindf.distance.notnull(), elements].values)\n",
    "        olsmod = sm.OLS(y, x)\n",
    "        olsres = olsmod.fit()\n",
    "        rsquaredres.append(olsres.rsquared)\n",
    "        aicres.append(olsres.aic)\n",
    "#         pval.append(olsres.f_pvalue)\n",
    "#         bicres.append(olsres.bic)\n",
    "        \n",
    "combtest=pd.DataFrame()\n",
    "combtest['rsquared']=rsquaredres\n",
    "combtest['aic']=aicres\n",
    "combtest['parameters']=para_list\n",
    "# combtest['fpvalue']=pval\n",
    "# combtest['bic']=bicres\n",
    "\n",
    "\n",
    "combtest['n_para']=np.zeros(len(combtest))\n",
    "for i in range(len(combtest)):\n",
    "    combtest.n_para[i]=len(combtest.parameters[i])"
   ]
  },
  {
   "cell_type": "code",
   "execution_count": 23,
   "metadata": {},
   "outputs": [
    {
     "name": "stderr",
     "output_type": "stream",
     "text": [
      "/tmp/ipykernel_39096/2901401479.py:1: PerformanceWarning: \n",
      "your performance may suffer as PyTables will pickle object types that it cannot\n",
      "map directly to c-types [inferred_type->mixed,key->block1_values] [items->Index(['parameters'], dtype='object')]\n",
      "\n",
      "  combtest.to_hdf(dir+'R2_AIC/R2_AllRsquaredAicCombinations.h5', key='combtest', mode='w')\n"
     ]
    }
   ],
   "source": [
    "combtest.to_hdf(dir+'R2_AIC/R2_AllRsquaredAicCombinations.h5', key='combtest', mode='w')\n",
    "# combtest.loc[(np.where(combtest.n_para==1))].sort_values(by=['aic'],ascending=True)"
   ]
  },
  {
   "cell_type": "code",
   "execution_count": 24,
   "metadata": {},
   "outputs": [
    {
     "data": {
      "text/html": [
       "<div>\n",
       "<style scoped>\n",
       "    .dataframe tbody tr th:only-of-type {\n",
       "        vertical-align: middle;\n",
       "    }\n",
       "\n",
       "    .dataframe tbody tr th {\n",
       "        vertical-align: top;\n",
       "    }\n",
       "\n",
       "    .dataframe thead th {\n",
       "        text-align: right;\n",
       "    }\n",
       "</style>\n",
       "<table border=\"1\" class=\"dataframe\">\n",
       "  <thead>\n",
       "    <tr style=\"text-align: right;\">\n",
       "      <th></th>\n",
       "      <th>aic_min</th>\n",
       "      <th>aic_delta</th>\n",
       "    </tr>\n",
       "  </thead>\n",
       "  <tbody>\n",
       "    <tr>\n",
       "      <th>0</th>\n",
       "      <td>10726.214462</td>\n",
       "      <td>0.000000</td>\n",
       "    </tr>\n",
       "    <tr>\n",
       "      <th>1</th>\n",
       "      <td>10655.888392</td>\n",
       "      <td>-70.326070</td>\n",
       "    </tr>\n",
       "    <tr>\n",
       "      <th>2</th>\n",
       "      <td>10631.153469</td>\n",
       "      <td>-24.734924</td>\n",
       "    </tr>\n",
       "    <tr>\n",
       "      <th>3</th>\n",
       "      <td>10594.504445</td>\n",
       "      <td>-36.649023</td>\n",
       "    </tr>\n",
       "    <tr>\n",
       "      <th>4</th>\n",
       "      <td>10575.051043</td>\n",
       "      <td>-19.453402</td>\n",
       "    </tr>\n",
       "    <tr>\n",
       "      <th>5</th>\n",
       "      <td>10557.273957</td>\n",
       "      <td>-17.777086</td>\n",
       "    </tr>\n",
       "    <tr>\n",
       "      <th>6</th>\n",
       "      <td>10532.499716</td>\n",
       "      <td>-24.774241</td>\n",
       "    </tr>\n",
       "    <tr>\n",
       "      <th>7</th>\n",
       "      <td>10529.417901</td>\n",
       "      <td>-3.081815</td>\n",
       "    </tr>\n",
       "    <tr>\n",
       "      <th>8</th>\n",
       "      <td>10524.601633</td>\n",
       "      <td>-4.816268</td>\n",
       "    </tr>\n",
       "  </tbody>\n",
       "</table>\n",
       "</div>"
      ],
      "text/plain": [
       "        aic_min  aic_delta\n",
       "0  10726.214462   0.000000\n",
       "1  10655.888392 -70.326070\n",
       "2  10631.153469 -24.734924\n",
       "3  10594.504445 -36.649023\n",
       "4  10575.051043 -19.453402\n",
       "5  10557.273957 -17.777086\n",
       "6  10532.499716 -24.774241\n",
       "7  10529.417901  -3.081815\n",
       "8  10524.601633  -4.816268"
      ]
     },
     "execution_count": 24,
     "metadata": {},
     "output_type": "execute_result"
    }
   ],
   "source": [
    "aic_min=[]\n",
    "for i in range(1,int(combtest.n_para.max()+1)):\n",
    "    aic_min.append(np.min(combtest.aic.iloc[(np.where(combtest.n_para==i))]))\n",
    "\n",
    "aic_delta=[]\n",
    "for i in range(len(aic_min)):\n",
    "    if i ==0:\n",
    "        aic_delta.append(0)\n",
    "    else:\n",
    "        aic_delta.append(aic_min[i]-aic_min[i-1])\n",
    "        \n",
    "aic_table=pd.DataFrame()\n",
    "aic_table['aic_min'] = aic_min\n",
    "aic_table['aic_delta']=aic_delta\n",
    "aic_table"
   ]
  },
  {
   "cell_type": "code",
   "execution_count": 25,
   "metadata": {},
   "outputs": [],
   "source": [
    "aic_table.to_hdf(dir+'R2_AIC/All_AicDeltaTab.h5', key='aic_table', mode='w')"
   ]
  },
  {
   "cell_type": "code",
   "execution_count": 131,
   "metadata": {
    "scrolled": true
   },
   "outputs": [
    {
     "name": "stdout",
     "output_type": "stream",
     "text": [
      "('mc_mean',)\n",
      "('mc_mean', 'ma_std_dev')\n",
      "('mc_mean', 'ma_max', 'ma_std_dev')\n",
      "('mc_mean', 'wd_std_dev', 'ma_max', 'ma_std_dev')\n",
      "('mc_max', 'mc_mean', 'wd_std_dev', 'ma_max', 'ma_std_dev')\n",
      "('mc_min', 'mc_max', 'mc_mean', 'wd_std_dev', 'ma_max', 'ma_std_dev')\n",
      "('mc_min', 'mc_max', 'mc_mean', 'mc_k', 'wd_std_dev', 'ma_max', 'ma_std_dev')\n",
      "('mc_min', 'mc_max', 'mc_mean', 'mc_k', 'wd_std_dev', 'ma_max', 'ma_mean', 'ma_std_dev')\n"
     ]
    }
   ],
   "source": [
    "for i in range(1,len(aic_table)):\n",
    "#     print(i)\n",
    "    print(*(combtest.parameters[combtest.aic==(combtest.aic.loc[(np.where(combtest.n_para==i))]).min()]))"
   ]
  },
  {
   "cell_type": "code",
   "execution_count": null,
   "metadata": {},
   "outputs": [],
   "source": []
  },
  {
   "cell_type": "code",
   "execution_count": 17,
   "metadata": {},
   "outputs": [
    {
     "data": {
      "image/png": "[encoded data removed]",
      "text/plain": [
       "<Figure size 864x432 with 2 Axes>"
      ]
     },
     "metadata": {},
     "output_type": "display_data"
    }
   ],
   "source": [
    "f,(ax,ax1)=plt.subplots(1,2,figsize=(12,6))\n",
    "ax.grid(False)\n",
    "ax.set_ylabel('$R^2$')\n",
    "sns.stripplot(x=combtest.n_para,y=combtest.rsquared,data=combtest, \n",
    "              ax=ax, color='black',\n",
    "              dodge=True, size=5)\n",
    "\n",
    "ax.set_ylabel('$R^2$')\n",
    "ax.set_xlabel('# Parameters')\n",
    "ax.set_xticklabels(np.arange(1,len(aic_table)+1,1),rotation=90)\n",
    "# ax.set_title('$R^2$')\n",
    "\n",
    "sns.stripplot(x=combtest.n_para,y=combtest.aic, data=combtest, color='black',\n",
    "              ax=ax1,dodge=True, size=5)\n",
    "ax1.set_xlabel('# Parameters')\n",
    "ax1.set_ylabel('$AIC$')\n",
    "ax1.grid(False)p.ma.log2(probs)).sum()\n",
    "​\n",
    "    return info\n",
    "​\n",
    "mutual_info(traindf.mc_mean,traindf.wd_mean)\n",
    "/tmp/ipykernel_136646/267784704.py:13: RuntimeWarning: invalid value encountered in true_divide\n",
    "  probs = joint_prob / (np.reshape(probs_x, [-1, 1]) * probs_y)\n",
    "Out[23]:\n",
    "8.442297294007197\n",
    "\n",
    "ax1.scatter(np.arange(0,len(aic_table),1),aic_min,c='red', marker='o', facecolor=None,s=100)\n",
    "ax1.plot(np.arange(0,len(aic_table),1),aic_min,c='red',alpha=0.2)\n",
    "\n",
    "ax1.set_xticklabels(np.arange(1,len(aic_table)+1,1),rotation=90)\n",
    "\n",
    "f.tight_layout(pad=3)\n",
    "f.suptitle('$R^2$ and AIC for HWS')\n",
    "figurefirst.mpl_functions.set_fontsize(f, 18)\n",
    "# f.savefig('../../Figure/R2_AIC_Comb_RM.jpeg', dpi=300, bbox_inches = \"tight\")"
   ]
  },
  {
   "cell_type": "code",
   "execution_count": 49,
   "metadata": {},
   "outputs": [],
   "source": [
    "# model=smf.ols(formula=\"\"\" mc_mean ~ wf_std_dev\"\"\", data=traindf).fit()\n",
    "# print(model.summary())"
   ]
  },
  {
   "cell_type": "code",
   "execution_count": 111,
   "metadata": {},
   "outputs": [
    {
     "name": "stderr",
     "output_type": "stream",
     "text": [
      "/tmp/ipykernel_125700/3156853093.py:19: MatplotlibDeprecationWarning: Auto-removal of grids by pcolor() and pcolormesh() is deprecated since 3.5 and will be removed two minor releases later; please call grid(False) first.\n",
      "  cbar=f.colorbar(var1, cax=cax, orientation = 'vertical',ticks=[5,50])\n"
     ]
    },
    {
     "data": {
      "image/png": "[encoded data removed]",
      "text/plain": [
       "<Figure size 396x360 with 2 Axes>"
      ]
     },
     "metadata": {},
     "output_type": "display_data"
    }
   ],
   "source": [
    "f,ax=plt.subplots(1,1,figsize=(5.5,5))\n",
    "ax.grid(False)\n",
    "dat=traindf\n",
    "v1=dat.mc_mean\n",
    "v2=dat.st_mean\n",
    "v3=dat.distance\n",
    "var1 = ax.scatter(v1,v2, c=v3)\n",
    "\n",
    "ax.set_title('Desert Model')\n",
    "g1 = sns.regplot(x=v1,y=v2 , data=dat,\n",
    "            ax=ax, line_kws={'color':'green','linewidth':1}, scatter=False, truncate=False)\n",
    "g1.set(xlabel=None, ylabel=None)\n",
    "\n",
    "ax.set_xlabel('MC Mean')\n",
    "ax.set_ylabel('MA Max')\n",
    "\n",
    "divider = make_axes_locatable(ax)\n",
    "cax = divider.append_axes('right', size='5%', pad=0.08)\n",
    "cbar=f.colorbar(var1, cax=cax, orientation = 'vertical',ticks=[5,50])\n",
    "cbar.solids.set(alpha=1)\n",
    "cbar.ax.set_ylabel('Distance', rotation=90, labelpad=0)\n",
    "# f.suptitle('$R^2$ and AIC for Desert')\n",
    "figurefirst.mpl_functions.set_fontsize(f, 16)\n",
    "# ax.text(4.5,10,'$R^2=0.027',color='blue',fontsize=10)\n",
    "f.tight_layout(pad=1)\n",
    "\n",
    "# f.savefig('../../Figure/MC_stmean.jpeg', dpi=300, bbox_inches = \"tight\")"
   ]
  },
  {
   "cell_type": "markdown",
   "metadata": {},
   "source": [
    "### Low pass filtering\n"
   ]
  },
  {
   "cell_type": "code",
   "execution_count": 6,
   "metadata": {},
   "outputs": [
    {
     "data": {
      "text/plain": [
       "764"
      ]
     },
     "execution_count": 6,
     "metadata": {},
     "output_type": "execute_result"
    }
   ],
   "source": [
    "x = pd.read_hdf('~/DataAnalysis/data/Sprints/'+'LpfAnalysis/desert_1.0.h5')\n",
    "len(x)"
   ]
  },
  {
   "cell_type": "code",
   "execution_count": null,
   "metadata": {},
   "outputs": [],
   "source": [
    "cutoff=np.array([0.1,0.2,0.5,1,2,4,6,8,10,15,20,40,50,60,70,80,90])\n",
    "lookback_time = 10\n",
    "rs=[]\n",
    "for i in range(len(cutoff)):\n",
    "    desert = pd.concat([fdf_notwindy,fdf_windy])\n",
    "    desert.reset_index(inplace=True, drop=True)\n",
    "    trainset= low_pass_filter(desert,cutoff[i]) \n",
    "    # testset = fdf_forest\n",
    "\n",
    "    D_train=[]\n",
    "    D_test=[]\n",
    "    mean_time_train=[]\n",
    "    mean_time_test=[]\n",
    "    Xtest = []\n",
    "    ytest = []\n",
    "    Xtrain = []\n",
    "    ytrain = []\n",
    "    Nrows_train = []\n",
    "    Nrows_test = []\n",
    "\n",
    "\n",
    "    for distance_class in [0,1,2]:\n",
    "        Xtrain, ytrain, D_train,Nrows_train,mean_time_train = gather_stat_timed(trainset,\n",
    "                                                                                        distance_class,\n",
    "                          lookback_time, Xtrain,ytrain,D_train,Nrows_train,\n",
    "                          mean_time_train)\n",
    "\n",
    "    def calc_val(X):\n",
    "        return np.ravel([np.min(X),np.max(X),np.mean(X),np.std(X),kurtosis(X)])\n",
    "    #     return np.ravel([np.min(X),np.max(X),np.mean(X),np.std(X),np.median(X),stats.mode(X[0])[0][0]])\n",
    "    column_names=['mc_min','mc_max','mc_mean','mc_std_dev','mc_k',\n",
    "                 'wf_min','wf_max','wf_mean','wf_std_dev','wf_k',\n",
    "                 'wd_min','wd_max','wd_mean','wd_std_dev','wd_k',\n",
    "                 'ma_min','ma_max','ma_mean','ma_std_dev','ma_k',\n",
    "                 'st_min','st_max','st_mean','st_std_dev','st_k']\n",
    "\n",
    "    ## Done separately because Forest dataset has two classes\n",
    "    ## Training set\n",
    "    traindf=pd.DataFrame(columns = column_names)\n",
    "    c1=[]\n",
    "    for i in range(len(Xtrain)):\n",
    "        if(np.size(Xtrain[i])==0):\n",
    "            c1.append(i)\n",
    "            continue\n",
    "        else:\n",
    "            X=[]\n",
    "            for j in range(len(Xtrain[i])):\n",
    "                X.append(calc_val(Xtrain[i][j]))\n",
    "            traindf.loc[i]=np.ravel(X)\n",
    "\n",
    "    traindf['distance']=np.delete(D_train, c1)\n",
    "    traindf['mean_whiff_time'] = np.delete(mean_time_train, c1)\n",
    "    traindf['nwhiffs'] = np.delete(Nrows_train, c1)\n",
    "\n",
    "\n",
    "\n",
    "    distance=smf.ols(formula=\"\"\" distance ~ mc_min+mc_max+mc_mean+mc_std_dev+mc_k+\n",
    "    wf_min+wf_max+wf_mean+wf_std_dev+wf_k+ wd_min+wd_max+wd_mean+wd_std_dev+wd_k+\n",
    "    ma_min+ma_max+ma_mean+ma_std_dev+ma_k+ st_min+st_max+st_mean+st_std_dev+st_k+nwhiffs\"\"\", data=traindf).fit()\n",
    "\n",
    "    rs.append(distance.f_pvalue)\n",
    "\n"
   ]
  },
  {
   "cell_type": "code",
   "execution_count": 10,
   "metadata": {},
   "outputs": [
    {
     "data": {
      "image/png": "[encoded data removed]",
      "text/plain": [
       "<Figure size 864x288 with 1 Axes>"
      ]
     },
     "metadata": {},
     "output_type": "display_data"
    }
   ],
   "source": [
    "# cutoff=np.array([0.1,0.2,0.5,1,2,4,6,8,10,15,20,40,50,60,70,80,90])\n",
    "# rsq=rs\n",
    "# rsq=np.array([0.6203130980463978,0.3745363995992592,0.327073395020676, 0.2814948909942232,0.24205416850966,\n",
    "#              0.38348641665523975,0.38348641665523975,0.4064829597057922,0.45311169229618875,\n",
    "#              0.4826627957203161,0.5635516377812952, 0.5769321356148331,0.6394535507195294,\n",
    "#              0.6611420518231501,0.6602473760004987,0.7008459671212011,0.682043273913716])\n",
    "\n",
    "rsq=np.array([0.24205416850966,\n",
    "             0.38348641665523975,0.38348641665523975,0.4064829597057922,0.45311169229618875,\n",
    "             0.4826627957203161,0.5635516377812952, 0.5769321356148331,0.6394535507195294,\n",
    "             0.6611420518231501,0.6602473760004987,0.7008459671212011,0.682043273913716])\n",
    "rsq1=np.array([0.6203130980463978,0.3745363995992592,0.327073395020676, 0.2814948909942232,\n",
    "              0.24205416850966])\n",
    "cutoff=np.array([2,4,6,8,10,15,20,40,50,60,70,80,90])\n",
    "cutoff1=np.array([0.1,0.2,0.5,1,2])\n",
    "f,ax=plt.subplots(1,1,figsize=(12,4))\n",
    "ax.plot(cutoff,rsq)\n",
    "# ax.plot(cutoff1,rsq1,'--',c='b')\n",
    "ax.scatter(cutoff,rsq,c='orange')\n",
    "# ax.scatter(cutoff1,rsq1,c='orange')\n",
    "ax.grid(False)\n",
    "ax.set_xlabel('Cutoff Frequency (Hz)')\n",
    "ax.set_ylabel('$R^2$')\n",
    "ax.set_xlim(1.6,)\n",
    "\n",
    "mpl_functions.adjust_spines(ax,['left','bottom'],\n",
    "                            spine_locations={}, \n",
    "                            smart_bounds=True,\n",
    "                            xticks=[2,4,6,8,10,15,20,40,50,60,70,80,90],\n",
    "#                             yticks = [-0.01,0.01],\n",
    "                            linewidth=1)\n",
    "\n",
    "plt.xticks(rotation=90)\n",
    "ax.set_title('Low Pass Filtering - Desert')\n",
    "f.tight_layout(pad=1)\n",
    "figurefirst.mpl_functions.set_fontsize(f, 18)\n",
    "f.savefig('../../Figure/LPF_OnCont.jpeg', dpi=300, bbox_inches = \"tight\")"
   ]
  },
  {
   "cell_type": "markdown",
   "metadata": {},
   "source": [
    "### Code for generating R2 vs LT plots "
   ]
  },
  {
   "cell_type": "code",
   "execution_count": null,
   "metadata": {},
   "outputs": [],
   "source": [
    "t=[0.5,1,2,3,4,5,8,10,20]\n",
    "r =[]\n",
    "\n",
    "def calc_val(X):\n",
    "    return np.ravel([np.min(X),np.max(X),np.mean(X),np.std(X),kurtosis(X)])\n",
    "\n",
    "column_names=['mc_min','mc_max','mc_mean','mc_std_dev','mc_k',\n",
    "             'wf_min','wf_max','wf_mean','wf_std_dev','wf_k',\n",
    "             'wd_min','wd_max','wd_mean','wd_std_dev','wd_k',\n",
    "             'ma_min','ma_max','ma_mean','ma_std_dev','ma_k',\n",
    "             'st_min','st_max','st_mean','st_std_dev','st_k']\n",
    "\n",
    "desert = pd.concat([fdf_notwindy,fdf_windy, fdf_forest])\n",
    "desert.reset_index(inplace=True, drop=True)\n",
    "trainset= desert \n",
    "\n",
    "for i in range(len(t)):\n",
    "\n",
    "    lookback_time = t[i]\n",
    "\n",
    "  \n",
    "    D_train=[]\n",
    "    D_test=[]\n",
    "    mean_time_train=[]\n",
    "    mean_time_test=[]\n",
    "    Xtest = []\n",
    "    ytest = []\n",
    "    Xtrain = []\n",
    "    ytrain = []\n",
    "    Nrows_train = []\n",
    "    Nrows_test = []\n",
    "\n",
    "    for distance_class in [0,1,2]:\n",
    "        Xtrain, ytrain, D_train,Nrows_train,mean_time_train = gather_stat_timed(trainset,distance_class,\n",
    "                          lookback_time, Xtrain,ytrain,D_train,Nrows_train,\n",
    "                          mean_time_train)\n",
    "\n",
    "     \n",
    "    traindf=pd.DataFrame(columns = column_names)\n",
    "    c1=[]\n",
    "    for i in range(len(Xtrain)):\n",
    "        if(np.size(Xtrain[i])==0):\n",
    "            c1.append(i)\n",
    "            continue\n",
    "        else:\n",
    "            X=[]\n",
    "            for j in range(len(Xtrain[i])):\n",
    "                X.append(calc_val(Xtrain[i][j]))\n",
    "            traindf.loc[i]=np.ravel(X)\n",
    "\n",
    "    traindf['distance']=np.delete(D_train, c1)\n",
    "    traindf['mean_whiff_time'] = np.delete(mean_time_train, c1)\n",
    "    traindf['nwhiffs'] = np.delete(Nrows_train, c1)\n",
    "    \n",
    "    distance=smf.ols(formula=\"\"\" distance ~ mc_min+mc_max+mc_mean+mc_std_dev+mc_k+\n",
    "    wf_min+wf_max+wf_mean+wf_std_dev+wf_k+ wd_min+wd_max+wd_mean+wd_std_dev+wd_k+\n",
    "    ma_min+ma_max+ma_mean+ma_std_dev+ma_k+ st_min+st_max+st_mean+st_std_dev+st_k+nwhiffs\"\"\", data=traindf).fit()\n",
    "\n",
    "    r.append(distance.rsquared)"
   ]
  },
  {
   "cell_type": "code",
   "execution_count": null,
   "metadata": {},
   "outputs": [],
   "source": [
    "# def get_timed_rows_cont(same_time_location,dataframe_cont,duration_of_encounters):\n",
    "#     y=dataframe_cont.iloc[same_time_location]\n",
    "#     A = y.time.round(0) - duration_of_encounters\n",
    "#     B = y.time.round(0)\n",
    "#     timed_rows_cont = dataframe_cont.loc[(dataframe_cont.time > A) & (dataframe_cont.time < B)]\n",
    "     \n",
    "#     return np.mean(timed_rows_cont.odor)\n",
    "\n",
    "# def get_timed_rows(dataframe,dataframe_cont,duration_of_encounters):\n",
    "#     x = dataframe.sample(1)\n",
    "#     A = x.mean_time.values.round(0) - duration_of_encounters\n",
    "#     B = x.mean_time.values.round(0)\n",
    "\n",
    "#     if (np.where(dataframe_cont.time.round(0)==B[0])[0].size == 0):\n",
    "#         #find index of closest value in continuous data frame\n",
    "#         same_time_location = dataframe_cont.iloc[(dataframe_cont['time']-B[0]).abs().argsort()[:1]].index[0]     \n",
    "#     else:\n",
    "#         same_time_location = np.where(dataframe_cont.time.round(0) == B[0])[0][0]\n",
    "#     same_time_location = dataframe_cont.iloc[(dataframe_cont['time']-B[0]).abs().argsort()[:1]].index[0]\n",
    "#     timed_rows_odor_mean = get_timed_rows_cont(same_time_location,dataframe_cont,duration_of_encounters)\n",
    "#     timed_rows = dataframe.loc[(dataframe.mean_time > A[0]) & (dataframe.mean_time < B[0])]\n",
    "#     return timed_rows,timed_rows_odor_mean\n",
    "    \n",
    "# def get_timed_encounter_stats(dataframe,dataframe_cont, distance_class, duration_of_encounters):\n",
    "#     df_q = dataframe.query('type == ' + str(distance_class))   \n",
    "#     df_q.reset_index(inplace=True, drop=True)     \n",
    "        \n",
    "#     df_q_cont = dataframe_cont.query('type == ' + str(distance_class))   \n",
    "#     df_q_cont.reset_index(inplace=True, drop=True)     \n",
    "    \n",
    "#     Nrows,mean_conc = get_timed_rows(df_q,df_q_cont,duration_of_encounters)\n",
    "#     avg_dist = np.mean(Nrows.avg_dist_from_source)\n",
    "#     mean_time_whiff=np.mean(Nrows.mean_time)\n",
    "# #     mean_conc=np.mean(Nrows_cont.odor)\n",
    "#     pack_data=np.vstack([Nrows.mean_concentration,Nrows.mean_ef,Nrows.log_whiff,Nrows.whiff_ma,Nrows.std_whiff])\n",
    "#     return pack_data,avg_dist,len(Nrows),mean_time_whiff,mean_conc\n",
    "\n",
    "\n",
    "# def gather_stat_timed(dataframe,dataframe_cont, distance_class, duration_of_encounters,X,y,D,N,T,MC):\n",
    "#     for i in range(500):\n",
    "#         xx,dx,n,t,mc=get_timed_encounter_stats(dataframe, dataframe_cont,\n",
    "#                                                distance_class, duration_of_encounters)\n",
    "#         X.append(xx)\n",
    "#         D.append(dx)\n",
    "#         y.append(distance_class)\n",
    "#         N.append(n)\n",
    "#         T.append(t)\n",
    "#         MC.append(mc)\n",
    "\n",
    "#     return X,y,D,N,T,MC\n"
   ]
  }
 ],
 "metadata": {
  "kernelspec": {
   "display_name": "pymac",
   "language": "python",
   "name": "pymac"
  },
  "language_info": {
   "codemirror_mode": {
    "name": "ipython",
    "version": 3
   },
   "file_extension": ".py",
   "mimetype": "text/x-python",
   "name": "python",
   "nbconvert_exporter": "python",
   "pygments_lexer": "ipython3",
   "version": "3.8.10"
  },
  "vscode": {
   "interpreter": {
    "hash": "916dbcbb3f70747c44a77c7bcd40155683ae19c65e1c03b4aa3499c5328201f1"
   }
  }
 },
 "nbformat": 4,
 "nbformat_minor": 2
}
